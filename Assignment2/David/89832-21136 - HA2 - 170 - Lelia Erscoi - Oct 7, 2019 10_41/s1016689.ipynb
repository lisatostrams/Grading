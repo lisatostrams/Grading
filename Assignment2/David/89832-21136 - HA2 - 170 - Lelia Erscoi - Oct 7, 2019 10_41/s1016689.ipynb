{
 "cells": [
  {
   "cell_type": "markdown",
   "metadata": {},
   "source": [
    "# Assignment 2\n",
    "\n",
    "## Objective of this assignment\n",
    "The objective of this assignment is to get an understanding of the many ways data can be visualized. Upon completing this exercise you should be familiar with histograms, boxplots and scatter plots.\n",
    "\n",
    "\n",
    "## ** Important: ** When handing in your homework:\n",
    "+ Hand in the notebook **and nothing else** named as follows: StudentName1_snumber_StudentName2_snumber.ipynb\n",
    "+ **From this week on, we will deduct a point if you zip/tar/archive the notebook, especially if you include the data folder!** \n",
    "+ Provide clear and complete answers to the questions below under a separate header (not hidden somewhere in your source code), and make sure to explain your answers / motivate your choices. Add Markdown cells where necessary.\n",
    "+ Source code, output graphs, derivations, etc., should be included in the notebook.\n",
    "+ Hand-in: upload to Brightspace.\n",
    "+ Include name, student number, assignment (especially in filenames)!\n",
    "+ When working in pairs only one of you should upload the assignment, and report the name of your partner in your filename.\n",
    "+ Use the Brightspace discussion board or email the student assistants for questions on how to complete the exercises.\n",
    "+ If you find mistakes/have suggestions/would like to complain about the assigment material itself, please email me [Lisa] at `l.tostrams@science.ru.nl`\n",
    "\n",
    "\n",
    "## Advised Reading and Exercise Material\n",
    "**The following reading material is recommended:**\n",
    "\n",
    "- Pang-Ning Tan, Michael Steinbach, and Vipin Kumar, *Introduction to Data Mining*, section 3.3\n",
    "- Jonathon Shlens, *A tutorial on Principal Component Analysis* , https://arxiv.org/abs/1404.1100\n",
    "\n",
    "\n",
    "## 2.1 Visualizing wine data (4.5 points)\n",
    "\n",
    "In this part of the exercise we will consider two data sets related to red and white variants of the Portuguese \"Vinho Verde\" wine[1]. The data has been downloaded from http://archive.ics.uci.edu/ml/datasets/Wine+Quality. Only physicochemical and sensory attributes are available, i.e., there is no data about grape types, wine brand, wine selling price, etc. The data has the following attributes:\n",
    "\n",
    "| #   |  Attribute      | Unit |\n",
    "| --- |:--------------- |:---- |\n",
    "| 1   | Fixed acidity (tartaric) | g/dm3 |\n",
    "| 2   | Volatile acidity (acetic) | g/dm3 |\n",
    "| 3   | Citric acid | g/dm3 |\n",
    "| 4   | Residual sugar | g/dm3 |\n",
    "| 5   | Chlorides | g/dm3 |\n",
    "| 6   | Free sulfur dioxide | mg/dm3 |\n",
    "| 7   | Total sulfur dioxide | mg/dm3 |\n",
    "| 8   | Density | g/cm3 |\n",
    "| 9   | pH | pH |\n",
    "| 10  | Sulphates | g/dm3 |\n",
    "| 11  | Alcohol | % vol. |\n",
    "| 12  | Quality score | 0-10 |\n",
    "\n",
    "Attributes 1-11 are based on physicochemical tests and attribute 12 on human judging. The data set has many observations that can be considered outliers and in order to carry out analyses it is important to remove the corrupt observations.\n",
    "\n",
    "The aim of this exercise is to use visualization to identify outliers and remove these outliers from the data. It might be necessary to remove some outliers before other outlying observations become visible. Thus, the process of finding and removing outliers is often iterative. The wine data is stored in a MATLAB file, `Data/wine.mat`\n",
    "\n",
    "*This exercise is based upon material kindly provided by the Cognitive System Section, DTU Compute,\n",
    "http://cogsys.compute.dtu.dk. Any sale or commercial distribution is strictly forbidden.*\n",
    "\n",
    "> 2.1.1a) (3pts)\n",
    "1. Load the data into Python using the `scipy.io.loadmat()` function. \n",
    "2. This data set contains many observations that can be considered outliers. Plot a box plot and a histogram for each attribute to visualize the outliers in the data set. Use subplotting to nicely visualize these plots.\n",
    "3. From prior knowledge we expect volatile acidity to be around 0-2 g/dm3, density to be close to 1 g/cm3, and alcohol percentage to be somewhere between 5-20% vol. We can safely identify the outliers for these attributes, searching for the values, which are a factor of 10 greater than the largest we expect. Identify outliers for volatile acidity, density and alcohol percentage, and remove them from the data set. This means that you should remove the entire sample from the dataset, not just for that attribute!\n",
    "4. Plot new box plots and histograms for these attributes and compare them with initial ones.\n",
    "\n",
    "> \n",
    " + *You can use the `scipy.stats.zscore()` to standardize your data before you plot a boxplot.*\n",
    " + *You can use logical indexing to easily make a new dataset (for example $X\\_filtered$, where the outliers are removed. This is much easier, and faster than methods like dropping, or selecting using a for loop or list comprehension. For more information, see: https://docs.scipy.org/doc/numpy-1.13.0/user/basics.indexing.html Take a look at the -Boolean or \"mask\" index arrays- section.*\n",
    " + *You can use the function `matplotlib.pyplot.subplots()` to plot several plots in one figure. A simple example an be found at: https://matplotlib.org/2.0.2/examples/pylab_examples/subplots_demo.html, take a look at the 2D subplot specifically. There is also an example of a subplot in the first assignment. If you're handy, you can devise a for loop which fills up the subplot area!* \n",
    " + *The object in wine.mat is a dictionary. The attributes are stored in matrix $X$. Attribute names and class names are stored in the attributeNames object, which contain arrays, of which the first element contains the names*\n",
    "\n",
    "**Make sure to take a look at the documentation of functions before you try and use them!**\n"
   ]
  },
  {
   "cell_type": "code",
   "execution_count": null,
   "metadata": {
    "scrolled": false
   },
   "outputs": [
    {
     "name": "stdout",
     "output_type": "stream",
     "text": [
      "      Col1   Col2  Col3   Col4   Col5  Col6   Col7     Col8  Col9  Col10  \\\n",
      "0      7.4  0.700  0.00   1.90  0.076  11.0   34.0  0.99780  3.51   0.56   \n",
      "1      7.8  0.880  0.00   2.60  0.098  25.0   67.0  0.99680  3.20   0.68   \n",
      "2      7.8  0.760  0.04   2.30  0.092  15.0   54.0  0.99700  3.26   0.65   \n",
      "3     11.2  0.280  0.56   1.90  0.075  17.0   60.0  0.99800  3.16   0.58   \n",
      "4      7.4  0.700  0.00   1.90  0.076  11.0   34.0  0.99780  3.51   0.56   \n",
      "5      7.4  0.660  0.00   1.80  0.075  13.0   40.0  0.99780  3.51   0.56   \n",
      "6      7.9  0.600  0.06   1.60  0.069  15.0   59.0  0.99640  3.30   0.46   \n",
      "7      7.3  0.650  0.00   1.20  0.065  15.0   21.0  0.99460  3.39   0.47   \n",
      "8      7.8  0.580  0.02   2.00  0.073   9.0   18.0  0.99680  3.36   0.57   \n",
      "9      7.5  0.500  0.36   6.10  0.071  17.0  102.0  0.99780  3.35   0.80   \n",
      "10     6.7  0.580  0.08   1.80  0.097  15.0   65.0  0.99590  3.28   0.54   \n",
      "11     7.5  0.500  0.36   6.10  0.071  17.0  102.0  0.99780  3.35   0.80   \n",
      "12     5.6  0.615  0.00   1.60  0.089  16.0   59.0  0.99430  3.58   0.52   \n",
      "13     7.8  0.610  0.29   1.60  0.114   9.0   29.0  0.99740  3.26   1.56   \n",
      "14     8.9  0.620  0.18   3.80  0.176  52.0  145.0  0.99860  3.16   0.88   \n",
      "15     8.9  0.620  0.19   3.90  0.170  51.0  148.0  0.99860  3.17   0.93   \n",
      "16     8.5  0.280  0.56   1.80  0.092  35.0  103.0  0.99690  3.30   0.75   \n",
      "17     8.1  0.560  0.28   1.70  0.368  16.0   56.0  0.99680  3.11   1.28   \n",
      "18     7.4  0.590  0.08   4.40  0.086   6.0   29.0  0.99740  3.38   0.50   \n",
      "19     7.9  0.320  0.51   1.80  0.341  17.0   56.0  0.99690  3.04   1.08   \n",
      "20     8.9  0.220  0.48   1.80  0.077  29.0   60.0  0.99680  3.39   0.53   \n",
      "21     7.6  0.390  0.31   2.30  0.082  23.0   71.0  0.99820  3.52   0.65   \n",
      "22     7.9  0.430  0.21   1.60  0.106  10.0   37.0  0.99660  3.17   0.91   \n",
      "23     8.5  0.490  0.11   2.30  0.084   9.0   67.0  0.99680  3.17   0.53   \n",
      "24     6.9  0.400  0.14   2.40  0.085  21.0   40.0  0.99680  3.43   0.63   \n",
      "25     6.3  0.390  0.16   1.40  0.080  11.0   23.0  0.99550  3.34   0.56   \n",
      "26     7.6  0.410  0.24   1.80  0.080   4.0   11.0  0.99620  3.28   0.59   \n",
      "27     7.9  0.430  0.21   1.60  0.106  10.0   37.0  0.99660  3.17   0.91   \n",
      "28     7.1  0.710  0.00   1.90  0.080  14.0   35.0  0.99720  3.47   0.55   \n",
      "29     7.8  0.645  0.00   2.00  0.082   8.0   16.0  0.99640  3.38   0.59   \n",
      "...    ...    ...   ...    ...    ...   ...    ...      ...   ...    ...   \n",
      "6467   5.8  0.230  0.31   4.50  0.046  42.0  124.0  0.99324  3.31   0.64   \n",
      "6468   6.6  0.240  0.33  10.10  0.032   8.0   81.0  0.99626  3.19   0.51   \n",
      "6469   6.1  0.320  0.28   6.60  0.021  29.0  132.0  0.99188  3.15   0.36   \n",
      "6470   5.0  0.200  0.40   1.90  0.015  20.0   98.0  0.98970  3.37   0.55   \n",
      "6471   6.0  0.420  0.41  12.40  0.032  50.0  179.0  0.99622  3.14   0.60   \n",
      "6472   5.7  0.210  0.32   1.60  0.030  33.0  122.0  0.99044  3.33   0.52   \n",
      "6473   5.6  0.200  0.36   2.50  0.048  16.0  125.0  0.99282  3.49   0.49   \n",
      "6474   7.4  0.220  0.26   1.20  0.035  18.0   97.0  0.99245  3.12   0.41   \n",
      "6475   6.2  0.380  0.42   2.50  0.038  34.0  117.0  0.99132  3.36   0.59   \n",
      "6476   5.9  0.540  0.00   0.80  0.032  12.0   82.0  0.99286  3.25   0.36   \n",
      "6477   6.2  0.530  0.02   0.90  0.035   6.0   81.0  0.99234  3.24   0.35   \n",
      "6478   6.6  0.340  0.40   8.10  0.046  68.0  170.0  0.99494  3.15   0.50   \n",
      "6479   6.6  0.340  0.40   8.10  0.046  68.0  170.0  0.99494  3.15   0.50   \n",
      "6480   5.0  0.235  0.27  11.75  0.030  34.0  118.0  0.99540  3.07   0.50   \n",
      "6481   5.5  0.320  0.13   1.30  0.037  45.0  156.0  0.99184  3.26   0.38   \n",
      "6482   4.9  0.470  0.17   1.90  0.035  60.0  148.0  0.98964  3.27   0.35   \n",
      "6483   6.5  0.330  0.38   8.30  0.048  68.0  174.0  0.99492  3.14   0.50   \n",
      "6484   6.6  0.340  0.40   8.10  0.046  68.0  170.0  0.99494  3.15   0.50   \n",
      "6485   6.2  0.210  0.28   5.70  0.028  45.0  121.0  0.99168  3.21   1.08   \n",
      "6486   6.2  0.410  0.22   1.90  0.023   5.0   56.0  0.98928  3.04   0.79   \n",
      "6487   6.8  0.220  0.36   1.20  0.052  38.0  127.0  0.99330  3.04   0.54   \n",
      "6488   4.9  0.235  0.27  11.75  0.030  34.0  118.0  0.99540  3.07   0.50   \n",
      "6489   6.1  0.340  0.29   2.20  0.036  25.0  100.0  0.98938  3.06   0.44   \n",
      "6490   5.7  0.210  0.32   0.90  0.038  38.0  121.0  0.99074  3.24   0.46   \n",
      "6491   6.5  0.230  0.38   1.30  0.032  29.0  112.0  0.99298  3.29   0.54   \n",
      "6492   6.2  0.210  0.29   1.60  0.039  24.0   92.0  0.99114  3.27   0.50   \n",
      "6493   6.6  0.320  0.36   8.00  0.047  57.0  168.0  0.99490  3.15   0.46   \n",
      "6494   6.5  0.240  0.19   1.20  0.041  30.0  111.0  0.99254  2.99   0.46   \n",
      "6495   5.5  0.290  0.30   1.10  0.022  20.0  110.0  0.98869  3.34   0.38   \n",
      "6496   6.0  0.210  0.38   0.80  0.020  22.0   98.0  0.98941  3.26   0.32   \n",
      "\n",
      "             Col11  Col12  \n",
      "0     9.400000e+00    5.0  \n",
      "1     9.800000e+00    5.0  \n",
      "2     9.800000e+00    5.0  \n",
      "3     9.800000e+00    6.0  \n",
      "4     9.400000e+00    5.0  \n",
      "5     9.400000e+00    5.0  \n",
      "6     9.400000e+00    5.0  \n",
      "7     1.000000e+01    7.0  \n",
      "8     9.500000e+00    7.0  \n",
      "9     1.050000e+01    5.0  \n",
      "10    9.200000e+00    5.0  \n",
      "11    1.050000e+01    5.0  \n",
      "12    9.900000e+00    5.0  \n",
      "13    9.100000e+00    5.0  \n",
      "14    9.200000e+00    5.0  \n",
      "15    9.200000e+00    5.0  \n",
      "16    1.050000e+01    7.0  \n",
      "17    9.300000e+00    5.0  \n",
      "18    9.000000e+00    4.0  \n",
      "19    9.200000e+00    6.0  \n",
      "20    9.400000e+00    6.0  \n",
      "21    9.700000e+00    5.0  \n",
      "22    9.500000e+00    5.0  \n",
      "23    9.400000e+00    5.0  \n",
      "24    9.700000e+00    6.0  \n",
      "25    9.300000e+00    5.0  \n",
      "26    9.500000e+00    5.0  \n",
      "27    9.500000e+00    5.0  \n",
      "28    9.400000e+00    5.0  \n",
      "29    9.800000e+00    6.0  \n",
      "...            ...    ...  \n",
      "6467  1.080000e+01    6.0  \n",
      "6468  9.800000e+00    6.0  \n",
      "6469  1.145000e+01    7.0  \n",
      "6470  1.205000e+01    6.0  \n",
      "6471  9.700000e+00    5.0  \n",
      "6472  1.190000e+01    6.0  \n",
      "6473  1.000000e+01    6.0  \n",
      "6474  9.700000e+00    6.0  \n",
      "6475  1.160000e+01    7.0  \n",
      "6476  8.800000e+00    5.0  \n",
      "6477  9.500000e+00    4.0  \n",
      "6478  9.533333e+14    6.0  \n",
      "6479  9.533333e+14    6.0  \n",
      "6480  9.400000e+00    6.0  \n",
      "6481  1.070000e+01    5.0  \n",
      "6482  1.150000e+01    6.0  \n",
      "6483  9.600000e+00    5.0  \n",
      "6484  9.550000e+00    6.0  \n",
      "6485  1.215000e+01    7.0  \n",
      "6486  1.300000e+01    7.0  \n",
      "6487  9.200000e+00    5.0  \n",
      "6488  9.400000e+00    6.0  \n",
      "6489  1.180000e+01    6.0  \n",
      "6490  1.060000e+01    6.0  \n",
      "6491  9.700000e+00    5.0  \n",
      "6492  1.120000e+01    6.0  \n",
      "6493  9.600000e+00    5.0  \n",
      "6494  9.400000e+00    6.0  \n",
      "6495  1.280000e+01    7.0  \n",
      "6496  1.180000e+01    6.0  \n",
      "\n",
      "[6497 rows x 12 columns]\n"
     ]
    },
    {
     "data": {
      "image/png": "[encoded data removed]",
      "text/plain": [
       "<Figure size 432x288 with 1 Axes>"
      ]
     },
     "metadata": {
      "needs_background": "light"
     },
     "output_type": "display_data"
    },
    {
     "data": {
      "image/png": "[encoded data removed]",
      "text/plain": [
       "<Figure size 432x288 with 1 Axes>"
      ]
     },
     "metadata": {
      "needs_background": "light"
     },
     "output_type": "display_data"
    },
    {
     "data": {
      "image/png": "[encoded data removed]",
      "text/plain": [
       "<Figure size 432x288 with 1 Axes>"
      ]
     },
     "metadata": {
      "needs_background": "light"
     },
     "output_type": "display_data"
    },
    {
     "data": {
      "image/png": "[encoded data removed]",
      "text/plain": [
       "<Figure size 432x288 with 1 Axes>"
      ]
     },
     "metadata": {
      "needs_background": "light"
     },
     "output_type": "display_data"
    },
    {
     "data": {
      "image/png": "[encoded data removed]",
      "text/plain": [
       "<Figure size 432x288 with 1 Axes>"
      ]
     },
     "metadata": {
      "needs_background": "light"
     },
     "output_type": "display_data"
    },
    {
     "data": {
      "image/png": "[encoded data removed]",
      "text/plain": [
       "<Figure size 432x288 with 1 Axes>"
      ]
     },
     "metadata": {
      "needs_background": "light"
     },
     "output_type": "display_data"
    },
    {
     "data": {
      "image/png": "[encoded data removed]",
      "text/plain": [
       "<Figure size 432x288 with 1 Axes>"
      ]
     },
     "metadata": {
      "needs_background": "light"
     },
     "output_type": "display_data"
    },
    {
     "data": {
      "image/png": "[encoded data removed]",
      "text/plain": [
       "<Figure size 432x288 with 1 Axes>"
      ]
     },
     "metadata": {
      "needs_background": "light"
     },
     "output_type": "display_data"
    },
    {
     "data": {
      "image/png": "[encoded data removed]",
      "text/plain": [
       "<Figure size 432x288 with 1 Axes>"
      ]
     },
     "metadata": {
      "needs_background": "light"
     },
     "output_type": "display_data"
    },
    {
     "data": {
      "image/png": "[encoded data removed]",
      "text/plain": [
       "<Figure size 432x288 with 1 Axes>"
      ]
     },
     "metadata": {
      "needs_background": "light"
     },
     "output_type": "display_data"
    },
    {
     "data": {
      "image/png": "[encoded data removed]",
      "text/plain": [
       "<Figure size 432x288 with 1 Axes>"
      ]
     },
     "metadata": {
      "needs_background": "light"
     },
     "output_type": "display_data"
    },
    {
     "data": {
      "image/png": "[encoded data removed]",
      "text/plain": [
       "<Figure size 432x288 with 1 Axes>"
      ]
     },
     "metadata": {
      "needs_background": "light"
     },
     "output_type": "display_data"
    },
    {
     "data": {
      "image/png": "[encoded data removed]",
      "text/plain": [
       "<Figure size 432x288 with 1 Axes>"
      ]
     },
     "metadata": {
      "needs_background": "light"
     },
     "output_type": "display_data"
    },
    {
     "data": {
      "image/png": "[encoded data removed]",
      "text/plain": [
       "<Figure size 432x288 with 1 Axes>"
      ]
     },
     "metadata": {
      "needs_background": "light"
     },
     "output_type": "display_data"
    },
    {
     "data": {
      "image/png": "[encoded data removed]",
      "text/plain": [
       "<Figure size 432x288 with 1 Axes>"
      ]
     },
     "metadata": {
      "needs_background": "light"
     },
     "output_type": "display_data"
    },
    {
     "data": {
      "image/png": "[encoded data removed]",
      "text/plain": [
       "<Figure size 432x288 with 1 Axes>"
      ]
     },
     "metadata": {
      "needs_background": "light"
     },
     "output_type": "display_data"
    },
    {
     "data": {
      "image/png": "[encoded data removed]",
      "text/plain": [
       "<Figure size 432x288 with 1 Axes>"
      ]
     },
     "metadata": {
      "needs_background": "light"
     },
     "output_type": "display_data"
    },
    {
     "data": {
      "image/png": "[encoded data removed]",
      "text/plain": [
       "<Figure size 432x288 with 1 Axes>"
      ]
     },
     "metadata": {
      "needs_background": "light"
     },
     "output_type": "display_data"
    },
    {
     "data": {
      "image/png": "[encoded data removed]",
      "text/plain": [
       "<Figure size 432x288 with 1 Axes>"
      ]
     },
     "metadata": {
      "needs_background": "light"
     },
     "output_type": "display_data"
    },
    {
     "data": {
      "image/png": "[encoded data removed]",
      "text/plain": [
       "<Figure size 432x288 with 1 Axes>"
      ]
     },
     "metadata": {
      "needs_background": "light"
     },
     "output_type": "display_data"
    },
    {
     "data": {
      "image/png": "[encoded data removed]",
      "text/plain": [
       "<Figure size 432x288 with 1 Axes>"
      ]
     },
     "metadata": {
      "needs_background": "light"
     },
     "output_type": "display_data"
    },
    {
     "data": {
      "image/png": "[encoded data removed]",
      "text/plain": [
       "<Figure size 432x288 with 1 Axes>"
      ]
     },
     "metadata": {
      "needs_background": "light"
     },
     "output_type": "display_data"
    },
    {
     "data": {
      "image/png": "[encoded data removed]",
      "text/plain": [
       "<Figure size 432x288 with 1 Axes>"
      ]
     },
     "metadata": {
      "needs_background": "light"
     },
     "output_type": "display_data"
    },
    {
     "data": {
      "image/png": "[encoded data removed]",
      "text/plain": [
       "<Figure size 432x288 with 1 Axes>"
      ]
     },
     "metadata": {
      "needs_background": "light"
     },
     "output_type": "display_data"
    },
    {
     "data": {
      "image/png": "[encoded data removed]",
      "text/plain": [
       "<Figure size 432x288 with 1 Axes>"
      ]
     },
     "metadata": {
      "needs_background": "light"
     },
     "output_type": "display_data"
    },
    {
     "data": {
      "image/png": "[encoded data removed]",
      "text/plain": [
       "<Figure size 432x288 with 1 Axes>"
      ]
     },
     "metadata": {
      "needs_background": "light"
     },
     "output_type": "display_data"
    },
    {
     "data": {
      "image/png": "[encoded data removed]",
      "text/plain": [
       "<Figure size 432x288 with 1 Axes>"
      ]
     },
     "metadata": {
      "needs_background": "light"
     },
     "output_type": "display_data"
    },
    {
     "data": {
      "image/png": "[encoded data removed]",
      "text/plain": [
       "<Figure size 432x288 with 1 Axes>"
      ]
     },
     "metadata": {
      "needs_background": "light"
     },
     "output_type": "display_data"
    }
   ],
   "source": [
    "import numpy as np\n",
    "import scipy.io as sc\n",
    "from scipy import stats \n",
    "import pandas as pd\n",
    "import matplotlib.pyplot as plt\n",
    "\n",
    "%matplotlib inline \n",
    "\n",
    "\n",
    "dataUnresolved = sc.loadmat(r'C:\\Users\\spook\\Desktop\\Assignment_2\\Assignment_2\\Data/wine.mat')\n",
    "x = dataUnresolved['X']\n",
    "#print (x[:,:])\n",
    "df = pd.DataFrame(x, columns=['Col1', 'Col2', 'Col3', 'Col4','Col5', 'Col6', 'Col7', 'Col8','Col9', 'Col10', 'Col11', 'Col12'])\n",
    "data = stats.zscore(df)\n",
    "print(df)\n",
    "\n",
    "\n",
    "\n",
    "fixedacidity = df[ 'Col1']\n",
    "volatileacidity = df['Col2']\n",
    "citricacid = df['Col3']\n",
    "residualsugar = df['Col4']\n",
    "chlorides = df['Col5']\n",
    "freesulfurdioxide = df['Col6']\n",
    "totalsulfurdioxide = df['Col7']\n",
    "density = df['Col8']\n",
    "ph = df['Col9']\n",
    "sulphates = df['Col10']\n",
    "alcohol = df['Col11']\n",
    "qualityscore = df['Col12']\n",
    "\n",
    "\n",
    "a= plt.boxplot(fixedacidity)\n",
    "plt.xlabel('Fixed acidity')\n",
    "plt.show()\n",
    "plt.subplot(2, 2, 1) \n",
    "plt.hist(fixedacidity, bins=10)\n",
    "plt.xlabel('Fixed acidity') \n",
    "plt.show()\n",
    "\n",
    "\n",
    "b =plt.boxplot(volatileacidity)\n",
    "plt.xlabel('Volatile acidity')\n",
    "plt.show()\n",
    "plt.subplot(2, 2, 1) \n",
    "plt.hist(volatileacidity, bins=10)\n",
    "plt.xlabel('volatileacidity') \n",
    "plt.show()\n",
    "\n",
    "\n",
    "c= plt.boxplot(citricacid)\n",
    "plt.xlabel('citricacid')\n",
    "plt.show()\n",
    "plt.subplot(2, 2, 1) \n",
    "plt.hist(citricacid, bins=10)\n",
    "plt.xlabel('citricacid') \n",
    "plt.show()\n",
    "\n",
    "d =plt.boxplot(residualsugar)\n",
    "plt.xlabel('residualsugar')\n",
    "plt.show()\n",
    "plt.subplot(2, 2, 1) \n",
    "plt.hist(residualsugar, bins=10)\n",
    "plt.xlabel('residualsugar') \n",
    "plt.show()\n",
    "\n",
    "e= plt.boxplot(chlorides)\n",
    "plt.xlabel('chlorides')\n",
    "plt.show()\n",
    "plt.subplot(2, 2, 1) \n",
    "plt.hist(chlorides, bins=10)\n",
    "plt.xlabel('chlorides') \n",
    "plt.show()\n",
    "\n",
    "f =plt.boxplot(freesulfurdioxide)\n",
    "plt.xlabel('freesulfurdioxide')\n",
    "plt.show()\n",
    "plt.subplot(2, 2, 1) \n",
    "plt.hist(freesulfurdioxide, bins=10)\n",
    "plt.xlabel('freesulfurdioxide') \n",
    "plt.show()\n",
    "\n",
    "g= plt.boxplot(totalsulfurdioxide)\n",
    "plt.xlabel('totalsulfurdioxide')\n",
    "plt.show()\n",
    "plt.subplot(2, 2, 1) \n",
    "plt.hist(totalsulfurdioxide, bins=10)\n",
    "plt.xlabel('totalsulfurdioxide') \n",
    "plt.show()\n",
    "\n",
    "h =plt.boxplot(density)\n",
    "plt.xlabel('density')\n",
    "plt.show()\n",
    "plt.subplot(2, 2, 1) \n",
    "plt.hist(density, bins=10)\n",
    "plt.xlabel('density') \n",
    "plt.show()\n",
    "\n",
    "i= plt.boxplot(ph)\n",
    "plt.xlabel('ph')\n",
    "plt.show()\n",
    "plt.subplot(2, 2, 1) \n",
    "plt.hist(ph, bins=10)\n",
    "plt.xlabel('ph') \n",
    "plt.show()\n",
    "\n",
    "j =plt.boxplot(sulphates)\n",
    "plt.xlabel('sulphates')\n",
    "plt.show()\n",
    "plt.subplot(2, 2, 1) \n",
    "plt.hist(sulphates, bins=10)\n",
    "plt.xlabel('sulphates') \n",
    "plt.show()\n",
    "\n",
    "k= plt.boxplot(alcohol)\n",
    "plt.xlabel('alcohol')\n",
    "plt.show()\n",
    "plt.subplot(2, 2, 1) \n",
    "plt.hist(alcohol, bins=10)\n",
    "plt.xlabel('alcohol') \n",
    "plt.show()\n",
    "\n",
    "l =plt.boxplot(qualityscore)\n",
    "plt.xlabel('qualityscore')\n",
    "plt.show()\n",
    "plt.subplot(2, 2, 1) \n",
    "plt.hist(qualityscore, bins=10)\n",
    "plt.xlabel('qualityscore') \n",
    "plt.show()\n",
    "\n",
    "\n",
    "#outliers\n",
    "volatileacidityOutliers= df[np.abs(volatileacidity > (2*10))]\n",
    "densityOutliers = df[np.abs(density > (1*10))]\n",
    "alcoholOutliers = df[np.abs(alcohol > (0.2*10))]\n",
    "\n",
    "m =plt.boxplot(volatileacidityOutliers)\n",
    "plt.xlabel('volatile acidity without Outliers')\n",
    "plt.show()\n",
    "plt.subplot(2, 2, 1) \n",
    "plt.hist(volatileacidityOutliers, bins=10)\n",
    "plt.xlabel('volatile acidity without Outliers') \n",
    "plt.show()\n",
    "\n",
    "n =plt.boxplot(densityOutliers)\n",
    "plt.xlabel('density without Outliers')\n",
    "plt.show()\n",
    "plt.subplot(2, 2, 1) \n",
    "plt.hist(densityOutliers, bins=10)\n",
    "plt.xlabel('density without Outliers') \n",
    "plt.show()\n",
    "\n",
    "o =plt.boxplot(alcoholOutliers)\n",
    "plt.xlabel('alcohol without Outliers')\n",
    "plt.show()\n",
    "plt.subplot(2, 2, 1) \n",
    "plt.hist(alcoholOutliers, bins=10)\n",
    "plt.xlabel('alcohol without Outliers') \n",
    "plt.show()"
   ]
  },
  {
   "cell_type": "markdown",
   "metadata": {
    "collapsed": true
   },
   "source": [
    "----\n",
    "\n",
    "\n",
    "----"
   ]
  },
  {
   "cell_type": "markdown",
   "metadata": {},
   "source": [
    "> 2.1.1b (0.5pts)\n",
    "Why do we need to standardize the data after removing the outliers? Give the -statistical- reason, not just the practical reason. "
   ]
  },
  {
   "cell_type": "markdown",
   "metadata": {},
   "source": [
    "Since we're getting rid of some values, the rangeof the values might change and therefore needs to be recalculated. Also, it is often not clear whether a value is an outlier or a valid observation. However, if the value removes is actually an outlier, the good data needs to be rescaled accordingly."
   ]
  },
  {
   "cell_type": "markdown",
   "metadata": {},
   "source": [
    "> 2.1.2 (1pt) Make scatter plots between attributes and wine quality as rated by human judges. Can you manually identify any clear relationship between the attributes of the wine and wine quality? Which values of these attributes are associated with high quality wine? Use the correlation coefficients to substantiate your answers. Make sure to use the data where the outliers are removed \n",
    "+ *You can calculate the correlation coefficient using the `scipy.stats.pearsonr()` function to measure the strength of association.*"
   ]
  },
  {
   "cell_type": "code",
   "execution_count": null,
   "metadata": {},
   "outputs": [],
   "source": [
    "fig, ax = plt.subplots()\n",
    "ax.set_title('fixedacidity plotted against qualityscore')\n",
    "ax.set_xlabel(\"fixedacidity\")\n",
    "ax.set_ylabel(\"qualityscore\")\n",
    "ax.scatter(fixedacidity, qualityscore)\n",
    "plt.show()\n",
    "print(stats.pearsonr(fixedacidity, qualityscore))\n",
    "\n",
    "fig, ax = plt.subplots()\n",
    "ax.set_title('density plotted against qualityscore')\n",
    "ax.set_xlabel(\"density\")\n",
    "ax.set_ylabel(\"qualityscore\")\n",
    "ax.scatter(densityOutliers, qualityscore)\n",
    "plt.show()\n",
    "print(stats.pearsonr(densityOutliers, qualityscore))\n",
    "\n",
    "fig, ax = plt.subplots()\n",
    "ax.set_title('volatile acidity plotted against qualityscore')\n",
    "ax.set_xlabel(\"volatileacidity\")\n",
    "ax.set_ylabel(\"qualityscore\")\n",
    "ax.scatter(volatileacidityOutliers, qualityscore)\n",
    "plt.show()\n",
    "print(stats.pearsonr(volatileacidityOutliers, qualityscore))\n",
    "\n",
    "fig, ax = plt.subplots()\n",
    "ax.set_title('citric acid plotted against qualityscore')\n",
    "ax.set_xlabel(\"citricacid\")\n",
    "ax.set_ylabel(\"qualityscore\")\n",
    "ax.scatter(citricacid, qualityscore)\n",
    "plt.show()\n",
    "print(stats.pearsonr(citricacid, qualityscore))\n",
    "\n",
    "\n",
    "fig, ax = plt.subplots()\n",
    "ax.set_title('residual sugar plotted against qualityscore')\n",
    "ax.set_xlabel(\"residual sugar\")\n",
    "ax.set_ylabel(\"qualityscore\")\n",
    "ax.scatter(residualsugar, qualityscore)\n",
    "plt.show()\n",
    "print(stats.pearsonr(residualsugar, qualityscore))\n",
    "\n",
    "\n",
    "fig, ax = plt.subplots()\n",
    "ax.set_title('chlorides plotted against qualityscore')\n",
    "ax.set_xlabel(\"chlorides\")\n",
    "ax.set_ylabel(\"qualityscore\")\n",
    "ax.scatter(chlorides, qualityscore)\n",
    "plt.show()\n",
    "print(stats.pearsonr(chlorides, qualityscore))\n",
    "\n",
    "\n",
    "fig, ax = plt.subplots()\n",
    "ax.set_title('free sulfurdioxide plotted against qualityscore')\n",
    "ax.set_xlabel(\"free sulfurdioxide\")\n",
    "ax.set_ylabel(\"qualityscore\")\n",
    "ax.scatter(freesulfurdioxide, qualityscore)\n",
    "plt.show()\n",
    "print(stats.pearsonr(freesulfurdioxide, qualityscore))\n",
    "\n",
    "\n",
    "fig, ax = plt.subplots()\n",
    "ax.set_title('total sulfurdioxide plotted against qualityscore')\n",
    "ax.set_xlabel(\"total sulfurdioxide\")\n",
    "ax.set_ylabel(\"qualityscore\")\n",
    "ax.scatter(totalsulfurdioxide, qualityscore)\n",
    "plt.show()\n",
    "print(stats.pearsonr(totalsulfurdioxide, qualityscore))\n",
    "\n",
    "\n",
    "fig, ax = plt.subplots()\n",
    "ax.set_title('ph plotted against qualityscore')\n",
    "ax.set_xlabel(\"ph\")\n",
    "ax.set_ylabel(\"qualityscore\")\n",
    "ax.scatter(ph, qualityscore)\n",
    "plt.show()\n",
    "print(stats.pearsonr(ph, qualityscore))\n",
    "\n",
    "\n",
    "fig, ax = plt.subplots()\n",
    "ax.set_title('sulphates plotted against qualityscore')\n",
    "ax.set_xlabel(\"sulphates\")\n",
    "ax.set_ylabel(\"qualityscore\")\n",
    "ax.scatter(sulphates, qualityscore)\n",
    "plt.show()\n",
    "print(stats.pearsonr(sulphates, qualityscore))\n",
    "\n",
    "\n",
    "fig, ax = plt.subplots()\n",
    "ax.set_title('alcohol plotted against qualityscore')\n",
    "ax.set_xlabel(\"alcohol\")\n",
    "ax.set_ylabel(\"qualityscore\")\n",
    "ax.scatter(alcoholOutliers, qualityscore)\n",
    "plt.show()\n",
    "print(stats.pearsonr(alcoholOutliers, qualityscore))\n",
    "\n",
    "\n",
    "# Based on the correlation coefficients,citric acid,free sulfurdioxide,ph, and sulphates are associated with high quality wine,\n",
    "# resulting in a better scoring by human judges.(value>0 => they're correlated)\n",
    "\n",
    "# I computed this ^ data before I figured out how to do the outliers part, after I implemented that as well the kernel stopped \n",
    "# executing and when it does, it doesn't recognize the previous written code(as in all of the data seems unknown). I tried\n",
    "# restarting the kernel/ refreshing but it doesn't fix the problem.\n"
   ]
  },
  {
   "cell_type": "markdown",
   "metadata": {
    "collapsed": true
   },
   "source": []
  },
  {
   "cell_type": "markdown",
   "metadata": {
    "collapsed": true
   },
   "source": [
    "## 2.2 Visualizing the handwritten digits (4 points)\n",
    "\n",
    "In this part of the exercise we will analyse the famous *mnist* handwritten digit dataset from: http://yann.lecun.com/exdb/mnist/.\n",
    "\n",
    "2.2.1 (4pts)\n",
    "1. Load zipdata.mat by using the loadmat function. There are two data sets containing handwritten digits: *testdata* and *traindata*. Here, we will only use *traindata*. The first column in the matrix *traindata* contains the digit (class) and the last 256 columns contain the pixel values.\n",
    "2. Create the data matrix *X* and the class index vector *y* from the data. Remove\n",
    "the digits with the class index 2-9 from the data, so only digits belonging to\n",
    "the class 0 and 1 are analyzed. (remember logical indexing!) \n",
    "3. Visualize the first 10 digits as images. (take a look at the example code)\n",
    "Next, compute the principal components (PCA) of the data matrix. Now, using the PCA model, create a new data matrix $Z$ by projecting $X$ onto the space spanned by the loadings $V$. The new data matrix should have 4 attributes corresponding to PC1-PC4.  Use subplotting to show the digits and their reconstructed counterparts in an orderly manner.\n",
    "4. Reconstruct the initial data using PC1-PC4 into a new matrix called $W$. Visualize the first 10 digits as images for the reconstructed data and compare them with images for the original data.\n",
    "5. Make a 4-by-4 subplot of scatter plots of each possible combination projection onto PC1 to PC4 (contained in $Z$) against each other. You can leave the diagonal blank.  Plot elements belonging to different classes in different colors. Add a legend to clarify which digit is shown in which color.\n",
    "6. Make a 3-dimensional scatter plot of the projections onto the first three principal components PC1-PC3 (contained in $Z$). Plot elements belonging to different classes in different colors. Add a legend to clarify which digit is shown in which color.\n",
    "7. What can you conclude from the various scatterplots about the PCs and the way they separate the data?\n",
    "\n",
    "> **Hints:**\n",
    "+ *The below example code can help you visualize digits as images.*\n",
    "+ *See Assignment 1 if you can not recall how to compute a PCA.*\n",
    "+ *Keep in mind that numpy.linalg.svd() returns the transposed **V<sup>T</sup>** matrix as output.*\n",
    "+ *You can use **Z** = **Y** $*$ **V**[:,:4] to project the data onto the first four PCs. Don't forget that the $*$ operator does not perform matrix multiplication for numpy arrays!*\n",
    "+ *To reconstruct the data from projection you can use the following formula: **W** = **Z**&ast;**V**[:,:4]<sup>T</sup> + **μ**. *\n",
    "+ *You can take a look at the example_figure.ipynb notebook to see how you can easily plot multiple classes and color them correspondingly.* \n",
    "+ *It is advisable to make a for-loop to generate the 2D scatter plots, this saves a lot of time. It is an important skill to master if you want to easily modify your work later on, for example when correcting mistakes, or when you want to modify each plot in the same manner.* \n"
   ]
  },
  {
   "cell_type": "code",
   "execution_count": null,
   "metadata": {},
   "outputs": [],
   "source": [
    "import matplotlib.pyplot as plt\n",
    "import matplotlib.cm as cm\n",
    "from scipy.io import loadmat\n",
    "from numpy import reshape\n",
    "import pandas as pd\n",
    "import numpy as np\n",
    "import matplotlib.gridspec as gridspec\n",
    "\n",
    "\n",
    "# Index of the digit to display\n",
    "i = 0\n",
    "\n",
    "# Load Matlab data file to python dict structure\n",
    "mat_data = loadmat('./Data/zipdata.mat')\n",
    "\n",
    "# Extract variables of interest\n",
    "testdata = mat_data['testdata']\n",
    "traindata = mat_data['traindata']\n",
    "X = traindata[:,1:]\n",
    "y = traindata[:,0]\n",
    "x =y[:]<2\n",
    "data = X[x,:]\n",
    "print(data)\n",
    "\n",
    "U = np.mean(data,axis = 0)\n",
    "Y = X- U\n",
    "u, s, vt = np.linalg.svd(Y)\n",
    "v= vt.T\n",
    "z = np.dot(Y, (v[:,:4]) )\n",
    "V = (v[:,:4]).T\n",
    "w =  np.dot(z,V) + U\n",
    "\n",
    "z1 = z[:,0]\n",
    "z2 = z[:,1]\n",
    "\n",
    "\n",
    "plt.subplot(1,1,1);\n",
    "I = reshape(X[1,:],(16,16))\n",
    "plt.imshow(I, extent=(0,16,0,16), cmap=cm.gray_r);\n",
    "plt.title('Digit as an image');\n",
    "plt.show()\n",
    "\n",
    "fig, axes = plt.subplots(4, 4, figsize=(10,10))\n",
    "for i in range(4):\n",
    "    for j in range(4):\n",
    "        plt.scatter(z1[:,i],z1[:,j])\n",
    "        plt.scatter(z2[:,i],z2[:,j])\n",
    "        plt.set_title(\"PC\" + str(i) + \"against PC\" + str(j))\n"
   ]
  },
  {
   "cell_type": "markdown",
   "metadata": {},
   "source": [
    "----\n",
    "\n",
    "\n",
    "----\n",
    "\n"
   ]
  },
  {
   "cell_type": "markdown",
   "metadata": {},
   "source": [
    "## 2.3 Probability and Statistics (1.5 points)\n",
    "The aim of this exercise is to learn how to calculate basic statistics in python.\n",
    "> 2.3.1 (0.3pts) A study of a very limited population of Aliens reveals the following number of body appendages (limbs):\n",
    "<center>2,3,6,8,11,18</center>\n",
    "i. Find the mean $m$ and the standard deviation $\\sigma$ of this population.\n",
    "+ *You can use the methods numpy.ndarray.mean() and numpy.ndarray.std() to calculate the mean and standard deviation.*"
   ]
  },
  {
   "cell_type": "code",
   "execution_count": null,
   "metadata": {},
   "outputs": [],
   "source": [
    "import numpy as np\n",
    "\n",
    "x = np.array([2,3,6,8,11,18])\n",
    "print(x)\n",
    "mean = np.ndarray.mean(x)\n",
    "stddev = np.ndarray.std(x)\n",
    "print(mean, stddev)\n"
   ]
  },
  {
   "cell_type": "markdown",
   "metadata": {},
   "source": [
    "> ii. (0.3pts) List all possible samples of two aliens without replacement, and find each mean. Do the same with samples of four aliens.\n",
    "+ *You can use the method itertools.combinations(v,n) to find all possible samples of a vector v taking n elements at a time.*"
   ]
  },
  {
   "cell_type": "code",
   "execution_count": 132,
   "metadata": {},
   "outputs": [
    {
     "name": "stdout",
     "output_type": "stream",
     "text": [
      "(2, 3)\n",
      "2.5\n",
      "(2, 6)\n",
      "4.0\n",
      "(2, 8)\n",
      "5.0\n",
      "(2, 11)\n",
      "6.5\n",
      "(2, 18)\n",
      "10.0\n",
      "(3, 6)\n",
      "4.5\n",
      "(3, 8)\n",
      "5.5\n",
      "(3, 11)\n",
      "7.0\n",
      "(3, 18)\n",
      "10.5\n",
      "(6, 8)\n",
      "7.0\n",
      "(6, 11)\n",
      "8.5\n",
      "(6, 18)\n",
      "12.0\n",
      "(8, 11)\n",
      "9.5\n",
      "(8, 18)\n",
      "13.0\n",
      "(11, 18)\n",
      "14.5\n",
      "(2, 3, 6, 8)\n",
      "4.75\n",
      "(2, 3, 6, 11)\n",
      "5.5\n",
      "(2, 3, 6, 18)\n",
      "7.25\n",
      "(2, 3, 8, 11)\n",
      "6.0\n",
      "(2, 3, 8, 18)\n",
      "7.75\n",
      "(2, 3, 11, 18)\n",
      "8.5\n",
      "(2, 6, 8, 11)\n",
      "6.75\n",
      "(2, 6, 8, 18)\n",
      "8.5\n",
      "(2, 6, 11, 18)\n",
      "9.25\n",
      "(2, 8, 11, 18)\n",
      "9.75\n",
      "(3, 6, 8, 11)\n",
      "7.0\n",
      "(3, 6, 8, 18)\n",
      "8.75\n",
      "(3, 6, 11, 18)\n",
      "9.5\n",
      "(3, 8, 11, 18)\n",
      "10.0\n",
      "(6, 8, 11, 18)\n",
      "10.75\n"
     ]
    }
   ],
   "source": [
    "from itertools import combinations\n",
    "\n",
    "sumY = 0\n",
    "sumZ = 0\n",
    "for subset in itertools.combinations(x, 2):\n",
    "    print(subset)\n",
    "    y = np.asarray(subset)\n",
    "    meanY = np.ndarray.mean(y)\n",
    "    sumY = sumY + meanY\n",
    "    print(meanY)\n",
    "\n",
    "for subset in itertools.combinations(x, 4):\n",
    "    print(subset)\n",
    "    z = np.asarray(subset)\n",
    "    meanZ = np.ndarray.mean(z)\n",
    "    sumZ = sumZ + meanZ\n",
    "    print(meanZ)\n"
   ]
  },
  {
   "cell_type": "markdown",
   "metadata": {},
   "source": [
    " iii. (0.3pts) Each of the means above is called a sample mean. Find the mean of all the sample means (denoted by $m_x$) and the standard\n",
    "deviation of all the sample means (denoted by $\\sigma_x$) for both\n",
    "the *N=2* and *N=4* samples."
   ]
  },
  {
   "cell_type": "code",
   "execution_count": 161,
   "metadata": {},
   "outputs": [
    {
     "name": "stdout",
     "output_type": "stream",
     "text": [
      "8.0\n",
      "3.40587727318528\n",
      "8.0\n",
      "1.70293863659264\n"
     ]
    }
   ],
   "source": [
    "meanArray2 = []\n",
    "stdDevArray2 = []\n",
    "for subset in itertools.combinations(x, 2):\n",
    "    y = np.asarray(subset)\n",
    "    meanY2 = np.ndarray.mean(y)\n",
    "    stddev2 = np.ndarray.std(y)\n",
    "    stdDevArray2.append(stddev2)\n",
    "    meanArray2.append(meanY2) \n",
    "    \n",
    "mx2 = np.ndarray.mean(np.asarray(meanArray2)) \n",
    "σ2 = np.ndarray.std(np.asarray(meanArray2))\n",
    "print(mx2)\n",
    "print(σ2)\n",
    "\n",
    "\n",
    "meanArray4 = []\n",
    "stdDevArray4 = []\n",
    "for subset in itertools.combinations(x, 4):\n",
    "    y = np.asarray(subset)\n",
    "    meanY4 = np.ndarray.mean(y)\n",
    "    stddev4 = np.ndarray.std(y)\n",
    "    stdDevArray4.append(stddev4)\n",
    "    meanArray4.append(meanY4) \n",
    "    \n",
    "mx4 = np.ndarray.mean(np.asarray(meanArray4)) \n",
    "σ4 = np.ndarray.std(np.asarray(meanArray4))\n",
    "print(mx4)\n",
    "print(σ4)"
   ]
  },
  {
   "cell_type": "markdown",
   "metadata": {},
   "source": [
    " iv. Verify the Central Limit Theorem: (i) (0.1pts) compare the population\n",
    "mean with the mean of both sample means; (ii) (0.2pts) compare the population\n",
    "standard deviation divided by the square root of the sample size\n",
    "with the standard deviation of both sample means (i.e., does\n",
    "$\\sigma_x \\approx \\sigma/\\sqrt{N}$). BTW, a better approximation for\n",
    "small population sizes is $\\sigma_x = \\sigma / \\sqrt{N} \\times\n",
    "\\sqrt{(M-N)/(M-1)}$ with *M = 6* the size of the original"
   ]
  },
  {
   "cell_type": "markdown",
   "metadata": {},
   "source": [
    "----\n",
    "\n",
    "\n",
    "----"
   ]
  },
  {
   "cell_type": "markdown",
   "metadata": {},
   "source": [
    "> v. (0.3pts) Plot the distribution of the population and the distributions of both sample means using histograms. What happens to the shape of the sample means distribution as the sample size (N*) increases?"
   ]
  },
  {
   "cell_type": "code",
   "execution_count": 177,
   "metadata": {},
   "outputs": [
    {
     "name": "stdout",
     "output_type": "stream",
     "text": [
      "8.0 8.0 8.0\n",
      "2.19848432637882 2.19848432637882 2.19848432637882\n"
     ]
    },
    {
     "data": {
      "text/plain": [
       "(array([1., 1., 1., 2., 1., 1., 3., 2., 2., 1.]),\n",
       " array([ 4.75,  5.35,  5.95,  6.55,  7.15,  7.75,  8.35,  8.95,  9.55,\n",
       "        10.15, 10.75]),\n",
       " <a list of 10 Patch objects>)"
      ]
     },
     "execution_count": 177,
     "metadata": {},
     "output_type": "execute_result"
    },
    {
     "data": {
      "image/png": "[encoded data removed]",
      "text/plain": [
       "<Figure size 432x288 with 1 Axes>"
      ]
     },
     "metadata": {
      "needs_background": "light"
     },
     "output_type": "display_data"
    }
   ],
   "source": [
    "import math \n",
    "import matplotlib.pyplot as plt\n",
    "print(mean,mx2,mx4)\n",
    "\n",
    "\n",
    "𝜎x = stddev/math.sqrt(6)\n",
    "print(𝜎x,𝜎2,𝜎4)\n",
    "\n",
    "\n",
    "plt.hist(meanArray2, bins = 10)\n",
    "plt.hist(mean, bins = 10)\n",
    "plt.hist(meanArray4, bins =10)\n"
   ]
  },
  {
   "cell_type": "markdown",
   "metadata": {},
   "source": [
    "----\n",
    "\n",
    "\n",
    "----"
   ]
  }
 ],
 "metadata": {
  "kernelspec": {
   "display_name": "Python 3",
   "language": "python",
   "name": "python3"
  },
  "language_info": {
   "codemirror_mode": {
    "name": "ipython",
    "version": 3
   },
   "file_extension": ".py",
   "mimetype": "text/x-python",
   "name": "python",
   "nbconvert_exporter": "python",
   "pygments_lexer": "ipython3",
   "version": "3.7.3"
  },
  "varInspector": {
   "cols": {
    "lenName": 16,
    "lenType": 16,
    "lenVar": 40
   },
   "kernels_config": {
    "python": {
     "delete_cmd_postfix": "",
     "delete_cmd_prefix": "del ",
     "library": "var_list.py",
     "varRefreshCmd": "print(var_dic_list())"
    },
    "r": {
     "delete_cmd_postfix": ") ",
     "delete_cmd_prefix": "rm(",
     "library": "var_list.r",
     "varRefreshCmd": "cat(var_dic_list()) "
    }
   },
   "types_to_exclude": [
    "module",
    "function",
    "builtin_function_or_method",
    "instance",
    "_Feature"
   ],
   "window_display": false
  }
 },
 "nbformat": 4,
 "nbformat_minor": 2
}
