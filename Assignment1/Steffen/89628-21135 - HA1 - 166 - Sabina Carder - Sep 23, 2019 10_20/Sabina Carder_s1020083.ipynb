{
 "cells": [
  {
   "cell_type": "markdown",
   "metadata": {},
   "source": [
    "# Assignment 1\n",
    "\n",
    "## Objective of this assignment\n",
    "The objective is to get acquainted with the Python language, with emphasis on its scientific and numerical extensions, how data can be imported from other data sources, the linear algebra basics that are needed for this course, visualization using principal component analysis (PCA) and the concept of similarity. Upon completing this exercise it is expected that you:\n",
    "\n",
    "- Understand how data can be represented as vectors and matrices in numerical Python (NumPy).\n",
    "- Can apply and interpret principal component analysis (PCA) for data visualization.\n",
    "- Understand the various measures of similarity such as Jaccard and Cosine similarity and apply similarity measures to query for similar observations.\n",
    "\n",
    "## ** Important: ** When handing in your homework:\n",
    "+ Hand in the notebook (and nothing else) named as follows: `StudentName1_snumber_StudentName2_snumber.ipynb`\n",
    "+ Provide clear and complete answers to the questions below under a separate header (not hidden somewhere in your source code), and make sure to explain your answers / motivate your choices. Add Markdown cells where necessary.\n",
    "+ Source code, output graphs, derivations, etc., should be included in the notebook.\n",
    "+ Hand-in: upload to Brightspace.\n",
    "+ Include name, student number, assignment (especially in filenames)!\n",
    "+ When working in pairs only one of you should upload the assignment, and report the name of your partner in your filename.\n",
    "+ Use the Brightspace discussion board or email the student assistants for questions on how to complete the exercises.\n",
    "+ If you find mistakes/have suggestions/would like to complain about the assigment material itself, please email me [Lisa] at `l.tostrams@science.ru.nl`\n",
    "\n",
    "\n",
    "## Advised Reading and Exercise Material\n",
    "**The following on-line materials are recommended:**\n",
    "\n",
    "- <http://docs.python.org/tutorial> - Introduction into Python environment, syntax and data structures. Recommended reading - sections 1, 2, 3, 4 and 5.\n",
    "- <https://docs.scipy.org/doc/numpy/user/quickstart.html> - Tutorial introducing the scientific computing in Python, array and matrix operations, indexing and slicing matrices.\n",
    "- <https://docs.scipy.org/doc/numpy/user/numpy-for-matlab-users.html> - Useful reference to scientific computing in Python if you have previous experience with MATLAB programming.\n",
    "- <https://www.datacamp.com/courses/intro-to-python-for-data-science> - Simple introduction to Data Science using Python.\n",
    "- <https://matplotlib.org/> - Documentation and examples related to matplotlib module, which we shall use extensively through the course to visualize data and results.\n",
    "- Pang-Ning Tan, Michael Steinbach, and Vipin Kumar, **Introduction to Data Mining**, sections 2.1-2.3 + (A) + B.1\n",
    "- Pang-Ning Tan, Michael Steinbach, and Vipin Kumar, **Introduction to Data Mining**, sections 2.4 + 3.1-3.2 + C.1-C.2\n",
    "\n",
    "\n",
    "## 1.1 Python and Linear Algebra basics\n",
    "\n",
    "**For this course we advise to only use NumPy ndarrays to represent vectors and matrices. The numpy.matrix data type, although intuitive, is less supported and uses operators for multiplication differently. This means that you can't perform matrix multiplications symbollically, but that you will have to use functions from the NumPy library!** \n",
    "\n",
    "**1.1.1** a)(0.3 points) Generate (and print) the following vectors using functions from the *NumPy* package in Python: \n",
    "*Note: You do not have to print column vectors as columns!*\n",
    "\n",
    "\\begin{equation}\n",
    "     \\textbf{x} = \\begin{pmatrix} \n",
    "         6 \\\\\n",
    "         7 \\\\\n",
    "         8 \\\\\n",
    "         9 \\\\\n",
    "         10 \\\\\n",
    "         11 \\\\\n",
    "         12\n",
    "       \\end{pmatrix}\n",
    "     \\textbf{y} = \\begin{pmatrix} \n",
    "         3 \\\\\n",
    "         7 \\\\\n",
    "         11 \\\\\n",
    "         15 \\\\\n",
    "         19 \\\\\n",
    "         23 \\\\\n",
    "         27\n",
    "       \\end{pmatrix}\n",
    "     \\textbf{w} = \\begin{pmatrix} \n",
    "         1 \\\\\n",
    "         1 \\\\\n",
    "         0 \\\\\n",
    "         0.5 \\\\\n",
    "         1 \\\\\n",
    "         1.5 \\\\\n",
    "         2 \\\\\n",
    "         0 \\\\\n",
    "         0 \n",
    "       \\end{pmatrix}\n",
    "     \\textbf{s} = \\begin{pmatrix}\n",
    "         100 \\\\\n",
    "         98.8 \\\\\n",
    "         97.6 \\\\\n",
    "         96.4 \\\\\n",
    "         95.2\n",
    "       \\end{pmatrix} \n",
    "     \\textbf{z} = \\begin{pmatrix}\n",
    "         0.7 \\\\\n",
    "         1.0 \\\\\n",
    "         1.3 \\\\\n",
    "         1.6 \\\\\n",
    "         1.9 \\\\\n",
    "         2.2 \\\\\n",
    "         2.5 \\\\\n",
    "         2.8\n",
    "       \\end{pmatrix}\n",
    "  \\end{equation}\n",
    "\n"
   ]
  },
  {
   "cell_type": "code",
   "execution_count": 119,
   "metadata": {},
   "outputs": [],
   "source": [
    "#Import NumPy\n",
    "import numpy as np\n",
    "#You'll have to manually import libraries in the future!"
   ]
  },
  {
   "cell_type": "code",
   "execution_count": 120,
   "metadata": {
    "scrolled": true
   },
   "outputs": [
    {
     "name": "stdout",
     "output_type": "stream",
     "text": [
      "[ 6  7  8  9 10 11 12]\n",
      "[ 3  7 11 15 19 23 27]\n",
      "[1.  1.  0.  0.5 1.  1.5 2.  0.  0. ]\n",
      "[100.   98.8  97.6  96.4  95.2]\n",
      "[0.7 1.  1.3 1.6 1.9 2.2 2.5 2.8]\n"
     ]
    }
   ],
   "source": [
    "import numpy as np\n",
    "#Generate the vectors using Python and NumPy \n",
    "x = np.array([6,7,8,9,10,11,12])\n",
    "y = np.array([3,7,11,15,19,23,27])\n",
    "w = np.array([1,1,0,0.5,1,1.5,2,0,0])\n",
    "s = np.array([100,98.8,97.6,96.4,95.2])\n",
    "z = np.array([0.7,1.0,1.3,1.6,1.9,2.2,2.5,2.8])\n",
    "\n",
    "\n",
    "# Remember to show your results!\n",
    "print(x)\n",
    "print(y)\n",
    "print(w)\n",
    "print(s)\n",
    "print(z)"
   ]
  },
  {
   "cell_type": "markdown",
   "metadata": {},
   "source": [
    "Then compute the following operations:\n",
    "> b) (0.2 points) **v** = 3**x** + **y**"
   ]
  },
  {
   "cell_type": "code",
   "execution_count": 121,
   "metadata": {},
   "outputs": [
    {
     "name": "stdout",
     "output_type": "stream",
     "text": [
      "[21 28 35 42 49 56 63]\n"
     ]
    }
   ],
   "source": [
    "##Answer to question 1.1.1b\n",
    "\n",
    "import numpy as np\n",
    "\n",
    "x = np.array([6,7,8,9,10,11,12])\n",
    "y = np.array([3,7,11,15,19,23,27])\n",
    "v = 3*x + y\n",
    "\n",
    "print(v)"
   ]
  },
  {
   "cell_type": "markdown",
   "metadata": {},
   "source": [
    "> c) (0.2 points) The dot product between **x** and **y** and name it **q**\n"
   ]
  },
  {
   "cell_type": "code",
   "execution_count": 122,
   "metadata": {},
   "outputs": [
    {
     "name": "stdout",
     "output_type": "stream",
     "text": [
      "1057\n"
     ]
    }
   ],
   "source": [
    "##Answer to question 1.1.1c\n",
    "\n",
    "import numpy as np\n",
    "\n",
    "x = np.array([6,7,8,9,10,11,12])\n",
    "y = np.array([3,7,11,15,19,23,27])\n",
    "q = x.dot(y)\n",
    "\n",
    "print(q)"
   ]
  },
  {
   "cell_type": "markdown",
   "metadata": {},
   "source": [
    "> d) (0.2 points) **t** = pi(**s** + 4) (element wise multiplication)"
   ]
  },
  {
   "cell_type": "code",
   "execution_count": 123,
   "metadata": {},
   "outputs": [
    {
     "name": "stdout",
     "output_type": "stream",
     "text": [
      "[326.72563597 322.95572479 319.1858136  315.41590242 311.64599124]\n"
     ]
    }
   ],
   "source": [
    "##Answer to question 1.1.1d\n",
    "import numpy as np\n",
    "\n",
    "s = np.array([100,98.8,97.6,96.4,95.2])\n",
    "t = np.multiply(np.pi, s+4) \n",
    "\n",
    "print(t)"
   ]
  },
  {
   "cell_type": "markdown",
   "metadata": {},
   "source": [
    "> e) (0.2 points) **z** = **z** - 1"
   ]
  },
  {
   "cell_type": "code",
   "execution_count": 124,
   "metadata": {},
   "outputs": [
    {
     "name": "stdout",
     "output_type": "stream",
     "text": [
      "[-0.3  0.   0.3  0.6  0.9  1.2  1.5  1.8]\n"
     ]
    }
   ],
   "source": [
    "##Answer to question 1.1.1e\n",
    "import numpy as np\n",
    "\n",
    "z = np.array([0.7,1.0,1.3,1.6,1.9,2.2,2.5,2.8])\n",
    "z = z-1\n",
    "print(z)"
   ]
  },
  {
   "cell_type": "raw",
   "metadata": {},
   "source": [
    "# > f) (0.2 points) replace some values of x, such that the last three values in the vector are 4"
   ]
  },
  {
   "cell_type": "code",
   "execution_count": 125,
   "metadata": {},
   "outputs": [
    {
     "name": "stdout",
     "output_type": "stream",
     "text": [
      "[6 7 8 9 4 4 4]\n"
     ]
    }
   ],
   "source": [
    "##Answer to question 1.1.1f\n",
    "import numpy as np\n",
    "\n",
    "x = np.array([6,7,8,9,10,11,12])\n",
    "np.put(x, [4,5,6], [4,4,4])\n",
    "\n",
    "print(x)"
   ]
  },
  {
   "cell_type": "markdown",
   "metadata": {},
   "source": [
    "> g) (0.2 points) **r** = 2**w** - 5"
   ]
  },
  {
   "cell_type": "code",
   "execution_count": 126,
   "metadata": {},
   "outputs": [
    {
     "name": "stdout",
     "output_type": "stream",
     "text": [
      "[1.  1.  0.  0.5 1.  1.5 2.  0.  0. ]\n"
     ]
    }
   ],
   "source": [
    "##Answer to question 1.1.1g\n",
    "w = np.array([1,1,0,0.5,1,1.5,2,0,0])\n",
    "\n",
    "r = 2*w - 5\n",
    "\n",
    "print(w)"
   ]
  },
  {
   "cell_type": "markdown",
   "metadata": {},
   "source": [
    "**1.1.2** (0.25 points) Generate these matrices:\n",
    "\n",
    "\\begin{equation}\n",
    "     \\textbf{M} = \\begin{pmatrix} \n",
    "         1 & 2 & 3 \\\\\n",
    "         6 & 8 & 4 \\\\\n",
    "         6 & 7 & 5          \n",
    "         \\end{pmatrix}\n",
    "     \\textbf{N} = \\begin{pmatrix} \n",
    "         4 & 6 \\\\\n",
    "         7 & 2 \\\\\n",
    "         5 & 1\n",
    "         \\end{pmatrix}\n",
    "     \\textbf{P} = \\begin{pmatrix} \n",
    "         2 & 5 \\\\\n",
    "         5 & 5 \n",
    "         \\end{pmatrix}   \n",
    "\\end{equation}\n",
    "\n",
    "Afterwards try and compute the operations for subquestions *a* up to and including *e* and print the resulting matrix. If some operations yield errors, give the reason as to why that happens.\n",
    "\n",
    "*A hint: NumPy has functions for matrix operations you can, and should, use! For instance, * **M\\*N** * should be calculated with NumPy's `dot` product.*"
   ]
  },
  {
   "cell_type": "code",
   "execution_count": 127,
   "metadata": {},
   "outputs": [
    {
     "name": "stdout",
     "output_type": "stream",
     "text": [
      "[[1 2 3]\n",
      " [6 8 4]\n",
      " [6 7 5]]\n",
      " \n",
      "[[4 6]\n",
      " [7 2]\n",
      " [5 1]]\n",
      " \n",
      "[[2 5]\n",
      " [5 5]]\n"
     ]
    }
   ],
   "source": [
    "##Generate the matrices using Python and NumPy\n",
    "import numpy as np\n",
    "\n",
    "M = np.matrix('1 2 3; 6 8 4; 6 7 5')\n",
    "\n",
    "N = np.matrix('4 6 ; 7 2 ; 5 1')\n",
    "P = np.matrix('2 5 ; 5 5')\n",
    "\n",
    "\n",
    "print(M)\n",
    "print(\" \")\n",
    "print(N)\n",
    "print(\" \")\n",
    "print(P)"
   ]
  },
  {
   "cell_type": "markdown",
   "metadata": {},
   "source": [
    "> a. (0.2 points) **A** = **MN** + **N**"
   ]
  },
  {
   "cell_type": "code",
   "execution_count": 128,
   "metadata": {},
   "outputs": [
    {
     "name": "stdout",
     "output_type": "stream",
     "text": [
      "[[ 37  19]\n",
      " [107  58]\n",
      " [103  56]]\n"
     ]
    }
   ],
   "source": [
    "##Answer to question 1.1.2a\n",
    "A = M*N + N\n",
    "\n",
    "print(A)"
   ]
  },
  {
   "cell_type": "markdown",
   "metadata": {},
   "source": [
    "> b. (0.2 points) **B** = **N**<sup>T</sup>**M**"
   ]
  },
  {
   "cell_type": "code",
   "execution_count": 129,
   "metadata": {},
   "outputs": [
    {
     "name": "stdout",
     "output_type": "stream",
     "text": [
      "[[76 99 65]\n",
      " [24 35 31]]\n"
     ]
    }
   ],
   "source": [
    "##Answer to question 1.1.2b\n",
    "B = N.transpose()*M\n",
    "\n",
    "print(B)"
   ]
  },
  {
   "cell_type": "markdown",
   "metadata": {},
   "source": [
    "> c. (0.2 points) **C** = **P**<sup>-1</sup> + **P**"
   ]
  },
  {
   "cell_type": "code",
   "execution_count": 130,
   "metadata": {},
   "outputs": [
    {
     "name": "stdout",
     "output_type": "stream",
     "text": [
      "[[ 37  19]\n",
      " [107  58]\n",
      " [103  56]]\n",
      "\n",
      "[[76 99 65]\n",
      " [24 35 31]]\n",
      "\n",
      "[[1.66666667 5.33333333]\n",
      " [5.33333333 4.86666667]]\n"
     ]
    }
   ],
   "source": [
    "##Answer to question 1.1.2c\n",
    "import numpy as np\n",
    "from numpy.linalg import inv\n",
    "\n",
    "Pinv = inv(P)\n",
    "C = Pinv + P\n",
    "\n",
    "print(A)\n",
    "print()\n",
    "print(B)\n",
    "print()\n",
    "\n",
    "print(C)"
   ]
  },
  {
   "cell_type": "markdown",
   "metadata": {},
   "source": [
    "> d. (0.2 points) **D** = **AC**(**C** + **B**)"
   ]
  },
  {
   "cell_type": "code",
   "execution_count": 131,
   "metadata": {},
   "outputs": [],
   "source": [
    "##Answer to question 1.1.2d\n",
    "\n",
    "# C and B have different dimentions => can't be summed\n",
    "\n"
   ]
  },
  {
   "cell_type": "markdown",
   "metadata": {},
   "source": [
    "> e. (0.2 points) Compute the eigenvalues and eigenvectors of **M**, **N**, and **P** (and print them)."
   ]
  },
  {
   "cell_type": "code",
   "execution_count": 132,
   "metadata": {},
   "outputs": [
    {
     "name": "stdout",
     "output_type": "stream",
     "text": [
      "the array of eigenvalues of M: \n",
      "[-1.26208735 14.26208735  1.        ]\n",
      "\n",
      "the array of eigenvectors of M: \n",
      "[[-0.84234218  0.25759308  0.51507875]\n",
      " [ 0.38109032  0.68324439 -0.71318597]\n",
      " [ 0.38109032  0.68324439  0.47545731]]\n",
      "\n",
      "the array of eigenvalues of P: \n",
      "[-1.72015325  8.72015325]\n",
      "\n",
      "the array of eigenvectors of P: \n",
      "[[-0.80229293 -0.59693053]\n",
      " [ 0.59693053 -0.80229293]]\n",
      "\n"
     ]
    }
   ],
   "source": [
    "##Answer to question 1.1.2e\n",
    "import numpy as np\n",
    "from numpy import linalg as LA\n",
    "\n",
    "w,v = LA.eig(M) # for M\n",
    "x,z = LA.eig(P) # for P\n",
    "# N is a non-square matrix => doesn't have eigenvalues and eigenvectors\n",
    "\n",
    "print(\"the array of eigenvalues of M: \")\n",
    "print(w)\n",
    "print()\n",
    "\n",
    "print(\"the array of eigenvectors of M: \")\n",
    "print(v)\n",
    "print()\n",
    "\n",
    "print(\"the array of eigenvalues of P: \")\n",
    "print(x)\n",
    "print()\n",
    "\n",
    "print(\"the array of eigenvectors of P: \")\n",
    "print(z)\n",
    "print()\n"
   ]
  },
  {
   "cell_type": "markdown",
   "metadata": {},
   "source": [
    "# Intermezzo: proper scientific plotting practices \n",
    "\n",
    "**In this course and many others** you will be asked to make a lot of plots. If you've ever read an academic paper, you'll have noticed that besides axis labels, titles and legends, these also contain a figure description *for each plot*. The idea is that you can 'read' a figure without skimming through the text for the explanation. So these figure descriptions should contain\n",
    "\n",
    "1. A description in natural language explaining what we're looking at,\n",
    "2. references to the axis labels if these are not clear immediately, and\n",
    "3. provide a short answer to the question that it belongs to. \n",
    "\n",
    "### Examples:"
   ]
  },
  {
   "cell_type": "code",
   "execution_count": 133,
   "metadata": {
    "scrolled": false
   },
   "outputs": [
    {
     "data": {
      "image/png": "[encoded data removed]",
      "text/plain": [
       "<Figure size 432x288 with 1 Axes>"
      ]
     },
     "metadata": {
      "needs_background": "light"
     },
     "output_type": "display_data"
    },
    {
     "name": "stdout",
     "output_type": "stream",
     "text": [
      "Figure 1: an example of a simple plot. X axis shows the index of each element, the Y axis shows increasing numbers.\n"
     ]
    },
    {
     "data": {
      "image/png": "[encoded data removed]",
      "text/plain": [
       "<Figure size 432x288 with 1 Axes>"
      ]
     },
     "metadata": {
      "needs_background": "light"
     },
     "output_type": "display_data"
    },
    {
     "name": "stdout",
     "output_type": "stream",
     "text": [
      "Figure 2: an example of a slightly more complex plot, where we explicitely set the values on the X axis. X axis shows the index of each element, the Y axis shows increasing numbers.\n"
     ]
    },
    {
     "data": {
      "image/png": "[encoded data removed]",
      "text/plain": [
       "<Figure size 576x576 with 6 Axes>"
      ]
     },
     "metadata": {},
     "output_type": "display_data"
    },
    {
     "name": "stdout",
     "output_type": "stream",
     "text": [
      "Figure 3: an example of a complex plot, which showcases some neat pretty stuff that matplotlib can do! Seaborn is a library that you can use to make your plots look nicer. Subplots are used to create multiple plots within the same figure. First I plotted some random black dots, and then I used the bar functions to plot the same information but more complicated. imshow can be used to plot your array as an image for easy inspection. Here, I created an image of blobs using random numbers and a gaussian blur filter. Histograms are nice for checking distributions, for instance, the distribution of gray values in an image containing blobs!\n"
     ]
    }
   ],
   "source": [
    "import matplotlib.pyplot as plt\n",
    "import numpy as np\n",
    "numbers = np.arange(100,1001,100)\n",
    "\n",
    "# Simple plot\n",
    "\n",
    "plt.plot(numbers)\n",
    "plt.xlabel('x axis')\n",
    "plt.ylabel('y axis')\n",
    "plt.title('Numbers')\n",
    "plt.show()\n",
    "print('Figure 1: an example of a simple plot. X axis shows the index of each element, the Y axis shows increasing numbers.')\n",
    "\n",
    "# a little more complex plot\n",
    "\n",
    "indices = np.arange(5,15)\n",
    "plt.scatter(indices,numbers)\n",
    "plt.xlabel('x axis')\n",
    "plt.ylabel('y axis')\n",
    "plt.title('Numbers')\n",
    "plt.show()\n",
    "print('Figure 2: an example of a slightly more complex plot, where we explicitely set the values on the X axis. X axis shows the index of each element, the Y axis shows increasing numbers.')\n",
    "\n",
    "\n",
    "# an incredibly unnecessary complex plot\n",
    "import seaborn as sns # nicer graphics\n",
    "sns.set_style('darkgrid')\n",
    "\n",
    "fig,ax = plt.subplots(3,2,figsize=(8,8)) # create 3 rows of 2 columns of subplots\n",
    "ax = ax.ravel()\n",
    "\n",
    "x = np.random.normal(0.1, 1,10) #10 numbers with a mean of 0.1 and a sigma of 1\n",
    "y = np.random.normal(1, 0.1,10) #10 numbers with a mean of 1 and a sigma of 0.1\n",
    "\n",
    "ax[0].plot(x,y,'k.') # k means black and . means it should plot dots. Similarly, 'r-' results in a red line and \n",
    "                    # 'b--' would result in a blue checkered line.\n",
    "ax[0].set_title('Random black dots using x and y as coords')\n",
    "ax[0].set_ylabel('Row 0 of subplots')\n",
    "ax[1].bar(range(0,10),x,color='orange') #the first argument tells plt where to place the bars, so range(0,10) just puts them on 0,..,9\n",
    "ax[1].set_title('Vertical bars of x values')\n",
    "\n",
    "ax[2].barh(range(0,10),y,color='darkblue')\n",
    "ax[2].set_title('Horizontal bars of y values')\n",
    "ax[2].set_ylabel('Row 1 of subplots')\n",
    "from scipy import ndimage \n",
    "\n",
    "im = np.zeros((28, 28)) # creates an 28x28 array of zeros\n",
    "points = 28 * np.random.random((2, 3 ** 2)) # creates 28 random (x,y) pairs that we will use as indices\n",
    "im[(points[0]).astype(np.int), (points[1]).astype(np.int)] = 1 # sets the value at those indices to 1\n",
    "im = ndimage.gaussian_filter(im, sigma=28 / (4. * 3)) # puts the array through an image filter that \n",
    "                                                        # blurs the 0's and 1's together\n",
    "blobs = (im > im.mean())*255 # seperates them back into 0's and 1's after blurring \n",
    "\n",
    "ax[3].imshow(blobs,cmap='gray') # plots the array as an image, where each pixel corresponds to a 0 or 1 in our array\n",
    "ax[3].set_title('Blobs in black and white')\n",
    "\n",
    "ax[4].hist(im.ravel(), bins=12,color='green',rwidth=0.9) # plot the gray values from the array in a histogram with 12 bins\n",
    "ax[4].set_title('Distribution of grayvalues')\n",
    "ax[4].set_ylabel('Row 2 of subplots')\n",
    "ax[4].set_xlabel('Column 0 of subplots')\n",
    "ax[5].hist(im.ravel(),bins=12, cumulative=True, color='orange',rwidth=0.9,alpha=0.8,label='summed') # plot a see through \n",
    "                                                                                # cumulative histogram with alpha\n",
    "ax[5].hist(im.ravel(), bins=12,color='green',rwidth=0.9,alpha=0.7,label='values') # plot the gray values from the array in a histogram with 12 bins\n",
    "ax[5].set_title('(Cumulative) Distribution of grayvalues')\n",
    "ax[5].legend()\n",
    "ax[5].set_xlabel('Column 1 of subplots')\n",
    "plt.tight_layout() # makes sure everything fits without overlapping -- try running this cell without this to see the effect\n",
    "\n",
    "plt.show()\n",
    "\n",
    "print('Figure 3: an example of a complex plot, which showcases some neat pretty stuff that matplotlib can do! Seaborn is a library that you can use to make your plots look nicer. Subplots are used to create multiple plots within the same figure. First I plotted some random black dots, and then I used the bar functions to plot the same information but more complicated. imshow can be used to plot your array as an image for easy inspection. Here, I created an image of blobs using random numbers and a gaussian blur filter. Histograms are nice for checking distributions, for instance, the distribution of gray values in an image containing blobs!')\n",
    "sns.reset_orig()"
   ]
  },
  {
   "cell_type": "markdown",
   "metadata": {},
   "source": [
    "## 1.2 Principal Component Analysis\n",
    "\n",
    "**1.2.1** many experimenters have a habit of using Microsoft Excel as their tool to record measurements from experiments. Fortunately Python can read Excel files. Various methods exist, of which the use of the Python library Pandas is arguably one of the easiest for the purpose of Data Mining.\n",
    "\n",
    "The data used in this exercise is based on data from a chemical sensor obtained from the NanoNose project[1]. The data contains 8 sensors, named by the letters A-H, measuring the concentration of Water, Ethanol, Acetone, Heptane and Pentanol injected into a small gas chamber. The data will be represented in matrix form such that each column contains the 8 sensor measurements (i.e., sensor A-H) of the various compounds injected into the gas chamber.\n",
    "> a. (0.2 points) Inspect the nanonose.xls file in the Data folder and make sure you understand how the data is stored in Excel.\n",
    "\n",
    "> *Load the data in python using the Pandas library (use the `read_excel()` function). Make sure you read some of the Pandas documentation! Especially (column) slicing, (row) indexing and dropping are useful commands to get the correct data here.*\n",
    "\n",
    "> *Make sure to inspect the data first. **You should cut out some rows and columns! You can easily inspect the structure of the Pandas dataframe by printing the `head()` function.***\n",
    "\n",
    "> *You should see the 8 columns named A-H and the first 5 rows by printing `head()`.*\n",
    "\n",
    "> *Finally use the `.values` function to cast the Pandas dataframe to a NumPy array called **X**. *"
   ]
  },
  {
   "cell_type": "code",
   "execution_count": 158,
   "metadata": {},
   "outputs": [
    {
     "name": "stdout",
     "output_type": "stream",
     "text": [
      "  Nanonose Unnamed: 1     A     B    C          D          E          F  \\\n",
      "2    Water       9200  94.5  17.0  5.0   5.484615  63.205769  19.658560   \n",
      "3    Water       9200  92.0  16.0  3.0  11.057692  62.586538  19.813120   \n",
      "4    Water       4600  53.0   7.5  2.5   3.538462  35.163462   6.876207   \n",
      "5    Water       4600  51.0   7.5  2.5   4.865385  34.057692   6.757241   \n",
      "6    Water       4600  50.0   8.0  2.5   3.980769  33.615385   6.773103   \n",
      "\n",
      "          G         H  \n",
      "2  4.968000  1.883444  \n",
      "3  5.192480  0.564835  \n",
      "4  1.641724  0.144654  \n",
      "5  1.613966  0.059663  \n",
      "6  1.776552  0.075509  \n",
      "\n",
      "[['Water' 9200 94.5 17.0 5.0 5.484615384615385 63.205769230769235\n",
      "  19.65856 4.968 1.8834438975675862]\n",
      " ['Water' 9200 92.0 16.0 3.0 11.057692307692308 62.58653846153847\n",
      "  19.813119999999998 5.192480000000001 0.5648346771210889]\n",
      " ['Water' 4600 53.0 7.5 2.5 3.5384615384615383 35.16346153846154\n",
      "  6.876206896551725 1.6417241379310352 0.14465408805031457]\n",
      " ['Water' 4600 51.0 7.5 2.5 4.865384615384615 34.05769230769231\n",
      "  6.7572413793103445 1.6139655172413794 0.05966277561608306]\n",
      " ['Water' 4600 50.0 8.0 2.5 3.980769230769231 33.61538461538461\n",
      "  6.773103448275862 1.7765517241379316 0.07550886408404471]\n",
      " ['Water' 2300 27.5 4.0 1.5 2.2 18.35576923076923 2.798333333333333\n",
      "  0.5635000000000002 0.030383091149273476]\n",
      " ['Water' 2300 27.5 4.5 1.5 2.2 17.25 2.6296666666666666\n",
      "  0.8548333333333334 0.0]\n",
      " ['Water' 2300 27.0 4.0 1.5 3.1 17.471153846153847 2.645\n",
      "  0.6248333333333332 0.0]\n",
      " ['Water' 1150 13.5 1.5 0.0 1.7692307692307692 9.73076923076923 1.1140625\n",
      "  0.4959375 0.0]\n",
      " ['Water' 1150 13.0 2.0 0.5 2.6538461538461537 10.615384615384617\n",
      "  1.078125 0.4528125 0.0]\n",
      " ['Water' 1150 13.25 2.5 0.25 2.6538461538461537 8.846153846153847\n",
      "  0.4240625 0.115 0.0]\n",
      " ['Water' 575 4.5 0.8 0.0 0.4423076923076923 2.4326923076923075\n",
      "  0.6516666666666667 0.529 0.0]\n",
      " ['Water' 575 4.0 0.8 0.0 0.8846153846153846 3.671153846153846\n",
      "  0.4063333333333333 0.34883333333333333 0.0]\n",
      " ['Water' 575 3.7 0.5 0.0 1.3269230769230769 3.7596153846153846\n",
      "  0.3296666666666666 0.25300000000000006 0.0]\n",
      " ['Water' 288 1.5 0.0 0.0 0.0 1.1076923076923078 0.1323243243243243 0.144\n",
      "  0.0]\n",
      " ['Water' 288 1.5 0.0 0.0 0.0 1.3292307692307692 -0.06227027027027024\n",
      "  0.05448648648648649 0.0]\n",
      " ['Water' 288 1.5 0.0 0.0 0.0 1.5064615384615385 0.35027027027027025\n",
      "  0.5487567567567567 0.0]\n",
      " ['Ethanol' 28800 23.0 51.0 25.0 96.0 142.5 69.5290909090909\n",
      "  38.95181818181818 35.42659941598089]\n",
      " ['Ethanol' 28800 23.5 61.0 30.2 129.0 142.0 65.55818181818182\n",
      "  39.28272727272728 35.48234325131268]\n",
      " ['Ethanol' 28800 22.0 63.5 30.5 149.0 140.5 64.31090909090909\n",
      "  39.44818181818182 36.17916769616322]\n",
      " ['Ethanol' 14400 12.5 50.5 20.0 60.0 94.5 30.17142857142857 31.728\n",
      "  18.237738273720286]\n",
      " ['Ethanol' 14400 12.5 51.0 20.5 52.0 93.5 30.514285714285716\n",
      "  31.48114285714286 18.248133256748993]\n",
      " ['Ethanol' 14400 12.0 50.0 18.0 50.0 89.5 28.278857142857145\n",
      "  30.877714285714287 18.268811028144746]\n",
      " ['Ethanol' 7200 6.0 33.5 12.5 26.0 65.5 13.758545454545457\n",
      "  21.97963636363636 9.993431386548622]\n",
      " ['Ethanol' 7200 6.0 32.0 11.5 28.0 63.0 14.033454545454545\n",
      "  22.215272727272726 10.30294569314533]\n",
      " ['Ethanol' 7200 7.5 31.5 11.5 25.0 61.0 14.138181818181817\n",
      "  21.80290909090909 9.640167364016737]\n",
      " ['Ethanol' 3600 5.0 23.5 8.2 10.6875 37.96875 5.958620689655172\n",
      "  14.927586206896553 5.557046979865771]\n",
      " ['Ethanol' 3600 5.5 24.0 9.0 10.6875 37.6875 6.206896551724138\n",
      "  14.598620689655174 4.586819484240688]\n",
      " ['Ethanol' 3600 5.25 23.75 8.6 10.6875 38.53125 5.462068965517242\n",
      "  13.82896551724138 5.162951045736612]\n",
      " ['Ethanol' 1800 0.5 11.8 3.5 3.375 22.78125 2.76 10.12\n",
      "  3.2894333843797856]\n",
      " ['Ethanol' 1800 1.0 12.3 3.3 3.375 23.0625 2.546666666666667 9.94\n",
      "  3.353977576081153]\n",
      " ['Ethanol' 1800 1.0 11.4 3.5 3.15 22.78125 2.64 9.893333333333334\n",
      "  3.3594699061292106]\n",
      " ['Ethanol' 900 0.0 5.5 1.5 1.6875 12.09375 0.9397058823529412\n",
      "  5.7441176470588236 1.7389830508474575]\n",
      " ['Ethanol' 900 0.0 5.7 1.5 1.6875 12.375 1.4691176470588236\n",
      "  5.856617647058824 1.522285714285714]\n",
      " ['Ethanol' 900 0.0 5.5 1.8 2.25 12.65625 1.2044117647058823\n",
      "  5.697794117647059 1.910614525139665]\n",
      " ['Acetone' 72800 15.5 84.5 42.5 235.52941176470588 122.90352941176471\n",
      "  74.3288 55.1096 201.3295604602905]\n",
      " ['Acetone' 72800 14.0 110.0 44.0 190.9929411764706 117.76470588235296\n",
      "  70.50160000000001 53.9032 207.83030407814832]\n",
      " ['Acetone' 72800 16.0 128.0 51.0 141.31764705882352 110.48470588235294\n",
      "  69.68 54.10080000000001 206.67906315094245]\n",
      " ['Acetone' 36400 6.0 91.0 33.0 89.43488943488944 77.80835380835381\n",
      "  31.799884057971017 40.77855072463768 88.60879499802662]\n",
      " ['Acetone' 36400 7.0 87.5 30.0 114.47665847665847 78.25552825552826\n",
      "  31.546666666666667 40.47785507246377 90.02218507825557]\n",
      " ['Acetone' 36400 7.0 80.0 30.0 116.26535626535626 71.995085995086\n",
      "  31.451710144927535 40.39872463768116 90.27174034196037]\n",
      " ['Acetone' 18200 3.0 68.0 21.0 66.6082474226804 53.00515463917526\n",
      "  14.812777777777777 29.28177777777778 44.33121539439049]\n",
      " ['Acetone' 18200 3.0 63.0 20.0 83.49484536082474 59.10309278350515\n",
      "  15.379 29.564888888888888 43.89367645038693]\n",
      " ['Acetone' 18200 4.0 64.0 20.0 85.37113402061856 55.819587628865975\n",
      "  15.561 29.17561111111111 44.12298776561494]\n",
      " ['Acetone' 8500 2.0 49.0 13.0 36.08490566037736 33.47877358490566\n",
      "  6.043406593406594 17.308241758241756 20.32756324900133]\n",
      " ['Acetone' 8500 1.75 51.5 15.5 36.08490566037736 34.08018867924528\n",
      "  6.071428571428571 17.518406593406596 18.89677042476842]\n",
      " ['Acetone' 8500 1.5 47.5 13.0 36.08490566037736 33.57900943396227\n",
      "  5.903296703296704 17.24285714285714 17.95299753012499]\n",
      " ['Acetone' 4250 0.0 29.0 8.0 16.666666666666668 17.291666666666668\n",
      "  2.2930232558139534 11.969186046511627 9.605241195126021]\n",
      " ['Acetone' 4250 1.0 27.0 8.0 23.333333333333332 17.916666666666668\n",
      "  2.421511627906977 11.850581395348836 8.665335185828413]\n",
      " ['Acetone' 4250 1.0 26.0 8.0 15.0 17.291666666666668 2.520348837209302\n",
      "  11.885174418604652 8.944176921705012]\n",
      " ['Acetone' 2125 0.0 14.0 4.0 8.673469387755102 7.8061224489795915\n",
      "  0.6029069767441861 6.45406976744186 3.9320563787495484]\n",
      " ['Acetone' 2125 0.0 13.0 4.0 8.673469387755102 8.239795918367346\n",
      "  0.8005813953488372 6.9433139534883725 3.7974106491611965]\n",
      " ['Acetone' 2125 0.0 14.0 4.0 8.673469387755102 7.372448979591836\n",
      "  1.0674418604651164 6.572674418604651 4.2008492952656304]\n",
      " ['Heptane' 20100 8.5 8.5 12.5 16.0 1.5 8.660478260869565\n",
      "  14.786608695652173 100.54595718145916]\n",
      " ['Heptane' 20100 8.5 8.5 12.5 13.25 2.0 7.157347826086956\n",
      "  13.475739130434782 86.56784636712061]\n",
      " ['Heptane' 20100 3.0 4.0 13.0 10.5 2.0 7.926391304347827\n",
      "  13.26163043478261 115.99592600291]\n",
      " ['Heptane' 10050 2.5 5.5 9.5 8.0 1.5 3.8019339622641506 7.34313679245283\n",
      "  11.954210526315787]\n",
      " ['Heptane' 10050 1.0 -0.5 8.0 7.0 1.25 3.5364622641509436\n",
      "  7.106108490566038 12.568118794167635]\n",
      " ['Heptane' 10050 2.5 0.5 9.5 10.0 1.25 3.6312735849056605\n",
      "  7.063443396226414 11.83848238482385]\n",
      " ['Heptane' 5025 0.5 0.5 5.5 7.0 1.75 1.461818181818182 3.394159090909091\n",
      "  1.7419266557197592]\n",
      " ['Heptane' 5025 0.75 1.25 5.75 7.0 1.5 1.8638181818181818\n",
      "  4.065681818181818 2.809912854030501]\n",
      " ['Heptane' 5025 1.5 1.5 6.0 7.0 1.75 1.7176363636363636\n",
      "  3.855545454545455 3.026066758430833]\n",
      " ['Heptane' 2512 1.0 0.5 4.0 3.0 1.0 0.5233333333333333\n",
      "  1.7374666666666667 1.41]\n",
      " ['Heptane' 2512 1.5 1.0 4.5 3.0 1.0 0.5582222222222223\n",
      "  1.6188444444444443 1.48]\n",
      " ['Heptane' 2512 1.0 0.0 3.8 2.0 1.0 0.45355555555555555\n",
      "  1.7235111111111112 1.3]\n",
      " ['Heptane' 1526 0.5 0.0 2.0 0.0 0.5 0.08795389048991355\n",
      "  0.8531527377521615 0.65]\n",
      " ['Heptane' 1526 0.5 0.0 2.0 0.0 0.5 0.1583170028818444\n",
      "  0.9147204610951009 0.55]\n",
      " ['Heptane' 1526 0.5 0.0 2.0 0.0 0.0 0.28145244956772336\n",
      "  1.0290605187319886 0.69]\n",
      " ['Heptane' 628 0.0 0.0 0.5 0.0 0.0 0.10466666666666667\n",
      "  0.08024444444444445 0.3]\n",
      " ['Heptane' 628 0.0 0.0 1.0 0.0 0.0 0.1535111111111111 0.3628444444444444\n",
      "  0.33]\n",
      " ['Heptane' 628 0.0 0.0 1.5 0.0 0.0 0.06977777777777779\n",
      "  0.36633333333333334 0.28]\n",
      " ['Pentanol' 1400 3.2 16.0 20.5 -3.0 9.75 67.94307692307692\n",
      "  36.604615384615386 33.14705882352941]\n",
      " ['Pentanol' 1400 2.7 16.5 20.2 -3.0 7.0 62.26769230769231\n",
      "  29.43769230769231 30.338842975206614]\n",
      " ['Pentanol' 1400 2.2 14.4 20.4 -3.0 6.625 62.052307692307686\n",
      "  29.448461538461537 25.10090361445783]\n",
      " ['Pentanol' 600 1.85 6.05 14.5 -1.5 3.125 45.023999999999994 38.0352\n",
      "  5.435980551053484]\n",
      " ['Pentanol' 600 1.3 6.2 14.2 -1.5 3.125 44.217600000000004 37.728 6.05]\n",
      " ['Pentanol' 600 2.0 6.0 13.7 -1.5 3.25 44.21759999999999 37.9392\n",
      "  6.274111675126903]\n",
      " ['Pentanol' 300 1.1 3.45 9.8 -0.75 1.75 20.83604166666667 29.9665625 0.0]\n",
      " ['Pentanol' 300 0.8 3.4 9.3 -1.0 1.75 21.47979166666667\n",
      "  30.942916666666665 0.0]\n",
      " ['Pentanol' 300 0.7 3.85 9.6 -1.0 1.875 21.8875 30.0953125 0.0]\n",
      " ['Pentanol' 416 0.41600000000000004 7.904 18.512 -0.5 2.65\n",
      "  28.892644444444446 41.55363333333334 2.087147766323024]\n",
      " ['Pentanol' 416 0.41600000000000004 5.615999999999999 15.808 -0.5 1.625\n",
      "  29.78531111111112 42.907511111111106 4.617734627831715]\n",
      " ['Pentanol' 416 0.41600000000000004 5.4079999999999995 14.976 -0.5 2.3\n",
      "  30.350666666666665 41.732166666666664 1.767079646017699]\n",
      " ['Pentanol' 192 0.19200000000000003 1.7280000000000002 8.64 -0.25 1.3\n",
      "  5.7856 14.214400000000003 0.0]\n",
      " ['Pentanol' 192 0.19200000000000003 3.072 9.12 -0.25 1.3 4.7872 11.2192\n",
      "  0.0]\n",
      " ['Pentanol' 192 0.19200000000000003 2.4959999999999996 8.736 -0.25 1.125\n",
      "  5.0687999999999995 12.044799999999999 0.0]\n",
      " ['Pentanol' 103 0.0 1.2875 5.579166666666667 0.0 0.65 1.8454166666666667\n",
      "  6.695 0.0]\n",
      " ['Pentanol' 103 0.0 1.0729166666666667 4.935416666666666 0.0 0.8\n",
      "  2.288888888888889 7.0240277777777775 0.0]\n",
      " ['Pentanol' 103 0.0 1.7166666666666668 6.4375 0.0 0.8 1.9455555555555557\n",
      "  7.066944444444445 0.0]]\n"
     ]
    }
   ],
   "source": [
    "import pandas as pd\n",
    "import numpy as np\n",
    "\n",
    "data = pd.read_excel('Data/nanonose.xls')\n",
    "data = data.drop([0, 1])\n",
    "data = data.drop(['Unnamed: 2'], axis=1)\n",
    "\n",
    "\n",
    "X = data.values\n",
    "\n",
    "print(data.head())\n",
    "print()\n",
    "print(X)\n"
   ]
  },
  {
   "cell_type": "markdown",
   "metadata": {},
   "source": [
    "> b. (0.3 points) The data resides in what can be seen as an 8-dimensional space. Each dimension (column), corresponds to one of the 8 NanoNose sensors. Multidimensional (>3) data is hard to visualize, as we are unable to plot that many dimensions simultaneously.\n",
    "\n",
    "> Using the `matplotlib.pyplot` library, plot the attributes A and B against each other. After you have plotted A against B, also plot a few other combinations of attributes. Plot at least 4 different combinations. \n",
    "\n",
    "> *Do not forget to label your axes and add a figure description!*\n",
    "\n",
    "> NOTE: If you want to plot inside the Jupyter notebook without calling `plt.show()` after each plot, use the following command after you imported the `matplotlib.pyplot` library: \n",
    "*%matplotlib inline* "
   ]
  },
  {
   "cell_type": "code",
   "execution_count": 166,
   "metadata": {},
   "outputs": [
    {
     "data": {
      "image/png": "[encoded data removed]",
      "text/plain": [
       "<Figure size 640x480 with 1 Axes>"
      ]
     },
     "metadata": {},
     "output_type": "display_data"
    },
    {
     "data": {
      "image/png": "[encoded data removed]",
      "text/plain": [
       "<Figure size 640x480 with 1 Axes>"
      ]
     },
     "metadata": {},
     "output_type": "display_data"
    },
    {
     "data": {
      "image/png": "[encoded data removed]",
      "text/plain": [
       "<Figure size 640x480 with 1 Axes>"
      ]
     },
     "metadata": {},
     "output_type": "display_data"
    },
    {
     "data": {
      "image/png": "[encoded data removed]",
      "text/plain": [
       "<Figure size 640x480 with 1 Axes>"
      ]
     },
     "metadata": {},
     "output_type": "display_data"
    },
    {
     "data": {
      "image/png": "[encoded data removed]",
      "text/plain": [
       "<Figure size 640x480 with 1 Axes>"
      ]
     },
     "metadata": {},
     "output_type": "display_data"
    }
   ],
   "source": [
    "import numpy as np\n",
    "import matplotlib.pyplot as plt\n",
    "import pandas as pd\n",
    " \n",
    "#simple plot\n",
    "plt.plot(data.A, data.B)\n",
    "plt.xlabel('A')\n",
    "plt.ylabel('B')\n",
    "plt.title('A plotted against B')\n",
    "plt.show()\n",
    "\n",
    "#complex plot - didn't know which one was required so i did both: .scatter & .plot\n",
    "\n",
    "plt.scatter(data.B, data.C)\n",
    "plt.xlabel('B')\n",
    "plt.ylabel('C')\n",
    "plt.title('B plotted against C')\n",
    "plt.show()\n",
    "\n",
    "plt.scatter(data.C, data.D)\n",
    "plt.xlabel('C')\n",
    "plt.ylabel('D')\n",
    "plt.title('C plotted against D')\n",
    "plt.show()\n",
    "\n",
    "plt.scatter(data.A, data.D)\n",
    "plt.xlabel('A')\n",
    "plt.ylabel('D')\n",
    "plt.title('A plotted against D')\n",
    "plt.show()\n",
    "\n",
    "plt.scatter(data.A, data.C)\n",
    "plt.xlabel('A')\n",
    "plt.ylabel('C')\n",
    "plt.title('A plotted against C')\n",
    "plt.show()\n"
   ]
  },
  {
   "cell_type": "markdown",
   "metadata": {},
   "source": [
    "\n",
    "1.2.2 Principal Component Analysis, more commonly known as PCA, can be used to visualize high dimensional data. \n",
    "\n",
    "> a. (1 point) Explain what PCA is and when it can be used. Make sure to provide an in-depth explanation and note what the drawbacks and limitations are."
   ]
  },
  {
   "cell_type": "markdown",
   "metadata": {},
   "source": [
    "--------\n",
    "\n",
    "_write your answer to 1.2.2 here_\n",
    "\n",
    "\n",
    "What is it:\n",
    "\n",
    "PCA is Principal Component Analysis - a statistical tool for dimension reduction. \n",
    "\n",
    "\n",
    "When do we use it:\n",
    "\n",
    "We use it to find common factors (= the principal components aka the eigenvectors) as linear combinations as to later on rank them according to their importance.\n",
    "\n",
    "Advantages of PCA:\n",
    "1. Removes Correlated Features\n",
    "-  efficiently finds correlations between thousands of features (correlated variables);\n",
    "- the result of using PCA on a dataset is that afterwards, all the Principal Components are independent one from another (there's no correlation between them anymore) \n",
    "2. Improves Algorithm Performance\n",
    "3. Reduces Overfitting\n",
    "4. Improves Visualization\n",
    "-------\n",
    "\n",
    "Disadveantages of PCA:\n",
    "1. Independent variables become less interpretable\n",
    "2. You must do data standardization before using PCA on a data set\n",
    "3. Information Loss"
   ]
  },
  {
   "cell_type": "markdown",
   "metadata": {},
   "source": [
    "To apply PCA we must first mean center the data. Mean centering means that the mean value for an attribute (i.e. a column) is subtracted from all values for that attribute. \n",
    "\n",
    "> b. (0.5 points) Why do we first need to mean center the data before applying PCA?"
   ]
  },
  {
   "cell_type": "markdown",
   "metadata": {},
   "source": [
    "------\n",
    "_write your answer to 1.2.2 here_\n",
    " \n",
    "We mean center the data before applying PCA because we assign equal weights to all the variables. If we wouldn't mean our values before using PCA on our data set, we would get misleading directions.\n",
    "-------------"
   ]
  },
  {
   "cell_type": "markdown",
   "metadata": {},
   "source": [
    "In practice, applying PCA comes down to a series of matrix operations, this is useful, as matrix operations can be applied with little effort and can be computed in relatively little time.\n",
    "\n",
    "The given data **X** must first be mean centered. This can be easily done by calculating a row vector **μ** containing the mean values of each attribute. Then you can subtract **μ** from **X** (**Y** = **X** - **μ**, where **μ** is subtracted from every row.).\n",
    "\n",
    "Then, the Singular Value Decomposition (or SVD) of **Y**, the now mean centered data, can be calculated. **Y** = **USV**<sup>T</sup>. In practice, this is often done using the `numpy.linalg.svd()` function.\n",
    "\n",
    "Using SVD on **Y** yields 3 matrices **U**, **S** and **V**<sup>T</sup>. These are used to project the data onto specific Principal Components (PCs). \n",
    "\n",
    "The entire dataset can be projected onto the Principal Components by multiplying **Z** = **Y\\*V**, where **Z** indicates the projected data, and **Z[:,0]** indicates the data projected onto the first PC. Alternatively, one could project onto just a subset of all the PCs by indexing in the multiplication. For example: **Z** = **Y\\*V[:,0]** would also yield the projection of the data onto the first PC.\n",
    "\n",
    "_Note that for matrices, the notation **Y\\*V** denotes the `dot` product between **Y** and **V**!_\n",
    "\n",
    "> c. (1 point)  Apply PCA (using the aforementioned method) on the Nanonose data and visualize a scatterplot of the projection of the data onto the first two PCs."
   ]
  },
  {
   "cell_type": "code",
   "execution_count": null,
   "metadata": {},
   "outputs": [],
   "source": []
  },
  {
   "cell_type": "markdown",
   "metadata": {},
   "source": [
    "> d. (1 point) Alternatively, one could use EigenValue Decomposition, EVD, instead of SVD. What are the similarities and differences between SVD and EVD? Can both be applied in each case?"
   ]
  },
  {
   "cell_type": "markdown",
   "metadata": {},
   "source": [
    "---\n",
    "\n",
    "_write your answer to 1.2.2 here_\n",
    "\n",
    "---"
   ]
  },
  {
   "cell_type": "markdown",
   "metadata": {},
   "source": [
    "PCA attempts to explain as much of the variance in data with as few PCs as possible. The variance explained by each of the PCs **m** can be calculated using the following formula: \n",
    "$$\\rho_m = 1 - \\frac{\\|{Y} - {u}_m s_{mm} {v}_m^T\\|^2_F}{\\|{Y}\\|^2_F} = \\frac{s_{mm}^2}{\\displaystyle \\sum_{m'=1}^M s^2_{m'm'}}$$\n",
    "\n",
    "Which indicates that the variation $\\rho$ for a given **m** can be calculated by dividing the squared singular value of component **m** by the sum of all squared singular values. \n",
    "> e. (1 point) Calculate the row vector $\\rho$ containing all values of $\\rho$ for all PCs **m**. Create a bar plot with the variance explained on the Y axis and the number of the PC on the X axis. "
   ]
  },
  {
   "cell_type": "code",
   "execution_count": null,
   "metadata": {},
   "outputs": [],
   "source": []
  },
  {
   "cell_type": "markdown",
   "metadata": {},
   "source": [
    "> f. (0.5 points) How much of the variance is explained by the first three PCs?"
   ]
  },
  {
   "cell_type": "code",
   "execution_count": null,
   "metadata": {},
   "outputs": [],
   "source": []
  },
  {
   "cell_type": "markdown",
   "metadata": {},
   "source": [
    "The columns of **V** indicate the exact projection of the data onto the PCs. In a way, a PC is nothing other than a linear combination of the original attributes. \n",
    "> g. (0.5 points) Which attributes are primarily represented by the first PC? What would cause an observation to have a large negative/positive projection onto the second principal component?"
   ]
  },
  {
   "cell_type": "code",
   "execution_count": null,
   "metadata": {},
   "outputs": [],
   "source": []
  },
  {
   "cell_type": "markdown",
   "metadata": {},
   "source": [
    "----\n",
    "_write your answer to 1.2.2 here_\n",
    "\n",
    "-----\n"
   ]
  },
  {
   "cell_type": "markdown",
   "metadata": {},
   "source": [
    "## 1.3 Similarity measures\n",
    "\n",
    "We will use a subset of the data on wild faces described by Berg in 2005 transformed to a total\n",
    "of 1000 grayscale images of size 40x40 pixels, we will attempt to find faces in the\n",
    "data base that are the most similar to a given query face. To measure similarity we\n",
    "will consider the following measures: SMC, Jaccard, Cosine, ExtendedJaccard, and\n",
    "Correlation. These measures of similarity are described in *Introduction to Data Mining*, page 73-77 and are given by\n",
    "\n",
    "\\begin{eqnarray*}\n",
    "\\textrm{SMC}({x},{y}) & = & \\frac{\\textrm{Number of matching attribute values}}{\\textrm{Number of attributes}} \\\\\n",
    "\\textrm{Jaccard}({x},{y}) & = & \\frac{\\textrm{Number of matching presences}}{\\textrm{Number of attributes not involved in 00 matches}} \\\\\n",
    "\\textrm{Cosine}({x},{y}) & = & \\frac{{x}^T {y}}{\\|{x}\\| \\|{y}\\|} \\\\\n",
    "\\textrm{ExtendedJaccard}({x},{y}) & = & \\frac{{x}^T {y}}{\\|{x}\\|^2 + \\|{y}\\|^2 - {x}^T {y}} \\\\\n",
    "\\textrm{Correlation}({x},{y}) & = & \\frac{\\textrm{cov}({x},{y})}{\\textrm{std}({x}) \\textrm{std}({y})}\n",
    "\\\\\n",
    "\\end{eqnarray*}\n",
    "<br>where $\\textrm{cov}({x},{y})$ denotes the covariance between ${x}$ and ${y}$ and $\\textrm{std}({x})$ denotes the standard deviation of ${x}$.\n",
    "\n",
    "Notice that the SMC and Jaccard similarity measures only are defined for binary data, i.e., data that takes values in $\\{0,1\\}$. As the data we analyze is non-binary, the script will transform the data to be binary when calculating these two measures of similarity by setting\n",
    "\n",
    "$$x_i = \\left\\{ \\begin{array}{ll} 0 & \\textrm{if~} x_i < \\textrm{median}({x}) \\\\\n",
    "                                1 & \\textrm{otherwise.} \\end{array} \\right.$$\n",
    "                                \n",
    "### 1.3.1\n",
    "> a) (0.5 points) Inspect and run the simfaces function from the Toolbox. The function loads the CBCL face database, computes the similarity between a selected query image and all others, and display the query image, the 5 most similar images, and the 5 least similar images. The value of the used similarity measure is shown below each image. Try changing the query image and the similarity measure and see what happens. Which similarity measures produce similar results? Which one gives the best result? Why?\n",
    "\n",
    "> Give a quick overview of the settings (image number and similarity measure) for each time you run the script. Remember to leave results open!\n",
    "\n"
   ]
  },
  {
   "cell_type": "code",
   "execution_count": null,
   "metadata": {},
   "outputs": [],
   "source": []
  },
  {
   "cell_type": "markdown",
   "metadata": {},
   "source": [
    "----\n",
    "\n",
    "_write your answer to 1.3.1 here_\n",
    "\n",
    "----\n"
   ]
  },
  {
   "cell_type": "markdown",
   "metadata": {},
   "source": [
    "\n",
    "> b) (0.75 points) We will investigate how scaling and translation impact the following three\n",
    "similarity measures: Cosine, ExtendedJaccard, and Correlation. Let **x** and **y** be two small vectors of the same size. Let $\\alpha$ and $\\beta$ be two constants. You can generate these randomly or set them as you see fit. Using Python, calculate the following similarity measures, and check if the statements below are correct.\n",
    "\n",
    "\\begin{eqnarray*}\n",
    "\\textrm{Cosine}(\\alpha{x},{y}) & = & \\textrm{Cosine}({x},{y}) \\\\\n",
    "\\textrm{ExtendedJaccard}(\\alpha{x},{y}) & = & \\textrm{ExtendedJaccard}({x},{y}) \\\\\n",
    "\\textrm{Correlation}(\\alpha{x},{y}) & = & \\textrm{Correlation}({x},{y}) \\\\\n",
    "\\textrm{Cosine}(\\beta + {x},{y}) & = & \\textrm{Cosine}({x},{y}) \\\\\n",
    "\\textrm{ExtendedJaccard}(\\beta + {x},{y}) & = & \\textrm{ExtendedJaccard}({x},{y}) \\\\\n",
    "\\textrm{Correlation}(\\beta + {x},{y}) & = & \\textrm{Correlation}({x},{y})\n",
    "\\end{eqnarray*}\n",
    "\n",
    "> Type `help similarity` or study `similarity.py` to learn about the function that is used to compute the similarity measures. Do not forget to also import similarity.py!\n",
    "\n",
    "> Even though a similarity measure is theoretically invariant e.g.\\ to scaling, it might not be exactly invariant numerically.\n",
    "\n",
    "> Do not forget to also provide an explanation in addition to the calculations!\n"
   ]
  },
  {
   "cell_type": "code",
   "execution_count": null,
   "metadata": {},
   "outputs": [],
   "source": []
  },
  {
   "cell_type": "markdown",
   "metadata": {},
   "source": [
    "---\n",
    "\n",
    "_write your answer to 1.3.1 here_\n",
    "\n",
    "---"
   ]
  }
 ],
 "metadata": {
  "kernelspec": {
   "display_name": "Python 3",
   "language": "python",
   "name": "python3"
  },
  "language_info": {
   "codemirror_mode": {
    "name": "ipython",
    "version": 3
   },
   "file_extension": ".py",
   "mimetype": "text/x-python",
   "name": "python",
   "nbconvert_exporter": "python",
   "pygments_lexer": "ipython3",
   "version": "3.7.3"
  },
  "varInspector": {
   "cols": {
    "lenName": 16,
    "lenType": 16,
    "lenVar": 40
   },
   "kernels_config": {
    "python": {
     "delete_cmd_postfix": "",
     "delete_cmd_prefix": "del ",
     "library": "var_list.py",
     "varRefreshCmd": "print(var_dic_list())"
    },
    "r": {
     "delete_cmd_postfix": ") ",
     "delete_cmd_prefix": "rm(",
     "library": "var_list.r",
     "varRefreshCmd": "cat(var_dic_list()) "
    }
   },
   "position": {
    "height": "790px",
    "left": "827px",
    "right": "20px",
    "top": "64px",
    "width": "800px"
   },
   "types_to_exclude": [
    "module",
    "function",
    "builtin_function_or_method",
    "instance",
    "_Feature"
   ],
   "window_display": false
  }
 },
 "nbformat": 4,
 "nbformat_minor": 2
}
