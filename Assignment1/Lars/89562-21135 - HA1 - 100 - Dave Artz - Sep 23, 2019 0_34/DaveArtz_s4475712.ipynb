{
 "cells": [
  {
   "cell_type": "markdown",
   "metadata": {},
   "source": [
    "# Assignment 1\n",
    "\n",
    "## Objective of this assignment\n",
    "The objective is to get acquainted with the Python language, with emphasis on its scientific and numerical extensions, how data can be imported from other data sources, linear algebra basics that is needed in this course, visualization using principal component analysis (PCA) and the concept of similarity. Upon completing this exercise it is expected that you:\n",
    "\n",
    "- Understand how data can be represented as vectors and matrices in numerical Python (NumPy).\n",
    "- Can apply and interpret principal component analysis (PCA) for data visualization.\n",
    "- Understand the various measures of similarity such as Jaccard and Cosine similarity and apply similarity measures to query for similar observations.\n",
    "\n",
    "## ** Important: ** When handing in your homework:\n",
    "+ Hand in the notebook (and nothing else) named as follows: StudentName1_snumber_StudentName2_snumber.ipynb\n",
    "+ Provide clear and complete answers to the questions below under a seperate header (not hidden some-where in your source code), and make sure to explain your answers / motivate your choices. Add Markdown cells where necessary.\n",
    "+ Source code, output graphs, derivations, etc., should be included in the notebook.\n",
    "+ Hand-in: upload to Blackboard.\n",
    "+ Include name, student number, assignment (especially in filenames)!\n",
    "+ When working in pairs only one of you should upload the assignment, and report the name of your partner in your filename.\n",
    "+ For problems or questions: use the BB discussion board or email the student assistants.\n",
    "\n",
    "## Advised Reading and Exercise Material\n",
    "**The following on-line materials are recommended:**\n",
    "\n",
    "- <http://docs.python.org/tutorial> - Introduction into Python environment, syntax and data structures. Recommended reading - sections 1, 2, 3, 4 and 5.\n",
    "- <http://www.scipy.org/Tentative_NumPy_Tutorial> - Tutorial introducing the scientific computing in Python, array and matrix operations, indexing and slicing matrices.\n",
    "- <http://www.scipy.org/NumPy_for_Matlab_Users> - Useful reference to scientific computing in Python if you have previous experience with MATLAB programming.\n",
    "- <https://www.datacamp.com/courses/intro-to-python-for-data-science> - Simple introduction to Data Science using Python.\n",
    "- <http://matplotlib.sourceforge.net> - Documentation and examples related to matplotlib module, which we shall use extensively through the course to visualize data and results.\n",
    "- Pang-Ning Tan, Michael Steinbach, and Vipin Kumar, {\\em Introduction to Data Mining}, sections 2.1-2.3 + (A) + B.1\n",
    "- <http://http://www.youtube.com/course?list=ECEA1FEF17E1E5C0DA> - Series of video tutorials covering basics of Python programming.\n",
    "- Pang-Ning Tan, Michael Steinbach, and Vipin Kumar, {\\em Introduction to Data Mining}, sections 2.4 + 3.1-3.2 + C.1-C.2\n",
    "\n",
    "\n",
    "## 1.1 Python and Linear Algebra basics\n",
    "\n",
    "**For this course we advise to only use NumPy ndarrays ndarrays to represent vectors and matrices. The numpy.matrix data type, although intuitive, is less supported and uses operators for multiplication differently. This means that you can't perform matrix multiplications symbollically, but that you will have to use functions from the NumPy library!** \n",
    "\n",
    "**1.1.1** (0.3 points) Generate (and print) the following vectors using functions from the *NumPy* package in Python: \n",
    "*Note: You do not have to print column vectors as columns!*\n",
    "\n",
    "\\begin{equation}\n",
    "     \\textbf{x} = \\begin{pmatrix} \n",
    "         6 \\\\\n",
    "         7 \\\\\n",
    "         8 \\\\\n",
    "         9 \\\\\n",
    "         10 \\\\\n",
    "         11 \\\\\n",
    "         12\n",
    "       \\end{pmatrix}\n",
    "     \\textbf{y} = \\begin{pmatrix} \n",
    "         3 \\\\\n",
    "         7 \\\\\n",
    "         11 \\\\\n",
    "         15 \\\\\n",
    "         19 \\\\\n",
    "         23 \\\\\n",
    "         27\n",
    "       \\end{pmatrix}\n",
    "     \\textbf{w} = \\begin{pmatrix} \n",
    "         1 \\\\\n",
    "         1 \\\\\n",
    "         0 \\\\\n",
    "         0.5 \\\\\n",
    "         1 \\\\\n",
    "         1.5 \\\\\n",
    "         2 \\\\\n",
    "         0 \\\\\n",
    "         0 \n",
    "       \\end{pmatrix}\n",
    "     \\textbf{s} = \\begin{pmatrix}\n",
    "         100 \\\\\n",
    "         98.8 \\\\\n",
    "         97.6 \\\\\n",
    "         96.4 \\\\\n",
    "         95.2\n",
    "       \\end{pmatrix} \n",
    "     \\textbf{z} = \\begin{pmatrix}\n",
    "         0.7 \\\\\n",
    "         1.0 \\\\\n",
    "         1.3 \\\\\n",
    "         1.6 \\\\\n",
    "         1.9 \\\\\n",
    "         2.2 \\\\\n",
    "         2.5 \\\\\n",
    "         2.8\n",
    "       \\end{pmatrix}\n",
    "  \\end{equation}\n",
    "\n"
   ]
  },
  {
   "cell_type": "code",
   "execution_count": 1,
   "metadata": {
    "scrolled": false
   },
   "outputs": [],
   "source": [
    "#Import NumPy\n",
    "import numpy as np\n",
    "#You'll have to manually import libraries in the future!"
   ]
  },
  {
   "cell_type": "code",
   "execution_count": 2,
   "metadata": {
    "scrolled": true
   },
   "outputs": [
    {
     "name": "stdout",
     "output_type": "stream",
     "text": [
      "[ 6  7  8  9 10 11 12]\n",
      "[ 3  7 11 15 19 23 27]\n",
      "[1.  1.  0.  0.  5.  1.  1.5 2.  0.  0. ]\n",
      "[100.   98.8  97.6  96.4  95.2]\n",
      "[0.7 1.  1.3 1.6 1.9 2.2 2.5 2.8]\n"
     ]
    }
   ],
   "source": [
    "#Generate the vectors in  using Python and NumPy \n",
    "x = np.array([6,7,8,9,10,11,12])\n",
    "y = np.array([3,7,11,15,19,23,27])\n",
    "w = np.array([1,1,0,0,5,1,1.5,2,0,0])\n",
    "s = np.array([100,98.8,97.6,96.4,95.2])\n",
    "z = np.array([0.7, 1.0, 1.3, 1.6, 1.9, 2.2, 2.5, 2.8])\n",
    "print(x)\n",
    "print(y)\n",
    "print(w)\n",
    "print(s)\n",
    "print(z)"
   ]
  },
  {
   "cell_type": "code",
   "execution_count": 3,
   "metadata": {},
   "outputs": [
    {
     "name": "stdout",
     "output_type": "stream",
     "text": [
      "[21 28 35 42 49 56 63]\n"
     ]
    }
   ],
   "source": [
    "#Then compute the following operations:\n",
    "# a. (0.2 points) **v** = 3**x** + **y**\n",
    "v = (3 * x)+y\n",
    "print(v)"
   ]
  },
  {
   "cell_type": "markdown",
   "metadata": {},
   "source": [
    "##Answer to question 1.1.1a\n",
    "\n",
    "print(v)"
   ]
  },
  {
   "cell_type": "markdown",
   "metadata": {},
   "source": [
    "> b. (0.2 points) Compute the dot product between **x** and **y** and name it **q**\n"
   ]
  },
  {
   "cell_type": "code",
   "execution_count": 4,
   "metadata": {},
   "outputs": [
    {
     "name": "stdout",
     "output_type": "stream",
     "text": [
      "[ 18  49  88 135 190 253 324]\n"
     ]
    }
   ],
   "source": [
    "##Answer to question 1.1.1b\n",
    "q = x * y\n",
    "print(q)"
   ]
  },
  {
   "cell_type": "markdown",
   "metadata": {},
   "source": [
    "> c. (0.2 points) **t** = pi(**s** + 4) (element wise multiplication)"
   ]
  },
  {
   "cell_type": "code",
   "execution_count": 5,
   "metadata": {},
   "outputs": [
    {
     "name": "stdout",
     "output_type": "stream",
     "text": [
      "[326.72563597 322.95572479 319.1858136  315.41590242 311.64599124]\n"
     ]
    }
   ],
   "source": [
    "##Answer to question 1.1.1c\n",
    "t = np.pi*(s+4)\n",
    "print(t)"
   ]
  },
  {
   "cell_type": "markdown",
   "metadata": {},
   "source": [
    "> d. (0.2 points) **z** = **z** - 1"
   ]
  },
  {
   "cell_type": "code",
   "execution_count": 6,
   "metadata": {},
   "outputs": [
    {
     "name": "stdout",
     "output_type": "stream",
     "text": [
      "[-0.3  0.   0.3  0.6  0.9  1.2  1.5  1.8]\n"
     ]
    }
   ],
   "source": [
    "##Answer to question 1.1.1d\n",
    "z = z-1\n",
    "print(z)"
   ]
  },
  {
   "cell_type": "markdown",
   "metadata": {},
   "source": [
    "> e. (0.2 points) replace some values of x, such that the last three values in the vector are 4"
   ]
  },
  {
   "cell_type": "code",
   "execution_count": 7,
   "metadata": {},
   "outputs": [
    {
     "name": "stdout",
     "output_type": "stream",
     "text": [
      "[6 7 8 9 4 4 4]\n"
     ]
    }
   ],
   "source": [
    "##Answer to question 1.1.1e\n",
    "x[4] = 4\n",
    "x[5] = 4\n",
    "x[6] = 4\n",
    "print(x)"
   ]
  },
  {
   "cell_type": "markdown",
   "metadata": {},
   "source": [
    "> f. (0.2 points) **r** = 2**w** - 5"
   ]
  },
  {
   "cell_type": "code",
   "execution_count": 8,
   "metadata": {},
   "outputs": [
    {
     "name": "stdout",
     "output_type": "stream",
     "text": [
      "[ -8.  -8. -10. -10.   0.  -8.  -7.  -6. -10. -10.]\n"
     ]
    }
   ],
   "source": [
    "##Answer to question 1.1.1f\n",
    "r = 2*(w-5)\n",
    "print(r)"
   ]
  },
  {
   "cell_type": "markdown",
   "metadata": {},
   "source": [
    "**1.1.2** (0.25 points) Generate these matrices:\n",
    "\n",
    "\\begin{equation}\n",
    "     \\textbf{M} = \\begin{pmatrix} \n",
    "         1 & 2 & 3 \\\\\n",
    "         6 & 8 & 4 \\\\\n",
    "         6 & 7 & 5          \n",
    "         \\end{pmatrix}\n",
    "     \\textbf{N} = \\begin{pmatrix} \n",
    "         4 & 6 \\\\\n",
    "         7 & 2 \\\\\n",
    "         5 & 1\n",
    "         \\end{pmatrix}\n",
    "     \\textbf{P} = \\begin{pmatrix} \n",
    "         2 & 5 \\\\\n",
    "         5 & 5 \n",
    "         \\end{pmatrix}   \n",
    "\\end{equation}\n",
    "\n",
    "Afterwards try and compute the operations for subquestions *a* up to and including *e* and print the resulting matrix. If some operations yield errors, give the reason as to why that happens.\n",
    "\n",
    "*A hint: NumPy has functions for matrix operations you can, and should, use!*"
   ]
  },
  {
   "cell_type": "code",
   "execution_count": 9,
   "metadata": {},
   "outputs": [
    {
     "name": "stdout",
     "output_type": "stream",
     "text": [
      "[[1 2 3]\n",
      " [6 8 4]\n",
      " [6 7 5]]\n",
      "[[4 6]\n",
      " [7 2]\n",
      " [5 1]]\n",
      "[[2 5]\n",
      " [5 5]]\n"
     ]
    }
   ],
   "source": [
    "##Generate the matrices using Python and NumPy\n",
    "M = np.matrix([[1,2,3],[6,8,4],[6,7,5]])\n",
    "N = np.matrix([[4,6],[7,2],[5,1]])\n",
    "P = np.matrix([[2,5],[5,5]])\n",
    "print(M)\n",
    "print(N)\n",
    "print(P)\n",
    "\n"
   ]
  },
  {
   "cell_type": "markdown",
   "metadata": {},
   "source": [
    "> a. (0.2 points) **A** = **MN** + **N**"
   ]
  },
  {
   "cell_type": "code",
   "execution_count": 10,
   "metadata": {},
   "outputs": [
    {
     "name": "stdout",
     "output_type": "stream",
     "text": [
      "[[ 37  19]\n",
      " [107  58]\n",
      " [103  56]]\n"
     ]
    }
   ],
   "source": [
    "##Answer to question 1.1.2a\n",
    "A = M.dot(N)+N\n",
    "print(A)"
   ]
  },
  {
   "cell_type": "markdown",
   "metadata": {},
   "source": [
    "> b. (0.2 points) **B** = **N**<sup>T</sup>**M**"
   ]
  },
  {
   "cell_type": "code",
   "execution_count": 11,
   "metadata": {},
   "outputs": [
    {
     "name": "stdout",
     "output_type": "stream",
     "text": [
      "[[76 99 65]\n",
      " [24 35 31]]\n"
     ]
    }
   ],
   "source": [
    "##Answer to question 1.1.2b\n",
    "B = N.transpose().dot(M)\n",
    "print(B)"
   ]
  },
  {
   "cell_type": "markdown",
   "metadata": {},
   "source": [
    "> c. (0.2 points) **C** = **P**<sup>-1</sup> + **P**"
   ]
  },
  {
   "cell_type": "code",
   "execution_count": 12,
   "metadata": {},
   "outputs": [
    {
     "name": "stdout",
     "output_type": "stream",
     "text": [
      "[[1.66666667 5.33333333]\n",
      " [5.33333333 4.86666667]]\n"
     ]
    }
   ],
   "source": [
    "##Answer to question 1.1.2c\n",
    "C = P.I + P\n",
    "print(C)"
   ]
  },
  {
   "cell_type": "markdown",
   "metadata": {},
   "source": [
    "> d. (0.2 points) **D** = **AC**(**C** + **B**)"
   ]
  },
  {
   "cell_type": "code",
   "execution_count": 13,
   "metadata": {},
   "outputs": [
    {
     "name": "stdout",
     "output_type": "stream",
     "text": [
      "[[163.         289.8       ]\n",
      " [487.66666667 852.93333333]\n",
      " [470.33333333 821.86666667]]\n"
     ]
    }
   ],
   "source": [
    "##Answer to question 1.1.2d\n",
    "# can't do C + B right?\n",
    "#D = A.dot(C).dot(C+B)\n",
    "D = A.dot(C)\n",
    "print(D)"
   ]
  },
  {
   "cell_type": "markdown",
   "metadata": {},
   "source": [
    "> e. (0.2 points) Compute the eigenvalues and eigenvectors of **M**, **N**, and **P** (and print them)."
   ]
  },
  {
   "cell_type": "code",
   "execution_count": 14,
   "metadata": {},
   "outputs": [
    {
     "name": "stdout",
     "output_type": "stream",
     "text": [
      "[-1.26208735 14.26208735  1.        ]\n",
      "[[-0.84234218  0.25759308  0.51507875]\n",
      " [ 0.38109032  0.68324439 -0.71318597]\n",
      " [ 0.38109032  0.68324439  0.47545731]]\n",
      "[-1.72015325  8.72015325]\n",
      "[[-0.80229293 -0.59693053]\n",
      " [ 0.59693053 -0.80229293]]\n"
     ]
    }
   ],
   "source": [
    "from numpy import linalg\n",
    "eigenvaluesM, eigenvectorM = linalg.eig(M)\n",
    "print(eigenvaluesM)\n",
    "print(eigenvectorM)\n",
    "\n",
    "eigenvaluesP, eigenvectorP = linalg.eig(P)\n",
    "print(eigenvaluesP)\n",
    "print(eigenvectorP)\n",
    "\n",
    "# Can't compute from N as it is not an n*n matrix"
   ]
  },
  {
   "cell_type": "markdown",
   "metadata": {},
   "source": [
    "## 1.2 Principal Component Analysis\n",
    "\n",
    "**1.2.1** many experimenters have a habit of using Microsoft Excel as their tool to record measurements from experiments. Fortunately Python can read Excel files. Various methods exist, of which the use of the Python library Pandas is arguably one of the easiest for the purpose of Data Mining.\n",
    "\n",
    "The data used in this exercise is based on data from a chemical sensor obtained from the NanoNose project[1]. The data contains 8 sensors, named by the letters A-H, measuring the concentration of Water, Ethanol, Acetone, Heptane and Pentanol injected into a small gas chamber. The data will be represented in matrix form such that each column contains the 8 sensor measurements (i.e., sensor A-H) of the various compounds injected into the gas chamber.\n",
    "> a. (0.2 points) Inspect the nanonose.xls file in the Data folder and make sure you understand how the data is stored in Excel.\n",
    "\n",
    "> *Load the data in python using the Pandas library (use the read_excel() function). Make sure you read some of the Pandas documentation! Especially slicing, indexing and dropping are useful commands*\n",
    "\n",
    "> *make sure to inspect the data first! You should cut out some rows and columns! You can easily inspect the structure of the Pandas dataframe using the head() function.*\n",
    "\n",
    "> *Finally use the as_matrix() function to cast the Pandas dataframe to a NumPy array. Note: counterintuitively, this yields an object of type: numpy.ndarray, not of type numpy.matrix!*"
   ]
  },
  {
   "cell_type": "markdown",
   "metadata": {},
   "source": [
    "> b. (0.3 points) The data resides in what can be seen as an 8-dimensional space. Each dimension (column), corresponds to one of the 8 NanoNose sensors. Multidimensional (>3) data is hard to visualize, as we are unable to plot that many dimensions simultaneously.\n",
    "\n",
    "> Using the matplotlib library, plot the attributes A and B against each other. After you have plotted A against B, also plot a few other combinations of attributes. Plot at least 4 different combinations. \n",
    "\n",
    "> *Do not forget to label your axes and add a figure description!*\n",
    "\n",
    "> NOTE: If you want to plot inside the Jupyter notebook use the following command after you imported the library: \n",
    "*%matplotlib inline* "
   ]
  },
  {
   "cell_type": "code",
   "execution_count": 15,
   "metadata": {},
   "outputs": [
    {
     "name": "stdout",
     "output_type": "stream",
     "text": [
      "[[ 9.55000000e+01  2.10000000e+01  6.00000000e+00  1.19423077e+01\n",
      "   6.41346154e+01  2.14985600e+01  5.56784000e+00  1.17413500e+00]\n",
      " [ 9.45000000e+01  1.70000000e+01  5.00000000e+00  5.48461538e+00\n",
      "   6.32057692e+01  1.96585600e+01  4.96800000e+00  1.88344390e+00]\n",
      " [ 9.20000000e+01  1.60000000e+01  3.00000000e+00  1.10576923e+01\n",
      "   6.25865385e+01  1.98131200e+01  5.19248000e+00  5.64834677e-01]\n",
      " [ 5.30000000e+01  7.50000000e+00  2.50000000e+00  3.53846154e+00\n",
      "   3.51634615e+01  6.87620690e+00  1.64172414e+00  1.44654088e-01]\n",
      " [ 5.10000000e+01  7.50000000e+00  2.50000000e+00  4.86538462e+00\n",
      "   3.40576923e+01  6.75724138e+00  1.61396552e+00  5.96627756e-02]\n",
      " [ 5.00000000e+01  8.00000000e+00  2.50000000e+00  3.98076923e+00\n",
      "   3.36153846e+01  6.77310345e+00  1.77655172e+00  7.55088641e-02]\n",
      " [ 2.75000000e+01  4.00000000e+00  1.50000000e+00  2.20000000e+00\n",
      "   1.83557692e+01  2.79833333e+00  5.63500000e-01  3.03830911e-02]\n",
      " [ 2.75000000e+01  4.50000000e+00  1.50000000e+00  2.20000000e+00\n",
      "   1.72500000e+01  2.62966667e+00  8.54833333e-01  0.00000000e+00]\n",
      " [ 2.70000000e+01  4.00000000e+00  1.50000000e+00  3.10000000e+00\n",
      "   1.74711538e+01  2.64500000e+00  6.24833333e-01  0.00000000e+00]\n",
      " [ 1.35000000e+01  1.50000000e+00  0.00000000e+00  1.76923077e+00\n",
      "   9.73076923e+00  1.11406250e+00  4.95937500e-01  0.00000000e+00]\n",
      " [ 1.30000000e+01  2.00000000e+00  5.00000000e-01  2.65384615e+00\n",
      "   1.06153846e+01  1.07812500e+00  4.52812500e-01  0.00000000e+00]\n",
      " [ 1.32500000e+01  2.50000000e+00  2.50000000e-01  2.65384615e+00\n",
      "   8.84615385e+00  4.24062500e-01  1.15000000e-01  0.00000000e+00]\n",
      " [ 4.50000000e+00  8.00000000e-01  0.00000000e+00  4.42307692e-01\n",
      "   2.43269231e+00  6.51666667e-01  5.29000000e-01  0.00000000e+00]\n",
      " [ 4.00000000e+00  8.00000000e-01  0.00000000e+00  8.84615385e-01\n",
      "   3.67115385e+00  4.06333333e-01  3.48833333e-01  0.00000000e+00]\n",
      " [ 3.70000000e+00  5.00000000e-01  0.00000000e+00  1.32692308e+00\n",
      "   3.75961538e+00  3.29666667e-01  2.53000000e-01  0.00000000e+00]\n",
      " [ 1.50000000e+00  0.00000000e+00  0.00000000e+00  0.00000000e+00\n",
      "   1.10769231e+00  1.32324324e-01  1.44000000e-01  0.00000000e+00]\n",
      " [ 1.50000000e+00  0.00000000e+00  0.00000000e+00  0.00000000e+00\n",
      "   1.32923077e+00 -6.22702703e-02  5.44864865e-02  0.00000000e+00]\n",
      " [ 1.50000000e+00  0.00000000e+00  0.00000000e+00  0.00000000e+00\n",
      "   1.50646154e+00  3.50270270e-01  5.48756757e-01  0.00000000e+00]\n",
      " [ 2.30000000e+01  5.10000000e+01  2.50000000e+01  9.60000000e+01\n",
      "   1.42500000e+02  6.95290909e+01  3.89518182e+01  3.54265994e+01]\n",
      " [ 2.35000000e+01  6.10000000e+01  3.02000000e+01  1.29000000e+02\n",
      "   1.42000000e+02  6.55581818e+01  3.92827273e+01  3.54823433e+01]\n",
      " [ 2.20000000e+01  6.35000000e+01  3.05000000e+01  1.49000000e+02\n",
      "   1.40500000e+02  6.43109091e+01  3.94481818e+01  3.61791677e+01]\n",
      " [ 1.25000000e+01  5.05000000e+01  2.00000000e+01  6.00000000e+01\n",
      "   9.45000000e+01  3.01714286e+01  3.17280000e+01  1.82377383e+01]\n",
      " [ 1.25000000e+01  5.10000000e+01  2.05000000e+01  5.20000000e+01\n",
      "   9.35000000e+01  3.05142857e+01  3.14811429e+01  1.82481333e+01]\n",
      " [ 1.20000000e+01  5.00000000e+01  1.80000000e+01  5.00000000e+01\n",
      "   8.95000000e+01  2.82788571e+01  3.08777143e+01  1.82688110e+01]\n",
      " [ 6.00000000e+00  3.35000000e+01  1.25000000e+01  2.60000000e+01\n",
      "   6.55000000e+01  1.37585455e+01  2.19796364e+01  9.99343139e+00]\n",
      " [ 6.00000000e+00  3.20000000e+01  1.15000000e+01  2.80000000e+01\n",
      "   6.30000000e+01  1.40334545e+01  2.22152727e+01  1.03029457e+01]\n",
      " [ 7.50000000e+00  3.15000000e+01  1.15000000e+01  2.50000000e+01\n",
      "   6.10000000e+01  1.41381818e+01  2.18029091e+01  9.64016736e+00]\n",
      " [ 5.00000000e+00  2.35000000e+01  8.20000000e+00  1.06875000e+01\n",
      "   3.79687500e+01  5.95862069e+00  1.49275862e+01  5.55704698e+00]\n",
      " [ 5.50000000e+00  2.40000000e+01  9.00000000e+00  1.06875000e+01\n",
      "   3.76875000e+01  6.20689655e+00  1.45986207e+01  4.58681948e+00]\n",
      " [ 5.25000000e+00  2.37500000e+01  8.60000000e+00  1.06875000e+01\n",
      "   3.85312500e+01  5.46206897e+00  1.38289655e+01  5.16295105e+00]\n",
      " [ 5.00000000e-01  1.18000000e+01  3.50000000e+00  3.37500000e+00\n",
      "   2.27812500e+01  2.76000000e+00  1.01200000e+01  3.28943338e+00]\n",
      " [ 1.00000000e+00  1.23000000e+01  3.30000000e+00  3.37500000e+00\n",
      "   2.30625000e+01  2.54666667e+00  9.94000000e+00  3.35397758e+00]\n",
      " [ 1.00000000e+00  1.14000000e+01  3.50000000e+00  3.15000000e+00\n",
      "   2.27812500e+01  2.64000000e+00  9.89333333e+00  3.35946991e+00]\n",
      " [ 0.00000000e+00  5.50000000e+00  1.50000000e+00  1.68750000e+00\n",
      "   1.20937500e+01  9.39705882e-01  5.74411765e+00  1.73898305e+00]\n",
      " [ 0.00000000e+00  5.70000000e+00  1.50000000e+00  1.68750000e+00\n",
      "   1.23750000e+01  1.46911765e+00  5.85661765e+00  1.52228571e+00]\n",
      " [ 0.00000000e+00  5.50000000e+00  1.80000000e+00  2.25000000e+00\n",
      "   1.26562500e+01  1.20441176e+00  5.69779412e+00  1.91061453e+00]\n",
      " [ 1.55000000e+01  8.45000000e+01  4.25000000e+01  2.35529412e+02\n",
      "   1.22903529e+02  7.43288000e+01  5.51096000e+01  2.01329560e+02]\n",
      " [ 1.40000000e+01  1.10000000e+02  4.40000000e+01  1.90992941e+02\n",
      "   1.17764706e+02  7.05016000e+01  5.39032000e+01  2.07830304e+02]\n",
      " [ 1.60000000e+01  1.28000000e+02  5.10000000e+01  1.41317647e+02\n",
      "   1.10484706e+02  6.96800000e+01  5.41008000e+01  2.06679063e+02]\n",
      " [ 6.00000000e+00  9.10000000e+01  3.30000000e+01  8.94348894e+01\n",
      "   7.78083538e+01  3.17998841e+01  4.07785507e+01  8.86087950e+01]\n",
      " [ 7.00000000e+00  8.75000000e+01  3.00000000e+01  1.14476658e+02\n",
      "   7.82555283e+01  3.15466667e+01  4.04778551e+01  9.00221851e+01]\n",
      " [ 7.00000000e+00  8.00000000e+01  3.00000000e+01  1.16265356e+02\n",
      "   7.19950860e+01  3.14517101e+01  4.03987246e+01  9.02717403e+01]\n",
      " [ 3.00000000e+00  6.80000000e+01  2.10000000e+01  6.66082474e+01\n",
      "   5.30051546e+01  1.48127778e+01  2.92817778e+01  4.43312154e+01]\n",
      " [ 3.00000000e+00  6.30000000e+01  2.00000000e+01  8.34948454e+01\n",
      "   5.91030928e+01  1.53790000e+01  2.95648889e+01  4.38936765e+01]\n",
      " [ 4.00000000e+00  6.40000000e+01  2.00000000e+01  8.53711340e+01\n",
      "   5.58195876e+01  1.55610000e+01  2.91756111e+01  4.41229878e+01]\n",
      " [ 2.00000000e+00  4.90000000e+01  1.30000000e+01  3.60849057e+01\n",
      "   3.34787736e+01  6.04340659e+00  1.73082418e+01  2.03275632e+01]\n",
      " [ 1.75000000e+00  5.15000000e+01  1.55000000e+01  3.60849057e+01\n",
      "   3.40801887e+01  6.07142857e+00  1.75184066e+01  1.88967704e+01]\n",
      " [ 1.50000000e+00  4.75000000e+01  1.30000000e+01  3.60849057e+01\n",
      "   3.35790094e+01  5.90329670e+00  1.72428571e+01  1.79529975e+01]\n",
      " [ 0.00000000e+00  2.90000000e+01  8.00000000e+00  1.66666667e+01\n",
      "   1.72916667e+01  2.29302326e+00  1.19691860e+01  9.60524120e+00]\n",
      " [ 1.00000000e+00  2.70000000e+01  8.00000000e+00  2.33333333e+01\n",
      "   1.79166667e+01  2.42151163e+00  1.18505814e+01  8.66533519e+00]\n",
      " [ 1.00000000e+00  2.60000000e+01  8.00000000e+00  1.50000000e+01\n",
      "   1.72916667e+01  2.52034884e+00  1.18851744e+01  8.94417692e+00]\n",
      " [ 0.00000000e+00  1.40000000e+01  4.00000000e+00  8.67346939e+00\n",
      "   7.80612245e+00  6.02906977e-01  6.45406977e+00  3.93205638e+00]\n",
      " [ 0.00000000e+00  1.30000000e+01  4.00000000e+00  8.67346939e+00\n",
      "   8.23979592e+00  8.00581395e-01  6.94331395e+00  3.79741065e+00]\n",
      " [ 0.00000000e+00  1.40000000e+01  4.00000000e+00  8.67346939e+00\n",
      "   7.37244898e+00  1.06744186e+00  6.57267442e+00  4.20084930e+00]\n",
      " [ 8.50000000e+00  8.50000000e+00  1.25000000e+01  1.60000000e+01\n",
      "   1.50000000e+00  8.66047826e+00  1.47866087e+01  1.00545957e+02]\n",
      " [ 8.50000000e+00  8.50000000e+00  1.25000000e+01  1.32500000e+01\n",
      "   2.00000000e+00  7.15734783e+00  1.34757391e+01  8.65678464e+01]\n",
      " [ 3.00000000e+00  4.00000000e+00  1.30000000e+01  1.05000000e+01\n",
      "   2.00000000e+00  7.92639130e+00  1.32616304e+01  1.15995926e+02]\n",
      " [ 2.50000000e+00  5.50000000e+00  9.50000000e+00  8.00000000e+00\n",
      "   1.50000000e+00  3.80193396e+00  7.34313679e+00  1.19542105e+01]\n",
      " [ 1.00000000e+00 -5.00000000e-01  8.00000000e+00  7.00000000e+00\n",
      "   1.25000000e+00  3.53646226e+00  7.10610849e+00  1.25681188e+01]\n",
      " [ 2.50000000e+00  5.00000000e-01  9.50000000e+00  1.00000000e+01\n",
      "   1.25000000e+00  3.63127358e+00  7.06344340e+00  1.18384824e+01]\n",
      " [ 5.00000000e-01  5.00000000e-01  5.50000000e+00  7.00000000e+00\n",
      "   1.75000000e+00  1.46181818e+00  3.39415909e+00  1.74192666e+00]\n",
      " [ 7.50000000e-01  1.25000000e+00  5.75000000e+00  7.00000000e+00\n",
      "   1.50000000e+00  1.86381818e+00  4.06568182e+00  2.80991285e+00]\n",
      " [ 1.50000000e+00  1.50000000e+00  6.00000000e+00  7.00000000e+00\n",
      "   1.75000000e+00  1.71763636e+00  3.85554545e+00  3.02606676e+00]\n",
      " [ 1.00000000e+00  5.00000000e-01  4.00000000e+00  3.00000000e+00\n",
      "   1.00000000e+00  5.23333333e-01  1.73746667e+00  1.41000000e+00]\n",
      " [ 1.50000000e+00  1.00000000e+00  4.50000000e+00  3.00000000e+00\n",
      "   1.00000000e+00  5.58222222e-01  1.61884444e+00  1.48000000e+00]\n",
      " [ 1.00000000e+00  0.00000000e+00  3.80000000e+00  2.00000000e+00\n",
      "   1.00000000e+00  4.53555556e-01  1.72351111e+00  1.30000000e+00]\n",
      " [ 5.00000000e-01  0.00000000e+00  2.00000000e+00  0.00000000e+00\n",
      "   5.00000000e-01  8.79538905e-02  8.53152738e-01  6.50000000e-01]\n",
      " [ 5.00000000e-01  0.00000000e+00  2.00000000e+00  0.00000000e+00\n",
      "   5.00000000e-01  1.58317003e-01  9.14720461e-01  5.50000000e-01]\n",
      " [ 5.00000000e-01  0.00000000e+00  2.00000000e+00  0.00000000e+00\n",
      "   0.00000000e+00  2.81452450e-01  1.02906052e+00  6.90000000e-01]\n",
      " [ 0.00000000e+00  0.00000000e+00  5.00000000e-01  0.00000000e+00\n",
      "   0.00000000e+00  1.04666667e-01  8.02444444e-02  3.00000000e-01]\n",
      " [ 0.00000000e+00  0.00000000e+00  1.00000000e+00  0.00000000e+00\n",
      "   0.00000000e+00  1.53511111e-01  3.62844444e-01  3.30000000e-01]\n",
      " [ 0.00000000e+00  0.00000000e+00  1.50000000e+00  0.00000000e+00\n",
      "   0.00000000e+00  6.97777778e-02  3.66333333e-01  2.80000000e-01]\n",
      " [ 3.20000000e+00  1.60000000e+01  2.05000000e+01 -3.00000000e+00\n",
      "   9.75000000e+00  6.79430769e+01  3.66046154e+01  3.31470588e+01]\n",
      " [ 2.70000000e+00  1.65000000e+01  2.02000000e+01 -3.00000000e+00\n",
      "   7.00000000e+00  6.22676923e+01  2.94376923e+01  3.03388430e+01]\n",
      " [ 2.20000000e+00  1.44000000e+01  2.04000000e+01 -3.00000000e+00\n",
      "   6.62500000e+00  6.20523077e+01  2.94484615e+01  2.51009036e+01]\n",
      " [ 1.85000000e+00  6.05000000e+00  1.45000000e+01 -1.50000000e+00\n",
      "   3.12500000e+00  4.50240000e+01  3.80352000e+01  5.43598055e+00]\n",
      " [ 1.30000000e+00  6.20000000e+00  1.42000000e+01 -1.50000000e+00\n",
      "   3.12500000e+00  4.42176000e+01  3.77280000e+01  6.05000000e+00]\n",
      " [ 2.00000000e+00  6.00000000e+00  1.37000000e+01 -1.50000000e+00\n",
      "   3.25000000e+00  4.42176000e+01  3.79392000e+01  6.27411168e+00]\n",
      " [ 1.10000000e+00  3.45000000e+00  9.80000000e+00 -7.50000000e-01\n",
      "   1.75000000e+00  2.08360417e+01  2.99665625e+01  0.00000000e+00]\n",
      " [ 8.00000000e-01  3.40000000e+00  9.30000000e+00 -1.00000000e+00\n",
      "   1.75000000e+00  2.14797917e+01  3.09429167e+01  0.00000000e+00]\n",
      " [ 7.00000000e-01  3.85000000e+00  9.60000000e+00 -1.00000000e+00\n",
      "   1.87500000e+00  2.18875000e+01  3.00953125e+01  0.00000000e+00]\n",
      " [ 4.16000000e-01  7.90400000e+00  1.85120000e+01 -5.00000000e-01\n",
      "   2.65000000e+00  2.88926444e+01  4.15536333e+01  2.08714777e+00]\n",
      " [ 4.16000000e-01  5.61600000e+00  1.58080000e+01 -5.00000000e-01\n",
      "   1.62500000e+00  2.97853111e+01  4.29075111e+01  4.61773463e+00]\n",
      " [ 4.16000000e-01  5.40800000e+00  1.49760000e+01 -5.00000000e-01\n",
      "   2.30000000e+00  3.03506667e+01  4.17321667e+01  1.76707965e+00]\n",
      " [ 1.92000000e-01  1.72800000e+00  8.64000000e+00 -2.50000000e-01\n",
      "   1.30000000e+00  5.78560000e+00  1.42144000e+01  0.00000000e+00]\n",
      " [ 1.92000000e-01  3.07200000e+00  9.12000000e+00 -2.50000000e-01\n",
      "   1.30000000e+00  4.78720000e+00  1.12192000e+01  0.00000000e+00]\n",
      " [ 1.92000000e-01  2.49600000e+00  8.73600000e+00 -2.50000000e-01\n",
      "   1.12500000e+00  5.06880000e+00  1.20448000e+01  0.00000000e+00]\n",
      " [ 0.00000000e+00  1.28750000e+00  5.57916667e+00  0.00000000e+00\n",
      "   6.50000000e-01  1.84541667e+00  6.69500000e+00  0.00000000e+00]\n",
      " [ 0.00000000e+00  1.07291667e+00  4.93541667e+00  0.00000000e+00\n",
      "   8.00000000e-01  2.28888889e+00  7.02402778e+00  0.00000000e+00]\n",
      " [ 0.00000000e+00  1.71666667e+00  6.43750000e+00  0.00000000e+00\n",
      "   8.00000000e-01  1.94555556e+00  7.06694444e+00  0.00000000e+00]]\n"
     ]
    },
    {
     "name": "stderr",
     "output_type": "stream",
     "text": [
      "/home/david/anaconda3/lib/python3.7/site-packages/ipykernel_launcher.py:5: FutureWarning: Method .as_matrix will be removed in a future version. Use .values instead.\n",
      "  \"\"\"\n"
     ]
    }
   ],
   "source": [
    "import pandas as pd\n",
    "data = pd.read_excel(r'Data/nanonose.xls')\n",
    "data = data.drop(data.columns[[0,1,2]], axis=1)\n",
    "data = data.iloc[1:,]\n",
    "data = data.as_matrix()\n",
    "print(data)\n"
   ]
  },
  {
   "cell_type": "code",
   "execution_count": 16,
   "metadata": {},
   "outputs": [
    {
     "data": {
      "image/png": "[encoded data removed]",
      "text/plain": [
       "<Figure size 1440x1440 with 4 Axes>"
      ]
     },
     "metadata": {
      "needs_background": "light"
     },
     "output_type": "display_data"
    }
   ],
   "source": [
    "import matplotlib.pyplot as plt\n",
    "%matplotlib inline\n",
    "\n",
    "# Sensors\n",
    "sensorA = data[:,0]\n",
    "sensorB = data[:,1]\n",
    "sensorC = data[:,2]\n",
    "sensorD = data[:,3]\n",
    "\n",
    "# Water\n",
    "waterA = sensorA[0:18]\n",
    "waterB = sensorB[0:18]\n",
    "waterC = sensorC[0:18]\n",
    "waterD = sensorD[0:18]\n",
    "\n",
    "# Ethanol\n",
    "ethanolA = sensorA[18:36]\n",
    "ethanolB = sensorB[18:36]\n",
    "ethanolC = sensorC[18:36]\n",
    "ethanolD = sensorD[18:36]\n",
    "\n",
    "# Acetone\n",
    "acetoneA = sensorA[36:54]\n",
    "acetoneB = sensorB[36:54]\n",
    "acetoneC = sensorC[36:54]\n",
    "acetoneD = sensorD[36:54]\n",
    "\n",
    "# Heptane\n",
    "heptaneA = sensorA[54:72]\n",
    "heptaneB = sensorB[54:72]\n",
    "heptaneC = sensorC[54:72]\n",
    "heptaneD = sensorD[54:72]\n",
    "\n",
    "# Pentanol\n",
    "pentanolA = sensorA[72:90]\n",
    "pentanolB = sensorB[72:90]\n",
    "pentanolC = sensorC[72:90]\n",
    "pentanolD = sensorD[72:90]\n",
    "\n",
    "# Sensors cumulative\n",
    "sensorCA = [sum(waterA)/18, sum(ethanolA)/18, sum(acetoneA)/18, sum(heptaneA)/18, sum(pentanolA)/18]\n",
    "sensorCB = [sum(waterB)/18, sum(ethanolB)/18, sum(acetoneB)/18, sum(heptaneB)/18, sum(pentanolB)/18]\n",
    "sensorCC = [sum(waterC)/18, sum(ethanolC)/18, sum(acetoneC)/18, sum(heptaneC)/18, sum(pentanolC)/18]\n",
    "sensorCD = [sum(waterD)/18, sum(ethanolD)/18, sum(acetoneD)/18, sum(heptaneD)/18, sum(pentanolD)/18]\n",
    "\n",
    "\n",
    "\n",
    "# Graphs\n",
    "width = 0.4\n",
    "bars = ('water', 'ethanol', 'acetone', 'heptane', 'pentanol')\n",
    "\n",
    "r1 = np.arange(len(bars))\n",
    "r2 = [x + width for x in r1]\n",
    "y_pos = np.arange(5)\n",
    "\n",
    "fig = plt.figure()\n",
    "fig.suptitle('NanoNose chemical sensor measurements')\n",
    "fig.set_figheight(20)\n",
    "fig.set_figwidth(20)\n",
    "\n",
    "plt.subplot(2,2,1)\n",
    "plt.bar(r1, sensorCA, width, color = 'blue', edgecolor = 'black', label='sensor A')\n",
    "plt.bar(r2, sensorCB, width, color = 'yellow', edgecolor = 'black', label='sensor B')\n",
    "plt.xticks(y_pos, bars)\n",
    "plt.ylabel('concentration')\n",
    "plt.xlabel('substance')\n",
    "plt.legend()\n",
    "\n",
    "plt.subplot(2,2,2)\n",
    "plt.bar(r1, sensorCA, width, color = 'blue', edgecolor = 'black', label='sensor A')\n",
    "plt.bar(r2, sensorCC, width, color = 'green', edgecolor = 'black', label='sensor C')\n",
    "plt.xticks(y_pos, bars)\n",
    "plt.ylabel('concentration')\n",
    "plt.xlabel('substance')\n",
    "plt.legend()\n",
    "\n",
    "plt.subplot(2,2,3)\n",
    "plt.bar(r1, sensorCA, width, color = 'blue', edgecolor = 'black', label='sensor A')\n",
    "plt.bar(r2, sensorCD, width, color = 'orange', edgecolor = 'black', label='sensor D')\n",
    "plt.xticks(y_pos, bars)\n",
    "plt.ylabel('concentration')\n",
    "plt.xlabel('substance')\n",
    "plt.legend()\n",
    "\n",
    "plt.subplot(2,2,4)\n",
    "plt.bar(r1, sensorCC, width, color = 'green', edgecolor = 'black', label='sensor C')\n",
    "plt.bar(r2, sensorCD, width, color = 'orange', edgecolor = 'black', label='sensor D')\n",
    "plt.xticks(y_pos, bars)\n",
    "plt.ylabel('concentration')\n",
    "plt.xlabel('substance')\n",
    "plt.legend()\n",
    "\n",
    "# Show graphs\n",
    "plt.show()\n"
   ]
  },
  {
   "cell_type": "markdown",
   "metadata": {},
   "source": [
    "\n",
    "1.2.2 Principal Component Analysis, more commonly known as PCA, can be cleverly used to better visualize high dimensional data. \n",
    "\n",
    "> a. (1 point) Explain what PCA is and when it can be used. Make sure to provide an in-depth explanation and note what the drawbacks and limitations are."
   ]
  },
  {
   "cell_type": "markdown",
   "metadata": {},
   "source": [
    "With PCA we first compute a covariance matrix that provides a means to measure how all features relate to each other. Then we find its eigenvectors and eigenvalues. The eigenvectors respresent the principal components and provide a means to understand the direction of the data. The eigenvalues represent how much variance there is in teh data in that direction. Then we sort teh eigenvectors in descending order based on their eigenvalues. Then we can drop the least important ones which result in a reduction of dimensionality. \n",
    "\n",
    "PCA is used against the curse of dimensionality. It is used for preprocessing / reducing the dimensionality of high-dimensional datasets, while preserving the original structure and relationships. It can deduce a high-dimensional dataset into 2 dimensions in which correlated parts will cluster together.\n",
    "\n",
    "In order for PCA to give sensible results, the principle components have to be a linear combination of the original features and are orthogonal so that the dimensions can be reduced."
   ]
  },
  {
   "cell_type": "markdown",
   "metadata": {},
   "source": [
    "To apply PCA we must first mean center the data. mean centering means that the mean value for an attribute is subtracted from that attribute. \n",
    "\n",
    "> b. (0.5 points) Why do we first need to mean center the data before applying PCA?"
   ]
  },
  {
   "cell_type": "markdown",
   "metadata": {},
   "source": [
    "This produces a data set whose mean is zero. Else you would get misleading directions. "
   ]
  },
  {
   "cell_type": "markdown",
   "metadata": {},
   "source": [
    "In practice, applying PCA comes down to a series of matrix operations, this is useful, as matrix operations can be applied with little effort and can be computed in relatively little time.\n",
    "\n",
    "The given data **X**, must first be mean centered. This can be easily done by calculating a row vector **μ** containing the mean values of each attribute and then subtracting it from **X** (**Y** = **X** - **1μ**, where **1** is a column vector of size **N** x 1, with N indicating the number of observations in the original data).\n",
    "\n",
    "Then, the Singular Value Decomposition, or SVD, of **Y**, the mean centered data, can be calculated. **Y** = **USV**<sup>T</sup>. In practice, this is often done using the numpy.linalg.svd() function.\n",
    "\n",
    "Using SVD on **Y** yields a series of vectors which can be used to project the data onto specific Principal Components (PCs). The entire dataset can be projected onto the Principal Components by multiplying **Z** = **Y\\*V**, where **Z** indicates the projected data. Alternatively, one could project onto just a subset of all the PCs by indexing in the multiplication. For example: **Z** = **Y\\*V[:,1]** would yield the projection of the data onto the first PC.\n",
    "\n",
    "> c. (1 point)  Apply PCA (using the aforementioned method) on the Nanonose data and visualize a scatterplot of the projection of the data onto the first two PCs."
   ]
  },
  {
   "cell_type": "code",
   "execution_count": 19,
   "metadata": {
    "scrolled": true
   },
   "outputs": [
    {
     "data": {
      "image/png": "[encoded data removed]",
      "text/plain": [
       "<Figure size 432x288 with 1 Axes>"
      ]
     },
     "metadata": {
      "needs_background": "light"
     },
     "output_type": "display_data"
    }
   ],
   "source": [
    "means = np.mean(data, axis=1)\n",
    "X = data - means.reshape(90,1)\n",
    "plt.show()\n",
    "u, s, vh = linalg.svd(X)\n",
    "v = vh.T\n",
    "sA = np.dot(X,v[0,:])\n",
    "sB = np.dot(X,v[1,:])\n",
    "plt.scatter(sA, sB)\n",
    "plt.show()"
   ]
  },
  {
   "cell_type": "markdown",
   "metadata": {},
   "source": [
    "> d. (1 point) Alternatively, one could use EigenValue Decomposition, EVD, instead of SVD. What are the similarities and differences between SVD and EVD? Can both be applied in each case?"
   ]
  },
  {
   "cell_type": "markdown",
   "metadata": {},
   "source": [
    "Every matrix has a SVD but not every matrix has an eigendecomposition. Eigendecomposition only exists for square matrices. As X is not a square matrix, the EVD would not be possible. "
   ]
  },
  {
   "cell_type": "markdown",
   "metadata": {},
   "source": [
    "PCA attempts to explain as much of the variance in data with as few PCs as possible. The variance explained by each of the PCs **m** can be calculated using the following formula: \n",
    "$\\rho_m = 1 - \\frac{\\|{Y} - {u}_m s_{mm} {v}_m^T\\|^2_F}{\\|{Y}\\|^2_F} = \\frac{s_{mm}^2}{\\displaystyle \\sum_{m'=1}^M s^2_{m'm'}}$\n",
    "\n",
    "Which indicates that the variation $\\rho$ for a given **m** can be calculated by dividing the squared singular value of component **m** by the sum of all squared singular values. \n",
    "> e. (1 point) Calculate the row vector $\\rho$ containing all values of $\\rho$ for all PCs **m**. Create a bar plot with the variance explained on the Y axis and the number of the PC on the X axis. "
   ]
  },
  {
   "cell_type": "code",
   "execution_count": null,
   "metadata": {},
   "outputs": [],
   "source": []
  },
  {
   "cell_type": "markdown",
   "metadata": {},
   "source": [
    "> f. (0.5 points) How much of the variance is explained by the first three PCs?"
   ]
  },
  {
   "cell_type": "code",
   "execution_count": null,
   "metadata": {},
   "outputs": [],
   "source": []
  },
  {
   "cell_type": "markdown",
   "metadata": {},
   "source": [
    "*Double click to type your answer here*"
   ]
  },
  {
   "cell_type": "markdown",
   "metadata": {},
   "source": [
    "The columns of **V** indicate the exact projection of the data onto the PCs. In a way, a PC is nothing other than a linear combination of the original attributes. \n",
    "> g. (0.5 points) Which attributes are primarily represented by the first PC? What would cause an observation to have a large negative/positive projection onto the second principal component?"
   ]
  },
  {
   "cell_type": "code",
   "execution_count": null,
   "metadata": {},
   "outputs": [],
   "source": []
  },
  {
   "cell_type": "markdown",
   "metadata": {},
   "source": [
    "*Double click to type your answer here*"
   ]
  },
  {
   "cell_type": "markdown",
   "metadata": {},
   "source": [
    "## 1.3 Similarity measures\n",
    "\n",
    "We will use a subset of the data on wild faces described by Berg in 2005 transformed to a total\n",
    "of 1000 gray scale images of size 40x40 pixels, we will attempt to find faces in the\n",
    "data base that are the most similar to a given query face. To measure similarity we\n",
    "will consider the following measures: SMC, Jaccard, Cosine, ExtendedJaccard, and\n",
    "Correlation. These measures of similarity are described in *Introduction to Data Mining*, page 73-77 and are given by\n",
    "\n",
    "\\begin{eqnarray*}\n",
    "\\textrm{SMC}({x},{y}) & = & \\frac{\\textrm{Number of matching attribute values}}{\\textrm{Number of attributes}} \\\\\n",
    "\\textrm{Jaccard}({x},{y}) & = & \\frac{\\textrm{Number of matching presences}}{\\textrm{Number of attributes not involved in 00 matches}} \\\\\n",
    "\\textrm{Cosine}({x},{y}) & = & \\frac{{x}^T {y}}{\\|{x}\\| \\|{y}\\|} \\\\\n",
    "\\textrm{ExtendedJaccard}({x},{y}) & = & \\frac{{x}^T {y}}{\\|{x}\\|^2 + \\|{y}\\|^2 - {x}^T {y}} \\\\\n",
    "\\textrm{Correlation}({x},{y}) & = & \\frac{\\textrm{cov}({x},{y})}{\\textrm{std}({x}) \\textrm{std}({y})}\n",
    "\\end{eqnarray*}\n",
    "where $\\textrm{cov}({x},{y})$ denotes the covariance between ${x}$ and ${y}$ and $\\textrm{std}({x})$ denotes the standard deviation of ${x}$.\n",
    "\n",
    "Notice that the SMC and Jaccard similarity measures only are defined for binary\n",
    "data, i.e., data that takes values in $\\{0,1\\}$. As the data we analyze is non-binary,\n",
    "we will transform the data to be binary when calculating these two measures of\n",
    "similarity by setting\n",
    "$x_i = \\left\\{ \\begin{array}{ll} 0 & \\textrm{if~} x_i < \\textrm{median}({x}) \\\\\n",
    "                                1 & \\textrm{otherwise.} \\end{array} \\right.$\n",
    "                                \n",
    "### 1.3.1\n",
    "> (0.5 points) Inspect and run the simfaces function from the Toolbox. The function loads the CBCL face database, computes the similarity between a selected query image and all others, and display the query image, the 5 most similar images, and the 5 least similar images. The value of the used similarity measure is shown below each image. Try changing the query image and the similarity measure and see what happens. Which similarity measures produce similar results? Which one gives the best result? Why?\n",
    "\n",
    "> Give a quick overview of the settings (image number and similarity measure) for each time you run the script! Remember to leave all results open!\n",
    "\n"
   ]
  },
  {
   "cell_type": "code",
   "execution_count": 20,
   "metadata": {},
   "outputs": [
    {
     "data": {
      "image/png": "[encoded data removed]",
      "text/plain": [
       "<Figure size 864x576 with 11 Axes>"
      ]
     },
     "metadata": {},
     "output_type": "display_data"
    }
   ],
   "source": [
    "from Toolbox.simfaces import simfaces\n",
    "\n",
    "simfaces(1,'smc')"
   ]
  },
  {
   "cell_type": "markdown",
   "metadata": {},
   "source": [
    "*Double click to type your answer here*"
   ]
  },
  {
   "cell_type": "markdown",
   "metadata": {},
   "source": [
    "\n",
    "> (0.75 points) We will investigate how scaling and translation impact the following three\n",
    "similarity measures: Cosine, ExtendedJaccard, and Correlation. Let $\\alpha$ and $\\beta$ be two constants. Using Python, calculate the following similarity measures, and check if the statements below are correct.\n",
    "\n",
    "\\begin{eqnarray*}\n",
    "\\textrm{Cosine}(\\alpha{x},{y}) & = & \\textrm{Cosine}({x},{y}) \\\\\n",
    "\\textrm{ExtendedJaccard}(\\alpha{x},{y}) & = & \\textrm{ExtendedJaccard}({x},{y}) \\\\\n",
    "\\textrm{Correlation}(\\alpha{x},{y}) & = & \\textrm{Correlation}({x},{y}) \\\\\n",
    "\\textrm{Cosine}(\\beta + {x},{y}) & = & \\textrm{Cosine}({x},{y}) \\\\\n",
    "\\textrm{ExtendedJaccard}(\\beta + {x},{y}) & = & \\textrm{ExtendedJaccard}({x},{y}) \\\\\n",
    "\\textrm{Correlation}(\\beta + {x},{y}) & = & \\textrm{Correlation}({x},{y})\n",
    "\\end{eqnarray*}\n",
    "\n",
    "> Type help similarity, or study similarity.py, to learn about the function that is used to compute the similarity measures. Do not forget to also import similarity.py!\n",
    "\n",
    "> Even though a similarity measure is theoretically invariant e.g.\\ to scaling, it might not be exactly invariant numerically.\n",
    "\n",
    "> Do not forget to also provide an explanation in addition to the calculations!\n"
   ]
  },
  {
   "cell_type": "code",
   "execution_count": null,
   "metadata": {},
   "outputs": [],
   "source": []
  },
  {
   "cell_type": "markdown",
   "metadata": {},
   "source": [
    "*Double click to type your answer here*"
   ]
  },
  {
   "cell_type": "markdown",
   "metadata": {},
   "source": [
    "## Turning in the Jupyter Notebook\n",
    "Do not forget to read the provided guidelines regarding the expectations and grading of your report. You can find these on Blackboard!"
   ]
  },
  {
   "cell_type": "markdown",
   "metadata": {},
   "source": [
    "## References\n",
    "[1] Tommy S Alstrøm, Jan Larsen, Claus H Nielsen, and Niels B Larsen. Data-driven\n",
    "modeling of nano-nose gas sensor arrays. In SPIE Defense, Security, and Sensing,\n",
    "pages 76970U\u001576970U. International Society for Optics and Photonics, 2010. URL\n",
    "http://www.nanonose.dk."
   ]
  }
 ],
 "metadata": {
  "kernelspec": {
   "display_name": "Python 3",
   "language": "python",
   "name": "python3"
  },
  "language_info": {
   "codemirror_mode": {
    "name": "ipython",
    "version": 3
   },
   "file_extension": ".py",
   "mimetype": "text/x-python",
   "name": "python",
   "nbconvert_exporter": "python",
   "pygments_lexer": "ipython3",
   "version": "3.7.3"
  }
 },
 "nbformat": 4,
 "nbformat_minor": 2
}
