{
 "cells": [
  {
   "cell_type": "markdown",
   "metadata": {},
   "source": [
    "# Assignment 1\n",
    "\n",
    "## Objective of this assignment\n",
    "The objective is to get acquainted with the Python language, with emphasis on its scientific and numerical extensions, how data can be imported from other data sources, linear algebra basics that is needed in this course, visualization using principal component analysis (PCA) and the concept of similarity. Upon completing this exercise it is expected that you:\n",
    "\n",
    "- Understand how data can be represented as vectors and matrices in numerical Python (NumPy).\n",
    "- Can apply and interpret principal component analysis (PCA) for data visualization.\n",
    "- Understand the various measures of similarity such as Jaccard and Cosine similarity and apply similarity measures to query for similar observations.\n",
    "\n",
    "## ** Important: ** When handing in your homework:\n",
    "+ Hand in the notebook (and nothing else) named as follows: StudentName1_snumber_StudentName2_snumber.ipynb\n",
    "+ Provide clear and complete answers to the questions below under a seperate header (not hidden some-where in your source code), and make sure to explain your answers / motivate your choices. Add Markdown cells where necessary.\n",
    "+ Source code, output graphs, derivations, etc., should be included in the notebook.\n",
    "+ Hand-in: upload to Blackboard.\n",
    "+ Include name, student number, assignment (especially in filenames)!\n",
    "+ When working in pairs only one of you should upload the assignment, and report the name of your partner in your filename.\n",
    "+ For problems or questions: use the BB discussion board or email the student assistants.\n",
    "\n",
    "## Advised Reading and Exercise Material\n",
    "**The following on-line materials are recommended:**\n",
    "\n",
    "- <http://docs.python.org/tutorial> - Introduction into Python environment, syntax and data structures. Recommended reading - sections 1, 2, 3, 4 and 5.\n",
    "- <http://www.scipy.org/Tentative_NumPy_Tutorial> - Tutorial introducing the scientific computing in Python, array and matrix operations, indexing and slicing matrices.\n",
    "- <http://www.scipy.org/NumPy_for_Matlab_Users> - Useful reference to scientific computing in Python if you have previous experience with MATLAB programming.\n",
    "- <https://www.datacamp.com/courses/intro-to-python-for-data-science> - Simple introduction to Data Science using Python.\n",
    "- <http://matplotlib.sourceforge.net> - Documentation and examples related to matplotlib module, which we shall use extensively through the course to visualize data and results.\n",
    "- Pang-Ning Tan, Michael Steinbach, and Vipin Kumar, {\\em Introduction to Data Mining}, sections 2.1-2.3 + (A) + B.1\n",
    "- <http://http://www.youtube.com/course?list=ECEA1FEF17E1E5C0DA> - Series of video tutorials covering basics of Python programming.\n",
    "- Pang-Ning Tan, Michael Steinbach, and Vipin Kumar, {\\em Introduction to Data Mining}, sections 2.4 + 3.1-3.2 + C.1-C.2\n",
    "\n",
    "\n",
    "## 1.1 Python and Linear Algebra basics\n",
    "\n",
    "**For this course we advise to only use NumPy ndarrays ndarrays to represent vectors and matrices. The numpy.matrix data type, although intuitive, is less supported and uses operators for multiplication differently. This means that you can't perform matrix multiplications symbollically, but that you will have to use functions from the NumPy library!** \n",
    "\n",
    "**1.1.1** (0.3 points) Generate (and print) the following vectors using functions from the *NumPy* package in Python: \n",
    "*Note: You do not have to print column vectors as columns!*\n",
    "\n",
    "\\begin{equation}\n",
    "     \\textbf{x} = \\begin{pmatrix} \n",
    "         6 \\\\\n",
    "         7 \\\\\n",
    "         8 \\\\\n",
    "         9 \\\\\n",
    "         10 \\\\\n",
    "         11 \\\\\n",
    "         12\n",
    "       \\end{pmatrix}\n",
    "     \\textbf{y} = \\begin{pmatrix} \n",
    "         3 \\\\\n",
    "         7 \\\\\n",
    "         11 \\\\\n",
    "         15 \\\\\n",
    "         19 \\\\\n",
    "         23 \\\\\n",
    "         27\n",
    "       \\end{pmatrix}\n",
    "     \\textbf{w} = \\begin{pmatrix} \n",
    "         1 \\\\\n",
    "         1 \\\\\n",
    "         0 \\\\\n",
    "         0.5 \\\\\n",
    "         1 \\\\\n",
    "         1.5 \\\\\n",
    "         2 \\\\\n",
    "         0 \\\\\n",
    "         0 \n",
    "       \\end{pmatrix}\n",
    "     \\textbf{s} = \\begin{pmatrix}\n",
    "         100 \\\\\n",
    "         98.8 \\\\\n",
    "         97.6 \\\\\n",
    "         96.4 \\\\\n",
    "         95.2\n",
    "       \\end{pmatrix} \n",
    "     \\textbf{z} = \\begin{pmatrix}\n",
    "         0.7 \\\\\n",
    "         1.0 \\\\\n",
    "         1.3 \\\\\n",
    "         1.6 \\\\\n",
    "         1.9 \\\\\n",
    "         2.2 \\\\\n",
    "         2.5 \\\\\n",
    "         2.8\n",
    "       \\end{pmatrix}\n",
    "  \\end{equation}\n",
    "\n"
   ]
  },
  {
   "cell_type": "code",
   "execution_count": 1,
   "metadata": {},
   "outputs": [],
   "source": [
    "#Import NumPy\n",
    "import numpy as np\n",
    "#You'll have to manually import libraries in the future!"
   ]
  },
  {
   "cell_type": "code",
   "execution_count": 2,
   "metadata": {},
   "outputs": [
    {
     "name": "stdout",
     "output_type": "stream",
     "text": [
      "[ 6  7  8  9 10 11 12]\n",
      "[ 3  7 11 15 19 23 27]\n",
      "[1.  1.  0.  0.5 1.  1.5 2.  0.  0. ]\n",
      "[100.   98.8  97.6  96.4  95.2]\n",
      "[0.7 1.  1.3 1.6 1.9 2.2 2.5 2.8]\n"
     ]
    }
   ],
   "source": [
    "##Generate the vectors in  using Python and NumPy \n",
    "\n",
    "x = np.arange(6, 13)\n",
    "print(x)\n",
    "\n",
    "y = np.arange(3, 28, 4)\n",
    "print(y)\n",
    "\n",
    "w = np.array([1, 1, 0, 0.5, 1, 1.5, 2, 0, 0])\n",
    "print(w)\n",
    "\n",
    "s = np.arange(95.2, 101, 1.2)\n",
    "s = np.flip(s, 0)\n",
    "print(s)\n",
    "\n",
    "z = np.arange(0.7, 3.0, 0.3)\n",
    "print(z)"
   ]
  },
  {
   "cell_type": "markdown",
   "metadata": {},
   "source": [
    "Then compute the following operations:\n",
    "> a. (0.2 points) **v** = 3**x** + **y**"
   ]
  },
  {
   "cell_type": "code",
   "execution_count": 3,
   "metadata": {},
   "outputs": [
    {
     "name": "stdout",
     "output_type": "stream",
     "text": [
      "[21 28 35 42 49 56 63]\n"
     ]
    }
   ],
   "source": [
    "##Answer to question 1.1.1a\n",
    "v = np.multiply(3, x) + y\n",
    "\n",
    "print(v)"
   ]
  },
  {
   "cell_type": "markdown",
   "metadata": {},
   "source": [
    "> b. (0.2 points) Compute the dot product between **x** and **y** and name it **q**\n"
   ]
  },
  {
   "cell_type": "code",
   "execution_count": 4,
   "metadata": {},
   "outputs": [
    {
     "name": "stdout",
     "output_type": "stream",
     "text": [
      "1057\n"
     ]
    }
   ],
   "source": [
    "##Answer to question 1.1.1b\n",
    "q = np.dot(x,y)\n",
    "print(q)"
   ]
  },
  {
   "cell_type": "markdown",
   "metadata": {},
   "source": [
    "> c. (0.2 points) **t** = pi(**s** + 4) (element wise multiplication)"
   ]
  },
  {
   "cell_type": "code",
   "execution_count": 5,
   "metadata": {},
   "outputs": [
    {
     "name": "stdout",
     "output_type": "stream",
     "text": [
      "[326.72563597 322.95572479 319.1858136  315.41590242 311.64599124]\n"
     ]
    }
   ],
   "source": [
    "##Answer to question 1.1.1c\n",
    "t = np.multiply(np.pi, s+4)\n",
    "print(t)"
   ]
  },
  {
   "cell_type": "markdown",
   "metadata": {},
   "source": [
    "> d. (0.2 points) **z** = **z** - 1"
   ]
  },
  {
   "cell_type": "code",
   "execution_count": 6,
   "metadata": {},
   "outputs": [
    {
     "name": "stdout",
     "output_type": "stream",
     "text": [
      "[-0.3  0.   0.3  0.6  0.9  1.2  1.5  1.8]\n"
     ]
    }
   ],
   "source": [
    "##Answer to question 1.1.1d\n",
    "z = z-1\n",
    "print(z)"
   ]
  },
  {
   "cell_type": "markdown",
   "metadata": {},
   "source": [
    "> e. (0.2 points) replace some values of x, such that the last three values in the vector are 4"
   ]
  },
  {
   "cell_type": "code",
   "execution_count": 7,
   "metadata": {},
   "outputs": [
    {
     "name": "stdout",
     "output_type": "stream",
     "text": [
      "[6 7 8 9 4 4 4]\n"
     ]
    }
   ],
   "source": [
    "##Answer to question 1.1.1e\n",
    "x[x>9] = 4\n",
    "print(x)"
   ]
  },
  {
   "cell_type": "markdown",
   "metadata": {},
   "source": [
    "> f. (0.2 points) **r** = 2**w** - 5"
   ]
  },
  {
   "cell_type": "code",
   "execution_count": 8,
   "metadata": {},
   "outputs": [
    {
     "name": "stdout",
     "output_type": "stream",
     "text": [
      "[-3. -3. -5. -4. -3. -2. -1. -5. -5.]\n"
     ]
    }
   ],
   "source": [
    "##Answer to question 1.1.1f\n",
    "r = np.dot(2, w) - 5\n",
    "print(r)"
   ]
  },
  {
   "cell_type": "markdown",
   "metadata": {},
   "source": [
    "**1.1.2** (0.25 points) Generate these matrices:\n",
    "\n",
    "\\begin{equation}\n",
    "     \\textbf{M} = \\begin{pmatrix} \n",
    "         1 & 2 & 3 \\\\\n",
    "         6 & 8 & 4 \\\\\n",
    "         6 & 7 & 5          \n",
    "         \\end{pmatrix}\n",
    "     \\textbf{N} = \\begin{pmatrix} \n",
    "         4 & 6 \\\\\n",
    "         7 & 2 \\\\\n",
    "         5 & 1\n",
    "         \\end{pmatrix}\n",
    "     \\textbf{P} = \\begin{pmatrix} \n",
    "         2 & 5 \\\\\n",
    "         5 & 5 \n",
    "         \\end{pmatrix}   \n",
    "\\end{equation}\n",
    "\n",
    "Afterwards try and compute the operations for subquestions *a* up to and including *e* and print the resulting matrix. If some operations yield errors, give the reason as to why that happens.\n",
    "\n",
    "*A hint: NumPy has functions for matrix operations you can, and should, use!*"
   ]
  },
  {
   "cell_type": "code",
   "execution_count": 9,
   "metadata": {},
   "outputs": [
    {
     "name": "stdout",
     "output_type": "stream",
     "text": [
      "[[1 2 3]\n",
      " [6 8 4]\n",
      " [6 7 5]]\n",
      "[[4 6]\n",
      " [7 2]\n",
      " [5 1]]\n",
      "[[2 5]\n",
      " [5 5]]\n"
     ]
    }
   ],
   "source": [
    "##Generate the matrices using Python and NumPy\n",
    "M = np.array([[1, 2, 3], [6, 8, 4], [6, 7, 5]])\n",
    "print(M) \n",
    "\n",
    "N = np.array([[4, 6], [7, 2], [5, 1]])\n",
    "print(N)\n",
    "\n",
    "P = np.array([[2, 5], [5, 5]])\n",
    "print(P)"
   ]
  },
  {
   "cell_type": "markdown",
   "metadata": {},
   "source": [
    "> a. (0.2 points) **A** = **MN** + **N**"
   ]
  },
  {
   "cell_type": "code",
   "execution_count": 10,
   "metadata": {},
   "outputs": [
    {
     "name": "stdout",
     "output_type": "stream",
     "text": [
      "[[ 37  19]\n",
      " [107  58]\n",
      " [103  56]]\n"
     ]
    }
   ],
   "source": [
    "##Answer to question 1.1.2a\n",
    "A = np.dot(M, N) + N\n",
    "print(A)"
   ]
  },
  {
   "cell_type": "markdown",
   "metadata": {},
   "source": [
    "> b. (0.2 points) **B** = **N**<sup>T</sup>**M**"
   ]
  },
  {
   "cell_type": "code",
   "execution_count": 11,
   "metadata": {},
   "outputs": [
    {
     "name": "stdout",
     "output_type": "stream",
     "text": [
      "[[76 99 65]\n",
      " [24 35 31]]\n"
     ]
    }
   ],
   "source": [
    "##Answer to question 1.1.2b\n",
    "B = np.dot(N.transpose(), M)\n",
    "print(B)"
   ]
  },
  {
   "cell_type": "markdown",
   "metadata": {},
   "source": [
    "> c. (0.2 points) **C** = **P**<sup>-1</sup> + **P**"
   ]
  },
  {
   "cell_type": "code",
   "execution_count": 12,
   "metadata": {},
   "outputs": [
    {
     "name": "stdout",
     "output_type": "stream",
     "text": [
      "[[1.66666667 5.33333333]\n",
      " [5.33333333 4.86666667]]\n"
     ]
    }
   ],
   "source": [
    "##Answer to question 1.1.2c\n",
    "C = np.linalg.inv(P) + P\n",
    "print(C)"
   ]
  },
  {
   "cell_type": "markdown",
   "metadata": {},
   "source": [
    "> d. (0.2 points) **D** = **AC**(**C** + **B**)"
   ]
  },
  {
   "cell_type": "code",
   "execution_count": 13,
   "metadata": {},
   "outputs": [
    {
     "ename": "ValueError",
     "evalue": "operands could not be broadcast together with shapes (2,2) (2,3) ",
     "output_type": "error",
     "traceback": [
      "\u001b[1;31m---------------------------------------------------------------------------\u001b[0m",
      "\u001b[1;31mValueError\u001b[0m                                Traceback (most recent call last)",
      "\u001b[1;32m<ipython-input-13-c9dad6aff3e6>\u001b[0m in \u001b[0;36m<module>\u001b[1;34m()\u001b[0m\n\u001b[0;32m      1\u001b[0m \u001b[1;31m##Answer to question 1.1.2d\u001b[0m\u001b[1;33m\u001b[0m\u001b[1;33m\u001b[0m\u001b[0m\n\u001b[1;32m----> 2\u001b[1;33m \u001b[0mD\u001b[0m\u001b[1;33m=\u001b[0m\u001b[0mnp\u001b[0m\u001b[1;33m.\u001b[0m\u001b[0mdot\u001b[0m\u001b[1;33m(\u001b[0m\u001b[0mA\u001b[0m\u001b[1;33m,\u001b[0m\u001b[0mnp\u001b[0m\u001b[1;33m.\u001b[0m\u001b[0mdot\u001b[0m\u001b[1;33m(\u001b[0m\u001b[0mC\u001b[0m\u001b[1;33m,\u001b[0m\u001b[1;33m(\u001b[0m\u001b[0mC\u001b[0m\u001b[1;33m+\u001b[0m\u001b[0mB\u001b[0m\u001b[1;33m)\u001b[0m\u001b[1;33m)\u001b[0m\u001b[1;33m)\u001b[0m\u001b[1;33m\u001b[0m\u001b[0m\n\u001b[0m\u001b[0;32m      3\u001b[0m \u001b[0mprint\u001b[0m\u001b[1;33m(\u001b[0m\u001b[0mD\u001b[0m\u001b[1;33m)\u001b[0m\u001b[1;33m\u001b[0m\u001b[0m\n\u001b[0;32m      4\u001b[0m \u001b[1;33m\u001b[0m\u001b[0m\n\u001b[0;32m      5\u001b[0m \u001b[1;31m#Does not work because the dimensions of C and B are differenthows\u001b[0m\u001b[1;33m\u001b[0m\u001b[1;33m\u001b[0m\u001b[0m\n",
      "\u001b[1;31mValueError\u001b[0m: operands could not be broadcast together with shapes (2,2) (2,3) "
     ]
    }
   ],
   "source": [
    "##Answer to question 1.1.2d\n",
    "D=np.dot(A,np.dot(C,(C+B)))\n",
    "print(D)\n",
    "\n",
    "#Does not work because the dimensions of C and B are differenthows "
   ]
  },
  {
   "cell_type": "markdown",
   "metadata": {},
   "source": [
    "> e. (0.2 points) Compute the eigenvalues and eigenvectors of **M**, **N**, and **P** (and print them)."
   ]
  },
  {
   "cell_type": "code",
   "execution_count": null,
   "metadata": {},
   "outputs": [],
   "source": [
    "eigenvalueM, eigenvectorM = np.linalg.eig(M)\n",
    "print(eigenvalueM)\n",
    "print(eigenvectorM)\n",
    "\n",
    "eigenvalueP, eigenvectorP = np.linalg.eig(P)\n",
    "print(eigenvalueP)\n",
    "print(eigenvectorP)\n",
    "\n",
    "#For N it does not work because N is not a square matrix"
   ]
  },
  {
   "cell_type": "markdown",
   "metadata": {},
   "source": [
    "## 1.2 Principal Component Analysis\n",
    "\n",
    "**1.2.1** many experimenters have a habit of using Microsoft Excel as their tool to record measurements from experiments. Fortunately Python can read Excel files. Various methods exist, of which the use of the Python library Pandas is arguably one of the easiest for the purpose of Data Mining.\n",
    "\n",
    "The data used in this exercise is based on data from a chemical sensor obtained from the NanoNose project[1]. The data contains 8 sensors, named by the letters A-H, measuring the concentration of Water, Ethanol, Acetone, Heptane and Pentanol injected into a small gas chamber. The data will be represented in matrix form such that each column contains the 8 sensor measurements (i.e., sensor A-H) of the various compounds injected into the gas chamber.\n",
    "> a. (0.2 points) Inspect the nanonose.xls file in the Data folder and make sure you understand how the data is stored in Excel.\n",
    "\n",
    "> *Load the data in python using the Pandas library (use the read_excel() function). Make sure you read some of the Pandas documentation! Especially slicing, indexing and dropping are useful commands*\n",
    "\n",
    "> *make sure to inspect the data first! You should cut out some rows and columns! You can easily inspect the structure of the Pandas dataframe using the head() function.*\n",
    "\n",
    "> *Finally use the as_matrix() function to cast the Pandas dataframe to a NumPy array. Note: counterintuitively, this yields an object of type: numpy.ndarray, not of type numpy.matrix!*"
   ]
  },
  {
   "cell_type": "code",
   "execution_count": 17,
   "metadata": {},
   "outputs": [
    {
     "name": "stdout",
     "output_type": "stream",
     "text": [
      "       Nanonose     Unnamed: 1  Unnamed: 2       A          B          C  \\\n",
      "0   Sample type  Concentration         NaN     NaN        NaN        NaN   \n",
      "1         Water           9200         NaN  95.500  21.000000   6.000000   \n",
      "2         Water           9200         NaN  94.500  17.000000   5.000000   \n",
      "3         Water           9200         NaN  92.000  16.000000   3.000000   \n",
      "4         Water           4600         NaN  53.000   7.500000   2.500000   \n",
      "5         Water           4600         NaN  51.000   7.500000   2.500000   \n",
      "6         Water           4600         NaN  50.000   8.000000   2.500000   \n",
      "7         Water           2300         NaN  27.500   4.000000   1.500000   \n",
      "8         Water           2300         NaN  27.500   4.500000   1.500000   \n",
      "9         Water           2300         NaN  27.000   4.000000   1.500000   \n",
      "10        Water           1150         NaN  13.500   1.500000   0.000000   \n",
      "11        Water           1150         NaN  13.000   2.000000   0.500000   \n",
      "12        Water           1150         NaN  13.250   2.500000   0.250000   \n",
      "13        Water            575         NaN   4.500   0.800000   0.000000   \n",
      "14        Water            575         NaN   4.000   0.800000   0.000000   \n",
      "15        Water            575         NaN   3.700   0.500000   0.000000   \n",
      "16        Water            288         NaN   1.500   0.000000   0.000000   \n",
      "17        Water            288         NaN   1.500   0.000000   0.000000   \n",
      "18        Water            288         NaN   1.500   0.000000   0.000000   \n",
      "19      Ethanol          28800         NaN  23.000  51.000000  25.000000   \n",
      "20      Ethanol          28800         NaN  23.500  61.000000  30.200000   \n",
      "21      Ethanol          28800         NaN  22.000  63.500000  30.500000   \n",
      "22      Ethanol          14400         NaN  12.500  50.500000  20.000000   \n",
      "23      Ethanol          14400         NaN  12.500  51.000000  20.500000   \n",
      "24      Ethanol          14400         NaN  12.000  50.000000  18.000000   \n",
      "25      Ethanol           7200         NaN   6.000  33.500000  12.500000   \n",
      "26      Ethanol           7200         NaN   6.000  32.000000  11.500000   \n",
      "27      Ethanol           7200         NaN   7.500  31.500000  11.500000   \n",
      "28      Ethanol           3600         NaN   5.000  23.500000   8.200000   \n",
      "29      Ethanol           3600         NaN   5.500  24.000000   9.000000   \n",
      "..          ...            ...         ...     ...        ...        ...   \n",
      "61      Heptane           5025         NaN   0.500   0.500000   5.500000   \n",
      "62      Heptane           5025         NaN   0.750   1.250000   5.750000   \n",
      "63      Heptane           5025         NaN   1.500   1.500000   6.000000   \n",
      "64      Heptane           2512         NaN   1.000   0.500000   4.000000   \n",
      "65      Heptane           2512         NaN   1.500   1.000000   4.500000   \n",
      "66      Heptane           2512         NaN   1.000   0.000000   3.800000   \n",
      "67      Heptane           1526         NaN   0.500   0.000000   2.000000   \n",
      "68      Heptane           1526         NaN   0.500   0.000000   2.000000   \n",
      "69      Heptane           1526         NaN   0.500   0.000000   2.000000   \n",
      "70      Heptane            628         NaN   0.000   0.000000   0.500000   \n",
      "71      Heptane            628         NaN   0.000   0.000000   1.000000   \n",
      "72      Heptane            628         NaN   0.000   0.000000   1.500000   \n",
      "73     Pentanol           1400         NaN   3.200  16.000000  20.500000   \n",
      "74     Pentanol           1400         NaN   2.700  16.500000  20.200000   \n",
      "75     Pentanol           1400         NaN   2.200  14.400000  20.400000   \n",
      "76     Pentanol            600         NaN   1.850   6.050000  14.500000   \n",
      "77     Pentanol            600         NaN   1.300   6.200000  14.200000   \n",
      "78     Pentanol            600         NaN   2.000   6.000000  13.700000   \n",
      "79     Pentanol            300         NaN   1.100   3.450000   9.800000   \n",
      "80     Pentanol            300         NaN   0.800   3.400000   9.300000   \n",
      "81     Pentanol            300         NaN   0.700   3.850000   9.600000   \n",
      "82     Pentanol            416         NaN   0.416   7.904000  18.512000   \n",
      "83     Pentanol            416         NaN   0.416   5.616000  15.808000   \n",
      "84     Pentanol            416         NaN   0.416   5.408000  14.976000   \n",
      "85     Pentanol            192         NaN   0.192   1.728000   8.640000   \n",
      "86     Pentanol            192         NaN   0.192   3.072000   9.120000   \n",
      "87     Pentanol            192         NaN   0.192   2.496000   8.736000   \n",
      "88     Pentanol            103         NaN   0.000   1.287500   5.579167   \n",
      "89     Pentanol            103         NaN   0.000   1.072917   4.935417   \n",
      "90     Pentanol            103         NaN   0.000   1.716667   6.437500   \n",
      "\n",
      "             D           E          F          G          H  \n",
      "0          NaN         NaN        NaN        NaN        NaN  \n",
      "1    11.942308   64.134615  21.498560   5.567840   1.174135  \n",
      "2     5.484615   63.205769  19.658560   4.968000   1.883444  \n",
      "3    11.057692   62.586538  19.813120   5.192480   0.564835  \n",
      "4     3.538462   35.163462   6.876207   1.641724   0.144654  \n",
      "5     4.865385   34.057692   6.757241   1.613966   0.059663  \n",
      "6     3.980769   33.615385   6.773103   1.776552   0.075509  \n",
      "7     2.200000   18.355769   2.798333   0.563500   0.030383  \n",
      "8     2.200000   17.250000   2.629667   0.854833   0.000000  \n",
      "9     3.100000   17.471154   2.645000   0.624833   0.000000  \n",
      "10    1.769231    9.730769   1.114062   0.495937   0.000000  \n",
      "11    2.653846   10.615385   1.078125   0.452813   0.000000  \n",
      "12    2.653846    8.846154   0.424063   0.115000   0.000000  \n",
      "13    0.442308    2.432692   0.651667   0.529000   0.000000  \n",
      "14    0.884615    3.671154   0.406333   0.348833   0.000000  \n",
      "15    1.326923    3.759615   0.329667   0.253000   0.000000  \n",
      "16    0.000000    1.107692   0.132324   0.144000   0.000000  \n",
      "17    0.000000    1.329231  -0.062270   0.054486   0.000000  \n",
      "18    0.000000    1.506462   0.350270   0.548757   0.000000  \n",
      "19   96.000000  142.500000  69.529091  38.951818  35.426599  \n",
      "20  129.000000  142.000000  65.558182  39.282727  35.482343  \n",
      "21  149.000000  140.500000  64.310909  39.448182  36.179168  \n",
      "22   60.000000   94.500000  30.171429  31.728000  18.237738  \n",
      "23   52.000000   93.500000  30.514286  31.481143  18.248133  \n",
      "24   50.000000   89.500000  28.278857  30.877714  18.268811  \n",
      "25   26.000000   65.500000  13.758545  21.979636   9.993431  \n",
      "26   28.000000   63.000000  14.033455  22.215273  10.302946  \n",
      "27   25.000000   61.000000  14.138182  21.802909   9.640167  \n",
      "28   10.687500   37.968750   5.958621  14.927586   5.557047  \n",
      "29   10.687500   37.687500   6.206897  14.598621   4.586819  \n",
      "..         ...         ...        ...        ...        ...  \n",
      "61    7.000000    1.750000   1.461818   3.394159   1.741927  \n",
      "62    7.000000    1.500000   1.863818   4.065682   2.809913  \n",
      "63    7.000000    1.750000   1.717636   3.855545   3.026067  \n",
      "64    3.000000    1.000000   0.523333   1.737467   1.410000  \n",
      "65    3.000000    1.000000   0.558222   1.618844   1.480000  \n",
      "66    2.000000    1.000000   0.453556   1.723511   1.300000  \n",
      "67    0.000000    0.500000   0.087954   0.853153   0.650000  \n",
      "68    0.000000    0.500000   0.158317   0.914720   0.550000  \n",
      "69    0.000000    0.000000   0.281452   1.029061   0.690000  \n",
      "70    0.000000    0.000000   0.104667   0.080244   0.300000  \n",
      "71    0.000000    0.000000   0.153511   0.362844   0.330000  \n",
      "72    0.000000    0.000000   0.069778   0.366333   0.280000  \n",
      "73   -3.000000    9.750000  67.943077  36.604615  33.147059  \n",
      "74   -3.000000    7.000000  62.267692  29.437692  30.338843  \n",
      "75   -3.000000    6.625000  62.052308  29.448462  25.100904  \n",
      "76   -1.500000    3.125000  45.024000  38.035200   5.435981  \n",
      "77   -1.500000    3.125000  44.217600  37.728000   6.050000  \n",
      "78   -1.500000    3.250000  44.217600  37.939200   6.274112  \n",
      "79   -0.750000    1.750000  20.836042  29.966562   0.000000  \n",
      "80   -1.000000    1.750000  21.479792  30.942917   0.000000  \n",
      "81   -1.000000    1.875000  21.887500  30.095312   0.000000  \n",
      "82   -0.500000    2.650000  28.892644  41.553633   2.087148  \n",
      "83   -0.500000    1.625000  29.785311  42.907511   4.617735  \n",
      "84   -0.500000    2.300000  30.350667  41.732167   1.767080  \n",
      "85   -0.250000    1.300000   5.785600  14.214400   0.000000  \n",
      "86   -0.250000    1.300000   4.787200  11.219200   0.000000  \n",
      "87   -0.250000    1.125000   5.068800  12.044800   0.000000  \n",
      "88    0.000000    0.650000   1.845417   6.695000   0.000000  \n",
      "89    0.000000    0.800000   2.288889   7.024028   0.000000  \n",
      "90    0.000000    0.800000   1.945556   7.066944   0.000000  \n",
      "\n",
      "[91 rows x 11 columns]\n",
      "[['Sample type' 'Concentration' nan ... nan nan nan]\n",
      " ['Water' 9200 nan ... 21.498559999999998 5.56784 1.1741349971639246]\n",
      " ['Water' 9200 nan ... 19.65856 4.968 1.8834438975675862]\n",
      " ...\n",
      " ['Pentanol' 103 nan ... 1.8454166666666667 6.695 0.0]\n",
      " ['Pentanol' 103 nan ... 2.288888888888889 7.0240277777777775 0.0]\n",
      " ['Pentanol' 103 nan ... 1.9455555555555557 7.066944444444445 0.0]]\n"
     ]
    },
    {
     "name": "stderr",
     "output_type": "stream",
     "text": [
      "C:\\Users\\Kim\\Anaconda3\\lib\\site-packages\\ipykernel_launcher.py:7: FutureWarning: Method .as_matrix will be removed in a future version. Use .values instead.\n",
      "  import sys\n"
     ]
    }
   ],
   "source": [
    "import pandas as pd\n",
    "import numpy as np\n",
    "\n",
    "nano = pd.read_excel(\"nanonose.xls\")\n",
    "print(nano)\n",
    "\n",
    "numNano = nano.as_matrix()\n",
    "print(numNano)"
   ]
  },
  {
   "cell_type": "markdown",
   "metadata": {},
   "source": [
    "> b. (0.3 points) The data resides in what can be seen as an 8-dimensional space. Each dimension (column), corresponds to one of the 8 NanoNose sensors. Multidimensional (>3) data is hard to visualize, as we are unable to plot that many dimensions simultaneously.\n",
    "\n",
    "> Using the matplotlib library, plot the attributes A and B against each other. After you have plotted A against B, also plot a few other combinations of attributes. Plot at least 4 different combinations. \n",
    "\n",
    "> *Do not forget to label your axes and add a figure description!*\n",
    "\n",
    "> NOTE: If you want to plot inside the Jupyter notebook use the following command after you imported the library: \n",
    "*%matplotlib inline* "
   ]
  },
  {
   "cell_type": "code",
   "execution_count": 18,
   "metadata": {},
   "outputs": [
    {
     "data": {
      "image/png": "[encoded data removed]",
      "text/plain": [
       "<Figure size 432x288 with 1 Axes>"
      ]
     },
     "metadata": {},
     "output_type": "display_data"
    },
    {
     "data": {
      "image/png": "[encoded data removed]",
      "text/plain": [
       "<Figure size 432x288 with 1 Axes>"
      ]
     },
     "metadata": {},
     "output_type": "display_data"
    },
    {
     "data": {
      "image/png": "[encoded data removed]",
      "text/plain": [
       "<Figure size 432x288 with 1 Axes>"
      ]
     },
     "metadata": {},
     "output_type": "display_data"
    },
    {
     "data": {
      "image/png": "[encoded data removed]",
      "text/plain": [
       "<Figure size 432x288 with 1 Axes>"
      ]
     },
     "metadata": {},
     "output_type": "display_data"
    },
    {
     "data": {
      "text/plain": [
       "'\\nEvery letter represents a sensor, measuring the chemical substance in the gas. These results are plotted against eachother.\\n'"
      ]
     },
     "execution_count": 18,
     "metadata": {},
     "output_type": "execute_result"
    }
   ],
   "source": [
    "import matplotlib as mp\n",
    "import matplotlib.pyplot as plt\n",
    "\n",
    "%matplotlib inline\n",
    "\n",
    "A = numNano[:,3]\n",
    "B = numNano[:,4]\n",
    "C = numNano[:,5]\n",
    "D = numNano[:,6]\n",
    "E = numNano[:,7]\n",
    "F = numNano[:,8]\n",
    "G = numNano[:,9]\n",
    "H = numNano[:,10]\n",
    "\n",
    "plt.scatter(A, B)\n",
    "plt.xlabel(\"sensor A\")\n",
    "plt.ylabel(\"sensor B\")\n",
    "plt.title(\"Sensor A against B\")\n",
    "plt.show()\n",
    "\n",
    "plt.scatter(C,B)\n",
    "plt.xlabel(\"sensor C\")\n",
    "plt.ylabel(\"sensor B\")\n",
    "plt.title(\"Sensor C against B\")\n",
    "plt.show()\n",
    "\n",
    "plt.scatter(A,C)\n",
    "plt.xlabel(\"sensor A\")\n",
    "plt.ylabel(\"sensor C\")\n",
    "plt.title(\"Sensor A against C\")\n",
    "plt.show()\n",
    "\n",
    "plt.scatter(E,D)\n",
    "plt.xlabel(\"sensor E\")\n",
    "plt.ylabel(\"sensor D\")\n",
    "plt.title(\"Sensor E against D\")\n",
    "plt.show()\n",
    "\n",
    "\"\"\"\n",
    "Every letter represents a sensor, measuring the chemical substance in the gas. These results are plotted against eachother.\n",
    "\"\"\""
   ]
  },
  {
   "cell_type": "markdown",
   "metadata": {},
   "source": [
    "\n",
    "1.2.2 Principal Component Analysis, more commonly known as PCA, can be cleverly used to better visualize high dimensional data. \n",
    "\n",
    "> a. (1 point) Explain what PCA is and when it can be used. Make sure to provide an in-depth explanation and note what the drawbacks and limitations are."
   ]
  },
  {
   "cell_type": "raw",
   "metadata": {},
   "source": [
    "PCA is used to find the principal components that capture the largest amount of variance in the data, and to find hidden linear collerations between variables. The higher the variance, the more information is captured. It is also used for dimensionality reduction in data, which makes the data easier to visualise. \n",
    "\n",
    "A dataset has eigenvectors and eigenvalues. The eigenvector with the highest eigenvalue will be the first principal component (considering it capturest he highest amount of variance in the data). The other principal components are ordered by the hight of the eigenvalues. \n",
    "\n",
    "One of the limitations of PCA is that it can only capture linear correlations between variables, so the linearity assumption must be intact.  "
   ]
  },
  {
   "cell_type": "markdown",
   "metadata": {},
   "source": [
    "To apply PCA we must first mean center the data. mean centering means that the mean value for an attribute is subtracted from that attribute. \n",
    "\n",
    "> b. (0.5 points) Why do we first need to mean center the data before applying PCA?"
   ]
  },
  {
   "cell_type": "markdown",
   "metadata": {},
   "source": [
    "Mean centering is necessary to make sure that the first principal component discribes the direction of the maximum varience. With the mean centering, the covariance matrix can be calculated. "
   ]
  },
  {
   "cell_type": "markdown",
   "metadata": {},
   "source": [
    "In practice, applying PCA comes down to a series of matrix operations, this is useful, as matrix operations can be applied with little effort and can be computed in relatively little time.\n",
    "\n",
    "The given data **X**, must first be mean centered. This can be easily done by calculating a row vector **μ** containing the mean values of each attribute and then subtracting it from **X** (**Y** = **X** - **1μ**, where **1** is a column vector of size **N** x 1, with N indicating the number of observations in the original data).\n",
    "\n",
    "Then, the Singular Value Decomposition, or SVD, of **Y**, the mean centered data, can be calculated. **Y** = **USV**<sup>T</sup>. In practice, this is often done using the numpy.linalg.svd() function.\n",
    "\n",
    "Using SVD on **Y** yields a series of vectors which can be used to project the data onto specific Principal Components (PCs). The entire dataset can be projected onto the Principal Components by multiplying **Z** = **Y\\*V**, where **Z** indicates the projected data. Alternatively, one could project onto just a subset of all the PCs by indexing in the multiplication. For example: **Z** = **Y\\*V[:,1]** would yield the projection of the data onto the first PC.\n",
    "\n",
    "> c. (1 point)  Apply PCA (using the aforementioned method) on the Nanonose data and visualize a scatterplot of the projection of the data onto the first two PCs."
   ]
  },
  {
   "cell_type": "code",
   "execution_count": 19,
   "metadata": {},
   "outputs": [
    {
     "data": {
      "image/png": "[encoded data removed]",
      "text/plain": [
       "<Figure size 432x288 with 1 Axes>"
      ]
     },
     "metadata": {},
     "output_type": "display_data"
    },
    {
     "data": {
      "text/plain": [
       "'This scatterplot shows the projection of the Nanonose data onto the first two PCs'"
      ]
     },
     "execution_count": 19,
     "metadata": {},
     "output_type": "execute_result"
    }
   ],
   "source": [
    "new_matrix = []\n",
    "\n",
    "for row in numNano[1:,]:\n",
    "    new_values = []\n",
    "    mean = np.mean(row[3:11])\n",
    "    for value in row[3:11]:\n",
    "        new_values.append(value - mean)\n",
    "    new_matrix.append(new_values)\n",
    "    \n",
    "\n",
    "USVT = np.linalg.svd(new_matrix)\n",
    "\n",
    "VT = USVT[2]\n",
    "U = USVT[0]\n",
    "S = USVT[1]\n",
    "\n",
    "V = VT.transpose()\n",
    "\n",
    "Z = new_matrix * V[:,1]\n",
    "Z2 = new_matrix * V[:,2]\n",
    "\n",
    "plt.scatter(Z, Z2)\n",
    "plt.title(\"Dataprojection on PCs\")\n",
    "plt.xlabel(\"PCA1\")\n",
    "plt.ylabel(\"PCA2\")\n",
    "plt.show()\n",
    "\n",
    "\"\"\"This scatterplot shows the projection of the Nanonose data onto the first two PCs\"\"\""
   ]
  },
  {
   "cell_type": "markdown",
   "metadata": {},
   "source": [
    "> d. (1 point) Alternatively, one could use EigenValue Decomposition, EVD, instead of SVD. What are the similarities and differences between SVD and EVD? Can both be applied in each case?"
   ]
  },
  {
   "cell_type": "markdown",
   "metadata": {},
   "source": [
    "Not every matrix has an eigendecomposition, but every matrix does have an SVD. In SVD, there are two singular vectors used. In EVD there's only one EigenValue. The eigenbasis of SVD is always orthonormal as opposed to EVD. \n",
    "\n"
   ]
  },
  {
   "cell_type": "markdown",
   "metadata": {},
   "source": [
    "PCA attempts to explain as much of the variance in data with as few PCs as possible. The variance explained by each of the PCs **m** can be calculated using the following formula: \n",
    "$\\rho_m = 1 - \\frac{\\|{Y} - {u}_m s_{mm} {v}_m^T\\|^2_F}{\\|{Y}\\|^2_F} = \\frac{s_{mm}^2}{\\displaystyle \\sum_{m'=1}^M s^2_{m'm'}}$\n",
    "\n",
    "Which indicates that the variation $\\rho$ for a given **m** can be calculated by dividing the squared singular value of component **m** by the sum of all squared singular values. \n",
    "> e. (1 point) Calculate the row vector $\\rho$ containing all values of $\\rho$ for all PCs **m**. Create a bar plot with the variance explained on the Y axis and the number of the PC on the X axis. "
   ]
  },
  {
   "cell_type": "code",
   "execution_count": 20,
   "metadata": {},
   "outputs": [
    {
     "data": {
      "image/png": "[encoded data removed]",
      "text/plain": [
       "<Figure size 432x288 with 1 Axes>"
      ]
     },
     "metadata": {},
     "output_type": "display_data"
    },
    {
     "data": {
      "text/plain": [
       "'This plot shows how much varience every PC explains'"
      ]
     },
     "execution_count": 20,
     "metadata": {},
     "output_type": "execute_result"
    }
   ],
   "source": [
    "p1 = ((S[0])**2)/((S[0])**2+(S[1])**2+(S[2])**2+((S[3])**2)+((S[4])**2)+((S[5])**2)+((S[6])**2)+((S[7])**2))\n",
    "p2 = ((S[1])**2)/((S[0])**2+(S[1])**2+(S[2])**2+((S[3])**2)+((S[4])**2)+((S[5])**2)+((S[6])**2)+((S[7])**2))\n",
    "p3 = ((S[2])**2)/((S[0])**2+(S[1])**2+(S[2])**2+((S[3])**2)+((S[4])**2)+((S[5])**2)+((S[6])**2)+((S[7])**2))\n",
    "p4 = ((S[3])**2)/((S[0])**2+(S[1])**2+(S[2])**2+((S[3])**2)+((S[4])**2)+((S[5])**2)+((S[6])**2)+((S[7])**2))\n",
    "p5 = ((S[4])**2)/((S[0])**2+(S[1])**2+(S[2])**2+((S[3])**2)+((S[4])**2)+((S[5])**2)+((S[6])**2)+((S[7])**2))\n",
    "p6 = ((S[5])**2)/((S[0])**2+(S[1])**2+(S[2])**2+((S[3])**2)+((S[4])**2)+((S[5])**2)+((S[6])**2)+((S[7])**2))\n",
    "p7 = ((S[6])**2)/((S[0])**2+(S[1])**2+(S[2])**2+((S[3])**2)+((S[4])**2)+((S[5])**2)+((S[6])**2)+((S[7])**2))\n",
    "p8 = ((S[7])**2)/((S[0])**2+(S[1])**2+(S[2])**2+((S[3])**2)+((S[4])**2)+((S[5])**2)+((S[6])**2)+((S[7])**2))\n",
    "\n",
    "rho = [p1, p2, p3, p4, p5, p6, p7, p8]\n",
    "Xvalue = [1, 2, 3 , 4 , 5 , 6 , 7 , 8]\n",
    "width = 0.5\n",
    "plt.bar(Xvalue, rho, width)\n",
    "plt.xlabel(\"Number of the PC\")\n",
    "plt.ylabel(\"Rho value\")\n",
    "plt.title(\"The explanation of varience\")\n",
    "plt.show()\n",
    "\n",
    "\"\"\"This plot shows how much varience every PC explains\"\"\""
   ]
  },
  {
   "cell_type": "markdown",
   "metadata": {},
   "source": [
    "> f. (0.5 points) How much of the variance is explained by the first three PCs?"
   ]
  },
  {
   "cell_type": "code",
   "execution_count": null,
   "metadata": {},
   "outputs": [],
   "source": [
    "(p1 + p2 + p3) * 100"
   ]
  },
  {
   "cell_type": "markdown",
   "metadata": {},
   "source": [
    "90.23% of the variance is explained by the first three principal components. "
   ]
  },
  {
   "cell_type": "markdown",
   "metadata": {},
   "source": [
    "The columns of **V** indicate the exact projection of the data onto the PCs. In a way, a PC is nothing other than a linear combination of the original attributes. \n",
    "> g. (0.5 points) Which attributes are primarily represented by the first PC? What would cause an observation to have a large negative/positive projection onto the second principal component?"
   ]
  },
  {
   "cell_type": "code",
   "execution_count": null,
   "metadata": {},
   "outputs": [],
   "source": []
  },
  {
   "cell_type": "markdown",
   "metadata": {},
   "source": [
    "*Double click to type your answer here*"
   ]
  },
  {
   "cell_type": "markdown",
   "metadata": {},
   "source": [
    "## 1.3 Similarity measures\n",
    "\n",
    "We will use a subset of the data on wild faces described by Berg in 2005 transformed to a total\n",
    "of 1000 gray scale images of size 40x40 pixels, we will attempt to find faces in the\n",
    "data base that are the most similar to a given query face. To measure similarity we\n",
    "will consider the following measures: SMC, Jaccard, Cosine, ExtendedJaccard, and\n",
    "Correlation. These measures of similarity are described in *Introduction to Data Mining*, page 73-77 and are given by\n",
    "\n",
    "\\begin{eqnarray*}\n",
    "\\textrm{SMC}({x},{y}) & = & \\frac{\\textrm{Number of matching attribute values}}{\\textrm{Number of attributes}} \\\\\n",
    "\\textrm{Jaccard}({x},{y}) & = & \\frac{\\textrm{Number of matching presences}}{\\textrm{Number of attributes not involved in 00 matches}} \\\\\n",
    "\\textrm{Cosine}({x},{y}) & = & \\frac{{x}^T {y}}{\\|{x}\\| \\|{y}\\|} \\\\\n",
    "\\textrm{ExtendedJaccard}({x},{y}) & = & \\frac{{x}^T {y}}{\\|{x}\\|^2 + \\|{y}\\|^2 - {x}^T {y}} \\\\\n",
    "\\textrm{Correlation}({x},{y}) & = & \\frac{\\textrm{cov}({x},{y})}{\\textrm{std}({x}) \\textrm{std}({y})}\n",
    "\\end{eqnarray*}\n",
    "where $\\textrm{cov}({x},{y})$ denotes the covariance between ${x}$ and ${y}$ and $\\textrm{std}({x})$ denotes the standard deviation of ${x}$.\n",
    "\n",
    "Notice that the SMC and Jaccard similarity measures only are defined for binary\n",
    "data, i.e., data that takes values in $\\{0,1\\}$. As the data we analyze is non-binary,\n",
    "we will transform the data to be binary when calculating these two measures of\n",
    "similarity by setting\n",
    "$x_i = \\left\\{ \\begin{array}{ll} 0 & \\textrm{if~} x_i < \\textrm{median}({x}) \\\\\n",
    "                                1 & \\textrm{otherwise.} \\end{array} \\right.$\n",
    "                                \n",
    "### 1.3.1\n",
    "> (0.5 points) Inspect and run the simfaces function from the Toolbox. The function loads the CBCL face database, computes the similarity between a selected query image and all others, and display the query image, the 5 most similar images, and the 5 least similar images. The value of the used similarity measure is shown below each image. Try changing the query image and the similarity measure and see what happens. Which similarity measures produce similar results? Which one gives the best result? Why?\n",
    "\n",
    "> Give a quick overview of the settings (image number and similarity measure) for each time you run the script! Remember to leave all results open!\n",
    "\n"
   ]
  },
  {
   "cell_type": "code",
   "execution_count": null,
   "metadata": {},
   "outputs": [],
   "source": [
    "from Toolbox.simfaces import simfaces\n",
    "\n",
    "#simfaces(10,'smc')\n",
    "#simfaces(10,'jaccard')\n",
    "#simfaces(10,'cosine')\n",
    "#simfaces(10,'extendedjaccard')\n",
    "#simfaces(10,'correlation')\n",
    "\n",
    "#simfaces(15,'smc')\n",
    "#simfaces(15,'jaccard')\n",
    "#simfaces(15,'cosine')\n",
    "#simfaces(15,'extendedjaccard')\n",
    "#simfaces(15,'correlation')\n",
    "\n",
    "simfaces(20,'smc')\n",
    "simfaces(20,'jaccard')\n",
    "simfaces(20,'cosine')\n",
    "simfaces(20,'extendedjaccard')\n",
    "simfaces(20,'correlation')"
   ]
  },
  {
   "cell_type": "markdown",
   "metadata": {},
   "source": [
    "By comparing the similarity measures for image 10 SMC seemed to perform the best. The gender, general facial position and darkness of the picture are very similar to the target image. It also managed to capture the laugh. Apart from Jaccard, the rest seems to perform well too. Jaccard is the only one who has women featured in the most similar images. \n",
    "\n",
    "By comparing the similarity measures for image 15 Cosine, Correlation, and ExtendedJaccard have found some of the same most similar images of laughing women. ExtendedJaccard seems to recognise the facial orientation. Jaccard and SMC both perform well in the facial expressions. \n",
    "\n",
    "By comparing the similarity measures for image 20 all of the measures seem to have results with a similar dark background like in the target image. They also all have overlap in pictures, with one image even occuring in all of them. "
   ]
  },
  {
   "cell_type": "markdown",
   "metadata": {},
   "source": [
    "\n",
    "> (0.75 points) We will investigate how scaling and translation impact the following three\n",
    "similarity measures: Cosine, ExtendedJaccard, and Correlation. Let $\\alpha$ and $\\beta$ be two constants. Using Python, calculate the following similarity measures, and check if the statements below are correct.\n",
    "\n",
    "\\begin{eqnarray*}\n",
    "\\textrm{Cosine}(\\alpha{x},{y}) & = & \\textrm{Cosine}({x},{y}) \\\\\n",
    "\\textrm{ExtendedJaccard}(\\alpha{x},{y}) & = & \\textrm{ExtendedJaccard}({x},{y}) \\\\\n",
    "\\textrm{Correlation}(\\alpha{x},{y}) & = & \\textrm{Correlation}({x},{y}) \\\\\n",
    "\\textrm{Cosine}(\\beta + {x},{y}) & = & \\textrm{Cosine}({x},{y}) \\\\\n",
    "\\textrm{ExtendedJaccard}(\\beta + {x},{y}) & = & \\textrm{ExtendedJaccard}({x},{y}) \\\\\n",
    "\\textrm{Correlation}(\\beta + {x},{y}) & = & \\textrm{Correlation}({x},{y})\n",
    "\\end{eqnarray*}\n",
    "\n",
    "> Type help similarity, or study similarity.py, to learn about the function that is used to compute the similarity measures. Do not forget to also import similarity.py!\n",
    "\n",
    "> Even though a similarity measure is theoretically invariant e.g.\\ to scaling, it might not be exactly invariant numerically.\n",
    "\n",
    "> Do not forget to also provide an explanation in addition to the calculations!\n"
   ]
  },
  {
   "cell_type": "code",
   "execution_count": 14,
   "metadata": {},
   "outputs": [
    {
     "name": "stdout",
     "output_type": "stream",
     "text": [
      "Cosine: scaling with alpha yiels differences\n",
      "Cosine: translation with beta yiels differences\n",
      "ExtendedJaccard: scaling with alpha stays similar\n",
      "ExtendedJaccard: translation with beta stays similar\n",
      "Correlation: scaling with alpha yiels differences\n",
      "Correlation: translation with beta stays similar\n"
     ]
    }
   ],
   "source": [
    "import Toolbox.similarity as si\n",
    "import random\n",
    "\n",
    "a = random.random()\n",
    "b = random.random()\n",
    "x = M\n",
    "y = np.dot(M,M)\n",
    "\n",
    "if((si.similarity(x, y, \"cos\") == si.similarity(a*x, y, \"cos\")).all()):\n",
    "    print(\"Cosine: scaling with alpha stays similar\")\n",
    "else:\n",
    "    print(\"Cosine: scaling with alpha yiels differences\")\n",
    "    \n",
    "if((si.similarity(x, y, \"cos\") == si.similarity(b+x, y, \"cos\")).all()):\n",
    "    print(\"Cosine: translation with beta stays similar\")\n",
    "else:\n",
    "    print(\"Cosine: translation with beta yiels differences\")   \n",
    "    \n",
    "if((si.similarity(x, y, \"ext\") == si.similarity(a*x, y, \"ext\")).all()):\n",
    "    print(\"ExtendedJaccard: scaling with alpha stays similar\")\n",
    "else:\n",
    "    print(\"ExtendedJaccard: scaling with alpha yiels differences\"\n",
    "         )\n",
    "if((si.similarity(x, y, \"ext\") == si.similarity(b+x, y, \"ext\")).all()):\n",
    "    print(\"ExtendedJaccard: translation with beta stays similar\")\n",
    "else:\n",
    "    print(\"ExtendedJaccard: translation with beta yiels differences\")    \n",
    "    \n",
    "if((si.similarity(x, y, \"cor\") == si.similarity(a*x, y, \"cor\")).all()):\n",
    "    print(\"Correlation: scaling with alpha stays similar\")\n",
    "else:\n",
    "    print(\"Correlation: scaling with alpha yiels differences\")  \n",
    "    \n",
    "if((si.similarity(x, y, \"cor\") == si.similarity(b+x, y, \"cor\")).all()):\n",
    "    print(\"Correlation: translation with beta stays similar\")\n",
    "else:\n",
    "    print(\"Correlation: translation with beta yiels differences\")"
   ]
  },
  {
   "cell_type": "markdown",
   "metadata": {},
   "source": [
    "## Turning in the Jupyter Notebook\n",
    "Do not forget to read the provided guidelines regarding the expectations and grading of your report. You can find these on Blackboard!"
   ]
  },
  {
   "cell_type": "markdown",
   "metadata": {},
   "source": [
    "## References\n",
    "[1] Tommy S Alstrøm, Jan Larsen, Claus H Nielsen, and Niels B Larsen. Data-driven\n",
    "modeling of nano-nose gas sensor arrays. In SPIE Defense, Security, and Sensing,\n",
    "pages 76970U\u001576970U. International Society for Optics and Photonics, 2010. URL\n",
    "http://www.nanonose.dk."
   ]
  }
 ],
 "metadata": {
  "kernelspec": {
   "display_name": "Python 3",
   "language": "python",
   "name": "python3"
  },
  "language_info": {
   "codemirror_mode": {
    "name": "ipython",
    "version": 3
   },
   "file_extension": ".py",
   "mimetype": "text/x-python",
   "name": "python",
   "nbconvert_exporter": "python",
   "pygments_lexer": "ipython3",
   "version": "3.6.5"
  }
 },
 "nbformat": 4,
 "nbformat_minor": 2
}
