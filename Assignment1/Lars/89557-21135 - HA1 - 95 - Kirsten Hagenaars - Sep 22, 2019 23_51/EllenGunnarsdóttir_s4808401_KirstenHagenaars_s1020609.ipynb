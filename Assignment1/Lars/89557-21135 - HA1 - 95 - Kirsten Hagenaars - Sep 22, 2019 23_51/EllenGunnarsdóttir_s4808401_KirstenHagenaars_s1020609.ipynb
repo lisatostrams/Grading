{
 "cells": [
  {
   "cell_type": "markdown",
   "metadata": {},
   "source": [
    "# Assignment 1\n",
    "\n",
    "## Objective of this assignment\n",
    "The objective is to get acquainted with the Python language, with emphasis on its scientific and numerical extensions, how data can be imported from other data sources, the linear algebra basics that are needed for this course, visualization using principal component analysis (PCA) and the concept of similarity. Upon completing this exercise it is expected that you:\n",
    "\n",
    "- Understand how data can be represented as vectors and matrices in numerical Python (NumPy).\n",
    "- Can apply and interpret principal component analysis (PCA) for data visualization.\n",
    "- Understand the various measures of similarity such as Jaccard and Cosine similarity and apply similarity measures to query for similar observations.\n",
    "\n",
    "## ** Important: ** When handing in your homework:\n",
    "+ Hand in the notebook (and nothing else) named as follows: `StudentName1_snumber_StudentName2_snumber.ipynb`\n",
    "+ Provide clear and complete answers to the questions below under a separate header (not hidden somewhere in your source code), and make sure to explain your answers / motivate your choices. Add Markdown cells where necessary.\n",
    "+ Source code, output graphs, derivations, etc., should be included in the notebook.\n",
    "+ Hand-in: upload to Brightspace.\n",
    "+ Include name, student number, assignment (especially in filenames)!\n",
    "+ When working in pairs only one of you should upload the assignment, and report the name of your partner in your filename.\n",
    "+ Use the Brightspace discussion board or email the student assistants for questions on how to complete the exercises.\n",
    "+ If you find mistakes/have suggestions/would like to complain about the assigment material itself, please email me [Lisa] at `l.tostrams@science.ru.nl`\n",
    "\n",
    "\n",
    "## Advised Reading and Exercise Material\n",
    "**The following on-line materials are recommended:**\n",
    "\n",
    "- <http://docs.python.org/tutorial> - Introduction into Python environment, syntax and data structures. Recommended reading - sections 1, 2, 3, 4 and 5.\n",
    "- <https://docs.scipy.org/doc/numpy/user/quickstart.html> - Tutorial introducing the scientific computing in Python, array and matrix operations, indexing and slicing matrices.\n",
    "- <https://docs.scipy.org/doc/numpy/user/numpy-for-matlab-users.html> - Useful reference to scientific computing in Python if you have previous experience with MATLAB programming.\n",
    "- <https://www.datacamp.com/courses/intro-to-python-for-data-science> - Simple introduction to Data Science using Python.\n",
    "- <https://matplotlib.org/> - Documentation and examples related to matplotlib module, which we shall use extensively through the course to visualize data and results.\n",
    "- Pang-Ning Tan, Michael Steinbach, and Vipin Kumar, **Introduction to Data Mining**, sections 2.1-2.3 + (A) + B.1\n",
    "- Pang-Ning Tan, Michael Steinbach, and Vipin Kumar, **Introduction to Data Mining**, sections 2.4 + 3.1-3.2 + C.1-C.2\n",
    "\n",
    "\n",
    "## 1.1 Python and Linear Algebra basics\n",
    "\n",
    "**For this course we advise to only use NumPy ndarrays to represent vectors and matrices. The numpy.matrix data type, although intuitive, is less supported and uses operators for multiplication differently. This means that you can't perform matrix multiplications symbollically, but that you will have to use functions from the NumPy library!** \n",
    "\n",
    "**1.1.1** a)(0.3 points) Generate (and print) the following vectors using functions from the *NumPy* package in Python: \n",
    "*Note: You do not have to print column vectors as columns!*\n",
    "\n",
    "\\begin{equation}\n",
    "     \\textbf{x} = \\begin{pmatrix} \n",
    "         6 \\\\\n",
    "         7 \\\\\n",
    "         8 \\\\\n",
    "         9 \\\\\n",
    "         10 \\\\\n",
    "         11 \\\\\n",
    "         12\n",
    "       \\end{pmatrix}\n",
    "     \\textbf{y} = \\begin{pmatrix} \n",
    "         3 \\\\\n",
    "         7 \\\\\n",
    "         11 \\\\\n",
    "         15 \\\\\n",
    "         19 \\\\\n",
    "         23 \\\\\n",
    "         27\n",
    "       \\end{pmatrix}\n",
    "     \\textbf{w} = \\begin{pmatrix} \n",
    "         1 \\\\\n",
    "         1 \\\\\n",
    "         0 \\\\\n",
    "         0.5 \\\\\n",
    "         1 \\\\\n",
    "         1.5 \\\\\n",
    "         2 \\\\\n",
    "         0 \\\\\n",
    "         0 \n",
    "       \\end{pmatrix}\n",
    "     \\textbf{s} = \\begin{pmatrix}\n",
    "         100 \\\\\n",
    "         98.8 \\\\\n",
    "         97.6 \\\\\n",
    "         96.4 \\\\\n",
    "         95.2\n",
    "       \\end{pmatrix} \n",
    "     \\textbf{z} = \\begin{pmatrix}\n",
    "         0.7 \\\\\n",
    "         1.0 \\\\\n",
    "         1.3 \\\\\n",
    "         1.6 \\\\\n",
    "         1.9 \\\\\n",
    "         2.2 \\\\\n",
    "         2.5 \\\\\n",
    "         2.8\n",
    "       \\end{pmatrix}\n",
    "  \\end{equation}\n",
    "\n"
   ]
  },
  {
   "cell_type": "code",
   "execution_count": 26,
   "metadata": {},
   "outputs": [],
   "source": [
    "#Import NumPy\n",
    "import numpy as np\n",
    "import math\n",
    "import matplotlib.pyplot as plt\n",
    "#You'll have to manually import libraries in the future!"
   ]
  },
  {
   "cell_type": "code",
   "execution_count": 27,
   "metadata": {},
   "outputs": [
    {
     "name": "stdout",
     "output_type": "stream",
     "text": [
      "[ 6  7  8  9 10 11 12]\n",
      "[ 3  7 11 15 19 23 27]\n",
      "[1.  1.  0.  0.5 1.  1.5 2.  0.  0. ]\n",
      "[100.   98.8  97.6  96.4  95.2]\n",
      "[0.7 1.  1.3 1.6 1.9 2.2 2.5 2.8]\n"
     ]
    }
   ],
   "source": [
    "##Generate the vectors using Python and NumPy \n",
    "x = np.array([6,7,8,9,10,11,12])\n",
    "y = np.array([3,7,11,15,19,23,27])\n",
    "w = np.array([1,1,0,0.5,1,1.5,2,0,0])\n",
    "s = np.array([100,98.8,97.6,96.4,95.2])\n",
    "z = np.array([0.7,1.0,1.3,1.6,1.9,2.2,2.5,2.8])\n",
    "\n",
    "\n",
    "# Remember to show your results!\n",
    "print(x)\n",
    "print(y)\n",
    "print(w)\n",
    "print(s)\n",
    "print(z)"
   ]
  },
  {
   "cell_type": "markdown",
   "metadata": {},
   "source": [
    "Then compute the following operations:\n",
    "> b) (0.2 points) **v** = 3**x** + **y**"
   ]
  },
  {
   "cell_type": "code",
   "execution_count": 28,
   "metadata": {},
   "outputs": [],
   "source": [
    "##Answer to question 1.1.1b\n",
    "v = np.add(3*x,y)"
   ]
  },
  {
   "cell_type": "markdown",
   "metadata": {},
   "source": [
    "> c) (0.2 points) The dot product between **x** and **y** and name it **q**\n"
   ]
  },
  {
   "cell_type": "code",
   "execution_count": 29,
   "metadata": {},
   "outputs": [],
   "source": [
    "##Answer to question 1.1.1c\n",
    "q = np.dot(x,y)"
   ]
  },
  {
   "cell_type": "markdown",
   "metadata": {},
   "source": [
    "> d) (0.2 points) **t** = pi(**s** + 4) (element wise multiplication)"
   ]
  },
  {
   "cell_type": "code",
   "execution_count": 30,
   "metadata": {},
   "outputs": [],
   "source": [
    "##Answer to question 1.1.1d\n",
    "t = math.pi*(s+4)"
   ]
  },
  {
   "cell_type": "markdown",
   "metadata": {},
   "source": [
    "> e) (0.2 points) **z** = **z** - 1"
   ]
  },
  {
   "cell_type": "code",
   "execution_count": 31,
   "metadata": {},
   "outputs": [],
   "source": [
    "##Answer to question 1.1.1e\n",
    "z = z-1"
   ]
  },
  {
   "cell_type": "markdown",
   "metadata": {},
   "source": [
    "> f) (0.2 points) replace some values of x, such that the last three values in the vector are 4"
   ]
  },
  {
   "cell_type": "code",
   "execution_count": 32,
   "metadata": {},
   "outputs": [],
   "source": [
    "##Answer to question 1.1.1f\n",
    "x[4]=x[5]=x[6]=4"
   ]
  },
  {
   "cell_type": "markdown",
   "metadata": {},
   "source": [
    "> g) (0.2 points) **r** = 2**w** - 5"
   ]
  },
  {
   "cell_type": "code",
   "execution_count": 33,
   "metadata": {},
   "outputs": [],
   "source": [
    "##Answer to question 1.1.1g\n",
    "r2 = 2*w - 5"
   ]
  },
  {
   "cell_type": "markdown",
   "metadata": {},
   "source": [
    "**1.1.2** (0.25 points) Generate these matrices:\n",
    "\n",
    "\\begin{equation}\n",
    "     \\textbf{M} = \\begin{pmatrix} \n",
    "         1 & 2 & 3 \\\\\n",
    "         6 & 8 & 4 \\\\\n",
    "         6 & 7 & 5          \n",
    "         \\end{pmatrix}\n",
    "     \\textbf{N} = \\begin{pmatrix} \n",
    "         4 & 6 \\\\\n",
    "         7 & 2 \\\\\n",
    "         5 & 1\n",
    "         \\end{pmatrix}\n",
    "     \\textbf{P} = \\begin{pmatrix} \n",
    "         2 & 5 \\\\\n",
    "         5 & 5 \n",
    "         \\end{pmatrix}   \n",
    "\\end{equation}\n",
    "\n",
    "Afterwards try and compute the operations for subquestions *a* up to and including *e* and print the resulting matrix. If some operations yield errors, give the reason as to why that happens.\n",
    "\n",
    "*A hint: NumPy has functions for matrix operations you can, and should, use! For instance, * **M\\*N** * should be calculated with NumPy's `dot` product.*"
   ]
  },
  {
   "cell_type": "code",
   "execution_count": 34,
   "metadata": {},
   "outputs": [
    {
     "name": "stdout",
     "output_type": "stream",
     "text": [
      "[[1 2 3]\n",
      " [6 8 4]\n",
      " [6 7 5]]\n",
      "[[4 6]\n",
      " [7 2]\n",
      " [5 1]]\n",
      "[[2 5]\n",
      " [5 5]]\n"
     ]
    }
   ],
   "source": [
    "##Generate the matrices using Python and NumPy\n",
    "M = np.array([[1,2,3],[6,8,4],[6,7,5]])\n",
    "N = np.array([[4,6],[7,2],[5,1]])\n",
    "P = np.array([[2,5],[5,5]])\n",
    "print(M)\n",
    "print(N)\n",
    "print(P)"
   ]
  },
  {
   "cell_type": "markdown",
   "metadata": {},
   "source": [
    "> a. (0.2 points) **A** = **MN** + **N**"
   ]
  },
  {
   "cell_type": "code",
   "execution_count": 35,
   "metadata": {
    "scrolled": true
   },
   "outputs": [
    {
     "ename": "ValueError",
     "evalue": "operands could not be broadcast together with shapes (3,3) (3,2) ",
     "output_type": "error",
     "traceback": [
      "\u001b[1;31m---------------------------------------------------------------------------\u001b[0m",
      "\u001b[1;31mValueError\u001b[0m                                Traceback (most recent call last)",
      "\u001b[1;32m<ipython-input-35-d6f8454983e5>\u001b[0m in \u001b[0;36m<module>\u001b[1;34m\u001b[0m\n\u001b[0;32m      1\u001b[0m \u001b[1;31m##Answer to question 1.1.2a\u001b[0m\u001b[1;33m\u001b[0m\u001b[1;33m\u001b[0m\u001b[1;33m\u001b[0m\u001b[0m\n\u001b[1;32m----> 2\u001b[1;33m \u001b[0mA\u001b[0m \u001b[1;33m=\u001b[0m \u001b[0mnp\u001b[0m\u001b[1;33m.\u001b[0m\u001b[0madd\u001b[0m\u001b[1;33m(\u001b[0m\u001b[0mnp\u001b[0m\u001b[1;33m.\u001b[0m\u001b[0mmultiply\u001b[0m\u001b[1;33m(\u001b[0m\u001b[0mM\u001b[0m\u001b[1;33m,\u001b[0m\u001b[0mN\u001b[0m\u001b[1;33m)\u001b[0m\u001b[1;33m,\u001b[0m\u001b[0mN\u001b[0m\u001b[1;33m)\u001b[0m\u001b[1;33m\u001b[0m\u001b[1;33m\u001b[0m\u001b[0m\n\u001b[0m\u001b[0;32m      3\u001b[0m \u001b[1;31m#This yields an error because matrices of different sizes can not be multiplied together\u001b[0m\u001b[1;33m\u001b[0m\u001b[1;33m\u001b[0m\u001b[1;33m\u001b[0m\u001b[0m\n",
      "\u001b[1;31mValueError\u001b[0m: operands could not be broadcast together with shapes (3,3) (3,2) "
     ]
    }
   ],
   "source": [
    "##Answer to question 1.1.2a\n",
    "A = np.add(np.multiply(M,N),N)"
   ]
  },
  {
   "cell_type": "markdown",
   "metadata": {},
   "source": [
    "This yields an error because matrices of different sizes can not be multiplied together"
   ]
  },
  {
   "cell_type": "markdown",
   "metadata": {},
   "source": [
    "> b. (0.2 points) **B** = **N**<sup>T</sup>**M**"
   ]
  },
  {
   "cell_type": "code",
   "execution_count": 36,
   "metadata": {},
   "outputs": [
    {
     "ename": "ValueError",
     "evalue": "operands could not be broadcast together with shapes (2,3) (3,3) ",
     "output_type": "error",
     "traceback": [
      "\u001b[1;31m---------------------------------------------------------------------------\u001b[0m",
      "\u001b[1;31mValueError\u001b[0m                                Traceback (most recent call last)",
      "\u001b[1;32m<ipython-input-36-99ac19047084>\u001b[0m in \u001b[0;36m<module>\u001b[1;34m\u001b[0m\n\u001b[0;32m      1\u001b[0m \u001b[1;31m##Answer to question 1.1.2b\u001b[0m\u001b[1;33m\u001b[0m\u001b[1;33m\u001b[0m\u001b[1;33m\u001b[0m\u001b[0m\n\u001b[1;32m----> 2\u001b[1;33m \u001b[0mB\u001b[0m \u001b[1;33m=\u001b[0m \u001b[0mnp\u001b[0m\u001b[1;33m.\u001b[0m\u001b[0mmultiply\u001b[0m\u001b[1;33m(\u001b[0m\u001b[0mN\u001b[0m\u001b[1;33m.\u001b[0m\u001b[0mtranspose\u001b[0m\u001b[1;33m(\u001b[0m\u001b[1;33m)\u001b[0m\u001b[1;33m,\u001b[0m\u001b[0mM\u001b[0m\u001b[1;33m)\u001b[0m\u001b[1;33m\u001b[0m\u001b[1;33m\u001b[0m\u001b[0m\n\u001b[0m\u001b[0;32m      3\u001b[0m \u001b[1;31m#This yields an error because the number of row in M does not equal the number of columns in N\u001b[0m\u001b[1;33m\u001b[0m\u001b[1;33m\u001b[0m\u001b[1;33m\u001b[0m\u001b[0m\n\u001b[0;32m      4\u001b[0m \u001b[1;31m#and therefore they can not be multiplied together\u001b[0m\u001b[1;33m\u001b[0m\u001b[1;33m\u001b[0m\u001b[1;33m\u001b[0m\u001b[0m\n",
      "\u001b[1;31mValueError\u001b[0m: operands could not be broadcast together with shapes (2,3) (3,3) "
     ]
    }
   ],
   "source": [
    "##Answer to question 1.1.2b\n",
    "B = np.multiply(N.transpose(),M)"
   ]
  },
  {
   "cell_type": "markdown",
   "metadata": {},
   "source": [
    "This yields an error because the number of row in M does not equal the number of columns in N \n",
    "and therefore they can not be multiplied together."
   ]
  },
  {
   "cell_type": "markdown",
   "metadata": {},
   "source": [
    "> c. (0.2 points) **C** = **P**<sup>-1</sup> + **P**"
   ]
  },
  {
   "cell_type": "code",
   "execution_count": 37,
   "metadata": {},
   "outputs": [],
   "source": [
    "##Answer to question 1.1.2c\n",
    "C = np.add(np.linalg.inv(P),P)"
   ]
  },
  {
   "cell_type": "markdown",
   "metadata": {},
   "source": [
    "> d. (0.2 points) **D** = **AC**(**C** + **B**)"
   ]
  },
  {
   "cell_type": "code",
   "execution_count": 38,
   "metadata": {},
   "outputs": [
    {
     "ename": "NameError",
     "evalue": "name 'A' is not defined",
     "output_type": "error",
     "traceback": [
      "\u001b[1;31m---------------------------------------------------------------------------\u001b[0m",
      "\u001b[1;31mNameError\u001b[0m                                 Traceback (most recent call last)",
      "\u001b[1;32m<ipython-input-38-8367a7abddde>\u001b[0m in \u001b[0;36m<module>\u001b[1;34m\u001b[0m\n\u001b[0;32m      1\u001b[0m \u001b[1;31m##Answer to question 1.1.2d\u001b[0m\u001b[1;33m\u001b[0m\u001b[1;33m\u001b[0m\u001b[1;33m\u001b[0m\u001b[0m\n\u001b[1;32m----> 2\u001b[1;33m \u001b[0mD\u001b[0m \u001b[1;33m=\u001b[0m \u001b[0mnp\u001b[0m\u001b[1;33m.\u001b[0m\u001b[0mmultiply\u001b[0m\u001b[1;33m(\u001b[0m\u001b[0mnp\u001b[0m\u001b[1;33m.\u001b[0m\u001b[0mmultiply\u001b[0m\u001b[1;33m(\u001b[0m\u001b[0mA\u001b[0m\u001b[1;33m,\u001b[0m\u001b[0mC\u001b[0m\u001b[1;33m)\u001b[0m\u001b[1;33m,\u001b[0m \u001b[0mnp\u001b[0m\u001b[1;33m.\u001b[0m\u001b[0madd\u001b[0m\u001b[1;33m(\u001b[0m\u001b[0mC\u001b[0m\u001b[1;33m,\u001b[0m\u001b[0mB\u001b[0m\u001b[1;33m)\u001b[0m\u001b[1;33m)\u001b[0m\u001b[1;33m\u001b[0m\u001b[1;33m\u001b[0m\u001b[0m\n\u001b[0m\u001b[0;32m      3\u001b[0m \u001b[1;31m#This yields an error because A is not defined, because there is an error in the initialization of A.\u001b[0m\u001b[1;33m\u001b[0m\u001b[1;33m\u001b[0m\u001b[1;33m\u001b[0m\u001b[0m\n",
      "\u001b[1;31mNameError\u001b[0m: name 'A' is not defined"
     ]
    }
   ],
   "source": [
    "##Answer to question 1.1.2d\n",
    "D = np.multiply(np.multiply(A,C), np.add(C,B))"
   ]
  },
  {
   "cell_type": "markdown",
   "metadata": {},
   "source": [
    "This yields an error because A is not defined, because there is an error in the initialization of A."
   ]
  },
  {
   "cell_type": "markdown",
   "metadata": {},
   "source": [
    "> e. (0.2 points) Compute the eigenvalues and eigenvectors of **M**, **N**, and **P** (and print them)."
   ]
  },
  {
   "cell_type": "code",
   "execution_count": 39,
   "metadata": {},
   "outputs": [
    {
     "name": "stdout",
     "output_type": "stream",
     "text": [
      "(array([14.26208735, -1.26208735,  1.        ]), array([[-0.25759308, -0.84234218,  0.51507875],\n",
      "       [-0.68324439,  0.38109032, -0.71318597],\n",
      "       [-0.68324439,  0.38109032,  0.47545731]]))\n"
     ]
    },
    {
     "ename": "LinAlgError",
     "evalue": "Last 2 dimensions of the array must be square",
     "output_type": "error",
     "traceback": [
      "\u001b[1;31m---------------------------------------------------------------------------\u001b[0m",
      "\u001b[1;31mLinAlgError\u001b[0m                               Traceback (most recent call last)",
      "\u001b[1;32m<ipython-input-39-ec918abc7d8f>\u001b[0m in \u001b[0;36m<module>\u001b[1;34m\u001b[0m\n\u001b[0;32m      1\u001b[0m \u001b[1;31m##Answer to question 1.1.2e\u001b[0m\u001b[1;33m\u001b[0m\u001b[1;33m\u001b[0m\u001b[1;33m\u001b[0m\u001b[0m\n\u001b[0;32m      2\u001b[0m \u001b[0mprint\u001b[0m\u001b[1;33m(\u001b[0m\u001b[0mnp\u001b[0m\u001b[1;33m.\u001b[0m\u001b[0mlinalg\u001b[0m\u001b[1;33m.\u001b[0m\u001b[0meig\u001b[0m\u001b[1;33m(\u001b[0m\u001b[0mM\u001b[0m\u001b[1;33m)\u001b[0m\u001b[1;33m)\u001b[0m\u001b[1;33m\u001b[0m\u001b[1;33m\u001b[0m\u001b[0m\n\u001b[1;32m----> 3\u001b[1;33m \u001b[0mprint\u001b[0m\u001b[1;33m(\u001b[0m\u001b[0mnp\u001b[0m\u001b[1;33m.\u001b[0m\u001b[0mlinalg\u001b[0m\u001b[1;33m.\u001b[0m\u001b[0meigvals\u001b[0m\u001b[1;33m(\u001b[0m\u001b[0mN\u001b[0m\u001b[1;33m)\u001b[0m\u001b[1;33m)\u001b[0m\u001b[1;33m\u001b[0m\u001b[1;33m\u001b[0m\u001b[0m\n\u001b[0m\u001b[0;32m      4\u001b[0m \u001b[1;31m#This yields an error because N is not a square matrix, therefore you can not compute its eigenvalues and eigenvectors\u001b[0m\u001b[1;33m\u001b[0m\u001b[1;33m\u001b[0m\u001b[1;33m\u001b[0m\u001b[0m\n\u001b[0;32m      5\u001b[0m \u001b[0mprint\u001b[0m\u001b[1;33m(\u001b[0m\u001b[0mnp\u001b[0m\u001b[1;33m.\u001b[0m\u001b[0mlinalg\u001b[0m\u001b[1;33m.\u001b[0m\u001b[0meig\u001b[0m\u001b[1;33m(\u001b[0m\u001b[0mP\u001b[0m\u001b[1;33m)\u001b[0m\u001b[1;33m)\u001b[0m\u001b[1;33m\u001b[0m\u001b[1;33m\u001b[0m\u001b[0m\n",
      "\u001b[1;32m~\\Anaconda3\\lib\\site-packages\\numpy\\linalg\\linalg.py\u001b[0m in \u001b[0;36meigvals\u001b[1;34m(a)\u001b[0m\n\u001b[0;32m   1055\u001b[0m     \u001b[0ma\u001b[0m\u001b[1;33m,\u001b[0m \u001b[0mwrap\u001b[0m \u001b[1;33m=\u001b[0m \u001b[0m_makearray\u001b[0m\u001b[1;33m(\u001b[0m\u001b[0ma\u001b[0m\u001b[1;33m)\u001b[0m\u001b[1;33m\u001b[0m\u001b[1;33m\u001b[0m\u001b[0m\n\u001b[0;32m   1056\u001b[0m     \u001b[0m_assertRankAtLeast2\u001b[0m\u001b[1;33m(\u001b[0m\u001b[0ma\u001b[0m\u001b[1;33m)\u001b[0m\u001b[1;33m\u001b[0m\u001b[1;33m\u001b[0m\u001b[0m\n\u001b[1;32m-> 1057\u001b[1;33m     \u001b[0m_assertNdSquareness\u001b[0m\u001b[1;33m(\u001b[0m\u001b[0ma\u001b[0m\u001b[1;33m)\u001b[0m\u001b[1;33m\u001b[0m\u001b[1;33m\u001b[0m\u001b[0m\n\u001b[0m\u001b[0;32m   1058\u001b[0m     \u001b[0m_assertFinite\u001b[0m\u001b[1;33m(\u001b[0m\u001b[0ma\u001b[0m\u001b[1;33m)\u001b[0m\u001b[1;33m\u001b[0m\u001b[1;33m\u001b[0m\u001b[0m\n\u001b[0;32m   1059\u001b[0m     \u001b[0mt\u001b[0m\u001b[1;33m,\u001b[0m \u001b[0mresult_t\u001b[0m \u001b[1;33m=\u001b[0m \u001b[0m_commonType\u001b[0m\u001b[1;33m(\u001b[0m\u001b[0ma\u001b[0m\u001b[1;33m)\u001b[0m\u001b[1;33m\u001b[0m\u001b[1;33m\u001b[0m\u001b[0m\n",
      "\u001b[1;32m~\\Anaconda3\\lib\\site-packages\\numpy\\linalg\\linalg.py\u001b[0m in \u001b[0;36m_assertNdSquareness\u001b[1;34m(*arrays)\u001b[0m\n\u001b[0;32m    211\u001b[0m         \u001b[0mm\u001b[0m\u001b[1;33m,\u001b[0m \u001b[0mn\u001b[0m \u001b[1;33m=\u001b[0m \u001b[0ma\u001b[0m\u001b[1;33m.\u001b[0m\u001b[0mshape\u001b[0m\u001b[1;33m[\u001b[0m\u001b[1;33m-\u001b[0m\u001b[1;36m2\u001b[0m\u001b[1;33m:\u001b[0m\u001b[1;33m]\u001b[0m\u001b[1;33m\u001b[0m\u001b[1;33m\u001b[0m\u001b[0m\n\u001b[0;32m    212\u001b[0m         \u001b[1;32mif\u001b[0m \u001b[0mm\u001b[0m \u001b[1;33m!=\u001b[0m \u001b[0mn\u001b[0m\u001b[1;33m:\u001b[0m\u001b[1;33m\u001b[0m\u001b[1;33m\u001b[0m\u001b[0m\n\u001b[1;32m--> 213\u001b[1;33m             \u001b[1;32mraise\u001b[0m \u001b[0mLinAlgError\u001b[0m\u001b[1;33m(\u001b[0m\u001b[1;34m'Last 2 dimensions of the array must be square'\u001b[0m\u001b[1;33m)\u001b[0m\u001b[1;33m\u001b[0m\u001b[1;33m\u001b[0m\u001b[0m\n\u001b[0m\u001b[0;32m    214\u001b[0m \u001b[1;33m\u001b[0m\u001b[0m\n\u001b[0;32m    215\u001b[0m \u001b[1;32mdef\u001b[0m \u001b[0m_assertFinite\u001b[0m\u001b[1;33m(\u001b[0m\u001b[1;33m*\u001b[0m\u001b[0marrays\u001b[0m\u001b[1;33m)\u001b[0m\u001b[1;33m:\u001b[0m\u001b[1;33m\u001b[0m\u001b[1;33m\u001b[0m\u001b[0m\n",
      "\u001b[1;31mLinAlgError\u001b[0m: Last 2 dimensions of the array must be square"
     ]
    }
   ],
   "source": [
    "##Answer to question 1.1.2e\n",
    "print(np.linalg.eig(M))\n",
    "print(np.linalg.eigvals(N))\n",
    "print(np.linalg.eig(P))"
   ]
  },
  {
   "cell_type": "markdown",
   "metadata": {},
   "source": [
    "This yields an error because N is not a square matrix, therefore you can not compute its eigenvalues and eigenvectors"
   ]
  },
  {
   "cell_type": "markdown",
   "metadata": {},
   "source": [
    "# Intermezzo: proper scientific plotting practices \n",
    "\n",
    "**In this course and many others** you will be asked to make a lot of plots. If you've ever read an academic paper, you'll have noticed that besides axis labels, titles and legends, these also contain a figure description *for each plot*. The idea is that you can 'read' a figure without skimming through the text for the explanation. So these figure descriptions should contain\n",
    "\n",
    "1. A description in natural language explaining what we're looking at,\n",
    "2. references to the axis labels if these are not clear immediately, and\n",
    "3. provide a short answer to the question that it belongs to. \n",
    "\n",
    "### Examples:"
   ]
  },
  {
   "cell_type": "code",
   "execution_count": 40,
   "metadata": {},
   "outputs": [
    {
     "data": {
      "image/png": "[encoded data removed]",
      "text/plain": [
       "<Figure size 432x288 with 1 Axes>"
      ]
     },
     "metadata": {
      "needs_background": "light"
     },
     "output_type": "display_data"
    },
    {
     "name": "stdout",
     "output_type": "stream",
     "text": [
      "Figure 1: an example of a simple plot. X axis shows the index of each element, the Y axis shows increasing numbers.\n"
     ]
    },
    {
     "data": {
      "image/png": "[encoded data removed]",
      "text/plain": [
       "<Figure size 432x288 with 1 Axes>"
      ]
     },
     "metadata": {
      "needs_background": "light"
     },
     "output_type": "display_data"
    },
    {
     "name": "stdout",
     "output_type": "stream",
     "text": [
      "Figure 2: an example of a slightly more complex plot, where we explicitely set the values on the X axis. X axis shows the index of each element, the Y axis shows increasing numbers.\n"
     ]
    },
    {
     "data": {
      "image/png": "[encoded data removed]",
      "text/plain": [
       "<Figure size 576x576 with 6 Axes>"
      ]
     },
     "metadata": {},
     "output_type": "display_data"
    },
    {
     "name": "stdout",
     "output_type": "stream",
     "text": [
      "Figure 3: an example of a complex plot, which showcases some neat pretty stuff that matplotlib can do! Seaborn is a library that you can use to make your plots look nicer. Subplots are used to create multiple plots within the same figure. First I plotted some random black dots, and then I used the bar functions to plot the same information but more complicated. imshow can be used to plot your array as an image for easy inspection. Here, I created an image of blobs using random numbers and a gaussian blur filter. Histograms are nice for checking distributions, for instance, the distribution of gray values in an image containing blobs!\n"
     ]
    },
    {
     "name": "stderr",
     "output_type": "stream",
     "text": [
      "C:\\Users\\kirst\\Anaconda3\\lib\\_collections_abc.py:841: MatplotlibDeprecationWarning: \n",
      "The examples.directory rcparam was deprecated in Matplotlib 3.0 and will be removed in 3.2. In the future, examples will be found relative to the 'datapath' directory.\n",
      "  self[key] = other[key]\n",
      "C:\\Users\\kirst\\Anaconda3\\lib\\_collections_abc.py:841: MatplotlibDeprecationWarning: \n",
      "The savefig.frameon rcparam was deprecated in Matplotlib 3.1 and will be removed in 3.3.\n",
      "  self[key] = other[key]\n",
      "C:\\Users\\kirst\\Anaconda3\\lib\\_collections_abc.py:841: MatplotlibDeprecationWarning: \n",
      "The text.latex.unicode rcparam was deprecated in Matplotlib 3.0 and will be removed in 3.2.\n",
      "  self[key] = other[key]\n",
      "C:\\Users\\kirst\\Anaconda3\\lib\\_collections_abc.py:841: MatplotlibDeprecationWarning: \n",
      "The verbose.fileo rcparam was deprecated in Matplotlib 3.1 and will be removed in 3.3.\n",
      "  self[key] = other[key]\n",
      "C:\\Users\\kirst\\Anaconda3\\lib\\_collections_abc.py:841: MatplotlibDeprecationWarning: \n",
      "The verbose.level rcparam was deprecated in Matplotlib 3.1 and will be removed in 3.3.\n",
      "  self[key] = other[key]\n"
     ]
    }
   ],
   "source": [
    "import matplotlib.pyplot as plt\n",
    "import numpy as np\n",
    "numbers = np.arange(100,1001,100)\n",
    "\n",
    "# Simple plot\n",
    "\n",
    "plt.plot(numbers)\n",
    "plt.xlabel('x axis')\n",
    "plt.ylabel('y axis')\n",
    "plt.title('Numbers')\n",
    "plt.show()\n",
    "print('Figure 1: an example of a simple plot. X axis shows the index of each element, the Y axis shows increasing numbers.')\n",
    "\n",
    "# a little more complex plot\n",
    "\n",
    "indices = np.arange(5,15)\n",
    "plt.scatter(indices,numbers)\n",
    "plt.xlabel('x axis')\n",
    "plt.ylabel('y axis')\n",
    "plt.title('Numbers')\n",
    "plt.show()\n",
    "print('Figure 2: an example of a slightly more complex plot, where we explicitely set the values on the X axis. X axis shows the index of each element, the Y axis shows increasing numbers.')\n",
    "\n",
    "\n",
    "# an incredibly unnecessary complex plot\n",
    "import seaborn as sns # nicer graphics\n",
    "sns.set_style('darkgrid')\n",
    "\n",
    "fig,ax = plt.subplots(3,2,figsize=(8,8)) # create 3 rows of 2 columns of subplots\n",
    "ax = ax.ravel()\n",
    "\n",
    "x = np.random.normal(0.1, 1,10) #10 numbers with a mean of 0.1 and a sigma of 1\n",
    "y = np.random.normal(1, 0.1,10) #10 numbers with a mean of 1 and a sigma of 0.1\n",
    "\n",
    "ax[0].plot(x,y,'k.') # k means black and . means it should plot dots. Similarly, 'r-' results in a red line and \n",
    "                    # 'b--' would result in a blue checkered line.\n",
    "ax[0].set_title('Random black dots using x and y as coords')\n",
    "ax[0].set_ylabel('Row 0 of subplots')\n",
    "ax[1].bar(range(0,10),x,color='orange') #the first argument tells plt where to place the bars, so range(0,10) just puts them on 0,..,9\n",
    "ax[1].set_title('Vertical bars of x values')\n",
    "\n",
    "ax[2].barh(range(0,10),y,color='darkblue')\n",
    "ax[2].set_title('Horizontal bars of y values')\n",
    "ax[2].set_ylabel('Row 1 of subplots')\n",
    "from scipy import ndimage \n",
    "\n",
    "im = np.zeros((28, 28)) # creates an 28x28 array of zeros\n",
    "points = 28 * np.random.random((2, 3 ** 2)) # creates 28 random (x,y) pairs that we will use as indices\n",
    "im[(points[0]).astype(np.int), (points[1]).astype(np.int)] = 1 # sets the value at those indices to 1\n",
    "im = ndimage.gaussian_filter(im, sigma=28 / (4. * 3)) # puts the array through an image filter that \n",
    "                                                        # blurs the 0's and 1's together\n",
    "blobs = (im > im.mean())*255 # seperates them back into 0's and 1's after blurring \n",
    "\n",
    "ax[3].imshow(blobs,cmap='gray') # plots the array as an image, where each pixel corresponds to a 0 or 1 in our array\n",
    "ax[3].set_title('Blobs in black and white')\n",
    "\n",
    "ax[4].hist(im.ravel(), bins=12,color='green',rwidth=0.9) # plot the gray values from the array in a histogram with 12 bins\n",
    "ax[4].set_title('Distribution of grayvalues')\n",
    "ax[4].set_ylabel('Row 2 of subplots')\n",
    "ax[4].set_xlabel('Column 0 of subplots')\n",
    "ax[5].hist(im.ravel(),bins=12, cumulative=True, color='orange',rwidth=0.9,alpha=0.8,label='summed') # plot a see through \n",
    "                                                                                # cumulative histogram with alpha\n",
    "ax[5].hist(im.ravel(), bins=12,color='green',rwidth=0.9,alpha=0.7,label='values') # plot the gray values from the array in a histogram with 12 bins\n",
    "ax[5].set_title('(Cumulative) Distribution of grayvalues')\n",
    "ax[5].legend()\n",
    "ax[5].set_xlabel('Column 1 of subplots')\n",
    "plt.tight_layout() # makes sure everything fits without overlapping -- try running this cell without this to see the effect\n",
    "\n",
    "plt.show()\n",
    "\n",
    "print('Figure 3: an example of a complex plot, which showcases some neat pretty stuff that matplotlib can do! Seaborn is a library that you can use to make your plots look nicer. Subplots are used to create multiple plots within the same figure. First I plotted some random black dots, and then I used the bar functions to plot the same information but more complicated. imshow can be used to plot your array as an image for easy inspection. Here, I created an image of blobs using random numbers and a gaussian blur filter. Histograms are nice for checking distributions, for instance, the distribution of gray values in an image containing blobs!')\n",
    "sns.reset_orig()"
   ]
  },
  {
   "cell_type": "markdown",
   "metadata": {},
   "source": [
    "## 1.2 Principal Component Analysis\n",
    "\n",
    "**1.2.1** many experimenters have a habit of using Microsoft Excel as their tool to record measurements from experiments. Fortunately Python can read Excel files. Various methods exist, of which the use of the Python library Pandas is arguably one of the easiest for the purpose of Data Mining.\n",
    "\n",
    "The data used in this exercise is based on data from a chemical sensor obtained from the NanoNose project[1]. The data contains 8 sensors, named by the letters A-H, measuring the concentration of Water, Ethanol, Acetone, Heptane and Pentanol injected into a small gas chamber. The data will be represented in matrix form such that each column contains the 8 sensor measurements (i.e., sensor A-H) of the various compounds injected into the gas chamber.\n",
    "> a. (0.2 points) Inspect the nanonose.xls file in the Data folder and make sure you understand how the data is stored in Excel.\n",
    "\n",
    "> *Load the data in python using the Pandas library (use the `read_excel()` function). Make sure you read some of the Pandas documentation! Especially (column) slicing, (row) indexing and dropping are useful commands to get the correct data here.*\n",
    "\n",
    "> *Make sure to inspect the data first. **You should cut out some rows and columns! You can easily inspect the structure of the Pandas dataframe by printing the `head()` function.***\n",
    "\n",
    "> *You should see the 8 columns named A-H and the first 5 rows by printing `head()`.*\n",
    "\n",
    "> *Finally use the `.values` function to cast the Pandas dataframe to a NumPy array called **X**. *"
   ]
  },
  {
   "cell_type": "code",
   "execution_count": 41,
   "metadata": {},
   "outputs": [
    {
     "name": "stdout",
     "output_type": "stream",
     "text": [
      "      A     B    C          D          E          F         G         H\n",
      "0  95.5  21.0  6.0  11.942308  64.134615  21.498560  5.567840  1.174135\n",
      "1  94.5  17.0  5.0   5.484615  63.205769  19.658560  4.968000  1.883444\n",
      "2  92.0  16.0  3.0  11.057692  62.586538  19.813120  5.192480  0.564835\n",
      "3  53.0   7.5  2.5   3.538462  35.163462   6.876207  1.641724  0.144654\n",
      "4  51.0   7.5  2.5   4.865385  34.057692   6.757241  1.613966  0.059663\n",
      "[[ 9.55000000e+01  2.10000000e+01  6.00000000e+00  1.19423077e+01\n",
      "   6.41346154e+01  2.14985600e+01  5.56784000e+00  1.17413500e+00]\n",
      " [ 9.45000000e+01  1.70000000e+01  5.00000000e+00  5.48461538e+00\n",
      "   6.32057692e+01  1.96585600e+01  4.96800000e+00  1.88344390e+00]\n",
      " [ 9.20000000e+01  1.60000000e+01  3.00000000e+00  1.10576923e+01\n",
      "   6.25865385e+01  1.98131200e+01  5.19248000e+00  5.64834677e-01]\n",
      " [ 5.30000000e+01  7.50000000e+00  2.50000000e+00  3.53846154e+00\n",
      "   3.51634615e+01  6.87620690e+00  1.64172414e+00  1.44654088e-01]\n",
      " [ 5.10000000e+01  7.50000000e+00  2.50000000e+00  4.86538462e+00\n",
      "   3.40576923e+01  6.75724138e+00  1.61396552e+00  5.96627756e-02]\n",
      " [ 5.00000000e+01  8.00000000e+00  2.50000000e+00  3.98076923e+00\n",
      "   3.36153846e+01  6.77310345e+00  1.77655172e+00  7.55088641e-02]\n",
      " [ 2.75000000e+01  4.00000000e+00  1.50000000e+00  2.20000000e+00\n",
      "   1.83557692e+01  2.79833333e+00  5.63500000e-01  3.03830911e-02]\n",
      " [ 2.75000000e+01  4.50000000e+00  1.50000000e+00  2.20000000e+00\n",
      "   1.72500000e+01  2.62966667e+00  8.54833333e-01  0.00000000e+00]\n",
      " [ 2.70000000e+01  4.00000000e+00  1.50000000e+00  3.10000000e+00\n",
      "   1.74711538e+01  2.64500000e+00  6.24833333e-01  0.00000000e+00]\n",
      " [ 1.35000000e+01  1.50000000e+00  0.00000000e+00  1.76923077e+00\n",
      "   9.73076923e+00  1.11406250e+00  4.95937500e-01  0.00000000e+00]\n",
      " [ 1.30000000e+01  2.00000000e+00  5.00000000e-01  2.65384615e+00\n",
      "   1.06153846e+01  1.07812500e+00  4.52812500e-01  0.00000000e+00]\n",
      " [ 1.32500000e+01  2.50000000e+00  2.50000000e-01  2.65384615e+00\n",
      "   8.84615385e+00  4.24062500e-01  1.15000000e-01  0.00000000e+00]\n",
      " [ 4.50000000e+00  8.00000000e-01  0.00000000e+00  4.42307692e-01\n",
      "   2.43269231e+00  6.51666667e-01  5.29000000e-01  0.00000000e+00]\n",
      " [ 4.00000000e+00  8.00000000e-01  0.00000000e+00  8.84615385e-01\n",
      "   3.67115385e+00  4.06333333e-01  3.48833333e-01  0.00000000e+00]\n",
      " [ 3.70000000e+00  5.00000000e-01  0.00000000e+00  1.32692308e+00\n",
      "   3.75961538e+00  3.29666667e-01  2.53000000e-01  0.00000000e+00]\n",
      " [ 1.50000000e+00  0.00000000e+00  0.00000000e+00  0.00000000e+00\n",
      "   1.10769231e+00  1.32324324e-01  1.44000000e-01  0.00000000e+00]\n",
      " [ 1.50000000e+00  0.00000000e+00  0.00000000e+00  0.00000000e+00\n",
      "   1.32923077e+00 -6.22702703e-02  5.44864865e-02  0.00000000e+00]\n",
      " [ 1.50000000e+00  0.00000000e+00  0.00000000e+00  0.00000000e+00\n",
      "   1.50646154e+00  3.50270270e-01  5.48756757e-01  0.00000000e+00]\n",
      " [ 2.30000000e+01  5.10000000e+01  2.50000000e+01  9.60000000e+01\n",
      "   1.42500000e+02  6.95290909e+01  3.89518182e+01  3.54265994e+01]\n",
      " [ 2.35000000e+01  6.10000000e+01  3.02000000e+01  1.29000000e+02\n",
      "   1.42000000e+02  6.55581818e+01  3.92827273e+01  3.54823433e+01]\n",
      " [ 2.20000000e+01  6.35000000e+01  3.05000000e+01  1.49000000e+02\n",
      "   1.40500000e+02  6.43109091e+01  3.94481818e+01  3.61791677e+01]\n",
      " [ 1.25000000e+01  5.05000000e+01  2.00000000e+01  6.00000000e+01\n",
      "   9.45000000e+01  3.01714286e+01  3.17280000e+01  1.82377383e+01]\n",
      " [ 1.25000000e+01  5.10000000e+01  2.05000000e+01  5.20000000e+01\n",
      "   9.35000000e+01  3.05142857e+01  3.14811429e+01  1.82481333e+01]\n",
      " [ 1.20000000e+01  5.00000000e+01  1.80000000e+01  5.00000000e+01\n",
      "   8.95000000e+01  2.82788571e+01  3.08777143e+01  1.82688110e+01]\n",
      " [ 6.00000000e+00  3.35000000e+01  1.25000000e+01  2.60000000e+01\n",
      "   6.55000000e+01  1.37585455e+01  2.19796364e+01  9.99343139e+00]\n",
      " [ 6.00000000e+00  3.20000000e+01  1.15000000e+01  2.80000000e+01\n",
      "   6.30000000e+01  1.40334545e+01  2.22152727e+01  1.03029457e+01]\n",
      " [ 7.50000000e+00  3.15000000e+01  1.15000000e+01  2.50000000e+01\n",
      "   6.10000000e+01  1.41381818e+01  2.18029091e+01  9.64016736e+00]\n",
      " [ 5.00000000e+00  2.35000000e+01  8.20000000e+00  1.06875000e+01\n",
      "   3.79687500e+01  5.95862069e+00  1.49275862e+01  5.55704698e+00]\n",
      " [ 5.50000000e+00  2.40000000e+01  9.00000000e+00  1.06875000e+01\n",
      "   3.76875000e+01  6.20689655e+00  1.45986207e+01  4.58681948e+00]\n",
      " [ 5.25000000e+00  2.37500000e+01  8.60000000e+00  1.06875000e+01\n",
      "   3.85312500e+01  5.46206897e+00  1.38289655e+01  5.16295105e+00]\n",
      " [ 5.00000000e-01  1.18000000e+01  3.50000000e+00  3.37500000e+00\n",
      "   2.27812500e+01  2.76000000e+00  1.01200000e+01  3.28943338e+00]\n",
      " [ 1.00000000e+00  1.23000000e+01  3.30000000e+00  3.37500000e+00\n",
      "   2.30625000e+01  2.54666667e+00  9.94000000e+00  3.35397758e+00]\n",
      " [ 1.00000000e+00  1.14000000e+01  3.50000000e+00  3.15000000e+00\n",
      "   2.27812500e+01  2.64000000e+00  9.89333333e+00  3.35946991e+00]\n",
      " [ 0.00000000e+00  5.50000000e+00  1.50000000e+00  1.68750000e+00\n",
      "   1.20937500e+01  9.39705882e-01  5.74411765e+00  1.73898305e+00]\n",
      " [ 0.00000000e+00  5.70000000e+00  1.50000000e+00  1.68750000e+00\n",
      "   1.23750000e+01  1.46911765e+00  5.85661765e+00  1.52228571e+00]\n",
      " [ 0.00000000e+00  5.50000000e+00  1.80000000e+00  2.25000000e+00\n",
      "   1.26562500e+01  1.20441176e+00  5.69779412e+00  1.91061453e+00]\n",
      " [ 1.55000000e+01  8.45000000e+01  4.25000000e+01  2.35529412e+02\n",
      "   1.22903529e+02  7.43288000e+01  5.51096000e+01  2.01329560e+02]\n",
      " [ 1.40000000e+01  1.10000000e+02  4.40000000e+01  1.90992941e+02\n",
      "   1.17764706e+02  7.05016000e+01  5.39032000e+01  2.07830304e+02]\n",
      " [ 1.60000000e+01  1.28000000e+02  5.10000000e+01  1.41317647e+02\n",
      "   1.10484706e+02  6.96800000e+01  5.41008000e+01  2.06679063e+02]\n",
      " [ 6.00000000e+00  9.10000000e+01  3.30000000e+01  8.94348894e+01\n",
      "   7.78083538e+01  3.17998841e+01  4.07785507e+01  8.86087950e+01]\n",
      " [ 7.00000000e+00  8.75000000e+01  3.00000000e+01  1.14476658e+02\n",
      "   7.82555283e+01  3.15466667e+01  4.04778551e+01  9.00221851e+01]\n",
      " [ 7.00000000e+00  8.00000000e+01  3.00000000e+01  1.16265356e+02\n",
      "   7.19950860e+01  3.14517101e+01  4.03987246e+01  9.02717403e+01]\n",
      " [ 3.00000000e+00  6.80000000e+01  2.10000000e+01  6.66082474e+01\n",
      "   5.30051546e+01  1.48127778e+01  2.92817778e+01  4.43312154e+01]\n",
      " [ 3.00000000e+00  6.30000000e+01  2.00000000e+01  8.34948454e+01\n",
      "   5.91030928e+01  1.53790000e+01  2.95648889e+01  4.38936765e+01]\n",
      " [ 4.00000000e+00  6.40000000e+01  2.00000000e+01  8.53711340e+01\n",
      "   5.58195876e+01  1.55610000e+01  2.91756111e+01  4.41229878e+01]\n",
      " [ 2.00000000e+00  4.90000000e+01  1.30000000e+01  3.60849057e+01\n",
      "   3.34787736e+01  6.04340659e+00  1.73082418e+01  2.03275632e+01]\n",
      " [ 1.75000000e+00  5.15000000e+01  1.55000000e+01  3.60849057e+01\n",
      "   3.40801887e+01  6.07142857e+00  1.75184066e+01  1.88967704e+01]\n",
      " [ 1.50000000e+00  4.75000000e+01  1.30000000e+01  3.60849057e+01\n",
      "   3.35790094e+01  5.90329670e+00  1.72428571e+01  1.79529975e+01]\n",
      " [ 0.00000000e+00  2.90000000e+01  8.00000000e+00  1.66666667e+01\n",
      "   1.72916667e+01  2.29302326e+00  1.19691860e+01  9.60524120e+00]\n",
      " [ 1.00000000e+00  2.70000000e+01  8.00000000e+00  2.33333333e+01\n",
      "   1.79166667e+01  2.42151163e+00  1.18505814e+01  8.66533519e+00]\n",
      " [ 1.00000000e+00  2.60000000e+01  8.00000000e+00  1.50000000e+01\n",
      "   1.72916667e+01  2.52034884e+00  1.18851744e+01  8.94417692e+00]\n",
      " [ 0.00000000e+00  1.40000000e+01  4.00000000e+00  8.67346939e+00\n",
      "   7.80612245e+00  6.02906977e-01  6.45406977e+00  3.93205638e+00]\n",
      " [ 0.00000000e+00  1.30000000e+01  4.00000000e+00  8.67346939e+00\n",
      "   8.23979592e+00  8.00581395e-01  6.94331395e+00  3.79741065e+00]\n",
      " [ 0.00000000e+00  1.40000000e+01  4.00000000e+00  8.67346939e+00\n",
      "   7.37244898e+00  1.06744186e+00  6.57267442e+00  4.20084930e+00]\n",
      " [ 8.50000000e+00  8.50000000e+00  1.25000000e+01  1.60000000e+01\n",
      "   1.50000000e+00  8.66047826e+00  1.47866087e+01  1.00545957e+02]\n",
      " [ 8.50000000e+00  8.50000000e+00  1.25000000e+01  1.32500000e+01\n",
      "   2.00000000e+00  7.15734783e+00  1.34757391e+01  8.65678464e+01]\n",
      " [ 3.00000000e+00  4.00000000e+00  1.30000000e+01  1.05000000e+01\n",
      "   2.00000000e+00  7.92639130e+00  1.32616304e+01  1.15995926e+02]\n",
      " [ 2.50000000e+00  5.50000000e+00  9.50000000e+00  8.00000000e+00\n",
      "   1.50000000e+00  3.80193396e+00  7.34313679e+00  1.19542105e+01]\n",
      " [ 1.00000000e+00 -5.00000000e-01  8.00000000e+00  7.00000000e+00\n",
      "   1.25000000e+00  3.53646226e+00  7.10610849e+00  1.25681188e+01]\n",
      " [ 2.50000000e+00  5.00000000e-01  9.50000000e+00  1.00000000e+01\n",
      "   1.25000000e+00  3.63127358e+00  7.06344340e+00  1.18384824e+01]\n",
      " [ 5.00000000e-01  5.00000000e-01  5.50000000e+00  7.00000000e+00\n",
      "   1.75000000e+00  1.46181818e+00  3.39415909e+00  1.74192666e+00]\n",
      " [ 7.50000000e-01  1.25000000e+00  5.75000000e+00  7.00000000e+00\n",
      "   1.50000000e+00  1.86381818e+00  4.06568182e+00  2.80991285e+00]\n",
      " [ 1.50000000e+00  1.50000000e+00  6.00000000e+00  7.00000000e+00\n",
      "   1.75000000e+00  1.71763636e+00  3.85554545e+00  3.02606676e+00]\n",
      " [ 1.00000000e+00  5.00000000e-01  4.00000000e+00  3.00000000e+00\n",
      "   1.00000000e+00  5.23333333e-01  1.73746667e+00  1.41000000e+00]\n",
      " [ 1.50000000e+00  1.00000000e+00  4.50000000e+00  3.00000000e+00\n",
      "   1.00000000e+00  5.58222222e-01  1.61884444e+00  1.48000000e+00]\n",
      " [ 1.00000000e+00  0.00000000e+00  3.80000000e+00  2.00000000e+00\n",
      "   1.00000000e+00  4.53555556e-01  1.72351111e+00  1.30000000e+00]\n",
      " [ 5.00000000e-01  0.00000000e+00  2.00000000e+00  0.00000000e+00\n",
      "   5.00000000e-01  8.79538905e-02  8.53152738e-01  6.50000000e-01]\n",
      " [ 5.00000000e-01  0.00000000e+00  2.00000000e+00  0.00000000e+00\n",
      "   5.00000000e-01  1.58317003e-01  9.14720461e-01  5.50000000e-01]\n",
      " [ 5.00000000e-01  0.00000000e+00  2.00000000e+00  0.00000000e+00\n",
      "   0.00000000e+00  2.81452450e-01  1.02906052e+00  6.90000000e-01]\n",
      " [ 0.00000000e+00  0.00000000e+00  5.00000000e-01  0.00000000e+00\n",
      "   0.00000000e+00  1.04666667e-01  8.02444444e-02  3.00000000e-01]\n",
      " [ 0.00000000e+00  0.00000000e+00  1.00000000e+00  0.00000000e+00\n",
      "   0.00000000e+00  1.53511111e-01  3.62844444e-01  3.30000000e-01]\n",
      " [ 0.00000000e+00  0.00000000e+00  1.50000000e+00  0.00000000e+00\n",
      "   0.00000000e+00  6.97777778e-02  3.66333333e-01  2.80000000e-01]\n",
      " [ 3.20000000e+00  1.60000000e+01  2.05000000e+01 -3.00000000e+00\n",
      "   9.75000000e+00  6.79430769e+01  3.66046154e+01  3.31470588e+01]\n",
      " [ 2.70000000e+00  1.65000000e+01  2.02000000e+01 -3.00000000e+00\n",
      "   7.00000000e+00  6.22676923e+01  2.94376923e+01  3.03388430e+01]\n",
      " [ 2.20000000e+00  1.44000000e+01  2.04000000e+01 -3.00000000e+00\n",
      "   6.62500000e+00  6.20523077e+01  2.94484615e+01  2.51009036e+01]\n",
      " [ 1.85000000e+00  6.05000000e+00  1.45000000e+01 -1.50000000e+00\n",
      "   3.12500000e+00  4.50240000e+01  3.80352000e+01  5.43598055e+00]\n",
      " [ 1.30000000e+00  6.20000000e+00  1.42000000e+01 -1.50000000e+00\n",
      "   3.12500000e+00  4.42176000e+01  3.77280000e+01  6.05000000e+00]\n",
      " [ 2.00000000e+00  6.00000000e+00  1.37000000e+01 -1.50000000e+00\n",
      "   3.25000000e+00  4.42176000e+01  3.79392000e+01  6.27411168e+00]\n",
      " [ 1.10000000e+00  3.45000000e+00  9.80000000e+00 -7.50000000e-01\n",
      "   1.75000000e+00  2.08360417e+01  2.99665625e+01  0.00000000e+00]\n",
      " [ 8.00000000e-01  3.40000000e+00  9.30000000e+00 -1.00000000e+00\n",
      "   1.75000000e+00  2.14797917e+01  3.09429167e+01  0.00000000e+00]\n",
      " [ 7.00000000e-01  3.85000000e+00  9.60000000e+00 -1.00000000e+00\n",
      "   1.87500000e+00  2.18875000e+01  3.00953125e+01  0.00000000e+00]\n",
      " [ 4.16000000e-01  7.90400000e+00  1.85120000e+01 -5.00000000e-01\n",
      "   2.65000000e+00  2.88926444e+01  4.15536333e+01  2.08714777e+00]\n",
      " [ 4.16000000e-01  5.61600000e+00  1.58080000e+01 -5.00000000e-01\n",
      "   1.62500000e+00  2.97853111e+01  4.29075111e+01  4.61773463e+00]\n",
      " [ 4.16000000e-01  5.40800000e+00  1.49760000e+01 -5.00000000e-01\n",
      "   2.30000000e+00  3.03506667e+01  4.17321667e+01  1.76707965e+00]\n",
      " [ 1.92000000e-01  1.72800000e+00  8.64000000e+00 -2.50000000e-01\n",
      "   1.30000000e+00  5.78560000e+00  1.42144000e+01  0.00000000e+00]\n",
      " [ 1.92000000e-01  3.07200000e+00  9.12000000e+00 -2.50000000e-01\n",
      "   1.30000000e+00  4.78720000e+00  1.12192000e+01  0.00000000e+00]\n",
      " [ 1.92000000e-01  2.49600000e+00  8.73600000e+00 -2.50000000e-01\n",
      "   1.12500000e+00  5.06880000e+00  1.20448000e+01  0.00000000e+00]\n",
      " [ 0.00000000e+00  1.28750000e+00  5.57916667e+00  0.00000000e+00\n",
      "   6.50000000e-01  1.84541667e+00  6.69500000e+00  0.00000000e+00]\n",
      " [ 0.00000000e+00  1.07291667e+00  4.93541667e+00  0.00000000e+00\n",
      "   8.00000000e-01  2.28888889e+00  7.02402778e+00  0.00000000e+00]\n",
      " [ 0.00000000e+00  1.71666667e+00  6.43750000e+00  0.00000000e+00\n",
      "   8.00000000e-01  1.94555556e+00  7.06694444e+00  0.00000000e+00]]\n"
     ]
    }
   ],
   "source": [
    "import pandas as pd\n",
    "\n",
    "data = pd.read_excel('Data/nanonose.xls', usecols=[3,4,5,6,7,8,9,10], skiprows=[1])\n",
    "print(data.head())\n",
    "X = data.values\n",
    "print(X)"
   ]
  },
  {
   "cell_type": "markdown",
   "metadata": {},
   "source": [
    "> b. (0.3 points) The data resides in what can be seen as an 8-dimensional space. Each dimension (column), corresponds to one of the 8 NanoNose sensors. Multidimensional (>3) data is hard to visualize, as we are unable to plot that many dimensions simultaneously.\n",
    "\n",
    "> Using the `matplotlib.pyplot` library, plot the attributes A and B against each other. After you have plotted A against B, also plot a few other combinations of attributes. Plot at least 4 different combinations. \n",
    "\n",
    "> *Do not forget to label your axes and add a figure description!*\n",
    "\n",
    "> NOTE: If you want to plot inside the Jupyter notebook without calling `plt.show()` after each plot, use the following command after you imported the `matplotlib.pyplot` library: \n",
    "*%matplotlib inline* "
   ]
  },
  {
   "cell_type": "code",
   "execution_count": 42,
   "metadata": {},
   "outputs": [
    {
     "data": {
      "image/png": "[encoded data removed]",
      "text/plain": [
       "<Figure size 432x288 with 1 Axes>"
      ]
     },
     "metadata": {
      "needs_background": "light"
     },
     "output_type": "display_data"
    },
    {
     "data": {
      "image/png": "[encoded data removed]",
      "text/plain": [
       "<Figure size 432x288 with 1 Axes>"
      ]
     },
     "metadata": {
      "needs_background": "light"
     },
     "output_type": "display_data"
    },
    {
     "data": {
      "image/png": "[encoded data removed]",
      "text/plain": [
       "<Figure size 432x288 with 1 Axes>"
      ]
     },
     "metadata": {
      "needs_background": "light"
     },
     "output_type": "display_data"
    },
    {
     "data": {
      "image/png": "[encoded data removed]",
      "text/plain": [
       "<Figure size 432x288 with 1 Axes>"
      ]
     },
     "metadata": {
      "needs_background": "light"
     },
     "output_type": "display_data"
    },
    {
     "data": {
      "image/png": "[encoded data removed]",
      "text/plain": [
       "<Figure size 432x288 with 1 Axes>"
      ]
     },
     "metadata": {
      "needs_background": "light"
     },
     "output_type": "display_data"
    }
   ],
   "source": [
    "plt.scatter(X[0],X[1])\n",
    "plt.xlabel('A')\n",
    "plt.ylabel('B')\n",
    "plt.title('Figure 1: Sensor readings from A plotted against sensor readings from B')\n",
    "plt.show()\n",
    "plt.scatter(X[0],X[2])\n",
    "plt.xlabel('A')\n",
    "plt.ylabel('C')\n",
    "plt.title('Figure 1: Sensor readings from A plotted against sensor readings from C')\n",
    "plt.show()\n",
    "plt.scatter(X[2],X[3])\n",
    "plt.xlabel('C')\n",
    "plt.ylabel('D')\n",
    "plt.title('Figure 1: Sensor readings from C plotted against sensor readings from D')\n",
    "plt.show()\n",
    "plt.scatter(X[0],X[5])\n",
    "plt.xlabel('A')\n",
    "plt.ylabel('F')\n",
    "plt.title('Figure 1: Sensor readings from A plotted against sensor readings from F')\n",
    "plt.show()\n",
    "plt.scatter(X[4],X[3])\n",
    "plt.xlabel('E')\n",
    "plt.ylabel('D')\n",
    "plt.title('Figure 1: Sensor readings from E plotted against sensor readings from D')\n",
    "plt.show()"
   ]
  },
  {
   "cell_type": "markdown",
   "metadata": {},
   "source": [
    "\n",
    "1.2.2 Principal Component Analysis, more commonly known as PCA, can be used to visualize high dimensional data. \n",
    "\n",
    "> a. (1 point) Explain what PCA is and when it can be used. Make sure to provide an in-depth explanation and note what the drawbacks and limitations are."
   ]
  },
  {
   "cell_type": "markdown",
   "metadata": {},
   "source": [
    "--------\n",
    "\n",
    "Principal component analysis (PCA) is a technique used to find linear correlations between variables within complex datasets. It uses an orthogonal transformation to convert the variables into a set of values of linearly uncorrelated variables called principal components (PC). PCA is a technique of dimension reduction, and is therefore used on datasets with a large number of variables to make it more manageable.\n",
    "\n",
    "How:\n",
    "1. Subtract the mean of each variable from the to center the data around the origin\n",
    "2. Compute the covariance matrix\n",
    "3. Calculate the eigenvalues and corresponding eigenvectors of this covariance matrix\n",
    "4. Normalize each orthogonal eigenvectors to become unit vectors\n",
    "5. Interpret each unit as an axis of the ellipsoid fitted to the data\n",
    "To calculate the variance that each eigenvector represents divide the eigenvalue corresponding to that eigenvector by the sum of all eigenvalues.\n",
    "\n",
    "Alternatively, one could apply SVD on mean-cantered data in stead of EVD.\n",
    "\n",
    "Limitations:\n",
    "- Depends on the scaling of the variables\n",
    "- Only captures linear correlations\n",
    "- Information loss in the dimensional reduction\n",
    "Lastly, the mean-removal process before constructing the covariance matrix for PCA can cause troubles within some areas of study, such as in astrophysics. \n",
    "\n",
    "-------"
   ]
  },
  {
   "cell_type": "markdown",
   "metadata": {},
   "source": [
    "To apply PCA we must first mean center the data. Mean centering means that the mean value for an attribute (i.e. a column) is subtracted from all values for that attribute. \n",
    "\n",
    "> b. (0.5 points) Why do we first need to mean center the data before applying PCA?"
   ]
  },
  {
   "cell_type": "markdown",
   "metadata": {},
   "source": [
    "------\n",
    "The purpose of entering data is to remove undesirable fluctuations. It is done to ensure that the first principal component describes the direction of maximum variance. \n",
    "\n",
    "-------------"
   ]
  },
  {
   "cell_type": "markdown",
   "metadata": {},
   "source": [
    "In practice, applying PCA comes down to a series of matrix operations, this is useful, as matrix operations can be applied with little effort and can be computed in relatively little time.\n",
    "\n",
    "The given data **X** must first be mean centered. This can be easily done by calculating a row vector **μ** containing the mean values of each attribute. Then you can subtract **μ** from **X** (**Y** = **X** - **μ**, where **μ** is subtracted from every row.).\n",
    "\n",
    "Then, the Singular Value Decomposition (or SVD) of **Y**, the now mean centered data, can be calculated. **Y** = **USV**<sup>T</sup>. In practice, this is often done using the `numpy.linalg.svd()` function.\n",
    "\n",
    "Using SVD on **Y** yields 3 matrices **U**, **S** and **V**<sup>T</sup>. These are used to project the data onto specific Principal Components (PCs). \n",
    "\n",
    "The entire dataset can be projected onto the Principal Components by multiplying **Z** = **Y\\*V**, where **Z** indicates the projected data, and **Z[:,0]** indicates the data projected onto the first PC. Alternatively, one could project onto just a subset of all the PCs by indexing in the multiplication. For example: **Z** = **Y\\*V[:,0]** would also yield the projection of the data onto the first PC.\n",
    "\n",
    "_Note that for matrices, the notation **Y\\*V** denotes the `dot` product between **Y** and **V**!_\n",
    "\n",
    "> c. (1 point)  Apply PCA (using the aforementioned method) on the Nanonose data and visualize a scatterplot of the projection of the data onto the first two PCs."
   ]
  },
  {
   "cell_type": "code",
   "execution_count": 49,
   "metadata": {},
   "outputs": [
    {
     "data": {
      "image/png": "[encoded data removed]",
      "text/plain": [
       "<Figure size 432x288 with 1 Axes>"
      ]
     },
     "metadata": {
      "needs_background": "light"
     },
     "output_type": "display_data"
    }
   ],
   "source": [
    "mu = X.mean(axis=0)\n",
    "#print(mu)\n",
    "Y = X-mu\n",
    "#print(Y)\n",
    "u, s, vh = np.linalg.svd(Y)\n",
    "v = vh.transpose()\n",
    "z = Y.dot(v)\n",
    "j = z[:,0]\n",
    "k = z[:,1]\n",
    "plt.scatter(k,j)\n",
    "plt.title('Projection onto the first 2 PCs')\n",
    "\n",
    "plt.show()"
   ]
  },
  {
   "cell_type": "markdown",
   "metadata": {},
   "source": [
    "> d. (1 point) Alternatively, one could use EigenValue Decomposition, EVD, instead of SVD. What are the similarities and differences between SVD and EVD? Can both be applied in each case?"
   ]
  },
  {
   "cell_type": "markdown",
   "metadata": {},
   "source": [
    "---\n",
    "\n",
    "EVD can only be applied to square matrices (NxN), however SVD can be applied to non-square matrices.\n",
    "Eigendecomposition represents the matrix in terms of its eigenvalues and eigenvectors, whereas SVD is the generalisation of the eigendecomposition of a matrix via an extension of the polar decomposition.\n",
    "For the matrix Y, EVD can not be applied because Y is not a square matrix. SVD can be applied to non-square matrices so we can apply it to Y.\n",
    "\n",
    "---"
   ]
  },
  {
   "cell_type": "markdown",
   "metadata": {},
   "source": [
    "PCA attempts to explain as much of the variance in data with as few PCs as possible. The variance explained by each of the PCs **m** can be calculated using the following formula: \n",
    "$$\\rho_m = 1 - \\frac{\\|{Y} - {u}_m s_{mm} {v}_m^T\\|^2_F}{\\|{Y}\\|^2_F} = \\frac{s_{mm}^2}{\\displaystyle \\sum_{m'=1}^M s^2_{m'm'}}$$\n",
    "\n",
    "Which indicates that the variation $\\rho$ for a given **m** can be calculated by dividing the squared singular value of component **m** by the sum of all squared singular values. \n",
    "> e. (1 point) Calculate the row vector $\\rho$ containing all values of $\\rho$ for all PCs **m**. Create a bar plot with the variance explained on the Y axis and the number of the PC on the X axis. "
   ]
  },
  {
   "cell_type": "code",
   "execution_count": 44,
   "metadata": {},
   "outputs": [
    {
     "data": {
      "image/png": "[encoded data removed]",
      "text/plain": [
       "<Figure size 432x288 with 1 Axes>"
      ]
     },
     "metadata": {
      "needs_background": "light"
     },
     "output_type": "display_data"
    }
   ],
   "source": [
    "squared = [x*x for x in s]\n",
    "sum_of_squared = sum(squared)\n",
    "r = [x / sum_of_squared for x in squared]\n",
    "number = [0,1,2,3,4,5,6,7]\n",
    "y_pos = np.arange(len(r))\n",
    "plt.bar(y_pos, r, align='center', alpha=0.5)\n",
    "plt.xticks(y_pos, number)\n",
    "plt.ylabel('Variation')\n",
    "plt.title('Variation for every PC')\n",
    "\n",
    "plt.show()"
   ]
  },
  {
   "cell_type": "markdown",
   "metadata": {},
   "source": [
    "> f. (0.5 points) How much of the variance is explained by the first three PCs?"
   ]
  },
  {
   "cell_type": "code",
   "execution_count": 45,
   "metadata": {},
   "outputs": [
    {
     "name": "stdout",
     "output_type": "stream",
     "text": [
      "The variance explained by the first PC: \n",
      "0.763479013568615\n",
      "The variance explained by the second PC: \n",
      "0.11497143605772657\n",
      "The variance explained by the third PC: \n",
      "0.048998088525361756\n",
      "The variance explained by the first three PCs: \n",
      "0.9274485381517034\n"
     ]
    }
   ],
   "source": [
    "print(\"The variance explained by the first PC: \")\n",
    "print(r[0])\n",
    "print(\"The variance explained by the second PC: \")\n",
    "print(r[1])\n",
    "print(\"The variance explained by the third PC: \")\n",
    "print(r[2])\n",
    "print(\"The variance explained by the first three PCs: \")\n",
    "print(r[0]+r[1]+r[2])"
   ]
  },
  {
   "cell_type": "markdown",
   "metadata": {},
   "source": [
    "The columns of **V** indicate the exact projection of the data onto the PCs. In a way, a PC is nothing other than a linear combination of the original attributes. \n",
    "> g. (0.5 points) Which attributes are primarily represented by the first PC? What would cause an observation to have a large negative/positive projection onto the second principal component?"
   ]
  },
  {
   "cell_type": "code",
   "execution_count": 47,
   "metadata": {},
   "outputs": [
    {
     "name": "stdout",
     "output_type": "stream",
     "text": [
      "[[ 0.03754331 -0.37748501 -0.77356029 -0.23125246  0.0038812  -0.43806921\n",
      "   0.10834769  0.02373672]\n",
      " [ 0.35153606 -0.06817937  0.16197185  0.16124192 -0.749146   -0.37473452\n",
      "  -0.31953982 -0.1256533 ]\n",
      " [ 0.13021346  0.04400371  0.11543871 -0.15621341 -0.09947737 -0.08110736\n",
      "   0.06414212  0.96062013]\n",
      " [ 0.59421936 -0.0517022   0.16622399  0.3658491   0.58054963 -0.38077895\n",
      "   0.02393198 -0.01228987]\n",
      " [ 0.43911007 -0.61774564 -0.02967737  0.02922288 -0.10307567  0.63349394\n",
      "   0.10834285  0.01267303]\n",
      " [ 0.20406829 -0.04367017  0.18984135 -0.76264883  0.22518623 -0.01138431\n",
      "  -0.52409926 -0.11514164]\n",
      " [ 0.15630916  0.035871    0.32322526 -0.41739824 -0.14738684 -0.19035642\n",
      "   0.76978045 -0.21228395]\n",
      " [ 0.49605104  0.680767   -0.43933818 -0.07460996 -0.09367647  0.28003331\n",
      "   0.04987973 -0.04714929]]\n"
     ]
    }
   ],
   "source": [
    "print(v)"
   ]
  },
  {
   "cell_type": "markdown",
   "metadata": {},
   "source": [
    "----\n",
    "To find which attributes are primarily represented by the first PC, we must look at the first row of V. The highest and lowest values of the first row are -0.77356029 and 0.10834769, these correspond to the attributes C and G. Therefore the attributes C and G are primarily represented by the first PC.\n",
    "The highest and the lowest values of the second row of V are 0.35153606 and -0.749146, they correspond to attributes A and E. An observation could cause large negative projection onto the second PC if its values are relatively low compared to the other attributes, like attribute A. An observation could cause large positive projection onto the second PC if its values are relatively high, like attribute E."
   ]
  },
  {
   "cell_type": "markdown",
   "metadata": {},
   "source": [
    "## 1.3 Similarity measures\n",
    "\n",
    "We will use a subset of the data on wild faces described by Berg in 2005 transformed to a total\n",
    "of 1000 grayscale images of size 40x40 pixels, we will attempt to find faces in the\n",
    "data base that are the most similar to a given query face. To measure similarity we\n",
    "will consider the following measures: SMC, Jaccard, Cosine, ExtendedJaccard, and\n",
    "Correlation. These measures of similarity are described in *Introduction to Data Mining*, page 73-77 and are given by\n",
    "\n",
    "\\begin{eqnarray*}\n",
    "\\textrm{SMC}({x},{y}) & = & \\frac{\\textrm{Number of matching attribute values}}{\\textrm{Number of attributes}} \\\\\n",
    "\\textrm{Jaccard}({x},{y}) & = & \\frac{\\textrm{Number of matching presences}}{\\textrm{Number of attributes not involved in 00 matches}} \\\\\n",
    "\\textrm{Cosine}({x},{y}) & = & \\frac{{x}^T {y}}{\\|{x}\\| \\|{y}\\|} \\\\\n",
    "\\textrm{ExtendedJaccard}({x},{y}) & = & \\frac{{x}^T {y}}{\\|{x}\\|^2 + \\|{y}\\|^2 - {x}^T {y}} \\\\\n",
    "\\textrm{Correlation}({x},{y}) & = & \\frac{\\textrm{cov}({x},{y})}{\\textrm{std}({x}) \\textrm{std}({y})}\n",
    "\\\\\n",
    "\\end{eqnarray*}\n",
    "<br>where $\\textrm{cov}({x},{y})$ denotes the covariance between ${x}$ and ${y}$ and $\\textrm{std}({x})$ denotes the standard deviation of ${x}$.\n",
    "\n",
    "Notice that the SMC and Jaccard similarity measures only are defined for binary data, i.e., data that takes values in $\\{0,1\\}$. As the data we analyze is non-binary, the script will transform the data to be binary when calculating these two measures of similarity by setting\n",
    "\n",
    "$$x_i = \\left\\{ \\begin{array}{ll} 0 & \\textrm{if~} x_i < \\textrm{median}({x}) \\\\\n",
    "                                1 & \\textrm{otherwise.} \\end{array} \\right.$$\n",
    "                                \n",
    "### 1.3.1\n",
    "> a) (0.5 points) Inspect and run the simfaces function from the Toolbox. The function loads the CBCL face database, computes the similarity between a selected query image and all others, and display the query image, the 5 most similar images, and the 5 least similar images. The value of the used similarity measure is shown below each image. Try changing the query image and the similarity measure and see what happens. Which similarity measures produce similar results? Which one gives the best result? Why?\n",
    "\n",
    "> Give a quick overview of the settings (image number and similarity measure) for each time you run the script. Remember to leave results open!\n",
    "\n"
   ]
  },
  {
   "cell_type": "code",
   "execution_count": null,
   "metadata": {},
   "outputs": [],
   "source": [
    "from Toolbox.simfaces import simfaces\n",
    "# Similarity: 'SMC', 'Jaccard', 'ExtendedJaccard', 'Cosine', 'Correlation' s\n",
    "simfaces(1,'SMC')\n",
    "simfaces(1,'Jaccard')\n",
    "simfaces(1,'ExtendedJaccard')\n",
    "simfaces(1,'Cosine')\n",
    "simfaces(1,'Correlation')"
   ]
  },
  {
   "cell_type": "markdown",
   "metadata": {},
   "source": [
    "----\n",
    "\n",
    "'SMC', 'Jaccard' and 'Cosine' produce similar results, these similarity measures seem to be focused on the colour and contrast of the picture.\n",
    "We think ExtendedJaccard gives the best result. The other one's seemed to be focused on colour and contrast, and not on the shape of the face. \n",
    "The results of ExtendedJaccard do not just focus on the colours in the picture, but rather the composition of the image.\n",
    "\n",
    "----\n"
   ]
  },
  {
   "cell_type": "markdown",
   "metadata": {},
   "source": [
    "\n",
    "> b) (0.75 points) We will investigate how scaling and translation impact the following three\n",
    "similarity measures: Cosine, ExtendedJaccard, and Correlation. Let **x** and **y** be two small vectors of the same size. Let $\\alpha$ and $\\beta$ be two constants. You can generate these randomly or set them as you see fit. Using Python, calculate the following similarity measures, and check if the statements below are correct.\n",
    "\n",
    "\\begin{eqnarray*}\n",
    "\\textrm{Cosine}(\\alpha{x},{y}) & = & \\textrm{Cosine}({x},{y}) \\\\\n",
    "\\textrm{ExtendedJaccard}(\\alpha{x},{y}) & = & \\textrm{ExtendedJaccard}({x},{y}) \\\\\n",
    "\\textrm{Correlation}(\\alpha{x},{y}) & = & \\textrm{Correlation}({x},{y}) \\\\\n",
    "\\textrm{Cosine}(\\beta + {x},{y}) & = & \\textrm{Cosine}({x},{y}) \\\\\n",
    "\\textrm{ExtendedJaccard}(\\beta + {x},{y}) & = & \\textrm{ExtendedJaccard}({x},{y}) \\\\\n",
    "\\textrm{Correlation}(\\beta + {x},{y}) & = & \\textrm{Correlation}({x},{y})\n",
    "\\end{eqnarray*}\n",
    "\n",
    "> Type `help similarity` or study `similarity.py` to learn about the function that is used to compute the similarity measures. Do not forget to also import similarity.py!\n",
    "\n",
    "> Even though a similarity measure is theoretically invariant e.g.\\ to scaling, it might not be exactly invariant numerically.\n",
    "\n",
    "> Do not forget to also provide an explanation in addition to the calculations!\n"
   ]
  },
  {
   "cell_type": "code",
   "execution_count": null,
   "metadata": {},
   "outputs": [],
   "source": [
    "from Toolbox.similarity import similarity\n",
    "w = np.array([1,2])\n",
    "aw = np.array([2,4])\n",
    "bw = np.array([4,5])\n",
    "e = np.array([7,2])"
   ]
  },
  {
   "cell_type": "markdown",
   "metadata": {},
   "source": [
    "aw is w*2.\n",
    "bw is [w[0]+3, w[1]+3], because a vector has different dimensions than a constant, it is impossible to add a constant to a vector. We have made the assumption that adding the constant to all elements of the vector indiviually was intended.\n",
    "similarity(w,e,'Cosine') and similarity(aw,e,'Cosine') result in the same matrix, so the first statement could be true.\n",
    "similarity(w,e,'ExtendedJaccard') and similarity(aw,e,'ExtendedJaccard') do not result in the same matrix, so the second statement is false.\n",
    "similarity(w,e,'Correlation') and similarity(aw,e,'Correlation') result in the same matrix, so the third statement could be true.\n",
    "\n",
    "similarity(w,e,'Cosine') and similarity(bw,e,'Cosine') result in a different matrix, so the fourth statement is false.\n",
    "similarity(w,e,'ExtendedJaccard') and similarity(bw,e,'ExtendedJaccard') result in a different matrix, so the fifth statement is false.\n",
    "similarity(w,e,'Correlation') and similarity(bw,e,'Correlation') result in the same matrix, so the sixth statement could be true."
   ]
  }
 ],
 "metadata": {
  "kernelspec": {
   "display_name": "Python 3",
   "language": "python",
   "name": "python3"
  },
  "language_info": {
   "codemirror_mode": {
    "name": "ipython",
    "version": 3
   },
   "file_extension": ".py",
   "mimetype": "text/x-python",
   "name": "python",
   "nbconvert_exporter": "python",
   "pygments_lexer": "ipython3",
   "version": "3.7.3"
  },
  "varInspector": {
   "cols": {
    "lenName": 16,
    "lenType": 16,
    "lenVar": 40
   },
   "kernels_config": {
    "python": {
     "delete_cmd_postfix": "",
     "delete_cmd_prefix": "del ",
     "library": "var_list.py",
     "varRefreshCmd": "print(var_dic_list())"
    },
    "r": {
     "delete_cmd_postfix": ") ",
     "delete_cmd_prefix": "rm(",
     "library": "var_list.r",
     "varRefreshCmd": "cat(var_dic_list()) "
    }
   },
   "position": {
    "height": "790px",
    "left": "827px",
    "right": "20px",
    "top": "64px",
    "width": "800px"
   },
   "types_to_exclude": [
    "module",
    "function",
    "builtin_function_or_method",
    "instance",
    "_Feature"
   ],
   "window_display": false
  }
 },
 "nbformat": 4,
 "nbformat_minor": 2
}
