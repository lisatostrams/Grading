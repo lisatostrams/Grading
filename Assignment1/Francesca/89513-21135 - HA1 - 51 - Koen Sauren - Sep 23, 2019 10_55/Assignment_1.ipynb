{
 "cells": [
  {
   "cell_type": "markdown",
   "metadata": {},
   "source": [
    "# Assignment 1\n",
    "\n",
    "## Objective of this assignment\n",
    "The objective is to get acquainted with the Python language, with emphasis on its scientific and numerical extensions, how data can be imported from other data sources, linear algebra basics that is needed in this course, visualization using principal component analysis (PCA) and the concept of similarity. Upon completing this exercise it is expected that you:\n",
    "\n",
    "- Understand how data can be represented as vectors and matrices in numerical Python (NumPy).\n",
    "- Can apply and interpret principal component analysis (PCA) for data visualization.\n",
    "- Understand the various measures of similarity such as Jaccard and Cosine similarity and apply similarity measures to query for similar observations.\n",
    "\n",
    "## ** Important: ** When handing in your homework:\n",
    "+ Hand in the notebook (and nothing else) named as follows: StudentName1_snumber_StudentName2_snumber.ipynb\n",
    "+ Provide clear and complete answers to the questions below under a seperate header (not hidden some-where in your source code), and make sure to explain your answers / motivate your choices. Add Markdown cells where necessary.\n",
    "+ Source code, output graphs, derivations, etc., should be included in the notebook.\n",
    "+ Hand-in: upload to Blackboard.\n",
    "+ Include name, student number, assignment (especially in filenames)!\n",
    "+ When working in pairs only one of you should upload the assignment, and report the name of your partner in your filename.\n",
    "+ For problems or questions: use the BB discussion board or email the student assistants.\n",
    "\n",
    "## Advised Reading and Exercise Material\n",
    "**The following on-line materials are recommended:**\n",
    "\n",
    "- <http://docs.python.org/tutorial> - Introduction into Python environment, syntax and data structures. Recommended reading - sections 1, 2, 3, 4 and 5.\n",
    "- <http://www.scipy.org/Tentative_NumPy_Tutorial> - Tutorial introducing the scientific computing in Python, array and matrix operations, indexing and slicing matrices.\n",
    "- <http://www.scipy.org/NumPy_for_Matlab_Users> - Useful reference to scientific computing in Python if you have previous experience with MATLAB programming.\n",
    "- <https://www.datacamp.com/courses/intro-to-python-for-data-science> - Simple introduction to Data Science using Python.\n",
    "- <http://matplotlib.sourceforge.net> - Documentation and examples related to matplotlib module, which we shall use extensively through the course to visualize data and results.\n",
    "- Pang-Ning Tan, Michael Steinbach, and Vipin Kumar, {\\em Introduction to Data Mining}, sections 2.1-2.3 + (A) + B.1\n",
    "- <http://http://www.youtube.com/course?list=ECEA1FEF17E1E5C0DA> - Series of video tutorials covering basics of Python programming.\n",
    "- Pang-Ning Tan, Michael Steinbach, and Vipin Kumar, {\\em Introduction to Data Mining}, sections 2.4 + 3.1-3.2 + C.1-C.2\n",
    "\n",
    "\n",
    "## 1.1 Python and Linear Algebra basics\n",
    "\n",
    "**For this course we advise to only use NumPy ndarrays ndarrays to represent vectors and matrices. The numpy.matrix data type, although intuitive, is less supported and uses operators for multiplication differently. This means that you can't perform matrix multiplications symbollically, but that you will have to use functions from the NumPy library!** \n",
    "\n",
    "**1.1.1** (0.3 points) Generate (and print) the following vectors using functions from the *NumPy* package in Python: \n",
    "*Note: You do not have to print column vectors as columns!*\n",
    "\n",
    "\\begin{equation}\n",
    "     \\textbf{x} = \\begin{pmatrix} \n",
    "         6 \\\\\n",
    "         7 \\\\\n",
    "         8 \\\\\n",
    "         9 \\\\\n",
    "         10 \\\\\n",
    "         11 \\\\\n",
    "         12\n",
    "       \\end{pmatrix}\n",
    "     \\textbf{y} = \\begin{pmatrix} \n",
    "         3 \\\\\n",
    "         7 \\\\\n",
    "         11 \\\\\n",
    "         15 \\\\\n",
    "         19 \\\\\n",
    "         23 \\\\\n",
    "         27\n",
    "       \\end{pmatrix}\n",
    "     \\textbf{w} = \\begin{pmatrix} \n",
    "         1 \\\\\n",
    "         1 \\\\\n",
    "         0 \\\\\n",
    "         0.5 \\\\\n",
    "         1 \\\\\n",
    "         1.5 \\\\\n",
    "         2 \\\\\n",
    "         0 \\\\\n",
    "         0 \n",
    "       \\end{pmatrix}\n",
    "     \\textbf{s} = \\begin{pmatrix}\n",
    "         100 \\\\\n",
    "         98.8 \\\\\n",
    "         97.6 \\\\\n",
    "         96.4 \\\\\n",
    "         95.2\n",
    "       \\end{pmatrix} \n",
    "     \\textbf{z} = \\begin{pmatrix}\n",
    "         0.7 \\\\\n",
    "         1.0 \\\\\n",
    "         1.3 \\\\\n",
    "         1.6 \\\\\n",
    "         1.9 \\\\\n",
    "         2.2 \\\\\n",
    "         2.5 \\\\\n",
    "         2.8\n",
    "       \\end{pmatrix}\n",
    "  \\end{equation}\n",
    "\n"
   ]
  },
  {
   "cell_type": "code",
   "execution_count": 33,
   "metadata": {},
   "outputs": [],
   "source": [
    "#Import NumPy\n",
    "import numpy as np\n",
    "#You'll have to manually import libraries in the future!"
   ]
  },
  {
   "cell_type": "code",
   "execution_count": 34,
   "metadata": {},
   "outputs": [
    {
     "name": "stdout",
     "output_type": "stream",
     "text": [
      "[ 6  7  8  9 10 11 12]\n",
      "[ 3  7 11 15 19 23 27]\n",
      "[1.  1.  0.  0.5 1.  1.5 2.  0.  0. ]\n",
      "[100.   98.8  97.6  96.4  95.2]\n",
      "[0.7 1.  1.3 1.6 1.9 2.2 2.5 2.8]\n"
     ]
    }
   ],
   "source": [
    "##Generate the vectnp.array((6,7,8,9,10,11,12))ors in  using Python and NumPy \n",
    "x = np.array((6,7,8,9,10,11,12))\n",
    "print(x)\n",
    "print(np.array((3,7,11,15,19,23,27)))\n",
    "print(np.array((1,1,0,0.5,1,1.5,2,0,0)))\n",
    "print(np.array((100,98.8,97.6,96.4,95.2)))\n",
    "print(np.array((0.7,1.0,1.3,1.6,1.9,2.2,2.5,2.8)))"
   ]
  },
  {
   "cell_type": "markdown",
   "metadata": {},
   "source": [
    "Then compute the following operations:\n",
    "> a. (0.2 points) **v** = 3**x** + **y**"
   ]
  },
  {
   "cell_type": "code",
   "execution_count": 35,
   "metadata": {},
   "outputs": [
    {
     "name": "stdout",
     "output_type": "stream",
     "text": [
      "[21 28 35 42 49 56 63]\n"
     ]
    }
   ],
   "source": [
    "##Answer to question 1.1.1a\n",
    "x = np.array((6,7,8,9,10,11,12))\n",
    "y = np.array((3,7,11,15,19,23,27))\n",
    "v = 3 * x + y\n",
    "print(v)"
   ]
  },
  {
   "cell_type": "markdown",
   "metadata": {},
   "source": [
    "> b. (0.2 points) Compute the dot product between **x** and **y** and name it **q**\n"
   ]
  },
  {
   "cell_type": "code",
   "execution_count": 36,
   "metadata": {},
   "outputs": [
    {
     "name": "stdout",
     "output_type": "stream",
     "text": [
      "1057\n"
     ]
    }
   ],
   "source": [
    "##Answer to question 1.1.1b\n",
    "x = np.array((6,7,8,9,10,11,12))\n",
    "y = np.array((3,7,11,15,19,23,27))\n",
    "q = np.dot(x, y)\n",
    "print(q)"
   ]
  },
  {
   "cell_type": "markdown",
   "metadata": {},
   "source": [
    "> c. (0.2 points) **t** = pi(**s** + 4) (element wise multiplication)"
   ]
  },
  {
   "cell_type": "code",
   "execution_count": 37,
   "metadata": {},
   "outputs": [
    {
     "name": "stdout",
     "output_type": "stream",
     "text": [
      "[326.72563597 322.95572479 319.1858136  315.41590242 311.64599124]\n"
     ]
    }
   ],
   "source": [
    "##Answer to question 1.1.1c\n",
    "s = np.array((100,98.8,97.6,96.4,95.2))\n",
    "t = np.multiply(np.pi, s + 4)\n",
    "print(t)"
   ]
  },
  {
   "cell_type": "markdown",
   "metadata": {},
   "source": [
    "> d. (0.2 points) **z** = **z** - 1"
   ]
  },
  {
   "cell_type": "code",
   "execution_count": 38,
   "metadata": {},
   "outputs": [
    {
     "name": "stdout",
     "output_type": "stream",
     "text": [
      "[-0.3  0.   0.3  0.6  0.9  1.2  1.5  1.8]\n"
     ]
    }
   ],
   "source": [
    "##Answer to question 1.1.1d\n",
    "z = np.array((0.7,1.0,1.3,1.6,1.9,2.2,2.5,2.8))\n",
    "z -= 1\n",
    "print(z)"
   ]
  },
  {
   "cell_type": "markdown",
   "metadata": {},
   "source": [
    "> e. (0.2 points) replace some values of x, such that the last three values in the vector are 4"
   ]
  },
  {
   "cell_type": "code",
   "execution_count": 39,
   "metadata": {},
   "outputs": [
    {
     "name": "stdout",
     "output_type": "stream",
     "text": [
      "[6 7 8 9 4 4 4]\n"
     ]
    }
   ],
   "source": [
    "##Answer to question 1.1.1e\n",
    "x = np.array((6,7,8,9,4,4,4))\n",
    "print(x)"
   ]
  },
  {
   "cell_type": "markdown",
   "metadata": {},
   "source": [
    "> f. (0.2 points) **r** = 2**w** - 5"
   ]
  },
  {
   "cell_type": "code",
   "execution_count": 40,
   "metadata": {},
   "outputs": [
    {
     "name": "stdout",
     "output_type": "stream",
     "text": [
      "[-3. -3. -5. -4. -3. -2. -1. -5. -5.]\n"
     ]
    }
   ],
   "source": [
    "##Answer to question 1.1.1f\n",
    "w = np.array((1,1,0,0.5,1,1.5,2,0,0))\n",
    "r = 2 * w - 5\n",
    "print(r)"
   ]
  },
  {
   "cell_type": "markdown",
   "metadata": {},
   "source": [
    "**1.1.2** (0.25 points) Generate these matrices:\n",
    "\n",
    "\\begin{equation}\n",
    "     \\textbf{M} = \\begin{pmatrix} \n",
    "         1 & 2 & 3 \\\\\n",
    "         6 & 8 & 4 \\\\\n",
    "         6 & 7 & 5          \n",
    "         \\end{pmatrix}\n",
    "     \\textbf{N} = \\begin{pmatrix} \n",
    "         4 & 6 \\\\\n",
    "         7 & 2 \\\\\n",
    "         5 & 1\n",
    "         \\end{pmatrix}\n",
    "     \\textbf{P} = \\begin{pmatrix} \n",
    "         2 & 5 \\\\\n",
    "         5 & 5 \n",
    "         \\end{pmatrix}   \n",
    "\\end{equation}\n",
    "\n",
    "Afterwards try and compute the operations for subquestions *a* up to and including *e* and print the resulting matrix. If some operations yield errors, give the reason as to why that happens.\n",
    "\n",
    "*A hint: NumPy has functions for matrix operations you can, and should, use!*"
   ]
  },
  {
   "cell_type": "code",
   "execution_count": 41,
   "metadata": {},
   "outputs": [
    {
     "name": "stdout",
     "output_type": "stream",
     "text": [
      "[[1 2 3]\n",
      " [6 8 4]\n",
      " [6 7 5]]\n",
      "[[4 6]\n",
      " [7 2]\n",
      " [5 1]]\n",
      "[[2 5]\n",
      " [5 5]]\n"
     ]
    }
   ],
   "source": [
    "##Generate the matrices using Python and NumPy\n",
    "M = np.array([\n",
    "    [1,2,3],\n",
    "    [6,8,4],\n",
    "    [6,7,5]\n",
    "])\n",
    "N = np.array([\n",
    "    [4,6],\n",
    "    [7,2],\n",
    "    [5,1]\n",
    "])\n",
    "P = np.array([\n",
    "    [2,5],\n",
    "    [5,5]\n",
    "])\n",
    "print(M)\n",
    "print(N)\n",
    "print(P)"
   ]
  },
  {
   "cell_type": "markdown",
   "metadata": {},
   "source": [
    "> a. (0.2 points) **A** = **MN** + **N**"
   ]
  },
  {
   "cell_type": "code",
   "execution_count": 42,
   "metadata": {},
   "outputs": [
    {
     "name": "stdout",
     "output_type": "stream",
     "text": [
      "[[ 37  19]\n",
      " [107  58]\n",
      " [103  56]]\n"
     ]
    }
   ],
   "source": [
    "##Answer to question 1.1.2a\n",
    "A = np.matmul(M, N) + N\n",
    "print(A)"
   ]
  },
  {
   "cell_type": "markdown",
   "metadata": {},
   "source": [
    "> b. (0.2 points) **B** = **N**<sup>T</sup>**M**"
   ]
  },
  {
   "cell_type": "code",
   "execution_count": 43,
   "metadata": {},
   "outputs": [
    {
     "name": "stdout",
     "output_type": "stream",
     "text": [
      "[[76 99 65]\n",
      " [24 35 31]]\n"
     ]
    }
   ],
   "source": [
    "##Answer to question 1.1.2b\n",
    "B = np.matmul(N.transpose(), M)\n",
    "print(B)"
   ]
  },
  {
   "cell_type": "markdown",
   "metadata": {},
   "source": [
    "> c. (0.2 points) **C** = **P**<sup>-1</sup> + **P**"
   ]
  },
  {
   "cell_type": "code",
   "execution_count": 44,
   "metadata": {},
   "outputs": [
    {
     "name": "stdout",
     "output_type": "stream",
     "text": [
      "[[1.66666667 5.33333333]\n",
      " [5.33333333 4.86666667]]\n"
     ]
    }
   ],
   "source": [
    "##Answer to question 1.1.2c\n",
    "C = np.linalg.inv(P) + P\n",
    "print(C)"
   ]
  },
  {
   "cell_type": "markdown",
   "metadata": {},
   "source": [
    "> d. (0.2 points) **D** = **AC**(**C** + **B**)"
   ]
  },
  {
   "cell_type": "code",
   "execution_count": 45,
   "metadata": {},
   "outputs": [
    {
     "name": "stdout",
     "output_type": "stream",
     "text": [
      "[[163.         289.8       ]\n",
      " [487.66666667 852.93333333]\n",
      " [470.33333333 821.86666667]]\n"
     ]
    }
   ],
   "source": [
    "##Answer to question 1.2d\n",
    "I = np.dot(A, C)\n",
    "print(I)\n"
   ]
  },
  {
   "cell_type": "code",
   "execution_count": 48,
   "metadata": {},
   "outputs": [
    {
     "name": "stdout",
     "output_type": "stream",
     "text": [
      "Eigenvalues of M: \n",
      "[-1.26208735 14.26208735  1.        ]\n",
      "Eigenvectors of M: \n",
      "[[-0.84234218  0.25759308  0.51507875]\n",
      " [ 0.38109032  0.68324439 -0.71318597]\n",
      " [ 0.38109032  0.68324439  0.47545731]]\n",
      "[[4 6 0]\n",
      " [7 2 0]\n",
      " [5 1 0]]\n",
      "Eigenvalues of N: \n",
      "[-5.55088153 -0.24437161 11.79525314]\n",
      "Eigenvectors of N: \n",
      "[[-0.66669989  0.08406918 -0.7405698 ]\n",
      " [ 0.55169082 -0.61243187 -0.56618411]\n",
      " [ 0.50114718  0.78604045 -0.36192806]]\n",
      "Eigenvalues of P: \n",
      "[-1.72015325  8.72015325]\n",
      "Eigenvectors of P: \n",
      "[[-0.80229293 -0.59693053]\n",
      " [ 0.59693053 -0.80229293]]\n"
     ]
    }
   ],
   "source": [
    "m, m_ = np.linalg.eig(M)\n",
    "print(\"Eigenvalues of M: \")\n",
    "print(m)\n",
    "print(\"Eigenvectors of M: \")\n",
    "print(m_)\n",
    "\n",
    "N = np.array([np.append(N[0],[0]), np.append(N[1],[0]), np.append(N[2], [0])])\n",
    "print(N)\n",
    "n, n_ = np.linalg.eigh(N)\n",
    "print(\"Eigenvalues of N: \")\n",
    "print(n)\n",
    "print(\"Eigenvectors of N: \")\n",
    "print(n_)\n",
    "\n",
    "p, p_ = np.linalg.eig(P)\n",
    "print(\"Eigenvalues of P: \")\n",
    "print(p)\n",
    "print(\"Eigenvectors of P: \")\n",
    "print(p_)"
   ]
  },
  {
   "cell_type": "markdown",
   "metadata": {},
   "source": [
    "> e. (0.2 points) Compute the eigenvalues and eigenvectors of **M**, **N**, and **P** (and print them)."
   ]
  },
  {
   "cell_type": "markdown",
   "metadata": {},
   "source": [
    "## 1.2 Principal Component Analysis\n",
    "\n",
    "**1.2.1** many experimenters have a habit of using Microsoft Excel as their tool to record measurements from experiments. Fortunately Python can read Excel files. Various methods exist, of which the use of the Python library Pandas is arguably one of the easiest for the purpose of Data Mining.\n",
    "\n",
    "The data used in this exercise is based on data from a chemical sensor obtained from the NanoNose project[1]. The data contains 8 sensors, named by the letters A-H, measuring the concentration of Water, Ethanol, Acetone, Heptane and Pentanol injected into a small gas chamber. The data will be represented in matrix form such that each column contains the 8 sensor measurements (i.e., sensor A-H) of the various compounds injected into the gas chamber.\n",
    "> a. (0.2 points) Inspect the nanonose.xls file in the Data folder and make sure you understand how the data is stored in Excel.\n",
    "\n",
    "> *Load the data in python using the Pandas library (use the read_excel() function). Make sure you read some of the Pandas documentation! Especially slicing, indexing and dropping are useful commands*\n",
    "\n",
    "> *make sure to inspect the data first! You should cut out some rows and columns! You can easily inspect the structure of the Pandas dataframe using the head() function.*\n",
    "\n",
    "> *Finally use the as_matrix() function to cast the Pandas dataframe to a NumPy array. Note: counterintuitively, this yields an object of type: numpy.ndarray, not of type numpy.matrix!*"
   ]
  },
  {
   "cell_type": "code",
   "execution_count": 85,
   "metadata": {},
   "outputs": [
    {
     "name": "stdout",
     "output_type": "stream",
     "text": [
      "    Nanonose       A          B          C           D           E          F  \\\n",
      "1      Water  95.500  21.000000   6.000000   11.942308   64.134615  21.498560   \n",
      "2      Water  94.500  17.000000   5.000000    5.484615   63.205769  19.658560   \n",
      "3      Water  92.000  16.000000   3.000000   11.057692   62.586538  19.813120   \n",
      "4      Water  53.000   7.500000   2.500000    3.538462   35.163462   6.876207   \n",
      "5      Water  51.000   7.500000   2.500000    4.865385   34.057692   6.757241   \n",
      "6      Water  50.000   8.000000   2.500000    3.980769   33.615385   6.773103   \n",
      "7      Water  27.500   4.000000   1.500000    2.200000   18.355769   2.798333   \n",
      "8      Water  27.500   4.500000   1.500000    2.200000   17.250000   2.629667   \n",
      "9      Water  27.000   4.000000   1.500000    3.100000   17.471154   2.645000   \n",
      "10     Water  13.500   1.500000   0.000000    1.769231    9.730769   1.114062   \n",
      "11     Water  13.000   2.000000   0.500000    2.653846   10.615385   1.078125   \n",
      "12     Water  13.250   2.500000   0.250000    2.653846    8.846154   0.424063   \n",
      "13     Water   4.500   0.800000   0.000000    0.442308    2.432692   0.651667   \n",
      "14     Water   4.000   0.800000   0.000000    0.884615    3.671154   0.406333   \n",
      "15     Water   3.700   0.500000   0.000000    1.326923    3.759615   0.329667   \n",
      "16     Water   1.500   0.000000   0.000000    0.000000    1.107692   0.132324   \n",
      "17     Water   1.500   0.000000   0.000000    0.000000    1.329231  -0.062270   \n",
      "18     Water   1.500   0.000000   0.000000    0.000000    1.506462   0.350270   \n",
      "19   Ethanol  23.000  51.000000  25.000000   96.000000  142.500000  69.529091   \n",
      "20   Ethanol  23.500  61.000000  30.200000  129.000000  142.000000  65.558182   \n",
      "21   Ethanol  22.000  63.500000  30.500000  149.000000  140.500000  64.310909   \n",
      "22   Ethanol  12.500  50.500000  20.000000   60.000000   94.500000  30.171429   \n",
      "23   Ethanol  12.500  51.000000  20.500000   52.000000   93.500000  30.514286   \n",
      "24   Ethanol  12.000  50.000000  18.000000   50.000000   89.500000  28.278857   \n",
      "25   Ethanol   6.000  33.500000  12.500000   26.000000   65.500000  13.758545   \n",
      "26   Ethanol   6.000  32.000000  11.500000   28.000000   63.000000  14.033455   \n",
      "27   Ethanol   7.500  31.500000  11.500000   25.000000   61.000000  14.138182   \n",
      "28   Ethanol   5.000  23.500000   8.200000   10.687500   37.968750   5.958621   \n",
      "29   Ethanol   5.500  24.000000   9.000000   10.687500   37.687500   6.206897   \n",
      "30   Ethanol   5.250  23.750000   8.600000   10.687500   38.531250   5.462069   \n",
      "..       ...     ...        ...        ...         ...         ...        ...   \n",
      "61   Heptane   0.500   0.500000   5.500000    7.000000    1.750000   1.461818   \n",
      "62   Heptane   0.750   1.250000   5.750000    7.000000    1.500000   1.863818   \n",
      "63   Heptane   1.500   1.500000   6.000000    7.000000    1.750000   1.717636   \n",
      "64   Heptane   1.000   0.500000   4.000000    3.000000    1.000000   0.523333   \n",
      "65   Heptane   1.500   1.000000   4.500000    3.000000    1.000000   0.558222   \n",
      "66   Heptane   1.000   0.000000   3.800000    2.000000    1.000000   0.453556   \n",
      "67   Heptane   0.500   0.000000   2.000000    0.000000    0.500000   0.087954   \n",
      "68   Heptane   0.500   0.000000   2.000000    0.000000    0.500000   0.158317   \n",
      "69   Heptane   0.500   0.000000   2.000000    0.000000    0.000000   0.281452   \n",
      "70   Heptane   0.000   0.000000   0.500000    0.000000    0.000000   0.104667   \n",
      "71   Heptane   0.000   0.000000   1.000000    0.000000    0.000000   0.153511   \n",
      "72   Heptane   0.000   0.000000   1.500000    0.000000    0.000000   0.069778   \n",
      "73  Pentanol   3.200  16.000000  20.500000   -3.000000    9.750000  67.943077   \n",
      "74  Pentanol   2.700  16.500000  20.200000   -3.000000    7.000000  62.267692   \n",
      "75  Pentanol   2.200  14.400000  20.400000   -3.000000    6.625000  62.052308   \n",
      "76  Pentanol   1.850   6.050000  14.500000   -1.500000    3.125000  45.024000   \n",
      "77  Pentanol   1.300   6.200000  14.200000   -1.500000    3.125000  44.217600   \n",
      "78  Pentanol   2.000   6.000000  13.700000   -1.500000    3.250000  44.217600   \n",
      "79  Pentanol   1.100   3.450000   9.800000   -0.750000    1.750000  20.836042   \n",
      "80  Pentanol   0.800   3.400000   9.300000   -1.000000    1.750000  21.479792   \n",
      "81  Pentanol   0.700   3.850000   9.600000   -1.000000    1.875000  21.887500   \n",
      "82  Pentanol   0.416   7.904000  18.512000   -0.500000    2.650000  28.892644   \n",
      "83  Pentanol   0.416   5.616000  15.808000   -0.500000    1.625000  29.785311   \n",
      "84  Pentanol   0.416   5.408000  14.976000   -0.500000    2.300000  30.350667   \n",
      "85  Pentanol   0.192   1.728000   8.640000   -0.250000    1.300000   5.785600   \n",
      "86  Pentanol   0.192   3.072000   9.120000   -0.250000    1.300000   4.787200   \n",
      "87  Pentanol   0.192   2.496000   8.736000   -0.250000    1.125000   5.068800   \n",
      "88  Pentanol   0.000   1.287500   5.579167    0.000000    0.650000   1.845417   \n",
      "89  Pentanol   0.000   1.072917   4.935417    0.000000    0.800000   2.288889   \n",
      "90  Pentanol   0.000   1.716667   6.437500    0.000000    0.800000   1.945556   \n",
      "\n",
      "            G          H  \n",
      "1    5.567840   1.174135  \n",
      "2    4.968000   1.883444  \n",
      "3    5.192480   0.564835  \n",
      "4    1.641724   0.144654  \n",
      "5    1.613966   0.059663  \n",
      "6    1.776552   0.075509  \n",
      "7    0.563500   0.030383  \n",
      "8    0.854833   0.000000  \n",
      "9    0.624833   0.000000  \n",
      "10   0.495937   0.000000  \n",
      "11   0.452813   0.000000  \n",
      "12   0.115000   0.000000  \n",
      "13   0.529000   0.000000  \n",
      "14   0.348833   0.000000  \n",
      "15   0.253000   0.000000  \n",
      "16   0.144000   0.000000  \n",
      "17   0.054486   0.000000  \n",
      "18   0.548757   0.000000  \n",
      "19  38.951818  35.426599  \n",
      "20  39.282727  35.482343  \n",
      "21  39.448182  36.179168  \n",
      "22  31.728000  18.237738  \n",
      "23  31.481143  18.248133  \n",
      "24  30.877714  18.268811  \n",
      "25  21.979636   9.993431  \n",
      "26  22.215273  10.302946  \n",
      "27  21.802909   9.640167  \n",
      "28  14.927586   5.557047  \n",
      "29  14.598621   4.586819  \n",
      "30  13.828966   5.162951  \n",
      "..        ...        ...  \n",
      "61   3.394159   1.741927  \n",
      "62   4.065682   2.809913  \n",
      "63   3.855545   3.026067  \n",
      "64   1.737467   1.410000  \n",
      "65   1.618844   1.480000  \n",
      "66   1.723511   1.300000  \n",
      "67   0.853153   0.650000  \n",
      "68   0.914720   0.550000  \n",
      "69   1.029061   0.690000  \n",
      "70   0.080244   0.300000  \n",
      "71   0.362844   0.330000  \n",
      "72   0.366333   0.280000  \n",
      "73  36.604615  33.147059  \n",
      "74  29.437692  30.338843  \n",
      "75  29.448462  25.100904  \n",
      "76  38.035200   5.435981  \n",
      "77  37.728000   6.050000  \n",
      "78  37.939200   6.274112  \n",
      "79  29.966562   0.000000  \n",
      "80  30.942917   0.000000  \n",
      "81  30.095312   0.000000  \n",
      "82  41.553633   2.087148  \n",
      "83  42.907511   4.617735  \n",
      "84  41.732167   1.767080  \n",
      "85  14.214400   0.000000  \n",
      "86  11.219200   0.000000  \n",
      "87  12.044800   0.000000  \n",
      "88   6.695000   0.000000  \n",
      "89   7.024028   0.000000  \n",
      "90   7.066944   0.000000  \n",
      "\n",
      "[90 rows x 9 columns]\n"
     ]
    }
   ],
   "source": [
    "import pandas as pd\n",
    "\n",
    "data = pd.read_excel('data/nanonose.xls', sheet_name='Sheet1')\n",
    "data = data.drop(0)\n",
    "data = data.drop(columns=[\"Unnamed: 2\",\"Unnamed: 1\"])\n",
    "print(data)\n",
    "\n",
    "npdata = data.to_numpy()"
   ]
  },
  {
   "cell_type": "markdown",
   "metadata": {},
   "source": [
    "> b. (0.3 points) The data resides in what can be seen as an 8-dimensional space. Each dimension (column), corresponds to one of the 8 NanoNose sensors. Multidimensional (>3) data is hard to visualize, as we are unable to plot that many dimensions simultaneously.\n",
    "\n",
    "> Using the matplotlib library, plot the attributes A and B against each other. After you have plotted A against B, also plot a few other combinations of attributes. Plot at least 4 different combinations. \n",
    "\n",
    "> *Do not forget to label your axes and add a figure description!*\n",
    "\n",
    "> NOTE: If you want to plot inside the Jupyter notebook use the following command after you imported the library: \n",
    "*%matplotlib inline* "
   ]
  },
  {
   "cell_type": "code",
   "execution_count": 105,
   "metadata": {},
   "outputs": [
    {
     "data": {
      "image/png": "[encoded data removed]",
      "text/plain": [
       "<Figure size 432x288 with 1 Axes>"
      ]
     },
     "metadata": {
      "needs_background": "light"
     },
     "output_type": "display_data"
    },
    {
     "data": {
      "image/png": "[encoded data removed]",
      "text/plain": [
       "<Figure size 432x288 with 1 Axes>"
      ]
     },
     "metadata": {
      "needs_background": "light"
     },
     "output_type": "display_data"
    },
    {
     "data": {
      "image/png": "[encoded data removed]",
      "text/plain": [
       "<Figure size 432x288 with 1 Axes>"
      ]
     },
     "metadata": {
      "needs_background": "light"
     },
     "output_type": "display_data"
    },
    {
     "data": {
      "image/png": "[encoded data removed]",
      "text/plain": [
       "<Figure size 432x288 with 1 Axes>"
      ]
     },
     "metadata": {
      "needs_background": "light"
     },
     "output_type": "display_data"
    },
    {
     "data": {
      "image/png": "[encoded data removed]",
      "text/plain": [
       "<Figure size 432x288 with 1 Axes>"
      ]
     },
     "metadata": {
      "needs_background": "light"
     },
     "output_type": "display_data"
    }
   ],
   "source": [
    "import matplotlib.pyplot as plot\n",
    "%matplotlib inline\n",
    "\n",
    "plot.plot(npdata[:,(1,2)])\n",
    "plot.ylabel(\"Concentration\")\n",
    "plot.xlabel(\"Material\")\n",
    "plot.xticks(np.arange(0,90,step=18),np.take(npdata[:,0],np.arange(0,90,step=18)))\n",
    "plot.title(\"Sensor Data of A and B\")\n",
    "plot.show()\n",
    "\n",
    "plot.plot(npdata[:,(1,4)])\n",
    "plot.ylabel(\"Concentration\")\n",
    "plot.xlabel(\"Material\")\n",
    "plot.xticks(np.arange(0,90,step=18),np.take(npdata[:,0],np.arange(0,90,step=18)))\n",
    "plot.title(\"Sensor Data of A and D\")\n",
    "plot.show()\n",
    "\n",
    "plot.plot(npdata[:,(6,8)])\n",
    "plot.ylabel(\"Concentration\")\n",
    "plot.xlabel(\"Material\")\n",
    "plot.xticks(np.arange(0,90,step=18),np.take(npdata[:,0],np.arange(0,90,step=18)))\n",
    "plot.title(\"Sensor Data of F and H\")\n",
    "plot.show()\n",
    "\n",
    "plot.plot(npdata[:,(4,7)])\n",
    "plot.ylabel(\"Concentration\")\n",
    "plot.xlabel(\"Material\")\n",
    "plot.xticks(np.arange(0,90,step=18),np.take(npdata[:,0],np.arange(0,90,step=18)))\n",
    "plot.title(\"Sensor Data of D and G\")\n",
    "plot.show()\n",
    "\n",
    "plot.plot(npdata[:,(3,5)])\n",
    "plot.ylabel(\"Concentration\")\n",
    "plot.xlabel(\"Material\")\n",
    "plot.xticks(np.arange(0,90,step=18),np.take(npdata[:,0],np.arange(0,90,step=18)))\n",
    "plot.title(\"Sensor Data of C and E\")\n",
    "plot.show()"
   ]
  },
  {
   "cell_type": "markdown",
   "metadata": {},
   "source": [
    "\n",
    "1.2.2 Principal Component Analysis, more commonly known as PCA, can be cleverly used to better visualize high dimensional data. \n",
    "\n",
    "> a. (1 point) Explain what PCA is and when it can be used. Make sure to provide an in-depth explanation and note what the drawbacks and limitations are."
   ]
  },
  {
   "cell_type": "markdown",
   "metadata": {},
   "source": [
    "\n",
    "Principal component analysis is a find correlation in multidimensional data. In 2d and 3d, this could be done by plotting the data in a graph, then conclusions could be drawn. However, as the dimensions increase, this becomes more difficult. Using principal component analysis, we can plot this multidimensional data in a 2d graph, which makes it easier to find correlations. This is done by extracting 'principal components' from the data, which means that we extract the components of the input data which represent the greatest variation in the data. We can then also select other components, which represent (part of) the remaining variety. Essentially, this means that we replot the data on a different set of axes then originally was the case. These new axes, however, might be completely meaningless, which means that we did not learn anything about the data by applying PCA."
   ]
  },
  {
   "cell_type": "markdown",
   "metadata": {},
   "source": [
    "To apply PCA we must first mean center the data. mean centering means that the mean value for an attribute is subtracted from that attribute. \n",
    "\n",
    "> b. (0.5 points) Why do we first need to mean center the data before applying PCA?"
   ]
  },
  {
   "cell_type": "markdown",
   "metadata": {},
   "source": [
    "When we center the data first, it means that we will apply PCA on the covariance matrix of the original matrix. \n",
    "This will ensure that the principal components actually represent the maximum variance in the data. If we did not first mean center the data, the principal component would esentially represent the mean of the data, which is not what we are looking for. "
   ]
  },
  {
   "cell_type": "markdown",
   "metadata": {},
   "source": [
    "In practice, applying PCA comes down to a series of matrix operations, this is useful, as matrix operations can be applied with little effort and can be computed in relatively little time.\n",
    "\n",
    "The given data **X**, must first be mean centered. This can be easily done by calculating a row vector **μ** containing the mean values of each attribute and then subtracting it from **X** (**Y** = **X** - **1μ**, where **1** is a column vector of size **N** x 1, with N indicating the number of observations in the original data).\n",
    "\n",
    "Then, the Singular Value Decomposition, or SVD, of **Y**, the mean centered data, can be calculated. **Y** = **USV**<sup>T</sup>. In practice, this is often done using the numpy.linalg.svd() function.\n",
    "\n",
    "Using SVD on **Y** yields a series of vectors which can be used to project the data onto specific Principal Components (PCs). The entire dataset can be projected onto the Principal Components by multiplying **Z** = **Y\\*V**, where **Z** indicates the projected data. Alternatively, one could project onto just a subset of all the PCs by indexing in the multiplication. For example: **Z** = **Y\\*V[:,1]** would yield the projection of the data onto the first PC.\n",
    "\n",
    "> c. (1 point)  Apply PCA (using the aforementioned method) on the Nanonose data and visualize a scatterplot of the projection of the data onto the first two PCs."
   ]
  },
  {
   "cell_type": "code",
   "execution_count": null,
   "metadata": {},
   "outputs": [],
   "source": []
  },
  {
   "cell_type": "markdown",
   "metadata": {},
   "source": [
    "> d. (1 point) Alternatively, one could use EigenValue Decomposition, EVD, instead of SVD. What are the similarities and differences between SVD and EVD? Can both be applied in each case?"
   ]
  },
  {
   "cell_type": "markdown",
   "metadata": {},
   "source": [
    "*Double click to type your answer here*"
   ]
  },
  {
   "cell_type": "markdown",
   "metadata": {},
   "source": [
    "PCA attempts to explain as much of the variance in data with as few PCs as possible. The variance explained by each of the PCs **m** can be calculated using the following formula: \n",
    "$\\rho_m = 1 - \\frac{\\|{Y} - {u}_m s_{mm} {v}_m^T\\|^2_F}{\\|{Y}\\|^2_F} = \\frac{s_{mm}^2}{\\displaystyle \\sum_{m'=1}^M s^2_{m'm'}}$\n",
    "\n",
    "Which indicates that the variation $\\rho$ for a given **m** can be calculated by dividing the squared singular value of component **m** by the sum of all squared singular values. \n",
    "> e. (1 point) Calculate the row vector $\\rho$ containing all values of $\\rho$ for all PCs **m**. Create a bar plot with the variance explained on the Y axis and the number of the PC on the X axis. "
   ]
  },
  {
   "cell_type": "code",
   "execution_count": null,
   "metadata": {},
   "outputs": [],
   "source": []
  },
  {
   "cell_type": "markdown",
   "metadata": {},
   "source": [
    "> f. (0.5 points) How much of the variance is explained by the first three PCs?"
   ]
  },
  {
   "cell_type": "code",
   "execution_count": null,
   "metadata": {},
   "outputs": [],
   "source": []
  },
  {
   "cell_type": "markdown",
   "metadata": {},
   "source": [
    "*Double click to type your answer here*"
   ]
  },
  {
   "cell_type": "markdown",
   "metadata": {},
   "source": [
    "The columns of **V** indicate the exact projection of the data onto the PCs. In a way, a PC is nothing other than a linear combination of the original attributes. \n",
    "> g. (0.5 points) Which attributes are primarily represented by the first PC? What would cause an observation to have a large negative/positive projection onto the second principal component?"
   ]
  },
  {
   "cell_type": "code",
   "execution_count": null,
   "metadata": {},
   "outputs": [],
   "source": []
  },
  {
   "cell_type": "markdown",
   "metadata": {},
   "source": [
    "*Double click to type your answer here*"
   ]
  },
  {
   "cell_type": "markdown",
   "metadata": {},
   "source": [
    "## 1.3 Similarity measures\n",
    "\n",
    "We will use a subset of the data on wild faces described by Berg in 2005 transformed to a total\n",
    "of 1000 gray scale images of size 40x40 pixels, we will attempt to find faces in the\n",
    "data base that are the most similar to a given query face. To measure similarity we\n",
    "will consider the following measures: SMC, Jaccard, Cosine, ExtendedJaccard, and\n",
    "Correlation. These measures of similarity are described in *Introduction to Data Mining*, page 73-77 and are given by\n",
    "\n",
    "\\begin{eqnarray*}\n",
    "\\textrm{SMC}({x},{y}) & = & \\frac{\\textrm{Number of matching attribute values}}{\\textrm{Number of attributes}} \\\\\n",
    "\\textrm{Jaccard}({x},{y}) & = & \\frac{\\textrm{Number of matching presences}}{\\textrm{Number of attributes not involved in 00 matches}} \\\\\n",
    "\\textrm{Cosine}({x},{y}) & = & \\frac{{x}^T {y}}{\\|{x}\\| \\|{y}\\|} \\\\\n",
    "\\textrm{ExtendedJaccard}({x},{y}) & = & \\frac{{x}^T {y}}{\\|{x}\\|^2 + \\|{y}\\|^2 - {x}^T {y}} \\\\\n",
    "\\textrm{Correlation}({x},{y}) & = & \\frac{\\textrm{cov}({x},{y})}{\\textrm{std}({x}) \\textrm{std}({y})}\n",
    "\\end{eqnarray*}\n",
    "where $\\textrm{cov}({x},{y})$ denotes the covariance between ${x}$ and ${y}$ and $\\textrm{std}({x})$ denotes the standard deviation of ${x}$.\n",
    "\n",
    "Notice that the SMC and Jaccard similarity measures only are defined for binary\n",
    "data, i.e., data that takes values in $\\{0,1\\}$. As the data we analyze is non-binary,\n",
    "we will transform the data to be binary when calculating these two measures of\n",
    "similarity by setting\n",
    "$x_i = \\left\\{ \\begin{array}{ll} 0 & \\textrm{if~} x_i < \\textrm{median}({x}) \\\\\n",
    "                                1 & \\textrm{otherwise.} \\end{array} \\right.$\n",
    "                                \n",
    "### 1.3.1\n",
    "> (0.5 points) Inspect and run the simfaces function from the Toolbox. The function loads the CBCL face database, computes the similarity between a selected query image and all others, and display the query image, the 5 most similar images, and the 5 least similar images. The value of the used similarity measure is shown below each image. Try changing the query image and the similarity measure and see what happens. Which similarity measures produce similar results? Which one gives the best result? Why?\n",
    "\n",
    "> Give a quick overview of the settings (image number and similarity measure) for each time you run the script! Remember to leave all results open!\n",
    "\n"
   ]
  },
  {
   "cell_type": "code",
   "execution_count": 21,
   "metadata": {},
   "outputs": [
    {
     "data": {
      "image/png": "[encoded data removed]",
      "text/plain": [
       "<Figure size 864x576 with 11 Axes>"
      ]
     },
     "metadata": {},
     "output_type": "display_data"
    }
   ],
   "source": [
    "from Toolbox.simfaces import simfaces\n",
    " \n",
    "simfaces(3,'smc')"
   ]
  },
  {
   "cell_type": "markdown",
   "metadata": {},
   "source": [
    "For image 1, smc and Jaccard gave the same most similar images, but different least similar images.\n",
    "All the other measures gave different results.\n",
    "None of the measures produce particularly good results.\n",
    "\n",
    "For image 2, smc and Jaccard gave entirely different results. All the other measures gave different results, none of which make much sense of first look. SMC gave the most accurate results, likely because the query image is relatively dark, and the images that are also pretty dark are easily found by finding the darkest images.\n",
    "\n",
    "Image 3 is very light, and smc and Jaccard again gave similar results. Cosine and correlation gave different results.\n",
    "All measures except ExtendedJaccard gave good results, because the input image has a lot of white."
   ]
  },
  {
   "cell_type": "markdown",
   "metadata": {},
   "source": [
    "\n",
    "> (0.75 points) We will investigate how scaling and translation impact the following three\n",
    "similarity measures: Cosine, ExtendedJaccard, and Correlation. Let $\\alpha$ and $\\beta$ be two constants. Using Python, calculate the following similarity measures, and check if the statements below are correct.\n",
    "\n",
    "\\begin{eqnarray*}\n",
    "\\textrm{Cosine}(\\alpha{x},{y}) & = & \\textrm{Cosine}({x},{y}) \\\\\n",
    "\\textrm{ExtendedJaccard}(\\alpha{x},{y}) & = & \\textrm{ExtendedJaccard}({x},{y}) \\\\\n",
    "\\textrm{Correlation}(\\alpha{x},{y}) & = & \\textrm{Correlation}({x},{y}) \\\\\n",
    "\\textrm{Cosine}(\\beta + {x},{y}) & = & \\textrm{Cosine}({x},{y}) \\\\\n",
    "\\textrm{ExtendedJaccard}(\\beta + {x},{y}) & = & \\textrm{ExtendedJaccard}({x},{y}) \\\\\n",
    "\\textrm{Correlation}(\\beta + {x},{y}) & = & \\textrm{Correlation}({x},{y})\n",
    "\\end{eqnarray*}\n",
    "\n",
    "> Type help similarity, or study similarity.py, to learn about the function that is used to compute the similarity measures. Do not forget to also import similarity.py!\n",
    "\n",
    "> Even though a similarity measure is theoretically invariant e.g.\\ to scaling, it might not be exactly invariant numerically.\n",
    "\n",
    "> Do not forget to also provide an explanation in addition to the calculations!\n"
   ]
  },
  {
   "cell_type": "code",
   "execution_count": 33,
   "metadata": {},
   "outputs": [
    {
     "name": "stdout",
     "output_type": "stream",
     "text": [
      "SMC is equal for alpha = 1\n",
      "\n",
      "Jaccard is equal for alpha = 1\n",
      "\n",
      "Extended Jaccard is equal for beta = 1\n",
      "\n",
      "Cosine is equal for beta = 1\n",
      "\n",
      "SMC is equal for alpha = 2\n",
      "\n",
      "Jaccard is equal for alpha = 2\n",
      "\n",
      "Extended Jaccard is equal for beta = 2\n",
      "\n",
      "Cosine is equal for beta = 2\n",
      "\n",
      "SMC is equal for alpha = 3\n",
      "\n",
      "Jaccard is equal for alpha = 3\n",
      "\n",
      "Extended Jaccard is equal for beta = 3\n",
      "\n",
      "Cosine is equal for beta = 3\n",
      "\n",
      "SMC is equal for alpha = 4\n",
      "\n",
      "Jaccard is equal for alpha = 4\n",
      "\n",
      "Extended Jaccard is equal for beta = 4\n",
      "\n",
      "Cosine is equal for beta = 4\n",
      "\n",
      "SMC is equal for alpha = 5\n",
      "\n",
      "Jaccard is equal for alpha = 5\n",
      "\n",
      "Extended Jaccard is equal for beta = 5\n",
      "\n",
      "Cosine is equal for beta = 5\n",
      "\n",
      "SMC is equal for alpha = 6\n",
      "\n",
      "Jaccard is equal for alpha = 6\n",
      "\n",
      "Extended Jaccard is equal for beta = 6\n",
      "\n",
      "Cosine is equal for beta = 6\n",
      "\n",
      "SMC is equal for alpha = 7\n",
      "\n",
      "Jaccard is equal for alpha = 7\n",
      "\n",
      "Extended Jaccard is equal for beta = 7\n",
      "\n",
      "Cosine is equal for beta = 7\n",
      "\n",
      "SMC is equal for alpha = 8\n",
      "\n",
      "Jaccard is equal for alpha = 8\n",
      "\n",
      "Extended Jaccard is equal for beta = 8\n",
      "\n",
      "Cosine is equal for beta = 8\n",
      "\n",
      "SMC is equal for alpha = 9\n",
      "\n",
      "Jaccard is equal for alpha = 9\n",
      "\n",
      "Extended Jaccard is equal for beta = 9\n",
      "\n",
      "Cosine is equal for beta = 9\n",
      "\n"
     ]
    }
   ],
   "source": [
    "import random\n",
    "from Toolbox.similarity import similarity\n",
    "\n",
    "#Test with values for alpha and beta between 1 and 10\n",
    "#Choose x and y random between 0 and 100\n",
    "\n",
    "x = random.randint(0,100)\n",
    "y = random.randint(0,100)\n",
    "similarities = [\"smc\",\"jac\",\"ext\",\"cos\",\"cor\"]\n",
    "\n",
    "for i in range(1,10):\n",
    "    if (similarity(i * x, y, \"smc\") == similarity(x,y, \"smc\")):\n",
    "        print(\"SMC is equal for alpha = \" + str(i) + \"\\n\")\n",
    "    if (similarity(i * x, y, \"jac\") == similarity(x,y, \"jac\")):\n",
    "        print(\"Jaccard is equal for alpha = \" + str(i) + \"\\n\")\n",
    "    if (similarity(i * x, y, \"cor\") == similarity(x,y, \"cor\")):\n",
    "        print(\"Correclation is equal for alpha = \" + str(i) + \"\\n\")\n",
    "    if (similarity(i + x, y, \"ext\") == similarity(x,y, \"ext\")):\n",
    "        print(\"Extended Jaccard is equal for beta = \" + str(i) + \"\\n\")\n",
    "    if (similarity(i + x, y, \"cos\") == similarity(x,y, \"cos\")):\n",
    "        print(\"Cosine is equal for beta = \" + str(i) + \"\\n\")"
   ]
  },
  {
   "cell_type": "markdown",
   "metadata": {},
   "source": [
    "By the python computations, we can see that all similarity measures except correlation are invariant to scaling."
   ]
  },
  {
   "cell_type": "markdown",
   "metadata": {},
   "source": [
    "## Turning in the Jupyter Notebook\n",
    "Do not forget to read the provided guidelines regarding the expectations and grading of your report. You can find these on Blackboard!"
   ]
  },
  {
   "cell_type": "markdown",
   "metadata": {},
   "source": [
    "## References\n",
    "[1] Tommy S Alstrøm, Jan Larsen, Claus H Nielsen, and Niels B Larsen. Data-driven\n",
    "modeling of nano-nose gas sensor arrays. In SPIE Defense, Security, and Sensing,\n",
    "pages 76970U\u001576970U. International Society for Optics and Photonics, 2010. URL\n",
    "http://www.nanonose.dk."
   ]
  }
 ],
 "metadata": {
  "kernelspec": {
   "display_name": "Python 3",
   "language": "python",
   "name": "python3"
  },
  "language_info": {
   "codemirror_mode": {
    "name": "ipython",
    "version": 3
   },
   "file_extension": ".py",
   "mimetype": "text/x-python",
   "name": "python",
   "nbconvert_exporter": "python",
   "pygments_lexer": "ipython3",
   "version": "3.7.3"
  }
 },
 "nbformat": 4,
 "nbformat_minor": 2
}
