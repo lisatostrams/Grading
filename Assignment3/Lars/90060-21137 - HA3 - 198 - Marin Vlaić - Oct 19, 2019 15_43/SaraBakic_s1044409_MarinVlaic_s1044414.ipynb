{
 "cells": [
  {
   "cell_type": "markdown",
   "metadata": {},
   "source": [
    "# Assignment 3\n",
    "\n",
    "## Objective of this assignment\n",
    "The objective of this exercise is to become familiar with fitting decision trees and\n",
    "making ROC curves in Python.\n",
    "\n",
    "\n",
    "## ** Important: ** When handing in your homework:\n",
    "+ Hand in the notebook **(and nothing else)** named as follows: StudentName1_snumber_StudentName2_snumber.ipynb\n",
    "+ Provide clear and complete answers to the questions below under a separate header (not hidden somewhere in your source code), and make sure to explain your answers / motivate your choices. Add Markdown cells where necessary.\n",
    "+ Source code, output graphs, derivations, etc., should be included in the notebook.\n",
    "+ Hand-in: upload to Brightspace.\n",
    "+ Include name, student number, assignment (especially in filenames)!\n",
    "+ When working in pairs only one of you should upload the assignment, and report the name of your partner in your filename.\n",
    "+ Use the Brightspace discussion board or email the student assistants for questions on how to complete the exercises.\n",
    "+ If you find mistakes/have suggestions/would like to complain about the assigment material itself, please email me [Lisa] at `l.tostrams@science.ru.nl`\n",
    "\n",
    "\n",
    "## Advised Reading and Exercise Material\n",
    "**The following reading material is recommended:**\n",
    "\n",
    "Pang-Ning Tan, Michael Steinbach, and Vipin Kumar, Introduction to Data Mining, section 4.1-4.6, as well as the included article on ROC curves.\n"
   ]
  },
  {
   "cell_type": "markdown",
   "metadata": {},
   "source": [
    "## 3.1 Decision trees\n",
    "\n",
    "In this part of the exercise we will fit decision trees using the scikitlearn classifier\n",
    "`sklearn.tree.DecisionTreeClassifier`. As a splitting criterion, the function uses\n",
    "one of the following two impurity measures:\n",
    "\n",
    "\\begin{equation} \\textrm{gdi}(t) = -\\sum_{i=1}^C p(i|t)^2 \\quad \\text{       equivalent to Gini(t)} \\end{equation}   \n",
    "\n",
    "\\begin{equation}\n",
    "\\textrm{deviance}(t) = -2\\sum_{i=1}^C p(i|t) \\log p(i|t) \\quad \\text{equivalent to Entropy(t)} \n",
    "\\end{equation}\n",
    "\n",
    "We will analyze the wine data we have used previously. The wine data set has the following attributes, all of which are continuous: \n",
    "\n",
    "\n",
    "| #             | Attribute     | Unit  |\n",
    "| ------------- |:-------------| -----:|\n",
    "|1 | Fixed acidity (tartaric) | g/dm$^3$ |\n",
    "|2 | Volatile acidity (acetic) | g/dm$^3$ |\n",
    "|3 | Citric acid | g/dm$^3$ |\n",
    "|4 | Residual sugar | g/dm$^3$ |\n",
    "|5 | Chlorides | g/dm$^3$ |\n",
    "|6 | Free sulfur dioxide | mg/dm$^3$ |\n",
    "|7 | Total sulfur dioxide | mg/dm$^3$ |\n",
    "|8 | Density | g/cm$^3$ |\n",
    "|9 | pH | pH |\n",
    "|10 | Sulphates | g/dm$^3$ |\n",
    "|11 | Alcohol | % vol. | \n",
    "\n",
    "\n",
    "#### 3.1.1\n",
    "(0.5 pts) Load the wine data set `Data/wine.mat` using the `scipy.io` `loadmat` function. This contains the same data as used in the earlier assignment, but with outliers and the 12th attribute already removed. Create data matrix $X$, class vector $y$, and the lists $attributeNames$ and $classNames$ with the data provided in the `wine.mat` file. Print out the  $attributeNames$ and $classNames$ to make sure it's a list of strings.\n",
    "\n",
    "   ** hints: **   \n",
    "*The object in wine.mat is a dictionary. The attributes are stored in matrix $X$, the class in vector $y$. $y$ is shaped as an array containing single element arrays. To flatten $y$, you can use `y.ravel()`, which unravels matrices into a 1d array. Attribute names and class names are stored in the attributeNames and classNames objects, which contain arrays, of which the first element contains the names. To get the names from those arrays, you can use list comprehension or for-loops. For more on list comprehension, check https://www.digitalocean.com/community/tutorials/understanding-list-comprehensions-in-python-3. For example, if you have an larger array containing nested arrays of which you want the first element, you can try `new_array = [nested_array[0] for nested_array in larger_array]`.*\n",
    "\n"
   ]
  },
  {
   "cell_type": "code",
   "execution_count": 1,
   "metadata": {
    "pycharm": {
     "is_executing": false
    }
   },
   "outputs": [],
   "source": [
    "import numpy as np\n",
    "import scipy.io\n",
    "from matplotlib import pyplot as plt\n",
    "from sklearn import tree\n",
    "import sklearn\n",
    "from Ass3.Assignment_3.Toolbox import treeprint\n",
    "from sklearn import metrics"
   ]
  },
  {
   "cell_type": "code",
   "execution_count": 2,
   "metadata": {
    "pycharm": {
     "is_executing": false,
     "name": "#%%\n"
    }
   },
   "outputs": [
    {
     "name": "stdout",
     "output_type": "stream",
     "text": [
      "['Fixed acidity' 'Volatile acidity' 'Citric acid' 'Residual sugar'\n",
      " 'Chlorides' 'Free sulfur dioxide' 'Total sulfur dioxide' 'Density' 'pH'\n",
      " 'Sulphates' 'Alcohol']\n",
      "['Red' 'White']\n"
     ]
    }
   ],
   "source": [
    "data = scipy.io.loadmat(\"Data/wine.mat\")\n",
    "x = data[\"X\"]\n",
    "y = data[\"y\"]\n",
    "attNames = data[\"attributeNames\"]\n",
    "classNames = data[\"classNames\"]\n",
    "\n",
    "y = y.ravel()\n",
    "\n",
    "attNames = np.array([att[0] for att in attNames[0]])\n",
    "classNames = np.array([classNames[0][0][0], classNames[1][0][0]])\n",
    "\n",
    "print(attNames)\n",
    "print(classNames)"
   ]
  },
  {
   "cell_type": "markdown",
   "metadata": {},
   "source": [
    "#### 3.1.2\n",
    " (1.5 pts) Fit a decision tree to the wine data in order to estimate if the wine is red or white. Use the Gini (gdi) splitting criterion. Use `min_samples_split=100` for the stopping criterion. Explain what happens when you change the values of the parameter `min_samples_split`. After fitting the tree, visualize it with the tree_print function in `treeprint.py` in the Toolbox folder. \n",
    "\n",
    "** hints: **   \n",
    "*The `treeprint.py` file contains some documentation on how to use it. Helpfull documentation for the DecisionTreeClassifier function can be found at * http://scikit-learn.org/stable/modules/tree.html#classification  \n",
    "\n"
   ]
  },
  {
   "cell_type": "code",
   "execution_count": 3,
   "metadata": {
    "pycharm": {
     "is_executing": false
    },
    "scrolled": false
   },
   "outputs": [
    {
     "name": "stdout",
     "output_type": "stream",
     "text": [
      "         |->3  White\n",
      "         |\n",
      "      |->2 then if Sulphates =< 0.56: go to 3, else go to 4\n",
      "      |  |\n",
      "      |  |->4  White\n",
      "      |\n",
      "   |->1 then if Chlorides =< 0.05: go to 2, else go to 5\n",
      "   |  |\n",
      "   |  |  |->6  White\n",
      "   |  |  |\n",
      "   |  |->5 else if Sulphates =< 0.37: go to 6, else go to 7\n",
      "   |     |\n",
      "   |     |  |->8  White\n",
      "   |     |  |\n",
      "   |     |->7 else if Density =< 0.99: go to 8, else go to 9\n",
      "   |        |\n",
      "   |        |     |->11  White\n",
      "   |        |     |\n",
      "   |        |  |->10 then if Residual sugar =< 1.10: go to 11, else go to 12\n",
      "   |        |  |  |\n",
      "   |        |  |  |  |->13  Red\n",
      "   |        |  |  |  |\n",
      "   |        |  |  |->12 else if Density =< 0.99: go to 13, else go to 14\n",
      "   |        |  |     |\n",
      "   |        |  |     |  |->15  Red\n",
      "   |        |  |     |  |\n",
      "   |        |  |     |->14 else if Chlorides =< 0.05: go to 15, else go to 16\n",
      "   |        |  |        |\n",
      "   |        |  |        |  |->17  Red\n",
      "   |        |  |        |  |\n",
      "   |        |  |        |->16 else if Sulphates =< 0.45: go to 17, else go to 18\n",
      "   |        |  |           |\n",
      "   |        |  |           |->18  Red\n",
      "   |        |  |\n",
      "   |        |->9 else if Residual sugar =< 10.70: go to 10, else go to 19\n",
      "   |           |\n",
      "   |           |->19  White\n",
      "   |\n",
      "if Total sulfur dioxide =< 66.50: go to 1, else go to 20\n",
      "   |\n",
      "   |                 |->26  Red\n",
      "   |                 |\n",
      "   |              |->25 then if Chlorides =< 0.01: go to 26, else go to 27\n",
      "   |              |  |\n",
      "   |              |  |        |->30  White\n",
      "   |              |  |        |\n",
      "   |              |  |     |->29 then if Citric acid =< 0.10: go to 30, else go to 31\n",
      "   |              |  |     |  |\n",
      "   |              |  |     |  |  |->32  White\n",
      "   |              |  |     |  |  |\n",
      "   |              |  |     |  |->31 else if Total sulfur dioxide =< 72.50: go to 32, else go to 33\n",
      "   |              |  |     |     |\n",
      "   |              |  |     |     |  |->34  White\n",
      "   |              |  |     |     |  |\n",
      "   |              |  |     |     |->33 else if Residual sugar =< 0.92: go to 34, else go to 35\n",
      "   |              |  |     |        |\n",
      "   |              |  |     |        |        |->38  White\n",
      "   |              |  |     |        |        |\n",
      "   |              |  |     |        |     |->37 then if Free sulfur dioxide =< 6.50: go to 38, else go to 39\n",
      "   |              |  |     |        |     |  |\n",
      "   |              |  |     |        |     |  |        |->42  White\n",
      "   |              |  |     |        |     |  |        |\n",
      "   |              |  |     |        |     |  |     |->41 then if pH =< 3.31: go to 42, else go to 43\n",
      "   |              |  |     |        |     |  |     |  |\n",
      "   |              |  |     |        |     |  |     |  |->43  White\n",
      "   |              |  |     |        |     |  |     |\n",
      "   |              |  |     |        |     |  |  |->40 then if Citric acid =< 0.23: go to 41, else go to 44\n",
      "   |              |  |     |        |     |  |  |  |\n",
      "   |              |  |     |        |     |  |  |  |->44  White\n",
      "   |              |  |     |        |     |  |  |\n",
      "   |              |  |     |        |     |  |->39 else if Sulphates =< 0.75: go to 40, else go to 45\n",
      "   |              |  |     |        |     |     |\n",
      "   |              |  |     |        |     |     |->45  White\n",
      "   |              |  |     |        |     |\n",
      "   |              |  |     |        |  |->36 then if Alcohol =< 13.58: go to 37, else go to 46\n",
      "   |              |  |     |        |  |  |\n",
      "   |              |  |     |        |  |  |->46  White\n",
      "   |              |  |     |        |  |\n",
      "   |              |  |     |        |->35 else if Sulphates =< 0.78: go to 36, else go to 47\n",
      "   |              |  |     |           |\n",
      "   |              |  |     |           |->47  White\n",
      "   |              |  |     |\n",
      "   |              |  |  |->28 then if Total sulfur dioxide =< 275.00: go to 29, else go to 48\n",
      "   |              |  |  |  |\n",
      "   |              |  |  |  |->48  White\n",
      "   |              |  |  |\n",
      "   |              |  |->27 else if Sulphates =< 0.81: go to 28, else go to 49\n",
      "   |              |     |\n",
      "   |              |     |->49  White\n",
      "   |              |\n",
      "   |           |->24 then if pH =< 3.83: go to 25, else go to 50\n",
      "   |           |  |\n",
      "   |           |  |->50  Red\n",
      "   |           |\n",
      "   |        |->23 then if Chlorides =< 0.07: go to 24, else go to 51\n",
      "   |        |  |\n",
      "   |        |  |->51  White\n",
      "   |        |\n",
      "   |     |->22 then if Sulphates =< 1.12: go to 23, else go to 52\n",
      "   |     |  |\n",
      "   |     |  |->52  Red\n",
      "   |     |\n",
      "   |  |->21 then if Volatile acidity =< 0.82: go to 22, else go to 53\n",
      "   |  |  |\n",
      "   |  |  |->53  Red\n",
      "   |  |\n",
      "   |->20 else if Chlorides =< 0.07: go to 21, else go to 54\n",
      "      |\n",
      "      |     |->56  Red\n",
      "      |     |\n",
      "      |  |->55 then if Citric acid =< 0.06: go to 56, else go to 57\n",
      "      |  |  |\n",
      "      |  |  |  |->58  Red\n",
      "      |  |  |  |\n",
      "      |  |  |->57 else if Chlorides =< 0.07: go to 58, else go to 59\n",
      "      |  |     |\n",
      "      |  |     |  |->60  Red\n",
      "      |  |     |  |\n",
      "      |  |     |->59 else if Total sulfur dioxide =< 68.50: go to 60, else go to 61\n",
      "      |  |        |\n",
      "      |  |        |  |->62  White\n",
      "      |  |        |  |\n",
      "      |  |        |->61 else if Fixed acidity =< 9.95: go to 62, else go to 63\n",
      "      |  |           |\n",
      "      |  |           |->63  Red\n",
      "      |  |\n",
      "      |->54 else if Density =< 1.00: go to 55, else go to 64\n",
      "         |\n",
      "         |        |->67  White\n",
      "         |        |\n",
      "         |     |->66 then if Volatile acidity =< 0.23: go to 67, else go to 68\n",
      "         |     |  |\n",
      "         |     |  |->68  Red\n",
      "         |     |\n",
      "         |  |->65 then if Total sulfur dioxide =< 157.50: go to 66, else go to 69\n",
      "         |  |  |\n",
      "         |  |  |->69  White\n",
      "         |  |\n",
      "         |->64 else if Residual sugar =< 6.25: go to 65, else go to 70\n",
      "            |\n",
      "            |->70  White\n",
      "<---------------------------------------------------------------------------------------->\n",
      "Tree Depth:  18\n"
     ]
    }
   ],
   "source": [
    "classifier = tree.DecisionTreeClassifier(criterion=\"gini\", min_samples_split=100)\n",
    "classifier = classifier.fit(x, y)\n",
    "\n",
    "treeprint.tree_print(classifier, attNames, classNames)"
   ]
  },
  {
   "cell_type": "code",
   "execution_count": 4,
   "metadata": {
    "pycharm": {
     "is_executing": false,
     "name": "#%%\n"
    }
   },
   "outputs": [
    {
     "name": "stdout",
     "output_type": "stream",
     "text": [
      "            |->4  White\n",
      "            |\n",
      "         |->3 then if Volatile acidity =< 0.66: go to 4, else go to 5\n",
      "         |  |\n",
      "         |  |->5  Red\n",
      "         |\n",
      "      |->2 then if Sulphates =< 0.56: go to 3, else go to 6\n",
      "      |  |\n",
      "      |  |     |->8  Red\n",
      "      |  |     |\n",
      "      |  |  |->7 then if Total sulfur dioxide =< 45.00: go to 8, else go to 9\n",
      "      |  |  |  |\n",
      "      |  |  |  |->9  White\n",
      "      |  |  |\n",
      "      |  |->6 else if Chlorides =< 0.04: go to 7, else go to 10\n",
      "      |     |\n",
      "      |     |  |->11  White\n",
      "      |     |  |\n",
      "      |     |->10 else if Alcohol =< 10.60: go to 11, else go to 12\n",
      "      |        |\n",
      "      |        |->12  Red\n",
      "      |\n",
      "   |->1 then if Chlorides =< 0.05: go to 2, else go to 13\n",
      "   |  |\n",
      "   |  |  |->14  White\n",
      "   |  |  |\n",
      "   |  |->13 else if Sulphates =< 0.37: go to 14, else go to 15\n",
      "   |     |\n",
      "   |     |  |->16  White\n",
      "   |     |  |\n",
      "   |     |->15 else if Density =< 0.99: go to 16, else go to 17\n",
      "   |        |\n",
      "   |        |     |->19  White\n",
      "   |        |     |\n",
      "   |        |  |->18 then if Residual sugar =< 1.10: go to 19, else go to 20\n",
      "   |        |  |  |\n",
      "   |        |  |  |     |->22  Red\n",
      "   |        |  |  |     |\n",
      "   |        |  |  |  |->21 then if Citric acid =< 0.37: go to 22, else go to 23\n",
      "   |        |  |  |  |  |\n",
      "   |        |  |  |  |  |->23  White\n",
      "   |        |  |  |  |\n",
      "   |        |  |  |->20 else if Density =< 0.99: go to 21, else go to 24\n",
      "   |        |  |     |\n",
      "   |        |  |     |        |->27  Red\n",
      "   |        |  |     |        |\n",
      "   |        |  |     |     |->26 then if Residual sugar =< 2.75: go to 27, else go to 28\n",
      "   |        |  |     |     |  |\n",
      "   |        |  |     |     |  |->28  Red\n",
      "   |        |  |     |     |\n",
      "   |        |  |     |  |->25 then if Total sulfur dioxide =< 64.50: go to 26, else go to 29\n",
      "   |        |  |     |  |  |\n",
      "   |        |  |     |  |  |->29  White\n",
      "   |        |  |     |  |\n",
      "   |        |  |     |->24 else if Chlorides =< 0.05: go to 25, else go to 30\n",
      "   |        |  |        |\n",
      "   |        |  |        |     |->32  White\n",
      "   |        |  |        |     |\n",
      "   |        |  |        |  |->31 then if Volatile acidity =< 0.29: go to 32, else go to 33\n",
      "   |        |  |        |  |  |\n",
      "   |        |  |        |  |  |->33  Red\n",
      "   |        |  |        |  |\n",
      "   |        |  |        |->30 else if Sulphates =< 0.45: go to 31, else go to 34\n",
      "   |        |  |           |\n",
      "   |        |  |           |->34  Red\n",
      "   |        |  |\n",
      "   |        |->17 else if Residual sugar =< 10.70: go to 18, else go to 35\n",
      "   |           |\n",
      "   |           |->35  White\n",
      "   |\n",
      "if Total sulfur dioxide =< 66.50: go to 1, else go to 36\n",
      "   |\n",
      "   |                 |->42  Red\n",
      "   |                 |\n",
      "   |              |->41 then if Chlorides =< 0.01: go to 42, else go to 43\n",
      "   |              |  |\n",
      "   |              |  |              |->48  White\n",
      "   |              |  |              |\n",
      "   |              |  |           |->47 then if Chlorides =< 0.05: go to 48, else go to 49\n",
      "   |              |  |           |  |\n",
      "   |              |  |           |  |  |->50  Red\n",
      "   |              |  |           |  |  |\n",
      "   |              |  |           |  |->49 else if Chlorides =< 0.05: go to 50, else go to 51\n",
      "   |              |  |           |     |\n",
      "   |              |  |           |     |  |->52  White\n",
      "   |              |  |           |     |  |\n",
      "   |              |  |           |     |->51 else if Alcohol =< 11.50: go to 52, else go to 53\n",
      "   |              |  |           |        |\n",
      "   |              |  |           |        |->53  Red\n",
      "   |              |  |           |\n",
      "   |              |  |        |->46 then if Alcohol =< 12.70: go to 47, else go to 54\n",
      "   |              |  |        |  |\n",
      "   |              |  |        |  |->54  Red\n",
      "   |              |  |        |\n",
      "   |              |  |     |->45 then if Citric acid =< 0.10: go to 46, else go to 55\n",
      "   |              |  |     |  |\n",
      "   |              |  |     |  |        |->58  White\n",
      "   |              |  |     |  |        |\n",
      "   |              |  |     |  |     |->57 then if Volatile acidity =< 0.56: go to 58, else go to 59\n",
      "   |              |  |     |  |     |  |\n",
      "   |              |  |     |  |     |  |->59  Red\n",
      "   |              |  |     |  |     |\n",
      "   |              |  |     |  |  |->56 then if Chlorides =< 0.06: go to 57, else go to 60\n",
      "   |              |  |     |  |  |  |\n",
      "   |              |  |     |  |  |  |->60  Red\n",
      "   |              |  |     |  |  |\n",
      "   |              |  |     |  |->55 else if Total sulfur dioxide =< 72.50: go to 56, else go to 61\n",
      "   |              |  |     |     |\n",
      "   |              |  |     |     |     |->63  White\n",
      "   |              |  |     |     |     |\n",
      "   |              |  |     |     |  |->62 then if Alcohol =< 12.60: go to 63, else go to 64\n",
      "   |              |  |     |     |  |  |\n",
      "   |              |  |     |     |  |  |->64  Red\n",
      "   |              |  |     |     |  |\n",
      "   |              |  |     |     |->61 else if Residual sugar =< 0.92: go to 62, else go to 65\n",
      "   |              |  |     |        |\n",
      "   |              |  |     |        |           |->69  White\n",
      "   |              |  |     |        |           |\n",
      "   |              |  |     |        |        |->68 then if Residual sugar =< 11.95: go to 69, else go to 70\n",
      "   |              |  |     |        |        |  |\n",
      "   |              |  |     |        |        |  |->70  White\n",
      "   |              |  |     |        |        |\n",
      "   |              |  |     |        |     |->67 then if Free sulfur dioxide =< 6.50: go to 68, else go to 71\n",
      "   |              |  |     |        |     |  |\n",
      "   |              |  |     |        |     |  |        |->74  White\n",
      "   |              |  |     |        |     |  |        |\n",
      "   |              |  |     |        |     |  |     |->73 then if pH =< 3.31: go to 74, else go to 75\n",
      "   |              |  |     |        |     |  |     |  |\n",
      "   |              |  |     |        |     |  |     |  |     |->77  White\n",
      "   |              |  |     |        |     |  |     |  |     |\n",
      "   |              |  |     |        |     |  |     |  |  |->76 then if Fixed acidity =< 6.45: go to 77, else go to 78\n",
      "   |              |  |     |        |     |  |     |  |  |  |\n",
      "   |              |  |     |        |     |  |     |  |  |  |  |->79  Red\n",
      "   |              |  |     |        |     |  |     |  |  |  |  |\n",
      "   |              |  |     |        |     |  |     |  |  |  |->78 else if Total sulfur dioxide =< 96.00: go to 79, else go to 80\n",
      "   |              |  |     |        |     |  |     |  |  |     |\n",
      "   |              |  |     |        |     |  |     |  |  |     |->80  White\n",
      "   |              |  |     |        |     |  |     |  |  |\n",
      "   |              |  |     |        |     |  |     |  |->75 else if Free sulfur dioxide =< 54.00: go to 76, else go to 81\n",
      "   |              |  |     |        |     |  |     |     |\n",
      "   |              |  |     |        |     |  |     |     |->81  White\n",
      "   |              |  |     |        |     |  |     |\n",
      "   |              |  |     |        |     |  |  |->72 then if Citric acid =< 0.23: go to 73, else go to 82\n",
      "   |              |  |     |        |     |  |  |  |\n",
      "   |              |  |     |        |     |  |  |  |->82  White\n",
      "   |              |  |     |        |     |  |  |\n",
      "   |              |  |     |        |     |  |->71 else if Sulphates =< 0.75: go to 72, else go to 83\n",
      "   |              |  |     |        |     |     |\n",
      "   |              |  |     |        |     |     |  |->84  White\n",
      "   |              |  |     |        |     |     |  |\n",
      "   |              |  |     |        |     |     |->83 else if Chlorides =< 0.06: go to 84, else go to 85\n",
      "   |              |  |     |        |     |        |\n",
      "   |              |  |     |        |     |        |->85  Red\n",
      "   |              |  |     |        |     |\n",
      "   |              |  |     |        |  |->66 then if Alcohol =< 13.58: go to 67, else go to 86\n",
      "   |              |  |     |        |  |  |\n",
      "   |              |  |     |        |  |  |  |->87  White\n",
      "   |              |  |     |        |  |  |  |\n",
      "   |              |  |     |        |  |  |->86 else if Citric acid =< 0.48: go to 87, else go to 88\n",
      "   |              |  |     |        |  |     |\n",
      "   |              |  |     |        |  |     |->88  Red\n",
      "   |              |  |     |        |  |\n",
      "   |              |  |     |        |->65 else if Sulphates =< 0.78: go to 66, else go to 89\n",
      "   |              |  |     |           |\n",
      "   |              |  |     |           |  |->90  Red\n",
      "   |              |  |     |           |  |\n",
      "   |              |  |     |           |->89 else if Total sulfur dioxide =< 82.50: go to 90, else go to 91\n",
      "   |              |  |     |              |\n",
      "   |              |  |     |              |->91  White\n",
      "   |              |  |     |\n",
      "   |              |  |  |->44 then if Total sulfur dioxide =< 275.00: go to 45, else go to 92\n",
      "   |              |  |  |  |\n",
      "   |              |  |  |  |->92  White\n",
      "   |              |  |  |\n",
      "   |              |  |->43 else if Sulphates =< 0.81: go to 44, else go to 93\n",
      "   |              |     |\n",
      "   |              |     |     |->95  White\n",
      "   |              |     |     |\n",
      "   |              |     |  |->94 then if Volatile acidity =< 0.18: go to 95, else go to 96\n",
      "   |              |     |  |  |\n",
      "   |              |     |  |  |->96  Red\n",
      "   |              |     |  |\n",
      "   |              |     |->93 else if Total sulfur dioxide =< 89.50: go to 94, else go to 97\n",
      "   |              |        |\n",
      "   |              |        |  |->98  White\n",
      "   |              |        |  |\n",
      "   |              |        |->97 else if Total sulfur dioxide =< 101.50: go to 98, else go to 99\n",
      "   |              |           |\n",
      "   |              |           |->99  White\n",
      "   |              |\n",
      "   |           |->40 then if pH =< 3.83: go to 41, else go to 100\n",
      "   |           |  |\n",
      "   |           |  |->100  Red\n",
      "   |           |\n",
      "   |        |->39 then if Chlorides =< 0.07: go to 40, else go to 101\n",
      "   |        |  |\n",
      "   |        |  |-  |->102  Red\n",
      "   |        |  |-  |\n",
      "   |        |  |->101 else if Total sulfur dioxide =< 81.50: go to 102, else go to 103\n",
      "   |        |  |   |\n",
      "   |        |  |   |-  |   |->105  White\n",
      "   |        |  |   |-  |   |\n",
      "   |        |  |   |-  |->104 then if Volatile acidity =< 0.54: go to 105, else go to 106\n",
      "   |        |  |   |-  |-  |\n",
      "   |        |  |   |-  |-  |->106  White\n",
      "   |        |  |   |-  |\n",
      "   |        |  |   |->103 else if Alcohol =< 10.25: go to 104, else go to 107\n",
      "   |        |  |   |   |\n",
      "   |        |  |   |   |->107  White\n",
      "   |        |\n",
      "   |     |->38 then if Sulphates =< 1.12: go to 39, else go to 108\n",
      "   |     |  |\n",
      "   |     |  |->108  Red\n",
      "   |     |\n",
      "   |  |->37 then if Volatile acidity =< 0.82: go to 38, else go to 109\n",
      "   |  |  |\n",
      "   |  |  |-  |->110  Red\n",
      "   |  |  |-  |\n",
      "   |  |  |->109 else if Total sulfur dioxide =< 102.50: go to 110, else go to 111\n",
      "   |  |  |   |\n",
      "   |  |  |   |->111  White\n",
      "   |  |\n",
      "   |->36 else if Chlorides =< 0.07: go to 37, else go to 112\n",
      "      |\n",
      "      |-  |   |->114  Red\n",
      "      |-  |   |\n",
      "      |-  |->113 then if Citric acid =< 0.06: go to 114, else go to 115\n",
      "      |-  |-  |\n",
      "      |-  |-  |-  |->116  Red\n",
      "      |-  |-  |-  |\n",
      "      |-  |-  |->115 else if Chlorides =< 0.07: go to 116, else go to 117\n",
      "      |-  |-  |   |\n",
      "      |-  |-  |   |-  |->118  Red\n",
      "      |-  |-  |   |-  |\n",
      "      |-  |-  |   |->117 else if Total sulfur dioxide =< 68.50: go to 118, else go to 119\n",
      "      |-  |-  |   |   |\n",
      "      |-  |-  |   |   |-  |->120  White\n",
      "      |-  |-  |   |   |-  |\n",
      "      |-  |-  |   |   |->119 else if Fixed acidity =< 9.95: go to 120, else go to 121\n",
      "      |-  |-  |   |   |   |\n",
      "      |-  |-  |   |   |   |->121  Red\n",
      "      |-  |\n",
      "      |->112 else if Density =< 1.00: go to 113, else go to 122\n",
      "      |   |\n",
      "      |   |-  |   |   |->125  White\n",
      "      |   |-  |   |   |\n",
      "      |   |-  |   |->124 then if Volatile acidity =< 0.23: go to 125, else go to 126\n",
      "      |   |-  |   |-  |\n",
      "      |   |-  |   |-  |->126  Red\n",
      "      |   |-  |   |\n",
      "      |   |-  |->123 then if Total sulfur dioxide =< 157.50: go to 124, else go to 127\n",
      "      |   |-  |-  |\n",
      "      |   |-  |-  |->127  White\n",
      "      |   |-  |\n",
      "      |   |->122 else if Residual sugar =< 6.25: go to 123, else go to 128\n",
      "      |   |   |\n",
      "      |   |   |-  |   |   |->131  Red\n",
      "      |   |   |-  |   |   |\n",
      "      |   |   |-  |   |->130 then if Total sulfur dioxide =< 81.00: go to 131, else go to 132\n",
      "      |   |   |-  |   |-  |\n",
      "      |   |   |-  |   |-  |->132  White\n",
      "      |   |   |-  |   |\n",
      "      |   |   |-  |->129 then if pH =< 3.15: go to 130, else go to 133\n",
      "      |   |   |-  |-  |\n",
      "      |   |   |-  |-  |->133  Red\n",
      "      |   |   |-  |\n",
      "      |   |   |->128 else if Total sulfur dioxide =< 125.00: go to 129, else go to 134\n",
      "      |   |   |   |\n",
      "      |   |   |   |->134  White\n",
      "<------------------------------------------------------------------------------------------------------->\n",
      "Tree Depth:  21\n"
     ]
    }
   ],
   "source": [
    "classifier = tree.DecisionTreeClassifier(criterion=\"gini\", min_samples_split=10)\n",
    "classifier = classifier.fit(x, y)\n",
    "\n",
    "treeprint.tree_print(classifier, attNames, classNames)"
   ]
  },
  {
   "cell_type": "code",
   "execution_count": 5,
   "metadata": {
    "pycharm": {
     "is_executing": false,
     "name": "#%%\n"
    }
   },
   "outputs": [
    {
     "name": "stdout",
     "output_type": "stream",
     "text": [
      "      |->2  White\n",
      "      |\n",
      "   |->1 then if Chlorides =< 0.05: go to 2, else go to 3\n",
      "   |  |\n",
      "   |  |  |->4  White\n",
      "   |  |  |\n",
      "   |  |->3 else if Sulphates =< 0.37: go to 4, else go to 5\n",
      "   |     |\n",
      "   |     |  |->6  White\n",
      "   |     |  |\n",
      "   |     |->5 else if Density =< 0.99: go to 6, else go to 7\n",
      "   |        |\n",
      "   |        |     |->9  White\n",
      "   |        |     |\n",
      "   |        |  |->8 then if Residual sugar =< 1.10: go to 9, else go to 10\n",
      "   |        |  |  |\n",
      "   |        |  |  |  |->11  Red\n",
      "   |        |  |  |  |\n",
      "   |        |  |  |->10 else if Density =< 0.99: go to 11, else go to 12\n",
      "   |        |  |     |\n",
      "   |        |  |     |  |->13  Red\n",
      "   |        |  |     |  |\n",
      "   |        |  |     |->12 else if Chlorides =< 0.05: go to 13, else go to 14\n",
      "   |        |  |        |\n",
      "   |        |  |        |  |->15  Red\n",
      "   |        |  |        |  |\n",
      "   |        |  |        |->14 else if Sulphates =< 0.45: go to 15, else go to 16\n",
      "   |        |  |           |\n",
      "   |        |  |           |->16  Red\n",
      "   |        |  |\n",
      "   |        |->7 else if Residual sugar =< 10.70: go to 8, else go to 17\n",
      "   |           |\n",
      "   |           |->17  White\n",
      "   |\n",
      "if Total sulfur dioxide =< 66.50: go to 1, else go to 18\n",
      "   |\n",
      "   |                 |->24  Red\n",
      "   |                 |\n",
      "   |              |->23 then if Chlorides =< 0.01: go to 24, else go to 25\n",
      "   |              |  |\n",
      "   |              |  |        |->28  White\n",
      "   |              |  |        |\n",
      "   |              |  |     |->27 then if Citric acid =< 0.10: go to 28, else go to 29\n",
      "   |              |  |     |  |\n",
      "   |              |  |     |  |  |->30  White\n",
      "   |              |  |     |  |  |\n",
      "   |              |  |     |  |->29 else if Total sulfur dioxide =< 72.50: go to 30, else go to 31\n",
      "   |              |  |     |     |\n",
      "   |              |  |     |     |  |->32  White\n",
      "   |              |  |     |     |  |\n",
      "   |              |  |     |     |->31 else if Residual sugar =< 0.92: go to 32, else go to 33\n",
      "   |              |  |     |        |\n",
      "   |              |  |     |        |        |->36  White\n",
      "   |              |  |     |        |        |\n",
      "   |              |  |     |        |     |->35 then if Free sulfur dioxide =< 6.50: go to 36, else go to 37\n",
      "   |              |  |     |        |     |  |\n",
      "   |              |  |     |        |     |  |     |->39  White\n",
      "   |              |  |     |        |     |  |     |\n",
      "   |              |  |     |        |     |  |  |->38 then if Citric acid =< 0.23: go to 39, else go to 40\n",
      "   |              |  |     |        |     |  |  |  |\n",
      "   |              |  |     |        |     |  |  |  |->40  White\n",
      "   |              |  |     |        |     |  |  |\n",
      "   |              |  |     |        |     |  |->37 else if Sulphates =< 0.75: go to 38, else go to 41\n",
      "   |              |  |     |        |     |     |\n",
      "   |              |  |     |        |     |     |->41  White\n",
      "   |              |  |     |        |     |\n",
      "   |              |  |     |        |  |->34 then if Alcohol =< 13.58: go to 35, else go to 42\n",
      "   |              |  |     |        |  |  |\n",
      "   |              |  |     |        |  |  |->42  White\n",
      "   |              |  |     |        |  |\n",
      "   |              |  |     |        |->33 else if Sulphates =< 0.78: go to 34, else go to 43\n",
      "   |              |  |     |           |\n",
      "   |              |  |     |           |->43  White\n",
      "   |              |  |     |\n",
      "   |              |  |  |->26 then if Total sulfur dioxide =< 275.00: go to 27, else go to 44\n",
      "   |              |  |  |  |\n",
      "   |              |  |  |  |->44  White\n",
      "   |              |  |  |\n",
      "   |              |  |->25 else if Sulphates =< 0.81: go to 26, else go to 45\n",
      "   |              |     |\n",
      "   |              |     |->45  White\n",
      "   |              |\n",
      "   |           |->22 then if pH =< 3.83: go to 23, else go to 46\n",
      "   |           |  |\n",
      "   |           |  |->46  Red\n",
      "   |           |\n",
      "   |        |->21 then if Chlorides =< 0.07: go to 22, else go to 47\n",
      "   |        |  |\n",
      "   |        |  |->47  White\n",
      "   |        |\n",
      "   |     |->20 then if Sulphates =< 1.12: go to 21, else go to 48\n",
      "   |     |  |\n",
      "   |     |  |->48  Red\n",
      "   |     |\n",
      "   |  |->19 then if Volatile acidity =< 0.82: go to 20, else go to 49\n",
      "   |  |  |\n",
      "   |  |  |->49  Red\n",
      "   |  |\n",
      "   |->18 else if Chlorides =< 0.07: go to 19, else go to 50\n",
      "      |\n",
      "      |->50  Red\n",
      "<----------------------------------------------------------------------------------->\n",
      "Tree Depth:  17\n"
     ]
    }
   ],
   "source": [
    "classifier = tree.DecisionTreeClassifier(criterion=\"gini\", min_samples_split=1000)\n",
    "classifier = classifier.fit(x, y)\n",
    "\n",
    "treeprint.tree_print(classifier, attNames, classNames)"
   ]
  },
  {
   "cell_type": "code",
   "execution_count": 6,
   "metadata": {
    "pycharm": {
     "is_executing": false,
     "name": "#%%\n"
    }
   },
   "outputs": [],
   "source": [
    "classifier = tree.DecisionTreeClassifier(criterion=\"gini\", min_samples_split=100)\n",
    "classifier = classifier.fit(x, y)"
   ]
  },
  {
   "cell_type": "markdown",
   "metadata": {},
   "source": [
    "----\n",
    "Increasing min_samples_split argument makes the tree smaller because splitting the tree requires more samples. Likewise, decreasing \n",
    "the min_samples_split argument makes the tree bigger since it requires less samples to determine best split.\n",
    "\n",
    "----"
   ]
  },
  {
   "cell_type": "markdown",
   "metadata": {},
   "source": [
    "#### 3.1.3\n",
    "\n",
    "(0.5 pts) Show that a wine with the following attribute values would be classified as white by the tree fitted in 3.1.2, by applying the `predict()` function from the DecisionTreeClassifier to this sample.  Have another look at the visualized tree. Which attributes are used to classify this wine? \n",
    "\n",
    "| #             | Attribute     | Value  |\n",
    "| ------------- |:-------------| -----:|\n",
    "|1 | Fixed acidity (tartaric) | 6.9 g/dm$^3$ |\n",
    "|2 | Volatile acidity (acetic) | 1.09 g/dm$^3$ |\n",
    "|3 | Citric acid | 0.06 g/dm$^3$ |\n",
    "|4 | Residual sugar | 2.1 g/dm$^3$ |\n",
    "|5 | Chlorides | 0.0061 g/dm$^3$ |\n",
    "|6 | Free sulfur dioxide | 12 mg/dm$^3$ |\n",
    "|7 | Total sulfur dioxide | 31 mg/dm$^3$ |\n",
    "|8 | Density | 0.99 g/cm$^3$ |\n",
    "|9 | pH | 3.5 |\n",
    "|10 | Sulphates | 0.64 g/dm$^3$ |\n",
    "|11 | Alcohol | 12 % vol. | \n",
    "\n",
    "** hints: **\n",
    "*If you don't know how to classify input values with a tree, see the help documentation for the DecisionTreeClassifier function on how to predict the label for a sample. *"
   ]
  },
  {
   "cell_type": "code",
   "execution_count": 7,
   "metadata": {
    "pycharm": {
     "is_executing": false
    }
   },
   "outputs": [
    {
     "name": "stdout",
     "output_type": "stream",
     "text": [
      "['Fixed acidity' 'Volatile acidity' 'Citric acid' 'Residual sugar'\n",
      " 'Chlorides' 'Free sulfur dioxide' 'Total sulfur dioxide' 'Density' 'pH'\n",
      " 'Sulphates' 'Alcohol']\n",
      "[ 7.4     0.7     0.      1.9     0.076  11.     34.      0.9978  3.51\n",
      "  0.56    9.4   ]\n",
      "Prediction for vector x_predict is: White\n"
     ]
    }
   ],
   "source": [
    "print(attNames)\n",
    "print(x[0])\n",
    "x_predict = np.array([[6.9, 1.09, 0.06, 2.1, 0.0061, 12, 31, 0.99, 3.5, 0.64, 12]])\n",
    "\n",
    "print(\"Prediction for vector x_predict is: \" + classNames[classifier.predict(x_predict)[0]])\n"
   ]
  },
  {
   "cell_type": "markdown",
   "metadata": {},
   "source": [
    "----\n",
    "Attributes used are: Total sulfur dioxide, Chlorides, Sulphates, Density.\n",
    "\n",
    "----"
   ]
  },
  {
   "cell_type": "markdown",
   "metadata": {},
   "source": [
    "#### 3.1.4\n",
    "(1 pts) Classify all the wines in the wine data set. What percentage of the wine data is classified correctly by the tree?\n",
    "\n"
   ]
  },
  {
   "cell_type": "code",
   "execution_count": 8,
   "metadata": {
    "pycharm": {
     "is_executing": false
    }
   },
   "outputs": [
    {
     "name": "stdout",
     "output_type": "stream",
     "text": [
      "Hitrate: 0.9868337563451777\n",
      "Missrate: 0.013166243654822335\n"
     ]
    }
   ],
   "source": [
    "results = classifier.predict(x)\n",
    "hit = sum(results == y)\n",
    "miss = len(y) - hit  \n",
    "print(\"Hitrate: \" + str(hit/(hit+miss)))\n",
    "print(\"Missrate: \" + str(miss/(hit+miss)))\n"
   ]
  },
  {
   "cell_type": "markdown",
   "metadata": {},
   "source": [
    "----\n",
    "Number of correct predictions is 6221, which is 98.68% hitrate.\n",
    "\n",
    "----"
   ]
  },
  {
   "cell_type": "markdown",
   "metadata": {},
   "source": [
    "## 3.2 Decision tree pruning using cross-validation\n",
    "\n",
    "In this exercise we will use cross-validation to prune a decision tree. When applying cross-validation the observed data is split into training and test sets, i.e., `X_train`, `y_train` and `X_test` and `y_test`. We train the model on the training data and evaluate the performance of the trained model on the test data.\n",
    "\n",
    "#### 3.2.1\n",
    "(2 pts) We are again using the wine data set `Data/wine.mat`. Divide the data into a training and a test data set (see hints!). Fit a decision tree to the training data using the Gini (`gdi`) splitting criterion.\n",
    "\n",
    "Now, we want to find an optimally pruned decision tree by *modifying its maximum depth*. For different values of the parameter `depth` (from 2 to 20), \n",
    "+ first fit the decision tree\n",
    "+ then compute the classification error on the training and test set (this is called holdout cross-validation)\n",
    "\n",
    "When you've done this for `depth` values 2,...,20, plot the training and test classification error as a function of the tree depth in the same figure. This will show us what the optimal pruning depth is for the training set, but also how well this generalizes to a test set. \n",
    "\n",
    "\n",
    "** hints: **  \n",
    "*Take a look at the module `sklearn.model_selection` and see how it can be used to partition the data into a training and a test set (holdout validation, `train_test_split()` function). Note that the package also contains functions to partition data for K-fold cross-validation. Some of the functions can ensure that both training and test sets have roughly the same class proportions. The error is 1-accuracy. The easiest way to compute the accuracy is by using the sklearn metrics module: \n",
    " https://scikit-learn.org/stable/modules/generated/sklearn.metrics.accuracy_score.html *\n",
    "\n",
    "What appears to be the optimal tree depth? Do you get the same result when you run your code again, generating a new random split between training and test data?\n"
   ]
  },
  {
   "cell_type": "code",
   "execution_count": 9,
   "metadata": {
    "pycharm": {
     "is_executing": false
    }
   },
   "outputs": [
    {
     "name": "stdout",
     "output_type": "stream",
     "text": [
      "Figure 1: The figure shows train and test errors as functions of maximum tree depth.\n"
     ]
    },
    {
     "data": {
      "image/png": "[encoded data removed]",
      "text/plain": [
       "<Figure size 432x288 with 1 Axes>"
      ]
     },
     "metadata": {
      "needs_background": "light"
     },
     "output_type": "display_data"
    }
   ],
   "source": [
    "x_train, x_test, y_train, y_test = sklearn.model_selection.train_test_split(x, y, test_size=0.35)\n",
    "classifiers = []\n",
    "train_scores, test_scores = [], []\n",
    "for i in range(2, 21):\n",
    "    classifiers.append(tree.DecisionTreeClassifier(criterion=\"gini\", max_depth=i).fit(x_train, y_train))\n",
    "    y_train_predict = classifiers[-1].predict(x_train)\n",
    "    y_test_predict = classifiers[-1].predict(x_test)\n",
    "    train_scores.append(metrics.accuracy_score(y_train, y_train_predict)) \n",
    "    test_scores.append(metrics.accuracy_score(y_test, y_test_predict))\n",
    "\n",
    "train_scores, test_scores = np.array(train_scores), np.array(test_scores)\n",
    "plt.figure()\n",
    "plt.plot(range(2, 21), 1-train_scores, label=\"train\")\n",
    "plt.scatter(range(2, 21), 1-train_scores)\n",
    "plt.plot(range(2, 21), 1-test_scores, label=\"test\")\n",
    "plt.scatter(range(2, 21), 1-test_scores)\n",
    "plt.xlabel(\"Maximum tree depth\")\n",
    "plt.ylabel(\"Error\")\n",
    "plt.title(\"Error of a decision tree plotted against maximum tree depth\")\n",
    "plt.legend(loc=\"lower right\")\n",
    "\n",
    "print(\"Figure 1: The figure shows train and test errors as functions of maximum tree depth.\")"
   ]
  },
  {
   "cell_type": "markdown",
   "metadata": {},
   "source": [
    "----\n",
    "Optimal tree depth is 19, but we get different results if we rerun the code since data is split in a\n",
    "different manner (new train and test data subsets are not equal to previous ones). \n",
    "\n",
    "----"
   ]
  },
  {
   "cell_type": "markdown",
   "metadata": {},
   "source": [
    "#### 3.2.2\n",
    "(1.5 pts) Repeat the exercise above, using 10-fold cross-validation. K-fold cross-validation works by splitting X into K partitions of equal length. Then in each fold, you choose K-1 partitions as the training set and the remaining partition as the test set. Every partition gets a turn being a test set. For a very nice simple explanation of how (and why) K-fold works, check out http://www.dummies.com/programming/big-data/data-science/resorting-cross-validation-machine-learning/\n",
    "\n",
    "\n",
    "For each fold, fit a decision tree on the training set and evaluate its performance on the test set. Finally, compute the average classification errors on the test- and training sets across the 10 cross-validation folds and plot them as a function of the tree depth.\n",
    "\n",
    "** hints: **\n",
    "*This time the `KFold()` function from the module `sklearn.model_selection` can be used to partition the data into the 10 training and test partitions. Check out http://scikit-learn.org/stable/modules/cross_validation.html#k-fold for an example of how to acces the indices for the training set and the test set in each fold. Those indices can then be used to create the training and test set, e.g. `X_train = X[train_indices]`*\n",
    "\n",
    "*If you are creating a for loop iterating over an object where you both need the index and the elements of the object, you can enumerate the object. For example:*\n",
    "\n",
    "`\n",
    "for index, (element) in enumerate(object):\n",
    "    array[index] = operation(element)\n",
    "`\n",
    " \n",
    "\n",
    "What appears to be the optimal tree depth? Do you get the same result when you run your code again, generating a new random split between training and test data? How about 100-fold cross-validation?\n"
   ]
  },
  {
   "cell_type": "code",
   "execution_count": 10,
   "metadata": {
    "pycharm": {
     "is_executing": false
    }
   },
   "outputs": [
    {
     "data": {
      "text/plain": [
       "<matplotlib.legend.Legend at 0xdcb0e10>"
      ]
     },
     "execution_count": 10,
     "metadata": {},
     "output_type": "execute_result"
    },
    {
     "data": {
      "image/png": "[encoded data removed]",
      "text/plain": [
       "<Figure size 432x288 with 1 Axes>"
      ]
     },
     "metadata": {
      "needs_background": "light"
     },
     "output_type": "display_data"
    },
    {
     "data": {
      "image/png": "[encoded data removed]",
      "text/plain": [
       "<Figure size 432x288 with 1 Axes>"
      ]
     },
     "metadata": {
      "needs_background": "light"
     },
     "output_type": "display_data"
    }
   ],
   "source": [
    "from sklearn.model_selection import KFold\n",
    "train_errors, test_errors = [], []\n",
    "kf = KFold(n_splits=10)\n",
    "splits = []\n",
    "for train, test in kf.split(x, y):\n",
    "    splits.append((train, test))\n",
    "for i in range(2, 21):\n",
    "    train_err = 0\n",
    "    test_err = 0\n",
    "    for train, test in splits:\n",
    "        x_train = x[train]\n",
    "        y_train = y[train]\n",
    "        x_test = x[test]\n",
    "        y_test = y[test]\n",
    "        t = tree.DecisionTreeClassifier(criterion=\"gini\", max_depth=i).fit(x_train, y_train)\n",
    "        train_err += metrics.accuracy_score(y_train, t.predict(x_train))\n",
    "        test_err += metrics.accuracy_score(y_test, t.predict(x_test))\n",
    "    train_errors.append(train_err/10)\n",
    "    test_errors.append(test_err/10)\n",
    "    \n",
    "train_scores, test_scores = np.array(train_errors), np.array(test_errors)\n",
    "plt.figure()\n",
    "plt.plot(range(2, 21), 1-train_scores, label=\"train\")\n",
    "plt.scatter(range(2, 21), 1-train_scores)\n",
    "plt.plot(range(2, 21), 1-test_scores, label=\"test\")\n",
    "plt.scatter(range(2, 21), 1-test_scores)\n",
    "plt.xlabel(\"Maximum tree depth\")\n",
    "plt.ylabel(\"Error\")\n",
    "plt.title(\"Error of a decision tree plotted against maximum tree depth for 10-fold cross validation\")\n",
    "plt.legend(loc=\"lower right\")\n",
    "\n",
    "train_errors100, test_errors100 = [], []\n",
    "kf100 = KFold(n_splits=100)\n",
    "splits = []\n",
    "for train, test in kf100.split(x, y):\n",
    "    splits.append((train, test))\n",
    "for i in range(2, 21):\n",
    "    train_err = 0\n",
    "    test_err = 0\n",
    "    for train, test in splits:\n",
    "        x_train = x[train]\n",
    "        y_train = y[train]\n",
    "        x_test = x[test]\n",
    "        y_test = y[test]\n",
    "        t = tree.DecisionTreeClassifier(criterion=\"gini\", max_depth=i).fit(x_train, y_train)\n",
    "        train_err += metrics.accuracy_score(y_train, t.predict(x_train))\n",
    "        test_err += metrics.accuracy_score(y_test, t.predict(x_test))\n",
    "    train_errors100.append(train_err/100)\n",
    "    test_errors100.append(test_err/100)\n",
    "    \n",
    "train_scores100, test_scores100 = np.array(train_errors100), np.array(test_errors100)\n",
    "plt.figure()\n",
    "plt.plot(range(2, 21), 1-train_scores100, label=\"train\")\n",
    "plt.scatter(range(2, 21), 1-train_scores100)\n",
    "plt.plot(range(2, 21), 1-test_scores100, label=\"test\")\n",
    "plt.scatter(range(2, 21), 1-test_scores100)\n",
    "plt.xlabel(\"Maximum tree depth\")\n",
    "plt.ylabel(\"Error\")\n",
    "plt.title(\"Error of a decision tree plotted against maximum tree depth for 100-fold cross validation\")\n",
    "plt.legend(loc=\"lower right\")"
   ]
  },
  {
   "cell_type": "code",
   "execution_count": 11,
   "metadata": {
    "pycharm": {
     "is_executing": false,
     "name": "#%%\n"
    }
   },
   "outputs": [
    {
     "name": "stdout",
     "output_type": "stream",
     "text": [
      "Figure 2: The figure shows error as a function of tree depth for 10-fold cross validation.\n",
      "Figure 3: The figure shows error as a function of tree depth for 100-fold cross validation.\n"
     ]
    }
   ],
   "source": [
    "print(\"Figure 2: The figure shows error as a function of tree depth for 10-fold cross validation.\")\n",
    "print(\"Figure 3: The figure shows error as a function of tree depth for 100-fold cross validation.\")"
   ]
  },
  {
   "cell_type": "markdown",
   "metadata": {},
   "source": [
    "----\n",
    "Optimal tree depth for 10-fold cross validation appears to be 8 but generating new random splits changes our results.\n",
    "When we use 100-fold cross validation, optimal tree depth is 14, but error increases with bigger tree depth.\n",
    "\n",
    "----"
   ]
  },
  {
   "cell_type": "markdown",
   "metadata": {},
   "source": [
    " ## 3.3 ROC curves, AUC scores, and the sign test\n",
    "\n",
    "In this exercise we will use ROC curves and the sign test to compare classifiers. Study the lecture slides and the paper 'ROC Graphs: Notes and Practical Considerations for Researchers' by Tom Fawcett included with the homework assignment (ROC101.pdf). It describes all you need to know (and much, much more..) about ROC curves. The method explained for computing the area under the curve is unnecessarily complicated. A simpler formula is:\n",
    "$$\n",
    "    \\mbox{AUC} = {1 \\over m n} \\sum_{i=1}^m \\sum_{j=1}^n \\mathbf{\\large 1}_{p_i > p_j} \\: .\n",
    "   $$\n",
    "Here $i$ runs over all $m$ data points with true label 1, and $j$ runs over all $n$ data points with true label $0$; $p_i$ and $p_j$ denote the probability score assigned by the classifier to data point $i$ and $j$, respectively. $\\mathbf{\\large 1}$ is the indicator function: it outputs $1$ if the condition (here $p_i > p_j$) is satisfied and $0$ otherwise. *Simply put: this formula computes how often the probability of a data point with true label 1 is higher than the probability of data points with true label 0. This is then divided by the total number of comparisons between probabilities.*\n",
    "    \n",
    "\n",
    "#### 3.3.1\n",
    "(0.25 pts) To make sure you understand how ROC works, make an ROC curve and calculate the AUC (on paper) with the following data:\n",
    "\n",
    "`\n",
    "labels = [0,0,0,1,0,1,1,0,1,1]\n",
    "classifier_probs = [0.1,0.2,0.3,0.4,0.5,0.6,0.7,0.8,0.9,0.99]\n",
    "`\n",
    "    \n",
    "What's the AUC you calculated? Do you think this classifier works well?\n"
   ]
  },
  {
   "cell_type": "markdown",
   "metadata": {},
   "source": []
  },
  {
   "cell_type": "markdown",
   "metadata": {
    "pycharm": {
     "name": "#%% md\n"
    }
   },
   "source": [
    "----\n",
    "AUC = 0.84\n",
    "The more does AUC approach 1 the better is the classifier (0.5 is for random guess). This classifier works well.\n",
    "\n",
    "----"
   ]
  },
  {
   "cell_type": "markdown",
   "metadata": {},
   "source": [
    "#### 3.3.2\n",
    "  Load the file `Data/classprobs.xls` using the Pandas `read_excel` function. Inspect the data and cast it to an array with the `.values` attribute. The first column gives the true class label (either 0 or 1). The second and third column give the probabilistic scores for two different classifiers. The higher this probability, the more certain the classifier is that the example belongs to class 1 (instead of class 0).\n"
   ]
  },
  {
   "cell_type": "code",
   "execution_count": 13,
   "metadata": {
    "pycharm": {
     "is_executing": false
    }
   },
   "outputs": [],
   "source": [
    "import pandas\n",
    "\n",
    "data = pandas.read_excel(\"Data/classprobs.xls\", header=None)\n",
    "data = data.values\n",
    "data1 = np.transpose(sorted(data, key=lambda x: -x[1]))\n",
    "data2 = np.transpose(sorted(data, key=lambda x: -x[2]))\n",
    "\n"
   ]
  },
  {
   "cell_type": "markdown",
   "metadata": {},
   "source": [
    "#### 3.3.3\n",
    "(1 pts) Calculate the ROC curves for both of the classifiers by calculating the FP and TP rates and plot them in the same plot. Make the plot yourself as opposed to using a library! Also plot a dashed line on the diagonal to represent random guessing in the same figure. Interpret the obtained results. Do both classifiers perform better than random guessing?\n",
    "\n",
    "** hints: **  \n",
    "*The function `sklearn.metrics.roc_curve` can be used for computing the FP and TP rates. You can then plot them using the `matplotlib.pyplot` `plot` function. Check the documentation on how to plot a dashed line. Remember to include a legend!* \n",
    "\n",
    "**An extra tip: the sign test example below includes a figure with dashed lines and a legend...**\n",
    " "
   ]
  },
  {
   "cell_type": "code",
   "execution_count": 14,
   "metadata": {
    "pycharm": {
     "is_executing": false
    }
   },
   "outputs": [],
   "source": [
    "fpr1, tpr1, _ = sklearn.metrics.roc_curve(data1[0], data1[1])\n",
    "fpr2, tpr2, _ = sklearn.metrics.roc_curve(data2[0], data2[2])"
   ]
  },
  {
   "cell_type": "code",
   "execution_count": 15,
   "metadata": {
    "pycharm": {
     "is_executing": false,
     "name": "#%%\n"
    }
   },
   "outputs": [
    {
     "data": {
      "text/plain": [
       "Text(0.5, 1.0, 'Classifier ROC curves')"
      ]
     },
     "execution_count": 15,
     "metadata": {},
     "output_type": "execute_result"
    },
    {
     "data": {
      "image/png": "[encoded data removed]",
      "text/plain": [
       "<Figure size 432x288 with 1 Axes>"
      ]
     },
     "metadata": {
      "needs_background": "light"
     },
     "output_type": "display_data"
    }
   ],
   "source": [
    "fig = plt.figure()\n",
    "plt.plot(fpr1, tpr1, label=\"Classifier 1\")\n",
    "plt.plot(fpr2, tpr2, label=\"Classifier 2\")\n",
    "plt.plot([0.0, 1.0], [0.0, 1.0], \"k--\")\n",
    "plt.legend(loc=\"best\")\n",
    "plt.xlabel(\"False positive rate\")\n",
    "plt.ylabel(\"True positive rate\")\n",
    "plt.title(\"Classifier ROC curves\")\n"
   ]
  },
  {
   "cell_type": "markdown",
   "metadata": {},
   "source": [
    "----\n",
    "First classifier performs better than the second classifier since it has a greater AUC. \n",
    "Both classifiers are better than random guessing (dashed line).\n",
    "\n",
    "----"
   ]
  },
  {
   "cell_type": "markdown",
   "metadata": {},
   "source": [
    "#### 3.3.4\n",
    "(0.5 pts) Compute the AUC scores (area under the curve) of both classifiers using the formula given above. **Write your own code for this calculation.** Do the AUC scores indicate that the classifiers are performing better than this baseline?\n",
    "\n",
    "\n"
   ]
  },
  {
   "cell_type": "code",
   "execution_count": 16,
   "metadata": {
    "pycharm": {
     "is_executing": false
    }
   },
   "outputs": [
    {
     "name": "stdout",
     "output_type": "stream",
     "text": [
      "0.9564471879286695\n",
      "0.7654320987654321\n"
     ]
    }
   ],
   "source": [
    "a = 0\n",
    "b = 0\n",
    "for row in filter(lambda x: x[0] == 1, data):\n",
    "    for j in filter(lambda x: x[0] == 0, data):\n",
    "        if row[1] > j[1]:\n",
    "            a += 1\n",
    "        if row[2] > j[2]:\n",
    "            b += 1\n",
    "ones = sum(np.transpose(data)[0])\n",
    "zeroes = len(np.transpose(data)[0]) - ones\n",
    "a = a / (zeroes*ones)\n",
    "b = b / (zeroes*ones)\n",
    "\n",
    "print(a)\n",
    "print(b)"
   ]
  },
  {
   "cell_type": "markdown",
   "metadata": {},
   "source": [
    "----\n",
    "AUC[Classifier 1] ~= 0.956, \n",
    "AUC[Classifier 2] ~= 0.765,\n",
    "AUC[BASELINE] = 0.5\n",
    "\n",
    "Since AUC values for both classifiers are higher than 0.5, they are better than just random guessing (0.5).\n",
    " \n",
    "----"
   ]
  },
  {
   "cell_type": "markdown",
   "metadata": {},
   "source": [
    "\n",
    "#### 3.3.5\n",
    "(0.25 pts) Using a threshold of 0.5, translate the probability scores to predicted class labels, and compute the accuracy for each of the classifiers.\n",
    "\n",
    "** hint: **\n",
    "\n",
    "*Take a look at https://scikit-learn.org/stable/modules/generated/sklearn.metrics.accuracy_score.html *"
   ]
  },
  {
   "cell_type": "code",
   "execution_count": 17,
   "metadata": {
    "pycharm": {
     "is_executing": false
    }
   },
   "outputs": [
    {
     "name": "stdout",
     "output_type": "stream",
     "text": [
      "0.8611111111111112\n",
      "0.6944444444444444\n"
     ]
    }
   ],
   "source": [
    "data = np.transpose(np.around(data))\n",
    "class1 = sklearn.metrics.accuracy_score(data[0], data[1])\n",
    "class2 = sklearn.metrics.accuracy_score(data[0], data[2])\n",
    "\n",
    "print(class1)\n",
    "print(class2)"
   ]
  },
  {
   "cell_type": "markdown",
   "metadata": {},
   "source": [
    "#### 3.3.6\n",
    "(1 pts) Create the 2x2 table (or array, or list, or dataframe..) of wrong and correct classifications by the first and the second classifier, like in the lecture slides (lecture on model evaluation, part on the sign test). Perform a sign test to test whether the performance of the two classifiers is significantly different at a significance level of 0.05. **If you are not familiar with sign testing, you can read the example provided below.**\n",
    "\n",
    "\n",
    "** hints: **  \n",
    "*As explained in the lecture slides, the sign test is a binomial test on the lower-left ($N_{1<2}$) and upper-right ($N_{1>2}$) elements of the cross table. Unlike in the lecture slides, here you need to perform a two-sided test: $$\\textrm{p-value} = P(W \\leq \\min(N_{1<2},N_{1>2}) \\textrm{ or } W \\geq  \\max(N_{1<2},N_{1>2})$$\n",
    "The function `scipy.stats.binom.cdf` can be used to compute the cumulative density of the binomial distribution.\n",
    "For more information on the sign test, see the included paper by Salzberg (signtest.pdf, in particular section 3.1).*"
   ]
  },
  {
   "cell_type": "code",
   "execution_count": 18,
   "metadata": {
    "pycharm": {
     "is_executing": false
    }
   },
   "outputs": [
    {
     "name": "stdout",
     "output_type": "stream",
     "text": [
      "         correct  wrong\n",
      "correct       67     26\n",
      "wrong          8      7\n",
      "0.0029350556433200854\n"
     ]
    }
   ],
   "source": [
    "import scipy\n",
    "correctclass1, correctclass2, twocorrect, twofalse = 0, 0, 0, 0\n",
    "for row in np.transpose(data):\n",
    "    if row[0] == row[1] and row[0] != row[2]:\n",
    "        correctclass1 += 1\n",
    "    if row[0] != row[1] and row[0] == row[2]:\n",
    "        correctclass2 += 1\n",
    "    if row[0] == row[1] == row[2]:\n",
    "        twocorrect += 1\n",
    "    if row[0] != row[1] and row[1] == row[2]:\n",
    "        twofalse += 1\n",
    "table = pandas.DataFrame(data = np.array([np.array([twocorrect, correctclass1]), np.array([correctclass2, twofalse])]), index = np.array(['correct', 'wrong']), columns = np.array(['correct', 'wrong']))\n",
    "print(table)\n",
    "\n",
    "N = correctclass1 + correctclass2\n",
    "b = scipy.stats.binom(N, 0.5)\n",
    "p_value = b.cdf(min(correctclass1, correctclass2)) + (1-b.cdf(max(correctclass1, correctclass2)-1))\n",
    "print(p_value)"
   ]
  },
  {
   "cell_type": "markdown",
   "metadata": {},
   "source": [
    "----\n",
    "Since p-value ~= 0.003 < 0.05 the difference between performances of two classifiers is statistically significant at significance level of 0.05.\n",
    "\n",
    "----"
   ]
  },
  {
   "cell_type": "markdown",
   "metadata": {},
   "source": [
    "## Example two-sided sign test\n",
    "\n",
    "Imagine you have a lucky coin, that you are certain does not result in heads 50% of the times you flip it. However, you friend (lets call him *zero_hypothesis*) claims that your coin is just like his random coin. To verify whether this is true, you decide to compare the performance (you are a scientist after all) of your lucky coin resulting in heads to the performance of his random coin resulting in heads with a sign test. How do you do this?\n",
    "\n",
    "First, you collect data. Assume you place 23 bets. During those 23 bets, you both flip your respective coins. It was determined that if one of you flipped head while the other didn't, that person won the bet, and the other person lost. If you both got the same outcome, neither of you won. 1 stands for head, and 0 for tails. These were your results:"
   ]
  },
  {
   "cell_type": "code",
   "execution_count": 19,
   "metadata": {
    "pycharm": {
     "is_executing": false
    }
   },
   "outputs": [
    {
     "name": "stdout",
     "output_type": "stream",
     "text": [
      "----------lucky | random \n",
      " bet 0      | 1 | 0\n",
      " bet 1      | 1 | 1\n",
      " bet 2      | 1 | 0\n",
      " bet 3      | 0 | 1\n",
      " bet 4      | 1 | 0\n",
      " bet 5      | 1 | 1\n",
      " bet 6      | 1 | 0\n",
      " bet 7      | 1 | 0\n",
      " bet 8      | 1 | 0\n",
      " bet 9      | 0 | 1\n",
      " bet 10     | 1 | 0\n",
      " bet 11     | 1 | 1\n",
      " bet 12     | 1 | 0\n",
      " bet 13     | 1 | 1\n",
      " bet 14     | 0 | 1\n",
      " bet 15     | 1 | 1\n",
      " bet 16     | 1 | 1\n",
      " bet 17     | 0 | 0\n",
      " bet 18     | 1 | 0\n",
      " bet 19     | 1 | 0\n",
      " bet 20     | 1 | 0\n",
      " bet 21     | 0 | 0\n",
      " bet 22     | 1 | 0\n",
      " -----\n",
      "\n"
     ]
    }
   ],
   "source": [
    "import numpy as np\n",
    "from scipy.stats import binom\n",
    "import matplotlib.pyplot as plt\n",
    "\n",
    "#results\n",
    "lucky_coin = np.array([1,1,1,0,1,1,1,1,1,0,1,1,1,1,0,1,1,0,1,1,1,0,1])\n",
    "random_coin= np.array([0,1,0,1,0,1,0,0,0,1,0,1,0,1,1,1,1,0,0,0,0,0,0])\n",
    "\n",
    "print('----------lucky | random \\n',*['bet {:<5}  | {} | {}\\n'.format(t[0],t[1],t[2]) for t in zip(range(0,len(lucky_coin)),lucky_coin,random_coin)],'-----\\n')"
   ]
  },
  {
   "cell_type": "markdown",
   "metadata": {},
   "source": [
    "Now you calculate how often in any pair of outcomes one coin *won*, i.e. one coin flipped to head while the other flipped to tails."
   ]
  },
  {
   "cell_type": "code",
   "execution_count": 20,
   "metadata": {
    "pycharm": {
     "is_executing": false
    }
   },
   "outputs": [
    {
     "name": "stdout",
     "output_type": "stream",
     "text": [
      "The lucky coin won 12 times, while the random won 3 times.\n"
     ]
    }
   ],
   "source": [
    "N_l = sum((lucky_coin == 1) & (random_coin == 0)) #how often your lucky coin won\n",
    "N_r = sum((lucky_coin == 0) & (random_coin == 1)) #how often the random coin won\n",
    "N = N_l + N_r #how often one coin was a winner\n",
    "print('The lucky coin won {} times, while the random won {} times.'.format(N_l,N_r))"
   ]
  },
  {
   "cell_type": "markdown",
   "metadata": {},
   "source": [
    "You observed 15 times that one coin won. If both coins resulted in heads 50% of the time, like *zero_hypothesis* stated, you'd expect that both coins have 50% chance of being the winner. So the probability distributions for both N_l and N_r should look something like this, assuming that *zero_hypothesis* is right:"
   ]
  },
  {
   "cell_type": "code",
   "execution_count": 21,
   "metadata": {
    "pycharm": {
     "is_executing": false
    }
   },
   "outputs": [
    {
     "data": {
      "image/png": "[encoded data removed]",
      "text/plain": [
       "<Figure size 432x288 with 1 Axes>"
      ]
     },
     "metadata": {
      "needs_background": "light"
     },
     "output_type": "display_data"
    }
   ],
   "source": [
    "b = binom(N,0.5) #N=observations of inequality, p=prob of one coin being better, which is 0.5 according to your H0\n",
    "plt.plot(b.pmf(range(N+1)), '--o',label = 'Probability density')\n",
    "plt.plot(b.cdf(range(N+1)), '--o',label = 'Cumulative distribution')\n",
    "plt.legend()\n",
    "plt.xlabel('Number of times one coin is better than the other')\n",
    "plt.ylabel('Probability')\n",
    "plt.title('Distribution according to H0')\n",
    "plt.show()"
   ]
  },
  {
   "cell_type": "markdown",
   "metadata": {},
   "source": [
    "(Of course this is a discrete probability function, so you're not interested in values between integers.)\n",
    "\n",
    "As you can see, according to *zero_hypothesis*, 7 and 8 are the most likely values for both N_l and N_r. But this is not what you observed in your data. To conclude that *H0* is false, you need to show that your outcome is unlikely under the assumption that *H0* is true: the values you observed are so extreme that these values or more extreme values occur less than 5% of the time (*p-value < 0.05*). So how unlikely is it that one coin is better 12 times or more, and the other is better 3 times or less?\n",
    "\n",
    "It's the sum of the values of the probability density function (pdf or pmf in the python doc) at  0,1,2 and 3, plus the sum of the values of the pdf at 12,13,14 and 15. \n",
    "\n",
    "This is equal to the value of the cumulative distribution function (cdf) at 3, plus 1 minus the value of cdf at 11 (since `1-cdf(11)` represents the probability of observing 12 or bigger)."
   ]
  },
  {
   "cell_type": "code",
   "execution_count": 22,
   "metadata": {
    "pycharm": {
     "is_executing": false
    }
   },
   "outputs": [
    {
     "name": "stdout",
     "output_type": "stream",
     "text": [
      "The p-value is 0.035\n"
     ]
    }
   ],
   "source": [
    "p_value = b.cdf(min(N_r,N_l)) + (1-b.cdf(max(N_r,N_l)-1))\n",
    "print('The p-value is {:.3f}'.format(p_value))"
   ]
  },
  {
   "cell_type": "markdown",
   "metadata": {},
   "source": [
    "So your observations are very unlikely if *zero_hypothesis* is right. By statistical theory, you can now say that you have significant reason to reject their opinion. Now the hardest part of statistics: convincing your non-scientist friends."
   ]
  }
 ],
 "metadata": {
  "anaconda-cloud": {},
  "kernelspec": {
   "display_name": "Python 3",
   "language": "python",
   "name": "python3"
  },
  "language_info": {
   "codemirror_mode": {
    "name": "ipython",
    "version": 3
   },
   "file_extension": ".py",
   "mimetype": "text/x-python",
   "name": "python",
   "nbconvert_exporter": "python",
   "pygments_lexer": "ipython3",
   "version": "3.7.1"
  },
  "pycharm": {
   "stem_cell": {
    "cell_type": "raw",
    "metadata": {
     "collapsed": false
    },
    "source": []
   }
  }
 },
 "nbformat": 4,
 "nbformat_minor": 1
}
