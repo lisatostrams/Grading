{
 "cells": [
  {
   "cell_type": "markdown",
   "metadata": {},
   "source": [
    "# Assignment 3\n",
    "\n",
    "## Objective of this assignment\n",
    "The objective of this exercise is to become familiar with fitting decision trees and\n",
    "making ROC curves in Python.\n",
    "\n",
    "\n",
    "## ** Important: ** When handing in your homework:\n",
    "+ Hand in the notebook **(and nothing else)** named as follows: StudentName1_snumber_StudentName2_snumber.ipynb\n",
    "+ Provide clear and complete answers to the questions below under a separate header (not hidden somewhere in your source code), and make sure to explain your answers / motivate your choices. Add Markdown cells where necessary.\n",
    "+ Source code, output graphs, derivations, etc., should be included in the notebook.\n",
    "+ Hand-in: upload to Brightspace.\n",
    "+ Include name, student number, assignment (especially in filenames)!\n",
    "+ When working in pairs only one of you should upload the assignment, and report the name of your partner in your filename.\n",
    "+ Use the Brightspace discussion board or email the student assistants for questions on how to complete the exercises.\n",
    "+ If you find mistakes/have suggestions/would like to complain about the assigment material itself, please email me [Lisa] at `l.tostrams@science.ru.nl`\n",
    "\n",
    "\n",
    "## Advised Reading and Exercise Material\n",
    "**The following reading material is recommended:**\n",
    "\n",
    "Pang-Ning Tan, Michael Steinbach, and Vipin Kumar, Introduction to Data Mining, section 4.1-4.6, as well as the included article on ROC curves.\n"
   ]
  },
  {
   "cell_type": "markdown",
   "metadata": {},
   "source": [
    "## 3.1 Decision trees\n",
    "\n",
    "In this part of the exercise we will fit decision trees using the scikitlearn classifier\n",
    "`sklearn.tree.DecisionTreeClassifier`. As a splitting criterion, the function uses\n",
    "one of the following two impurity measures:\n",
    "\n",
    "\\begin{equation} \\textrm{gdi}(t) = -\\sum_{i=1}^C p(i|t)^2 \\quad \\text{       equivalent to Gini(t)} \\end{equation}   \n",
    "\n",
    "\\begin{equation}\n",
    "\\textrm{deviance}(t) = -2\\sum_{i=1}^C p(i|t) \\log p(i|t) \\quad \\text{equivalent to Entropy(t)} \n",
    "\\end{equation}\n",
    "\n",
    "We will analyze the wine data we have used previously. The wine data set has the following attributes, all of which are continuous: \n",
    "\n",
    "\n",
    "| #             | Attribute     | Unit  |\n",
    "| ------------- |:-------------| -----:|\n",
    "|1 | Fixed acidity (tartaric) | g/dm$^3$ |\n",
    "|2 | Volatile acidity (acetic) | g/dm$^3$ |\n",
    "|3 | Citric acid | g/dm$^3$ |\n",
    "|4 | Residual sugar | g/dm$^3$ |\n",
    "|5 | Chlorides | g/dm$^3$ |\n",
    "|6 | Free sulfur dioxide | mg/dm$^3$ |\n",
    "|7 | Total sulfur dioxide | mg/dm$^3$ |\n",
    "|8 | Density | g/cm$^3$ |\n",
    "|9 | pH | pH |\n",
    "|10 | Sulphates | g/dm$^3$ |\n",
    "|11 | Alcohol | % vol. | \n",
    "\n",
    "\n",
    "#### 3.1.1\n",
    "(0.5 pts) Load the wine data set `Data/wine.mat` using the `scipy.io` `loadmat` function. This contains the same data as used in the earlier assignment, but with outliers and the 12th attribute already removed. Create data matrix $X$, class vector $y$, and the lists $attributeNames$ and $classNames$ with the data provided in the `wine.mat` file. Print out the  $attributeNames$ and $classNames$ to make sure it's a list of strings.\n",
    "\n",
    "   ** hints: **   \n",
    "*The object in wine.mat is a dictionary. The attributes are stored in matrix $X$, the class in vector $y$. $y$ is shaped as an array containing single element arrays. To flatten $y$, you can use `y.ravel()`, which unravels matrices into a 1d array. Attribute names and class names are stored in the attributeNames and classNames objects, which contain arrays, of which the first element contains the names. To get the names from those arrays, you can use list comprehension or for-loops. For more on list comprehension, check https://www.digitalocean.com/community/tutorials/understanding-list-comprehensions-in-python-3. For example, if you have an larger array containing nested arrays of which you want the first element, you can try `new_array = [nested_array[0] for nested_array in larger_array]`.*\n",
    "\n"
   ]
  },
  {
   "cell_type": "code",
   "execution_count": 1,
   "metadata": {},
   "outputs": [
    {
     "name": "stdout",
     "output_type": "stream",
     "text": [
      "['Fixed acidity', 'Volatile acidity', 'Citric acid', 'Residual sugar', 'Chlorides', 'Free sulfur dioxide', 'Total sulfur dioxide', 'Density', 'pH', 'Sulphates', 'Alcohol']\n",
      "['Red', 'White']\n"
     ]
    }
   ],
   "source": [
    "import numpy as np\n",
    "from scipy import io as sio\n",
    "from scipy import stats as sts\n",
    "\n",
    "wine_data = sio.loadmat(\"Data/wine.mat\")\n",
    "\n",
    "# Parsing raw values\n",
    "X = np.array(wine_data['X'], np.float64)\n",
    "\n",
    "# Parsing y\n",
    "Y = np.array(wine_data['y'], np.int32).ravel()\n",
    "\n",
    "# parsing attribute names\n",
    "attributes = [x for arr in wine_data['attributeNames'].ravel() for x in arr]\n",
    "\n",
    "# parsing class names\n",
    "classNames = [x for arr in wine_data['classNames'].ravel() for x in arr]\n",
    "\n",
    "# printing the values \n",
    "#print(X)\n",
    "print(attributes)\n",
    "#print(Y)\n",
    "print(classNames)"
   ]
  },
  {
   "cell_type": "markdown",
   "metadata": {},
   "source": [
    "#### 3.1.2\n",
    " (1.5 pts) Fit a decision tree to the wine data in order to estimate if the wine is red or white. Use the Gini (gdi) splitting criterion. Use `min_samples_split=100` for the stopping criterion. Explain what happens when you change the values of the parameter `min_samples_split`. After fitting the tree, visualize it with the tree_print function in `treeprint.py` in the Toolbox folder. \n",
    "\n",
    "** hints: **   \n",
    "*The `treeprint.py` file contains some documentation on how to use it. Helpfull documentation for the DecisionTreeClassifier function can be found at * http://scikit-learn.org/stable/modules/tree.html#classification  \n",
    "\n"
   ]
  },
  {
   "cell_type": "code",
   "execution_count": 2,
   "metadata": {
    "scrolled": false
   },
   "outputs": [
    {
     "name": "stdout",
     "output_type": "stream",
     "text": [
      "         |->3  White\n",
      "         |\n",
      "      |->2 then if Sulphates =< 0.56: go to 3, else go to 4\n",
      "      |  |\n",
      "      |  |->4  White\n",
      "      |\n",
      "   |->1 then if Chlorides =< 0.05: go to 2, else go to 5\n",
      "   |  |\n",
      "   |  |  |->6  White\n",
      "   |  |  |\n",
      "   |  |->5 else if Sulphates =< 0.37: go to 6, else go to 7\n",
      "   |     |\n",
      "   |     |  |->8  White\n",
      "   |     |  |\n",
      "   |     |->7 else if Density =< 0.99: go to 8, else go to 9\n",
      "   |        |\n",
      "   |        |     |->11  White\n",
      "   |        |     |\n",
      "   |        |  |->10 then if Residual sugar =< 1.10: go to 11, else go to 12\n",
      "   |        |  |  |\n",
      "   |        |  |  |  |->13  Red\n",
      "   |        |  |  |  |\n",
      "   |        |  |  |->12 else if Density =< 0.99: go to 13, else go to 14\n",
      "   |        |  |     |\n",
      "   |        |  |     |  |->15  Red\n",
      "   |        |  |     |  |\n",
      "   |        |  |     |->14 else if Chlorides =< 0.05: go to 15, else go to 16\n",
      "   |        |  |        |\n",
      "   |        |  |        |  |->17  Red\n",
      "   |        |  |        |  |\n",
      "   |        |  |        |->16 else if Sulphates =< 0.45: go to 17, else go to 18\n",
      "   |        |  |           |\n",
      "   |        |  |           |->18  Red\n",
      "   |        |  |\n",
      "   |        |->9 else if Residual sugar =< 10.70: go to 10, else go to 19\n",
      "   |           |\n",
      "   |           |->19  White\n",
      "   |\n",
      "if Total sulfur dioxide =< 66.50: go to 1, else go to 20\n",
      "   |\n",
      "   |                 |->26  Red\n",
      "   |                 |\n",
      "   |              |->25 then if Chlorides =< 0.01: go to 26, else go to 27\n",
      "   |              |  |\n",
      "   |              |  |        |->30  White\n",
      "   |              |  |        |\n",
      "   |              |  |     |->29 then if Citric acid =< 0.10: go to 30, else go to 31\n",
      "   |              |  |     |  |\n",
      "   |              |  |     |  |  |->32  White\n",
      "   |              |  |     |  |  |\n",
      "   |              |  |     |  |->31 else if Total sulfur dioxide =< 72.50: go to 32, else go to 33\n",
      "   |              |  |     |     |\n",
      "   |              |  |     |     |  |->34  White\n",
      "   |              |  |     |     |  |\n",
      "   |              |  |     |     |->33 else if Residual sugar =< 0.92: go to 34, else go to 35\n",
      "   |              |  |     |        |\n",
      "   |              |  |     |        |        |->38  White\n",
      "   |              |  |     |        |        |\n",
      "   |              |  |     |        |     |->37 then if Free sulfur dioxide =< 6.50: go to 38, else go to 39\n",
      "   |              |  |     |        |     |  |\n",
      "   |              |  |     |        |     |  |        |->42  White\n",
      "   |              |  |     |        |     |  |        |\n",
      "   |              |  |     |        |     |  |     |->41 then if pH =< 3.31: go to 42, else go to 43\n",
      "   |              |  |     |        |     |  |     |  |\n",
      "   |              |  |     |        |     |  |     |  |->43  White\n",
      "   |              |  |     |        |     |  |     |\n",
      "   |              |  |     |        |     |  |  |->40 then if Citric acid =< 0.23: go to 41, else go to 44\n",
      "   |              |  |     |        |     |  |  |  |\n",
      "   |              |  |     |        |     |  |  |  |->44  White\n",
      "   |              |  |     |        |     |  |  |\n",
      "   |              |  |     |        |     |  |->39 else if Sulphates =< 0.75: go to 40, else go to 45\n",
      "   |              |  |     |        |     |     |\n",
      "   |              |  |     |        |     |     |->45  White\n",
      "   |              |  |     |        |     |\n",
      "   |              |  |     |        |  |->36 then if Alcohol =< 13.58: go to 37, else go to 46\n",
      "   |              |  |     |        |  |  |\n",
      "   |              |  |     |        |  |  |->46  White\n",
      "   |              |  |     |        |  |\n",
      "   |              |  |     |        |->35 else if Sulphates =< 0.78: go to 36, else go to 47\n",
      "   |              |  |     |           |\n",
      "   |              |  |     |           |->47  White\n",
      "   |              |  |     |\n",
      "   |              |  |  |->28 then if Total sulfur dioxide =< 275.00: go to 29, else go to 48\n",
      "   |              |  |  |  |\n",
      "   |              |  |  |  |->48  White\n",
      "   |              |  |  |\n",
      "   |              |  |->27 else if Sulphates =< 0.81: go to 28, else go to 49\n",
      "   |              |     |\n",
      "   |              |     |->49  White\n",
      "   |              |\n",
      "   |           |->24 then if pH =< 3.83: go to 25, else go to 50\n",
      "   |           |  |\n",
      "   |           |  |->50  Red\n",
      "   |           |\n",
      "   |        |->23 then if Chlorides =< 0.07: go to 24, else go to 51\n",
      "   |        |  |\n",
      "   |        |  |->51  White\n",
      "   |        |\n",
      "   |     |->22 then if Sulphates =< 1.12: go to 23, else go to 52\n",
      "   |     |  |\n",
      "   |     |  |->52  Red\n",
      "   |     |\n",
      "   |  |->21 then if Volatile acidity =< 0.82: go to 22, else go to 53\n",
      "   |  |  |\n",
      "   |  |  |->53  Red\n",
      "   |  |\n",
      "   |->20 else if Chlorides =< 0.07: go to 21, else go to 54\n",
      "      |\n",
      "      |     |->56  Red\n",
      "      |     |\n",
      "      |  |->55 then if Citric acid =< 0.06: go to 56, else go to 57\n",
      "      |  |  |\n",
      "      |  |  |  |->58  Red\n",
      "      |  |  |  |\n",
      "      |  |  |->57 else if Chlorides =< 0.07: go to 58, else go to 59\n",
      "      |  |     |\n",
      "      |  |     |     |->61  Red\n",
      "      |  |     |     |\n",
      "      |  |     |  |->60 then if Total sulfur dioxide =< 68.50: go to 61, else go to 62\n",
      "      |  |     |  |  |\n",
      "      |  |     |  |  |->62  White\n",
      "      |  |     |  |\n",
      "      |  |     |->59 else if Fixed acidity =< 9.95: go to 60, else go to 63\n",
      "      |  |        |\n",
      "      |  |        |->63  Red\n",
      "      |  |\n",
      "      |->54 else if Density =< 1.00: go to 55, else go to 64\n",
      "         |\n",
      "         |        |->67  White\n",
      "         |        |\n",
      "         |     |->66 then if Volatile acidity =< 0.23: go to 67, else go to 68\n",
      "         |     |  |\n",
      "         |     |  |->68  Red\n",
      "         |     |\n",
      "         |  |->65 then if Total sulfur dioxide =< 157.50: go to 66, else go to 69\n",
      "         |  |  |\n",
      "         |  |  |->69  White\n",
      "         |  |\n",
      "         |->64 else if Residual sugar =< 6.25: go to 65, else go to 70\n",
      "            |\n",
      "            |->70  White\n",
      "<---------------------------------------------------------------------------------------->\n",
      "Tree Depth:  18\n"
     ]
    }
   ],
   "source": [
    "from sklearn.tree import DecisionTreeClassifier\n",
    "from treeprint import tree_print\n",
    "\n",
    "dtc = DecisionTreeClassifier(min_samples_split=100, criterion='gini')\n",
    "dt = dtc.fit(X, Y)\n",
    "\n",
    "tree_print(dt, attributes, classNames)"
   ]
  },
  {
   "cell_type": "markdown",
   "metadata": {},
   "source": [
    "----\n",
    "write your answer here\n",
    "\n",
    "----\n",
    "\n",
    "min_samples_split determines the complexity of tree. The values shows, the minimum amount attributes needed to make a split. So if we set the value to let's say 10 or 5 or even less, the Tree will be very deep and sparse, which in turn will increase the computation time for constructing the tree and that is really bad in practise. Because the tree will fit the training data perfectly, but practically it might miss classify samples it has never seen. This is known as over fitting. So it's relatively a good practice to keep the min_samples_split on higher side."
   ]
  },
  {
   "cell_type": "markdown",
   "metadata": {},
   "source": [
    "#### 3.1.3\n",
    "\n",
    "(0.5 pts) Show that a wine with the following attribute values would be classified as white by the tree fitted in 3.1.2, by applying the `predict()` function from the DecisionTreeClassifier to this sample.  Have another look at the visualized tree. Which attributes are used to classify this wine? \n",
    "\n",
    "| #             | Attribute     | Value  |\n",
    "| ------------- |:-------------| -----:|\n",
    "|1 | Fixed acidity (tartaric) | 6.9 g/dm$^3$ |\n",
    "|2 | Volatile acidity (acetic) | 1.09 g/dm$^3$ |\n",
    "|3 | Citric acid | 0.06 g/dm$^3$ |\n",
    "|4 | Residual sugar | 2.1 g/dm$^3$ |\n",
    "|5 | Chlorides | 0.0061 g/dm$^3$ |\n",
    "|6 | Free sulfur dioxide | 12 mg/dm$^3$ |\n",
    "|7 | Total sulfur dioxide | 31 mg/dm$^3$ |\n",
    "|8 | Density | 0.99 g/cm$^3$ |\n",
    "|9 | pH | 3.5 |\n",
    "|10 | Sulphates | 0.64 g/dm$^3$ |\n",
    "|11 | Alcohol | 12 % vol. | \n",
    "\n",
    "** hints: **\n",
    "*If you don't know how to classify input values with a tree, see the help documentation for the DecisionTreeClassifier function on how to predict the label for a sample. *"
   ]
  },
  {
   "cell_type": "code",
   "execution_count": 3,
   "metadata": {},
   "outputs": [
    {
     "data": {
      "text/plain": [
       "array(['White'], dtype='<U5')"
      ]
     },
     "execution_count": 3,
     "metadata": {},
     "output_type": "execute_result"
    }
   ],
   "source": [
    "sample = np.array([6.9,1.09,0.06,2.1,0.0061,12., 31.,0.99,3.5,0.64,12], np.float64)\n",
    "dt.classes_ = np.array(classNames)\n",
    "dt.predict(sample.reshape(1, -1))"
   ]
  },
  {
   "cell_type": "markdown",
   "metadata": {},
   "source": [
    "----\n",
    "write your answer here\n",
    "\n",
    "----\n",
    "\n",
    "Attributes used to classify the sample: \n",
    "1.total suflur dioxide =< 61 (True) --> 5.Chlorides =< 0.05 (True) --> 10.Sulphates =< 0.56 (False) --> White"
   ]
  },
  {
   "cell_type": "markdown",
   "metadata": {},
   "source": [
    "#### 3.1.4\n",
    "(1 pts) Classify all the wines in the wine data set. What percentage of the wine data is classified correctly by the tree?\n",
    "\n"
   ]
  },
  {
   "cell_type": "code",
   "execution_count": 4,
   "metadata": {},
   "outputs": [
    {
     "name": "stdout",
     "output_type": "stream",
     "text": [
      "0.9868337563451777\n"
     ]
    }
   ],
   "source": [
    "dt.classes_ = np.array([0,1])\n",
    "predictions = dt.predict(X)\n",
    "accuracy = (predictions == Y).mean()\n",
    "print(accuracy)"
   ]
  },
  {
   "cell_type": "markdown",
   "metadata": {},
   "source": [
    "----\n",
    "write your answer here\n",
    "\n",
    "----\n",
    "\n",
    "It shows that the accuracy is 98.68%"
   ]
  },
  {
   "cell_type": "markdown",
   "metadata": {},
   "source": [
    "## 3.2 Decision tree pruning using cross-validation\n",
    "\n",
    "In this exercise we will use cross-validation to prune a decision tree. When applying cross-validation the observed data is split into training and test sets, i.e., `X_train`, `y_train` and `X_test` and `y_test`. We train the model on the training data and evaluate the performance of the trained model on the test data.\n",
    "\n",
    "#### 3.2.1\n",
    "(2 pts) We are again using the wine data set `Data/wine.mat`. Divide the data into a training and a test data set (see hints!). Fit a decision tree to the training data using the Gini (`gdi`) splitting criterion.\n",
    "\n",
    "Now, we want to find an optimally pruned decision tree by *modifying its maximum depth*. For different values of the parameter `depth` (from 2 to 20), \n",
    "+ first fit the decision tree\n",
    "+ then compute the classification error on the training and test set (this is called holdout cross-validation)\n",
    "\n",
    "When you've done this for `depth` values 2,...,20, plot the training and test classification error as a function of the tree depth in the same figure. This will show us what the optimal pruning depth is for the training set, but also how well this generalizes to a test set. \n",
    "\n",
    "\n",
    "** hints: **  \n",
    "*Take a look at the module `sklearn.model_selection` and see how it can be used to partition the data into a training and a test set (holdout validation, `train_test_split()` function). Note that the package also contains functions to partition data for K-fold cross-validation. Some of the functions can ensure that both training and test sets have roughly the same class proportions. The error is 1-accuracy. The easiest way to compute the accuracy is by using the sklearn metrics module: \n",
    " https://scikit-learn.org/stable/modules/generated/sklearn.metrics.accuracy_score.html *\n",
    "\n",
    "What appears to be the optimal tree depth? Do you get the same result when you run your code again, generating a new random split between training and test data?\n"
   ]
  },
  {
   "cell_type": "code",
   "execution_count": 5,
   "metadata": {},
   "outputs": [
    {
     "data": {
      "text/plain": [
       "<Figure size 1500x1500 with 1 Axes>"
      ]
     },
     "metadata": {},
     "output_type": "display_data"
    }
   ],
   "source": [
    "from sklearn.model_selection import train_test_split\n",
    "from sklearn.metrics import accuracy_score\n",
    "import matplotlib.pyplot as plt\n",
    "\n",
    "X_train, X_test, Y_train, Y_test = train_test_split(X, Y, test_size=0.2)\n",
    "\n",
    "accuracy_list = []\n",
    "depth_list = [i for i in range(2, 21)]\n",
    "\n",
    "\n",
    "for i in range(2, 21):\n",
    "    # Fitting tree\n",
    "    dtc = DecisionTreeClassifier(min_samples_split=100, max_depth=i, criterion='gini')\n",
    "    dt = dtc.fit(X_train, Y_train)\n",
    "    \n",
    "    # Predict\n",
    "    Y_predicted = dt.predict(X_test)\n",
    "    \n",
    "    # Append to accuracy list\n",
    "    accuracy_list.append(accuracy_score(Y_test, Y_predicted))\n",
    "    \n",
    "\n",
    "plt.rcParams[\"figure.figsize\"] = (15,15)\n",
    "fig, ax = plt.subplots()\n",
    "ax.plot(depth_list, accuracy_list, color='green', marker='o', linestyle='dashed')\n",
    "\n",
    "ax.set(xlabel='Tree depth', ylabel='Accuracy on test set',\n",
    "       title='Accuracy dependence on tree depth')\n",
    "\n",
    "ax.grid()\n",
    "plt.xlim(2,20)\n",
    "plt.show()\n"
   ]
  },
  {
   "cell_type": "markdown",
   "metadata": {},
   "source": [
    "----\n",
    "write your answer here\n",
    "\n",
    "----\n",
    "\n",
    "<h3>Answer</h3>\n",
    "\n",
    "For splits that have 10-15% test data tree depth varies from 4-6, it looks a bit less random than 25:75 split.\n",
    "\n",
    "For splits that have 25% test data tree depth varies from 6 to 10, sometimes 4 is the most efficient tree depth.\n",
    "\n",
    "For splits that have 30-35% test data tree depth varies from 4-6 though it does .\n",
    "\n",
    "\n",
    "To conclude, to have a good classification model for predicting wine class a tree model of depth 4-12 would be recomended, but it is very dependant on the test/train split, further analysis is needed to make a strong claim."
   ]
  },
  {
   "cell_type": "markdown",
   "metadata": {},
   "source": [
    "#### 3.2.2\n",
    "(1.5 pts) Repeat the exercise above, using 10-fold cross-validation. K-fold cross-validation works by splitting X into K partitions of equal length. Then in each fold, you choose K-1 partitions as the training set and the remaining partition as the test set. Every partition gets a turn being a test set. For a very nice simple explanation of how (and why) K-fold works, check out http://www.dummies.com/programming/big-data/data-science/resorting-cross-validation-machine-learning/\n",
    "\n",
    "\n",
    "For each fold, fit a decision tree on the training set and evaluate its performance on the test set. Finally, compute the average classification errors on the test- and training sets across the 10 cross-validation folds and plot them as a function of the tree depth.\n",
    "\n",
    "** hints: **\n",
    "*This time the `KFold()` function from the module `sklearn.model_selection` can be used to partition the data into the 10 training and test partitions. Check out http://scikit-learn.org/stable/modules/cross_validation.html#k-fold for an example of how to acces the indices for the training set and the test set in each fold. Those indices can then be used to create the training and test set, e.g. `X_train = X[train_indices]`*\n",
    "\n",
    "*If you are creating a for loop iterating over an object where you both need the index and the elements of the object, you can enumerate the object. For example:*\n",
    "\n",
    "`\n",
    "for index, (element) in enumerate(object):\n",
    "    array[index] = operation(element)\n",
    "`\n",
    " \n",
    "\n",
    "What appears to be the optimal tree depth? Do you get the same result when you run your code again, generating a new random split between training and test data? How about 100-fold cross-validation?\n"
   ]
  },
  {
   "cell_type": "code",
   "execution_count": 6,
   "metadata": {},
   "outputs": [
    {
     "data": {
      "image/png": "[encoded data removed]",
      "text/plain": [
       "<Figure size 432x288 with 1 Axes>"
      ]
     },
     "metadata": {
      "needs_background": "light"
     },
     "output_type": "display_data"
    }
   ],
   "source": [
    "from sklearn.model_selection import KFold\n",
    "from statistics import mean\n",
    "\n",
    "\n",
    "accuracy_list = []\n",
    "depth_list = [i for i in range(2, 21)]\n",
    "kf = KFold(n_splits=10)\n",
    "\n",
    "\n",
    "for i in range(2, 21):\n",
    "    \n",
    "    fold_accuracy_list = []\n",
    "    \n",
    "    for train, test in kf.split(X):\n",
    "        X_train, Y_train = X[train], Y[train]\n",
    "        X_test, Y_test = X[test], Y[test]\n",
    "        \n",
    "        # Fitting tree\n",
    "        dtc = DecisionTreeClassifier(min_samples_split=100, max_depth=i, criterion='gini')\n",
    "        dt = dtc.fit(X_train, Y_train)\n",
    "        \n",
    "        # Predict\n",
    "        Y_predicted = dt.predict(X_test)\n",
    "        \n",
    "        fold_accuracy_list.append(accuracy_score(Y_test, Y_predicted))\n",
    "        \n",
    "    accuracy_list.append(mean(fold_accuracy_list))\n",
    "\n",
    "\n",
    "fig, ax = plt.subplots()\n",
    "ax.plot(depth_list, accuracy_list, color='blue', marker='+', linestyle='dashed')\n",
    "\n",
    "ax.set(xlabel='Tree depth', ylabel='K-fold average accuracy on test set',\n",
    "       title='Average K-Fold accuracy based on tree depth')\n",
    "\n",
    "ax.grid()\n",
    "plt.xlim(2,20)\n",
    "plt.show()"
   ]
  },
  {
   "cell_type": "markdown",
   "metadata": {},
   "source": [
    "----\n",
    "write your answer here\n",
    "\n",
    "----\n",
    "\n",
    "<h3>Answer</h3>\n",
    "\n",
    "The optimal tree depth appears to be in range of 4-10, though it is still somewhat random. I get slightly different results each time i run the code, 50% of the time, the optimal tree depth appears to be 4. Rarely had depth of 5-6 appeared and the rest usually were in range of 7-10. Though For a 100 fold cross-validation tree depth of 6 was most of the optimal tree."
   ]
  },
  {
   "cell_type": "markdown",
   "metadata": {},
   "source": [
    " ## 3.3 ROC curves, AUC scores, and the sign test\n",
    "\n",
    "In this exercise we will use ROC curves and the sign test to compare classifiers. Study the lecture slides and the paper 'ROC Graphs: Notes and Practical Considerations for Researchers' by Tom Fawcett included with the homework assignment (ROC101.pdf). It describes all you need to know (and much, much more..) about ROC curves. The method explained for computing the area under the curve is unnecessarily complicated. A simpler formula is:\n",
    "$$\n",
    "    \\mbox{AUC} = {1 \\over m n} \\sum_{i=1}^m \\sum_{j=1}^n \\mathbf{\\large 1}_{p_i > p_j} \\: .\n",
    "   $$\n",
    "Here $i$ runs over all $m$ data points with true label 1, and $j$ runs over all $n$ data points with true label $0$; $p_i$ and $p_j$ denote the probability score assigned by the classifier to data point $i$ and $j$, respectively. $\\mathbf{\\large 1}$ is the indicator function: it outputs $1$ if the condition (here $p_i > p_j$) is satisfied and $0$ otherwise. *Simply put: this formula computes how often the probability of a data point with true label 1 is higher than the probability of data points with true label 0. This is then divided by the total number of comparisons between probabilities.*\n",
    "    \n",
    "\n",
    "#### 3.3.1\n",
    "(0.25 pts) To make sure you understand how ROC works, make an ROC curve and calculate the AUC (on paper) with the following data:\n",
    "\n",
    "`\n",
    "labels = [0,0,0,1,0,1,1,0,1,1]\n",
    "classifier_probs = [0.1,0.2,0.3,0.4,0.5,0.6,0.7,0.8,0.9,0.99]\n",
    "`\n",
    "    \n",
    "What's the AUC you calculated? Do you think this classifier works well?\n"
   ]
  },
  {
   "cell_type": "markdown",
   "metadata": {},
   "source": [
    "----\n",
    "write your answer here\n",
    "\n",
    "----\n",
    "\n",
    "<h3>Answer</h3>\n",
    "\n",
    "AUC = 0.84, this clasifier is decent if we select a treshold of 0.5, in this rage we classify\n",
    " \n",
    "|4 TP | 1 FP|\n",
    "\n",
    "|1 TN | 4 TN|\n",
    "\n",
    "Which has 80% accuracy"
   ]
  },
  {
   "cell_type": "markdown",
   "metadata": {},
   "source": [
    "#### 3.3.2\n",
    "  Load the file `Data/classprobs.xls` using the Pandas `read_excel` function. Inspect the data and cast it to an array with the `.values` attribute. The first column gives the true class label (either 0 or 1). The second and third column give the probabilistic scores for two different classifiers. The higher this probability, the more certain the classifier is that the example belongs to class 1 (instead of class 0).\n"
   ]
  },
  {
   "cell_type": "code",
   "execution_count": 7,
   "metadata": {},
   "outputs": [
    {
     "name": "stdout",
     "output_type": "stream",
     "text": [
      "[[0.       0.13591  0.099401]\n",
      " [0.       0.55549  0.65075 ]\n",
      " [0.       0.23876  0.50857 ]\n",
      " [0.       0.14542  0.23629 ]\n",
      " [1.       0.81876  0.48949 ]\n",
      " [0.       0.50594  0.038203]\n",
      " [1.       0.93954  0.23982 ]\n",
      " [1.       0.22339  0.62287 ]\n",
      " [0.       0.31219  0.57823 ]\n",
      " [0.       0.19486  0.61664 ]\n",
      " [1.       0.61471  0.5013  ]\n",
      " [1.       0.63854  0.75183 ]\n",
      " [0.       0.29924  0.33768 ]\n",
      " [0.       0.16546  0.44035 ]\n",
      " [1.       0.72124  0.44813 ]\n",
      " [0.       0.1088   0.37254 ]\n",
      " [1.       0.48676  0.25349 ]\n",
      " [1.       0.94156  0.64531 ]\n",
      " [0.       0.2968   0.53258 ]\n",
      " [0.       0.24267  0.26251 ]\n",
      " [0.       0.17043  0.44888 ]\n",
      " [0.       0.015464 0.5467  ]\n",
      " [1.       0.30852  0.32406 ]\n",
      " [0.       0.11212  0.28476 ]\n",
      " [0.       0.29639  0.41658 ]\n",
      " [1.       0.97275  0.79959 ]\n",
      " [1.       0.58501  0.30657 ]\n",
      " [0.       0.12244  0.43778 ]\n",
      " [1.       0.87557  0.75815 ]\n",
      " [1.       0.76142  0.32031 ]\n",
      " [0.       0.14132  0.22986 ]\n",
      " [1.       0.86004  0.35583 ]\n",
      " [0.       0.13915  0.39455 ]\n",
      " [0.       0.18889  0.49216 ]\n",
      " [1.       0.96075  0.67214 ]\n",
      " [1.       0.83076  0.77401 ]\n",
      " [0.       0.089368 0.11584 ]\n",
      " [1.       0.68199  0.61933 ]\n",
      " [1.       0.85489  0.57659 ]\n",
      " [1.       0.56139  0.63589 ]\n",
      " [1.       0.93078  0.41764 ]\n",
      " [1.       0.75955  0.54143 ]\n",
      " [1.       0.61855  0.61504 ]\n",
      " [0.       0.092059 0.10315 ]\n",
      " [0.       0.67612  0.58934 ]\n",
      " [1.       0.63252  0.43285 ]\n",
      " [0.       0.31297  0.84436 ]\n",
      " [1.       0.82238  0.41054 ]\n",
      " [0.       0.51416  0.12823 ]\n",
      " [1.       0.99809  0.3195  ]\n",
      " [1.       0.72686  0.53859 ]\n",
      " [1.       0.55046  0.8621  ]\n",
      " [0.       0.25546  0.48115 ]\n",
      " [1.       0.94669  0.73634 ]\n",
      " [0.       0.27347  0.053111]\n",
      " [1.       0.31107  0.45811 ]\n",
      " [0.       0.24862  0.38683 ]\n",
      " [0.       0.50734  0.61375 ]\n",
      " [1.       0.43013  0.63192 ]\n",
      " [1.       0.52135  0.52524 ]\n",
      " [1.       0.85277  0.55801 ]\n",
      " [1.       0.68814  0.71352 ]\n",
      " [0.       0.034719 0.18274 ]\n",
      " [0.       0.30511  0.75859 ]\n",
      " [1.       0.84431  0.65031 ]\n",
      " [0.       0.082462 0.26048 ]\n",
      " [0.       0.018232 0.45213 ]\n",
      " [0.       0.51123  0.54973 ]\n",
      " [1.       0.36436  0.64985 ]\n",
      " [0.       0.15529  0.44893 ]\n",
      " [1.       0.74259  0.43821 ]\n",
      " [0.       0.23423  0.47979 ]\n",
      " [0.       0.5569   0.41085 ]\n",
      " [1.       0.98439  0.6358  ]\n",
      " [0.       0.66793  0.14227 ]\n",
      " [1.       0.64618  0.72749 ]\n",
      " [0.       0.33115  0.41956 ]\n",
      " [1.       0.65452  0.65668 ]\n",
      " [1.       0.74047  0.50759 ]\n",
      " [1.       0.67109  0.48028 ]\n",
      " [0.       0.47944  0.30758 ]\n",
      " [1.       0.61722  0.68681 ]\n",
      " [1.       0.58154  0.74264 ]\n",
      " [0.       0.18569  0.62643 ]\n",
      " [0.       0.42642  0.11776 ]\n",
      " [0.       0.34196  0.27483 ]\n",
      " [0.       0.19386  0.31169 ]\n",
      " [1.       0.71375  0.49963 ]\n",
      " [1.       0.70223  0.52853 ]\n",
      " [0.       0.034833 0.55323 ]\n",
      " [0.       0.28422  0.31598 ]\n",
      " [1.       0.78385  0.29664 ]\n",
      " [1.       0.93666  0.51497 ]\n",
      " [1.       0.83752  0.49083 ]\n",
      " [0.       0.11601  0.24568 ]\n",
      " [1.       0.85762  0.52682 ]\n",
      " [0.       0.3934   0.54303 ]\n",
      " [0.       0.21118  0.26469 ]\n",
      " [0.       0.60127  0.45642 ]\n",
      " [1.       0.87517  0.73298 ]\n",
      " [0.       0.27786  0.25315 ]\n",
      " [0.       0.26974  0.35386 ]\n",
      " [0.       0.014577 0.3425  ]\n",
      " [1.       0.66804  0.33838 ]\n",
      " [1.       0.83725  0.61015 ]\n",
      " [1.       0.89512  0.79699 ]\n",
      " [0.       0.18806  0.25373 ]]\n"
     ]
    }
   ],
   "source": [
    "import pandas as pd\n",
    "\n",
    "data = pd.read_excel(\"Data/classprobs.xls\").values\n",
    "\n",
    "print(data)"
   ]
  },
  {
   "cell_type": "markdown",
   "metadata": {},
   "source": [
    "#### 3.3.3\n",
    "(1 pts) Calculate the ROC curves for both of the classifiers by calculating the FP and TP rates and plot them in the same plot. Make the plot yourself as opposed to using a library! Also plot a dashed line on the diagonal to represent random guessing in the same figure. Interpret the obtained results. Do both classifiers perform better than random guessing?\n",
    "\n",
    "** hints: **  \n",
    "*The function `sklearn.metrics.roc_curve` can be used for computing the FP and TP rates. You can then plot them using the `matplotlib.pyplot` `plot` function. Check the documentation on how to plot a dashed line. Remember to include a legend!* \n",
    "\n",
    "**An extra tip: the sign test example below includes a figure with dashed lines and a legend...**\n",
    " "
   ]
  },
  {
   "cell_type": "code",
   "execution_count": 8,
   "metadata": {},
   "outputs": [
    {
     "data": {
      "image/png": "[encoded data removed]",
      "text/plain": [
       "<Figure size 1080x1080 with 1 Axes>"
      ]
     },
     "metadata": {
      "needs_background": "light"
     },
     "output_type": "display_data"
    }
   ],
   "source": [
    "from sklearn.metrics import roc_curve\n",
    "\n",
    "plt.rcParams[\"figure.figsize\"] = (15,15)\n",
    "\n",
    "# parsing values\n",
    "y = data[:, 0]\n",
    "\n",
    "clf_1 = data[:, 1]\n",
    "clf_2 = data[:, 2]\n",
    "\n",
    "# Calculating ROC curves for both classifiers\n",
    "\n",
    "fp_1, tp_1, tr_1 = roc_curve(y, clf_1)\n",
    "fp_2, tp_2, tr_2 = roc_curve(y, clf_2)\n",
    "\n",
    "plot1 = plt.plot(fp_1, tp_1, color='blue', marker='D', linestyle='dashed')\n",
    "plot2 = plt.plot(fp_2, tp_2, color='red', marker='o', linestyle='dashed')\n",
    "plt.plot(plt.xlim(), plt.ylim(), color='black', linestyle='dashed')\n",
    "\n",
    "ax.set(xlabel='False positives(FP)', ylabel='True positives(TP)',\n",
    "       title='ROC curves for both classifiers')\n",
    "ax.grid()\n",
    "#plt.xlim(0,1)\n",
    "#plt.ylim(0,1)\n",
    "plt.legend(['Classifier 1', 'Classifier 2'], fontsize='x-large')\n",
    "plt.show()\n"
   ]
  },
  {
   "cell_type": "markdown",
   "metadata": {},
   "source": [
    "----\n",
    "write your answer here\n",
    "\n",
    "----\n",
    "\n",
    "<h3>Answer</h3>\n",
    "Both classifiers perform better than random guessing. Though the first classifier clearly does better then the second one."
   ]
  },
  {
   "cell_type": "markdown",
   "metadata": {},
   "source": [
    "#### 3.3.4\n",
    "(0.5 pts) Compute the AUC scores (area under the curve) of both classifiers using the formula given above. **Write your own code for this calculation.** Do the AUC scores indicate that the classifiers are performing better than this baseline?\n",
    "\n",
    "\n",
    "\n",
    "\n",
    " "
   ]
  },
  {
   "cell_type": "code",
   "execution_count": 9,
   "metadata": {},
   "outputs": [
    {
     "name": "stdout",
     "output_type": "stream",
     "text": [
      "0.7529699510831587\n",
      "0.6547868623340322\n"
     ]
    }
   ],
   "source": [
    "n = y[np.where(y == 0.)]\n",
    "m = y[np.where(y == 1.)]\n",
    "\n",
    "def calc_AUC(props):\n",
    "    element_sum = 0\n",
    "    for index, val in enumerate(y):\n",
    "\n",
    "        if val == 0:\n",
    "            continue\n",
    "\n",
    "        for i in range(index):\n",
    "            if props[index] > props[i]:\n",
    "                element_sum+=1\n",
    "    \n",
    "    return  element_sum/(n.size * m.size)\n",
    "\n",
    "clf_1_auc = calc_AUC(clf_1)\n",
    "clf_2_auc = calc_AUC(clf_2)\n",
    "\n",
    "print(clf_1_auc)\n",
    "print(clf_2_auc)"
   ]
  },
  {
   "cell_type": "markdown",
   "metadata": {},
   "source": [
    "----\n",
    "write your answer here\n",
    "\n",
    "----\n",
    "\n",
    "<h3>Answer</h3>\n",
    "Since any releastic AUC should have more than 0.5 AUC. Both of the classifiers are performing better than the baseline."
   ]
  },
  {
   "cell_type": "markdown",
   "metadata": {},
   "source": [
    "\n",
    "#### 3.3.5\n",
    "(0.25 pts) Using a threshold of 0.5, translate the probability scores to predicted class labels, and compute the accuracy for each of the classifiers.\n",
    "\n",
    "** hint: **\n",
    "\n",
    "*Take a look at https://scikit-learn.org/stable/modules/generated/sklearn.metrics.accuracy_score.html *"
   ]
  },
  {
   "cell_type": "code",
   "execution_count": 10,
   "metadata": {},
   "outputs": [
    {
     "name": "stdout",
     "output_type": "stream",
     "text": [
      "0.8598130841121495\n",
      "0.6915887850467289\n"
     ]
    }
   ],
   "source": [
    "clf1_pred = clf_1 > 0.5\n",
    "clf2_pred = clf_2 > 0.5\n",
    "\n",
    "y_bool = y.astype(np.bool)\n",
    "\n",
    "clf1_acc = accuracy_score(y_bool, clf1_pred)\n",
    "clf2_acc = accuracy_score(y_bool, clf2_pred)\n",
    "\n",
    "print(clf1_acc)\n",
    "print(clf2_acc)"
   ]
  },
  {
   "cell_type": "markdown",
   "metadata": {},
   "source": [
    "#### 3.3.6\n",
    "(1 pts) Create the 2x2 table (or array, or list, or dataframe..) of wrong and correct classifications by the first and the second classifier, like in the lecture slides (lecture on model evaluation, part on the sign test). Perform a sign test to test whether the performance of the two classifiers is significantly different at a significance level of 0.05. **If you are not familiar with sign testing, you can read the example provided below.**\n",
    "\n",
    "\n",
    "** hints: **  \n",
    "*As explained in the lecture slides, the sign test is a binomial test on the lower-left ($N_{1<2}$) and upper-right ($N_{1>2}$) elements of the cross table. Unlike in the lecture slides, here you need to perform a two-sided test: $$\\textrm{p-value} = P(W \\leq \\min(N_{1<2},N_{1>2}) \\textrm{ or } W \\geq  \\max(N_{1<2},N_{1>2})$$\n",
    "The function `scipy.stats.binom.cdf` can be used to compute the cumulative density of the binomial distribution.\n",
    "For more information on the sign test, see the included paper by Salzberg (signtest.pdf, in particular section 3.1).*"
   ]
  },
  {
   "cell_type": "code",
   "execution_count": 18,
   "metadata": {},
   "outputs": [
    {
     "name": "stdout",
     "output_type": "stream",
     "text": [
      "0.11474050651304421\n"
     ]
    }
   ],
   "source": [
    "from scipy.stats import binom\n",
    "\n",
    "# was used for testing purposes, can be ignored\n",
    "def create_full_cost_matrix(arr):\n",
    "    \n",
    "    cmatrix = np.empty((2,2), dtype=np.int32)   \n",
    "    \n",
    "    cmatrix[0,0] = np.where((arr == True) & (y_bool == True))[0].size\n",
    "    cmatrix[0,1] = np.where((arr == False) & (y_bool == True))[0].size\n",
    "    \n",
    "    cmatrix[1,0] = np.where((arr == True) & (y_bool == False))[0].size\n",
    "    cmatrix[1,1] = np.where((arr == False) & (y_bool == False))[0].size\n",
    "    \n",
    "    return cmatrix\n",
    "\n",
    "def create_sign_test_matrix(m1, m2):\n",
    "    m = np.empty((2,2), dtype=np.int32)   \n",
    "    \n",
    "    m[0,0] = np.where((m1 == True) & (m2 == True))[0].size\n",
    "    m[1,1] = np.where((m1 == False) & (m1 == False))[0].size\n",
    "    \n",
    "    m[0,1] = np.where((m1 == True) & (m2 == False))[0].size\n",
    "    m[1,0] = np.where((m1 == False) & (m2 == True))[0].size\n",
    "    \n",
    "    return m\n",
    "    \n",
    "    \n",
    "# Creating full cost matricies\n",
    "cmatrix1 = create_full_cost_matrix(clf1_pred)\n",
    "cmatrix2 = create_full_cost_matrix(clf2_pred)\n",
    "\n",
    "# Create matrix for sign test\n",
    "matrix = create_sign_test_matrix(clf1_pred, clf2_pred)\n",
    "N = matrix[0,1] + matrix[1,0]\n",
    "\n",
    "sign_test = binom.cdf(min(matrix[0,1], matrix[1,0]), n=N, p=0.5)\n",
    "\n",
    "print(sign_test)"
   ]
  },
  {
   "cell_type": "markdown",
   "metadata": {},
   "source": [
    "----\n",
    "write your answer here\n",
    "\n",
    "----\n",
    "\n",
    "<h3>Answer</h3>\n",
    "If I have correctly calculated the sign test it shows that the both classifiers are not significantly different. because sign_test > 0.05"
   ]
  },
  {
   "cell_type": "markdown",
   "metadata": {},
   "source": [
    "## Example two-sided sign test\n",
    "\n",
    "Imagine you have a lucky coin, that you are certain does not result in heads 50% of the times you flip it. However, you friend (lets call him *zero_hypothesis*) claims that your coin is just like his random coin. To verify whether this is true, you decide to compare the performance (you are a scientist after all) of your lucky coin resulting in heads to the performance of his random coin resulting in heads with a sign test. How do you do this?\n",
    "\n",
    "First, you collect data. Assume you place 23 bets. During those 23 bets, you both flip your respective coins. It was determined that if one of you flipped head while the other didn't, that person won the bet, and the other person lost. If you both got the same outcome, neither of you won. 1 stands for head, and 0 for tails. These were your results:"
   ]
  },
  {
   "cell_type": "code",
   "execution_count": 12,
   "metadata": {},
   "outputs": [
    {
     "name": "stdout",
     "output_type": "stream",
     "text": [
      "----------lucky | random \n",
      " bet 0      | 1 | 0\n",
      " bet 1      | 1 | 1\n",
      " bet 2      | 1 | 0\n",
      " bet 3      | 0 | 1\n",
      " bet 4      | 1 | 0\n",
      " bet 5      | 1 | 1\n",
      " bet 6      | 1 | 0\n",
      " bet 7      | 1 | 0\n",
      " bet 8      | 1 | 0\n",
      " bet 9      | 0 | 1\n",
      " bet 10     | 1 | 0\n",
      " bet 11     | 1 | 1\n",
      " bet 12     | 1 | 0\n",
      " bet 13     | 1 | 1\n",
      " bet 14     | 0 | 1\n",
      " bet 15     | 1 | 1\n",
      " bet 16     | 1 | 1\n",
      " bet 17     | 0 | 0\n",
      " bet 18     | 1 | 0\n",
      " bet 19     | 1 | 0\n",
      " bet 20     | 1 | 0\n",
      " bet 21     | 0 | 0\n",
      " bet 22     | 1 | 0\n",
      " -----\n",
      "\n"
     ]
    }
   ],
   "source": [
    "import numpy as np\n",
    "from scipy.stats import binom\n",
    "import matplotlib.pyplot as plt\n",
    "\n",
    "#results\n",
    "lucky_coin = np.array([1,1,1,0,1,1,1,1,1,0,1,1,1,1,0,1,1,0,1,1,1,0,1])\n",
    "random_coin= np.array([0,1,0,1,0,1,0,0,0,1,0,1,0,1,1,1,1,0,0,0,0,0,0])\n",
    "\n",
    "print('----------lucky | random \\n',*['bet {:<5}  | {} | {}\\n'.format(t[0],t[1],t[2]) for t in zip(range(0,len(lucky_coin)),lucky_coin,random_coin)],'-----\\n')"
   ]
  },
  {
   "cell_type": "markdown",
   "metadata": {},
   "source": [
    "Now you calculate how often in any pair of outcomes one coin *won*, i.e. one coin flipped to head while the other flipped to tails."
   ]
  },
  {
   "cell_type": "code",
   "execution_count": 13,
   "metadata": {},
   "outputs": [
    {
     "name": "stdout",
     "output_type": "stream",
     "text": [
      "The lucky coin won 12 times, while the random won 3 times.\n"
     ]
    }
   ],
   "source": [
    "N_l = sum((lucky_coin == 1) & (random_coin == 0)) #how often your lucky coin won\n",
    "N_r = sum((lucky_coin == 0) & (random_coin == 1)) #how often the random coin won\n",
    "N = N_l + N_r #how often one coin was a winner\n",
    "print('The lucky coin won {} times, while the random won {} times.'.format(N_l,N_r))"
   ]
  },
  {
   "cell_type": "markdown",
   "metadata": {},
   "source": [
    "You observed 15 times that one coin won. If both coins resulted in heads 50% of the time, like *zero_hypothesis* stated, you'd expect that both coins have 50% chance of being the winner. So the probability distributions for both N_l and N_r should look something like this, assuming that *zero_hypothesis* is right:"
   ]
  },
  {
   "cell_type": "code",
   "execution_count": 14,
   "metadata": {},
   "outputs": [
    {
     "data": {
      "image/png": "[encoded data removed]",
      "text/plain": [
       "<Figure size 1080x1080 with 1 Axes>"
      ]
     },
     "metadata": {
      "needs_background": "light"
     },
     "output_type": "display_data"
    }
   ],
   "source": [
    "b = binom(N,0.5) #N=observations of inequality, p=prob of one coin being better, which is 0.5 according to your H0\n",
    "plt.plot(b.pmf(range(N+1)), '--o',label = 'Probability density')\n",
    "plt.plot(b.cdf(range(N+1)), '--o',label = 'Cumulative distribution')\n",
    "plt.legend()\n",
    "plt.xlabel('Number of times one coin is better than the other')\n",
    "plt.ylabel('Probability')\n",
    "plt.title('Distribution according to H0')\n",
    "plt.show()"
   ]
  },
  {
   "cell_type": "markdown",
   "metadata": {},
   "source": [
    "(Of course this is a discrete probability function, so you're not interested in values between integers.)\n",
    "\n",
    "As you can see, according to *zero_hypothesis*, 7 and 8 are the most likely values for both N_l and N_r. But this is not what you observed in your data. To conclude that *H0* is false, you need to show that your outcome is unlikely under the assumption that *H0* is true: the values you observed are so extreme that these values or more extreme values occur less than 5% of the time (*p-value < 0.05*). So how unlikely is it that one coin is better 12 times or more, and the other is better 3 times or less?\n",
    "\n",
    "It's the sum of the values of the probability density function (pdf or pmf in the python doc) at  0,1,2 and 3, plus the sum of the values of the pdf at 12,13,14 and 15. \n",
    "\n",
    "This is equal to the value of the cumulative distribution function (cdf) at 3, plus 1 minus the value of cdf at 11 (since `1-cdf(11)` represents the probability of observing 12 or bigger)."
   ]
  },
  {
   "cell_type": "code",
   "execution_count": 15,
   "metadata": {},
   "outputs": [
    {
     "name": "stdout",
     "output_type": "stream",
     "text": [
      "The p-value is 0.035\n"
     ]
    }
   ],
   "source": [
    "p_value = b.cdf(min(N_r,N_l)) + (1-b.cdf(max(N_r,N_l)-1))\n",
    "print('The p-value is {:.3f}'.format(p_value))"
   ]
  },
  {
   "cell_type": "markdown",
   "metadata": {},
   "source": [
    "So your observations are very unlikely if *zero_hypothesis* is right. By statistical theory, you can now say that you have significant reason to reject their opinion. Now the hardest part of statistics: convincing your non-scientist friends."
   ]
  }
 ],
 "metadata": {
  "anaconda-cloud": {},
  "kernelspec": {
   "display_name": "Python 3",
   "language": "python",
   "name": "python3"
  },
  "language_info": {
   "codemirror_mode": {
    "name": "ipython",
    "version": 3
   },
   "file_extension": ".py",
   "mimetype": "text/x-python",
   "name": "python",
   "nbconvert_exporter": "python",
   "pygments_lexer": "ipython3",
   "version": "3.7.3"
  }
 },
 "nbformat": 4,
 "nbformat_minor": 1
}
