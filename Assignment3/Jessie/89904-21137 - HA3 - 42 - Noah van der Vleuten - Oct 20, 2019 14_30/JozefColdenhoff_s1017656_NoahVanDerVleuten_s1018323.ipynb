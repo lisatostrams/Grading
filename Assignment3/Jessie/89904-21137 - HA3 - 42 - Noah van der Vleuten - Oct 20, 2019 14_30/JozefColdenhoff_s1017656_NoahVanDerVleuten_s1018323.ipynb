{
 "cells": [
  {
   "cell_type": "markdown",
   "metadata": {},
   "source": [
    "# Assignment 3\n",
    "\n",
    "## Objective of this assignment\n",
    "The objective of this exercise is to become familiar with fitting decision trees and\n",
    "making ROC curves in Python.\n",
    "\n",
    "\n",
    "## ** Important: ** When handing in your homework:\n",
    "+ Hand in the notebook **(and nothing else)** named as follows: StudentName1_snumber_StudentName2_snumber.ipynb\n",
    "+ Provide clear and complete answers to the questions below under a separate header (not hidden somewhere in your source code), and make sure to explain your answers / motivate your choices. Add Markdown cells where necessary.\n",
    "+ Source code, output graphs, derivations, etc., should be included in the notebook.\n",
    "+ Hand-in: upload to Brightspace.\n",
    "+ Include name, student number, assignment (especially in filenames)!\n",
    "+ When working in pairs only one of you should upload the assignment, and report the name of your partner in your filename.\n",
    "+ Use the Brightspace discussion board or email the student assistants for questions on how to complete the exercises.\n",
    "+ If you find mistakes/have suggestions/would like to complain about the assigment material itself, please email me [Lisa] at `l.tostrams@science.ru.nl`\n",
    "\n",
    "\n",
    "## Advised Reading and Exercise Material\n",
    "**The following reading material is recommended:**\n",
    "\n",
    "Pang-Ning Tan, Michael Steinbach, and Vipin Kumar, Introduction to Data Mining, section 4.1-4.6, as well as the included article on ROC curves.\n"
   ]
  },
  {
   "cell_type": "markdown",
   "metadata": {},
   "source": [
    "## 3.1 Decision trees\n",
    "\n",
    "In this part of the exercise we will fit decision trees using the scikitlearn classifier\n",
    "`sklearn.tree.DecisionTreeClassifier`. As a splitting criterion, the function uses\n",
    "one of the following two impurity measures:\n",
    "\n",
    "\\begin{equation} \\textrm{gdi}(t) = -\\sum_{i=1}^C p(i|t)^2 \\quad \\text{       equivalent to Gini(t)} \\end{equation}   \n",
    "\n",
    "\\begin{equation}\n",
    "\\textrm{deviance}(t) = -2\\sum_{i=1}^C p(i|t) \\log p(i|t) \\quad \\text{equivalent to Entropy(t)} \n",
    "\\end{equation}\n",
    "\n",
    "We will analyze the wine data we have used previously. The wine data set has the following attributes, all of which are continuous: \n",
    "\n",
    "\n",
    "| #             | Attribute     | Unit  |\n",
    "| ------------- |:-------------| -----:|\n",
    "|1 | Fixed acidity (tartaric) | g/dm$^3$ |\n",
    "|2 | Volatile acidity (acetic) | g/dm$^3$ |\n",
    "|3 | Citric acid | g/dm$^3$ |\n",
    "|4 | Residual sugar | g/dm$^3$ |\n",
    "|5 | Chlorides | g/dm$^3$ |\n",
    "|6 | Free sulfur dioxide | mg/dm$^3$ |\n",
    "|7 | Total sulfur dioxide | mg/dm$^3$ |\n",
    "|8 | Density | g/cm$^3$ |\n",
    "|9 | pH | pH |\n",
    "|10 | Sulphates | g/dm$^3$ |\n",
    "|11 | Alcohol | % vol. | \n",
    "\n",
    "\n",
    "#### 3.1.1\n",
    "(0.5 pts) Load the wine data set `Data/wine.mat` using the `scipy.io` `loadmat` function. This contains the same data as used in the earlier assignment, but with outliers and the 12th attribute already removed. Create data matrix $X$, class vector $y$, and the lists $attributeNames$ and $classNames$ with the data provided in the `wine.mat` file. Print out the  $attributeNames$ and $classNames$ to make sure it's a list of strings.\n",
    "\n",
    "   ** hints: **   \n",
    "*The object in wine.mat is a dictionary. The attributes are stored in matrix $X$, the class in vector $y$. $y$ is shaped as an array containing single element arrays. To flatten $y$, you can use `y.ravel()`, which unravels matrices into a 1d array. Attribute names and class names are stored in the attributeNames and classNames objects, which contain arrays, of which the first element contains the names. To get the names from those arrays, you can use list comprehension or for-loops. For more on list comprehension, check https://www.digitalocean.com/community/tutorials/understanding-list-comprehensions-in-python-3. For example, if you have an larger array containing nested arrays of which you want the first element, you can try `new_array = [nested_array[0] for nested_array in larger_array]`.*\n",
    "\n"
   ]
  },
  {
   "cell_type": "code",
   "execution_count": 33,
   "metadata": {},
   "outputs": [
    {
     "name": "stdout",
     "output_type": "stream",
     "text": [
      "The 2 lists printed.\n",
      "\n",
      "attribute_names: ['Fixed acidity', 'Volatile acidity', 'Citric acid', 'Residual sugar', 'Chlorides', 'Free sulfur dioxide', 'Total sulfur dioxide', 'Density', 'pH', 'Sulphates', 'Alcohol']\n",
      "\n",
      "class_names: ['Red', 'White']\n"
     ]
    }
   ],
   "source": [
    "# Import the necessary libraries.\n",
    "import scipy.io\n",
    "\n",
    "# Load in the data.\n",
    "wine_data = scipy.io.loadmat(\"Data/wine.mat\")\n",
    "\n",
    "# Get the data components\n",
    "data_matrix_X = wine_data['X']\n",
    "class_vector_y = wine_data['y'].ravel()\n",
    "\n",
    "attribute_names = [nested_array[0] for nested_array in wine_data[\"attributeNames\"][0]]\n",
    "class_names = [nested_array[0][0] for nested_array in wine_data[\"classNames\"]]\n",
    "\n",
    "# Print the resulting data\n",
    "print(\"The 2 lists printed.\")\n",
    "print()\n",
    "print(\"attribute_names: {}\".format(attribute_names))\n",
    "print()\n",
    "print(\"class_names: {}\".format(class_names))"
   ]
  },
  {
   "cell_type": "markdown",
   "metadata": {},
   "source": [
    "#### 3.1.2\n",
    " (1.5 pts) Fit a decision tree to the wine data in order to estimate if the wine is red or white. Use the Gini (gdi) splitting criterion. Use `min_samples_split=100` for the stopping criterion. Explain what happens when you change the values of the parameter `min_samples_split`. After fitting the tree, visualize it with the tree_print function in `treeprint.py` in the Toolbox folder. \n",
    "\n",
    "** hints: **   \n",
    "*The `treeprint.py` file contains some documentation on how to use it. Helpfull documentation for the DecisionTreeClassifier function can be found at * http://scikit-learn.org/stable/modules/tree.html#classification  \n",
    "\n"
   ]
  },
  {
   "cell_type": "code",
   "execution_count": 34,
   "metadata": {
    "scrolled": false
   },
   "outputs": [
    {
     "name": "stdout",
     "output_type": "stream",
     "text": [
      "Printing the tree with 100 'min_samples_split':\n",
      "\n",
      "         |->3  White\n",
      "         |\n",
      "      |->2 then if Sulphates =< 0.56: go to 3, else go to 4\n",
      "      |  |\n",
      "      |  |->4  White\n",
      "      |\n",
      "   |->1 then if Chlorides =< 0.05: go to 2, else go to 5\n",
      "   |  |\n",
      "   |  |  |->6  White\n",
      "   |  |  |\n",
      "   |  |->5 else if Sulphates =< 0.37: go to 6, else go to 7\n",
      "   |     |\n",
      "   |     |  |->8  White\n",
      "   |     |  |\n",
      "   |     |->7 else if Density =< 0.99: go to 8, else go to 9\n",
      "   |        |\n",
      "   |        |     |->11  White\n",
      "   |        |     |\n",
      "   |        |  |->10 then if Residual sugar =< 1.10: go to 11, else go to 12\n",
      "   |        |  |  |\n",
      "   |        |  |  |  |->13  Red\n",
      "   |        |  |  |  |\n",
      "   |        |  |  |->12 else if Density =< 0.99: go to 13, else go to 14\n",
      "   |        |  |     |\n",
      "   |        |  |     |  |->15  Red\n",
      "   |        |  |     |  |\n",
      "   |        |  |     |->14 else if Chlorides =< 0.05: go to 15, else go to 16\n",
      "   |        |  |        |\n",
      "   |        |  |        |  |->17  Red\n",
      "   |        |  |        |  |\n",
      "   |        |  |        |->16 else if Sulphates =< 0.45: go to 17, else go to 18\n",
      "   |        |  |           |\n",
      "   |        |  |           |->18  Red\n",
      "   |        |  |\n",
      "   |        |->9 else if Residual sugar =< 10.70: go to 10, else go to 19\n",
      "   |           |\n",
      "   |           |->19  White\n",
      "   |\n",
      "if Total sulfur dioxide =< 66.50: go to 1, else go to 20\n",
      "   |\n",
      "   |                 |->26  Red\n",
      "   |                 |\n",
      "   |              |->25 then if Chlorides =< 0.01: go to 26, else go to 27\n",
      "   |              |  |\n",
      "   |              |  |        |->30  White\n",
      "   |              |  |        |\n",
      "   |              |  |     |->29 then if Citric acid =< 0.10: go to 30, else go to 31\n",
      "   |              |  |     |  |\n",
      "   |              |  |     |  |  |->32  White\n",
      "   |              |  |     |  |  |\n",
      "   |              |  |     |  |->31 else if Total sulfur dioxide =< 72.50: go to 32, else go to 33\n",
      "   |              |  |     |     |\n",
      "   |              |  |     |     |  |->34  White\n",
      "   |              |  |     |     |  |\n",
      "   |              |  |     |     |->33 else if Residual sugar =< 0.92: go to 34, else go to 35\n",
      "   |              |  |     |        |\n",
      "   |              |  |     |        |        |->38  White\n",
      "   |              |  |     |        |        |\n",
      "   |              |  |     |        |     |->37 then if Free sulfur dioxide =< 6.50: go to 38, else go to 39\n",
      "   |              |  |     |        |     |  |\n",
      "   |              |  |     |        |     |  |        |->42  White\n",
      "   |              |  |     |        |     |  |        |\n",
      "   |              |  |     |        |     |  |     |->41 then if pH =< 3.31: go to 42, else go to 43\n",
      "   |              |  |     |        |     |  |     |  |\n",
      "   |              |  |     |        |     |  |     |  |->43  White\n",
      "   |              |  |     |        |     |  |     |\n",
      "   |              |  |     |        |     |  |  |->40 then if Citric acid =< 0.23: go to 41, else go to 44\n",
      "   |              |  |     |        |     |  |  |  |\n",
      "   |              |  |     |        |     |  |  |  |->44  White\n",
      "   |              |  |     |        |     |  |  |\n",
      "   |              |  |     |        |     |  |->39 else if Sulphates =< 0.75: go to 40, else go to 45\n",
      "   |              |  |     |        |     |     |\n",
      "   |              |  |     |        |     |     |->45  White\n",
      "   |              |  |     |        |     |\n",
      "   |              |  |     |        |  |->36 then if Alcohol =< 13.58: go to 37, else go to 46\n",
      "   |              |  |     |        |  |  |\n",
      "   |              |  |     |        |  |  |->46  White\n",
      "   |              |  |     |        |  |\n",
      "   |              |  |     |        |->35 else if Sulphates =< 0.78: go to 36, else go to 47\n",
      "   |              |  |     |           |\n",
      "   |              |  |     |           |->47  White\n",
      "   |              |  |     |\n",
      "   |              |  |  |->28 then if Total sulfur dioxide =< 275.00: go to 29, else go to 48\n",
      "   |              |  |  |  |\n",
      "   |              |  |  |  |->48  White\n",
      "   |              |  |  |\n",
      "   |              |  |->27 else if Sulphates =< 0.81: go to 28, else go to 49\n",
      "   |              |     |\n",
      "   |              |     |->49  White\n",
      "   |              |\n",
      "   |           |->24 then if pH =< 3.83: go to 25, else go to 50\n",
      "   |           |  |\n",
      "   |           |  |->50  Red\n",
      "   |           |\n",
      "   |        |->23 then if Chlorides =< 0.07: go to 24, else go to 51\n",
      "   |        |  |\n",
      "   |        |  |->51  White\n",
      "   |        |\n",
      "   |     |->22 then if Sulphates =< 1.12: go to 23, else go to 52\n",
      "   |     |  |\n",
      "   |     |  |->52  Red\n",
      "   |     |\n",
      "   |  |->21 then if Volatile acidity =< 0.82: go to 22, else go to 53\n",
      "   |  |  |\n",
      "   |  |  |->53  Red\n",
      "   |  |\n",
      "   |->20 else if Chlorides =< 0.07: go to 21, else go to 54\n",
      "      |\n",
      "      |     |->56  Red\n",
      "      |     |\n",
      "      |  |->55 then if Citric acid =< 0.06: go to 56, else go to 57\n",
      "      |  |  |\n",
      "      |  |  |  |->58  Red\n",
      "      |  |  |  |\n",
      "      |  |  |->57 else if Chlorides =< 0.07: go to 58, else go to 59\n",
      "      |  |     |\n",
      "      |  |     |  |->60  Red\n",
      "      |  |     |  |\n",
      "      |  |     |->59 else if Total sulfur dioxide =< 68.50: go to 60, else go to 61\n",
      "      |  |        |\n",
      "      |  |        |  |->62  White\n",
      "      |  |        |  |\n",
      "      |  |        |->61 else if Fixed acidity =< 9.95: go to 62, else go to 63\n",
      "      |  |           |\n",
      "      |  |           |->63  Red\n",
      "      |  |\n",
      "      |->54 else if Density =< 1.00: go to 55, else go to 64\n",
      "         |\n",
      "         |        |->67  White\n",
      "         |        |\n",
      "         |     |->66 then if Volatile acidity =< 0.23: go to 67, else go to 68\n",
      "         |     |  |\n",
      "         |     |  |->68  Red\n",
      "         |     |\n",
      "         |  |->65 then if Total sulfur dioxide =< 157.50: go to 66, else go to 69\n",
      "         |  |  |\n",
      "         |  |  |->69  White\n",
      "         |  |\n",
      "         |->64 else if Residual sugar =< 6.25: go to 65, else go to 70\n",
      "            |\n",
      "            |->70  White\n",
      "<---------------------------------------------------------------------------------------->\n",
      "Tree Depth:  18\n",
      "\n",
      "Printing the tree with 1000 'min_samples_split':\n",
      "\n",
      "      |->2  White\n",
      "      |\n",
      "   |->1 then if Chlorides =< 0.05: go to 2, else go to 3\n",
      "   |  |\n",
      "   |  |  |->4  White\n",
      "   |  |  |\n",
      "   |  |->3 else if Sulphates =< 0.37: go to 4, else go to 5\n",
      "   |     |\n",
      "   |     |  |->6  White\n",
      "   |     |  |\n",
      "   |     |->5 else if Density =< 0.99: go to 6, else go to 7\n",
      "   |        |\n",
      "   |        |     |->9  White\n",
      "   |        |     |\n",
      "   |        |  |->8 then if Residual sugar =< 1.10: go to 9, else go to 10\n",
      "   |        |  |  |\n",
      "   |        |  |  |  |->11  Red\n",
      "   |        |  |  |  |\n",
      "   |        |  |  |->10 else if Density =< 0.99: go to 11, else go to 12\n",
      "   |        |  |     |\n",
      "   |        |  |     |  |->13  Red\n",
      "   |        |  |     |  |\n",
      "   |        |  |     |->12 else if Chlorides =< 0.05: go to 13, else go to 14\n",
      "   |        |  |        |\n",
      "   |        |  |        |  |->15  Red\n",
      "   |        |  |        |  |\n",
      "   |        |  |        |->14 else if Sulphates =< 0.45: go to 15, else go to 16\n",
      "   |        |  |           |\n",
      "   |        |  |           |->16  Red\n",
      "   |        |  |\n",
      "   |        |->7 else if Residual sugar =< 10.70: go to 8, else go to 17\n",
      "   |           |\n",
      "   |           |->17  White\n",
      "   |\n",
      "if Total sulfur dioxide =< 66.50: go to 1, else go to 18\n",
      "   |\n",
      "   |                 |->24  Red\n",
      "   |                 |\n",
      "   |              |->23 then if Chlorides =< 0.01: go to 24, else go to 25\n",
      "   |              |  |\n",
      "   |              |  |        |->28  White\n",
      "   |              |  |        |\n",
      "   |              |  |     |->27 then if Citric acid =< 0.10: go to 28, else go to 29\n",
      "   |              |  |     |  |\n",
      "   |              |  |     |  |  |->30  White\n",
      "   |              |  |     |  |  |\n",
      "   |              |  |     |  |->29 else if Total sulfur dioxide =< 72.50: go to 30, else go to 31\n",
      "   |              |  |     |     |\n",
      "   |              |  |     |     |  |->32  White\n",
      "   |              |  |     |     |  |\n",
      "   |              |  |     |     |->31 else if Residual sugar =< 0.92: go to 32, else go to 33\n",
      "   |              |  |     |        |\n",
      "   |              |  |     |        |        |->36  White\n",
      "   |              |  |     |        |        |\n",
      "   |              |  |     |        |     |->35 then if Free sulfur dioxide =< 6.50: go to 36, else go to 37\n",
      "   |              |  |     |        |     |  |\n",
      "   |              |  |     |        |     |  |     |->39  White\n",
      "   |              |  |     |        |     |  |     |\n",
      "   |              |  |     |        |     |  |  |->38 then if Citric acid =< 0.23: go to 39, else go to 40\n",
      "   |              |  |     |        |     |  |  |  |\n",
      "   |              |  |     |        |     |  |  |  |->40  White\n",
      "   |              |  |     |        |     |  |  |\n",
      "   |              |  |     |        |     |  |->37 else if Sulphates =< 0.75: go to 38, else go to 41\n",
      "   |              |  |     |        |     |     |\n",
      "   |              |  |     |        |     |     |->41  White\n",
      "   |              |  |     |        |     |\n",
      "   |              |  |     |        |  |->34 then if Alcohol =< 13.58: go to 35, else go to 42\n",
      "   |              |  |     |        |  |  |\n",
      "   |              |  |     |        |  |  |->42  White\n",
      "   |              |  |     |        |  |\n",
      "   |              |  |     |        |->33 else if Sulphates =< 0.78: go to 34, else go to 43\n",
      "   |              |  |     |           |\n",
      "   |              |  |     |           |->43  White\n",
      "   |              |  |     |\n",
      "   |              |  |  |->26 then if Total sulfur dioxide =< 275.00: go to 27, else go to 44\n",
      "   |              |  |  |  |\n",
      "   |              |  |  |  |->44  White\n",
      "   |              |  |  |\n",
      "   |              |  |->25 else if Sulphates =< 0.81: go to 26, else go to 45\n",
      "   |              |     |\n",
      "   |              |     |->45  White\n",
      "   |              |\n",
      "   |           |->22 then if pH =< 3.83: go to 23, else go to 46\n",
      "   |           |  |\n",
      "   |           |  |->46  Red\n",
      "   |           |\n",
      "   |        |->21 then if Chlorides =< 0.07: go to 22, else go to 47\n",
      "   |        |  |\n",
      "   |        |  |->47  White\n",
      "   |        |\n",
      "   |     |->20 then if Sulphates =< 1.12: go to 21, else go to 48\n",
      "   |     |  |\n",
      "   |     |  |->48  Red\n",
      "   |     |\n",
      "   |  |->19 then if Volatile acidity =< 0.82: go to 20, else go to 49\n",
      "   |  |  |\n",
      "   |  |  |->49  Red\n",
      "   |  |\n",
      "   |->18 else if Chlorides =< 0.07: go to 19, else go to 50\n",
      "      |\n",
      "      |->50  Red\n",
      "<----------------------------------------------------------------------------------->\n",
      "Tree Depth:  17\n"
     ]
    }
   ],
   "source": [
    "# Import the necessary libraries.\n",
    "from sklearn import tree\n",
    "from Toolbox.treeprint import tree_print\n",
    "\n",
    "X = data_matrix_X\n",
    "Y = class_vector_y\n",
    "\n",
    "# Example for 100 min_samples_split.\n",
    "dtc = tree.DecisionTreeClassifier(criterion=\"gini\", min_samples_split=100)  # gdi is standard, but ensured here\n",
    "dtc = dtc.fit(X, Y)\n",
    "\n",
    "print(\"Printing the tree with 100 'min_samples_split':\")\n",
    "print()\n",
    "tree_print(dtc, attribute_names, class_names)\n",
    "\n",
    "# Example for 1000 min_samples_split.\n",
    "dtc_1000 = tree.DecisionTreeClassifier(criterion=\"gini\", min_samples_split=1000)  # gdi is standard, but ensured here\n",
    "dtc_1000 = dtc_1000.fit(X, Y)\n",
    "\n",
    "print()\n",
    "print(\"Printing the tree with 1000 'min_samples_split':\")\n",
    "print()\n",
    "tree_print(dtc_1000, attribute_names, class_names)"
   ]
  },
  {
   "cell_type": "markdown",
   "metadata": {},
   "source": [
    "----\n",
    "**Answer:** The parameter \"min_samples_split\" is the minimum number of samples required to split an internal node. The default is two, meaning you'd only need 2 samples to split an internal node. From this it is evident that a low \"min_samples_split\" can cause overfitting of the data.\n",
    "\n",
    "Similarly, a large number will most likely prevent the tree from learning the data, giving bad performance. As Tom Heskes famously said: \"tuning these hyperparameters is an art\".\n",
    "\n",
    "From the two printed trees we can see that the example with a minumum value of 100 has considerably more nodes than the tree with a minimum split of 1000. This makes sense because more samples are required in the latter example to form a split.\n",
    "\n",
    "----"
   ]
  },
  {
   "cell_type": "markdown",
   "metadata": {},
   "source": [
    "#### 3.1.3\n",
    "\n",
    "(0.5 pts) Show that a wine with the following attribute values would be classified as white by the tree fitted in 3.1.2, by applying the `predict()` function from the DecisionTreeClassifier to this sample.  Have another look at the visualized tree. Which attributes are used to classify this wine? \n",
    "\n",
    "| #             | Attribute     | Value  |\n",
    "| ------------- |:-------------| -----:|\n",
    "|1 | Fixed acidity (tartaric) | 6.9 g/dm$^3$ |\n",
    "|2 | Volatile acidity (acetic) | 1.09 g/dm$^3$ |\n",
    "|3 | Citric acid | 0.06 g/dm$^3$ |\n",
    "|4 | Residual sugar | 2.1 g/dm$^3$ |\n",
    "|5 | Chlorides | 0.0061 g/dm$^3$ |\n",
    "|6 | Free sulfur dioxide | 12 mg/dm$^3$ |\n",
    "|7 | Total sulfur dioxide | 31 mg/dm$^3$ |\n",
    "|8 | Density | 0.99 g/cm$^3$ |\n",
    "|9 | pH | 3.5 |\n",
    "|10 | Sulphates | 0.64 g/dm$^3$ |\n",
    "|11 | Alcohol | 12 % vol. | \n",
    "\n",
    "** hints: **\n",
    "*If you don't know how to classify input values with a tree, see the help documentation for the DecisionTreeClassifier function on how to predict the label for a sample. *"
   ]
  },
  {
   "cell_type": "code",
   "execution_count": 35,
   "metadata": {},
   "outputs": [
    {
     "name": "stdout",
     "output_type": "stream",
     "text": [
      "The test sample has predicted class: White\n"
     ]
    }
   ],
   "source": [
    "test_sample = [6.9, 1.09, 0.06, 2.1, 0.0061, 12, 31, 0.99, 3.5, 0.64, 12]  # Typed over values, assuming the metrics are invariant.\n",
    "predicted_class_id = dtc.predict([test_sample])[0]\n",
    "\n",
    "predicted_class = class_names[predicted_class_id]\n",
    "print(\"The test sample has predicted class: {}\".format(predicted_class))"
   ]
  },
  {
   "cell_type": "markdown",
   "metadata": {},
   "source": [
    "----\n",
    "**Answer:** The path that was taken to classify the test sample contains the following attributes in the following order:\n",
    "1. Total sulfur dioxide\n",
    "2. Chlorides\n",
    "3. Sulphates\n",
    "\n",
    "----"
   ]
  },
  {
   "cell_type": "markdown",
   "metadata": {},
   "source": [
    "#### 3.1.4\n",
    "(1 pts) Classify all the wines in the wine data set. What percentage of the wine data is classified correctly by the tree?\n",
    "\n"
   ]
  },
  {
   "cell_type": "code",
   "execution_count": 36,
   "metadata": {},
   "outputs": [
    {
     "name": "stdout",
     "output_type": "stream",
     "text": [
      "Sklearn Accuracy:  0.9868337563451777\n",
      "Own Accuracy:  0.9868337563451777\n"
     ]
    }
   ],
   "source": [
    "from sklearn import metrics #Import scikit-learn metrics module for accuracy calculation\n",
    "\n",
    "# Predict the class of the training data.\n",
    "y_pred = dtc.predict(X)\n",
    "\n",
    "# Print what percentage of the wine data is classified correctly.\n",
    "print(\"Sklearn Accuracy: \",metrics.accuracy_score(class_vector_y, y_pred))\n",
    "\n",
    "# Without use of libraries:\n",
    "correct_pred = 0  # Value to hold the correct predicitons.\n",
    "for index in range(len(data_matrix_X)):\n",
    "    y_pred = dtc.predict([X[index]])\n",
    "    correct_pred += 1 if y_pred[0] == class_vector_y[index] else 0\n",
    "    \n",
    "accuracy = correct_pred / len(data_matrix_X)\n",
    "print(\"Own Accuracy: \",accuracy)"
   ]
  },
  {
   "cell_type": "markdown",
   "metadata": {},
   "source": [
    "----\n",
    "**Answer**: 98.68% of the predictions classified the data correctly.\n",
    "\n",
    "----"
   ]
  },
  {
   "cell_type": "markdown",
   "metadata": {},
   "source": [
    "## 3.2 Decision tree pruning using cross-validation\n",
    "\n",
    "In this exercise we will use cross-validation to prune a decision tree. When applying cross-validation the observed data is split into training and test sets, i.e., `X_train`, `y_train` and `X_test` and `y_test`. We train the model on the training data and evaluate the performance of the trained model on the test data.\n",
    "\n",
    "#### 3.2.1\n",
    "(2 pts) We are again using the wine data set `Data/wine.mat`. Divide the data into a training and a test data set (see hints!). Fit a decision tree to the training data using the Gini (`gdi`) splitting criterion.\n",
    "\n",
    "Now, we want to find an optimally pruned decision tree by *modifying its maximum depth*. For different values of the parameter `depth` (from 2 to 20), \n",
    "+ first fit the decision tree\n",
    "+ then compute the classification error on the training and test set (this is called holdout cross-validation)\n",
    "\n",
    "When you've done this for `depth` values 2,...,20, plot the training and test classification error as a function of the tree depth in the same figure. This will show us what the optimal pruning depth is for the training set, but also how well this generalizes to a test set. \n",
    "\n",
    "\n",
    "** hints: **  \n",
    "*Take a look at the module `sklearn.model_selection` and see how it can be used to partition the data into a training and a test set (holdout validation, `train_test_split()` function). Note that the package also contains functions to partition data for K-fold cross-validation. Some of the functions can ensure that both training and test sets have roughly the same class proportions. The error is 1-accuracy. The easiest way to compute the accuracy is by using the sklearn metrics module: \n",
    " https://scikit-learn.org/stable/modules/generated/sklearn.metrics.accuracy_score.html *\n",
    "\n",
    "What appears to be the optimal tree depth? Do you get the same result when you run your code again, generating a new random split between training and test data?\n"
   ]
  },
  {
   "cell_type": "code",
   "execution_count": 51,
   "metadata": {},
   "outputs": [
    {
     "data": {
      "image/png": "[encoded data removed]",
      "text/plain": [
       "<Figure size 432x288 with 1 Axes>"
      ]
     },
     "metadata": {
      "needs_background": "light"
     },
     "output_type": "display_data"
    },
    {
     "name": "stdout",
     "output_type": "stream",
     "text": [
      "Figure 1: A graph plotting the max tree depth against the accuracy of the tree models on both training and testing data.\n"
     ]
    }
   ],
   "source": [
    "from sklearn import model_selection #Import scikit-learn metrics module for accuracy calculation\n",
    "import matplotlib.pyplot as plt\n",
    "\n",
    "# First split the data.\n",
    "X_train, X_test, y_train, y_test = model_selection.train_test_split(data_matrix_X, class_vector_y, shuffle=True)\n",
    "train_accuracy_list = []  # list to store the calculated accuracies in.\n",
    "test_accuracy_list = []  # list to store the calculated accuracies in.\n",
    "depth_list = [depth for depth in range(2,21)]\n",
    "\n",
    "for depth in depth_list:\n",
    "    # Create the classifier for this depth\n",
    "    dtc = tree.DecisionTreeClassifier(criterion=\"gini\", max_depth = depth)  # gdi is standard, but ensured here\n",
    "    dtc = dtc.fit(X_train, y_train)\n",
    "    \n",
    "    # Test the classifier\n",
    "    y_train_pred = dtc.predict(X_train)\n",
    "    y_test_pred = dtc.predict(X_test)\n",
    "    \n",
    "    # Compute the accuracy on both training and test data\n",
    "    train_accuracy_list.append(metrics.accuracy_score(y_train_pred, y_train))\n",
    "    test_accuracy_list.append(metrics.accuracy_score(y_test_pred, y_test))  \n",
    "\n",
    "# The plot should contain the error rate for training and testing as a function of the tree depth. \n",
    "# So the first on the y-axis, and the second on the x-axis.\n",
    "\n",
    "plt.plot(depth_list, train_accuracy_list, label=\"Training accuracy\")\n",
    "plt.plot(depth_list, test_accuracy_list, label=\"Testing accuracy\")\n",
    "plt.legend()\n",
    "plt.xlabel('Max tree depth')\n",
    "plt.xlim(min(depth_list), max(depth_list))\n",
    "plt.ylabel('Accuracy on data')\n",
    "plt.title('Max tree depth vs accuracy of models')\n",
    "plt.show()\n",
    "print('Figure 1: A graph plotting the max tree depth against the accuracy of the tree models on both training and testing data.')"
   ]
  },
  {
   "cell_type": "markdown",
   "metadata": {},
   "source": [
    "----\n",
    "**Answer**: Yes, the optimal tree depth and graph differ per randomized split of the data. This is logical, because when you randomly suffle the data, the training data will be different, therefore the same depths will give different accuracies.\n",
    "\n",
    "The most reoccuring optimal maximum tree depth appears to be around 15 for this dataset. But most of the time anything higher than 7 already results in a pretty flat line and therefore optimum depth.\n",
    "\n",
    "\n",
    "----"
   ]
  },
  {
   "cell_type": "markdown",
   "metadata": {},
   "source": [
    "#### 3.2.2\n",
    "(1.5 pts) Repeat the exercise above, using 10-fold cross-validation. K-fold cross-validation works by splitting X into K partitions of equal length. Then in each fold, you choose K-1 partitions as the training set and the remaining partition as the test set. Every partition gets a turn being a test set. For a very nice simple explanation of how (and why) K-fold works, check out http://www.dummies.com/programming/big-data/data-science/resorting-cross-validation-machine-learning/\n",
    "\n",
    "\n",
    "For each fold, fit a decision tree on the training set and evaluate its performance on the test set. Finally, compute the average classification errors on the test- and training sets across the 10 cross-validation folds and plot them as a function of the tree depth.\n",
    "\n",
    "** hints: **\n",
    "*This time the `KFold()` function from the module `sklearn.model_selection` can be used to partition the data into the 10 training and test partitions. Check out http://scikit-learn.org/stable/modules/cross_validation.html#k-fold for an example of how to acces the indices for the training set and the test set in each fold. Those indices can then be used to create the training and test set, e.g. `X_train = X[train_indices]`*\n",
    "\n",
    "*If you are creating a for loop iterating over an object where you both need the index and the elements of the object, you can enumerate the object. For example:*\n",
    "\n",
    "`\n",
    "for index, (element) in enumerate(object):\n",
    "    array[index] = operation(element)\n",
    "`\n",
    " \n",
    "\n",
    "What appears to be the optimal tree depth? Do you get the same result when you run your code again, generating a new random split between training and test data? How about 100-fold cross-validation?\n"
   ]
  },
  {
   "cell_type": "code",
   "execution_count": 38,
   "metadata": {},
   "outputs": [
    {
     "data": {
      "image/png": "[encoded data removed]",
      "text/plain": [
       "<Figure size 432x288 with 1 Axes>"
      ]
     },
     "metadata": {
      "needs_background": "light"
     },
     "output_type": "display_data"
    },
    {
     "name": "stdout",
     "output_type": "stream",
     "text": [
      "Figure 2: A graph plotting the max tree depth against the averaged accuracy of the tree models on both training and testing data per fold.\n"
     ]
    }
   ],
   "source": [
    "# Import the metrics.\n",
    "from sklearn.model_selection import KFold\n",
    "from statistics import mean\n",
    "\n",
    "# First split the data based on K-fold, with shuffling of the data.\n",
    "k_fold = KFold(n_splits=10, shuffle = True)\n",
    "train_depth_accuracy_list = []  # list that stores the train accuracies per fold of the current depth.\n",
    "test_depth_accuracy_list = []  # list that stores the test accuracies per fold of the current depth.\n",
    "depth_list = [depth for depth in range(2,21)]\n",
    "\n",
    "# Loop over the depths\n",
    "for depth in depth_list:\n",
    "    train_accuracy_list = []  # list to store the calculated accuracies per depth in.\n",
    "    test_accuracy_list = []  # list to store the calculated accuracies per depth in.\n",
    "    # Then loop over the folds.\n",
    "    for train_indices, test_indices in k_fold.split(data_matrix_X):\n",
    "        \n",
    "        # First split the training and testing data.\n",
    "        X_train = data_matrix_X[train_indices]\n",
    "        y_train = class_vector_y[train_indices]\n",
    "\n",
    "        X_test = data_matrix_X[test_indices]\n",
    "        y_test = class_vector_y[test_indices]\n",
    "\n",
    "        # Create the classifier for this depth\n",
    "        dtc = tree.DecisionTreeClassifier(criterion=\"gini\", max_depth = depth)  # gdi is standard, but ensured here.\n",
    "        dtc = dtc.fit(X_train, y_train)\n",
    "\n",
    "        # Test the classifier\n",
    "        y_train_pred = dtc.predict(X_train)\n",
    "        y_test_pred = dtc.predict(X_test)\n",
    "\n",
    "        # Compute the accuracy on both training and test data.\n",
    "        train_accuracy_list.append(metrics.accuracy_score(y_train_pred, y_train))\n",
    "        test_accuracy_list.append(metrics.accuracy_score(y_test_pred, y_test))\n",
    "    # Once we've computed the accuracy of every fold for that depth, compute the average and add it to the final list.\n",
    "    train_depth_accuracy_list.append(mean(train_accuracy_list))\n",
    "    test_depth_accuracy_list.append(mean(test_accuracy_list))\n",
    "    \n",
    "plt.plot(depth_list, train_depth_accuracy_list, label=\"Training accuracy\")\n",
    "plt.plot(depth_list, test_depth_accuracy_list, label=\"Testing accuracy\")\n",
    "plt.legend()\n",
    "plt.xlabel('Max tree depth')\n",
    "plt.xlim(min(depth_list), max(depth_list))\n",
    "plt.ylabel('Averaged accuracy on data')\n",
    "plt.title('Max tree depth vs averaged accuracy of K-fold models')\n",
    "plt.show()\n",
    "print('Figure 2: A graph plotting the max tree depth against the averaged accuracy of the tree models on both training and testing data per fold.')"
   ]
  },
  {
   "cell_type": "markdown",
   "metadata": {},
   "source": [
    "----\n",
    "**Answer:** For the 10-fold cross validation the optimal max tree depth differs again per run, because the data is shuffled every new run, therefore the models will be fitted on new data and therefore not be consistent with the latter run. The optimal max tree depth seems to be around 15 again.\n",
    "\n",
    "With 100-fold cross validation we see that the average testing accuracy graph is more smoothed out, this makes sense because there are a lot more datapoints to be averaged and therefore outliers have a lesser effect on the graph. Here the optimal max tree depth seems to be around 16.\n",
    "\n",
    "But again the line seems to be pretty consistenly high from 7 onwards.\n",
    "\n",
    "----"
   ]
  },
  {
   "cell_type": "markdown",
   "metadata": {},
   "source": [
    " ## 3.3 ROC curves, AUC scores, and the sign test\n",
    "\n",
    "In this exercise we will use ROC curves and the sign test to compare classifiers. Study the lecture slides and the paper 'ROC Graphs: Notes and Practical Considerations for Researchers' by Tom Fawcett included with the homework assignment (ROC101.pdf). It describes all you need to know (and much, much more..) about ROC curves. The method explained for computing the area under the curve is unnecessarily complicated. A simpler formula is:\n",
    "$$\n",
    "    \\mbox{AUC} = {1 \\over m n} \\sum_{i=1}^m \\sum_{j=1}^n \\mathbf{\\large 1}_{p_i > p_j} \\: .\n",
    "   $$\n",
    "Here $i$ runs over all $m$ data points with true label 1, and $j$ runs over all $n$ data points with true label $0$; $p_i$ and $p_j$ denote the probability score assigned by the classifier to data point $i$ and $j$, respectively. $\\mathbf{\\large 1}$ is the indicator function: it outputs $1$ if the condition (here $p_i > p_j$) is satisfied and $0$ otherwise. *Simply put: this formula computes how often the probability of a data point with true label 1 is higher than the probability of data points with true label 0. This is then divided by the total number of comparisons between probabilities.*\n",
    "    \n",
    "\n",
    "#### 3.3.1\n",
    "(0.25 pts) To make sure you understand how ROC works, make an ROC curve and calculate the AUC (on paper) with the following data:\n",
    "\n",
    "`\n",
    "labels = [0,0,0,1,0,1,1,0,1,1]\n",
    "classifier_probs = [0.1,0.2,0.3,0.4,0.5,0.6,0.7,0.8,0.9,0.99]\n",
    "`\n",
    "    \n",
    "What's the AUC you calculated? Do you think this classifier works well?\n"
   ]
  },
  {
   "cell_type": "markdown",
   "metadata": {},
   "source": [
    "----\n",
    "**Answer:** AUC = 1/25 * (3+4+4+5+5) = 21/25 = 0.84\n",
    "\n",
    "From the AUC we can infer how well a model performs. An AUC of 0.84 resembles a reasonably well performing model. However, it depends on the context where this model will be used. From what we've read in medical diagnosis, very high AUCs (.95 or higher) are sought. But in psychology research of future behavior, AUC values of 0.70 and higher would signify strong effects.\n",
    "\n",
    "Seeing as this AUC value is in the middle of these 2 fields, without further explained context, the classifier seems to work well.\n",
    "\n",
    "----"
   ]
  },
  {
   "cell_type": "code",
   "execution_count": 39,
   "metadata": {},
   "outputs": [
    {
     "name": "stdout",
     "output_type": "stream",
     "text": [
      "Proof that the computer agrees, AUC: 0.8400000000000001\n"
     ]
    }
   ],
   "source": [
    "# Import metrics\n",
    "from sklearn.metrics import roc_curve, auc\n",
    "\n",
    "labels = [0,0,0,1,0,1,1,0,1,1]\n",
    "classifier_probs = [0.1,0.2,0.3,0.4,0.5,0.6,0.7,0.8,0.9,0.99]\n",
    "\n",
    "fpr, tpr, thresholds = roc_curve(labels, classifier_probs)\n",
    "\n",
    "auc = auc(fpr, tpr)\n",
    "\n",
    "print(\"Proof that the computer agrees, AUC: {}\".format(auc))"
   ]
  },
  {
   "cell_type": "markdown",
   "metadata": {},
   "source": [
    "#### 3.3.2\n",
    "  Load the file `Data/classprobs.xls` using the Pandas `read_excel` function. Inspect the data and cast it to an array with the `.values` attribute. The first column gives the true class label (either 0 or 1). The second and third column give the probabilistic scores for two different classifiers. The higher this probability, the more certain the classifier is that the example belongs to class 1 (instead of class 0).\n"
   ]
  },
  {
   "cell_type": "code",
   "execution_count": 40,
   "metadata": {},
   "outputs": [
    {
     "data": {
      "text/html": [
       "<div>\n",
       "<style scoped>\n",
       "    .dataframe tbody tr th:only-of-type {\n",
       "        vertical-align: middle;\n",
       "    }\n",
       "\n",
       "    .dataframe tbody tr th {\n",
       "        vertical-align: top;\n",
       "    }\n",
       "\n",
       "    .dataframe thead th {\n",
       "        text-align: right;\n",
       "    }\n",
       "</style>\n",
       "<table border=\"1\" class=\"dataframe\">\n",
       "  <thead>\n",
       "    <tr style=\"text-align: right;\">\n",
       "      <th></th>\n",
       "      <th>1.0</th>\n",
       "      <th>0.887</th>\n",
       "      <th>0.79706</th>\n",
       "    </tr>\n",
       "  </thead>\n",
       "  <tbody>\n",
       "    <tr>\n",
       "      <th>0</th>\n",
       "      <td>0</td>\n",
       "      <td>0.13591</td>\n",
       "      <td>0.099401</td>\n",
       "    </tr>\n",
       "    <tr>\n",
       "      <th>1</th>\n",
       "      <td>0</td>\n",
       "      <td>0.55549</td>\n",
       "      <td>0.650750</td>\n",
       "    </tr>\n",
       "    <tr>\n",
       "      <th>2</th>\n",
       "      <td>0</td>\n",
       "      <td>0.23876</td>\n",
       "      <td>0.508570</td>\n",
       "    </tr>\n",
       "    <tr>\n",
       "      <th>3</th>\n",
       "      <td>0</td>\n",
       "      <td>0.14542</td>\n",
       "      <td>0.236290</td>\n",
       "    </tr>\n",
       "    <tr>\n",
       "      <th>4</th>\n",
       "      <td>1</td>\n",
       "      <td>0.81876</td>\n",
       "      <td>0.489490</td>\n",
       "    </tr>\n",
       "  </tbody>\n",
       "</table>\n",
       "</div>"
      ],
      "text/plain": [
       "   1.00000  0.88700   0.79706\n",
       "0        0  0.13591  0.099401\n",
       "1        0  0.55549  0.650750\n",
       "2        0  0.23876  0.508570\n",
       "3        0  0.14542  0.236290\n",
       "4        1  0.81876  0.489490"
      ]
     },
     "execution_count": 40,
     "metadata": {},
     "output_type": "execute_result"
    }
   ],
   "source": [
    "# Import pandas\n",
    "import pandas as pd\n",
    "\n",
    "# Importing the excel sheet.\n",
    "data = pd.read_excel(\"Data/classprobs.xls\")\n",
    "\n",
    "class_probs = data.values\n",
    "data.head()"
   ]
  },
  {
   "cell_type": "markdown",
   "metadata": {},
   "source": [
    "#### 3.3.3\n",
    "(1 pts) Calculate the ROC curves for both of the classifiers by calculating the FP and TP rates and plot them in the same plot. Make the plot yourself as opposed to using a library! Also plot a dashed line on the diagonal to represent random guessing in the same figure. Interpret the obtained results. Do both classifiers perform better than random guessing?\n",
    "\n",
    "** hints: **  \n",
    "*The function `sklearn.metrics.roc_curve` can be used for computing the FP and TP rates. You can then plot them using the `matplotlib.pyplot` `plot` function. Check the documentation on how to plot a dashed line. Remember to include a legend!* \n",
    "\n",
    "**An extra tip: the sign test example below includes a figure with dashed lines and a legend...**\n",
    " "
   ]
  },
  {
   "cell_type": "code",
   "execution_count": 41,
   "metadata": {},
   "outputs": [
    {
     "data": {
      "image/png": "[encoded data removed]",
      "text/plain": [
       "<Figure size 432x288 with 1 Axes>"
      ]
     },
     "metadata": {
      "needs_background": "light"
     },
     "output_type": "display_data"
    },
    {
     "name": "stdout",
     "output_type": "stream",
     "text": [
      "Figure 1: A graph displaying the ROC curve of each model, together with the dashed random baseline. The x-axis displays the FPR and the y-axis the TPR.\n"
     ]
    }
   ],
   "source": [
    "# Import the metrics\n",
    "from sklearn.metrics import roc_curve\n",
    "\n",
    "# Divide the data in labels and probabilites of both models\n",
    "y = class_probs[:,0]\n",
    "model_1 = class_probs[:,1]\n",
    "model_2 = class_probs[:,2]\n",
    "\n",
    "# Calculate the false and true positive rate\n",
    "fpr_1, tpr_1, thresholds_1 = roc_curve(y, model_1)\n",
    "fpr_2, tpr_2, thresholds_2 = roc_curve(y, model_2)\n",
    "\n",
    "# Render the graph\n",
    "plt.figure()\n",
    "lw = 2\n",
    "plt.plot(fpr_1, tpr_1, color='darkorange',\n",
    "         lw=lw, label='ROC curve model 1')\n",
    "plt.plot(fpr_2, tpr_2, color='red',\n",
    "         lw=lw, label='ROC curve model 2')\n",
    "plt.plot([0, 1], [0, 1], color='navy', lw=lw, linestyle='--')\n",
    "plt.xlim([0.0, 1.0])\n",
    "plt.ylim([0.0, 1.05])\n",
    "plt.xlabel('False Positive Rate')\n",
    "plt.ylabel('True Positive Rate')\n",
    "plt.legend()\n",
    "plt.title('Receiver operating characteristic curves of the 2 models')\n",
    "plt.show()\n",
    "\n",
    "print(\"Figure 1: A graph displaying the ROC curve of each model, together with the dashed random baseline. The x-axis displays the FPR and the y-axis the TPR.\")"
   ]
  },
  {
   "cell_type": "markdown",
   "metadata": {},
   "source": [
    "----\n",
    "**Answer:** Both classifiers have a higher observed AUC than random guessing (this can be seen because the graph is higher than the dashed line), therefore both classifiers perform better than random guessing.\n",
    "\n",
    "----"
   ]
  },
  {
   "cell_type": "markdown",
   "metadata": {},
   "source": [
    "#### 3.3.4\n",
    "(0.5 pts) Compute the AUC scores (area under the curve) of both classifiers using the formula given above. **Write your own code for this calculation.** Do the AUC scores indicate that the classifiers are performing better than this baseline?\n",
    "\n",
    "\n",
    "\n",
    "\n",
    " "
   ]
  },
  {
   "cell_type": "code",
   "execution_count": 42,
   "metadata": {},
   "outputs": [
    {
     "name": "stdout",
     "output_type": "stream",
     "text": [
      "Our own AUC scores of both classifiers according to the simplified formula: [0.9556254367575122, 0.7613556953179594]\n",
      "Sklearn AUC scores based on the fpr and tpr to see if computer agrees: [0.9556254367575122, 0.7613556953179594]\n"
     ]
    }
   ],
   "source": [
    "# First split to insert in the formula\n",
    "model_1_true = model_1[y == 1]\n",
    "model_1_false = model_1[y == 0]\n",
    "\n",
    "model_2_true = model_2[y == 1]\n",
    "model_2_false = model_2[y == 0]\n",
    "\n",
    "# AUC = 1/𝑚𝑛 (∑𝑖=1𝑚)(∑𝑗=1 𝑛)(1 * 𝑝𝑖>𝑝𝑗)\n",
    "def calculate_AUC(model_true, model_false, AUC_list):\n",
    "    right_part = 0\n",
    "    for pi in model_true:\n",
    "        for pj in model_false:\n",
    "            if pi > pj:\n",
    "                right_part += 1\n",
    "    # Calculate the AUC\n",
    "    AUC = 1/(len(model_true)*len(model_false)) * right_part\n",
    "    # Add the AUC to the list\n",
    "    AUC_list.append(AUC)\n",
    "    \n",
    "# Calculate the AUC of each model\n",
    "AUC_list = []\n",
    "scikit_AUC = []\n",
    "\n",
    "calculate_AUC(model_1_true, model_1_false, AUC_list)\n",
    "calculate_AUC(model_2_true, model_2_false, AUC_list)\n",
    "\n",
    "# Test if the computer agrees\n",
    "from sklearn.metrics import auc\n",
    "scikit_AUC = []\n",
    "scikit_AUC.append(auc(fpr_1, tpr_1))\n",
    "scikit_AUC.append(auc(fpr_2, tpr_2))\n",
    "\n",
    "print(\"Our own AUC scores of both classifiers according to the simplified formula: {}\".format(AUC_list))\n",
    "print(\"Sklearn AUC scores based on the fpr and tpr to see if computer agrees: {}\".format(scikit_AUC))"
   ]
  },
  {
   "cell_type": "markdown",
   "metadata": {},
   "source": [
    "----\n",
    "**Answer:** As you can see, model 1 has an AUC of ~0.956 and model 2 has an AUC of ~0.761, meaning that they both outperform the random dashed \"baseline\", because the baseline would have an AUC of 0.5 (1 * 1 * 0.5 = 0.5).\n",
    "\n",
    "----"
   ]
  },
  {
   "cell_type": "markdown",
   "metadata": {},
   "source": [
    "\n",
    "#### 3.3.5\n",
    "(0.25 pts) Using a threshold of 0.5, translate the probability scores to predicted class labels, and compute the accuracy for each of the classifiers.\n",
    "\n",
    "** hint: **\n",
    "\n",
    "*Take a look at https://scikit-learn.org/stable/modules/generated/sklearn.metrics.accuracy_score.html *"
   ]
  },
  {
   "cell_type": "code",
   "execution_count": 43,
   "metadata": {},
   "outputs": [
    {
     "name": "stdout",
     "output_type": "stream",
     "text": [
      "Accuracy of model 1: 0.8598130841121495\n",
      "Accuracy of model 2: 0.6915887850467289\n"
     ]
    }
   ],
   "source": [
    "threshold = 0.5\n",
    "\n",
    "# Calculate the predicted class labels\n",
    "pred_model_1 = [1 if accuracy >= threshold else 0 for accuracy in model_1]\n",
    "pred_model_2 = [1 if accuracy >= threshold else 0 for accuracy in model_2]\n",
    "\n",
    "# Calculate the accuracy\n",
    "accuracy_1 = metrics.accuracy_score(pred_model_1, y)\n",
    "accuracy_2 = metrics.accuracy_score(pred_model_2, y)\n",
    "\n",
    "# Print them\n",
    "print(\"Accuracy of model 1: {}\".format(accuracy_1))\n",
    "print(\"Accuracy of model 2: {}\".format(accuracy_2))"
   ]
  },
  {
   "cell_type": "markdown",
   "metadata": {},
   "source": [
    "#### 3.3.6\n",
    "(1 pts) Create the 2x2 table (or array, or list, or dataframe..) of wrong and correct classifications by the first and the second classifier, like in the lecture slides (lecture on model evaluation, part on the sign test). Perform a sign test to test whether the performance of the two classifiers is significantly different at a significance level of 0.05. **If you are not familiar with sign testing, you can read the example provided below.**\n",
    "\n",
    "\n",
    "** hints: **  \n",
    "*As explained in the lecture slides, the sign test is a binomial test on the lower-left ($N_{1<2}$) and upper-right ($N_{1>2}$) elements of the cross table. Unlike in the lecture slides, here you need to perform a two-sided test: $$\\textrm{p-value} = P(W \\leq \\min(N_{1<2},N_{1>2}) \\textrm{ or } W \\geq  \\max(N_{1<2},N_{1>2})$$\n",
    "The function `scipy.stats.binom.cdf` can be used to compute the cumulative density of the binomial distribution.\n",
    "For more information on the sign test, see the included paper by Salzberg (signtest.pdf, in particular section 3.1).*"
   ]
  },
  {
   "cell_type": "code",
   "execution_count": 44,
   "metadata": {},
   "outputs": [
    {
     "name": "stdout",
     "output_type": "stream",
     "text": [
      "66\n",
      "7\n",
      "8\n",
      "26\n",
      "Dataframe representing the matrix, left side is model 1, top side is model 2: \n"
     ]
    },
    {
     "data": {
      "text/html": [
       "<div>\n",
       "<style scoped>\n",
       "    .dataframe tbody tr th:only-of-type {\n",
       "        vertical-align: middle;\n",
       "    }\n",
       "\n",
       "    .dataframe tbody tr th {\n",
       "        vertical-align: top;\n",
       "    }\n",
       "\n",
       "    .dataframe thead th {\n",
       "        text-align: right;\n",
       "    }\n",
       "</style>\n",
       "<table border=\"1\" class=\"dataframe\">\n",
       "  <thead>\n",
       "    <tr style=\"text-align: right;\">\n",
       "      <th></th>\n",
       "      <th>Correct</th>\n",
       "      <th>Wrong</th>\n",
       "    </tr>\n",
       "  </thead>\n",
       "  <tbody>\n",
       "    <tr>\n",
       "      <th>Correct</th>\n",
       "      <td>66</td>\n",
       "      <td>26</td>\n",
       "    </tr>\n",
       "    <tr>\n",
       "      <th>Wrong</th>\n",
       "      <td>8</td>\n",
       "      <td>7</td>\n",
       "    </tr>\n",
       "  </tbody>\n",
       "</table>\n",
       "</div>"
      ],
      "text/plain": [
       "         Correct  Wrong\n",
       "Correct       66     26\n",
       "Wrong          8      7"
      ]
     },
     "execution_count": 44,
     "metadata": {},
     "output_type": "execute_result"
    }
   ],
   "source": [
    "from scipy.stats import binom\n",
    "\n",
    "both_correct = sum([1 if pred_model_1[i] == pred_model_2[i] == y[i] else 0 for i in range(len(y))])\n",
    "both_wrong = sum([1 if pred_model_1[i] != y[i] and pred_model_2[i] != y[i] else 0 for i in range(len(y))])\n",
    "\n",
    "N1_smaller_2 = sum([1 if pred_model_1[i] != y[i] and pred_model_2[i] == y[i] else 0 for i in range(len(y))])\n",
    "N1_bigger_2 = sum([1 if pred_model_1[i] == y[i] and pred_model_2[i] != y[i] else 0 for i in range(len(y))])\n",
    "\n",
    "# initialise data of lists. \n",
    "data = {'Correct':[both_correct, N1_smaller_2], 'Wrong':[N1_bigger_2, both_wrong]} \n",
    "print(both_correct)\n",
    "print(both_wrong)\n",
    "print(N1_smaller_2)\n",
    "print(N1_bigger_2)\n",
    "  \n",
    "# Creates pandas DataFrame. \n",
    "df = pd.DataFrame(data, index =['Correct', 'Wrong']) \n",
    "\n",
    "print(\"Dataframe representing the matrix, left side is model 1, top side is model 2: \")\n",
    "\n",
    "# Print the data \n",
    "df"
   ]
  },
  {
   "cell_type": "code",
   "execution_count": 45,
   "metadata": {},
   "outputs": [
    {
     "name": "stdout",
     "output_type": "stream",
     "text": [
      "The p-value is 0.003\n"
     ]
    }
   ],
   "source": [
    "# Calculate the observations of inequality.\n",
    "N = N1_smaller_2 + N1_bigger_2\n",
    "b = binom(N, 0.5) # N=observations of inequality, p = prob of randomly getting the class label right, which is 0.5 according to H0\n",
    "\n",
    "p_value = b.cdf(min(N1_smaller_2,N1_bigger_2)) + (1-b.cdf(max(N1_smaller_2,N1_bigger_2)-1))\n",
    "print('The p-value is {:.3f}'.format(p_value))"
   ]
  },
  {
   "cell_type": "markdown",
   "metadata": {},
   "source": [
    "----\n",
    "**Answer**: Since a p-value of 0.003 is lower than 0.05 (the threshold for \"significance\") we can safely conclude that the performance of the models is significantly different.\n",
    "\n",
    "----"
   ]
  },
  {
   "cell_type": "markdown",
   "metadata": {},
   "source": [
    "## Example two-sided sign test\n",
    "\n",
    "Imagine you have a lucky coin, that you are certain does not result in heads 50% of the times you flip it. However, you friend (lets call him *zero_hypothesis*) claims that your coin is just like his random coin. To verify whether this is true, you decide to compare the performance (you are a scientist after all) of your lucky coin resulting in heads to the performance of his random coin resulting in heads with a sign test. How do you do this?\n",
    "\n",
    "First, you collect data. Assume you place 23 bets. During those 23 bets, you both flip your respective coins. It was determined that if one of you flipped head while the other didn't, that person won the bet, and the other person lost. If you both got the same outcome, neither of you won. 1 stands for head, and 0 for tails. These were your results:"
   ]
  },
  {
   "cell_type": "code",
   "execution_count": 46,
   "metadata": {},
   "outputs": [
    {
     "name": "stdout",
     "output_type": "stream",
     "text": [
      "----------lucky | random \n",
      " bet 0      | 1 | 0\n",
      " bet 1      | 1 | 1\n",
      " bet 2      | 1 | 0\n",
      " bet 3      | 0 | 1\n",
      " bet 4      | 1 | 0\n",
      " bet 5      | 1 | 1\n",
      " bet 6      | 1 | 0\n",
      " bet 7      | 1 | 0\n",
      " bet 8      | 1 | 0\n",
      " bet 9      | 0 | 1\n",
      " bet 10     | 1 | 0\n",
      " bet 11     | 1 | 1\n",
      " bet 12     | 1 | 0\n",
      " bet 13     | 1 | 1\n",
      " bet 14     | 0 | 1\n",
      " bet 15     | 1 | 1\n",
      " bet 16     | 1 | 1\n",
      " bet 17     | 0 | 0\n",
      " bet 18     | 1 | 0\n",
      " bet 19     | 1 | 0\n",
      " bet 20     | 1 | 0\n",
      " bet 21     | 0 | 0\n",
      " bet 22     | 1 | 0\n",
      " -----\n",
      "\n"
     ]
    }
   ],
   "source": [
    "import numpy as np\n",
    "from scipy.stats import binom\n",
    "import matplotlib.pyplot as plt\n",
    "\n",
    "#results\n",
    "lucky_coin = np.array([1,1,1,0,1,1,1,1,1,0,1,1,1,1,0,1,1,0,1,1,1,0,1])\n",
    "random_coin= np.array([0,1,0,1,0,1,0,0,0,1,0,1,0,1,1,1,1,0,0,0,0,0,0])\n",
    "\n",
    "print('----------lucky | random \\n',*['bet {:<5}  | {} | {}\\n'.format(t[0],t[1],t[2]) for t in zip(range(0,len(lucky_coin)),lucky_coin,random_coin)],'-----\\n')"
   ]
  },
  {
   "cell_type": "markdown",
   "metadata": {},
   "source": [
    "Now you calculate how often in any pair of outcomes one coin *won*, i.e. one coin flipped to head while the other flipped to tails."
   ]
  },
  {
   "cell_type": "code",
   "execution_count": 47,
   "metadata": {},
   "outputs": [
    {
     "name": "stdout",
     "output_type": "stream",
     "text": [
      "The lucky coin won 12 times, while the random won 3 times.\n"
     ]
    }
   ],
   "source": [
    "N_l = sum((lucky_coin == 1) & (random_coin == 0)) #how often your lucky coin won\n",
    "N_r = sum((lucky_coin == 0) & (random_coin == 1)) #how often the random coin won\n",
    "N = N_l + N_r #how often one coin was a winner\n",
    "print('The lucky coin won {} times, while the random won {} times.'.format(N_l,N_r))"
   ]
  },
  {
   "cell_type": "markdown",
   "metadata": {},
   "source": [
    "You observed 15 times that one coin won. If both coins resulted in heads 50% of the time, like *zero_hypothesis* stated, you'd expect that both coins have 50% chance of being the winner. So the probability distributions for both N_l and N_r should look something like this, assuming that *zero_hypothesis* is right:"
   ]
  },
  {
   "cell_type": "code",
   "execution_count": 48,
   "metadata": {},
   "outputs": [
    {
     "data": {
      "image/png": "[encoded data removed]",
      "text/plain": [
       "<Figure size 432x288 with 1 Axes>"
      ]
     },
     "metadata": {
      "needs_background": "light"
     },
     "output_type": "display_data"
    }
   ],
   "source": [
    "b = binom(N,0.5) #N=observations of inequality, p=prob of one coin being better, which is 0.5 according to your H0\n",
    "plt.plot(b.pmf(range(N+1)), '--o',label = 'Probability density')\n",
    "plt.plot(b.cdf(range(N+1)), '--o',label = 'Cumulative distribution')\n",
    "plt.legend()\n",
    "plt.xlabel('Number of times one coin is better than the other')\n",
    "plt.ylabel('Probability')\n",
    "plt.title('Distribution according to H0')\n",
    "plt.show()"
   ]
  },
  {
   "cell_type": "markdown",
   "metadata": {},
   "source": [
    "(Of course this is a discrete probability function, so you're not interested in values between integers.)\n",
    "\n",
    "As you can see, according to *zero_hypothesis*, 7 and 8 are the most likely values for both N_l and N_r. But this is not what you observed in your data. To conclude that *H0* is false, you need to show that your outcome is unlikely under the assumption that *H0* is true: the values you observed are so extreme that these values or more extreme values occur less than 5% of the time (*p-value < 0.05*). So how unlikely is it that one coin is better 12 times or more, and the other is better 3 times or less?\n",
    "\n",
    "It's the sum of the values of the probability density function (pdf or pmf in the python doc) at  0,1,2 and 3, plus the sum of the values of the pdf at 12,13,14 and 15. \n",
    "\n",
    "This is equal to the value of the cumulative distribution function (cdf) at 3, plus 1 minus the value of cdf at 11 (since `1-cdf(11)` represents the probability of observing 12 or bigger)."
   ]
  },
  {
   "cell_type": "code",
   "execution_count": 49,
   "metadata": {},
   "outputs": [
    {
     "name": "stdout",
     "output_type": "stream",
     "text": [
      "The p-value is 0.035\n"
     ]
    }
   ],
   "source": [
    "p_value = b.cdf(min(N_r,N_l)) + (1-b.cdf(max(N_r,N_l)-1))\n",
    "print('The p-value is {:.3f}'.format(p_value))"
   ]
  },
  {
   "cell_type": "markdown",
   "metadata": {},
   "source": [
    "So your observations are very unlikely if *zero_hypothesis* is right. By statistical theory, you can now say that you have significant reason to reject their opinion. Now the hardest part of statistics: convincing your non-scientist friends."
   ]
  }
 ],
 "metadata": {
  "anaconda-cloud": {},
  "kernelspec": {
   "display_name": "Python 3",
   "language": "python",
   "name": "python3"
  },
  "language_info": {
   "codemirror_mode": {
    "name": "ipython",
    "version": 3
   },
   "file_extension": ".py",
   "mimetype": "text/x-python",
   "name": "python",
   "nbconvert_exporter": "python",
   "pygments_lexer": "ipython3",
   "version": "3.7.3"
  }
 },
 "nbformat": 4,
 "nbformat_minor": 1
}
