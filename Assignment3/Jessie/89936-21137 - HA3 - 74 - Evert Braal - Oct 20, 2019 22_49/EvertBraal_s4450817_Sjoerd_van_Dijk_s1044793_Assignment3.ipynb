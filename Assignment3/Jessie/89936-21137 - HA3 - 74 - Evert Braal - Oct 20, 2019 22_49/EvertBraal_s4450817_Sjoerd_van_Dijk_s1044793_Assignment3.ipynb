{
 "cells": [
  {
   "cell_type": "markdown",
   "metadata": {},
   "source": [
    "# Assignment 3\n",
    "\n",
    "## Objective of this assignment\n",
    "The objective of this exercise is to become familiar with fitting decision trees and\n",
    "making ROC curves in Python.\n",
    "\n",
    "\n",
    "## ** Important: ** When handing in your homework:\n",
    "+ Hand in the notebook **(and nothing else)** named as follows: StudentName1_snumber_StudentName2_snumber.ipynb\n",
    "+ Provide clear and complete answers to the questions below under a separate header (not hidden somewhere in your source code), and make sure to explain your answers / motivate your choices. Add Markdown cells where necessary.\n",
    "+ Source code, output graphs, derivations, etc., should be included in the notebook.\n",
    "+ Hand-in: upload to Brightspace.\n",
    "+ Include name, student number, assignment (especially in filenames)!\n",
    "+ When working in pairs only one of you should upload the assignment, and report the name of your partner in your filename.\n",
    "+ Use the Brightspace discussion board or email the student assistants for questions on how to complete the exercises.\n",
    "+ If you find mistakes/have suggestions/would like to complain about the assigment material itself, please email me [Lisa] at `l.tostrams@science.ru.nl`\n",
    "\n",
    "\n",
    "## Advised Reading and Exercise Material\n",
    "**The following reading material is recommended:**\n",
    "\n",
    "Pang-Ning Tan, Michael Steinbach, and Vipin Kumar, Introduction to Data Mining, section 4.1-4.6, as well as the included article on ROC curves.\n"
   ]
  },
  {
   "cell_type": "markdown",
   "metadata": {},
   "source": [
    "## 3.1 Decision trees\n",
    "\n",
    "In this part of the exercise we will fit decision trees using the scikitlearn classifier\n",
    "`sklearn.tree.DecisionTreeClassifier`. As a splitting criterion, the function uses\n",
    "one of the following two impurity measures:\n",
    "\n",
    "\\begin{equation} \\textrm{gdi}(t) = -\\sum_{i=1}^C p(i|t)^2 \\quad \\text{       equivalent to Gini(t)} \\end{equation}   \n",
    "\n",
    "\\begin{equation}\n",
    "\\textrm{deviance}(t) = -2\\sum_{i=1}^C p(i|t) \\log p(i|t) \\quad \\text{equivalent to Entropy(t)} \n",
    "\\end{equation}\n",
    "\n",
    "We will analyze the wine data we have used previously. The wine data set has the following attributes, all of which are continuous: \n",
    "\n",
    "\n",
    "| #             | Attribute     | Unit  |\n",
    "| ------------- |:-------------| -----:|\n",
    "|1 | Fixed acidity (tartaric) | g/dm$^3$ |\n",
    "|2 | Volatile acidity (acetic) | g/dm$^3$ |\n",
    "|3 | Citric acid | g/dm$^3$ |\n",
    "|4 | Residual sugar | g/dm$^3$ |\n",
    "|5 | Chlorides | g/dm$^3$ |\n",
    "|6 | Free sulfur dioxide | mg/dm$^3$ |\n",
    "|7 | Total sulfur dioxide | mg/dm$^3$ |\n",
    "|8 | Density | g/cm$^3$ |\n",
    "|9 | pH | pH |\n",
    "|10 | Sulphates | g/dm$^3$ |\n",
    "|11 | Alcohol | % vol. | \n",
    "\n",
    "\n",
    "#### 3.1.1\n",
    "(0.5 pts) Load the wine data set `Data/wine.mat` using the `scipy.io` `loadmat` function. This contains the same data as used in the earlier assignment, but with outliers and the 12th attribute already removed. Create data matrix $X$, class vector $y$, and the lists $attributeNames$ and $classNames$ with the data provided in the `wine.mat` file. Print out the  $attributeNames$ and $classNames$ to make sure it's a list of strings.\n",
    "\n",
    "   ** hints: **   \n",
    "*The object in wine.mat is a dictionary. The attributes are stored in matrix $X$, the class in vector $y$. $y$ is shaped as an array containing single element arrays. To flatten $y$, you can use `y.ravel()`, which unravels matrices into a 1d array. Attribute names and class names are stored in the attributeNames and classNames objects, which contain arrays, of which the first element contains the names. To get the names from those arrays, you can use list comprehension or for-loops. For more on list comprehension, check https://www.digitalocean.com/community/tutorials/understanding-list-comprehensions-in-python-3. For example, if you have an larger array containing nested arrays of which you want the first element, you can try `new_array = [nested_array[0] for nested_array in larger_array]`.*\n",
    "\n"
   ]
  },
  {
   "cell_type": "code",
   "execution_count": 242,
   "metadata": {},
   "outputs": [],
   "source": [
    "import numpy as np\n",
    "import pandas as pd\n",
    "import scipy.io as sio\n",
    "import matplotlib.pyplot as plt\n",
    "from scipy import stats\n",
    "\n",
    "data = sio.loadmat('Data/wine.mat')"
   ]
  },
  {
   "cell_type": "code",
   "execution_count": 659,
   "metadata": {},
   "outputs": [
    {
     "name": "stdout",
     "output_type": "stream",
     "text": [
      "attributeNames:  ['Alcohol', 'Volatile acidity', 'Citric acid', 'Residual sugar', 'Chlorides', 'Free sulfur dioxide', 'Total sulfur dioxide', 'Density', 'pH', 'Sulphates', 'Alcohol']\n",
      "\n",
      "classNames:  ['Red', 'White']\n"
     ]
    }
   ],
   "source": [
    "X = data['X']\n",
    "y = data['y']\n",
    "y = y.ravel()\n",
    "\n",
    "attributeNames = [data['attributeNames'][0][0][0] for data['attributeNames'][0][0] in data['attributeNames'][0]]\n",
    "\n",
    "classNames = []\n",
    "for index in range(len(data['classNames'])):\n",
    "    classNames.append(data['classNames'][index][0][0])\n",
    "\n",
    "print('attributeNames: ', attributeNames)\n",
    "print('\\nclassNames: ', classNames)"
   ]
  },
  {
   "cell_type": "markdown",
   "metadata": {},
   "source": [
    "#### 3.1.2\n",
    " (1.5 pts) Fit a decision tree to the wine data in order to estimate if the wine is red or white. Use the Gini (gdi) splitting criterion. Use `min_samples_split=100` for the stopping criterion. Explain what happens when you change the values of the parameter `min_samples_split`. After fitting the tree, visualize it with the tree_print function in `treeprint.py` in the Toolbox folder. \n",
    "\n",
    "** hints: **   \n",
    "*The `treeprint.py` file contains some documentation on how to use it. Helpfull documentation for the DecisionTreeClassifier function can be found at * http://scikit-learn.org/stable/modules/tree.html#classification  \n",
    "\n"
   ]
  },
  {
   "cell_type": "code",
   "execution_count": 301,
   "metadata": {},
   "outputs": [],
   "source": [
    "## I get an error when I want to import the Toolbox. Therefore I just copied the code from the python script.\n",
    "\n",
    "import operator\n",
    "\n",
    "def treeprint(clf, attributeNames, classNames):\n",
    "    \"\"\"\n",
    "    Print the tree of a sklearn DecisionTreeClassifier\n",
    "\n",
    "    Parameters\n",
    "    ----------\n",
    "    clf : sklearn.tree.DecisionTreeClassifier object - A tree that has already been fit.\n",
    "    attributeNames: vector of names of the variables\n",
    "    classNames: vector of class names, names for the leafs\n",
    "    \"\"\"\n",
    "    tlevel = _tree_rprint('', clf, attributeNames, classNames)\n",
    "    print('<',end='')\n",
    "    for i in range(5*tlevel - 2):\n",
    "        print('-',end='')\n",
    "    print('>')\n",
    "    print('Tree Depth: ',tlevel)\n",
    "\n",
    "\n",
    "def _tree_rprint(kword, clf, features, labels, node_index=0, tlevel_index=0, parent = 0, left=True):\n",
    "    # Note: The DecisionTreeClassifier uses the Tree structure defined in:\n",
    "    # \t\tgithub.com/scikit-learn/scikit-learn/blob/master/sklearn/tree/_tree.pyx\n",
    "    #       it is an array based tree implementation.\n",
    "    # indent the nodes according to their tree level\n",
    "    # LT changes 2017: \n",
    "    #     draw tree from left to right\n",
    "    #     added numbering\n",
    "    #     added arrows\n",
    "    # LT changes 2018:\n",
    "    #     some cleaning\n",
    "    #     \n",
    "    #  TODO: \n",
    "    #        clean up ugly string formatting code\n",
    "    #        the following should use the TREE_LEAF constant defined in _tree.pyx\n",
    "    #        instead of -1, not quite sure how to get at it from the tree user level\n",
    "    if clf.tree_.children_left[node_index] == -1:  # indicates leaf\n",
    "        print(kword[:-4], end=' ' if kword else '')\n",
    "        # get the majority label\n",
    "        count_list = clf.tree_.value[node_index, 0]\n",
    "        max_index, max_value = max(enumerate(count_list), key=operator.itemgetter(1))\n",
    "        max_label = labels[max_index]\n",
    "        print(max_label)\n",
    "        return tlevel_index\n",
    "    \n",
    "    else:\n",
    "        # compute and print node label\n",
    "        feature = features[clf.tree_.feature[node_index]]\n",
    "        threshold = clf.tree_.threshold[node_index]\n",
    "        # recurse down the children\n",
    "        left_index = clf.tree_.children_left[node_index]\n",
    "        right_index = clf.tree_.children_right[node_index]\n",
    "        #some formatting stuff\n",
    "        string = kword[:-9]\n",
    "        if(left_index<11):\n",
    "            string = kword[:-8]   \n",
    "        if(left and node_index is not 0):\n",
    "            leftstr = string[:-1]\n",
    "            leftstr = leftstr+' '\n",
    "        else:\n",
    "            leftstr = string\n",
    "        tmp = leftstr\n",
    "        for i in range(tlevel_index+1 - len(string)):\n",
    "            leftstr = leftstr+' '\n",
    "        #print left rule\n",
    "        ltlevel_index = _tree_rprint(leftstr+'  |->{} then'.format(left_index), clf, features, labels, left_index, tlevel_index+1, parent=node_index)\n",
    "        if(node_index is 0):\n",
    "            print(' ', end='')\n",
    "        print(tmp+'  |')\n",
    "        print(kword, end=' ' if kword else '')\n",
    "        #print current rule\n",
    "        print('if {} =< {:4.2f}: go to {}, else go to {}'.format(feature, threshold, left_index, right_index))   \n",
    "        #more formatting hell\n",
    "        if(not left):\n",
    "            rightstr = string[:-1]\n",
    "            rightstr = rightstr+' '\n",
    "        else:\n",
    "            rightstr = string\n",
    "        tmp = rightstr\n",
    "        for i in range(tlevel_index+1 - len(string)):\n",
    "            rightstr = rightstr+' '\n",
    "        if(node_index is 0):\n",
    "            print(' ', end='')\n",
    "        print(tmp+'  |')\n",
    "        #print right rule\n",
    "        rtlevel_index = _tree_rprint(rightstr+'  |->{} else'.format(right_index), clf, features, labels, right_index, tlevel_index+1, parent=node_index, left=False)\n",
    "        # return the maximum depth of either one of the children\n",
    "        return max(ltlevel_index,rtlevel_index)\n",
    "    \n"
   ]
  },
  {
   "cell_type": "code",
   "execution_count": 633,
   "metadata": {
    "scrolled": false
   },
   "outputs": [
    {
     "name": "stdout",
     "output_type": "stream",
     "text": [
      "         |->3  White\n",
      "         |\n",
      "      |->2 then if Sulphates =< 0.56: go to 3, else go to 4\n",
      "      |  |\n",
      "      |  |->4  White\n",
      "      |\n",
      "   |->1 then if Chlorides =< 0.05: go to 2, else go to 5\n",
      "   |  |\n",
      "   |  |  |->6  White\n",
      "   |  |  |\n",
      "   |  |->5 else if Sulphates =< 0.37: go to 6, else go to 7\n",
      "   |     |\n",
      "   |     |  |->8  White\n",
      "   |     |  |\n",
      "   |     |->7 else if Density =< 0.99: go to 8, else go to 9\n",
      "   |        |\n",
      "   |        |     |->11  White\n",
      "   |        |     |\n",
      "   |        |  |->10 then if Residual sugar =< 1.10: go to 11, else go to 12\n",
      "   |        |  |  |\n",
      "   |        |  |  |  |->13  Red\n",
      "   |        |  |  |  |\n",
      "   |        |  |  |->12 else if Density =< 0.99: go to 13, else go to 14\n",
      "   |        |  |     |\n",
      "   |        |  |     |  |->15  Red\n",
      "   |        |  |     |  |\n",
      "   |        |  |     |->14 else if Chlorides =< 0.05: go to 15, else go to 16\n",
      "   |        |  |        |\n",
      "   |        |  |        |  |->17  Red\n",
      "   |        |  |        |  |\n",
      "   |        |  |        |->16 else if Sulphates =< 0.45: go to 17, else go to 18\n",
      "   |        |  |           |\n",
      "   |        |  |           |->18  Red\n",
      "   |        |  |\n",
      "   |        |->9 else if Residual sugar =< 10.70: go to 10, else go to 19\n",
      "   |           |\n",
      "   |           |->19  White\n",
      "   |\n",
      "if Total sulfur dioxide =< 66.50: go to 1, else go to 20\n",
      "   |\n",
      "   |                 |->26  Red\n",
      "   |                 |\n",
      "   |              |->25 then if Chlorides =< 0.01: go to 26, else go to 27\n",
      "   |              |  |\n",
      "   |              |  |        |->30  White\n",
      "   |              |  |        |\n",
      "   |              |  |     |->29 then if Citric acid =< 0.10: go to 30, else go to 31\n",
      "   |              |  |     |  |\n",
      "   |              |  |     |  |  |->32  White\n",
      "   |              |  |     |  |  |\n",
      "   |              |  |     |  |->31 else if Total sulfur dioxide =< 72.50: go to 32, else go to 33\n",
      "   |              |  |     |     |\n",
      "   |              |  |     |     |  |->34  White\n",
      "   |              |  |     |     |  |\n",
      "   |              |  |     |     |->33 else if Residual sugar =< 0.92: go to 34, else go to 35\n",
      "   |              |  |     |        |\n",
      "   |              |  |     |        |        |->38  White\n",
      "   |              |  |     |        |        |\n",
      "   |              |  |     |        |     |->37 then if Free sulfur dioxide =< 6.50: go to 38, else go to 39\n",
      "   |              |  |     |        |     |  |\n",
      "   |              |  |     |        |     |  |        |->42  White\n",
      "   |              |  |     |        |     |  |        |\n",
      "   |              |  |     |        |     |  |     |->41 then if pH =< 3.31: go to 42, else go to 43\n",
      "   |              |  |     |        |     |  |     |  |\n",
      "   |              |  |     |        |     |  |     |  |->43  White\n",
      "   |              |  |     |        |     |  |     |\n",
      "   |              |  |     |        |     |  |  |->40 then if Citric acid =< 0.23: go to 41, else go to 44\n",
      "   |              |  |     |        |     |  |  |  |\n",
      "   |              |  |     |        |     |  |  |  |->44  White\n",
      "   |              |  |     |        |     |  |  |\n",
      "   |              |  |     |        |     |  |->39 else if Sulphates =< 0.75: go to 40, else go to 45\n",
      "   |              |  |     |        |     |     |\n",
      "   |              |  |     |        |     |     |->45  White\n",
      "   |              |  |     |        |     |\n",
      "   |              |  |     |        |  |->36 then if Alcohol =< 13.58: go to 37, else go to 46\n",
      "   |              |  |     |        |  |  |\n",
      "   |              |  |     |        |  |  |->46  White\n",
      "   |              |  |     |        |  |\n",
      "   |              |  |     |        |->35 else if Sulphates =< 0.78: go to 36, else go to 47\n",
      "   |              |  |     |           |\n",
      "   |              |  |     |           |->47  White\n",
      "   |              |  |     |\n",
      "   |              |  |  |->28 then if Total sulfur dioxide =< 275.00: go to 29, else go to 48\n",
      "   |              |  |  |  |\n",
      "   |              |  |  |  |->48  White\n",
      "   |              |  |  |\n",
      "   |              |  |->27 else if Sulphates =< 0.81: go to 28, else go to 49\n",
      "   |              |     |\n",
      "   |              |     |->49  White\n",
      "   |              |\n",
      "   |           |->24 then if pH =< 3.83: go to 25, else go to 50\n",
      "   |           |  |\n",
      "   |           |  |->50  Red\n",
      "   |           |\n",
      "   |        |->23 then if Chlorides =< 0.07: go to 24, else go to 51\n",
      "   |        |  |\n",
      "   |        |  |->51  White\n",
      "   |        |\n",
      "   |     |->22 then if Sulphates =< 1.12: go to 23, else go to 52\n",
      "   |     |  |\n",
      "   |     |  |->52  Red\n",
      "   |     |\n",
      "   |  |->21 then if Volatile acidity =< 0.82: go to 22, else go to 53\n",
      "   |  |  |\n",
      "   |  |  |->53  Red\n",
      "   |  |\n",
      "   |->20 else if Chlorides =< 0.07: go to 21, else go to 54\n",
      "      |\n",
      "      |     |->56  Red\n",
      "      |     |\n",
      "      |  |->55 then if Citric acid =< 0.06: go to 56, else go to 57\n",
      "      |  |  |\n",
      "      |  |  |  |->58  Red\n",
      "      |  |  |  |\n",
      "      |  |  |->57 else if Chlorides =< 0.07: go to 58, else go to 59\n",
      "      |  |     |\n",
      "      |  |     |  |->60  Red\n",
      "      |  |     |  |\n",
      "      |  |     |->59 else if Total sulfur dioxide =< 68.50: go to 60, else go to 61\n",
      "      |  |        |\n",
      "      |  |        |  |->62  White\n",
      "      |  |        |  |\n",
      "      |  |        |->61 else if Alcohol =< 9.95: go to 62, else go to 63\n",
      "      |  |           |\n",
      "      |  |           |->63  Red\n",
      "      |  |\n",
      "      |->54 else if Density =< 1.00: go to 55, else go to 64\n",
      "         |\n",
      "         |        |->67  White\n",
      "         |        |\n",
      "         |     |->66 then if Volatile acidity =< 0.23: go to 67, else go to 68\n",
      "         |     |  |\n",
      "         |     |  |->68  Red\n",
      "         |     |\n",
      "         |  |->65 then if Total sulfur dioxide =< 157.50: go to 66, else go to 69\n",
      "         |  |  |\n",
      "         |  |  |->69  White\n",
      "         |  |\n",
      "         |->64 else if Residual sugar =< 6.25: go to 65, else go to 70\n",
      "            |\n",
      "            |->70  White\n",
      "<---------------------------------------------------------------------------------------->\n",
      "Tree Depth:  18\n",
      "\n",
      "Figure 1: Decisiontree of the wine data by using the Gini splitting criterion\n"
     ]
    }
   ],
   "source": [
    "from sklearn.tree import DecisionTreeClassifier\n",
    "from sklearn.metrics import accuracy_score\n",
    "from sklearn import tree\n",
    "\n",
    "decision_tree = DecisionTreeClassifier(min_samples_split=100)\n",
    "decision_tree = decision_tree.fit(X, y)\n",
    "\n",
    "treeprint(decision_tree, attributeNames, classNames)\n",
    "print('\\nFigure 1: Decisiontree of the wine data by using the Gini splitting criterion')"
   ]
  },
  {
   "cell_type": "markdown",
   "metadata": {},
   "source": [
    "----\n",
    "The value of min_samples_split is the minimum amount of samples needed before a split will be made. So when this is a small number, a split will be made very easily and so the decision tree can get a very high depth. When the minimum number is higher, the decision tree will have less splits.\n",
    "The higher this number, the more accurate the split will be. However, it should be dependent of the number of data points. When there is just a small amount of data points available and the min_samples_split is pretty high, very few splits or no splits at all will be made, simply because there are not enough data points.\n",
    "\n",
    "----"
   ]
  },
  {
   "cell_type": "markdown",
   "metadata": {},
   "source": [
    "#### 3.1.3\n",
    "\n",
    "(0.5 pts) Show that a wine with the following attribute values would be classified as white by the tree fitted in 3.1.2, by applying the `predict()` function from the DecisionTreeClassifier to this sample.  Have another look at the visualized tree. Which attributes are used to classify this wine? \n",
    "\n",
    "| #             | Attribute     | Value  |\n",
    "| ------------- |:-------------| -----:|\n",
    "|1 | Fixed acidity (tartaric) | 6.9 g/dm$^3$ |\n",
    "|2 | Volatile acidity (acetic) | 1.09 g/dm$^3$ |\n",
    "|3 | Citric acid | 0.06 g/dm$^3$ |\n",
    "|4 | Residual sugar | 2.1 g/dm$^3$ |\n",
    "|5 | Chlorides | 0.0061 g/dm$^3$ |\n",
    "|6 | Free sulfur dioxide | 12 mg/dm$^3$ |\n",
    "|7 | Total sulfur dioxide | 31 mg/dm$^3$ |\n",
    "|8 | Density | 0.99 g/cm$^3$ |\n",
    "|9 | pH | 3.5 |\n",
    "|10 | Sulphates | 0.64 g/dm$^3$ |\n",
    "|11 | Alcohol | 12 % vol. | \n",
    "\n",
    "** hints: **\n",
    "*If you don't know how to classify input values with a tree, see the help documentation for the DecisionTreeClassifier function on how to predict the label for a sample. *"
   ]
  },
  {
   "cell_type": "code",
   "execution_count": 372,
   "metadata": {},
   "outputs": [
    {
     "name": "stdout",
     "output_type": "stream",
     "text": [
      "This should be a White wine\n"
     ]
    }
   ],
   "source": [
    "test = np.array([6.9, 1.09, 0.06, 2.1, 0.0061, 12, 31, 0.99, 3.5, 0.64, 12]).reshape(1, -1)\n",
    "\n",
    "prediction = decision_tree.predict(test)\n",
    "print('This should be a {} wine'.format(classNames[int(prediction)])) #prediction is stored as string"
   ]
  },
  {
   "cell_type": "markdown",
   "metadata": {},
   "source": [
    "----\n",
    "The following attributes are used:\n",
    "- Total sulfur dioxide\n",
    "- Chlorides\n",
    "- Sulphates\n",
    "\n",
    "----"
   ]
  },
  {
   "cell_type": "markdown",
   "metadata": {},
   "source": [
    "#### 3.1.4\n",
    "(1 pts) Classify all the wines in the wine data set. What percentage of the wine data is classified correctly by the tree?\n",
    "\n"
   ]
  },
  {
   "cell_type": "code",
   "execution_count": 662,
   "metadata": {},
   "outputs": [
    {
     "name": "stdout",
     "output_type": "stream",
     "text": [
      "       98.68 % is classified correctly.\n"
     ]
    }
   ],
   "source": [
    "predictions = decision_tree.predict(X)\n",
    "print('{:12.2f} % is classified correctly.'.format(accuracy_score(y, predictions)*100))"
   ]
  },
  {
   "cell_type": "markdown",
   "metadata": {},
   "source": [
    "----\n",
    "It is printed above, 98.68% is classified correctly by the tree.\n",
    "\n",
    "----"
   ]
  },
  {
   "cell_type": "markdown",
   "metadata": {},
   "source": [
    "## 3.2 Decision tree pruning using cross-validation\n",
    "\n",
    "In this exercise we will use cross-validation to prune a decision tree. When applying cross-validation the observed data is split into training and test sets, i.e., `X_train`, `y_train` and `X_test` and `y_test`. We train the model on the training data and evaluate the performance of the trained model on the test data.\n",
    "\n",
    "#### 3.2.1\n",
    "(2 pts) We are again using the wine data set `Data/wine.mat`. Divide the data into a training and a test data set (see hints!). Fit a decision tree to the training data using the Gini (`gdi`) splitting criterion.\n",
    "\n",
    "Now, we want to find an optimally pruned decision tree by *modifying its maximum depth*. For different values of the parameter `depth` (from 2 to 20), \n",
    "+ first fit the decision tree\n",
    "+ then compute the classification error on the training and test set (this is called holdout cross-validation)\n",
    "\n",
    "When you've done this for `depth` values 2,...,20, plot the training and test classification error as a function of the tree depth in the same figure. This will show us what the optimal pruning depth is for the training set, but also how well this generalizes to a test set. \n",
    "\n",
    "\n",
    "** hints: **  \n",
    "*Take a look at the module `sklearn.model_selection` and see how it can be used to partition the data into a training and a test set (holdout validation, `train_test_split()` function). Note that the package also contains functions to partition data for K-fold cross-validation. Some of the functions can ensure that both training and test sets have roughly the same class proportions. The error is 1-accuracy. The easiest way to compute the accuracy is by using the sklearn metrics module: \n",
    " https://scikit-learn.org/stable/modules/generated/sklearn.metrics.accuracy_score.html *\n",
    "\n",
    "What appears to be the optimal tree depth? Do you get the same result when you run your code again, generating a new random split between training and test data?\n"
   ]
  },
  {
   "cell_type": "code",
   "execution_count": 644,
   "metadata": {
    "scrolled": true
   },
   "outputs": [
    {
     "data": {
      "image/png": "[encoded data removed]",
      "text/plain": [
       "<Figure size 432x288 with 1 Axes>"
      ]
     },
     "metadata": {
      "needs_background": "light"
     },
     "output_type": "display_data"
    },
    {
     "name": "stdout",
     "output_type": "stream",
     "text": [
      "Figure 2: The error rate for training and testing as a function of the tree depth.\n"
     ]
    }
   ],
   "source": [
    "from sklearn.model_selection import train_test_split\n",
    "from matplotlib.pyplot import figure\n",
    "\n",
    "X_train, X_test, y_train, y_test = train_test_split(X, y, test_size = 0.3, random_state = 100)\n",
    "\n",
    "min_depth = 2\n",
    "max_depth = 20\n",
    "\n",
    "test_errors = []\n",
    "train_errors = []\n",
    "\n",
    "for depth in range(min_depth, max_depth+1):\n",
    "    clf = DecisionTreeClassifier(max_depth = depth)\n",
    "    clf = clf.fit(X_train, y_train)\n",
    "\n",
    "    test_predictions = clf.predict(X_test)\n",
    "    train_predictions = clf.predict(X_train)\n",
    "    \n",
    "    test_accuracy = accuracy_score(y_test, test_predictions)\n",
    "    train_accuracy = accuracy_score(y_train, train_predictions)\n",
    "    \n",
    "    test_error = 1 - test_accuracy\n",
    "    train_error = 1 - train_accuracy\n",
    "    \n",
    "    test_errors.append(test_error)\n",
    "    train_errors.append(train_error)\n",
    "\n",
    "plt.plot(range(2,max_depth+1), train_errors, '--o', label = 'Train errors')\n",
    "plt.plot(range(2,max_depth+1), test_errors, '--o', color='orange', label = 'Test errors')\n",
    "plt.xticks([2, 3, 4, 5, 6, 7, 8, 9, 10, 11, 12, 13, 14, 15, 16, 17, 18, 19, 20])\n",
    "plt.legend()\n",
    "plt.title('Training error vs Test error')\n",
    "plt.xlabel('Depths of the Decision tree')\n",
    "plt.ylabel('Train and test classification error')\n",
    "plt.show()\n",
    "print('Figure 2: The error rate for training and testing as a function of the tree depth.')"
   ]
  },
  {
   "cell_type": "markdown",
   "metadata": {},
   "source": [
    "----\n",
    "The best depth of the tree is a depth of 8, since then the error of the test data is almost the lowest. With more depths, the errors will decrease with a very small amount but it will take a lot more computations. So for the effiency it's the best to choose 8 as depth.\n",
    "We shouldn't look at the train errors, since that data is fitted/overfitted. So the higher the depth, the lower the errors.\n",
    "\n",
    "The results are every time different when you run the code, unless you set a seed. We set a seed for the randomly splitting the data into a test and train set, but it appears you also have to set a seed for making the decision tree.\n",
    "The seed will make sure that the data will be randomly shuffled in the same way when you run the code multiple times.\n",
    "\n",
    "----"
   ]
  },
  {
   "cell_type": "markdown",
   "metadata": {},
   "source": [
    "#### 3.2.2\n",
    "(1.5 pts) Repeat the exercise above, using 10-fold cross-validation. K-fold cross-validation works by splitting X into K partitions of equal length. Then in each fold, you choose K-1 partitions as the training set and the remaining partition as the test set. Every partition gets a turn being a test set. For a very nice simple explanation of how (and why) K-fold works, check out http://www.dummies.com/programming/big-data/data-science/resorting-cross-validation-machine-learning/\n",
    "\n",
    "\n",
    "For each fold, fit a decision tree on the training set and evaluate its performance on the test set. Finally, compute the average classification errors on the test- and training sets across the 10 cross-validation folds and plot them as a function of the tree depth.\n",
    "\n",
    "** hints: **\n",
    "*This time the `KFold()` function from the module `sklearn.model_selection` can be used to partition the data into the 10 training and test partitions. Check out http://scikit-learn.org/stable/modules/cross_validation.html#k-fold for an example of how to acces the indices for the training set and the test set in each fold. Those indices can then be used to create the training and test set, e.g. `X_train = X[train_indices]`*\n",
    "\n",
    "*If you are creating a for loop iterating over an object where you both need the index and the elements of the object, you can enumerate the object. For example:*\n",
    "\n",
    "`\n",
    "for index, (element) in enumerate(object):\n",
    "    array[index] = operation(element)\n",
    "`\n",
    " \n",
    "\n",
    "What appears to be the optimal tree depth? Do you get the same result when you run your code again, generating a new random split between training and test data? How about 100-fold cross-validation?\n"
   ]
  },
  {
   "cell_type": "code",
   "execution_count": 645,
   "metadata": {
    "scrolled": true
   },
   "outputs": [
    {
     "data": {
      "image/png": "[encoded data removed]",
      "text/plain": [
       "<Figure size 432x288 with 1 Axes>"
      ]
     },
     "metadata": {
      "needs_background": "light"
     },
     "output_type": "display_data"
    },
    {
     "name": "stdout",
     "output_type": "stream",
     "text": [
      "Figure 3: The error rate for training and testing as a function of the tree depth.\n"
     ]
    }
   ],
   "source": [
    "from sklearn.model_selection import KFold\n",
    "\n",
    "min_depth = 2\n",
    "max_depth = 20\n",
    "n_splits = 100\n",
    "kf = KFold(n_splits = n_splits)\n",
    "\n",
    "test_errors = []\n",
    "train_errors = []\n",
    "\n",
    "\n",
    "for depth in range(min_depth, max_depth+1):\n",
    "    temp_test_errors = []\n",
    "    temp_train_errors = []\n",
    "    for train_index, test_index in kf.split(X):\n",
    "        X_train, X_test, y_train, y_test =  X[train_index], X[test_index], y[train_index], y[test_index]\n",
    "    \n",
    "        clf = DecisionTreeClassifier(max_depth = depth)\n",
    "        clf = clf.fit(X_train, y_train)\n",
    "\n",
    "        test_predictions = clf.predict(X_test)\n",
    "        train_predictions = clf.predict(X_train)\n",
    "    \n",
    "        test_accuracy = accuracy_score(y_test, test_predictions)\n",
    "        train_accuracy = accuracy_score(y_train, train_predictions)\n",
    "    \n",
    "        test_error = 1 - test_accuracy\n",
    "        train_error = 1 - train_accuracy\n",
    "    \n",
    "        temp_test_errors.append(test_error)\n",
    "        temp_train_errors.append(train_error)\n",
    "        \n",
    "    mean_test_errors = np.mean(temp_test_errors)\n",
    "    temp_test_errors = np.mean(temp_train_errors)\n",
    "    \n",
    "    test_errors.append(mean_test_errors)\n",
    "    train_errors.append(temp_test_errors)\n",
    "    \n",
    "\n",
    "plt.plot(range(2,21), train_errors, '--o', label = 'Train errors')\n",
    "plt.plot(range(2,21), test_errors, '--o', color='orange', label = 'Test errors')\n",
    "plt.xticks([2, 3, 4, 5, 6, 7, 8, 9, 10, 11, 12, 13, 14, 15, 16, 17, 18, 19, 20])\n",
    "plt.legend()\n",
    "plt.title('Classification errors against decision tree depth')\n",
    "plt.xlabel('Depths of the Decision tree')\n",
    "plt.ylabel('Train and test classification error')\n",
    "plt.show()\n",
    "print('Figure 3: The error rate for training and testing as a function of the tree depth.')"
   ]
  },
  {
   "cell_type": "code",
   "execution_count": 646,
   "metadata": {},
   "outputs": [
    {
     "data": {
      "image/png": "[encoded data removed]",
      "text/plain": [
       "<Figure size 432x288 with 1 Axes>"
      ]
     },
     "metadata": {
      "needs_background": "light"
     },
     "output_type": "display_data"
    },
    {
     "name": "stdout",
     "output_type": "stream",
     "text": [
      "Figure 4: The error rate for training and testing as a function of the tree depth.\n"
     ]
    }
   ],
   "source": [
    "min_depth = 2\n",
    "max_depth = 20\n",
    "n_splits = 10\n",
    "kf = KFold(n_splits = n_splits)\n",
    "\n",
    "test_errors = []\n",
    "train_errors = []\n",
    "\n",
    "\n",
    "for depth in range(min_depth, max_depth+1):\n",
    "    temp_test_errors = []\n",
    "    temp_train_errors = []\n",
    "    for train_index, test_index in kf.split(X):\n",
    "        X_train, X_test, y_train, y_test =  X[train_index], X[test_index], y[train_index], y[test_index]\n",
    "    \n",
    "        clf = DecisionTreeClassifier(max_depth = depth)\n",
    "        clf = clf.fit(X_train, y_train)\n",
    "\n",
    "        test_predictions = clf.predict(X_test)\n",
    "        train_predictions = clf.predict(X_train)\n",
    "    \n",
    "        test_accuracy = accuracy_score(y_test, test_predictions)\n",
    "        train_accuracy = accuracy_score(y_train, train_predictions)\n",
    "    \n",
    "        test_error = 1 - test_accuracy\n",
    "        train_error = 1 - train_accuracy\n",
    "    \n",
    "        temp_test_errors.append(test_error)\n",
    "        temp_train_errors.append(train_error)\n",
    "        \n",
    "    mean_test_errors = np.mean(temp_test_errors)\n",
    "    temp_test_errors = np.mean(temp_train_errors)\n",
    "    \n",
    "    test_errors.append(mean_test_errors)\n",
    "    train_errors.append(temp_test_errors)\n",
    "    \n",
    "\n",
    "plt.plot(range(2,21), train_errors, '--o', label = 'Train errors')\n",
    "plt.plot(range(2,21), test_errors, '--o', color='orange', label = 'Test errors')\n",
    "plt.xticks([2, 3, 4, 5, 6, 7, 8, 9, 10, 11, 12, 13, 14, 15, 16, 17, 18, 19, 20])\n",
    "plt.legend()\n",
    "plt.title('Classification errors against decision tree depth')\n",
    "plt.xlabel('Depths of the Decision tree')\n",
    "plt.ylabel('Train and test classification error')\n",
    "plt.show()\n",
    "print('Figure 4: The error rate for training and testing as a function of the tree depth.')"
   ]
  },
  {
   "cell_type": "markdown",
   "metadata": {},
   "source": [
    "----\n",
    "After every run, the errors are different, untill you set a seed. Just like with the previous exercise. \n",
    "When using 100-fold cross-validation, a lot more computations has to be done so the runtime is very long.\n",
    "\n",
    "With using 100-fold cross-validation a depth of 6 is the best and then the test error has a rate of 0.018.\n",
    "By using 10-fold cross-validation, the best depth is 8 and the test error has a rate of 0.022.\n",
    "\n",
    "So the gain by using 100-fold cross-validation is very small compared to using 10-fold cross-validation while 10-fold cross-validation is a lot more efficient. So it's better to use 10-fold cross-validation.\n",
    "\n",
    "When using 100-fold cross-validation the outcomes are more equally though after each run. Which isn't strange, since there are a lot more samples and they are smaller too. So they will differ less from each other after each run.\n",
    "\n",
    "----"
   ]
  },
  {
   "cell_type": "markdown",
   "metadata": {},
   "source": [
    " ## 3.3 ROC curves, AUC scores, and the sign test\n",
    "\n",
    "In this exercise we will use ROC curves and the sign test to compare classifiers. Study the lecture slides and the paper 'ROC Graphs: Notes and Practical Considerations for Researchers' by Tom Fawcett included with the homework assignment (ROC101.pdf). It describes all you need to know (and much, much more..) about ROC curves. The method explained for computing the area under the curve is unnecessarily complicated. A simpler formula is:\n",
    "$$\n",
    "    \\mbox{AUC} = {1 \\over m n} \\sum_{i=1}^m \\sum_{j=1}^n \\mathbf{\\large 1}_{p_i > p_j} \\: .\n",
    "   $$\n",
    "Here $i$ runs over all $m$ data points with true label 1, and $j$ runs over all $n$ data points with true label $0$; $p_i$ and $p_j$ denote the probability score assigned by the classifier to data point $i$ and $j$, respectively. $\\mathbf{\\large 1}$ is the indicator function: it outputs $1$ if the condition (here $p_i > p_j$) is satisfied and $0$ otherwise. *Simply put: this formula computes how often the probability of a data point with true label 1 is higher than the probability of data points with true label 0. This is then divided by the total number of comparisons between probabilities.*\n",
    "    \n",
    "\n",
    "#### 3.3.1\n",
    "(0.25 pts) To make sure you understand how ROC works, make an ROC curve and calculate the AUC (on paper) with the following data:\n",
    "\n",
    "`\n",
    "labels = [0,0,0,1,0,1,1,0,1,1]\n",
    "classifier_probs = [0.1,0.2,0.3,0.4,0.5,0.6,0.7,0.8,0.9,0.99]\n",
    "`\n",
    "    \n",
    "What's the AUC you calculated? Do you think this classifier works well?\n"
   ]
  },
  {
   "cell_type": "code",
   "execution_count": 654,
   "metadata": {},
   "outputs": [
    {
     "name": "stdout",
     "output_type": "stream",
     "text": [
      "[[0.   0.   0.   1.   0.   1.   1.   0.   1.   1.  ]\n",
      " [0.1  0.2  0.3  0.4  0.5  0.6  0.7  0.8  0.9  0.99]\n",
      " [5.   5.   5.   4.   4.   3.   2.   2.   1.   0.  ]\n",
      " [4.   3.   2.   2.   1.   1.   1.   0.   0.   0.  ]\n",
      " [1.   2.   3.   3.   4.   4.   4.   5.   5.   5.  ]\n",
      " [0.   0.   0.   1.   1.   2.   3.   3.   4.   5.  ]\n",
      " [1.   1.   1.   0.8  0.8  0.6  0.4  0.4  0.2  0.  ]\n",
      " [0.8  0.6  0.4  0.4  0.2  0.2  0.2  0.   0.   0.  ]]\n"
     ]
    },
    {
     "data": {
      "image/png": "[encoded data removed]",
      "text/plain": [
       "<Figure size 432x288 with 1 Axes>"
      ]
     },
     "metadata": {
      "needs_background": "light"
     },
     "output_type": "display_data"
    },
    {
     "name": "stdout",
     "output_type": "stream",
     "text": [
      "Figure 5: ROC Curve and baseline which stands for random guessing\n"
     ]
    }
   ],
   "source": [
    "## steps to take\n",
    "\n",
    "labels = np.array([0,0,0,1,0,1,1,0,1,1])\n",
    "classifier_probs = np.array([0.1,0.2,0.3,0.4,0.5,0.6,0.7,0.8,0.9,0.99])\n",
    "\n",
    "## Add treshold row and use probabillity as threshold\n",
    "ROC_table = np.vstack([labels, classifier_probs])\n",
    "\n",
    "TP = []\n",
    "## All with label 1 and prob above threshold\n",
    "for i in range(len(labels)):\n",
    "    filter = labels == 1\n",
    "    TP.append(len(classifier_probs[filter][classifier_probs[filter] > classifier_probs[i]]))\n",
    "\n",
    "## All with label 0 but prob above threshold\n",
    "FP = []\n",
    "for i in range(len(labels)):\n",
    "    filter = labels == 0\n",
    "    FP.append(len(classifier_probs[filter][classifier_probs[filter] > classifier_probs[i]]))\n",
    "    \n",
    "# All with label 0 and probabillity below threshold\n",
    "TN = []\n",
    "for i in range(len(labels)):\n",
    "    filter = labels == 0\n",
    "    TN.append(len(classifier_probs[filter][classifier_probs[filter] <= classifier_probs[i]]))\n",
    "     \n",
    "# All with label 1 but prob below threshold\n",
    "FN = []\n",
    "for i in range(len(labels)):\n",
    "    filter = labels == 1\n",
    "    FN.append(len(classifier_probs[filter][classifier_probs[filter] <= classifier_probs[i]]))\n",
    "           \n",
    "\n",
    "ROC_table = np.vstack([ROC_table, TP])\n",
    "ROC_table = np.vstack([ROC_table, FP])\n",
    "ROC_table = np.vstack([ROC_table, TN])\n",
    "ROC_table = np.vstack([ROC_table, FN])\n",
    "\n",
    "TPR = []\n",
    "for i in range(len(labels)):\n",
    "    TPR.append(ROC_table[2][i]/(ROC_table[2][i]+ ROC_table[5][i]))\n",
    "ROC_table = np.vstack([ROC_table, TPR])\n",
    "\n",
    "FPR = []\n",
    "for i in range(len(labels)):\n",
    "        FPR.append(ROC_table[3][i]/(ROC_table[3][i]+ ROC_table[4][i]))\n",
    "ROC_table = np.vstack([ROC_table, FPR])\n",
    "\n",
    "print(ROC_table)\n",
    "import pandas as pd\n",
    "df = pd.DataFrame(ROC_table)\n",
    "\n",
    "plt.plot(df.iloc[7], df.iloc[6], '--o', label = 'ROC Curve')\n",
    "plt.plot([0,1], [0,1], label = 'Baseline')\n",
    "plt.title('ROC curve')\n",
    "plt.xlabel('False Positive Rate')\n",
    "plt.ylabel('True Positive Rate')\n",
    "plt.legend()\n",
    "plt.show()\n",
    "print('Figure 5: ROC Curve and baseline which stands for random guessing')"
   ]
  },
  {
   "cell_type": "markdown",
   "metadata": {},
   "source": [
    "----\n",
    "This classifier works well because in the ideal situation the AUC is 1 and worst is 0. For this classifier the AUC value is 0.84. Because the AUC value is closer to 1 than 0.5, where the model doesn't have any classifying capacity, the classfier performs quite well.\n",
    "\n",
    "Normally the ROC Curve goes to 1.0. We couldn't manage to plot it here in Python to 1.0.\n",
    "\n",
    "----"
   ]
  },
  {
   "cell_type": "markdown",
   "metadata": {},
   "source": [
    "#### 3.3.2\n",
    "  Load the file `Data/classprobs.xls` using the Pandas `read_excel` function. Inspect the data and cast it to an array with the `.values` attribute. The first column gives the true class label (either 0 or 1). The second and third column give the probabilistic scores for two different classifiers. The higher this probability, the more certain the classifier is that the example belongs to class 1 (instead of class 0).\n"
   ]
  },
  {
   "cell_type": "code",
   "execution_count": 663,
   "metadata": {},
   "outputs": [],
   "source": [
    "data_classprobs = pd.read_excel('Data/classprobs.xls')\n",
    "data_classprobs = data_classprobs.values"
   ]
  },
  {
   "cell_type": "markdown",
   "metadata": {},
   "source": [
    "#### 3.3.3\n",
    "(1 pts) Calculate the ROC curves for both of the classifiers by calculating the FP and TP rates and plot them in the same plot. Make the plot yourself as opposed to using a library! Also plot a dashed line on the diagonal to represent random guessing in the same figure. Interpret the obtained results. Do both classifiers perform better than random guessing?\n",
    "\n",
    "** hints: **  \n",
    "*The function `sklearn.metrics.roc_curve` can be used for computing the FP and TP rates. You can then plot them using the `matplotlib.pyplot` `plot` function. Check the documentation on how to plot a dashed line. Remember to include a legend!* \n",
    "\n",
    "**An extra tip: the sign test example below includes a figure with dashed lines and a legend...**\n",
    " "
   ]
  },
  {
   "cell_type": "code",
   "execution_count": 664,
   "metadata": {},
   "outputs": [
    {
     "data": {
      "image/png": "[encoded data removed]",
      "text/plain": [
       "<Figure size 432x288 with 1 Axes>"
      ]
     },
     "metadata": {
      "needs_background": "light"
     },
     "output_type": "display_data"
    },
    {
     "name": "stdout",
     "output_type": "stream",
     "text": [
      "Figure 6: ROC of 2 different classifiers predicting an outcome of the same data\n"
     ]
    }
   ],
   "source": [
    "from sklearn import metrics\n",
    "\n",
    "fpr1, tpr1, thresholds1 = metrics.roc_curve(data_classprobs[:,0], data_classprobs[:,1])\n",
    "fpr2, tpr2, thresholds2 = metrics.roc_curve(data_classprobs[:,0], data_classprobs[:,2])\n",
    "\n",
    "plt.plot(fpr1, tpr1, '-', label = 'Classifier 1', color = 'r')\n",
    "plt.plot(fpr2, tpr2, '-', label = 'Classifier 2', color = 'lightgray')\n",
    "plt.plot([0, 1], [0, 1], linestyle='--', lw=2, color='dodgerblue',\n",
    "         label='Chance')\n",
    "plt.title('ROC curves of 2 different classifiers')\n",
    "plt.xlabel('False Positive Rate')\n",
    "plt.ylabel('True Positive Rate')\n",
    "plt.legend()\n",
    "plt.show()\n",
    "print('Figure 6: ROC of 2 different classifiers predicting an outcome of the same data')"
   ]
  },
  {
   "cell_type": "markdown",
   "metadata": {},
   "source": [
    "----\n",
    "Both classifiers perform better than the random guessing, since those curves are at the left side of the line of the random guessing. That means that the classifiers make better predictions.\n",
    "\n",
    "----"
   ]
  },
  {
   "cell_type": "markdown",
   "metadata": {},
   "source": [
    "#### 3.3.4\n",
    "(0.5 pts) Compute the AUC scores (area under the curve) of both classifiers using the formula given above. **Write your own code for this calculation.** Do the AUC scores indicate that the classifiers are performing better than this baseline?\n",
    "\n",
    "\n",
    "\n",
    "\n",
    " "
   ]
  },
  {
   "cell_type": "code",
   "execution_count": 592,
   "metadata": {},
   "outputs": [
    {
     "name": "stdout",
     "output_type": "stream",
     "text": [
      "The AUC of classifier 1 is: 0.9556254367575122 \n",
      "The AUC of classifier 2 is: 0.7613556953179594\n"
     ]
    }
   ],
   "source": [
    "m = data_classprobs[data_classprobs[:,0]== 1]\n",
    "n = data_classprobs[data_classprobs[:,0]== 0]\n",
    "\n",
    "AUC1 = 0\n",
    "AUC2 = 0\n",
    "for index in range(len(m)):\n",
    "    for index2 in range(len(n)):\n",
    "        if (m[index,1] > n[index2,1]):\n",
    "            AUC1 = AUC1 + 1\n",
    "        if (m[index,2] > n[index2,2]):\n",
    "            AUC2 = AUC2 + 1\n",
    "\n",
    "AUC1 = (1/(len(m)*len(n))) * AUC1\n",
    "AUC2 = (1/(len(m)*len(n))) * AUC2\n",
    "\n",
    "print('The AUC of classifier 1 is: {0} \\nThe AUC of classifier 2 is: {1}'.format(AUC1,AUC2))"
   ]
  },
  {
   "cell_type": "markdown",
   "metadata": {},
   "source": [
    "----\n",
    "The AUC also shows that both classifiers are performing better. The area under the curves is greater than the area under the baseline. The AUC of the baseline is 0.5 x 1 x 1 = 0.5\n",
    "\n",
    "----"
   ]
  },
  {
   "cell_type": "markdown",
   "metadata": {},
   "source": [
    "\n",
    "#### 3.3.5\n",
    "(0.25 pts) Using a threshold of 0.5, translate the probability scores to predicted class labels, and compute the accuracy for each of the classifiers.\n",
    "\n",
    "** hint: **\n",
    "\n",
    "*Take a look at https://scikit-learn.org/stable/modules/generated/sklearn.metrics.accuracy_score.html *"
   ]
  },
  {
   "cell_type": "code",
   "execution_count": 665,
   "metadata": {},
   "outputs": [
    {
     "name": "stdout",
     "output_type": "stream",
     "text": [
      "The accuracy of classifier 1 with threshold 0.5 is: 0.8598130841121495 \n",
      "The accuracy of classifier 2 with threshold 0.5 is: 0.6915887850467289\n"
     ]
    }
   ],
   "source": [
    "data_classprobs[:,1] = data_classprobs[:,1] >= 0.5\n",
    "data_classprobs[:,2] = data_classprobs[:,2] >= 0.5\n",
    "\n",
    "accuracy1 = accuracy_score(data_classprobs[:,0], data_classprobs[:,1])\n",
    "accuracy2 = accuracy_score(data_classprobs[:,0], data_classprobs[:,2])\n",
    "\n",
    "print('The accuracy of classifier 1 with threshold 0.5 is: {0} \\nThe accuracy of classifier 2 with threshold 0.5 is: {1}'.format(accuracy1,accuracy2))"
   ]
  },
  {
   "cell_type": "markdown",
   "metadata": {},
   "source": [
    "#### 3.3.6\n",
    "(1 pts) Create the 2x2 table (or array, or list, or dataframe..) of wrong and correct classifications by the first and the second classifier, like in the lecture slides (lecture on model evaluation, part on the sign test). Perform a sign test to test whether the performance of the two classifiers is significantly different at a significance level of 0.05. **If you are not familiar with sign testing, you can read the example provided below.**\n",
    "\n",
    "\n",
    "** hints: **  \n",
    "*As explained in the lecture slides, the sign test is a binomial test on the lower-left ($N_{1<2}$) and upper-right ($N_{1>2}$) elements of the cross table. Unlike in the lecture slides, here you need to perform a two-sided test: $$\\textrm{p-value} = P(W \\leq \\min(N_{1<2},N_{1>2}) \\textrm{ or } W \\geq  \\max(N_{1<2},N_{1>2})$$\n",
    "The function `scipy.stats.binom.cdf` can be used to compute the cumulative density of the binomial distribution.\n",
    "For more information on the sign test, see the included paper by Salzberg (signtest.pdf, in particular section 3.1).*"
   ]
  },
  {
   "cell_type": "code",
   "execution_count": 667,
   "metadata": {},
   "outputs": [
    {
     "name": "stdout",
     "output_type": "stream",
     "text": [
      "[[66 26]\n",
      " [ 8  7]]\n",
      "\n",
      "The p-value is: 0.0029350556433200854\n"
     ]
    }
   ],
   "source": [
    "from scipy.stats import binom\n",
    "\n",
    "corrects = 0\n",
    "wrongs = 0\n",
    "m2_wrong = 0\n",
    "m1_wrong = 0\n",
    "\n",
    "for index in range(len(data_classprobs)):\n",
    "    if (data_classprobs[index,0] == data_classprobs[index,1] == data_classprobs[index,2]):\n",
    "        corrects = corrects + 1\n",
    "    elif (data_classprobs[index,1] == data_classprobs[index,2] != data_classprobs[index,0]):\n",
    "        wrongs = wrongs + 1\n",
    "    elif (data_classprobs[index,1] != data_classprobs[index,2] and data_classprobs[index,1] == data_classprobs[index,0]):\n",
    "        m2_wrong = m2_wrong + 1\n",
    "    elif (data_classprobs[index,1] != data_classprobs[index,2] and data_classprobs[index,2] == data_classprobs[index,0]):\n",
    "        m1_wrong = m1_wrong + 1\n",
    "        \n",
    "table = np.array([[corrects, m2_wrong], [m1_wrong,wrongs]])\n",
    "print(table)\n",
    "\n",
    "p_value1 = 1 - binom.cdf(max(m1_wrong,m2_wrong)-1, m1_wrong+m2_wrong, 0.5)\n",
    "p_value2 = binom.cdf(min(m1_wrong,m2_wrong), m1_wrong+m2_wrong, 0.5)\n",
    "p_value = p_value1 + p_value2\n",
    "print('\\nThe p-value is:', p_value)"
   ]
  },
  {
   "cell_type": "markdown",
   "metadata": {},
   "source": [
    "----\n",
    "The p-value is 0.0029 which is smaller than 0.05, so the performance of the two classifiers is significanlty different.\n",
    "\n",
    "----"
   ]
  },
  {
   "cell_type": "markdown",
   "metadata": {},
   "source": [
    "## Example two-sided sign test\n",
    "\n",
    "Imagine you have a lucky coin, that you are certain does not result in heads 50% of the times you flip it. However, you friend (lets call him *zero_hypothesis*) claims that your coin is just like his random coin. To verify whether this is true, you decide to compare the performance (you are a scientist after all) of your lucky coin resulting in heads to the performance of his random coin resulting in heads with a sign test. How do you do this?\n",
    "\n",
    "First, you collect data. Assume you place 23 bets. During those 23 bets, you both flip your respective coins. It was determined that if one of you flipped head while the other didn't, that person won the bet, and the other person lost. If you both got the same outcome, neither of you won. 1 stands for head, and 0 for tails. These were your results:"
   ]
  },
  {
   "cell_type": "code",
   "execution_count": 1,
   "metadata": {},
   "outputs": [
    {
     "name": "stdout",
     "output_type": "stream",
     "text": [
      "----------lucky | random \n",
      " bet 0      | 1 | 0\n",
      " bet 1      | 1 | 1\n",
      " bet 2      | 1 | 0\n",
      " bet 3      | 0 | 1\n",
      " bet 4      | 1 | 0\n",
      " bet 5      | 1 | 1\n",
      " bet 6      | 1 | 0\n",
      " bet 7      | 1 | 0\n",
      " bet 8      | 1 | 0\n",
      " bet 9      | 0 | 1\n",
      " bet 10     | 1 | 0\n",
      " bet 11     | 1 | 1\n",
      " bet 12     | 1 | 0\n",
      " bet 13     | 1 | 1\n",
      " bet 14     | 0 | 1\n",
      " bet 15     | 1 | 1\n",
      " bet 16     | 1 | 1\n",
      " bet 17     | 0 | 0\n",
      " bet 18     | 1 | 0\n",
      " bet 19     | 1 | 0\n",
      " bet 20     | 1 | 0\n",
      " bet 21     | 0 | 0\n",
      " bet 22     | 1 | 0\n",
      " -----\n",
      "\n"
     ]
    }
   ],
   "source": [
    "import numpy as np\n",
    "from scipy.stats import binom\n",
    "import matplotlib.pyplot as plt\n",
    "\n",
    "#results\n",
    "lucky_coin = np.array([1,1,1,0,1,1,1,1,1,0,1,1,1,1,0,1,1,0,1,1,1,0,1])\n",
    "random_coin= np.array([0,1,0,1,0,1,0,0,0,1,0,1,0,1,1,1,1,0,0,0,0,0,0])\n",
    "\n",
    "print('----------lucky | random \\n',*['bet {:<5}  | {} | {}\\n'.format(t[0],t[1],t[2]) for t in zip(range(0,len(lucky_coin)),lucky_coin,random_coin)],'-----\\n')"
   ]
  },
  {
   "cell_type": "markdown",
   "metadata": {},
   "source": [
    "Now you calculate how often in any pair of outcomes one coin *won*, i.e. one coin flipped to head while the other flipped to tails."
   ]
  },
  {
   "cell_type": "code",
   "execution_count": 2,
   "metadata": {},
   "outputs": [
    {
     "name": "stdout",
     "output_type": "stream",
     "text": [
      "The lucky coin won 12 times, while the random won 3 times.\n"
     ]
    }
   ],
   "source": [
    "N_l = sum((lucky_coin == 1) & (random_coin == 0)) #how often your lucky coin won\n",
    "N_r = sum((lucky_coin == 0) & (random_coin == 1)) #how often the random coin won\n",
    "N = N_l + N_r #how often one coin was a winner\n",
    "print('The lucky coin won {} times, while the random won {} times.'.format(N_l,N_r))"
   ]
  },
  {
   "cell_type": "markdown",
   "metadata": {},
   "source": [
    "You observed 15 times that one coin won. If both coins resulted in heads 50% of the time, like *zero_hypothesis* stated, you'd expect that both coins have 50% chance of being the winner. So the probability distributions for both N_l and N_r should look something like this, assuming that *zero_hypothesis* is right:"
   ]
  },
  {
   "cell_type": "code",
   "execution_count": 3,
   "metadata": {},
   "outputs": [
    {
     "data": {
      "image/png": "[encoded data removed]",
      "text/plain": [
       "<Figure size 432x288 with 1 Axes>"
      ]
     },
     "metadata": {},
     "output_type": "display_data"
    }
   ],
   "source": [
    "b = binom(N,0.5) #N=observations of inequality, p=prob of one coin being better, which is 0.5 according to your H0\n",
    "plt.plot(b.pmf(range(N+1)), '--o',label = 'Probability density')\n",
    "plt.plot(b.cdf(range(N+1)), '--o',label = 'Cumulative distribution')\n",
    "plt.legend()\n",
    "plt.xlabel('Number of times one coin is better than the other')\n",
    "plt.ylabel('Probability')\n",
    "plt.title('Distribution according to H0')\n",
    "plt.show()"
   ]
  },
  {
   "cell_type": "markdown",
   "metadata": {},
   "source": [
    "(Of course this is a discrete probability function, so you're not interested in values between integers.)\n",
    "\n",
    "As you can see, according to *zero_hypothesis*, 7 and 8 are the most likely values for both N_l and N_r. But this is not what you observed in your data. To conclude that *H0* is false, you need to show that your outcome is unlikely under the assumption that *H0* is true: the values you observed are so extreme that these values or more extreme values occur less than 5% of the time (*p-value < 0.05*). So how unlikely is it that one coin is better 12 times or more, and the other is better 3 times or less?\n",
    "\n",
    "It's the sum of the values of the probability density function (pdf or pmf in the python doc) at  0,1,2 and 3, plus the sum of the values of the pdf at 12,13,14 and 15. \n",
    "\n",
    "This is equal to the value of the cumulative distribution function (cdf) at 3, plus 1 minus the value of cdf at 11 (since `1-cdf(11)` represents the probability of observing 12 or bigger)."
   ]
  },
  {
   "cell_type": "code",
   "execution_count": 4,
   "metadata": {},
   "outputs": [
    {
     "name": "stdout",
     "output_type": "stream",
     "text": [
      "The p-value is 0.035\n"
     ]
    }
   ],
   "source": [
    "p_value = b.cdf(min(N_r,N_l)) + (1-b.cdf(max(N_r,N_l)-1))\n",
    "print('The p-value is {:.3f}'.format(p_value))"
   ]
  },
  {
   "cell_type": "markdown",
   "metadata": {},
   "source": [
    "So your observations are very unlikely if *zero_hypothesis* is right. By statistical theory, you can now say that you have significant reason to reject their opinion. Now the hardest part of statistics: convincing your non-scientist friends."
   ]
  }
 ],
 "metadata": {
  "anaconda-cloud": {},
  "kernelspec": {
   "display_name": "Python 3",
   "language": "python",
   "name": "python3"
  },
  "language_info": {
   "codemirror_mode": {
    "name": "ipython",
    "version": 3
   },
   "file_extension": ".py",
   "mimetype": "text/x-python",
   "name": "python",
   "nbconvert_exporter": "python",
   "pygments_lexer": "ipython3",
   "version": "3.7.3"
  },
  "varInspector": {
   "cols": {
    "lenName": 16,
    "lenType": 16,
    "lenVar": 40
   },
   "kernels_config": {
    "python": {
     "delete_cmd_postfix": "",
     "delete_cmd_prefix": "del ",
     "library": "var_list.py",
     "varRefreshCmd": "print(var_dic_list())"
    },
    "r": {
     "delete_cmd_postfix": ") ",
     "delete_cmd_prefix": "rm(",
     "library": "var_list.r",
     "varRefreshCmd": "cat(var_dic_list()) "
    }
   },
   "oldHeight": 370.979666,
   "position": {
    "height": "40px",
    "left": "1872.32px",
    "right": "20px",
    "top": "124px",
    "width": "621.979px"
   },
   "types_to_exclude": [
    "module",
    "function",
    "builtin_function_or_method",
    "instance",
    "_Feature"
   ],
   "varInspector_section_display": "none",
   "window_display": true
  }
 },
 "nbformat": 4,
 "nbformat_minor": 1
}
