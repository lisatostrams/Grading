{
 "cells": [
  {
   "cell_type": "markdown",
   "metadata": {},
   "source": [
    "# Assignment 3\n",
    "\n",
    "Alberto Monaco s1043826\n",
    "Edoardo Gervasoni s1043824\n",
    "\n",
    "## Objective of this assignment\n",
    "The objective of this exercise is to become familiar with fitting decision trees and\n",
    "making ROC curves in Python.\n",
    "\n",
    "\n",
    "## ** Important: ** When handing in your homework:\n",
    "+ Hand in the notebook **(and nothing else)** named as follows: StudentName1_snumber_StudentName2_snumber.ipynb\n",
    "+ Provide clear and complete answers to the questions below under a separate header (not hidden somewhere in your source code), and make sure to explain your answers / motivate your choices. Add Markdown cells where necessary.\n",
    "+ Source code, output graphs, derivations, etc., should be included in the notebook.\n",
    "+ Hand-in: upload to Brightspace.\n",
    "+ Include name, student number, assignment (especially in filenames)!\n",
    "+ When working in pairs only one of you should upload the assignment, and report the name of your partner in your filename.\n",
    "+ Use the Brightspace discussion board or email the student assistants for questions on how to complete the exercises.\n",
    "+ If you find mistakes/have suggestions/would like to complain about the assigment material itself, please email me [Lisa] at `l.tostrams@science.ru.nl`\n",
    "\n",
    "\n",
    "## Advised Reading and Exercise Material\n",
    "**The following reading material is recommended:**\n",
    "\n",
    "Pang-Ning Tan, Michael Steinbach, and Vipin Kumar, Introduction to Data Mining, section 4.1-4.6, as well as the included article on ROC curves.\n"
   ]
  },
  {
   "cell_type": "markdown",
   "metadata": {},
   "source": [
    "## 3.1 Decision trees\n",
    "\n",
    "In this part of the exercise we will fit decision trees using the scikitlearn classifier\n",
    "`sklearn.tree.DecisionTreeClassifier`. As a splitting criterion, the function uses\n",
    "one of the following two impurity measures:\n",
    "\n",
    "\\begin{equation} \\textrm{gdi}(t) = -\\sum_{i=1}^C p(i|t)^2 \\quad \\text{       equivalent to Gini(t)} \\end{equation}   \n",
    "\n",
    "\\begin{equation}\n",
    "\\textrm{deviance}(t) = -2\\sum_{i=1}^C p(i|t) \\log p(i|t) \\quad \\text{equivalent to Entropy(t)} \n",
    "\\end{equation}\n",
    "\n",
    "We will analyze the wine data we have used previously. The wine data set has the following attributes, all of which are continuous: \n",
    "\n",
    "\n",
    "| #             | Attribute     | Unit  |\n",
    "| ------------- |:-------------| -----:|\n",
    "|1 | Fixed acidity (tartaric) | g/dm$^3$ |\n",
    "|2 | Volatile acidity (acetic) | g/dm$^3$ |\n",
    "|3 | Citric acid | g/dm$^3$ |\n",
    "|4 | Residual sugar | g/dm$^3$ |\n",
    "|5 | Chlorides | g/dm$^3$ |\n",
    "|6 | Free sulfur dioxide | mg/dm$^3$ |\n",
    "|7 | Total sulfur dioxide | mg/dm$^3$ |\n",
    "|8 | Density | g/cm$^3$ |\n",
    "|9 | pH | pH |\n",
    "|10 | Sulphates | g/dm$^3$ |\n",
    "|11 | Alcohol | % vol. | \n",
    "\n",
    "\n",
    "#### 3.1.1\n",
    "(0.5 pts) Load the wine data set `Data/wine.mat` using the `scipy.io` `loadmat` function. This contains the same data as used in the earlier assignment, but with outliers and the 12th attribute already removed. Create data matrix $X$, class vector $y$, and the lists $attributeNames$ and $classNames$ with the data provided in the `wine.mat` file. Print out the  $attributeNames$ and $classNames$ to make sure it's a list of strings.\n",
    "\n",
    "   ** hints: **   \n",
    "*The object in wine.mat is a dictionary. The attributes are stored in matrix $X$, the class in vector $y$. $y$ is shaped as an array containing single element arrays. To flatten $y$, you can use `y.ravel()`, which unravels matrices into a 1d array. Attribute names and class names are stored in the attributeNames and classNames objects, which contain arrays, of which the first element contains the names. To get the names from those arrays, you can use list comprehension or for-loops. For more on list comprehension, check https://www.digitalocean.com/community/tutorials/understanding-list-comprehensions-in-python-3. For example, if you have an larger array containing nested arrays of which you want the first element, you can try `new_array = [nested_array[0] for nested_array in larger_array]`.*\n",
    "\n"
   ]
  },
  {
   "cell_type": "markdown",
   "metadata": {},
   "source": [
    "### Answer to question 3.1.1"
   ]
  },
  {
   "cell_type": "markdown",
   "metadata": {},
   "source": [
    "Import libraries and read file"
   ]
  },
  {
   "cell_type": "code",
   "execution_count": 1,
   "metadata": {},
   "outputs": [
    {
     "data": {
      "text/plain": [
       "{'__header__': b'MATLAB 5.0 MAT-file, Platform: GLNXA64, Created on: Tue Mar  8 14:01:55 2011',\n",
       " '__version__': '1.0',\n",
       " '__globals__': [],\n",
       " 'X': array([[ 7.4 ,  0.7 ,  0.  , ...,  3.51,  0.56,  9.4 ],\n",
       "        [ 7.8 ,  0.88,  0.  , ...,  3.2 ,  0.68,  9.8 ],\n",
       "        [ 7.8 ,  0.76,  0.04, ...,  3.26,  0.65,  9.8 ],\n",
       "        ...,\n",
       "        [ 6.5 ,  0.24,  0.19, ...,  2.99,  0.46,  9.4 ],\n",
       "        [ 5.5 ,  0.29,  0.3 , ...,  3.34,  0.38, 12.8 ],\n",
       "        [ 6.  ,  0.21,  0.38, ...,  3.26,  0.32, 11.8 ]]),\n",
       " 'attributeNames': array([[array(['Fixed acidity'], dtype='<U13'),\n",
       "         array(['Volatile acidity'], dtype='<U16'),\n",
       "         array(['Citric acid'], dtype='<U11'),\n",
       "         array(['Residual sugar'], dtype='<U14'),\n",
       "         array(['Chlorides'], dtype='<U9'),\n",
       "         array(['Free sulfur dioxide'], dtype='<U19'),\n",
       "         array(['Total sulfur dioxide'], dtype='<U20'),\n",
       "         array(['Density'], dtype='<U7'), array(['pH'], dtype='<U2'),\n",
       "         array(['Sulphates'], dtype='<U9'),\n",
       "         array(['Alcohol'], dtype='<U7')]], dtype=object),\n",
       " 'y': array([[0],\n",
       "        [0],\n",
       "        [0],\n",
       "        ...,\n",
       "        [1],\n",
       "        [1],\n",
       "        [1]], dtype=uint8),\n",
       " 'classNames': array([[array(['Red'], dtype='<U3')],\n",
       "        [array(['White'], dtype='<U5')]], dtype=object),\n",
       " 'N': array([[6304]], dtype=uint16),\n",
       " 'M': array([[11]], dtype=uint8),\n",
       " 'C': array([[2]], dtype=uint8)}"
      ]
     },
     "execution_count": 1,
     "metadata": {},
     "output_type": "execute_result"
    }
   ],
   "source": [
    "import scipy.io as sio\n",
    "import scipy.stats as st\n",
    "import matplotlib.pyplot as plt\n",
    "import numpy as np\n",
    "import seaborn as sns\n",
    "data = sio.loadmat(\"Data/wine.mat\")\n",
    "data"
   ]
  },
  {
   "cell_type": "markdown",
   "metadata": {},
   "source": [
    "Create data matrix X and  class vector y"
   ]
  },
  {
   "cell_type": "code",
   "execution_count": 2,
   "metadata": {},
   "outputs": [
    {
     "name": "stdout",
     "output_type": "stream",
     "text": [
      "[[ 7.4   0.7   0.   ...  3.51  0.56  9.4 ]\n",
      " [ 7.8   0.88  0.   ...  3.2   0.68  9.8 ]\n",
      " [ 7.8   0.76  0.04 ...  3.26  0.65  9.8 ]\n",
      " ...\n",
      " [ 6.5   0.24  0.19 ...  2.99  0.46  9.4 ]\n",
      " [ 5.5   0.29  0.3  ...  3.34  0.38 12.8 ]\n",
      " [ 6.    0.21  0.38 ...  3.26  0.32 11.8 ]] \n",
      "\n",
      " [0 0 0 ... 1 1 1]\n"
     ]
    }
   ],
   "source": [
    "X = data['X']\n",
    "y = data['y']\n",
    "y = y.ravel()\n",
    "print(X,'\\n\\n',y)"
   ]
  },
  {
   "cell_type": "markdown",
   "metadata": {},
   "source": [
    "Create attributeNames list and classNames list"
   ]
  },
  {
   "cell_type": "code",
   "execution_count": 3,
   "metadata": {},
   "outputs": [
    {
     "name": "stdout",
     "output_type": "stream",
     "text": [
      "<class 'list'> [<class 'str'>, <class 'str'>, <class 'str'>, <class 'str'>, <class 'str'>, <class 'str'>, <class 'str'>, <class 'str'>, <class 'str'>, <class 'str'>, <class 'str'>] \n",
      "\n",
      "<class 'list'> [<class 'str'>, <class 'str'>]\n"
     ]
    }
   ],
   "source": [
    "attributeNames = [str(x[0]) for x in list(data['attributeNames'].ravel())]\n",
    "print(type(attributeNames),[type(x) for x in attributeNames],'\\n')   #to make sure it's a list of strings\n",
    "\n",
    "classNames = [str(x[0]) for x in list(data['classNames'].ravel())]\n",
    "print(type(classNames),[type(x) for x in classNames])   #to make sure it's a list of strings"
   ]
  },
  {
   "cell_type": "code",
   "execution_count": 4,
   "metadata": {},
   "outputs": [
    {
     "data": {
      "text/plain": [
       "['Fixed acidity',\n",
       " 'Volatile acidity',\n",
       " 'Citric acid',\n",
       " 'Residual sugar',\n",
       " 'Chlorides',\n",
       " 'Free sulfur dioxide',\n",
       " 'Total sulfur dioxide',\n",
       " 'Density',\n",
       " 'pH',\n",
       " 'Sulphates',\n",
       " 'Alcohol']"
      ]
     },
     "execution_count": 4,
     "metadata": {},
     "output_type": "execute_result"
    }
   ],
   "source": [
    "attributeNames"
   ]
  },
  {
   "cell_type": "code",
   "execution_count": 5,
   "metadata": {},
   "outputs": [
    {
     "data": {
      "text/plain": [
       "['Red', 'White']"
      ]
     },
     "execution_count": 5,
     "metadata": {},
     "output_type": "execute_result"
    }
   ],
   "source": [
    "classNames"
   ]
  },
  {
   "cell_type": "markdown",
   "metadata": {},
   "source": [
    "#### 3.1.2\n",
    " (1.5 pts) Fit a decision tree to the wine data in order to estimate if the wine is red or white. Use the Gini (gdi) splitting criterion. Use `min_samples_split=100` for the stopping criterion. Explain what happens when you change the values of the parameter `min_samples_split`. After fitting the tree, visualize it with the tree_print function in `treeprint.py` in the Toolbox folder. \n",
    "\n",
    "** hints: **   \n",
    "*The `treeprint.py` file contains some documentation on how to use it. Helpfull documentation for the DecisionTreeClassifier function can be found at * http://scikit-learn.org/stable/modules/tree.html#classification  \n",
    "\n"
   ]
  },
  {
   "cell_type": "markdown",
   "metadata": {},
   "source": [
    "### Answer to question 3.1.2"
   ]
  },
  {
   "cell_type": "markdown",
   "metadata": {},
   "source": [
    "Define tree_print functions to visualize the tree"
   ]
  },
  {
   "cell_type": "code",
   "execution_count": 6,
   "metadata": {},
   "outputs": [],
   "source": [
    "import operator\n",
    "def tree_print(clf, attributeNames, classNames):\n",
    "    \"\"\"\n",
    "    Print the tree of a sklearn DecisionTreeClassifier\n",
    "\n",
    "    Parameters\n",
    "    ----------\n",
    "    clf : sklearn.tree.DecisionTreeClassifier object - A tree that has already been fit.\n",
    "    attributeNames: vector of names of the variables\n",
    "    classNames: vector of class names, names for the leafs\n",
    "    \"\"\"\n",
    "    tlevel = _tree_rprint('', clf, attributeNames, classNames)\n",
    "    print('<',end='')\n",
    "    for i in range(5*tlevel - 2):\n",
    "        print('-',end='')\n",
    "    print('>')\n",
    "    print('Tree Depth: ',tlevel)"
   ]
  },
  {
   "cell_type": "code",
   "execution_count": 7,
   "metadata": {},
   "outputs": [],
   "source": [
    "def _tree_rprint(kword, clf, features, labels, node_index=0, tlevel_index=0, parent = 0, left=True):\n",
    "    # Note: The DecisionTreeClassifier uses the Tree structure defined in:\n",
    "    # \t\tgithub.com/scikit-learn/scikit-learn/blob/master/sklearn/tree/_tree.pyx\n",
    "    #       it is an array based tree implementation.\n",
    "    # indent the nodes according to their tree level\n",
    "    # LT changes 2017: \n",
    "    #     draw tree from left to right\n",
    "    #     added numbering\n",
    "    #     added arrows\n",
    "    # LT changes 2018:\n",
    "    #     some cleaning\n",
    "    #     \n",
    "    #  TODO: \n",
    "    #        clean up ugly string formatting code\n",
    "    #        the following should use the TREE_LEAF constant defined in _tree.pyx\n",
    "    #        instead of -1, not quite sure how to get at it from the tree user level\n",
    "    if clf.tree_.children_left[node_index] == -1:  # indicates leaf\n",
    "        print(kword[:-4], end=' ' if kword else '')\n",
    "        # get the majority label\n",
    "        count_list = clf.tree_.value[node_index, 0]\n",
    "        max_index, max_value = max(enumerate(count_list), key=operator.itemgetter(1))\n",
    "        max_label = labels[max_index]\n",
    "        print(max_label)\n",
    "        return tlevel_index\n",
    "    \n",
    "    else:\n",
    "        # compute and print node label\n",
    "        feature = features[clf.tree_.feature[node_index]]\n",
    "        threshold = clf.tree_.threshold[node_index]\n",
    "        # recurse down the children\n",
    "        left_index = clf.tree_.children_left[node_index]\n",
    "        right_index = clf.tree_.children_right[node_index]\n",
    "        #some formatting stuff\n",
    "        string = kword[:-9]\n",
    "        if(left_index<11):\n",
    "            string = kword[:-8]   \n",
    "        if(left and node_index is not 0):\n",
    "            leftstr = string[:-1]\n",
    "            leftstr = leftstr+' '\n",
    "        else:\n",
    "            leftstr = string\n",
    "        tmp = leftstr\n",
    "        for i in range(tlevel_index+1 - len(string)):\n",
    "            leftstr = leftstr+' '\n",
    "        #print left rule\n",
    "        ltlevel_index = _tree_rprint(leftstr+'  |->{} then'.format(left_index), clf, features, labels, left_index, tlevel_index+1, parent=node_index)\n",
    "        if(node_index is 0):\n",
    "            print(' ', end='')\n",
    "        print(tmp+'  |')\n",
    "        print(kword, end=' ' if kword else '')\n",
    "        #print current rule\n",
    "        print('if {} =< {:4.2f}: go to {}, else go to {}'.format(feature, threshold, left_index, right_index))   \n",
    "        #more formatting hell\n",
    "        if(not left):\n",
    "            rightstr = string[:-1]\n",
    "            rightstr = rightstr+' '\n",
    "        else:\n",
    "            rightstr = string\n",
    "        tmp = rightstr\n",
    "        for i in range(tlevel_index+1 - len(string)):\n",
    "            rightstr = rightstr+' '\n",
    "        if(node_index is 0):\n",
    "            print(' ', end='')\n",
    "        print(tmp+'  |')\n",
    "        #print right rule\n",
    "        rtlevel_index = _tree_rprint(rightstr+'  |->{} else'.format(right_index), clf, features, labels, right_index, tlevel_index+1, parent=node_index, left=False)\n",
    "        # return the maximum depth of either one of the children\n",
    "        return max(ltlevel_index,rtlevel_index)"
   ]
  },
  {
   "cell_type": "markdown",
   "metadata": {},
   "source": [
    "Fit a decision tree"
   ]
  },
  {
   "cell_type": "code",
   "execution_count": 8,
   "metadata": {
    "scrolled": false
   },
   "outputs": [],
   "source": [
    "from sklearn import tree\n",
    "from sklearn.tree import DecisionTreeClassifier\n",
    "clf = tree.DecisionTreeClassifier(criterion = 'gini', min_samples_split = 100)\n",
    "clf = clf.fit(X, y)"
   ]
  },
  {
   "cell_type": "code",
   "execution_count": 9,
   "metadata": {},
   "outputs": [
    {
     "name": "stdout",
     "output_type": "stream",
     "text": [
      "         |->3  White\n",
      "         |\n",
      "      |->2 then if Sulphates =< 0.56: go to 3, else go to 4\n",
      "      |  |\n",
      "      |  |->4  White\n",
      "      |\n",
      "   |->1 then if Chlorides =< 0.05: go to 2, else go to 5\n",
      "   |  |\n",
      "   |  |  |->6  White\n",
      "   |  |  |\n",
      "   |  |->5 else if Sulphates =< 0.37: go to 6, else go to 7\n",
      "   |     |\n",
      "   |     |  |->8  White\n",
      "   |     |  |\n",
      "   |     |->7 else if Density =< 0.99: go to 8, else go to 9\n",
      "   |        |\n",
      "   |        |     |->11  White\n",
      "   |        |     |\n",
      "   |        |  |->10 then if Residual sugar =< 1.10: go to 11, else go to 12\n",
      "   |        |  |  |\n",
      "   |        |  |  |  |->13  Red\n",
      "   |        |  |  |  |\n",
      "   |        |  |  |->12 else if Density =< 0.99: go to 13, else go to 14\n",
      "   |        |  |     |\n",
      "   |        |  |     |  |->15  Red\n",
      "   |        |  |     |  |\n",
      "   |        |  |     |->14 else if Chlorides =< 0.05: go to 15, else go to 16\n",
      "   |        |  |        |\n",
      "   |        |  |        |  |->17  Red\n",
      "   |        |  |        |  |\n",
      "   |        |  |        |->16 else if Sulphates =< 0.45: go to 17, else go to 18\n",
      "   |        |  |           |\n",
      "   |        |  |           |->18  Red\n",
      "   |        |  |\n",
      "   |        |->9 else if Residual sugar =< 10.70: go to 10, else go to 19\n",
      "   |           |\n",
      "   |           |->19  White\n",
      "   |\n",
      "if Total sulfur dioxide =< 66.50: go to 1, else go to 20\n",
      "   |\n",
      "   |                 |->26  Red\n",
      "   |                 |\n",
      "   |              |->25 then if Chlorides =< 0.01: go to 26, else go to 27\n",
      "   |              |  |\n",
      "   |              |  |        |->30  White\n",
      "   |              |  |        |\n",
      "   |              |  |     |->29 then if Citric acid =< 0.10: go to 30, else go to 31\n",
      "   |              |  |     |  |\n",
      "   |              |  |     |  |  |->32  White\n",
      "   |              |  |     |  |  |\n",
      "   |              |  |     |  |->31 else if Total sulfur dioxide =< 72.50: go to 32, else go to 33\n",
      "   |              |  |     |     |\n",
      "   |              |  |     |     |  |->34  White\n",
      "   |              |  |     |     |  |\n",
      "   |              |  |     |     |->33 else if Residual sugar =< 0.92: go to 34, else go to 35\n",
      "   |              |  |     |        |\n",
      "   |              |  |     |        |        |->38  White\n",
      "   |              |  |     |        |        |\n",
      "   |              |  |     |        |     |->37 then if Free sulfur dioxide =< 6.50: go to 38, else go to 39\n",
      "   |              |  |     |        |     |  |\n",
      "   |              |  |     |        |     |  |        |->42  White\n",
      "   |              |  |     |        |     |  |        |\n",
      "   |              |  |     |        |     |  |     |->41 then if pH =< 3.31: go to 42, else go to 43\n",
      "   |              |  |     |        |     |  |     |  |\n",
      "   |              |  |     |        |     |  |     |  |->43  White\n",
      "   |              |  |     |        |     |  |     |\n",
      "   |              |  |     |        |     |  |  |->40 then if Citric acid =< 0.23: go to 41, else go to 44\n",
      "   |              |  |     |        |     |  |  |  |\n",
      "   |              |  |     |        |     |  |  |  |->44  White\n",
      "   |              |  |     |        |     |  |  |\n",
      "   |              |  |     |        |     |  |->39 else if Sulphates =< 0.75: go to 40, else go to 45\n",
      "   |              |  |     |        |     |     |\n",
      "   |              |  |     |        |     |     |->45  White\n",
      "   |              |  |     |        |     |\n",
      "   |              |  |     |        |  |->36 then if Alcohol =< 13.58: go to 37, else go to 46\n",
      "   |              |  |     |        |  |  |\n",
      "   |              |  |     |        |  |  |->46  White\n",
      "   |              |  |     |        |  |\n",
      "   |              |  |     |        |->35 else if Sulphates =< 0.78: go to 36, else go to 47\n",
      "   |              |  |     |           |\n",
      "   |              |  |     |           |->47  White\n",
      "   |              |  |     |\n",
      "   |              |  |  |->28 then if Total sulfur dioxide =< 275.00: go to 29, else go to 48\n",
      "   |              |  |  |  |\n",
      "   |              |  |  |  |->48  White\n",
      "   |              |  |  |\n",
      "   |              |  |->27 else if Sulphates =< 0.81: go to 28, else go to 49\n",
      "   |              |     |\n",
      "   |              |     |->49  White\n",
      "   |              |\n",
      "   |           |->24 then if pH =< 3.83: go to 25, else go to 50\n",
      "   |           |  |\n",
      "   |           |  |->50  Red\n",
      "   |           |\n",
      "   |        |->23 then if Chlorides =< 0.07: go to 24, else go to 51\n",
      "   |        |  |\n",
      "   |        |  |->51  White\n",
      "   |        |\n",
      "   |     |->22 then if Sulphates =< 1.12: go to 23, else go to 52\n",
      "   |     |  |\n",
      "   |     |  |->52  Red\n",
      "   |     |\n",
      "   |  |->21 then if Volatile acidity =< 0.82: go to 22, else go to 53\n",
      "   |  |  |\n",
      "   |  |  |->53  Red\n",
      "   |  |\n",
      "   |->20 else if Chlorides =< 0.07: go to 21, else go to 54\n",
      "      |\n",
      "      |     |->56  Red\n",
      "      |     |\n",
      "      |  |->55 then if Citric acid =< 0.06: go to 56, else go to 57\n",
      "      |  |  |\n",
      "      |  |  |  |->58  Red\n",
      "      |  |  |  |\n",
      "      |  |  |->57 else if Chlorides =< 0.07: go to 58, else go to 59\n",
      "      |  |     |\n",
      "      |  |     |  |->60  Red\n",
      "      |  |     |  |\n",
      "      |  |     |->59 else if Total sulfur dioxide =< 68.50: go to 60, else go to 61\n",
      "      |  |        |\n",
      "      |  |        |  |->62  White\n",
      "      |  |        |  |\n",
      "      |  |        |->61 else if Fixed acidity =< 9.95: go to 62, else go to 63\n",
      "      |  |           |\n",
      "      |  |           |->63  Red\n",
      "      |  |\n",
      "      |->54 else if Density =< 1.00: go to 55, else go to 64\n",
      "         |\n",
      "         |        |->67  White\n",
      "         |        |\n",
      "         |     |->66 then if Volatile acidity =< 0.23: go to 67, else go to 68\n",
      "         |     |  |\n",
      "         |     |  |->68  Red\n",
      "         |     |\n",
      "         |  |->65 then if Total sulfur dioxide =< 157.50: go to 66, else go to 69\n",
      "         |  |  |\n",
      "         |  |  |->69  White\n",
      "         |  |\n",
      "         |->64 else if Residual sugar =< 6.25: go to 65, else go to 70\n",
      "            |\n",
      "            |->70  White\n",
      "<---------------------------------------------------------------------------------------->\n",
      "Tree Depth:  18\n"
     ]
    }
   ],
   "source": [
    "tree_print(clf, attributeNames, classNames)"
   ]
  },
  {
   "cell_type": "markdown",
   "metadata": {},
   "source": [
    "#### Changing the number of min_samples_split"
   ]
  },
  {
   "cell_type": "markdown",
   "metadata": {},
   "source": [
    "Low value of min_samples_split"
   ]
  },
  {
   "cell_type": "code",
   "execution_count": 10,
   "metadata": {},
   "outputs": [
    {
     "name": "stdout",
     "output_type": "stream",
     "text": [
      "            |->4  White\n",
      "            |\n",
      "         |->3 then if Volatile acidity =< 0.66: go to 4, else go to 5\n",
      "         |  |\n",
      "         |  |->5  Red\n",
      "         |\n",
      "      |->2 then if Sulphates =< 0.56: go to 3, else go to 6\n",
      "      |  |\n",
      "      |  |     |->8  White\n",
      "      |  |     |\n",
      "      |  |  |->7 then if Volatile acidity =< 0.44: go to 8, else go to 9\n",
      "      |  |  |  |\n",
      "      |  |  |  |->9  Red\n",
      "      |  |  |\n",
      "      |  |->6 else if Chlorides =< 0.04: go to 7, else go to 10\n",
      "      |     |\n",
      "      |     |  |->11  White\n",
      "      |     |  |\n",
      "      |     |->10 else if Alcohol =< 10.60: go to 11, else go to 12\n",
      "      |        |\n",
      "      |        |->12  Red\n",
      "      |\n",
      "   |->1 then if Chlorides =< 0.05: go to 2, else go to 13\n",
      "   |  |\n",
      "   |  |  |->14  White\n",
      "   |  |  |\n",
      "   |  |->13 else if Sulphates =< 0.37: go to 14, else go to 15\n",
      "   |     |\n",
      "   |     |  |->16  White\n",
      "   |     |  |\n",
      "   |     |->15 else if Density =< 0.99: go to 16, else go to 17\n",
      "   |        |\n",
      "   |        |     |->19  White\n",
      "   |        |     |\n",
      "   |        |  |->18 then if Residual sugar =< 1.10: go to 19, else go to 20\n",
      "   |        |  |  |\n",
      "   |        |  |  |     |->22  Red\n",
      "   |        |  |  |     |\n",
      "   |        |  |  |  |->21 then if Chlorides =< 0.11: go to 22, else go to 23\n",
      "   |        |  |  |  |  |\n",
      "   |        |  |  |  |  |->23  White\n",
      "   |        |  |  |  |\n",
      "   |        |  |  |->20 else if Density =< 0.99: go to 21, else go to 24\n",
      "   |        |  |     |\n",
      "   |        |  |     |        |->27  Red\n",
      "   |        |  |     |        |\n",
      "   |        |  |     |     |->26 then if Residual sugar =< 2.75: go to 27, else go to 28\n",
      "   |        |  |     |     |  |\n",
      "   |        |  |     |     |  |->28  Red\n",
      "   |        |  |     |     |\n",
      "   |        |  |     |  |->25 then if Total sulfur dioxide =< 64.50: go to 26, else go to 29\n",
      "   |        |  |     |  |  |\n",
      "   |        |  |     |  |  |->29  White\n",
      "   |        |  |     |  |\n",
      "   |        |  |     |->24 else if Chlorides =< 0.05: go to 25, else go to 30\n",
      "   |        |  |        |\n",
      "   |        |  |        |     |->32  White\n",
      "   |        |  |        |     |\n",
      "   |        |  |        |  |->31 then if Volatile acidity =< 0.29: go to 32, else go to 33\n",
      "   |        |  |        |  |  |\n",
      "   |        |  |        |  |  |->33  Red\n",
      "   |        |  |        |  |\n",
      "   |        |  |        |->30 else if Sulphates =< 0.45: go to 31, else go to 34\n",
      "   |        |  |           |\n",
      "   |        |  |           |->34  Red\n",
      "   |        |  |\n",
      "   |        |->17 else if Residual sugar =< 10.70: go to 18, else go to 35\n",
      "   |           |\n",
      "   |           |->35  White\n",
      "   |\n",
      "if Total sulfur dioxide =< 66.50: go to 1, else go to 36\n",
      "   |\n",
      "   |                 |->42  Red\n",
      "   |                 |\n",
      "   |              |->41 then if Chlorides =< 0.01: go to 42, else go to 43\n",
      "   |              |  |\n",
      "   |              |  |              |->48  White\n",
      "   |              |  |              |\n",
      "   |              |  |           |->47 then if Chlorides =< 0.05: go to 48, else go to 49\n",
      "   |              |  |           |  |\n",
      "   |              |  |           |  |  |->50  Red\n",
      "   |              |  |           |  |  |\n",
      "   |              |  |           |  |->49 else if Chlorides =< 0.05: go to 50, else go to 51\n",
      "   |              |  |           |     |\n",
      "   |              |  |           |     |  |->52  White\n",
      "   |              |  |           |     |  |\n",
      "   |              |  |           |     |->51 else if Alcohol =< 11.50: go to 52, else go to 53\n",
      "   |              |  |           |        |\n",
      "   |              |  |           |        |->53  Red\n",
      "   |              |  |           |\n",
      "   |              |  |        |->46 then if Alcohol =< 12.70: go to 47, else go to 54\n",
      "   |              |  |        |  |\n",
      "   |              |  |        |  |->54  Red\n",
      "   |              |  |        |\n",
      "   |              |  |     |->45 then if Citric acid =< 0.10: go to 46, else go to 55\n",
      "   |              |  |     |  |\n",
      "   |              |  |     |  |        |->58  White\n",
      "   |              |  |     |  |        |\n",
      "   |              |  |     |  |     |->57 then if Volatile acidity =< 0.56: go to 58, else go to 59\n",
      "   |              |  |     |  |     |  |\n",
      "   |              |  |     |  |     |  |->59  Red\n",
      "   |              |  |     |  |     |\n",
      "   |              |  |     |  |  |->56 then if Chlorides =< 0.06: go to 57, else go to 60\n",
      "   |              |  |     |  |  |  |\n",
      "   |              |  |     |  |  |  |->60  Red\n",
      "   |              |  |     |  |  |\n",
      "   |              |  |     |  |->55 else if Total sulfur dioxide =< 72.50: go to 56, else go to 61\n",
      "   |              |  |     |     |\n",
      "   |              |  |     |     |     |->63  White\n",
      "   |              |  |     |     |     |\n",
      "   |              |  |     |     |  |->62 then if Alcohol =< 12.60: go to 63, else go to 64\n",
      "   |              |  |     |     |  |  |\n",
      "   |              |  |     |     |  |  |->64  Red\n",
      "   |              |  |     |     |  |\n",
      "   |              |  |     |     |->61 else if Residual sugar =< 0.92: go to 62, else go to 65\n",
      "   |              |  |     |        |\n",
      "   |              |  |     |        |           |->69  White\n",
      "   |              |  |     |        |           |\n",
      "   |              |  |     |        |        |->68 then if Residual sugar =< 11.95: go to 69, else go to 70\n",
      "   |              |  |     |        |        |  |\n",
      "   |              |  |     |        |        |  |->70  White\n",
      "   |              |  |     |        |        |\n",
      "   |              |  |     |        |     |->67 then if Free sulfur dioxide =< 6.50: go to 68, else go to 71\n",
      "   |              |  |     |        |     |  |\n",
      "   |              |  |     |        |     |  |        |->74  White\n",
      "   |              |  |     |        |     |  |        |\n",
      "   |              |  |     |        |     |  |     |->73 then if pH =< 3.31: go to 74, else go to 75\n",
      "   |              |  |     |        |     |  |     |  |\n",
      "   |              |  |     |        |     |  |     |  |     |->77  White\n",
      "   |              |  |     |        |     |  |     |  |     |\n",
      "   |              |  |     |        |     |  |     |  |  |->76 then if Fixed acidity =< 6.45: go to 77, else go to 78\n",
      "   |              |  |     |        |     |  |     |  |  |  |\n",
      "   |              |  |     |        |     |  |     |  |  |  |  |->79  Red\n",
      "   |              |  |     |        |     |  |     |  |  |  |  |\n",
      "   |              |  |     |        |     |  |     |  |  |  |->78 else if Total sulfur dioxide =< 96.00: go to 79, else go to 80\n",
      "   |              |  |     |        |     |  |     |  |  |     |\n",
      "   |              |  |     |        |     |  |     |  |  |     |->80  White\n",
      "   |              |  |     |        |     |  |     |  |  |\n",
      "   |              |  |     |        |     |  |     |  |->75 else if Free sulfur dioxide =< 54.00: go to 76, else go to 81\n",
      "   |              |  |     |        |     |  |     |     |\n",
      "   |              |  |     |        |     |  |     |     |->81  White\n",
      "   |              |  |     |        |     |  |     |\n",
      "   |              |  |     |        |     |  |  |->72 then if Citric acid =< 0.23: go to 73, else go to 82\n",
      "   |              |  |     |        |     |  |  |  |\n",
      "   |              |  |     |        |     |  |  |  |->82  White\n",
      "   |              |  |     |        |     |  |  |\n",
      "   |              |  |     |        |     |  |->71 else if Sulphates =< 0.75: go to 72, else go to 83\n",
      "   |              |  |     |        |     |     |\n",
      "   |              |  |     |        |     |     |  |->84  White\n",
      "   |              |  |     |        |     |     |  |\n",
      "   |              |  |     |        |     |     |->83 else if Chlorides =< 0.06: go to 84, else go to 85\n",
      "   |              |  |     |        |     |        |\n",
      "   |              |  |     |        |     |        |->85  Red\n",
      "   |              |  |     |        |     |\n",
      "   |              |  |     |        |  |->66 then if Alcohol =< 13.58: go to 67, else go to 86\n",
      "   |              |  |     |        |  |  |\n",
      "   |              |  |     |        |  |  |  |->87  White\n",
      "   |              |  |     |        |  |  |  |\n",
      "   |              |  |     |        |  |  |->86 else if Volatile acidity =< 0.39: go to 87, else go to 88\n",
      "   |              |  |     |        |  |     |\n",
      "   |              |  |     |        |  |     |->88  Red\n",
      "   |              |  |     |        |  |\n",
      "   |              |  |     |        |->65 else if Sulphates =< 0.78: go to 66, else go to 89\n",
      "   |              |  |     |           |\n",
      "   |              |  |     |           |  |->90  Red\n"
     ]
    },
    {
     "name": "stdout",
     "output_type": "stream",
     "text": [
      "   |              |  |     |           |  |\n",
      "   |              |  |     |           |->89 else if Total sulfur dioxide =< 82.50: go to 90, else go to 91\n",
      "   |              |  |     |              |\n",
      "   |              |  |     |              |->91  White\n",
      "   |              |  |     |\n",
      "   |              |  |  |->44 then if Total sulfur dioxide =< 275.00: go to 45, else go to 92\n",
      "   |              |  |  |  |\n",
      "   |              |  |  |  |->92  White\n",
      "   |              |  |  |\n",
      "   |              |  |->43 else if Sulphates =< 0.81: go to 44, else go to 93\n",
      "   |              |     |\n",
      "   |              |     |     |->95  White\n",
      "   |              |     |     |\n",
      "   |              |     |  |->94 then if Residual sugar =< 1.60: go to 95, else go to 96\n",
      "   |              |     |  |  |\n",
      "   |              |     |  |  |->96  Red\n",
      "   |              |     |  |\n",
      "   |              |     |->93 else if Total sulfur dioxide =< 89.50: go to 94, else go to 97\n",
      "   |              |        |\n",
      "   |              |        |  |->98  White\n",
      "   |              |        |  |\n",
      "   |              |        |->97 else if Total sulfur dioxide =< 101.50: go to 98, else go to 99\n",
      "   |              |           |\n",
      "   |              |           |->99  White\n",
      "   |              |\n",
      "   |           |->40 then if pH =< 3.83: go to 41, else go to 100\n",
      "   |           |  |\n",
      "   |           |  |->100  Red\n",
      "   |           |\n",
      "   |        |->39 then if Chlorides =< 0.07: go to 40, else go to 101\n",
      "   |        |  |\n",
      "   |        |  |-  |->102  Red\n",
      "   |        |  |-  |\n",
      "   |        |  |->101 else if Total sulfur dioxide =< 81.50: go to 102, else go to 103\n",
      "   |        |  |   |\n",
      "   |        |  |   |-  |   |->105  White\n",
      "   |        |  |   |-  |   |\n",
      "   |        |  |   |-  |->104 then if Volatile acidity =< 0.54: go to 105, else go to 106\n",
      "   |        |  |   |-  |-  |\n",
      "   |        |  |   |-  |-  |->106  White\n",
      "   |        |  |   |-  |\n",
      "   |        |  |   |->103 else if Alcohol =< 10.25: go to 104, else go to 107\n",
      "   |        |  |   |   |\n",
      "   |        |  |   |   |->107  White\n",
      "   |        |\n",
      "   |     |->38 then if Sulphates =< 1.12: go to 39, else go to 108\n",
      "   |     |  |\n",
      "   |     |  |->108  Red\n",
      "   |     |\n",
      "   |  |->37 then if Volatile acidity =< 0.82: go to 38, else go to 109\n",
      "   |  |  |\n",
      "   |  |  |-  |->110  Red\n",
      "   |  |  |-  |\n",
      "   |  |  |->109 else if Total sulfur dioxide =< 102.50: go to 110, else go to 111\n",
      "   |  |  |   |\n",
      "   |  |  |   |->111  White\n",
      "   |  |\n",
      "   |->36 else if Chlorides =< 0.07: go to 37, else go to 112\n",
      "      |\n",
      "      |-  |   |->114  Red\n",
      "      |-  |   |\n",
      "      |-  |->113 then if Citric acid =< 0.06: go to 114, else go to 115\n",
      "      |-  |-  |\n",
      "      |-  |-  |-  |->116  Red\n",
      "      |-  |-  |-  |\n",
      "      |-  |-  |->115 else if Chlorides =< 0.07: go to 116, else go to 117\n",
      "      |-  |-  |   |\n",
      "      |-  |-  |   |-  |->118  Red\n",
      "      |-  |-  |   |-  |\n",
      "      |-  |-  |   |->117 else if Total sulfur dioxide =< 68.50: go to 118, else go to 119\n",
      "      |-  |-  |   |   |\n",
      "      |-  |-  |   |   |-  |->120  White\n",
      "      |-  |-  |   |   |-  |\n",
      "      |-  |-  |   |   |->119 else if Fixed acidity =< 9.95: go to 120, else go to 121\n",
      "      |-  |-  |   |   |   |\n",
      "      |-  |-  |   |   |   |->121  Red\n",
      "      |-  |\n",
      "      |->112 else if Density =< 1.00: go to 113, else go to 122\n",
      "      |   |\n",
      "      |   |-  |   |   |->125  White\n",
      "      |   |-  |   |   |\n",
      "      |   |-  |   |->124 then if Volatile acidity =< 0.23: go to 125, else go to 126\n",
      "      |   |-  |   |-  |\n",
      "      |   |-  |   |-  |->126  Red\n",
      "      |   |-  |   |\n",
      "      |   |-  |->123 then if Total sulfur dioxide =< 157.50: go to 124, else go to 127\n",
      "      |   |-  |-  |\n",
      "      |   |-  |-  |->127  White\n",
      "      |   |-  |\n",
      "      |   |->122 else if Residual sugar =< 6.25: go to 123, else go to 128\n",
      "      |   |   |\n",
      "      |   |   |-  |   |   |->131  Red\n",
      "      |   |   |-  |   |   |\n",
      "      |   |   |-  |   |->130 then if Total sulfur dioxide =< 81.00: go to 131, else go to 132\n",
      "      |   |   |-  |   |-  |\n",
      "      |   |   |-  |   |-  |->132  White\n",
      "      |   |   |-  |   |\n",
      "      |   |   |-  |->129 then if pH =< 3.15: go to 130, else go to 133\n",
      "      |   |   |-  |-  |\n",
      "      |   |   |-  |-  |->133  Red\n",
      "      |   |   |-  |\n",
      "      |   |   |->128 else if Total sulfur dioxide =< 125.00: go to 129, else go to 134\n",
      "      |   |   |   |\n",
      "      |   |   |   |->134  White\n",
      "<------------------------------------------------------------------------------------------------------->\n",
      "Tree Depth:  21\n"
     ]
    }
   ],
   "source": [
    "clf2 = tree.DecisionTreeClassifier(criterion = 'gini', min_samples_split = 10)\n",
    "clf2 = clf2.fit(X, y)\n",
    "tree_print(clf2, attributeNames, classNames)"
   ]
  },
  {
   "cell_type": "markdown",
   "metadata": {},
   "source": [
    "High value of min_samples_split"
   ]
  },
  {
   "cell_type": "code",
   "execution_count": 11,
   "metadata": {
    "scrolled": true
   },
   "outputs": [
    {
     "name": "stdout",
     "output_type": "stream",
     "text": [
      "   |->1  Red\n",
      "   |\n",
      "if Total sulfur dioxide =< 66.50: go to 1, else go to 2\n",
      "   |\n",
      "   |                 |->8  Red\n",
      "   |                 |\n",
      "   |              |->7 then if Chlorides =< 0.01: go to 8, else go to 9\n",
      "   |              |  |\n",
      "   |              |  |        |->12  White\n",
      "   |              |  |        |\n",
      "   |              |  |     |->11 then if Citric acid =< 0.10: go to 12, else go to 13\n",
      "   |              |  |     |  |\n",
      "   |              |  |     |  |  |->14  White\n",
      "   |              |  |     |  |  |\n",
      "   |              |  |     |  |->13 else if Total sulfur dioxide =< 72.50: go to 14, else go to 15\n",
      "   |              |  |     |     |\n",
      "   |              |  |     |     |  |->16  White\n",
      "   |              |  |     |     |  |\n",
      "   |              |  |     |     |->15 else if Residual sugar =< 0.92: go to 16, else go to 17\n",
      "   |              |  |     |        |\n",
      "   |              |  |     |        |        |->20  White\n",
      "   |              |  |     |        |        |\n",
      "   |              |  |     |        |     |->19 then if Free sulfur dioxide =< 6.50: go to 20, else go to 21\n",
      "   |              |  |     |        |     |  |\n",
      "   |              |  |     |        |     |  |     |->23  White\n",
      "   |              |  |     |        |     |  |     |\n",
      "   |              |  |     |        |     |  |  |->22 then if Citric acid =< 0.23: go to 23, else go to 24\n",
      "   |              |  |     |        |     |  |  |  |\n",
      "   |              |  |     |        |     |  |  |  |->24  White\n",
      "   |              |  |     |        |     |  |  |\n",
      "   |              |  |     |        |     |  |->21 else if Sulphates =< 0.75: go to 22, else go to 25\n",
      "   |              |  |     |        |     |     |\n",
      "   |              |  |     |        |     |     |->25  White\n",
      "   |              |  |     |        |     |\n",
      "   |              |  |     |        |  |->18 then if Alcohol =< 13.58: go to 19, else go to 26\n",
      "   |              |  |     |        |  |  |\n",
      "   |              |  |     |        |  |  |->26  White\n",
      "   |              |  |     |        |  |\n",
      "   |              |  |     |        |->17 else if Sulphates =< 0.78: go to 18, else go to 27\n",
      "   |              |  |     |           |\n",
      "   |              |  |     |           |->27  White\n",
      "   |              |  |     |\n",
      "   |              |  |  |->10 then if Total sulfur dioxide =< 275.00: go to 11, else go to 28\n",
      "   |              |  |  |  |\n",
      "   |              |  |  |  |->28  White\n",
      "   |              |  |  |\n",
      "   |              |  |->9 else if Sulphates =< 0.81: go to 10, else go to 29\n",
      "   |              |     |\n",
      "   |              |     |->29  White\n",
      "   |              |\n",
      "   |           |->6 then if pH =< 3.83: go to 7, else go to 30\n",
      "   |           |  |\n",
      "   |           |  |->30  Red\n",
      "   |           |\n",
      "   |        |->5 then if Chlorides =< 0.07: go to 6, else go to 31\n",
      "   |        |  |\n",
      "   |        |  |->31  White\n",
      "   |        |\n",
      "   |     |->4 then if Sulphates =< 1.12: go to 5, else go to 32\n",
      "   |     |  |\n",
      "   |     |  |->32  Red\n",
      "   |     |\n",
      "   |  |->3 then if Volatile acidity =< 0.82: go to 4, else go to 33\n",
      "   |  |  |\n",
      "   |  |  |->33  Red\n",
      "   |  |\n",
      "   |->2 else if Chlorides =< 0.07: go to 3, else go to 34\n",
      "      |\n",
      "      |->34  Red\n",
      "<----------------------------------------------------------------------------------->\n",
      "Tree Depth:  17\n"
     ]
    }
   ],
   "source": [
    "clf2 = tree.DecisionTreeClassifier(criterion = 'gini', min_samples_split = 4000)\n",
    "clf2 = clf2.fit(X, y)\n",
    "tree_print(clf2, attributeNames, classNames)"
   ]
  },
  {
   "cell_type": "markdown",
   "metadata": {},
   "source": [
    "*min_samples_split* is the minimum number of samples required to split an internal node within the Decision Tree. We can notice that when *min_samples_split* is very high (e.g. over 4000), the Tree Classifier tends to underfitting, i.e. not learning from the data, as the number of nodes decreases drastically (in the most drastic scenario, we would have only one node); when *min_samples_split* takes low values (e.g. < 20) the Classifier overfits the data, and the number of nodes, as well as the tree depth, will grow."
   ]
  },
  {
   "cell_type": "markdown",
   "metadata": {},
   "source": [
    "#### 3.1.3\n",
    "\n",
    "(0.5 pts) Show that a wine with the following attribute values would be classified as white by the tree fitted in 3.1.2, by applying the `predict()` function from the DecisionTreeClassifier to this sample.  Have another look at the visualized tree. Which attributes are used to classify this wine? \n",
    "\n",
    "| #             | Attribute     | Value  |\n",
    "| ------------- |:-------------| -----:|\n",
    "|1 | Fixed acidity (tartaric) | 6.9 g/dm$^3$ |\n",
    "|2 | Volatile acidity (acetic) | 1.09 g/dm$^3$ |\n",
    "|3 | Citric acid | 0.06 g/dm$^3$ |\n",
    "|4 | Residual sugar | 2.1 g/dm$^3$ |\n",
    "|5 | Chlorides | 0.0061 g/dm$^3$ |\n",
    "|6 | Free sulfur dioxide | 12 mg/dm$^3$ |\n",
    "|7 | Total sulfur dioxide | 31 mg/dm$^3$ |\n",
    "|8 | Density | 0.99 g/cm$^3$ |\n",
    "|9 | pH | 3.5 |\n",
    "|10 | Sulphates | 0.64 g/dm$^3$ |\n",
    "|11 | Alcohol | 12 % vol. | \n",
    "\n",
    "** hints: **\n",
    "*If you don't know how to classify input values with a tree, see the help documentation for the DecisionTreeClassifier function on how to predict the label for a sample. *"
   ]
  },
  {
   "cell_type": "markdown",
   "metadata": {},
   "source": [
    "### Answer to question 3.1.3"
   ]
  },
  {
   "cell_type": "markdown",
   "metadata": {},
   "source": [
    "Position of the corresponding class attribute with the highest probability"
   ]
  },
  {
   "cell_type": "code",
   "execution_count": 12,
   "metadata": {},
   "outputs": [
    {
     "data": {
      "text/plain": [
       "array([1], dtype=uint8)"
      ]
     },
     "execution_count": 12,
     "metadata": {},
     "output_type": "execute_result"
    }
   ],
   "source": [
    "clf.predict([[6.9, 1.09,0.06,2.1,0.0061,12,31,0.99,3.5,0.64,12]])"
   ]
  },
  {
   "cell_type": "markdown",
   "metadata": {},
   "source": [
    "Class names with the highest probability, given the sample"
   ]
  },
  {
   "cell_type": "code",
   "execution_count": 13,
   "metadata": {},
   "outputs": [
    {
     "data": {
      "text/plain": [
       "'White'"
      ]
     },
     "execution_count": 13,
     "metadata": {},
     "output_type": "execute_result"
    }
   ],
   "source": [
    "classNames[clf.predict([[6.9, 1.09,0.06,2.1,0.0061,12,31,0.99,3.5,0.64,12]])[0]]"
   ]
  },
  {
   "cell_type": "markdown",
   "metadata": {},
   "source": [
    "Probability of the two classes "
   ]
  },
  {
   "cell_type": "code",
   "execution_count": 14,
   "metadata": {},
   "outputs": [
    {
     "data": {
      "text/plain": [
       "array([[0.4516129, 0.5483871]])"
      ]
     },
     "execution_count": 14,
     "metadata": {},
     "output_type": "execute_result"
    }
   ],
   "source": [
    "clf.predict_proba([[6.9, 1.09,0.06,2.1,0.0061,12,31,0.99,3.5,0.64,12]])"
   ]
  },
  {
   "cell_type": "markdown",
   "metadata": {},
   "source": [
    "As we can see from the code above, by applying the function predict on the sample in the table, it returns a 1d array with the position of the corresponding class attribute with the highest probability. So, in this case, we obtain the position 1 (the second in Python) that is related to the class \"white\", as we expected. "
   ]
  },
  {
   "cell_type": "markdown",
   "metadata": {},
   "source": [
    "Taking a look at the tree built in the previous answer (the one with *min_samples_split*=100), we can see that the classifier considers as first attribute *Total sulfure dioxide*, which being <= 66.5, directs the tree to the node *Chlorides*. Being this last one <= 0.05, it addresses the path to the attribute *Sulphates*. In that node, the class attribute will be *white* regardless of its value.\n",
    "So, the only attributes used to classify this wine are *Total sulfure dioxide* and *Sulphates*."
   ]
  },
  {
   "cell_type": "markdown",
   "metadata": {},
   "source": [
    "#### 3.1.4\n",
    "(1 pts) Classify all the wines in the wine data set. What percentage of the wine data is classified correctly by the tree?\n",
    "\n"
   ]
  },
  {
   "cell_type": "markdown",
   "metadata": {},
   "source": [
    "### Answer to question 3.1.4"
   ]
  },
  {
   "cell_type": "code",
   "execution_count": 15,
   "metadata": {},
   "outputs": [],
   "source": [
    "result = clf.predict(X)  "
   ]
  },
  {
   "cell_type": "code",
   "execution_count": 16,
   "metadata": {},
   "outputs": [
    {
     "name": "stdout",
     "output_type": "stream",
     "text": [
      "[[1447   70]\n",
      " [  13 4774]]\n"
     ]
    }
   ],
   "source": [
    "from sklearn import metrics\n",
    "from sklearn.metrics import confusion_matrix\n",
    "\n",
    "cm = metrics.confusion_matrix( y, result)\n",
    "print(cm)"
   ]
  },
  {
   "cell_type": "code",
   "execution_count": 17,
   "metadata": {},
   "outputs": [
    {
     "name": "stdout",
     "output_type": "stream",
     "text": [
      "Percentage of correct classifications: 0.9868337563451777\n"
     ]
    }
   ],
   "source": [
    "true_percentage = (cm[0,0]+cm[1,1])/len(y)\n",
    "print(f'Percentage of correct classifications: {true_percentage}')"
   ]
  },
  {
   "cell_type": "markdown",
   "metadata": {},
   "source": [
    "Let's try to calculate the Accuracy also through an already implemented sklearn function:"
   ]
  },
  {
   "cell_type": "code",
   "execution_count": 18,
   "metadata": {},
   "outputs": [
    {
     "name": "stdout",
     "output_type": "stream",
     "text": [
      "Percentage of correct classifications: 0.9868337563451777\n"
     ]
    }
   ],
   "source": [
    "print(f'Percentage of correct classifications: {metrics.accuracy_score(y, result)}')"
   ]
  },
  {
   "cell_type": "markdown",
   "metadata": {},
   "source": [
    "We can see that the percentage of correct classifications (i.e. Accuracy) achived by the Tree Classifier is 0.98 using both methods."
   ]
  },
  {
   "cell_type": "markdown",
   "metadata": {},
   "source": [
    "## 3.2 Decision tree pruning using cross-validation\n",
    "\n",
    "In this exercise we will use cross-validation to prune a decision tree. When applying cross-validation the observed data is split into training and test sets, i.e., `X_train`, `y_train` and `X_test` and `y_test`. We train the model on the training data and evaluate the performance of the trained model on the test data.\n",
    "\n",
    "#### 3.2.1\n",
    "(2 pts) We are again using the wine data set `Data/wine.mat`. Divide the data into a training and a test data set (see hints!). Fit a decision tree to the training data using the Gini (`gdi`) splitting criterion.\n",
    "\n",
    "Now, we want to find an optimally pruned decision tree by *modifying its maximum depth*. For different values of the parameter `depth` (from 2 to 20), \n",
    "+ first fit the decision tree\n",
    "+ then compute the classification error on the training and test set (this is called holdout cross-validation)\n",
    "\n",
    "When you've done this for `depth` values 2,...,20, plot the training and test classification error as a function of the tree depth in the same figure. This will show us what the optimal pruning depth is for the training set, but also how well this generalizes to a test set. \n",
    "\n",
    "\n",
    "** hints: **  \n",
    "*Take a look at the module `sklearn.model_selection` and see how it can be used to partition the data into a training and a test set (holdout validation, `train_test_split()` function). Note that the package also contains functions to partition data for K-fold cross-validation. Some of the functions can ensure that both training and test sets have roughly the same class proportions. The error is 1-accuracy. The easiest way to compute the accuracy is by using the sklearn metrics module: \n",
    " https://scikit-learn.org/stable/modules/generated/sklearn.metrics.accuracy_score.html *\n",
    "\n",
    "What appears to be the optimal tree depth? Do you get the same result when you run your code again, generating a new random split between training and test data?\n"
   ]
  },
  {
   "cell_type": "markdown",
   "metadata": {},
   "source": [
    "### Answer to question 3.2.1"
   ]
  },
  {
   "cell_type": "markdown",
   "metadata": {},
   "source": [
    "As first step we are going to split the dataset between training and test set thorugh train_test_split function.\n",
    "For the split we will assign 2/3 of the records to the training set and the last 1/3 to the test set."
   ]
  },
  {
   "cell_type": "code",
   "execution_count": 19,
   "metadata": {},
   "outputs": [],
   "source": [
    "from sklearn.model_selection import train_test_split\n",
    "X_train, X_test, y_train, y_test = train_test_split(\n",
    "X, y, test_size=0.33, random_state = 3, stratify = y)"
   ]
  },
  {
   "cell_type": "markdown",
   "metadata": {},
   "source": [
    "Fit the decision tree on the training set taking different size of max_depth."
   ]
  },
  {
   "cell_type": "code",
   "execution_count": 20,
   "metadata": {},
   "outputs": [],
   "source": [
    "list_tree = []\n",
    "for i in range(2,21):\n",
    "    clf_holdout = tree.DecisionTreeClassifier(criterion = 'gini', max_depth = i, random_state = 3).fit(X_train, y_train)\n",
    "    list_tree.append(clf_holdout)"
   ]
  },
  {
   "cell_type": "markdown",
   "metadata": {},
   "source": [
    "Performing prediction on the training and test set\n",
    "(We've decided to split the cells in order to provide clearer code)."
   ]
  },
  {
   "cell_type": "code",
   "execution_count": 21,
   "metadata": {},
   "outputs": [],
   "source": [
    "train_prediction = []\n",
    "test_prediction = []\n",
    "for model in range(0,19):\n",
    "    pred_train = list_tree[model].predict(X_train)\n",
    "    train_prediction.append(pred_train)\n",
    "    \n",
    "    pred_test = list_tree[model].predict(X_test)\n",
    "    test_prediction.append(pred_test)"
   ]
  },
  {
   "cell_type": "markdown",
   "metadata": {},
   "source": [
    "Now we are going to evaluate the models' predictions through accuracy and error on both sets."
   ]
  },
  {
   "cell_type": "code",
   "execution_count": 22,
   "metadata": {},
   "outputs": [
    {
     "name": "stdout",
     "output_type": "stream",
     "text": [
      "Training error: 0.03575657115794462 Test error: 0.03748197981739543\n",
      "Training error: 0.02202225905754207 Test error: 0.022585295530994753\n",
      "Training error: 0.011839924224484988 Test error: 0.014416146083613635\n",
      "Training error: 0.008761543926118831 Test error: 0.011532916866890952\n",
      "Training error: 0.004735969689793951 Test error: 0.00961076405574246\n",
      "Training error: 0.003788775751835227 Test error: 0.008169149447381119\n",
      "Training error: 0.0030783802983660458 Test error: 0.0100913022585295\n",
      "Training error: 0.0023679848448969754 Test error: 0.01057184046131665\n",
      "Training error: 0.0021311863604073222 Test error: 0.011052378664103801\n",
      "Training error: 0.0014207909069381408 Test error: 0.00913022585295531\n",
      "Training error: 0.0011839924224484877 Test error: 0.011532916866890952\n",
      "Training error: 0.0009471939379588346 Test error: 0.00961076405574246\n",
      "Training error: 0.0007103954534690704 Test error: 0.012013455069677992\n",
      "Training error: 0.0004735969689794173 Test error: 0.012493993272465143\n",
      "Training error: 0.0004735969689794173 Test error: 0.011052378664103801\n",
      "Training error: 0.00023679848448965313 Test error: 0.012974531475252293\n",
      "Training error: 0.00023679848448965313 Test error: 0.011532916866890952\n",
      "Training error: 0.0 Test error: 0.012974531475252293\n",
      "Training error: 0.0 Test error: 0.012974531475252293\n"
     ]
    }
   ],
   "source": [
    "from sklearn.metrics import accuracy_score\n",
    "training_accuracy = []\n",
    "training_error = []\n",
    "test_accuracy = []\n",
    "test_error = []\n",
    "for model in range(0,19):\n",
    "    training_accuracy.append(accuracy_score(y_train, train_prediction[model]))\n",
    "    training_error.append(1 - accuracy_score(y_train, train_prediction[model]))\n",
    "    test_accuracy.append(accuracy_score(y_test, test_prediction[model]))\n",
    "    test_error.append(1 - accuracy_score(y_test, test_prediction[model]))\n",
    "    print(f\"Training error: {1 - accuracy_score(y_train, train_prediction[model])}\", f\"Test error: {1 - accuracy_score(y_test, test_prediction[model])}\")"
   ]
  },
  {
   "cell_type": "markdown",
   "metadata": {},
   "source": [
    "From the data above, we can see how errors of the model in training set decrease with increasing of the tree depth.\n",
    "Regarding of the test set, instead, we don't have a linear relationship (Tree depth and errors are not directly proportional)."
   ]
  },
  {
   "cell_type": "markdown",
   "metadata": {},
   "source": [
    "Plotting the training and test classification error as a function of the tree depth in the same figure"
   ]
  },
  {
   "cell_type": "code",
   "execution_count": 23,
   "metadata": {},
   "outputs": [
    {
     "data": {
      "image/png": "[encoded data removed]",
      "text/plain": [
       "<Figure size 720x720 with 1 Axes>"
      ]
     },
     "metadata": {
      "needs_background": "light"
     },
     "output_type": "display_data"
    },
    {
     "name": "stdout",
     "output_type": "stream",
     "text": [
      "Figure 1: Training set error on the X-axis and test set error on the Y-axis\n"
     ]
    }
   ],
   "source": [
    "import matplotlib.pyplot as plt\n",
    "\n",
    "fig = plt.figure(figsize = (10,10))\n",
    "ax = fig.add_subplot(111)\n",
    "\n",
    "ax.plot(training_error,test_error)\n",
    "ax.set_xlabel('Training error')\n",
    "ax.set_ylabel('Test error')\n",
    "ax.set_title(\"Training and test error as function of the tree depth\")\n",
    "plt.show()\n",
    "print('Figure 1: Training set error on the X-axis and test set error on the Y-axis')"
   ]
  },
  {
   "cell_type": "markdown",
   "metadata": {},
   "source": [
    "The plot above shows the presence of a minimum.\n",
    "Since most of the times, an error too low on the training set means overfitting and then wrong prediction on the test set, we need to consider as optimal value of tree depth, the one which gives us the lowest error on the test set.\n",
    "As a matter of fact, it tells us that despite the error on the training set is not the lowest in that point (even though is very low), it provides the best accuracy value on the test set, that is the gist in this case."
   ]
  },
  {
   "cell_type": "markdown",
   "metadata": {},
   "source": [
    "To get knowledge of the real value of the tree depth that corresponds to the minimum of the graph above, we can build up a bar plot with tree depth on the x-axis."
   ]
  },
  {
   "cell_type": "code",
   "execution_count": 24,
   "metadata": {},
   "outputs": [
    {
     "data": {
      "image/png": "[encoded data removed]",
      "text/plain": [
       "<Figure size 720x720 with 1 Axes>"
      ]
     },
     "metadata": {
      "needs_background": "light"
     },
     "output_type": "display_data"
    },
    {
     "name": "stdout",
     "output_type": "stream",
     "text": [
      "Figure 2: Barplot showing training set error and test set error as function of tree depth\n"
     ]
    }
   ],
   "source": [
    "fig = plt.figure(figsize = (10,10))\n",
    "ax = fig.add_subplot(111)\n",
    "ax.bar(np.arange(2,21)+0.2, training_error, width=0.3, color='b', label = 'Training set')\n",
    "ax.bar(np.arange(2,21)+0.4, test_error, width=0.3, color='g', label = 'Test set')\n",
    "ax.set_xlabel('Tree depth')\n",
    "ax.set_ylabel('Error of the corresponding model')\n",
    "ax.legend()\n",
    "ax.set_title(\"Comparing the difference between training and test set error\")\n",
    "plt.show()\n",
    "print('Figure 2: Barplot showing training set error and test set error as function of tree depth')"
   ]
  },
  {
   "cell_type": "markdown",
   "metadata": {},
   "source": [
    "The minimum of the test set error is reached with a tree depth equal to 7, as shown by the figure above. On the same level we achieve a very low value of training errors as well. We will consider this value of tree depth as the optimal one indeed."
   ]
  },
  {
   "cell_type": "code",
   "execution_count": 25,
   "metadata": {},
   "outputs": [
    {
     "data": {
      "image/png": "[encoded data removed]",
      "text/plain": [
       "<Figure size 432x288 with 1 Axes>"
      ]
     },
     "metadata": {
      "needs_background": "light"
     },
     "output_type": "display_data"
    },
    {
     "name": "stdout",
     "output_type": "stream",
     "text": [
      "Figure 3: Errors obtained in training and test set as function of tree depth\n"
     ]
    }
   ],
   "source": [
    "plt.plot(np.arange(2,21),training_error ,'--o',label = 'Training set')\n",
    "plt.plot(np.arange(2,21),test_error , '--o',label = 'test set')\n",
    "plt.legend()\n",
    "plt.xlabel('Tree depth')\n",
    "plt.ylabel('Error in both training and test set')\n",
    "plt.title('Errors in training and test set')\n",
    "plt.show()\n",
    "print('Figure 3: Errors obtained in training and test set as function of tree depth')"
   ]
  },
  {
   "cell_type": "markdown",
   "metadata": {},
   "source": [
    "As confirmed by the last graph, we can take 7 as the optimal tree depth value."
   ]
  },
  {
   "cell_type": "markdown",
   "metadata": {},
   "source": [
    "#### Changing the random split between training and test set. (To do it, we will change the random state, which was equal to 3 for the first experiment). "
   ]
  },
  {
   "cell_type": "code",
   "execution_count": 26,
   "metadata": {},
   "outputs": [],
   "source": [
    "from sklearn.model_selection import train_test_split\n",
    "X_train, X_test, y_train, y_test = train_test_split(\n",
    "X, y, test_size=0.33, random_state = 0, stratify = y)"
   ]
  },
  {
   "cell_type": "code",
   "execution_count": 27,
   "metadata": {},
   "outputs": [],
   "source": [
    "list_tree = []\n",
    "for i in range(2,21):\n",
    "    clf_holdout = tree.DecisionTreeClassifier(criterion = 'gini', max_depth = i, random_state = 3).fit(X_train, y_train)\n",
    "    list_tree.append(clf_holdout)"
   ]
  },
  {
   "cell_type": "code",
   "execution_count": 28,
   "metadata": {},
   "outputs": [],
   "source": [
    "train_prediction = []\n",
    "test_prediction = []\n",
    "for model in range(0,19):\n",
    "    pred_train = list_tree[model].predict(X_train)\n",
    "    train_prediction.append(pred_train)\n",
    "    \n",
    "    pred_test = list_tree[model].predict(X_test)\n",
    "    test_prediction.append(pred_test)"
   ]
  },
  {
   "cell_type": "code",
   "execution_count": 29,
   "metadata": {},
   "outputs": [],
   "source": [
    "training_accuracy = []\n",
    "training_error = []\n",
    "test_accuracy = []\n",
    "test_error = []\n",
    "for model in range(0,19):\n",
    "    training_accuracy.append(accuracy_score(y_train, train_prediction[model]))\n",
    "    training_error.append(1 - accuracy_score(y_train, train_prediction[model]))\n",
    "    test_accuracy.append(accuracy_score(y_test, test_prediction[model]))\n",
    "    test_error.append(1 - accuracy_score(y_test, test_prediction[model]))"
   ]
  },
  {
   "cell_type": "code",
   "execution_count": 30,
   "metadata": {},
   "outputs": [
    {
     "data": {
      "image/png": "[encoded data removed]",
      "text/plain": [
       "<Figure size 720x720 with 1 Axes>"
      ]
     },
     "metadata": {
      "needs_background": "light"
     },
     "output_type": "display_data"
    },
    {
     "name": "stdout",
     "output_type": "stream",
     "text": [
      "Figure 4: Training set error on the X-axis and test set error on the Y-axis (changing random state)\n"
     ]
    }
   ],
   "source": [
    "fig = plt.figure(figsize = (10,10))\n",
    "ax = fig.add_subplot(111)\n",
    "\n",
    "ax.plot(training_error,test_error)\n",
    "ax.set_xlabel('Training error')\n",
    "ax.set_ylabel('Test error')\n",
    "ax.set_title(\"Training and test error as function of the tree depth\")\n",
    "plt.show()\n",
    "print('Figure 4: Training set error on the X-axis and test set error on the Y-axis (changing random state)')"
   ]
  },
  {
   "cell_type": "code",
   "execution_count": 31,
   "metadata": {},
   "outputs": [
    {
     "data": {
      "image/png": "[encoded data removed]",
      "text/plain": [
       "<Figure size 720x720 with 1 Axes>"
      ]
     },
     "metadata": {
      "needs_background": "light"
     },
     "output_type": "display_data"
    },
    {
     "name": "stdout",
     "output_type": "stream",
     "text": [
      "Figure 5: Barplot showing training set error and test set error as function of tree depth (changing random state)\n"
     ]
    }
   ],
   "source": [
    "fig = plt.figure(figsize = (10,10))\n",
    "ax = fig.add_subplot(111)\n",
    "ax.bar(np.arange(2,21)+0.2, training_error, width=0.3, color='b', label = 'Training set')\n",
    "ax.bar(np.arange(2,21)+0.4, test_error, width=0.3, color='g', label = 'Test set')\n",
    "ax.set_xlabel('Tree depth')\n",
    "ax.set_ylabel('Error of the corresponding model')\n",
    "ax.legend()\n",
    "ax.set_title(\"Comparing the difference between training and test set error\")\n",
    "plt.show()\n",
    "print('Figure 5: Barplot showing training set error and test set error as function of tree depth (changing random state)')"
   ]
  },
  {
   "cell_type": "markdown",
   "metadata": {},
   "source": [
    "As we can see from the accuracy and error values, both in training and test set, changing the random split leads to different results, even though they don't give considerable changes. In fact, the model, if trained on a different sample, will lead to different predictions on the test set.\n",
    "The difference can be observed by the two plots above. There is still a minimum, but it is related to another tree depth that, with this random state, is equal to 6."
   ]
  },
  {
   "cell_type": "code",
   "execution_count": 32,
   "metadata": {},
   "outputs": [
    {
     "data": {
      "image/png": "[encoded data removed]",
      "text/plain": [
       "<Figure size 432x288 with 1 Axes>"
      ]
     },
     "metadata": {
      "needs_background": "light"
     },
     "output_type": "display_data"
    },
    {
     "name": "stdout",
     "output_type": "stream",
     "text": [
      "Figure 6: Errors obtained in training and test set as function of tree depth (changing random state)\n"
     ]
    }
   ],
   "source": [
    "plt.plot(np.arange(2,21),training_error ,'--o',label = 'Training set')\n",
    "plt.plot(np.arange(2,21),test_error , '--o',label = 'test set')\n",
    "plt.legend()\n",
    "plt.xlabel('Tree depth')\n",
    "plt.ylabel('Error in both training and test set')\n",
    "plt.title('Errors in training and test set')\n",
    "plt.show()\n",
    "print('Figure 6: Errors obtained in training and test set as function of tree depth (changing random state)')"
   ]
  },
  {
   "cell_type": "markdown",
   "metadata": {},
   "source": [
    "The graph above confirms the thesis explained before."
   ]
  },
  {
   "cell_type": "markdown",
   "metadata": {},
   "source": [
    "#### 3.2.2\n",
    "(1.5 pts) Repeat the exercise above, using 10-fold cross-validation. K-fold cross-validation works by splitting X into K partitions of equal length. Then in each fold, you choose K-1 partitions as the training set and the remaining partition as the test set. Every partition gets a turn being a test set. For a very nice simple explanation of how (and why) K-fold works, check out http://www.dummies.com/programming/big-data/data-science/resorting-cross-validation-machine-learning/\n",
    "\n",
    "\n",
    "For each fold, fit a decision tree on the training set and evaluate its performance on the test set. Finally, compute the average classification errors on the test- and training sets across the 10 cross-validation folds and plot them as a function of the tree depth.\n",
    "\n",
    "** hints: **\n",
    "*This time the `KFold()` function from the module `sklearn.model_selection` can be used to partition the data into the 10 training and test partitions. Check out http://scikit-learn.org/stable/modules/cross_validation.html#k-fold for an example of how to acces the indices for the training set and the test set in each fold. Those indices can then be used to create the training and test set, e.g. `X_train = X[train_indices]`*\n",
    "\n",
    "*If you are creating a for loop iterating over an object where you both need the index and the elements of the object, you can enumerate the object. For example:*\n",
    "\n",
    "`\n",
    "for index, (element) in enumerate(object):\n",
    "    array[index] = operation(element)\n",
    "`\n",
    " \n",
    "\n",
    "What appears to be the optimal tree depth? Do you get the same result when you run your code again, generating a new random split between training and test data? How about 100-fold cross-validation?\n"
   ]
  },
  {
   "cell_type": "markdown",
   "metadata": {},
   "source": [
    "### Answer to question 3.2.2"
   ]
  },
  {
   "cell_type": "markdown",
   "metadata": {},
   "source": [
    "We are going to use the function KFold in order to split training and test set through the method known as K Fold cross validation. On each fold we will fit the Decision Tree for 19 differents size of depth (from 2 and 20).\n",
    "Done the predictions on the 10 different tests set, for each depth we will store the sum of the error computed on each fold. At the end, the sum obtained will be divided by the total number of fold (10 in this case), in order to compute the average error for each depth, in both training and test set."
   ]
  },
  {
   "cell_type": "code",
   "execution_count": 33,
   "metadata": {},
   "outputs": [
    {
     "name": "stdout",
     "output_type": "stream",
     "text": [
      "Vector of the average training error per depth: [0.04087344 0.0224371  0.01295465 0.00934141 0.00710303 0.00556962\n",
      " 0.00444158 0.00347219 0.00285529 0.00220316 0.00163915 0.00121614\n",
      " 0.00086365 0.00074027 0.00052876 0.00044063 0.00040538 0.00035251\n",
      " 0.00028201]\n",
      "Vector of the average test error per depth: [0.08053631 0.04518301 0.02901039 0.02647549 0.02679219 0.0229882\n",
      " 0.02346313 0.02441627 0.02298971 0.02314869 0.02330717 0.02235529\n",
      " 0.02378387 0.02346615 0.02330767 0.02378412 0.02299047 0.02489472\n",
      " 0.02425955]\n"
     ]
    }
   ],
   "source": [
    "from sklearn.model_selection import KFold\n",
    "k = 10\n",
    "kf = KFold(n_splits=k, random_state=3)\n",
    "error_train = np.zeros(19)\n",
    "error_test = np.zeros(19) \n",
    "\n",
    "for train_index, test_index in kf.split(X):\n",
    "    X_train, X_test, y_train, y_test = X[train_index], X[test_index], y[train_index], y[test_index]\n",
    "    for i in range(2,21):\n",
    "        clf_cross = tree.DecisionTreeClassifier(criterion = 'gini', max_depth = i, random_state = 3).fit(X_train, y_train)\n",
    "        accuracy_train = accuracy_score(y_train, clf_cross.predict(X_train))\n",
    "        error_train[i-2] += 1 - accuracy_train\n",
    "        accuracy_test = accuracy_score(y_test, clf_cross.predict(X_test))\n",
    "        error_test[i-2] += 1 - accuracy_test\n",
    "error_train/=k  \n",
    "error_test/=k\n",
    "print(f\"Vector of the average training error per depth: {error_train}\")\n",
    "print(f\"Vector of the average test error per depth: {error_test}\")"
   ]
  },
  {
   "cell_type": "markdown",
   "metadata": {},
   "source": [
    "Now we are going to plot the average of errors achieved on the training set against the ones obtained on the test set, as function of the tree depth."
   ]
  },
  {
   "cell_type": "code",
   "execution_count": 34,
   "metadata": {},
   "outputs": [
    {
     "data": {
      "image/png": "[encoded data removed]",
      "text/plain": [
       "<Figure size 720x720 with 1 Axes>"
      ]
     },
     "metadata": {
      "needs_background": "light"
     },
     "output_type": "display_data"
    },
    {
     "name": "stdout",
     "output_type": "stream",
     "text": [
      "Figure 7: Plot of the average errors for depth, in both training and test sets\n"
     ]
    }
   ],
   "source": [
    "fig = plt.figure(figsize = (10,10))\n",
    "ax = fig.add_subplot(111)\n",
    "\n",
    "ax.plot(error_train,error_test)\n",
    "ax.set_xlabel('Average_train_error')\n",
    "ax.set_ylabel('Average_test_error')\n",
    "ax.set_title(\"Training and test error averages as function of the tree depth\")\n",
    "plt.show()\n",
    "print('Figure 7: Plot of the average errors for depth, in both training and test sets')"
   ]
  },
  {
   "cell_type": "code",
   "execution_count": 35,
   "metadata": {},
   "outputs": [
    {
     "data": {
      "image/png": "[encoded data removed]",
      "text/plain": [
       "<Figure size 720x720 with 1 Axes>"
      ]
     },
     "metadata": {
      "needs_background": "light"
     },
     "output_type": "display_data"
    },
    {
     "name": "stdout",
     "output_type": "stream",
     "text": [
      "Figure 8: Barplot showing training set and test sets average errors as function of tree depth\n"
     ]
    }
   ],
   "source": [
    "fig = plt.figure(figsize = (10,10))\n",
    "ax = fig.add_subplot(111)\n",
    "ax.bar(np.arange(2,21)+0.2, error_train, width=0.3, color='b', label = 'Training set')\n",
    "ax.bar(np.arange(2,21)+0.4, error_test, width=0.3, color='g', label = 'Test set')\n",
    "ax.set_xlabel('Tree depth')\n",
    "ax.set_ylabel('Error of the corresponding model')\n",
    "ax.legend()\n",
    "ax.set_title(\"Comparing the difference between training and test set averages error\")\n",
    "plt.show()\n",
    "print('Figure 8: Barplot showing training set and test sets average errors as function of tree depth')"
   ]
  },
  {
   "cell_type": "markdown",
   "metadata": {},
   "source": [
    "For the same reason explained at the point 3.2.1. We could consider as optimal value a tree depth equal to 7. After that point we don't reach a lower value of test error (except for 13), and moreover we don't want to make our model more complicated if it doesn't mean a clear improvement about results."
   ]
  },
  {
   "cell_type": "code",
   "execution_count": 36,
   "metadata": {},
   "outputs": [
    {
     "data": {
      "image/png": "[encoded data removed]",
      "text/plain": [
       "<Figure size 432x288 with 1 Axes>"
      ]
     },
     "metadata": {
      "needs_background": "light"
     },
     "output_type": "display_data"
    },
    {
     "name": "stdout",
     "output_type": "stream",
     "text": [
      "Figure 9: Average errors obtained in training and test set as function of tree depth (changing random state)\n"
     ]
    }
   ],
   "source": [
    "plt.plot(np.arange(2,21),error_train ,'--o',label = 'Training set')\n",
    "plt.plot(np.arange(2,21),error_test , '--o',label = 'test set')\n",
    "plt.legend()\n",
    "plt.xlabel('Tree depth')\n",
    "plt.ylabel('Average errors')\n",
    "plt.title('Average errors for depth in training and test set')\n",
    "plt.show()\n",
    "print('Figure 9: Average errors obtained in training and test set as function of tree depth (changing random state)')"
   ]
  },
  {
   "cell_type": "markdown",
   "metadata": {},
   "source": [
    "In this case as well, the line plot allows us to see clearly what we have stated for the visualizations above."
   ]
  },
  {
   "cell_type": "markdown",
   "metadata": {},
   "source": [
    "As we have observed at the point 3.2.1, the results will change if we modify the random state of the training and test set.\n",
    "The differences are negligible though. The gist is still achieve low values in both training and test set, maintaining a good level of simplicity for the model.\n"
   ]
  },
  {
   "cell_type": "markdown",
   "metadata": {},
   "source": [
    "And below, what we get if we decide to perform a 100 Fold Cross Validation:"
   ]
  },
  {
   "cell_type": "code",
   "execution_count": 37,
   "metadata": {},
   "outputs": [
    {
     "name": "stdout",
     "output_type": "stream",
     "text": [
      "Vector of the average training error per depth: [0.04469985 0.02600561 0.01282655 0.01026284 0.00717037 0.00641408\n",
      " 0.00536296 0.00412276 0.00319021 0.0024195  0.00182664 0.00123539\n",
      " 0.00090371 0.00078353 0.00067458 0.0004823  0.00047108 0.00045987\n",
      " 0.00041019]\n",
      "Vector of the average test error per depth: [0.04489831 0.0328249  0.02233631 0.01900298 0.01727183 0.01790427\n",
      " 0.01742808 0.0187004  0.01933036 0.01901786 0.0187004  0.01902282\n",
      " 0.01886161 0.0199752  0.01949901 0.01902282 0.01918155 0.0199752\n",
      " 0.01949653]\n"
     ]
    }
   ],
   "source": [
    "from sklearn.model_selection import KFold\n",
    "k = 100\n",
    "kf = KFold(n_splits=k, random_state=3)\n",
    "error_train = np.zeros(19)\n",
    "error_test = np.zeros(19) \n",
    "\n",
    "for train_index, test_index in kf.split(X):\n",
    "    X_train, X_test, y_train, y_test = X[train_index], X[test_index], y[train_index], y[test_index]\n",
    "    for i in range(2,21):\n",
    "        clf_cross = tree.DecisionTreeClassifier(criterion = 'gini', max_depth = i, random_state = 3).fit(X_train, y_train)\n",
    "        accuracy_train = accuracy_score(y_train, clf_cross.predict(X_train))\n",
    "        error_train[i-2] += 1 - accuracy_train\n",
    "        accuracy_test = accuracy_score(y_test, clf_cross.predict(X_test))\n",
    "        error_test[i-2] += 1 - accuracy_test\n",
    "error_train/=k  \n",
    "error_test/=k\n",
    "print(f\"Vector of the average training error per depth: {error_train}\")\n",
    "print(f\"Vector of the average test error per depth: {error_test}\")"
   ]
  },
  {
   "cell_type": "code",
   "execution_count": 38,
   "metadata": {},
   "outputs": [
    {
     "data": {
      "image/png": "[encoded data removed]",
      "text/plain": [
       "<Figure size 720x720 with 1 Axes>"
      ]
     },
     "metadata": {
      "needs_background": "light"
     },
     "output_type": "display_data"
    },
    {
     "name": "stdout",
     "output_type": "stream",
     "text": [
      "Figure 10: Plot of the average errors, training on the X-axis and test on the Y-axis as function of depth\n"
     ]
    }
   ],
   "source": [
    "fig = plt.figure(figsize = (10,10))\n",
    "ax = fig.add_subplot(111)\n",
    "\n",
    "ax.plot(error_train,error_test)\n",
    "ax.set_xlabel('Average_train_error')\n",
    "ax.set_ylabel('Average_test_error')\n",
    "ax.set_title(\"Training and test error averages as function of the tree depth (100 Fold cross validation)\")\n",
    "plt.show()\n",
    "print('Figure 10: Plot of the average errors, training on the X-axis and test on the Y-axis as function of depth')"
   ]
  },
  {
   "cell_type": "code",
   "execution_count": 39,
   "metadata": {},
   "outputs": [
    {
     "data": {
      "image/png": "[encoded data removed]",
      "text/plain": [
       "<Figure size 720x720 with 1 Axes>"
      ]
     },
     "metadata": {
      "needs_background": "light"
     },
     "output_type": "display_data"
    },
    {
     "name": "stdout",
     "output_type": "stream",
     "text": [
      "Figure 11: Barplot showing training set and test sets average errors as function of tree depth (100 Fold cross validation)\n"
     ]
    }
   ],
   "source": [
    "fig = plt.figure(figsize = (10,10))\n",
    "ax = fig.add_subplot(111)\n",
    "ax.bar(np.arange(2,21)+0.2, error_train, width=0.3, color='b', label = 'Training set')\n",
    "ax.bar(np.arange(2,21)+0.4, error_test, width=0.3, color='g', label = 'Test set')\n",
    "ax.set_xlabel('Tree depth')\n",
    "ax.set_ylabel('Error of the corresponding model')\n",
    "ax.legend()\n",
    "ax.set_title(\"Comparing the difference between training and test set averages error (100 Fold cross validation)\")\n",
    "plt.show()\n",
    "print('Figure 11: Barplot showing training set and test sets average errors as function of tree depth (100 Fold cross validation)')"
   ]
  },
  {
   "cell_type": "markdown",
   "metadata": {},
   "source": [
    "In this case as well the results will be slightly different. Performing a cross validation with 100 fold, allows us to pick a tree depth equal to 6 as the optimal value. Therefore the model will be easier."
   ]
  },
  {
   "cell_type": "code",
   "execution_count": 40,
   "metadata": {},
   "outputs": [
    {
     "data": {
      "image/png": "[encoded data removed]",
      "text/plain": [
       "<Figure size 432x288 with 1 Axes>"
      ]
     },
     "metadata": {
      "needs_background": "light"
     },
     "output_type": "display_data"
    },
    {
     "name": "stdout",
     "output_type": "stream",
     "text": [
      "Figure 12: Errors obtained in training and test set as function of tree depth (100 Fold cross validation)\n"
     ]
    }
   ],
   "source": [
    "plt.plot(np.arange(2,21),error_train ,'--o',label = 'Training set')\n",
    "plt.plot(np.arange(2,21),error_test , '--o',label = 'test set')\n",
    "plt.legend()\n",
    "plt.xlabel('Tree depth')\n",
    "plt.ylabel('Error in both training and test set')\n",
    "plt.title('Errors in training and test set')\n",
    "plt.show()\n",
    "print('Figure 12: Errors obtained in training and test set as function of tree depth (100 Fold cross validation)')"
   ]
  },
  {
   "cell_type": "markdown",
   "metadata": {},
   "source": [
    "Finally we confirm the value 6 as the optimal one for the tree depth."
   ]
  },
  {
   "cell_type": "markdown",
   "metadata": {},
   "source": [
    " ## 3.3 ROC curves, AUC scores, and the sign test\n",
    "\n",
    "In this exercise we will use ROC curves and the sign test to compare classifiers. Study the lecture slides and the paper 'ROC Graphs: Notes and Practical Considerations for Researchers' by Tom Fawcett included with the homework assignment (ROC101.pdf). It describes all you need to know (and much, much more..) about ROC curves. The method explained for computing the area under the curve is unnecessarily complicated. A simpler formula is:\n",
    "$$\n",
    "    \\mbox{AUC} = {1 \\over m n} \\sum_{i=1}^m \\sum_{j=1}^n \\mathbf{\\large 1}_{p_i > p_j} \\: .\n",
    "   $$\n",
    "Here $i$ runs over all $m$ data points with true label 1, and $j$ runs over all $n$ data points with true label $0$; $p_i$ and $p_j$ denote the probability score assigned by the classifier to data point $i$ and $j$, respectively. $\\mathbf{\\large 1}$ is the indicator function: it outputs $1$ if the condition (here $p_i > p_j$) is satisfied and $0$ otherwise. *Simply put: this formula computes how often the probability of a data point with true label 1 is higher than the probability of data points with true label 0. This is then divided by the total number of comparisons between probabilities.*\n",
    "    \n",
    "\n",
    "#### 3.3.1\n",
    "(0.25 pts) To make sure you understand how ROC works, make an ROC curve and calculate the AUC (on paper) with the following data:\n",
    "\n",
    "`\n",
    "labels = [0,0,0,1,0,1,1,0,1,1]\n",
    "classifier_probs = [0.1,0.2,0.3,0.4,0.5,0.6,0.7,0.8,0.9,0.99]\n",
    "`\n",
    "    \n",
    "What's the AUC you calculated? Do you think this classifier works well?\n"
   ]
  },
  {
   "cell_type": "markdown",
   "metadata": {},
   "source": [
    "### Answer to question 3.3.1"
   ]
  },
  {
   "cell_type": "markdown",
   "metadata": {},
   "source": [
    "In our case both $i$ and $j$ go from 1 to 5. Taking this into account and applying the formula above, the AUC calculated on paper is equal to $\\frac{21}{25} = 0.84$.\n",
    "\n",
    "This result is also confirmed by pre-implemented functions from sklearn package as we can see below:"
   ]
  },
  {
   "cell_type": "code",
   "execution_count": 41,
   "metadata": {},
   "outputs": [
    {
     "data": {
      "text/plain": [
       "0.8400000000000001"
      ]
     },
     "execution_count": 41,
     "metadata": {},
     "output_type": "execute_result"
    }
   ],
   "source": [
    "labels = [0,0,0,1,0,1,1,0,1,1]\n",
    "classifier_probs = [0.1,0.2,0.3,0.4,0.5,0.6,0.7,0.8,0.9,0.99]\n",
    "\n",
    "fpr, tpr, thresholds = metrics.roc_curve(labels, classifier_probs)\n",
    "metrics.auc(fpr, tpr)"
   ]
  },
  {
   "cell_type": "markdown",
   "metadata": {},
   "source": [
    "Since the perfect classifier would have AUC = 1 and the random predictor has AUC = 0.5, we think that a classifier with AUC = 0.84 works well."
   ]
  },
  {
   "cell_type": "markdown",
   "metadata": {},
   "source": [
    "#### 3.3.2\n",
    "  Load the file `Data/classprobs.xls` using the Pandas `read_excel` function. Inspect the data and cast it to an array with the `.values` attribute. The first column gives the true class label (either 0 or 1). The second and third column give the probabilistic scores for two different classifiers. The higher this probability, the more certain the classifier is that the example belongs to class 1 (instead of class 0).\n"
   ]
  },
  {
   "cell_type": "markdown",
   "metadata": {},
   "source": [
    "### Answer to question 3.3.2"
   ]
  },
  {
   "cell_type": "code",
   "execution_count": 42,
   "metadata": {
    "scrolled": true
   },
   "outputs": [
    {
     "data": {
      "text/html": [
       "<div>\n",
       "<style scoped>\n",
       "    .dataframe tbody tr th:only-of-type {\n",
       "        vertical-align: middle;\n",
       "    }\n",
       "\n",
       "    .dataframe tbody tr th {\n",
       "        vertical-align: top;\n",
       "    }\n",
       "\n",
       "    .dataframe thead th {\n",
       "        text-align: right;\n",
       "    }\n",
       "</style>\n",
       "<table border=\"1\" class=\"dataframe\">\n",
       "  <thead>\n",
       "    <tr style=\"text-align: right;\">\n",
       "      <th></th>\n",
       "      <th>0</th>\n",
       "      <th>1</th>\n",
       "      <th>2</th>\n",
       "    </tr>\n",
       "  </thead>\n",
       "  <tbody>\n",
       "    <tr>\n",
       "      <th>0</th>\n",
       "      <td>1</td>\n",
       "      <td>0.88700</td>\n",
       "      <td>0.797060</td>\n",
       "    </tr>\n",
       "    <tr>\n",
       "      <th>1</th>\n",
       "      <td>0</td>\n",
       "      <td>0.13591</td>\n",
       "      <td>0.099401</td>\n",
       "    </tr>\n",
       "    <tr>\n",
       "      <th>2</th>\n",
       "      <td>0</td>\n",
       "      <td>0.55549</td>\n",
       "      <td>0.650750</td>\n",
       "    </tr>\n",
       "    <tr>\n",
       "      <th>3</th>\n",
       "      <td>0</td>\n",
       "      <td>0.23876</td>\n",
       "      <td>0.508570</td>\n",
       "    </tr>\n",
       "    <tr>\n",
       "      <th>4</th>\n",
       "      <td>0</td>\n",
       "      <td>0.14542</td>\n",
       "      <td>0.236290</td>\n",
       "    </tr>\n",
       "  </tbody>\n",
       "</table>\n",
       "</div>"
      ],
      "text/plain": [
       "   0        1         2\n",
       "0  1  0.88700  0.797060\n",
       "1  0  0.13591  0.099401\n",
       "2  0  0.55549  0.650750\n",
       "3  0  0.23876  0.508570\n",
       "4  0  0.14542  0.236290"
      ]
     },
     "execution_count": 42,
     "metadata": {},
     "output_type": "execute_result"
    }
   ],
   "source": [
    "import pandas as pd\n",
    "\n",
    "data2 = pd.read_excel(\"Data//classprobs.xls\",header=None)\n",
    "data2.head()"
   ]
  },
  {
   "cell_type": "code",
   "execution_count": 43,
   "metadata": {},
   "outputs": [
    {
     "name": "stdout",
     "output_type": "stream",
     "text": [
      "<class 'numpy.ndarray'> \n",
      " [[1.       0.887    0.79706 ]\n",
      " [0.       0.13591  0.099401]\n",
      " [0.       0.55549  0.65075 ]\n",
      " [0.       0.23876  0.50857 ]\n",
      " [0.       0.14542  0.23629 ]\n",
      " [1.       0.81876  0.48949 ]\n",
      " [0.       0.50594  0.038203]\n",
      " [1.       0.93954  0.23982 ]\n",
      " [1.       0.22339  0.62287 ]\n",
      " [0.       0.31219  0.57823 ]\n",
      " [0.       0.19486  0.61664 ]\n",
      " [1.       0.61471  0.5013  ]\n",
      " [1.       0.63854  0.75183 ]\n",
      " [0.       0.29924  0.33768 ]\n",
      " [0.       0.16546  0.44035 ]\n",
      " [1.       0.72124  0.44813 ]\n",
      " [0.       0.1088   0.37254 ]\n",
      " [1.       0.48676  0.25349 ]\n",
      " [1.       0.94156  0.64531 ]\n",
      " [0.       0.2968   0.53258 ]\n",
      " [0.       0.24267  0.26251 ]\n",
      " [0.       0.17043  0.44888 ]\n",
      " [0.       0.015464 0.5467  ]\n",
      " [1.       0.30852  0.32406 ]\n",
      " [0.       0.11212  0.28476 ]\n",
      " [0.       0.29639  0.41658 ]\n",
      " [1.       0.97275  0.79959 ]\n",
      " [1.       0.58501  0.30657 ]\n",
      " [0.       0.12244  0.43778 ]\n",
      " [1.       0.87557  0.75815 ]\n",
      " [1.       0.76142  0.32031 ]\n",
      " [0.       0.14132  0.22986 ]\n",
      " [1.       0.86004  0.35583 ]\n",
      " [0.       0.13915  0.39455 ]\n",
      " [0.       0.18889  0.49216 ]\n",
      " [1.       0.96075  0.67214 ]\n",
      " [1.       0.83076  0.77401 ]\n",
      " [0.       0.089368 0.11584 ]\n",
      " [1.       0.68199  0.61933 ]\n",
      " [1.       0.85489  0.57659 ]\n",
      " [1.       0.56139  0.63589 ]\n",
      " [1.       0.93078  0.41764 ]\n",
      " [1.       0.75955  0.54143 ]\n",
      " [1.       0.61855  0.61504 ]\n",
      " [0.       0.092059 0.10315 ]\n",
      " [0.       0.67612  0.58934 ]\n",
      " [1.       0.63252  0.43285 ]\n",
      " [0.       0.31297  0.84436 ]\n",
      " [1.       0.82238  0.41054 ]\n",
      " [0.       0.51416  0.12823 ]\n",
      " [1.       0.99809  0.3195  ]\n",
      " [1.       0.72686  0.53859 ]\n",
      " [1.       0.55046  0.8621  ]\n",
      " [0.       0.25546  0.48115 ]\n",
      " [1.       0.94669  0.73634 ]\n",
      " [0.       0.27347  0.053111]\n",
      " [1.       0.31107  0.45811 ]\n",
      " [0.       0.24862  0.38683 ]\n",
      " [0.       0.50734  0.61375 ]\n",
      " [1.       0.43013  0.63192 ]\n",
      " [1.       0.52135  0.52524 ]\n",
      " [1.       0.85277  0.55801 ]\n",
      " [1.       0.68814  0.71352 ]\n",
      " [0.       0.034719 0.18274 ]\n",
      " [0.       0.30511  0.75859 ]\n",
      " [1.       0.84431  0.65031 ]\n",
      " [0.       0.082462 0.26048 ]\n",
      " [0.       0.018232 0.45213 ]\n",
      " [0.       0.51123  0.54973 ]\n",
      " [1.       0.36436  0.64985 ]\n",
      " [0.       0.15529  0.44893 ]\n",
      " [1.       0.74259  0.43821 ]\n",
      " [0.       0.23423  0.47979 ]\n",
      " [0.       0.5569   0.41085 ]\n",
      " [1.       0.98439  0.6358  ]\n",
      " [0.       0.66793  0.14227 ]\n",
      " [1.       0.64618  0.72749 ]\n",
      " [0.       0.33115  0.41956 ]\n",
      " [1.       0.65452  0.65668 ]\n",
      " [1.       0.74047  0.50759 ]\n",
      " [1.       0.67109  0.48028 ]\n",
      " [0.       0.47944  0.30758 ]\n",
      " [1.       0.61722  0.68681 ]\n",
      " [1.       0.58154  0.74264 ]\n",
      " [0.       0.18569  0.62643 ]\n",
      " [0.       0.42642  0.11776 ]\n",
      " [0.       0.34196  0.27483 ]\n",
      " [0.       0.19386  0.31169 ]\n",
      " [1.       0.71375  0.49963 ]\n",
      " [1.       0.70223  0.52853 ]\n",
      " [0.       0.034833 0.55323 ]\n",
      " [0.       0.28422  0.31598 ]\n",
      " [1.       0.78385  0.29664 ]\n",
      " [1.       0.93666  0.51497 ]\n",
      " [1.       0.83752  0.49083 ]\n",
      " [0.       0.11601  0.24568 ]\n",
      " [1.       0.85762  0.52682 ]\n",
      " [0.       0.3934   0.54303 ]\n",
      " [0.       0.21118  0.26469 ]\n",
      " [0.       0.60127  0.45642 ]\n",
      " [1.       0.87517  0.73298 ]\n",
      " [0.       0.27786  0.25315 ]\n",
      " [0.       0.26974  0.35386 ]\n",
      " [0.       0.014577 0.3425  ]\n",
      " [1.       0.66804  0.33838 ]\n",
      " [1.       0.83725  0.61015 ]\n",
      " [1.       0.89512  0.79699 ]\n",
      " [0.       0.18806  0.25373 ]]\n"
     ]
    }
   ],
   "source": [
    "data2 = data2.values\n",
    "print(type(data2),'\\n',data2)"
   ]
  },
  {
   "cell_type": "markdown",
   "metadata": {},
   "source": [
    "#### 3.3.3\n",
    "(1 pts) Calculate the ROC curves for both of the classifiers by calculating the FP and TP rates and plot them in the same plot. Make the plot yourself as opposed to using a library! Also plot a dashed line on the diagonal to represent random guessing in the same figure. Interpret the obtained results. Do both classifiers perform better than random guessing?\n",
    "\n",
    "** hints: **  \n",
    "*The function `sklearn.metrics.roc_curve` can be used for computing the FP and TP rates. You can then plot them using the `matplotlib.pyplot` `plot` function. Check the documentation on how to plot a dashed line. Remember to include a legend!* \n",
    "\n",
    "**An extra tip: the sign test example below includes a figure with dashed lines and a legend...**\n",
    " "
   ]
  },
  {
   "cell_type": "markdown",
   "metadata": {},
   "source": [
    "### Answer to question 3.3.3"
   ]
  },
  {
   "cell_type": "code",
   "execution_count": 44,
   "metadata": {},
   "outputs": [
    {
     "data": {
      "image/png": "[encoded data removed]",
      "text/plain": [
       "<Figure size 720x432 with 1 Axes>"
      ]
     },
     "metadata": {
      "needs_background": "light"
     },
     "output_type": "display_data"
    },
    {
     "name": "stdout",
     "output_type": "stream",
     "text": [
      "Figure 13: ROC Curves of two different classifiers compared with the one of a Random Classifier. On the Y axis there is the True Positive Rate; on the X axis there is the False Positive Rate\n"
     ]
    }
   ],
   "source": [
    "import matplotlib.pyplot as plt\n",
    "fpr1, tpr1, thresholds1 = metrics.roc_curve(data2[:,0], data2[:,1])\n",
    "fpr2, tpr2, thresholds2 = metrics.roc_curve(data2[:,0], data2[:,2])\n",
    "\n",
    "fig = plt.figure(figsize=(10,6))\n",
    "plt.plot(fpr1,tpr1, '-',label='Classifier_1',linewidth=2,color='r')\n",
    "plt.plot(fpr2,tpr2, '-',label='Classifier_2',linewidth=2,color='b')\n",
    "plt.plot([0, 1], [0, 1],'--',label='Random Guessing',linewidth=2,color='g')\n",
    "plt.xlabel('FPR')\n",
    "plt.ylabel('TPR')\n",
    "plt.legend(loc='lower center')\n",
    "plt.title('ROC Curves of two different classifiers')\n",
    "plt.show()\n",
    "print('Figure 13: ROC Curves of two different classifiers compared with the one of a Random Classifier.\\\n",
    " On the Y axis there is the True Positive Rate; on the X axis there is the False Positive Rate')"
   ]
  },
  {
   "cell_type": "markdown",
   "metadata": {},
   "source": [
    "From the graph we can see that both classifiers perform better than random guessing. In fact, looking at the same percentage of observations identified as False Positive, the two models are able to classify higher percentages of True Positive than the Random one, which is completely casual. Moreover we can see that the first classifier performs better than the second one, since it manages to achieve higher TP rates than the second for the same percentage of FP."
   ]
  },
  {
   "cell_type": "markdown",
   "metadata": {},
   "source": [
    "#### 3.3.4\n",
    "(0.5 pts) Compute the AUC scores (area under the curve) of both classifiers using the formula given above. **Write your own code for this calculation.** Do the AUC scores indicate that the classifiers are performing better than this baseline?\n",
    "\n",
    "\n",
    "\n",
    "\n",
    " "
   ]
  },
  {
   "cell_type": "markdown",
   "metadata": {},
   "source": [
    "### Answer to question 3.3.4"
   ]
  },
  {
   "cell_type": "markdown",
   "metadata": {},
   "source": [
    "Calculating number of observations with 1 and 0 class value:"
   ]
  },
  {
   "cell_type": "code",
   "execution_count": 45,
   "metadata": {},
   "outputs": [],
   "source": [
    "n = len(data2[:,0][data2[:,0]==1])    # n=54\n",
    "m = len(data2[:,0][data2[:,0]==0])    # m=54"
   ]
  },
  {
   "cell_type": "markdown",
   "metadata": {},
   "source": [
    "Defining a function to calculate AUC:"
   ]
  },
  {
   "cell_type": "code",
   "execution_count": 46,
   "metadata": {},
   "outputs": [],
   "source": [
    "def auc(n,m,p_i,p_j):\n",
    "    \n",
    "    summ = 0\n",
    "    for i in range(0,n):\n",
    "        for j in range(0,m):\n",
    "            if p_i[i] > p_j[j]:\n",
    "                summ+=1\n",
    "    return summ/(m*n)"
   ]
  },
  {
   "cell_type": "markdown",
   "metadata": {},
   "source": [
    "Calculating AUC for the two classifiers"
   ]
  },
  {
   "cell_type": "code",
   "execution_count": 47,
   "metadata": {},
   "outputs": [
    {
     "name": "stdout",
     "output_type": "stream",
     "text": [
      "AUC of Classifier_1: 0.9564471879286695\n",
      "\n",
      "AUC of Classifier_2: 0.7654320987654321\n"
     ]
    }
   ],
   "source": [
    "# Defining p_i and p_j for both classifiers\n",
    "p_i1 = data2[:,1][data2[:,0]==1]    \n",
    "p_j1 = data2[:,1][data2[:,0]==0]   \n",
    "p_i2 = data2[:,2][data2[:,0]==1]  \n",
    "p_j2 = data2[:,2][data2[:,0]==0]\n",
    "\n",
    "print(f'AUC of Classifier_1: {auc(n,m,p_i1,p_j1)}\\n\\nAUC of Classifier_2: {auc(n,m,p_i2,p_j2)}')"
   ]
  },
  {
   "cell_type": "markdown",
   "metadata": {},
   "source": [
    "AUC calculations confirm what we've already concluded in the previous question looking at the ROC Curves: the two classifiers perform better than the baseline. In fact the first one (the best) achives an AUC of 0.95, while the second one an AUC of 0.76, which are in both cases higher values than the random model, whose AUC is 0.5."
   ]
  },
  {
   "cell_type": "markdown",
   "metadata": {},
   "source": [
    "\n",
    "#### 3.3.5\n",
    "(0.25 pts) Using a threshold of 0.5, translate the probability scores to predicted class labels, and compute the accuracy for each of the classifiers.\n",
    "\n",
    "** hint: **\n",
    "\n",
    "*Take a look at https://scikit-learn.org/stable/modules/generated/sklearn.metrics.accuracy_score.html *"
   ]
  },
  {
   "cell_type": "markdown",
   "metadata": {},
   "source": [
    "### Answer to question 3.3.5"
   ]
  },
  {
   "cell_type": "markdown",
   "metadata": {},
   "source": [
    "So, we will use list comprehension with 0.5 as a threshold to consider if a classifier has assigned  1 or 0 to an observation."
   ]
  },
  {
   "cell_type": "code",
   "execution_count": 48,
   "metadata": {},
   "outputs": [],
   "source": [
    "first_predictions = [1 if i > 0.5 else 0 for i in data2[:,1]]\n",
    "second_predictions = [1 if i > 0.5 else 0 for i in data2[:,2]]"
   ]
  },
  {
   "cell_type": "code",
   "execution_count": 49,
   "metadata": {},
   "outputs": [
    {
     "name": "stdout",
     "output_type": "stream",
     "text": [
      "Accuracy of Classifier_1: 0.8611111111111112    \n",
      "\n",
      "Accuracy of Classifier_2: 0.6944444444444444\n"
     ]
    }
   ],
   "source": [
    "print(f'Accuracy of Classifier_1: {metrics.accuracy_score(data2[:,0], first_predictions)}\\\n",
    "    \\n\\nAccuracy of Classifier_2: {metrics.accuracy_score(data2[:,0], second_predictions)}')"
   ]
  },
  {
   "cell_type": "markdown",
   "metadata": {},
   "source": [
    "#### 3.3.6\n",
    "(1 pts) Create the 2x2 table (or array, or list, or dataframe..) of wrong and correct classifications by the first and the second classifier, like in the lecture slides (lecture on model evaluation, part on the sign test). Perform a sign test to test whether the performance of the two classifiers is significantly different at a significance level of 0.05. **If you are not familiar with sign testing, you can read the example provided below.**\n",
    "\n",
    "\n",
    "** hints: **  \n",
    "*As explained in the lecture slides, the sign test is a binomial test on the lower-left ($N_{1<2}$) and upper-right ($N_{1>2}$) elements of the cross table. Unlike in the lecture slides, here you need to perform a two-sided test: $$\\textrm{p-value} = P(W \\leq \\min(N_{1<2},N_{1>2}) \\textrm{ or } W \\geq  \\max(N_{1<2},N_{1>2})$$\n",
    "The function `scipy.stats.binom.cdf` can be used to compute the cumulative density of the binomial distribution.\n",
    "For more information on the sign test, see the included paper by Salzberg (signtest.pdf, in particular section 3.1).*"
   ]
  },
  {
   "cell_type": "markdown",
   "metadata": {},
   "source": [
    "### Answer to question 3.3.6"
   ]
  },
  {
   "cell_type": "markdown",
   "metadata": {},
   "source": [
    "Create the 2x2 table of wrong and correct classifications by the first and the second classifier"
   ]
  },
  {
   "cell_type": "code",
   "execution_count": 50,
   "metadata": {},
   "outputs": [
    {
     "name": "stdout",
     "output_type": "stream",
     "text": [
      "[[67 26]\n",
      " [ 8  7]]\n"
     ]
    }
   ],
   "source": [
    "CorrectWrongMatrix = np.matrix([[0,0],[0,0]])\n",
    "\n",
    "for i in range(0,len(data2)):    \n",
    "    if first_predictions[i] == second_predictions[i] == data2[i,0]:      # M1 = M2 = True\n",
    "        CorrectWrongMatrix[0,0] += 1\n",
    "    if first_predictions[i] == second_predictions[i] != data2[i,0]:      # M1 != M2 != True\n",
    "        CorrectWrongMatrix[1,1] += 1\n",
    "    if first_predictions[i] == data2[i,0] != second_predictions[i]:      # M1 = True != M2\n",
    "        CorrectWrongMatrix[0,1] += 1\n",
    "    if second_predictions[i] == data2[i,0] != first_predictions[i]:      # M2 = True != M1\n",
    "        CorrectWrongMatrix[1,0] += 1\n",
    "        \n",
    "print(CorrectWrongMatrix)"
   ]
  },
  {
   "cell_type": "markdown",
   "metadata": {},
   "source": [
    "Our Null Hypothesis $H_0$ is that the performances of our two classifiers are not significantly different at a significance level of 0.05, i.e. both models have a probability of 50% of wrongly classifying an observation while the other is correct."
   ]
  },
  {
   "cell_type": "code",
   "execution_count": 51,
   "metadata": {},
   "outputs": [
    {
     "name": "stdout",
     "output_type": "stream",
     "text": [
      "The p-value is 0.003\n"
     ]
    }
   ],
   "source": [
    "from scipy.stats import binom\n",
    "\n",
    "# N = observations for which the two classifiers give different predictions\n",
    "N = CorrectWrongMatrix[0,1]+CorrectWrongMatrix[1,0]\n",
    "\n",
    "# According to the null hypothesis, both models have a probability of 50% of wrongly classifying an observation while \n",
    "# the other is correct.\n",
    "b = binom(N,0.5)    \n",
    "\n",
    "p_value = b.cdf(min(CorrectWrongMatrix[0,1],CorrectWrongMatrix[1,0])) + (1-b.cdf(max(CorrectWrongMatrix[0,1],CorrectWrongMatrix[1,0])-1))\n",
    "print('The p-value is {:.3f}'.format(p_value))"
   ]
  },
  {
   "cell_type": "markdown",
   "metadata": {},
   "source": [
    "The p-value that we have obtained is way lower than the threshold of 0.05. Then we can reject the null hypothesis $H_0$: the performances of the two models are statistically different at a significance level of 0.05. In particular, as we've already seen from AUC, ROC curves and Accuracy, the first classifier performs better than the second one."
   ]
  },
  {
   "cell_type": "markdown",
   "metadata": {},
   "source": [
    "## Example two-sided sign test\n",
    "\n",
    "Imagine you have a lucky coin, that you are certain does not result in heads 50% of the times you flip it. However, you friend (lets call him *zero_hypothesis*) claims that your coin is just like his random coin. To verify whether this is true, you decide to compare the performance (you are a scientist after all) of your lucky coin resulting in heads to the performance of his random coin resulting in heads with a sign test. How do you do this?\n",
    "\n",
    "First, you collect data. Assume you place 23 bets. During those 23 bets, you both flip your respective coins. It was determined that if one of you flipped head while the other didn't, that person won the bet, and the other person lost. If you both got the same outcome, neither of you won. 1 stands for head, and 0 for tails. These were your results:"
   ]
  },
  {
   "cell_type": "code",
   "execution_count": 52,
   "metadata": {
    "scrolled": true
   },
   "outputs": [
    {
     "name": "stdout",
     "output_type": "stream",
     "text": [
      "----------lucky | random \n",
      " bet 0      | 1 | 0\n",
      " bet 1      | 1 | 1\n",
      " bet 2      | 1 | 0\n",
      " bet 3      | 0 | 1\n",
      " bet 4      | 1 | 0\n",
      " bet 5      | 1 | 1\n",
      " bet 6      | 1 | 0\n",
      " bet 7      | 1 | 0\n",
      " bet 8      | 1 | 0\n",
      " bet 9      | 0 | 1\n",
      " bet 10     | 1 | 0\n",
      " bet 11     | 1 | 1\n",
      " bet 12     | 1 | 0\n",
      " bet 13     | 1 | 1\n",
      " bet 14     | 0 | 1\n",
      " bet 15     | 1 | 1\n",
      " bet 16     | 1 | 1\n",
      " bet 17     | 0 | 0\n",
      " bet 18     | 1 | 0\n",
      " bet 19     | 1 | 0\n",
      " bet 20     | 1 | 0\n",
      " bet 21     | 0 | 0\n",
      " bet 22     | 1 | 0\n",
      " -----\n",
      "\n"
     ]
    }
   ],
   "source": [
    "import numpy as np\n",
    "from scipy.stats import binom\n",
    "import matplotlib.pyplot as plt\n",
    "\n",
    "#results\n",
    "lucky_coin = np.array([1,1,1,0,1,1,1,1,1,0,1,1,1,1,0,1,1,0,1,1,1,0,1])\n",
    "random_coin= np.array([0,1,0,1,0,1,0,0,0,1,0,1,0,1,1,1,1,0,0,0,0,0,0])\n",
    "\n",
    "print('----------lucky | random \\n',*['bet {:<5}  | {} | {}\\n'.format(t[0],t[1],t[2]) for t in zip(range(0,len(lucky_coin)),lucky_coin,random_coin)],'-----\\n')"
   ]
  },
  {
   "cell_type": "markdown",
   "metadata": {},
   "source": [
    "Now you calculate how often in any pair of outcomes one coin *won*, i.e. one coin flipped to head while the other flipped to tails."
   ]
  },
  {
   "cell_type": "code",
   "execution_count": 53,
   "metadata": {},
   "outputs": [
    {
     "name": "stdout",
     "output_type": "stream",
     "text": [
      "The lucky coin won 12 times, while the random won 3 times.\n"
     ]
    }
   ],
   "source": [
    "N_l = sum((lucky_coin == 1) & (random_coin == 0)) #how often your lucky coin won\n",
    "N_r = sum((lucky_coin == 0) & (random_coin == 1)) #how often the random coin won\n",
    "N = N_l + N_r #how often one coin was a winner\n",
    "print('The lucky coin won {} times, while the random won {} times.'.format(N_l,N_r))"
   ]
  },
  {
   "cell_type": "markdown",
   "metadata": {},
   "source": [
    "You observed 15 times that one coin won. If both coins resulted in heads 50% of the time, like *zero_hypothesis* stated, you'd expect that both coins have 50% chance of being the winner. So the probability distributions for both N_l and N_r should look something like this, assuming that *zero_hypothesis* is right:"
   ]
  },
  {
   "cell_type": "code",
   "execution_count": 54,
   "metadata": {},
   "outputs": [
    {
     "data": {
      "image/png": "[encoded data removed]",
      "text/plain": [
       "<Figure size 432x288 with 1 Axes>"
      ]
     },
     "metadata": {
      "needs_background": "light"
     },
     "output_type": "display_data"
    }
   ],
   "source": [
    "b = binom(N,0.5) #N=observations of inequality, p=prob of one coin being better, which is 0.5 according to your H0\n",
    "plt.plot(b.pmf(range(N+1)), '--o',label = 'Probability density')\n",
    "plt.plot(b.cdf(range(N+1)), '--o',label = 'Cumulative distribution')\n",
    "plt.legend()\n",
    "plt.xlabel('Number of times one coin is better than the other')\n",
    "plt.ylabel('Probability')\n",
    "plt.title('Distribution according to H0')\n",
    "plt.show()"
   ]
  },
  {
   "cell_type": "markdown",
   "metadata": {},
   "source": [
    "(Of course this is a discrete probability function, so you're not interested in values between integers.)\n",
    "\n",
    "As you can see, according to *zero_hypothesis*, 7 and 8 are the most likely values for both N_l and N_r. But this is not what you observed in your data. To conclude that *H0* is false, you need to show that your outcome is unlikely under the assumption that *H0* is true: the values you observed are so extreme that these values or more extreme values occur less than 5% of the time (*p-value < 0.05*). So how unlikely is it that one coin is better 12 times or more, and the other is better 3 times or less?\n",
    "\n",
    "It's the sum of the values of the probability density function (pdf or pmf in the python doc) at  0,1,2 and 3, plus the sum of the values of the pdf at 12,13,14 and 15. \n",
    "\n",
    "This is equal to the value of the cumulative distribution function (cdf) at 3, plus 1 minus the value of cdf at 11 (since `1-cdf(11)` represents the probability of observing 12 or bigger)."
   ]
  },
  {
   "cell_type": "code",
   "execution_count": 55,
   "metadata": {},
   "outputs": [
    {
     "name": "stdout",
     "output_type": "stream",
     "text": [
      "The p-value is 0.035\n"
     ]
    }
   ],
   "source": [
    "p_value = b.cdf(min(N_r,N_l)) + (1-b.cdf(max(N_r,N_l)-1))\n",
    "print('The p-value is {:.3f}'.format(p_value))"
   ]
  },
  {
   "cell_type": "markdown",
   "metadata": {},
   "source": [
    "So your observations are very unlikely if *zero_hypothesis* is right. By statistical theory, you can now say that you have significant reason to reject their opinion. Now the hardest part of statistics: convincing your non-scientist friends."
   ]
  }
 ],
 "metadata": {
  "anaconda-cloud": {},
  "kernelspec": {
   "display_name": "Python 3",
   "language": "python",
   "name": "python3"
  },
  "language_info": {
   "codemirror_mode": {
    "name": "ipython",
    "version": 3
   },
   "file_extension": ".py",
   "mimetype": "text/x-python",
   "name": "python",
   "nbconvert_exporter": "python",
   "pygments_lexer": "ipython3",
   "version": "3.7.3"
  }
 },
 "nbformat": 4,
 "nbformat_minor": 1
}
