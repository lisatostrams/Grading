{
 "cells": [
  {
   "cell_type": "markdown",
   "metadata": {},
   "source": [
    "# Assignment 3\n",
    "\n",
    "## Objective of this assignment\n",
    "The objective of this exercise is to become familiar with fitting decision trees and\n",
    "making ROC curves in Python.\n",
    "\n",
    "\n",
    "## ** Important: ** When handing in your homework:\n",
    "+ Hand in the notebook **(and nothing else)** named as follows: StudentName1_snumber_StudentName2_snumber.ipynb\n",
    "+ Provide clear and complete answers to the questions below under a separate header (not hidden somewhere in your source code), and make sure to explain your answers / motivate your choices. Add Markdown cells where necessary.\n",
    "+ Source code, output graphs, derivations, etc., should be included in the notebook.\n",
    "+ Hand-in: upload to Brightspace.\n",
    "+ Include name, student number, assignment (especially in filenames)!\n",
    "+ When working in pairs only one of you should upload the assignment, and report the name of your partner in your filename.\n",
    "+ Use the Brightspace discussion board or email the student assistants for questions on how to complete the exercises.\n",
    "+ If you find mistakes/have suggestions/would like to complain about the assigment material itself, please email me [Lisa] at `l.tostrams@science.ru.nl`\n",
    "\n",
    "\n",
    "## Advised Reading and Exercise Material\n",
    "**The following reading material is recommended:**\n",
    "\n",
    "Pang-Ning Tan, Michael Steinbach, and Vipin Kumar, Introduction to Data Mining, section 4.1-4.6, as well as the included article on ROC curves.\n"
   ]
  },
  {
   "cell_type": "markdown",
   "metadata": {},
   "source": [
    "## 3.1 Decision trees\n",
    "\n",
    "In this part of the exercise we will fit decision trees using the scikitlearn classifier\n",
    "`sklearn.tree.DecisionTreeClassifier`. As a splitting criterion, the function uses\n",
    "one of the following two impurity measures:\n",
    "\n",
    "\\begin{equation} \\textrm{gdi}(t) = -\\sum_{i=1}^C p(i|t)^2 \\quad \\text{       equivalent to Gini(t)} \\end{equation}   \n",
    "\n",
    "\\begin{equation}\n",
    "\\textrm{deviance}(t) = -2\\sum_{i=1}^C p(i|t) \\log p(i|t) \\quad \\text{equivalent to Entropy(t)} \n",
    "\\end{equation}\n",
    "\n",
    "We will analyze the wine data we have used previously. The wine data set has the following attributes, all of which are continuous: \n",
    "\n",
    "\n",
    "| #             | Attribute     | Unit  |\n",
    "| ------------- |:-------------| -----:|\n",
    "|1 | Fixed acidity (tartaric) | g/dm$^3$ |\n",
    "|2 | Volatile acidity (acetic) | g/dm$^3$ |\n",
    "|3 | Citric acid | g/dm$^3$ |\n",
    "|4 | Residual sugar | g/dm$^3$ |\n",
    "|5 | Chlorides | g/dm$^3$ |\n",
    "|6 | Free sulfur dioxide | mg/dm$^3$ |\n",
    "|7 | Total sulfur dioxide | mg/dm$^3$ |\n",
    "|8 | Density | g/cm$^3$ |\n",
    "|9 | pH | pH |\n",
    "|10 | Sulphates | g/dm$^3$ |\n",
    "|11 | Alcohol | % vol. | \n",
    "\n",
    "\n",
    "#### 3.1.1\n",
    "(0.5 pts) Load the wine data set `Data/wine.mat` using the `scipy.io` `loadmat` function. This contains the same data as used in the earlier assignment, but with outliers and the 12th attribute already removed. Create data matrix $X$, class vector $y$, and the lists $attributeNames$ and $classNames$ with the data provided in the `wine.mat` file. Print out the  $attributeNames$ and $classNames$ to make sure it's a list of strings.\n",
    "\n",
    "   ** hints: **   \n",
    "*The object in wine.mat is a dictionary. The attributes are stored in matrix $X$, the class in vector $y$. $y$ is shaped as an array containing single element arrays. To flatten $y$, you can use `y.ravel()`, which unravels matrices into a 1d array. Attribute names and class names are stored in the attributeNames and classNames objects, which contain arrays, of which the first element contains the names. To get the names from those arrays, you can use list comprehension or for-loops. For more on list comprehension, check https://www.digitalocean.com/community/tutorials/understanding-list-comprehensions-in-python-3. For example, if you have an larger array containing nested arrays of which you want the first element, you can try `new_array = [nested_array[0] for nested_array in larger_array]`.*\n",
    "\n"
   ]
  },
  {
   "cell_type": "code",
   "execution_count": 280,
   "metadata": {},
   "outputs": [
    {
     "name": "stdout",
     "output_type": "stream",
     "text": [
      "Quirine Donckers (S1048750),  Joost Verhaert(S1047220)\n",
      " \n",
      "{'__header__': b'MATLAB 5.0 MAT-file, Platform: GLNXA64, Created on: Tue Mar  8 14:01:55 2011', '__version__': '1.0', '__globals__': [], 'X': array([[ 7.4 ,  0.7 ,  0.  , ...,  3.51,  0.56,  9.4 ],\n",
      "       [ 7.8 ,  0.88,  0.  , ...,  3.2 ,  0.68,  9.8 ],\n",
      "       [ 7.8 ,  0.76,  0.04, ...,  3.26,  0.65,  9.8 ],\n",
      "       ...,\n",
      "       [ 6.5 ,  0.24,  0.19, ...,  2.99,  0.46,  9.4 ],\n",
      "       [ 5.5 ,  0.29,  0.3 , ...,  3.34,  0.38, 12.8 ],\n",
      "       [ 6.  ,  0.21,  0.38, ...,  3.26,  0.32, 11.8 ]]), 'attributeNames': array([[array(['Fixed acidity'], dtype='<U13'),\n",
      "        array(['Volatile acidity'], dtype='<U16'),\n",
      "        array(['Citric acid'], dtype='<U11'),\n",
      "        array(['Residual sugar'], dtype='<U14'),\n",
      "        array(['Chlorides'], dtype='<U9'),\n",
      "        array(['Free sulfur dioxide'], dtype='<U19'),\n",
      "        array(['Total sulfur dioxide'], dtype='<U20'),\n",
      "        array(['Density'], dtype='<U7'), array(['pH'], dtype='<U2'),\n",
      "        array(['Sulphates'], dtype='<U9'),\n",
      "        array(['Alcohol'], dtype='<U7')]], dtype=object), 'y': array([[0],\n",
      "       [0],\n",
      "       [0],\n",
      "       ...,\n",
      "       [1],\n",
      "       [1],\n",
      "       [1]], dtype=uint8), 'classNames': array([[array(['Red'], dtype='<U3')],\n",
      "       [array(['White'], dtype='<U5')]], dtype=object), 'N': array([[6304]], dtype=uint16), 'M': array([[11]], dtype=uint8), 'C': array([[2]], dtype=uint8)}\n",
      "<class 'numpy.str_'>\n",
      "['Fixed acidity', 'Volatile acidity', 'Citric acid', 'Residual sugar', 'Chlorides', 'Free sulfur dioxide', 'Total sulfur dioxide', 'Density', 'pH', 'Sulphates', 'Alcohol']\n",
      "['Red', 'White']\n"
     ]
    }
   ],
   "source": [
    "print(\"Quirine Donckers (S1048750),  Joost Verhaert(S1047220)\")\n",
    "print(\" \")\n",
    "\n",
    "import numpy as np\n",
    "import scipy.io\n",
    "import matplotlib.pyplot as plt\n",
    "%matplotlib inline\n",
    "\n",
    "df = scipy.io.loadmat('C:/Users/Joost/Documents/Radboud/Data Mining/Assignment_3/Assignment_3/Data/wine.mat')\n",
    "print(df)\n",
    "\n",
    "X = np.array(df['X'])\n",
    "#print(X)\n",
    "\n",
    "y = np.array(df['y'])\n",
    "#y.ravel()\n",
    "#print(y)\n",
    "\n",
    "attributes = df['attributeNames'][0]\n",
    "attributeNames = []\n",
    "for i in range(len(attributes)):\n",
    "    attributeNames.append(attributes[i][0])\n",
    "#confirm it is a string\n",
    "print(type(attributeNames[0]))\n",
    "print(attributeNames)\n",
    "\n",
    "classes = df['classNames'][:,0]\n",
    "classNames = []\n",
    "for i in range(len(classes)):\n",
    "    classNames.append(classes[i][0])\n",
    "#confirm it is a string\n",
    "print(classNames)"
   ]
  },
  {
   "cell_type": "markdown",
   "metadata": {},
   "source": [
    "#### 3.1.2\n",
    " (1.5 pts) Fit a decision tree to the wine data in order to estimate if the wine is red or white. Use the Gini (gdi) splitting criterion. Use `min_samples_split=100` for the stopping criterion. Explain what happens when you change the values of the parameter `min_samples_split`. After fitting the tree, visualize it with the tree_print function in `treeprint.py` in the Toolbox folder. \n",
    "\n",
    "** hints: **   \n",
    "*The `treeprint.py` file contains some documentation on how to use it. Helpfull documentation for the DecisionTreeClassifier function can be found at * http://scikit-learn.org/stable/modules/tree.html#classification  \n",
    "\n"
   ]
  },
  {
   "cell_type": "code",
   "execution_count": 258,
   "metadata": {
    "scrolled": false
   },
   "outputs": [
    {
     "name": "stdout",
     "output_type": "stream",
     "text": [
      "         |->3  White\n",
      "         |\n",
      "      |->2 then if Sulphates =< 0.56: go to 3, else go to 4\n",
      "      |  |\n",
      "      |  |->4  White\n",
      "      |\n",
      "   |->1 then if Chlorides =< 0.05: go to 2, else go to 5\n",
      "   |  |\n",
      "   |  |  |->6  White\n",
      "   |  |  |\n",
      "   |  |->5 else if Sulphates =< 0.37: go to 6, else go to 7\n",
      "   |     |\n",
      "   |     |  |->8  White\n",
      "   |     |  |\n",
      "   |     |->7 else if Density =< 0.99: go to 8, else go to 9\n",
      "   |        |\n",
      "   |        |     |->11  White\n",
      "   |        |     |\n",
      "   |        |  |->10 then if Residual sugar =< 1.10: go to 11, else go to 12\n",
      "   |        |  |  |\n",
      "   |        |  |  |  |->13  Red\n",
      "   |        |  |  |  |\n",
      "   |        |  |  |->12 else if Density =< 0.99: go to 13, else go to 14\n",
      "   |        |  |     |\n",
      "   |        |  |     |  |->15  Red\n",
      "   |        |  |     |  |\n",
      "   |        |  |     |->14 else if Chlorides =< 0.05: go to 15, else go to 16\n",
      "   |        |  |        |\n",
      "   |        |  |        |  |->17  Red\n",
      "   |        |  |        |  |\n",
      "   |        |  |        |->16 else if Sulphates =< 0.45: go to 17, else go to 18\n",
      "   |        |  |           |\n",
      "   |        |  |           |->18  Red\n",
      "   |        |  |\n",
      "   |        |->9 else if Residual sugar =< 10.70: go to 10, else go to 19\n",
      "   |           |\n",
      "   |           |->19  White\n",
      "   |\n",
      "if Total sulfur dioxide =< 66.50: go to 1, else go to 20\n",
      "   |\n",
      "   |                 |->26  Red\n",
      "   |                 |\n",
      "   |              |->25 then if Chlorides =< 0.01: go to 26, else go to 27\n",
      "   |              |  |\n",
      "   |              |  |        |->30  White\n",
      "   |              |  |        |\n",
      "   |              |  |     |->29 then if Citric acid =< 0.10: go to 30, else go to 31\n",
      "   |              |  |     |  |\n",
      "   |              |  |     |  |  |->32  White\n",
      "   |              |  |     |  |  |\n",
      "   |              |  |     |  |->31 else if Total sulfur dioxide =< 72.50: go to 32, else go to 33\n",
      "   |              |  |     |     |\n",
      "   |              |  |     |     |  |->34  White\n",
      "   |              |  |     |     |  |\n",
      "   |              |  |     |     |->33 else if Residual sugar =< 0.92: go to 34, else go to 35\n",
      "   |              |  |     |        |\n",
      "   |              |  |     |        |        |->38  White\n",
      "   |              |  |     |        |        |\n",
      "   |              |  |     |        |     |->37 then if Free sulfur dioxide =< 6.50: go to 38, else go to 39\n",
      "   |              |  |     |        |     |  |\n",
      "   |              |  |     |        |     |  |        |->42  White\n",
      "   |              |  |     |        |     |  |        |\n",
      "   |              |  |     |        |     |  |     |->41 then if pH =< 3.31: go to 42, else go to 43\n",
      "   |              |  |     |        |     |  |     |  |\n",
      "   |              |  |     |        |     |  |     |  |->43  White\n",
      "   |              |  |     |        |     |  |     |\n",
      "   |              |  |     |        |     |  |  |->40 then if Citric acid =< 0.23: go to 41, else go to 44\n",
      "   |              |  |     |        |     |  |  |  |\n",
      "   |              |  |     |        |     |  |  |  |->44  White\n",
      "   |              |  |     |        |     |  |  |\n",
      "   |              |  |     |        |     |  |->39 else if Sulphates =< 0.75: go to 40, else go to 45\n",
      "   |              |  |     |        |     |     |\n",
      "   |              |  |     |        |     |     |->45  White\n",
      "   |              |  |     |        |     |\n",
      "   |              |  |     |        |  |->36 then if Alcohol =< 13.58: go to 37, else go to 46\n",
      "   |              |  |     |        |  |  |\n",
      "   |              |  |     |        |  |  |->46  White\n",
      "   |              |  |     |        |  |\n",
      "   |              |  |     |        |->35 else if Sulphates =< 0.78: go to 36, else go to 47\n",
      "   |              |  |     |           |\n",
      "   |              |  |     |           |->47  White\n",
      "   |              |  |     |\n",
      "   |              |  |  |->28 then if Total sulfur dioxide =< 275.00: go to 29, else go to 48\n",
      "   |              |  |  |  |\n",
      "   |              |  |  |  |->48  White\n",
      "   |              |  |  |\n",
      "   |              |  |->27 else if Sulphates =< 0.81: go to 28, else go to 49\n",
      "   |              |     |\n",
      "   |              |     |->49  White\n",
      "   |              |\n",
      "   |           |->24 then if pH =< 3.83: go to 25, else go to 50\n",
      "   |           |  |\n",
      "   |           |  |->50  Red\n",
      "   |           |\n",
      "   |        |->23 then if Chlorides =< 0.07: go to 24, else go to 51\n",
      "   |        |  |\n",
      "   |        |  |->51  White\n",
      "   |        |\n",
      "   |     |->22 then if Sulphates =< 1.12: go to 23, else go to 52\n",
      "   |     |  |\n",
      "   |     |  |->52  Red\n",
      "   |     |\n",
      "   |  |->21 then if Volatile acidity =< 0.82: go to 22, else go to 53\n",
      "   |  |  |\n",
      "   |  |  |->53  Red\n",
      "   |  |\n",
      "   |->20 else if Chlorides =< 0.07: go to 21, else go to 54\n",
      "      |\n",
      "      |     |->56  Red\n",
      "      |     |\n",
      "      |  |->55 then if Citric acid =< 0.06: go to 56, else go to 57\n",
      "      |  |  |\n",
      "      |  |  |  |->58  Red\n",
      "      |  |  |  |\n",
      "      |  |  |->57 else if Chlorides =< 0.07: go to 58, else go to 59\n",
      "      |  |     |\n",
      "      |  |     |  |->60  Red\n",
      "      |  |     |  |\n",
      "      |  |     |->59 else if Total sulfur dioxide =< 68.50: go to 60, else go to 61\n",
      "      |  |        |\n",
      "      |  |        |  |->62  White\n",
      "      |  |        |  |\n",
      "      |  |        |->61 else if Fixed acidity =< 9.95: go to 62, else go to 63\n",
      "      |  |           |\n",
      "      |  |           |->63  Red\n",
      "      |  |\n",
      "      |->54 else if Density =< 1.00: go to 55, else go to 64\n",
      "         |\n",
      "         |        |->67  White\n",
      "         |        |\n",
      "         |     |->66 then if Volatile acidity =< 0.23: go to 67, else go to 68\n",
      "         |     |  |\n",
      "         |     |  |->68  Red\n",
      "         |     |\n",
      "         |  |->65 then if Total sulfur dioxide =< 157.50: go to 66, else go to 69\n",
      "         |  |  |\n",
      "         |  |  |->69  White\n",
      "         |  |\n",
      "         |->64 else if Residual sugar =< 6.25: go to 65, else go to 70\n",
      "            |\n",
      "            |->70  White\n",
      "<---------------------------------------------------------------------------------------->\n",
      "Tree Depth:  18\n"
     ]
    }
   ],
   "source": [
    "from Toolbox.treeprint import tree_print\n",
    "#import operator\n",
    "from sklearn import tree\n",
    "# X = [[0, 0], [1, 1]]\n",
    "# Y = [0, 1]\n",
    "clf = tree.DecisionTreeClassifier(min_samples_split=100)\n",
    "clf = clf.fit(X, y)\n",
    "\n",
    "tree_print(clf, attributeNames, classNames)\n",
    "    \n",
    "#     "
   ]
  },
  {
   "cell_type": "markdown",
   "metadata": {},
   "source": [
    "----\n",
    "The smaller the min_sample split, the larger the depth of the tree. The tree stops earlier than when the sample split would be for instance 10.\n",
    "\n",
    "|min_samples_split |  treedepth|\n",
    "| ---------------- |:---------:|\n",
    "|10                |         21|\n",
    "|100               |         18|\n",
    "|1000              |         17|  \n",
    "\n",
    "Thereby, in this particular case the amount of split expands drastically by decreasing the sample splits.\n",
    "\n",
    "|min_samples_split    |    # of splits|\n",
    "| ------------------- |:-------------:|\n",
    "|10                   |             67|\n",
    "|100                  |             34|\n",
    "|1000                 |             25|\n",
    "\n",
    "----"
   ]
  },
  {
   "cell_type": "markdown",
   "metadata": {},
   "source": [
    "#### 3.1.3\n",
    "\n",
    "(0.5 pts) Show that a wine with the following attribute values would be classified as white by the tree fitted in 3.1.2, by applying the `predict()` function from the DecisionTreeClassifier to this sample.  Have another look at the visualized tree. Which attributes are used to classify this wine? \n",
    "\n",
    "| #             | Attribute     | Value  |\n",
    "| ------------- |:-------------| -----:|\n",
    "|1 | Fixed acidity (tartaric) | 6.9 g/dm$^3$ |\n",
    "|2 | Volatile acidity (acetic) | 1.09 g/dm$^3$ |\n",
    "|3 | Citric acid | 0.06 g/dm$^3$ |\n",
    "|4 | Residual sugar | 2.1 g/dm$^3$ |\n",
    "|5 | Chlorides | 0.0061 g/dm$^3$ |\n",
    "|6 | Free sulfur dioxide | 12 mg/dm$^3$ |\n",
    "|7 | Total sulfur dioxide | 31 mg/dm$^3$ |\n",
    "|8 | Density | 0.99 g/cm$^3$ |\n",
    "|9 | pH | 3.5 |\n",
    "|10 | Sulphates | 0.64 g/dm$^3$ |\n",
    "|11 | Alcohol | 12 % vol. | \n",
    "\n",
    "** hints: **\n",
    "*If you don't know how to classify input values with a tree, see the help documentation for the DecisionTreeClassifier function on how to predict the label for a sample. *"
   ]
  },
  {
   "cell_type": "code",
   "execution_count": 259,
   "metadata": {},
   "outputs": [
    {
     "name": "stdout",
     "output_type": "stream",
     "text": [
      "The wine with these ( [6.9, 1.09, 0.06, 2.1, 0.0061, 12, 31, 0.99, 3.5, 0.64, 12] ) characteristics is White\n"
     ]
    }
   ],
   "source": [
    "Values = [6.9, 1.09, 0.06, 2.1, 0.0061, 12, 31, 0.99, 3.5, 0.64, 12]\n",
    "clf.predict([Values])\n",
    "g = clf.predict([Values])\n",
    "print(\"The wine with these (\", Values, \") characteristics is\", classNames[g[0]])"
   ]
  },
  {
   "cell_type": "markdown",
   "metadata": {},
   "source": [
    "----\n",
    "Total sulfur dioxide > Chlorides  > Sulphates (it chooses to go to 4)\n",
    "\n",
    "You conclude, when the sample gets to the chlorides with value lower than 0.05, the wine is white. \n",
    "\n",
    "----"
   ]
  },
  {
   "cell_type": "markdown",
   "metadata": {},
   "source": [
    "#### 3.1.4\n",
    "(1 pts) Classify all the wines in the wine data set. What percentage of the wine data is classified correctly by the tree?\n",
    "\n"
   ]
  },
  {
   "cell_type": "code",
   "execution_count": 263,
   "metadata": {},
   "outputs": [
    {
     "name": "stdout",
     "output_type": "stream",
     "text": [
      "6203 of the predictions made are correct\n",
      "101 of the predictions made are incorrect\n",
      "\n",
      "The percentage of correct classified wines is 98.4 %\n"
     ]
    }
   ],
   "source": [
    "predictions = []\n",
    "for i in X:\n",
    "    s = (clf.predict([i]))\n",
    "    predictions.append(s[0])\n",
    "    \n",
    "# print(predictions)\n",
    "correct = 0\n",
    "incorrect = 0\n",
    "\n",
    "for i in range(len(predictions)):\n",
    "    if predictions[i] == y[i]:\n",
    "        correct += 1\n",
    "    else:\n",
    "        incorrect += 1\n",
    "#print(\"Amount correct: \", correct, \"Amount incorrect: \", incorrect)\n",
    "\n",
    "print(correct, \"of the predictions made are correct\")\n",
    "print(incorrect, \"of the predictions made are incorrect\")\n",
    "print('')\n",
    "print(\"The percentage of correct classified wines is\", round((float(correct)/len(predictions))*100,2), \"%\")\n",
    "\n",
    "    \n",
    "#percentage = (correct/len(X)) * 100\n",
    "#print(percentage)"
   ]
  },
  {
   "cell_type": "markdown",
   "metadata": {},
   "source": [
    "----\n",
    "98.6 percent of the predicted wines are the same as the corresponding value in y. So 98.6 percent is classified correctly by the tree. \n",
    "----"
   ]
  },
  {
   "cell_type": "markdown",
   "metadata": {},
   "source": [
    "## 3.2 Decision tree pruning using cross-validation\n",
    "\n",
    "In this exercise we will use cross-validation to prune a decision tree. When applying cross-validation the observed data is split into training and test sets, i.e., `X_train`, `y_train` and `X_test` and `y_test`. We train the model on the training data and evaluate the performance of the trained model on the test data.\n",
    "\n",
    "#### 3.2.1\n",
    "(2 pts) We are again using the wine data set `Data/wine.mat`. Divide the data into a training and a test data set (see hints!). Fit a decision tree to the training data using the Gini (`gdi`) splitting criterion.\n",
    "\n",
    "Now, we want to find an optimally pruned decision tree by *modifying its maximum depth*. For different values of the parameter `depth` (from 2 to 20), \n",
    "+ first fit the decision tree\n",
    "+ then compute the classification error on the training and test set (this is called holdout cross-validation)\n",
    "\n",
    "When you've done this for `depth` values 2,...,20, plot the training and test classification error as a function of the tree depth in the same figure. This will show us what the optimal pruning depth is for the training set, but also how well this generalizes to a test set. \n",
    "\n",
    "\n",
    "** hints: **  \n",
    "*Take a look at the module `sklearn.model_selection` and see how it can be used to partition the data into a training and a test set (holdout validation, `train_test_split()` function). Note that the package also contains functions to partition data for K-fold cross-validation. Some of the functions can ensure that both training and test sets have roughly the same class proportions. The error is 1-accuracy. The easiest way to compute the accuracy is by using the sklearn metrics module: \n",
    " https://scikit-learn.org/stable/modules/generated/sklearn.metrics.accuracy_score.html *\n",
    "\n",
    "What appears to be the optimal tree depth? Do you get the same result when you run your code again, generating a new random split between training and test data?\n"
   ]
  },
  {
   "cell_type": "code",
   "execution_count": 264,
   "metadata": {},
   "outputs": [
    {
     "name": "stdout",
     "output_type": "stream",
     "text": [
      "4728\n",
      "1576\n"
     ]
    }
   ],
   "source": [
    "from sklearn.model_selection import train_test_split\n",
    "from sklearn.model_selection import cross_val_score\n",
    "X_train, X_test, y_train, y_test = train_test_split(X, y)\n",
    "print(len(X_train))\n",
    "print(len(X_test))\n",
    "#print(len(y_train))\n",
    "# print(y_test)\n",
    "\n",
    "test_errors = []\n",
    "train_errors = []\n",
    "depth = []\n",
    "#ScoreTrain = []\n",
    "for i in range (2,20+1):\n",
    "    clf = tree.DecisionTreeClassifier(min_samples_split=100, max_depth = i)\n",
    "    clf = clf.fit(X_train, y_train)\n",
    "    \n",
    "    test_predictions = clf.predict(X_test)\n",
    "    train_predictions = clf.predict(X_train)\n",
    "    \n",
    "    test_accuracy = accuracy_score(y_test, test_predictions)\n",
    "    train_accuracy = accuracy_score(y_train, train_predictions)\n",
    "    \n",
    "    test_error = 1 - test_accuracy\n",
    "    train_error = 1 - train_accuracy\n",
    "    \n",
    "    depth.append(i)\n",
    "    test_errors.append(test_error)\n",
    "    train_errors.append(train_error)\n",
    "#print(test_errors)\n",
    "#print(train_errors)\n",
    "    #train_accuracy = accuracy_score(y_train, train_predictions)\n",
    "    #scores = cross_val_score(train_tree, X_train, y_train, cv=i)\n",
    "    #ScoreTrain.append([i,train_accuracy])\n",
    "#tree_print(train_tree, attributeNames, classNames)\n",
    "\n",
    "\n",
    "#for k in ScoreTrain:\n",
    "#    print(k)\n",
    "#\n",
    "#ScoreTest = []\n",
    "#for i in range (2,20+1):\n",
    "#    test_tree = tree.DecisionTreeClassifier(min_samples_split=100, max_depth = i)\n",
    "#    test_tree = test_tree.fit(X_test, y_test)\n",
    "#    test_accuracy = accuracy_score(y_test, test_predictions)\n",
    "#    scores = cross_val_score(test_tree, X_test, y_test, cv=i)\n",
    "#    ScoreTest.append([i,test_accuracy])\n",
    "#tree_print(test_tree, attributeNames, classNames)\n",
    "#\n",
    "#for k in ScoreTest:\n",
    "#    print(k)\n",
    "\n",
    "# train_tree.score(X_train, y_train)"
   ]
  },
  {
   "cell_type": "code",
   "execution_count": 265,
   "metadata": {},
   "outputs": [
    {
     "data": {
      "text/plain": [
       "Text(0.5, 1.0, 'Train error versus test error')"
      ]
     },
     "execution_count": 265,
     "metadata": {},
     "output_type": "execute_result"
    },
    {
     "data": {
      "image/png": "[encoded data removed]",
      "text/plain": [
       "<Figure size 432x288 with 1 Axes>"
      ]
     },
     "metadata": {
      "needs_background": "light"
     },
     "output_type": "display_data"
    }
   ],
   "source": [
    "errors = [test_errors, train_errors]\n",
    "errors_labels = [\"test_errors\", \"train_errors\"]\n",
    "colors = ['orange','b']\n",
    "line = [\":\", \"-.\"]\n",
    "markers =  ['o', '*']\n",
    "count = 0\n",
    "for i in errors:\n",
    "    plt.plot(depth, i, marker = markers[count], ls= line[count],color = colors[count], label = errors_labels[count])\n",
    "    count += 1 \n",
    "\n",
    "plt.legend()\n",
    "plt.ylabel('Classification error')\n",
    "plt.xlabel('Depth of the decision tree')\n",
    "plt.title('Train error versus test error')"
   ]
  },
  {
   "cell_type": "markdown",
   "metadata": {},
   "source": [
    "-----\n",
    "The optimum gets better by increasing the depth of the tree till a depth of 5 / 6. It gets more specific when the depth is deeper and thereby better. The graph changes when the split is made again. The split is random and therefore the values will differ.  "
   ]
  },
  {
   "cell_type": "markdown",
   "metadata": {},
   "source": [
    "#### 3.2.2\n",
    "(1.5 pts) Repeat the exercise above, using 10-fold cross-validation. K-fold cross-validation works by splitting X into K partitions of equal length. Then in each fold, you choose K-1 partitions as the training set and the remaining partition as the test set. Every partition gets a turn being a test set. For a very nice simple explanation of how (and why) K-fold works, check out http://www.dummies.com/programming/big-data/data-science/resorting-cross-validation-machine-learning/\n",
    "\n",
    "\n",
    "For each fold, fit a decision tree on the training set and evaluate its performance on the test set. Finally, compute the average classification errors on the test- and training sets across the 10 cross-validation folds and plot them as a function of the tree depth.\n",
    "\n",
    "** hints: **\n",
    "*This time the `KFold()` function from the module `sklearn.model_selection` can be used to partition the data into the 10 training and test partitions. Check out http://scikit-learn.org/stable/modules/cross_validation.html#k-fold for an example of how to acces the indices for the training set and the test set in each fold. Those indices can then be used to create the training and test set, e.g. `X_train = X[train_indices]`*\n",
    "\n",
    "*If you are creating a for loop iterating over an object where you both need the index and the elements of the object, you can enumerate the object. For example:*\n",
    "\n",
    "`\n",
    "for index, (element) in enumerate(object):\n",
    "    array[index] = operation(element)\n",
    "`\n",
    " \n",
    "\n",
    "What appears to be the optimal tree depth? Do you get the same result when you run your code again, generating a new random split between training and test data? How about 100-fold cross-validation?\n"
   ]
  },
  {
   "cell_type": "code",
   "execution_count": 266,
   "metadata": {},
   "outputs": [
    {
     "data": {
      "text/plain": [
       "Text(0.5, 1.0, 'Train error versus test error')"
      ]
     },
     "execution_count": 266,
     "metadata": {},
     "output_type": "execute_result"
    },
    {
     "data": {
      "image/png": "[encoded data removed]",
      "text/plain": [
       "<Figure size 432x288 with 1 Axes>"
      ]
     },
     "metadata": {
      "needs_background": "light"
     },
     "output_type": "display_data"
    }
   ],
   "source": [
    "from sklearn.model_selection import train_test_split\n",
    "from sklearn.model_selection import cross_val_score\n",
    "from sklearn.model_selection import KFold\n",
    "kf = KFold(n_splits=2)\n",
    "for train, test in kf.split(X):\n",
    "#     print(len(train))\n",
    "#     print(len(test))\n",
    "    X_train, X_test = X[train], X[test]\n",
    "    y_train, y_test = y[train], y[test]\n",
    "#print(kf)\n",
    "#X_train, X_test, y_train, y_test = train_test_split(X, y)\n",
    "#print(len(X_train))\n",
    "#print(len(X_test))\n",
    "#print(len(y_train))\n",
    "# print(y_test)\n",
    "\n",
    "test_errors = []\n",
    "train_errors = []\n",
    "depth = []\n",
    "#ScoreTrain = []\n",
    "for i in range (2,20+1):\n",
    "    clf = tree.DecisionTreeClassifier(min_samples_split=100, max_depth = i)\n",
    "    clf = clf.fit(X_train, y_train)\n",
    "    \n",
    "    test_predictions = clf.predict(X_test)\n",
    "    train_predictions = clf.predict(X_train)\n",
    "    \n",
    "    test_accuracy = accuracy_score(y_test, test_predictions)\n",
    "    train_accuracy = accuracy_score(y_train, train_predictions)\n",
    "    \n",
    "    test_error = 1 - test_accuracy\n",
    "    train_error = 1 - train_accuracy\n",
    "    \n",
    "    depth.append(i)\n",
    "    test_errors.append(test_error)\n",
    "    train_errors.append(train_error)\n",
    "errors = [test_errors, train_errors]\n",
    "errors_labels = [\"test_errors\", \"train_errors\"]\n",
    "colors = ['orange','b']\n",
    "line = [\":\", \"-.\"]\n",
    "markers =  ['o', '*']\n",
    "count = 0\n",
    "for i in errors:\n",
    "    plt.plot(depth, i, marker = markers[count], ls= line[count],color = colors[count], label = errors_labels[count])\n",
    "    count += 1 \n",
    "\n",
    "plt.legend()\n",
    "plt.ylabel('Classification error')\n",
    "plt.xlabel('Depth of the decision tree')\n",
    "plt.title('Train error versus test error')"
   ]
  },
  {
   "cell_type": "markdown",
   "metadata": {},
   "source": [
    "----\n",
    "The optimal tree depth when applying Kfold is depth of 5. You get the same output running the code the second time. The k-fold function does not contain randomness. When the k-fold is equal to 100 the optimal doesn't really change after reached the tree depth of 4.\n",
    "\n",
    "----"
   ]
  },
  {
   "cell_type": "markdown",
   "metadata": {},
   "source": [
    " ## 3.3 ROC curves, AUC scores, and the sign test\n",
    "\n",
    "In this exercise we will use ROC curves and the sign test to compare classifiers. Study the lecture slides and the paper 'ROC Graphs: Notes and Practical Considerations for Researchers' by Tom Fawcett included with the homework assignment (ROC101.pdf). It describes all you need to know (and much, much more..) about ROC curves. The method explained for computing the area under the curve is unnecessarily complicated. A simpler formula is:\n",
    "$$\n",
    "    \\mbox{AUC} = {1 \\over m n} \\sum_{i=1}^m \\sum_{j=1}^n \\mathbf{\\large 1}_{p_i > p_j} \\: .\n",
    "   $$\n",
    "Here $i$ runs over all $m$ data points with true label 1, and $j$ runs over all $n$ data points with true label $0$; $p_i$ and $p_j$ denote the probability score assigned by the classifier to data point $i$ and $j$, respectively. $\\mathbf{\\large 1}$ is the indicator function: it outputs $1$ if the condition (here $p_i > p_j$) is satisfied and $0$ otherwise. *Simply put: this formula computes how often the probability of a data point with true label 1 is higher than the probability of data points with true label 0. This is then divided by the total number of comparisons between probabilities.*\n",
    "    \n",
    "\n",
    "#### 3.3.1\n",
    "(0.25 pts) To make sure you understand how ROC works, make an ROC curve and calculate the AUC (on paper) with the following data:\n",
    "\n",
    "`\n",
    "labels = [0,0,0,1,0,1,1,0,1,1]\n",
    "classifier_probs = [0.1,0.2,0.3,0.4,0.5,0.6,0.7,0.8,0.9,0.99]\n",
    "`\n",
    "    \n",
    "What's the AUC you calculated? Do you think this classifier works well?\n"
   ]
  },
  {
   "cell_type": "markdown",
   "metadata": {},
   "source": [
    "----\n",
    "The AUC is equal to 0.84. A value of 0.5 is random guessing. This is of course a high value. But of the 100 tries you will probably guess around 16 wrong. This is a pretty high amount. It - of course - depends for which case it is used. Neverthenless, I think it is a fine close. Well working scores in our opinion are equal to values 0.9 and greater.\n",
    "\n",
    "----"
   ]
  },
  {
   "cell_type": "markdown",
   "metadata": {},
   "source": [
    "#### 3.3.2\n",
    "  Load the file `Data/classprobs.xls` using the Pandas `read_excel` function. Inspect the data and cast it to an array with the `.values` attribute. The first column gives the true class label (either 0 or 1). The second and third column give the probabilistic scores for two different classifiers. The higher this probability, the more certain the classifier is that the example belongs to class 1 (instead of class 0).\n"
   ]
  },
  {
   "cell_type": "code",
   "execution_count": 267,
   "metadata": {},
   "outputs": [
    {
     "data": {
      "text/plain": [
       "array([[0.887   , 0.79706 ],\n",
       "       [0.13591 , 0.099401],\n",
       "       [0.55549 , 0.65075 ],\n",
       "       [0.23876 , 0.50857 ],\n",
       "       [0.14542 , 0.23629 ],\n",
       "       [0.81876 , 0.48949 ],\n",
       "       [0.50594 , 0.038203],\n",
       "       [0.93954 , 0.23982 ],\n",
       "       [0.22339 , 0.62287 ],\n",
       "       [0.31219 , 0.57823 ],\n",
       "       [0.19486 , 0.61664 ],\n",
       "       [0.61471 , 0.5013  ],\n",
       "       [0.63854 , 0.75183 ],\n",
       "       [0.29924 , 0.33768 ],\n",
       "       [0.16546 , 0.44035 ],\n",
       "       [0.72124 , 0.44813 ],\n",
       "       [0.1088  , 0.37254 ],\n",
       "       [0.48676 , 0.25349 ],\n",
       "       [0.94156 , 0.64531 ],\n",
       "       [0.2968  , 0.53258 ],\n",
       "       [0.24267 , 0.26251 ],\n",
       "       [0.17043 , 0.44888 ],\n",
       "       [0.015464, 0.5467  ],\n",
       "       [0.30852 , 0.32406 ],\n",
       "       [0.11212 , 0.28476 ],\n",
       "       [0.29639 , 0.41658 ],\n",
       "       [0.97275 , 0.79959 ],\n",
       "       [0.58501 , 0.30657 ],\n",
       "       [0.12244 , 0.43778 ],\n",
       "       [0.87557 , 0.75815 ],\n",
       "       [0.76142 , 0.32031 ],\n",
       "       [0.14132 , 0.22986 ],\n",
       "       [0.86004 , 0.35583 ],\n",
       "       [0.13915 , 0.39455 ],\n",
       "       [0.18889 , 0.49216 ],\n",
       "       [0.96075 , 0.67214 ],\n",
       "       [0.83076 , 0.77401 ],\n",
       "       [0.089368, 0.11584 ],\n",
       "       [0.68199 , 0.61933 ],\n",
       "       [0.85489 , 0.57659 ],\n",
       "       [0.56139 , 0.63589 ],\n",
       "       [0.93078 , 0.41764 ],\n",
       "       [0.75955 , 0.54143 ],\n",
       "       [0.61855 , 0.61504 ],\n",
       "       [0.092059, 0.10315 ],\n",
       "       [0.67612 , 0.58934 ],\n",
       "       [0.63252 , 0.43285 ],\n",
       "       [0.31297 , 0.84436 ],\n",
       "       [0.82238 , 0.41054 ],\n",
       "       [0.51416 , 0.12823 ],\n",
       "       [0.99809 , 0.3195  ],\n",
       "       [0.72686 , 0.53859 ],\n",
       "       [0.55046 , 0.8621  ],\n",
       "       [0.25546 , 0.48115 ],\n",
       "       [0.94669 , 0.73634 ],\n",
       "       [0.27347 , 0.053111],\n",
       "       [0.31107 , 0.45811 ],\n",
       "       [0.24862 , 0.38683 ],\n",
       "       [0.50734 , 0.61375 ],\n",
       "       [0.43013 , 0.63192 ],\n",
       "       [0.52135 , 0.52524 ],\n",
       "       [0.85277 , 0.55801 ],\n",
       "       [0.68814 , 0.71352 ],\n",
       "       [0.034719, 0.18274 ],\n",
       "       [0.30511 , 0.75859 ],\n",
       "       [0.84431 , 0.65031 ],\n",
       "       [0.082462, 0.26048 ],\n",
       "       [0.018232, 0.45213 ],\n",
       "       [0.51123 , 0.54973 ],\n",
       "       [0.36436 , 0.64985 ],\n",
       "       [0.15529 , 0.44893 ],\n",
       "       [0.74259 , 0.43821 ],\n",
       "       [0.23423 , 0.47979 ],\n",
       "       [0.5569  , 0.41085 ],\n",
       "       [0.98439 , 0.6358  ],\n",
       "       [0.66793 , 0.14227 ],\n",
       "       [0.64618 , 0.72749 ],\n",
       "       [0.33115 , 0.41956 ],\n",
       "       [0.65452 , 0.65668 ],\n",
       "       [0.74047 , 0.50759 ],\n",
       "       [0.67109 , 0.48028 ],\n",
       "       [0.47944 , 0.30758 ],\n",
       "       [0.61722 , 0.68681 ],\n",
       "       [0.58154 , 0.74264 ],\n",
       "       [0.18569 , 0.62643 ],\n",
       "       [0.42642 , 0.11776 ],\n",
       "       [0.34196 , 0.27483 ],\n",
       "       [0.19386 , 0.31169 ],\n",
       "       [0.71375 , 0.49963 ],\n",
       "       [0.70223 , 0.52853 ],\n",
       "       [0.034833, 0.55323 ],\n",
       "       [0.28422 , 0.31598 ],\n",
       "       [0.78385 , 0.29664 ],\n",
       "       [0.93666 , 0.51497 ],\n",
       "       [0.83752 , 0.49083 ],\n",
       "       [0.11601 , 0.24568 ],\n",
       "       [0.85762 , 0.52682 ],\n",
       "       [0.3934  , 0.54303 ],\n",
       "       [0.21118 , 0.26469 ],\n",
       "       [0.60127 , 0.45642 ],\n",
       "       [0.87517 , 0.73298 ],\n",
       "       [0.27786 , 0.25315 ],\n",
       "       [0.26974 , 0.35386 ],\n",
       "       [0.014577, 0.3425  ],\n",
       "       [0.66804 , 0.33838 ],\n",
       "       [0.83725 , 0.61015 ],\n",
       "       [0.89512 , 0.79699 ],\n",
       "       [0.18806 , 0.25373 ]])"
      ]
     },
     "execution_count": 267,
     "metadata": {},
     "output_type": "execute_result"
    }
   ],
   "source": [
    "import pandas as pd\n",
    "from pandas import ExcelWriter\n",
    "from pandas import ExcelFile\n",
    "\n",
    "#importing the data by using pandas\n",
    "df = pd.read_excel(\"Data/classprobs.xls\", header = None)\n",
    "\n",
    "#adding headers to the data\n",
    "df.columns = [\"class_label\", \"prob_score1\", \"prob_score2\"]\n",
    "\n",
    "#df.dtypes\n",
    "\n",
    "#casting it to an array with the .values attribute\n",
    "df.values\n",
    "df.values[:,1:]\n",
    "\n",
    "\n",
    "#df['class_label']\n",
    "#print(data)\n",
    "\n",
    "\n",
    "\n"
   ]
  },
  {
   "cell_type": "markdown",
   "metadata": {},
   "source": [
    "#### 3.3.3\n",
    "(1 pts) Calculate the ROC curves for both of the classifiers by calculating the FP and TP rates and plot them in the same plot. Make the plot yourself as opposed to using a library! Also plot a dashed line on the diagonal to represent random guessing in the same figure. Interpret the obtained results. Do both classifiers perform better than random guessing?\n",
    "\n",
    "** hints: **  \n",
    "*The function `sklearn.metrics.roc_curve` can be used for computing the FP and TP rates. You can then plot them using the `matplotlib.pyplot` `plot` function. Check the documentation on how to plot a dashed line. Remember to include a legend!* \n",
    "\n",
    "**An extra tip: the sign test example below includes a figure with dashed lines and a legend...**\n",
    " "
   ]
  },
  {
   "cell_type": "code",
   "execution_count": 268,
   "metadata": {},
   "outputs": [
    {
     "name": "stdout",
     "output_type": "stream",
     "text": [
      "108\n",
      "108\n",
      "22\n",
      "[0.         0.01851852 0.62962963 0.62962963 0.66666667 0.66666667\n",
      " 0.7962963  0.7962963  0.85185185 0.85185185 0.88888889 0.88888889\n",
      " 0.90740741 0.90740741 0.92592593 0.92592593 0.94444444 0.94444444\n",
      " 0.98148148 0.98148148 1.         1.        ]\n",
      "51\n"
     ]
    },
    {
     "data": {
      "text/plain": [
       "Text(0.5, 1.0, 'ROC curve')"
      ]
     },
     "execution_count": 268,
     "metadata": {},
     "output_type": "execute_result"
    },
    {
     "data": {
      "image/png": "[encoded data removed]",
      "text/plain": [
       "<Figure size 432x288 with 1 Axes>"
      ]
     },
     "metadata": {
      "needs_background": "light"
     },
     "output_type": "display_data"
    }
   ],
   "source": [
    "#import numpy as np\n",
    "from sklearn import metrics\n",
    "# y = np.array([1, 1, 2, 2]) == df[\"class_label\"]\n",
    "print(len(df[\"prob_score1\"]))\n",
    "print(len(df[\"prob_score2\"]))\n",
    "# scores = np.array([0.1, 0.4, 0.35, 0.8])  == df[\"prob_score1\"] == df[\"prob_score2\"]\n",
    "fpr1, tpr1, thresholds1 = metrics.roc_curve(df[\"class_label\"], df[\"prob_score1\"], pos_label=1)\n",
    "fpr2, tpr2, thresholds2 = metrics.roc_curve(df[\"class_label\"], df[\"prob_score2\"], pos_label=1)\n",
    "print(len(fpr1))\n",
    "print(tpr1)\n",
    "print(len(fpr2))\n",
    "prob1 = [fpr1, tpr1]\n",
    "prob2 = [fpr2, tpr2]\n",
    "probs = [prob1,prob2]\n",
    "labels = [\"prob_score1\",\"prob_score2\"]\n",
    "\n",
    "#knowing which graph \n",
    "color = ['r', 'b']\n",
    "\n",
    "#this count is created to set the colors right and the labels correctly for the legend.\n",
    "count = 0\n",
    "for i in probs:\n",
    "    plt.plot(i[0], i[1], color[count], label = labels[count])\n",
    "    count += 1\n",
    "#adding diagonal line with color green and the label attached to it with \"Random_guess\"\n",
    "plt.plot([0, 1], [0, 1], ls=\"--\", color = 'g', label = \"Random_guess\")\n",
    "plt.legend()\n",
    "plt.xlabel('False posistive rate')\n",
    "plt.ylabel('True positive rate')\n",
    "plt.title('ROC curve')\n"
   ]
  },
  {
   "cell_type": "markdown",
   "metadata": {},
   "source": [
    "----\n",
    "Yes they both perform better than random guessing. You are also able to see that the probability score 1 has a better ROC and thereby also AUC score than the probability scores 2. \n",
    "\n",
    "----"
   ]
  },
  {
   "cell_type": "markdown",
   "metadata": {},
   "source": [
    "#### 3.3.4\n",
    "(0.5 pts) Compute the AUC scores (area under the curve) of both classifiers using the formula given above. **Write your own code for this calculation.** Do the AUC scores indicate that the classifiers are performing better than this baseline?\n",
    "\n",
    "\n",
    "\n",
    "\n",
    " "
   ]
  },
  {
   "cell_type": "code",
   "execution_count": 269,
   "metadata": {},
   "outputs": [
    {
     "name": "stdout",
     "output_type": "stream",
     "text": [
      "the area under the curve of probability score 1 is:  0.9564\n",
      "the area under the curve of probability score 2 is:  0.7654\n",
      "just to check:  0.9564\n",
      "just to check:  0.7654\n"
     ]
    }
   ],
   "source": [
    "import numpy as np\n",
    "from sklearn.metrics import roc_auc_score\n",
    "from sklearn.metrics import accuracy_score\n",
    "\n",
    "#you want to calculate the AUC for both the probability scores. Thus, two variabels start at value zero\n",
    "auc_prob_score1 = 0 \n",
    "auc_prob_score2 = 0\n",
    "\n",
    "#just to make it look a little nice you make two list of the variable you are calculating over. If this is not done you \n",
    "#probably have to write two loops apart from each other.\n",
    "fprates = [fpr1,fpr2]\n",
    "tprates = [tpr1,tpr2]\n",
    "\n",
    "#count is made for looping over the above made lists\n",
    "count = 0\n",
    "\n",
    "#you want to calculate both AUC\n",
    "for k in range(2):\n",
    "    #you are looping through all the fpr's per probability set\n",
    "    for i in range(len(fprates[count])-1):\n",
    "        #if count is one it means you calculate the AUC the formalu stated in the if/else statement.\n",
    "        #the auc_prob_score(k) is continuously increasing by multiplying the width of every fpr difference by the value of that \n",
    "        #fpr. So if the fpr value is 0.95 and this probability is realized with the probility between the tpr values\n",
    "        # of 0.5 and 0.7. Then, the 0.7 is substracted by the 0.5 and multiplied by the value of fpr. Thus, ((.7-.5)*0.95)\n",
    "        if count == 0:\n",
    "            auc_prob_score1 += (fprates[count][i+1]-fprates[count][i])*(tprates[count][i])\n",
    "        elif count == 1:\n",
    "            auc_prob_score2 += (fprates[count][i+1]-fprates[count][i])*(tprates[count][i])\n",
    "    count += 1 \n",
    "print(\"the area under the curve of probability score 1 is: \", round(auc_prob_score1,4))\n",
    "print(\"the area under the curve of probability score 2 is: \", round(auc_prob_score2,4))\n",
    "\n",
    "\n",
    "auc1 = roc_auc_score(df[\"class_label\"], df[\"prob_score1\"])\n",
    "print(\"just to check: \", round(auc1,4))\n",
    "\n",
    "auc2 = roc_auc_score(df[\"class_label\"], df[\"prob_score2\"])\n",
    "print(\"just to check: \", round(auc2,4))\n"
   ]
  },
  {
   "cell_type": "markdown",
   "metadata": {},
   "source": [
    "----\n",
    "They indeed show that it perform better than the baseline. The AUC of the baseline is 0.5. The area of 1 is divided up by 2 with a diagonal line. \n",
    "\n",
    "----"
   ]
  },
  {
   "cell_type": "markdown",
   "metadata": {},
   "source": [
    "\n",
    "#### 3.3.5\n",
    "(0.25 pts) Using a threshold of 0.5, translate the probability scores to predicted class labels, and compute the accuracy for each of the classifiers.\n",
    "\n",
    "** hint: **\n",
    "\n",
    "*Take a look at https://scikit-learn.org/stable/modules/generated/sklearn.metrics.accuracy_score.html *"
   ]
  },
  {
   "cell_type": "code",
   "execution_count": 270,
   "metadata": {},
   "outputs": [
    {
     "name": "stdout",
     "output_type": "stream",
     "text": [
      "accuracy score for classifier probability score 1 with a threshold of 0.5:  0.861\n",
      "accuracy score for classifier probability score 2 with a threshold of 0.5:  0.694\n"
     ]
    }
   ],
   "source": [
    "prob_score_1_th = []\n",
    "prob_score_2_th = []\n",
    "prob_scores_th =  [df[\"prob_score1\"], df[\"prob_score2\"]]\n",
    "\n",
    "count = 0\n",
    "for i in prob_scores_th:\n",
    "    for k in i:\n",
    "        if count ==0:\n",
    "            if k <=0.5:\n",
    "                prob_score_1_th.append(0)\n",
    "            else:\n",
    "                prob_score_1_th.append(1)\n",
    "        else:\n",
    "            if k <=0.5:\n",
    "                prob_score_2_th.append(0)\n",
    "            else:\n",
    "                prob_score_2_th.append(1)\n",
    "    count += 1\n",
    "            \n",
    "print(\"accuracy score for classifier probability score 1 with a threshold of 0.5: \", round(accuracy_score(df[\"class_label\"], prob_score_1_th),3))\n",
    "print(\"accuracy score for classifier probability score 2 with a threshold of 0.5: \", round(accuracy_score(df[\"class_label\"], prob_score_2_th),3))\n"
   ]
  },
  {
   "cell_type": "markdown",
   "metadata": {},
   "source": [
    "#### 3.3.6\n",
    "(1 pts) Create the 2x2 table (or array, or list, or dataframe..) of wrong and correct classifications by the first and the second classifier, like in the lecture slides (lecture on model evaluation, part on the sign test). Perform a sign test to test whether the performance of the two classifiers is significantly different at a significance level of 0.05. **If you are not familiar with sign testing, you can read the example provided below.**\n",
    "\n",
    "\n",
    "** hints: **  \n",
    "*As explained in the lecture slides, the sign test is a binomial test on the lower-left ($N_{1<2}$) and upper-right ($N_{1>2}$) elements of the cross table. Unlike in the lecture slides, here you need to perform a two-sided test: $$\\textrm{p-value} = P(W \\leq \\min(N_{1<2},N_{1>2}) \\textrm{ or } W \\geq  \\max(N_{1<2},N_{1>2})$$\n",
    "The function `scipy.stats.binom.cdf` can be used to compute the cumulative density of the binomial distribution.\n",
    "For more information on the sign test, see the included paper by Salzberg (signtest.pdf, in particular section 3.1).*"
   ]
  },
  {
   "cell_type": "code",
   "execution_count": 272,
   "metadata": {},
   "outputs": [
    {
     "name": "stdout",
     "output_type": "stream",
     "text": [
      "confusion matrix is shown as followed: \n",
      " [['tn', 'fp'], ['fn', 'tp']]\n",
      "confusion matrix of probability scores 1 : \n",
      " [[45  9]\n",
      " [ 6 48]]\n",
      "confusion matrix of probability scores 2 : \n",
      " [[40 14]\n",
      " [19 35]]\n",
      "The p-value of probability scores 1 with threshold 0.5 is 0.60723877\n",
      "The p-value of probability scores 2 with threshold 0.5 is 0.48685024\n"
     ]
    }
   ],
   "source": [
    "import numpy as np\n",
    "from scipy.stats import binom\n",
    "import matplotlib.pyplot as plt\n",
    "from sklearn.metrics import confusion_matrix\n",
    "\n",
    "threshold_scores = [prob_score_1_th, prob_score_2_th]\n",
    "count = 0\n",
    "confusion_ma = [[\"tn\", \"fp\"], [\"fn\", \"tp\"]]\n",
    "print(\"confusion matrix is shown as followed: \\n\", confusion_ma)\n",
    "for i in threshold_scores:\n",
    "    print(\"confusion matrix of probability scores\", count + 1, \": \\n\", confusion_matrix(df['class_label'], i))\n",
    "    count += 1\n",
    "\n",
    "\n",
    "# count = 0\n",
    "# false_positive = 0\n",
    "# false_negative = 0\n",
    "# true_positive = 0\n",
    "# true_negative = 0\n",
    "# for i in threshold_scores:\n",
    "#     for k in i:\n",
    "#         if df['class_label'][count] == 1:\n",
    "#             if df['class_label'][count] == k:\n",
    "#                 true_positive += 1\n",
    "#             else:    \n",
    "#                 false_positive += 1\n",
    "                \n",
    "#         else:\n",
    "#             if df['class_label'][count]  == k:\n",
    "#                 true_negative += 1\n",
    "#             else:    \n",
    "#                 false_negative += 1\n",
    "#         count += 1\n",
    "    \n",
    "# print(false_positive)\n",
    "#myarray = np.asarray(prob_score_1_th)\n",
    "#myarray2 = np.asarray(df['class_label'])\n",
    "#print((myarray == 1) & (myarray2== 0))\n",
    "# print(len(df['class_label']))\n",
    "# print(sum(df['class_label']))\n",
    "N_l1 = sum((np.asarray(prob_score_1_th) == 1) & (np.asarray(df['class_label'])== 0)) \n",
    "N_r1 = sum((np.asarray(prob_score_1_th) == 0) & (np.asarray(df['class_label'])== 1))\n",
    "N_l2 = sum((np.asarray(prob_score_2_th) == 1) & (np.asarray(df['class_label'])== 0)) \n",
    "N_r2 = sum((np.asarray(prob_score_2_th) == 0) & (np.asarray(df['class_label'])== 1)) \n",
    "N1 = N_l1 + N_r1\n",
    "\n",
    "#print(N_l1)\n",
    "#print(N_r1)\n",
    "b = binom(N1,0.5)\n",
    "p_value1 = b.cdf(min(N_r1,N_l1)) + (1-b.cdf(max(N_r1,N_l1)-1))\n",
    "print('The p-value of probability scores 1 with threshold 0.5 is {:.8f}'.format(p_value1))\n",
    "\n",
    "\n",
    "\n",
    "N2 = N_l2 + N_r2\n",
    "b = binom(N2,0.5)\n",
    "p_value2 = b.cdf(min(N_r2,N_l2)) + (1-b.cdf(max(N_r2,N_l2)-1))\n",
    "print('The p-value of probability scores 2 with threshold 0.5 is {:.8f}'.format(p_value2))"
   ]
  },
  {
   "cell_type": "markdown",
   "metadata": {},
   "source": [
    "----\n",
    "With both classifiers the P-value is not rejected. The p-value is above the significance level of 0.05. Thus, null-hypothesis is true. The alternative hypothesis is rejected.\n",
    "\n",
    "----"
   ]
  },
  {
   "cell_type": "markdown",
   "metadata": {},
   "source": [
    "## Example two-sided sign test\n",
    "\n",
    "Imagine you have a lucky coin, that you are certain does not result in heads 50% of the times you flip it. However, you friend (lets call him *zero_hypothesis*) claims that your coin is just like his random coin. To verify whether this is true, you decide to compare the performance (you are a scientist after all) of your lucky coin resulting in heads to the performance of his random coin resulting in heads with a sign test. How do you do this?\n",
    "\n",
    "First, you collect data. Assume you place 23 bets. During those 23 bets, you both flip your respective coins. It was determined that if one of you flipped head while the other didn't, that person won the bet, and the other person lost. If you both got the same outcome, neither of you won. 1 stands for head, and 0 for tails. These were your results:"
   ]
  },
  {
   "cell_type": "code",
   "execution_count": 245,
   "metadata": {},
   "outputs": [
    {
     "name": "stdout",
     "output_type": "stream",
     "text": [
      "9\n",
      "----------lucky | random \n",
      " bet 0      | 1 | 0\n",
      " bet 1      | 1 | 1\n",
      " bet 2      | 1 | 0\n",
      " bet 3      | 0 | 1\n",
      " bet 4      | 1 | 0\n",
      " bet 5      | 1 | 1\n",
      " bet 6      | 1 | 0\n",
      " bet 7      | 1 | 0\n",
      " bet 8      | 1 | 0\n",
      " bet 9      | 0 | 1\n",
      " bet 10     | 1 | 0\n",
      " bet 11     | 1 | 1\n",
      " bet 12     | 1 | 0\n",
      " bet 13     | 1 | 1\n",
      " bet 14     | 0 | 1\n",
      " bet 15     | 1 | 1\n",
      " bet 16     | 1 | 1\n",
      " bet 17     | 0 | 0\n",
      " bet 18     | 1 | 0\n",
      " bet 19     | 1 | 0\n",
      " bet 20     | 1 | 0\n",
      " bet 21     | 0 | 0\n",
      " bet 22     | 1 | 0\n",
      " -----\n",
      "\n"
     ]
    }
   ],
   "source": [
    "import numpy as np\n",
    "from scipy.stats import binom\n",
    "import matplotlib.pyplot as plt\n",
    "\n",
    "#results\n",
    "lucky_coin = np.array([1,1,1,0,1,1,1,1,1,0,1,1,1,1,0,1,1,0,1,1,1,0,1])\n",
    "random_coin= np.array([0,1,0,1,0,1,0,0,0,1,0,1,0,1,1,1,1,0,0,0,0,0,0])\n",
    "\n",
    "print('----------lucky | random \\n',*['bet {:<5}  | {} | {}\\n'.format(t[0],t[1],t[2]) for t in zip(range(0,len(lucky_coin)),lucky_coin,random_coin)],'-----\\n')"
   ]
  },
  {
   "cell_type": "markdown",
   "metadata": {},
   "source": [
    "Now you calculate how often in any pair of outcomes one coin *won*, i.e. one coin flipped to head while the other flipped to tails."
   ]
  },
  {
   "cell_type": "code",
   "execution_count": 180,
   "metadata": {},
   "outputs": [
    {
     "name": "stdout",
     "output_type": "stream",
     "text": [
      "The lucky coin won 12 times, while the random won 3 times.\n"
     ]
    }
   ],
   "source": [
    "N_l = sum((lucky_coin == 1) & (random_coin == 0)) #how often your lucky coin won\n",
    "N_r = sum((lucky_coin == 0) & (random_coin == 1)) #how often the random coin won\n",
    "N = N_l + N_r #how often one coin was a winner\n",
    "print('The lucky coin won {} times, while the random won {} times.'.format(N_l,N_r))"
   ]
  },
  {
   "cell_type": "markdown",
   "metadata": {},
   "source": [
    "You observed 15 times that one coin won. If both coins resulted in heads 50% of the time, like *zero_hypothesis* stated, you'd expect that both coins have 50% chance of being the winner. So the probability distributions for both N_l and N_r should look something like this, assuming that *zero_hypothesis* is right:"
   ]
  },
  {
   "cell_type": "code",
   "execution_count": 181,
   "metadata": {},
   "outputs": [
    {
     "data": {
      "image/png": "[encoded data removed]",
      "text/plain": [
       "<Figure size 432x288 with 1 Axes>"
      ]
     },
     "metadata": {
      "needs_background": "light"
     },
     "output_type": "display_data"
    }
   ],
   "source": [
    "b = binom(N,0.5) #N=observations of inequality, p=prob of one coin being better, which is 0.5 according to your H0\n",
    "plt.plot(b.pmf(range(N+1)), '--o',label = 'Probability density')\n",
    "plt.plot(b.cdf(range(N+1)), '--o',label = 'Cumulative distribution')\n",
    "plt.legend()\n",
    "plt.xlabel('Number of times one coin is better than the other')\n",
    "plt.ylabel('Probability')\n",
    "plt.title('Distribution according to H0')\n",
    "plt.show()"
   ]
  },
  {
   "cell_type": "markdown",
   "metadata": {},
   "source": [
    "(Of course this is a discrete probability function, so you're not interested in values between integers.)\n",
    "\n",
    "As you can see, according to *zero_hypothesis*, 7 and 8 are the most likely values for both N_l and N_r. But this is not what you observed in your data. To conclude that *H0* is false, you need to show that your outcome is unlikely under the assumption that *H0* is true: the values you observed are so extreme that these values or more extreme values occur less than 5% of the time (*p-value < 0.05*). So how unlikely is it that one coin is better 12 times or more, and the other is better 3 times or less?\n",
    "\n",
    "It's the sum of the values of the probability density function (pdf or pmf in the python doc) at  0,1,2 and 3, plus the sum of the values of the pdf at 12,13,14 and 15. \n",
    "\n",
    "This is equal to the value of the cumulative distribution function (cdf) at 3, plus 1 minus the value of cdf at 11 (since `1-cdf(11)` represents the probability of observing 12 or bigger)."
   ]
  },
  {
   "cell_type": "code",
   "execution_count": 182,
   "metadata": {},
   "outputs": [
    {
     "name": "stdout",
     "output_type": "stream",
     "text": [
      "The p-value is 0.035\n"
     ]
    }
   ],
   "source": [
    "p_value = b.cdf(min(N_r,N_l)) + (1-b.cdf(max(N_r,N_l)-1))\n",
    "print('The p-value is {:.3f}'.format(p_value))"
   ]
  },
  {
   "cell_type": "markdown",
   "metadata": {},
   "source": [
    "So your observations are very unlikely if *zero_hypothesis* is right. By statistical theory, you can now say that you have significant reason to reject their opinion. Now the hardest part of statistics: convincing your non-scientist friends."
   ]
  }
 ],
 "metadata": {
  "anaconda-cloud": {},
  "kernelspec": {
   "display_name": "Python 3",
   "language": "python",
   "name": "python3"
  },
  "language_info": {
   "codemirror_mode": {
    "name": "ipython",
    "version": 3
   },
   "file_extension": ".py",
   "mimetype": "text/x-python",
   "name": "python",
   "nbconvert_exporter": "python",
   "pygments_lexer": "ipython3",
   "version": "3.7.3"
  }
 },
 "nbformat": 4,
 "nbformat_minor": 1
}
