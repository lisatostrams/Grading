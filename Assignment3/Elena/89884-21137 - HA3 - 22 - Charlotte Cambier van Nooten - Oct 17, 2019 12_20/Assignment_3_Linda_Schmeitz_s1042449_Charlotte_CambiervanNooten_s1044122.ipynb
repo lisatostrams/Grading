{
 "cells": [
  {
   "cell_type": "markdown",
   "metadata": {},
   "source": [
    "# Assignment 3\n",
    "\n",
    "## Objective of this assignment\n",
    "The objective of this exercise is to become familiar with fitting decision trees and\n",
    "making ROC curves in Python.\n",
    "\n",
    "\n",
    "## ** Important: ** When handing in your homework:\n",
    "+ Hand in the notebook **(and nothing else)** named as follows: StudentName1_snumber_StudentName2_snumber.ipynb\n",
    "+ Provide clear and complete answers to the questions below under a separate header (not hidden somewhere in your source code), and make sure to explain your answers / motivate your choices. Add Markdown cells where necessary.\n",
    "+ Source code, output graphs, derivations, etc., should be included in the notebook.\n",
    "+ Hand-in: upload to Brightspace.\n",
    "+ Include name, student number, assignment (especially in filenames)!\n",
    "+ When working in pairs only one of you should upload the assignment, and report the name of your partner in your filename.\n",
    "+ Use the Brightspace discussion board or email the student assistants for questions on how to complete the exercises.\n",
    "+ If you find mistakes/have suggestions/would like to complain about the assigment material itself, please email me [Lisa] at `l.tostrams@science.ru.nl`\n",
    "\n",
    "\n",
    "## Advised Reading and Exercise Material\n",
    "**The following reading material is recommended:**\n",
    "\n",
    "Pang-Ning Tan, Michael Steinbach, and Vipin Kumar, Introduction to Data Mining, section 4.1-4.6, as well as the included article on ROC curves.\n"
   ]
  },
  {
   "cell_type": "markdown",
   "metadata": {},
   "source": [
    "## 3.1 Decision trees\n",
    "\n",
    "In this part of the exercise we will fit decision trees using the scikitlearn classifier\n",
    "`sklearn.tree.DecisionTreeClassifier`. As a splitting criterion, the function uses\n",
    "one of the following two impurity measures:\n",
    "\n",
    "\\begin{equation} \\textrm{gdi}(t) = -\\sum_{i=1}^C p(i|t)^2 \\quad \\text{       equivalent to Gini(t)} \\end{equation}   \n",
    "\n",
    "\\begin{equation}\n",
    "\\textrm{deviance}(t) = -2\\sum_{i=1}^C p(i|t) \\log p(i|t) \\quad \\text{equivalent to Entropy(t)} \n",
    "\\end{equation}\n",
    "\n",
    "We will analyze the wine data we have used previously. The wine data set has the following attributes, all of which are continuous: \n",
    "\n",
    "\n",
    "| #             | Attribute     | Unit  |\n",
    "| ------------- |:-------------| -----:|\n",
    "|1 | Fixed acidity (tartaric) | g/dm$^3$ |\n",
    "|2 | Volatile acidity (acetic) | g/dm$^3$ |\n",
    "|3 | Citric acid | g/dm$^3$ |\n",
    "|4 | Residual sugar | g/dm$^3$ |\n",
    "|5 | Chlorides | g/dm$^3$ |\n",
    "|6 | Free sulfur dioxide | mg/dm$^3$ |\n",
    "|7 | Total sulfur dioxide | mg/dm$^3$ |\n",
    "|8 | Density | g/cm$^3$ |\n",
    "|9 | pH | pH |\n",
    "|10 | Sulphates | g/dm$^3$ |\n",
    "|11 | Alcohol | % vol. | \n",
    "\n",
    "\n",
    "#### 3.1.1\n",
    "(0.5 pts) Load the wine data set `Data/wine.mat` using the `scipy.io` `loadmat` function. This contains the same data as used in the earlier assignment, but with outliers and the 12th attribute already removed. Create data matrix $X$, class vector $y$, and the lists $attributeNames$ and $classNames$ with the data provided in the `wine.mat` file. Print out the  $attributeNames$ and $classNames$ to make sure it's a list of strings.\n",
    "\n",
    "   ** hints: **   \n",
    "*The object in wine.mat is a dictionary. The attributes are stored in matrix $X$, the class in vector $y$. $y$ is shaped as an array containing single element arrays. To flatten $y$, you can use `y.ravel()`, which unravels matrices into a 1d array. Attribute names and class names are stored in the attributeNames and classNames objects, which contain arrays, of which the first element contains the names. To get the names from those arrays, you can use list comprehension or for-loops. For more on list comprehension, check https://www.digitalocean.com/community/tutorials/understanding-list-comprehensions-in-python-3. For example, if you have an larger array containing nested arrays of which you want the first element, you can try `new_array = [nested_array[0] for nested_array in larger_array]`.*\n",
    "\n"
   ]
  },
  {
   "cell_type": "code",
   "execution_count": 49,
   "metadata": {},
   "outputs": [
    {
     "name": "stdout",
     "output_type": "stream",
     "text": [
      "List of attribute names: \n",
      " ['Fixed acidity', 'Volatile acidity', 'Citric acid', 'Residual sugar', 'Chlorides', 'Free sulfur dioxide', 'Total sulfur dioxide', 'Density', 'pH', 'Sulphates', 'Alcohol']\n",
      "List of class names: \n",
      " ['Red', 'White']\n",
      "Matrix X: \n",
      " [[ 7.4   0.7   0.   ...  3.51  0.56  9.4 ]\n",
      " [ 7.8   0.88  0.   ...  3.2   0.68  9.8 ]\n",
      " [ 7.8   0.76  0.04 ...  3.26  0.65  9.8 ]\n",
      " ...\n",
      " [ 6.5   0.24  0.19 ...  2.99  0.46  9.4 ]\n",
      " [ 5.5   0.29  0.3  ...  3.34  0.38 12.8 ]\n",
      " [ 6.    0.21  0.38 ...  3.26  0.32 11.8 ]]\n",
      "Class vector y: \n",
      " [0 0 0 ... 1 1 1]\n"
     ]
    }
   ],
   "source": [
    "import scipy as scipy\n",
    "import scipy.io as sio\n",
    "from scipy import stats\n",
    "import matplotlib.pyplot as plt\n",
    "import numpy as np\n",
    " \n",
    "mat = sio.loadmat('Data/wine.mat')\n",
    "#print(mat)\n",
    "\n",
    "def attributeNames ():\n",
    "    arrayNames = []\n",
    "    length = len(mat['attributeNames'][0])\n",
    "    for i in range(length):\n",
    "        arrayNames.append(mat['attributeNames'][0][i][0]) \n",
    "    return arrayNames\n",
    "\n",
    "def classNames ():\n",
    "    arrayNames = []\n",
    "    length = len(mat['classNames'])\n",
    "    for i in range(length):\n",
    "        arrayNames.append(mat['classNames'][i][0][0]) \n",
    "    return arrayNames\n",
    "\n",
    "list_attributes = attributeNames()\n",
    "print(\"List of attribute names: \\n\", list_attributes)\n",
    "\n",
    "list_classes = classNames()\n",
    "print(\"List of class names: \\n\", list_classes)\n",
    "\n",
    "matrix_X = mat['X']\n",
    "print('Matrix X: \\n', matrix_X)\n",
    "\n",
    "class_y = mat['y']\n",
    "class_y = class_y.ravel()\n",
    "print('Class vector y: \\n', class_y)\n"
   ]
  },
  {
   "cell_type": "markdown",
   "metadata": {},
   "source": [
    "#### 3.1.2\n",
    " (1.5 pts) Fit a decision tree to the wine data in order to estimate if the wine is red or white. Use the Gini (gdi) splitting criterion. Use `min_samples_split=100` for the stopping criterion. Explain what happens when you change the values of the parameter `min_samples_split`. After fitting the tree, visualize it with the tree_print function in `treeprint.py` in the Toolbox folder. \n",
    "\n",
    "** hints: **   \n",
    "*The `treeprint.py` file contains some documentation on how to use it. Helpfull documentation for the DecisionTreeClassifier function can be found at * http://scikit-learn.org/stable/modules/tree.html#classification  \n",
    "\n"
   ]
  },
  {
   "cell_type": "code",
   "execution_count": 53,
   "metadata": {
    "scrolled": false
   },
   "outputs": [
    {
     "name": "stdout",
     "output_type": "stream",
     "text": [
      "         |->3  White\n",
      "         |\n",
      "      |->2 then if Sulphates =< 0.56: go to 3, else go to 4\n",
      "      |  |\n",
      "      |  |->4  White\n",
      "      |\n",
      "   |->1 then if Chlorides =< 0.05: go to 2, else go to 5\n",
      "   |  |\n",
      "   |  |  |->6  White\n",
      "   |  |  |\n",
      "   |  |->5 else if Sulphates =< 0.37: go to 6, else go to 7\n",
      "   |     |\n",
      "   |     |  |->8  White\n",
      "   |     |  |\n",
      "   |     |->7 else if Density =< 0.99: go to 8, else go to 9\n",
      "   |        |\n",
      "   |        |     |->11  White\n",
      "   |        |     |\n",
      "   |        |  |->10 then if Residual sugar =< 1.10: go to 11, else go to 12\n",
      "   |        |  |  |\n",
      "   |        |  |  |  |->13  Red\n",
      "   |        |  |  |  |\n",
      "   |        |  |  |->12 else if Density =< 0.99: go to 13, else go to 14\n",
      "   |        |  |     |\n",
      "   |        |  |     |  |->15  Red\n",
      "   |        |  |     |  |\n",
      "   |        |  |     |->14 else if Chlorides =< 0.05: go to 15, else go to 16\n",
      "   |        |  |        |\n",
      "   |        |  |        |  |->17  Red\n",
      "   |        |  |        |  |\n",
      "   |        |  |        |->16 else if Sulphates =< 0.45: go to 17, else go to 18\n",
      "   |        |  |           |\n",
      "   |        |  |           |->18  Red\n",
      "   |        |  |\n",
      "   |        |->9 else if Residual sugar =< 10.70: go to 10, else go to 19\n",
      "   |           |\n",
      "   |           |->19  White\n",
      "   |\n",
      "if Total sulfur dioxide =< 66.50: go to 1, else go to 20\n",
      "   |\n",
      "   |                 |->26  Red\n",
      "   |                 |\n",
      "   |              |->25 then if Chlorides =< 0.01: go to 26, else go to 27\n",
      "   |              |  |\n",
      "   |              |  |        |->30  White\n",
      "   |              |  |        |\n",
      "   |              |  |     |->29 then if Citric acid =< 0.10: go to 30, else go to 31\n",
      "   |              |  |     |  |\n",
      "   |              |  |     |  |  |->32  White\n",
      "   |              |  |     |  |  |\n",
      "   |              |  |     |  |->31 else if Total sulfur dioxide =< 72.50: go to 32, else go to 33\n",
      "   |              |  |     |     |\n",
      "   |              |  |     |     |  |->34  White\n",
      "   |              |  |     |     |  |\n",
      "   |              |  |     |     |->33 else if Residual sugar =< 0.92: go to 34, else go to 35\n",
      "   |              |  |     |        |\n",
      "   |              |  |     |        |        |->38  White\n",
      "   |              |  |     |        |        |\n",
      "   |              |  |     |        |     |->37 then if Free sulfur dioxide =< 6.50: go to 38, else go to 39\n",
      "   |              |  |     |        |     |  |\n",
      "   |              |  |     |        |     |  |        |->42  White\n",
      "   |              |  |     |        |     |  |        |\n",
      "   |              |  |     |        |     |  |     |->41 then if pH =< 3.31: go to 42, else go to 43\n",
      "   |              |  |     |        |     |  |     |  |\n",
      "   |              |  |     |        |     |  |     |  |->43  White\n",
      "   |              |  |     |        |     |  |     |\n",
      "   |              |  |     |        |     |  |  |->40 then if Citric acid =< 0.23: go to 41, else go to 44\n",
      "   |              |  |     |        |     |  |  |  |\n",
      "   |              |  |     |        |     |  |  |  |->44  White\n",
      "   |              |  |     |        |     |  |  |\n",
      "   |              |  |     |        |     |  |->39 else if Sulphates =< 0.75: go to 40, else go to 45\n",
      "   |              |  |     |        |     |     |\n",
      "   |              |  |     |        |     |     |->45  White\n",
      "   |              |  |     |        |     |\n",
      "   |              |  |     |        |  |->36 then if Alcohol =< 13.58: go to 37, else go to 46\n",
      "   |              |  |     |        |  |  |\n",
      "   |              |  |     |        |  |  |->46  White\n",
      "   |              |  |     |        |  |\n",
      "   |              |  |     |        |->35 else if Sulphates =< 0.78: go to 36, else go to 47\n",
      "   |              |  |     |           |\n",
      "   |              |  |     |           |->47  White\n",
      "   |              |  |     |\n",
      "   |              |  |  |->28 then if Total sulfur dioxide =< 275.00: go to 29, else go to 48\n",
      "   |              |  |  |  |\n",
      "   |              |  |  |  |->48  White\n",
      "   |              |  |  |\n",
      "   |              |  |->27 else if Sulphates =< 0.81: go to 28, else go to 49\n",
      "   |              |     |\n",
      "   |              |     |->49  White\n",
      "   |              |\n",
      "   |           |->24 then if pH =< 3.83: go to 25, else go to 50\n",
      "   |           |  |\n",
      "   |           |  |->50  Red\n",
      "   |           |\n",
      "   |        |->23 then if Chlorides =< 0.07: go to 24, else go to 51\n",
      "   |        |  |\n",
      "   |        |  |->51  White\n",
      "   |        |\n",
      "   |     |->22 then if Sulphates =< 1.12: go to 23, else go to 52\n",
      "   |     |  |\n",
      "   |     |  |->52  Red\n",
      "   |     |\n",
      "   |  |->21 then if Volatile acidity =< 0.82: go to 22, else go to 53\n",
      "   |  |  |\n",
      "   |  |  |->53  Red\n",
      "   |  |\n",
      "   |->20 else if Chlorides =< 0.07: go to 21, else go to 54\n",
      "      |\n",
      "      |     |->56  Red\n",
      "      |     |\n",
      "      |  |->55 then if Citric acid =< 0.06: go to 56, else go to 57\n",
      "      |  |  |\n",
      "      |  |  |  |->58  Red\n",
      "      |  |  |  |\n",
      "      |  |  |->57 else if Chlorides =< 0.07: go to 58, else go to 59\n",
      "      |  |     |\n",
      "      |  |     |  |->60  Red\n",
      "      |  |     |  |\n",
      "      |  |     |->59 else if Total sulfur dioxide =< 68.50: go to 60, else go to 61\n",
      "      |  |        |\n",
      "      |  |        |  |->62  White\n",
      "      |  |        |  |\n",
      "      |  |        |->61 else if Fixed acidity =< 9.95: go to 62, else go to 63\n",
      "      |  |           |\n",
      "      |  |           |->63  Red\n",
      "      |  |\n",
      "      |->54 else if Density =< 1.00: go to 55, else go to 64\n",
      "         |\n",
      "         |        |->67  White\n",
      "         |        |\n",
      "         |     |->66 then if Volatile acidity =< 0.23: go to 67, else go to 68\n",
      "         |     |  |\n",
      "         |     |  |->68  Red\n",
      "         |     |\n",
      "         |  |->65 then if Total sulfur dioxide =< 157.50: go to 66, else go to 69\n",
      "         |  |  |\n",
      "         |  |  |->69  White\n",
      "         |  |\n",
      "         |->64 else if Residual sugar =< 6.25: go to 65, else go to 70\n",
      "            |\n",
      "            |->70  White\n",
      "<---------------------------------------------------------------------------------------->\n",
      "Tree Depth:  18\n"
     ]
    }
   ],
   "source": [
    "#from sklearn.tree import DecisionTreeClassifier\n",
    "from sklearn import tree\n",
    "from Toolbox import treeprint\n",
    "\n",
    "dt = tree.DecisionTreeClassifier(criterion='gini',min_samples_split=100)\n",
    "dt = dt.fit(matrix_X, class_y)\n",
    "treeprint.tree_print(dt, list_attributes, list_classes)"
   ]
  },
  {
   "cell_type": "markdown",
   "metadata": {},
   "source": [
    "----\n",
    "When lowering the sample split, the minimum number of samples required to split an internal node lowers. \n",
    "A minimum sample split too low results in overfitting. Too high results in underfitting. \n",
    "\n",
    "----"
   ]
  },
  {
   "cell_type": "markdown",
   "metadata": {},
   "source": [
    "#### 3.1.3\n",
    "\n",
    "(0.5 pts) Show that a wine with the following attribute values would be classified as white by the tree fitted in 3.1.2, by applying the `predict()` function from the DecisionTreeClassifier to this sample.  Have another look at the visualized tree. Which attributes are used to classify this wine? \n",
    "\n",
    "| #             | Attribute     | Value  |\n",
    "| ------------- |:-------------| -----:|\n",
    "|1 | Fixed acidity (tartaric) | 6.9 g/dm$^3$ |\n",
    "|2 | Volatile acidity (acetic) | 1.09 g/dm$^3$ |\n",
    "|3 | Citric acid | 0.06 g/dm$^3$ |\n",
    "|4 | Residual sugar | 2.1 g/dm$^3$ |\n",
    "|5 | Chlorides | 0.0061 g/dm$^3$ |\n",
    "|6 | Free sulfur dioxide | 12 mg/dm$^3$ |\n",
    "|7 | Total sulfur dioxide | 31 mg/dm$^3$ |\n",
    "|8 | Density | 0.99 g/cm$^3$ |\n",
    "|9 | pH | 3.5 |\n",
    "|10 | Sulphates | 0.64 g/dm$^3$ |\n",
    "|11 | Alcohol | 12 % vol. | \n",
    "\n",
    "** hints: **\n",
    "*If you don't know how to classify input values with a tree, see the help documentation for the DecisionTreeClassifier function on how to predict the label for a sample. *"
   ]
  },
  {
   "cell_type": "code",
   "execution_count": 63,
   "metadata": {},
   "outputs": [
    {
     "name": "stdout",
     "output_type": "stream",
     "text": [
      "         |->3  White\n",
      "         |\n",
      "      |->2 then if Sulphates =< 0.56: go to 3, else go to 4\n",
      "      |  |\n",
      "      |  |->4  White\n",
      "      |\n",
      "   |->1 then if Chlorides =< 0.05: go to 2, else go to 5\n",
      "   |  |\n",
      "   |  |  |->6  White\n",
      "   |  |  |\n",
      "   |  |->5 else if Sulphates =< 0.37: go to 6, else go to 7\n",
      "   |     |\n",
      "   |     |  |->8  White\n",
      "   |     |  |\n",
      "   |     |->7 else if Density =< 0.99: go to 8, else go to 9\n",
      "   |        |\n",
      "   |        |     |->11  White\n",
      "   |        |     |\n",
      "   |        |  |->10 then if Residual sugar =< 1.10: go to 11, else go to 12\n",
      "   |        |  |  |\n",
      "   |        |  |  |  |->13  Red\n",
      "   |        |  |  |  |\n",
      "   |        |  |  |->12 else if Density =< 0.99: go to 13, else go to 14\n",
      "   |        |  |     |\n",
      "   |        |  |     |  |->15  Red\n",
      "   |        |  |     |  |\n",
      "   |        |  |     |->14 else if Chlorides =< 0.05: go to 15, else go to 16\n",
      "   |        |  |        |\n",
      "   |        |  |        |  |->17  Red\n",
      "   |        |  |        |  |\n",
      "   |        |  |        |->16 else if Sulphates =< 0.45: go to 17, else go to 18\n",
      "   |        |  |           |\n",
      "   |        |  |           |->18  Red\n",
      "   |        |  |\n",
      "   |        |->9 else if Residual sugar =< 10.70: go to 10, else go to 19\n",
      "   |           |\n",
      "   |           |->19  White\n",
      "   |\n",
      "if Total sulfur dioxide =< 66.50: go to 1, else go to 20\n",
      "   |\n",
      "   |                 |->26  Red\n",
      "   |                 |\n",
      "   |              |->25 then if Chlorides =< 0.01: go to 26, else go to 27\n",
      "   |              |  |\n",
      "   |              |  |        |->30  White\n",
      "   |              |  |        |\n",
      "   |              |  |     |->29 then if Citric acid =< 0.10: go to 30, else go to 31\n",
      "   |              |  |     |  |\n",
      "   |              |  |     |  |  |->32  White\n",
      "   |              |  |     |  |  |\n",
      "   |              |  |     |  |->31 else if Total sulfur dioxide =< 72.50: go to 32, else go to 33\n",
      "   |              |  |     |     |\n",
      "   |              |  |     |     |  |->34  White\n",
      "   |              |  |     |     |  |\n",
      "   |              |  |     |     |->33 else if Residual sugar =< 0.92: go to 34, else go to 35\n",
      "   |              |  |     |        |\n",
      "   |              |  |     |        |        |->38  White\n",
      "   |              |  |     |        |        |\n",
      "   |              |  |     |        |     |->37 then if Free sulfur dioxide =< 6.50: go to 38, else go to 39\n",
      "   |              |  |     |        |     |  |\n",
      "   |              |  |     |        |     |  |        |->42  White\n",
      "   |              |  |     |        |     |  |        |\n",
      "   |              |  |     |        |     |  |     |->41 then if pH =< 3.31: go to 42, else go to 43\n",
      "   |              |  |     |        |     |  |     |  |\n",
      "   |              |  |     |        |     |  |     |  |->43  White\n",
      "   |              |  |     |        |     |  |     |\n",
      "   |              |  |     |        |     |  |  |->40 then if Citric acid =< 0.23: go to 41, else go to 44\n",
      "   |              |  |     |        |     |  |  |  |\n",
      "   |              |  |     |        |     |  |  |  |->44  White\n",
      "   |              |  |     |        |     |  |  |\n",
      "   |              |  |     |        |     |  |->39 else if Sulphates =< 0.75: go to 40, else go to 45\n",
      "   |              |  |     |        |     |     |\n",
      "   |              |  |     |        |     |     |->45  White\n",
      "   |              |  |     |        |     |\n",
      "   |              |  |     |        |  |->36 then if Alcohol =< 13.58: go to 37, else go to 46\n",
      "   |              |  |     |        |  |  |\n",
      "   |              |  |     |        |  |  |->46  White\n",
      "   |              |  |     |        |  |\n",
      "   |              |  |     |        |->35 else if Sulphates =< 0.78: go to 36, else go to 47\n",
      "   |              |  |     |           |\n",
      "   |              |  |     |           |->47  White\n",
      "   |              |  |     |\n",
      "   |              |  |  |->28 then if Total sulfur dioxide =< 275.00: go to 29, else go to 48\n",
      "   |              |  |  |  |\n",
      "   |              |  |  |  |->48  White\n",
      "   |              |  |  |\n",
      "   |              |  |->27 else if Sulphates =< 0.81: go to 28, else go to 49\n",
      "   |              |     |\n",
      "   |              |     |->49  White\n",
      "   |              |\n",
      "   |           |->24 then if pH =< 3.83: go to 25, else go to 50\n",
      "   |           |  |\n",
      "   |           |  |->50  Red\n",
      "   |           |\n",
      "   |        |->23 then if Chlorides =< 0.07: go to 24, else go to 51\n",
      "   |        |  |\n",
      "   |        |  |->51  White\n",
      "   |        |\n",
      "   |     |->22 then if Sulphates =< 1.12: go to 23, else go to 52\n",
      "   |     |  |\n",
      "   |     |  |->52  Red\n",
      "   |     |\n",
      "   |  |->21 then if Volatile acidity =< 0.82: go to 22, else go to 53\n",
      "   |  |  |\n",
      "   |  |  |->53  Red\n",
      "   |  |\n",
      "   |->20 else if Chlorides =< 0.07: go to 21, else go to 54\n",
      "      |\n",
      "      |     |->56  Red\n",
      "      |     |\n",
      "      |  |->55 then if Citric acid =< 0.06: go to 56, else go to 57\n",
      "      |  |  |\n",
      "      |  |  |  |->58  Red\n",
      "      |  |  |  |\n",
      "      |  |  |->57 else if Chlorides =< 0.07: go to 58, else go to 59\n",
      "      |  |     |\n",
      "      |  |     |  |->60  Red\n",
      "      |  |     |  |\n",
      "      |  |     |->59 else if Total sulfur dioxide =< 68.50: go to 60, else go to 61\n",
      "      |  |        |\n",
      "      |  |        |  |->62  White\n",
      "      |  |        |  |\n",
      "      |  |        |->61 else if Fixed acidity =< 9.95: go to 62, else go to 63\n",
      "      |  |           |\n",
      "      |  |           |->63  Red\n",
      "      |  |\n",
      "      |->54 else if Density =< 1.00: go to 55, else go to 64\n",
      "         |\n",
      "         |        |->67  White\n",
      "         |        |\n",
      "         |     |->66 then if Volatile acidity =< 0.23: go to 67, else go to 68\n",
      "         |     |  |\n",
      "         |     |  |->68  Red\n",
      "         |     |\n",
      "         |  |->65 then if Total sulfur dioxide =< 157.50: go to 66, else go to 69\n",
      "         |  |  |\n",
      "         |  |  |->69  White\n",
      "         |  |\n",
      "         |->64 else if Residual sugar =< 6.25: go to 65, else go to 70\n",
      "            |\n",
      "            |->70  White\n",
      "<---------------------------------------------------------------------------------------->\n",
      "Tree Depth:  18\n"
     ]
    }
   ],
   "source": [
    "X_attrivalues = [[6.9, 1.09, 0.06, 2.1, 0.0061, 12, 31, 0.99, 3.5, 0.64, 0.12]]\n",
    "dt = tree.DecisionTreeClassifier(criterion='gini',min_samples_split=100)\n",
    "dt = dt.fit(matrix_X, class_y)\n",
    "dt.predict(X_attrivalues)\n",
    "treeprint.tree_print(dt, list_attributes, list_classes)"
   ]
  },
  {
   "cell_type": "markdown",
   "metadata": {},
   "source": [
    "----\n",
    "Attributes used to classify the wine:\n",
    "- Total sulfur dioxide\n",
    "- 1. Chloride, \n",
    "- 2. Sulfphates, \n",
    "- 4. White.\n",
    "\n",
    "So it result in white wine.\n",
    "\n",
    "----"
   ]
  },
  {
   "cell_type": "markdown",
   "metadata": {},
   "source": [
    "#### 3.1.4\n",
    "(1 pts) Classify all the wines in the wine data set. What percentage of the wine data is classified correctly by the tree?\n",
    "\n"
   ]
  },
  {
   "cell_type": "code",
   "execution_count": 113,
   "metadata": {},
   "outputs": [
    {
     "name": "stdout",
     "output_type": "stream",
     "text": [
      "98.68337563451777\n"
     ]
    }
   ],
   "source": [
    "y_hat = dt.predict(matrix_X)\n",
    "#treeprint.tree_print(dt, list_attributes, list_classes)\n",
    "compare = np.where(y_hat==class_y)\n",
    "percentage = (len(compare[0])/len(class_y))*100\n",
    "print(percentage)"
   ]
  },
  {
   "cell_type": "markdown",
   "metadata": {},
   "source": [
    "----\n",
    "The percentage correctly classified is 98.68%.\n",
    "\n",
    "----"
   ]
  },
  {
   "cell_type": "markdown",
   "metadata": {},
   "source": [
    "## 3.2 Decision tree pruning using cross-validation\n",
    "\n",
    "In this exercise we will use cross-validation to prune a decision tree. When applying cross-validation the observed data is split into training and test sets, i.e., `X_train`, `y_train` and `X_test` and `y_test`. We train the model on the training data and evaluate the performance of the trained model on the test data.\n",
    "\n",
    "#### 3.2.1\n",
    "(2 pts) We are again using the wine data set `Data/wine.mat`. Divide the data into a training and a test data set (see hints!). Fit a decision tree to the training data using the Gini (`gdi`) splitting criterion.\n",
    "\n",
    "Now, we want to find an optimally pruned decision tree by *modifying its maximum depth*. For different values of the parameter `depth` (from 2 to 20), \n",
    "+ first fit the decision tree\n",
    "+ then compute the classification error on the training and test set (this is called holdout cross-validation)\n",
    "\n",
    "When you've done this for `depth` values 2,...,20, plot the training and test classification error as a function of the tree depth in the same figure. This will show us what the optimal pruning depth is for the training set, but also how well this generalizes to a test set. \n",
    "\n",
    "\n",
    "** hints: **  \n",
    "*Take a look at the module `sklearn.model_selection` and see how it can be used to partition the data into a training and a test set (holdout validation, `train_test_split()` function). Note that the package also contains functions to partition data for K-fold cross-validation. Some of the functions can ensure that both training and test sets have roughly the same class proportions. The error is 1-accuracy. The easiest way to compute the accuracy is by using the sklearn metrics module: \n",
    " https://scikit-learn.org/stable/modules/generated/sklearn.metrics.accuracy_score.html *\n",
    "\n",
    "What appears to be the optimal tree depth? Do you get the same result when you run your code again, generating a new random split between training and test data?\n"
   ]
  },
  {
   "cell_type": "code",
   "execution_count": 150,
   "metadata": {},
   "outputs": [
    {
     "name": "stdout",
     "output_type": "stream",
     "text": [
      "Max depth =  2\n",
      "Mean accurary : 0.048223350253807085\n",
      "\n",
      "\n",
      "Max depth =  3\n",
      "Mean accurary : 0.03172588832487311\n",
      "\n",
      "\n",
      "Max depth =  4\n",
      "Mean accurary : 0.017766497461928932\n",
      "\n",
      "\n",
      "Max depth =  5\n",
      "Mean accurary : 0.012690355329949221\n",
      "\n",
      "\n",
      "Max depth =  6\n",
      "Mean accurary : 0.011421319796954266\n",
      "\n",
      "\n",
      "Max depth =  7\n",
      "Mean accurary : 0.011421319796954266\n",
      "\n",
      "\n",
      "Max depth =  8\n",
      "Mean accurary : 0.010786802030456899\n",
      "\n",
      "\n",
      "Max depth =  9\n",
      "Mean accurary : 0.010786802030456899\n",
      "\n",
      "\n",
      "Max depth =  10\n",
      "Mean accurary : 0.010786802030456899\n",
      "\n",
      "\n",
      "Max depth =  11\n",
      "Mean accurary : 0.010152284263959421\n",
      "\n",
      "\n",
      "Max depth =  12\n",
      "Mean accurary : 0.010152284263959421\n",
      "\n",
      "\n",
      "Max depth =  13\n",
      "Mean accurary : 0.012055837563451743\n",
      "\n",
      "\n",
      "Max depth =  14\n",
      "Mean accurary : 0.010152284263959421\n",
      "\n",
      "\n",
      "Max depth =  15\n",
      "Mean accurary : 0.012055837563451743\n",
      "\n",
      "\n",
      "Max depth =  16\n",
      "Mean accurary : 0.011421319796954266\n",
      "\n",
      "\n",
      "Max depth =  17\n",
      "Mean accurary : 0.010152284263959421\n",
      "\n",
      "\n",
      "Max depth =  18\n",
      "Mean accurary : 0.010786802030456899\n",
      "\n",
      "\n",
      "Max depth =  19\n",
      "Mean accurary : 0.010152284263959421\n",
      "\n",
      "\n",
      "Max depth =  20\n",
      "Mean accurary : 0.010152284263959421\n",
      "\n",
      "\n"
     ]
    },
    {
     "data": {
      "image/png": "[encoded data removed]",
      "text/plain": [
       "<Figure size 432x288 with 1 Axes>"
      ]
     },
     "metadata": {
      "needs_background": "light"
     },
     "output_type": "display_data"
    },
    {
     "name": "stdout",
     "output_type": "stream",
     "text": [
      "Figure 1: Training and test classification error as a function of the tree depth. This is based on the maximum depth (x-axis) and the error values (y-axis)\n"
     ]
    }
   ],
   "source": [
    "from sklearn.model_selection import train_test_split\n",
    "import matplotlib.pyplot as plt\n",
    "\n",
    "X_train, X_test, y_train, y_test = train_test_split(matrix_X, class_y, random_state=1)\n",
    "\n",
    "scores2 = []\n",
    "for i in range(2,21):\n",
    "    dt2 = tree.DecisionTreeClassifier(criterion='gini',max_depth=i)\n",
    "    dt2 = dt2.fit(X_train, y_train)\n",
    "    score2 = dt2.score(X_test, y_test)\n",
    "    error = 1-score2\n",
    "    print('Max depth = ', i)\n",
    "    print('Mean accurary :', error)\n",
    "    scores2.append(error)\n",
    "    #treeprint.tree_print(dt2, list_attributes, list_classes)\n",
    "    print('\\n')\n",
    "\n",
    "# Plot\n",
    "plt.plot(range(2,21),scores2)\n",
    "plt.title('Training and test classification error as a function of the tree depth')\n",
    "plt.xlabel('Maximum depth')\n",
    "plt.ylabel('Errors')\n",
    "plt.show()\n",
    "print('Figure 1: Training and test classification error as a function of the tree depth. This is based on the maximum depth (x-axis) and the error values (y-axis)')"
   ]
  },
  {
   "cell_type": "code",
   "execution_count": 148,
   "metadata": {},
   "outputs": [
    {
     "name": "stdout",
     "output_type": "stream",
     "text": [
      "Max depth =  2\n",
      "Mean accurary : 0.05012690355329952\n",
      "\n",
      "\n",
      "Max depth =  3\n",
      "Mean accurary : 0.032360406091370586\n",
      "\n",
      "\n",
      "Max depth =  4\n",
      "Mean accurary : 0.022842639593908642\n",
      "\n",
      "\n",
      "Max depth =  5\n",
      "Mean accurary : 0.0158629441624365\n",
      "\n",
      "\n",
      "Max depth =  6\n",
      "Mean accurary : 0.016497461928933976\n",
      "\n",
      "\n",
      "Max depth =  7\n",
      "Mean accurary : 0.017131979695431454\n",
      "\n",
      "\n",
      "Max depth =  8\n",
      "Mean accurary : 0.016497461928933976\n",
      "\n",
      "\n",
      "Max depth =  9\n",
      "Mean accurary : 0.0158629441624365\n",
      "\n",
      "\n",
      "Max depth =  10\n",
      "Mean accurary : 0.017131979695431454\n",
      "\n",
      "\n",
      "Max depth =  11\n",
      "Mean accurary : 0.017766497461928932\n",
      "\n",
      "\n",
      "Max depth =  12\n",
      "Mean accurary : 0.017766497461928932\n",
      "\n",
      "\n",
      "Max depth =  13\n",
      "Mean accurary : 0.014593908629441654\n",
      "\n",
      "\n",
      "Max depth =  14\n",
      "Mean accurary : 0.017766497461928932\n",
      "\n",
      "\n",
      "Max depth =  15\n",
      "Mean accurary : 0.015228426395939132\n",
      "\n",
      "\n",
      "Max depth =  16\n",
      "Mean accurary : 0.015228426395939132\n",
      "\n",
      "\n",
      "Max depth =  17\n",
      "Mean accurary : 0.016497461928933976\n",
      "\n",
      "\n",
      "Max depth =  18\n",
      "Mean accurary : 0.0158629441624365\n",
      "\n",
      "\n",
      "Max depth =  19\n",
      "Mean accurary : 0.0158629441624365\n",
      "\n",
      "\n",
      "Max depth =  20\n",
      "Mean accurary : 0.017766497461928932\n",
      "\n",
      "\n"
     ]
    },
    {
     "data": {
      "image/png": "[encoded data removed]",
      "text/plain": [
       "<Figure size 432x288 with 1 Axes>"
      ]
     },
     "metadata": {
      "needs_background": "light"
     },
     "output_type": "display_data"
    },
    {
     "name": "stdout",
     "output_type": "stream",
     "text": [
      "Figure 2: Random state = 100: Training and test classification error as a function of the tree depth. This is based on the maximum depth (x-axis) and the error values (y-axis)\n"
     ]
    }
   ],
   "source": [
    "X_train, X_test, y_train, y_test = train_test_split(matrix_X, class_y, random_state=10)\n",
    "\n",
    "scores2 = []\n",
    "for i in range(2,21):\n",
    "    dt2 = tree.DecisionTreeClassifier(criterion='gini',max_depth=i)\n",
    "    dt2 = dt2.fit(X_train, y_train)\n",
    "    score2 = dt2.score(X_test, y_test)\n",
    "    error = 1-score2\n",
    "    print('Max depth = ', i)\n",
    "    print('Mean accurary :', error)\n",
    "    scores2.append(error)\n",
    "    #treeprint.tree_print(dt2, list_attributes, list_classes)\n",
    "    print('\\n')\n",
    "\n",
    "# Plot\n",
    "plt.plot(range(2,21),scores2)\n",
    "plt.title('Training and test classification error as a function of the tree depth')\n",
    "plt.xlabel('Maximum depth')\n",
    "plt.ylabel('Errors')\n",
    "plt.show()\n",
    "print('Figure 2: Random state = 100: Training and test classification error as a function of the tree depth. This is based on the maximum depth (x-axis) and the error values (y-axis)')"
   ]
  },
  {
   "cell_type": "markdown",
   "metadata": {},
   "source": [
    "----\n",
    "In the first example, the best maximum tree depth is 5. In the second example, the best maximum tree depth is 5. \n",
    "The best maximum tree depth is obtained when the line of errors flattens. \n",
    "\n",
    "----"
   ]
  },
  {
   "cell_type": "markdown",
   "metadata": {},
   "source": [
    "#### 3.2.2\n",
    "(1.5 pts) Repeat the exercise above, using 10-fold cross-validation. K-fold cross-validation works by splitting X into K partitions of equal length. Then in each fold, you choose K-1 partitions as the training set and the remaining partition as the test set. Every partition gets a turn being a test set. For a very nice simple explanation of how (and why) K-fold works, check out http://www.dummies.com/programming/big-data/data-science/resorting-cross-validation-machine-learning/\n",
    "\n",
    "\n",
    "For each fold, fit a decision tree on the training set and evaluate its performance on the test set. Finally, compute the average classification errors on the test- and training sets across the 10 cross-validation folds and plot them as a function of the tree depth.\n",
    "\n",
    "** hints: **\n",
    "*This time the `KFold()` function from the module `sklearn.model_selection` can be used to partition the data into the 10 training and test partitions. Check out http://scikit-learn.org/stable/modules/cross_validation.html#k-fold for an example of how to acces the indices for the training set and the test set in each fold. Those indices can then be used to create the training and test set, e.g. `X_train = X[train_indices]`*\n",
    "\n",
    "*If you are creating a for loop iterating over an object where you both need the index and the elements of the object, you can enumerate the object. For example:*\n",
    "\n",
    "`\n",
    "for index, (element) in enumerate(object):\n",
    "    array[index] = operation(element)\n",
    "`\n",
    " \n",
    "\n",
    "What appears to be the optimal tree depth? Do you get the same result when you run your code again, generating a new random split between training and test data? How about 100-fold cross-validation?\n"
   ]
  },
  {
   "cell_type": "code",
   "execution_count": 179,
   "metadata": {},
   "outputs": [
    {
     "name": "stdout",
     "output_type": "stream",
     "text": [
      "Average scores of the 10K-fold: \n",
      " [0.08053631172490125, 0.04518300505622216, 0.02774230875657182, 0.02774356652328125, 0.026475486126833182, 0.025208160390410773, 0.0236206072497673, 0.024414006490076225, 0.022353784620028672, 0.022037833622619664, 0.025367645209166578, 0.02410006791940229, 0.022831987522954223, 0.02600332050411288, 0.02631977460820566, 0.023466153497849206, 0.02584408723869893, 0.02505295197846701, 0.024734988554322924]\n"
     ]
    },
    {
     "data": {
      "image/png": "[encoded data removed]",
      "text/plain": [
       "<Figure size 432x288 with 1 Axes>"
      ]
     },
     "metadata": {
      "needs_background": "light"
     },
     "output_type": "display_data"
    },
    {
     "name": "stdout",
     "output_type": "stream",
     "text": [
      "Figure 3: 10-fold: Training and test classification error as a function of the tree depth. This is based on the maximum depth (x-axis) and the error values (y-axis)\n"
     ]
    }
   ],
   "source": [
    "import numpy as np\n",
    "from sklearn.model_selection import KFold\n",
    "\n",
    "scores2_avg = []\n",
    "for i in range(2,21):\n",
    "    scores2 = []\n",
    "    kf = KFold(n_splits=10, random_state=1)\n",
    "    for train, test in kf.split(matrix_X):\n",
    "        X_train2, X_test2, y_train2, y_test2 = matrix_X[train], matrix_X[test], class_y[train], class_y[test]\n",
    "        dt2 = tree.DecisionTreeClassifier(criterion='gini',max_depth=i)\n",
    "        dt2 = dt2.fit(X_train2, y_train2)\n",
    "        score2 = dt2.score(X_test2, y_test2)\n",
    "        error = 1-score2\n",
    "        scores2.append(error)\n",
    "    avg_error = np.mean(scores2)\n",
    "    scores2_avg.append(avg_error)\n",
    "    \n",
    "print('Average scores of the 10K-fold: \\n', scores2_avg) \n",
    "\n",
    "# Plot\n",
    "plt.plot(range(2,21),scores2_avg)\n",
    "plt.title('Training and test classification error as a function of the tree depth')\n",
    "plt.xlabel('Maximum depth')\n",
    "plt.ylabel('Errors')\n",
    "plt.show()\n",
    "print('Figure 3: 10-fold: Training and test classification error as a function of the tree depth. This is based on the maximum depth (x-axis) and the error values (y-axis)')\n",
    " "
   ]
  },
  {
   "cell_type": "code",
   "execution_count": 178,
   "metadata": {},
   "outputs": [
    {
     "name": "stdout",
     "output_type": "stream",
     "text": [
      "Average scores of the 10K-fold: \n",
      " [0.08053631172490125, 0.04518300505622216, 0.027425603099137164, 0.025841068598596317, 0.02758483636455108, 0.024256030991371712, 0.02235302996000301, 0.02441476115010186, 0.022513017885442587, 0.022989459914974964, 0.02299021457500061, 0.023465901944507317, 0.025209921263803968, 0.025844087238698944, 0.023308429552486586, 0.02314969939375643, 0.024417025130178828, 0.02584660277211782, 0.023624632103237463]\n"
     ]
    },
    {
     "data": {
      "image/png": "[encoded data removed]",
      "text/plain": [
       "<Figure size 432x288 with 1 Axes>"
      ]
     },
     "metadata": {
      "needs_background": "light"
     },
     "output_type": "display_data"
    },
    {
     "name": "stdout",
     "output_type": "stream",
     "text": [
      "Figure 4: 10-fold and random state = 10: Training and test classification error as a function of the tree depth. This is based on the maximum depth (x-axis) and the error values (y-axis)\n"
     ]
    }
   ],
   "source": [
    "import numpy as np\n",
    "from sklearn.model_selection import KFold\n",
    "\n",
    "scores2_avg = []\n",
    "for i in range(2,21):\n",
    "    scores2 = []\n",
    "    kf = KFold(n_splits=10, random_state=10)\n",
    "    for train, test in kf.split(matrix_X):\n",
    "        X_train2, X_test2, y_train2, y_test2 = matrix_X[train], matrix_X[test], class_y[train], class_y[test]\n",
    "        dt2 = tree.DecisionTreeClassifier(criterion='gini',max_depth=i)\n",
    "        dt2 = dt2.fit(X_train2, y_train2)\n",
    "        score2 = dt2.score(X_test2, y_test2)\n",
    "        error = 1-score2\n",
    "        scores2.append(error)\n",
    "    avg_error = np.mean(scores2)\n",
    "    scores2_avg.append(avg_error)\n",
    "    \n",
    "print('Average scores of the 10K-fold: \\n', scores2_avg) \n",
    "\n",
    "# Plot\n",
    "plt.plot(range(2,21),scores2_avg)\n",
    "plt.title('Training and test classification error as a function of the tree depth')\n",
    "plt.xlabel('Maximum depth')\n",
    "plt.ylabel('Errors')\n",
    "plt.show()\n",
    "print('Figure 4: 10-fold and random state = 10: Training and test classification error as a function of the tree depth. This is based on the maximum depth (x-axis) and the error values (y-axis)')\n",
    " "
   ]
  },
  {
   "cell_type": "code",
   "execution_count": 177,
   "metadata": {},
   "outputs": [
    {
     "name": "stdout",
     "output_type": "stream",
     "text": [
      "Average scores of the 100K-fold: \n",
      " [0.04489831349206352, 0.03266617063492065, 0.02265376984126985, 0.018683035714285725, 0.017745535714285724, 0.017904265873015888, 0.01679563492063493, 0.018861607142857152, 0.018377976190476198, 0.018385416666666675, 0.019494047619047633, 0.01965525793650795, 0.01838541666666668, 0.019494047619047633, 0.019499007936507957, 0.01997271825396827, 0.020282738095238107, 0.020768849206349218, 0.020124007936507947]\n"
     ]
    },
    {
     "data": {
      "image/png": "[encoded data removed]",
      "text/plain": [
       "<Figure size 432x288 with 1 Axes>"
      ]
     },
     "metadata": {
      "needs_background": "light"
     },
     "output_type": "display_data"
    },
    {
     "name": "stdout",
     "output_type": "stream",
     "text": [
      "Figure 5: 100-fold: Training and test classification error as a function of the tree depth. This is based on the maximum depth (x-axis) and the error values (y-axis)\n"
     ]
    }
   ],
   "source": [
    "import numpy as np\n",
    "from sklearn.model_selection import KFold\n",
    "\n",
    "scores2_avg = []\n",
    "for i in range(2,21):\n",
    "    scores2 = []\n",
    "    kf = KFold(n_splits=100, random_state=1)\n",
    "    for train, test in kf.split(matrix_X):\n",
    "        X_train2, X_test2, y_train2, y_test2 = matrix_X[train], matrix_X[test], class_y[train], class_y[test]\n",
    "        dt2 = tree.DecisionTreeClassifier(criterion='gini',max_depth=i)\n",
    "        dt2 = dt2.fit(X_train2, y_train2)\n",
    "        score2 = dt2.score(X_test2, y_test2)\n",
    "        error = 1-score2\n",
    "        scores2.append(error)\n",
    "    avg_error = np.mean(scores2)\n",
    "    scores2_avg.append(avg_error)\n",
    "    \n",
    "print('Average scores of the 100K-fold: \\n', scores2_avg) \n",
    "\n",
    "# Plot\n",
    "plt.plot(range(2,21),scores2_avg)\n",
    "plt.title('Training and test classification error as a function of the tree depth')\n",
    "plt.xlabel('Maximum depth')\n",
    "plt.ylabel('Errors')\n",
    "plt.show()\n",
    "print('Figure 5: 100-fold: Training and test classification error as a function of the tree depth. This is based on the maximum depth (x-axis) and the error values (y-axis)')\n",
    " "
   ]
  },
  {
   "cell_type": "markdown",
   "metadata": {},
   "source": [
    "----\n",
    "In all the 3 examples, the best maximum tree depth is equal to 8. \n",
    "The result is different then performing without K-fold. Best maximum depth is higher and the errors give a more constant result. \n",
    "\n",
    "----"
   ]
  },
  {
   "cell_type": "markdown",
   "metadata": {},
   "source": [
    " ## 3.3 ROC curves, AUC scores, and the sign test\n",
    "\n",
    "In this exercise we will use ROC curves and the sign test to compare classifiers. Study the lecture slides and the paper 'ROC Graphs: Notes and Practical Considerations for Researchers' by Tom Fawcett included with the homework assignment (ROC101.pdf). It describes all you need to know (and much, much more..) about ROC curves. The method explained for computing the area under the curve is unnecessarily complicated. A simpler formula is:\n",
    "$$\n",
    "    \\mbox{AUC} = {1 \\over m n} \\sum_{i=1}^m \\sum_{j=1}^n \\mathbf{\\large 1}_{p_i > p_j} \\: .\n",
    "   $$\n",
    "Here $i$ runs over all $m$ data points with true label 1, and $j$ runs over all $n$ data points with true label $0$; $p_i$ and $p_j$ denote the probability score assigned by the classifier to data point $i$ and $j$, respectively. $\\mathbf{\\large 1}$ is the indicator function: it outputs $1$ if the condition (here $p_i > p_j$) is satisfied and $0$ otherwise. *Simply put: this formula computes how often the probability of a data point with true label 1 is higher than the probability of data points with true label 0. This is then divided by the total number of comparisons between probabilities.*\n",
    "    \n",
    "\n",
    "#### 3.3.1\n",
    "(0.25 pts) To make sure you understand how ROC works, make an ROC curve and calculate the AUC (on paper) with the following data:\n",
    "\n",
    "`\n",
    "labels = [0,0,0,1,0,1,1,0,1,1]\n",
    "classifier_probs = [0.1,0.2,0.3,0.4,0.5,0.6,0.7,0.8,0.9,0.99]\n",
    "`\n",
    "    \n",
    "What's the AUC you calculated? Do you think this classifier works well?\n"
   ]
  },
  {
   "cell_type": "markdown",
   "metadata": {},
   "source": [
    "----\n",
    "With help of the ROC, the AUC score is caclulated: 0.84\n",
    "\n",
    "----"
   ]
  },
  {
   "cell_type": "markdown",
   "metadata": {},
   "source": [
    "#### 3.3.2\n",
    "  Load the file `Data/classprobs.xls` using the Pandas `read_excel` function. Inspect the data and cast it to an array with the `.values` attribute. The first column gives the true class label (either 0 or 1). The second and third column give the probabilistic scores for two different classifiers. The higher this probability, the more certain the classifier is that the example belongs to class 1 (instead of class 0).\n"
   ]
  },
  {
   "cell_type": "code",
   "execution_count": 50,
   "metadata": {},
   "outputs": [],
   "source": [
    "import pandas as pd\n",
    "from pandas import ExcelFile\n",
    "\n",
    "df_ = pd.read_excel('Data/classprobs.xls')\n",
    "df_ = df_.values"
   ]
  },
  {
   "cell_type": "markdown",
   "metadata": {},
   "source": [
    "#### 3.3.3\n",
    "(1 pts) Calculate the ROC curves for both of the classifiers by calculating the FP and TP rates and plot them in the same plot. Make the plot yourself as opposed to using a library! Also plot a dashed line on the diagonal to represent random guessing in the same figure. Interpret the obtained results. Do both classifiers perform better than random guessing?\n",
    "\n",
    "** hints: **  \n",
    "*The function `sklearn.metrics.roc_curve` can be used for computing the FP and TP rates. You can then plot them using the `matplotlib.pyplot` `plot` function. Check the documentation on how to plot a dashed line. Remember to include a legend!* \n",
    "\n",
    "**An extra tip: the sign test example below includes a figure with dashed lines and a legend...**\n",
    " "
   ]
  },
  {
   "cell_type": "code",
   "execution_count": 100,
   "metadata": {},
   "outputs": [
    {
     "data": {
      "image/png": "[encoded data removed]",
      "text/plain": [
       "<Figure size 432x288 with 1 Axes>"
      ]
     },
     "metadata": {
      "needs_background": "light"
     },
     "output_type": "display_data"
    }
   ],
   "source": [
    "df = pd.DataFrame(df_)\n",
    "df.columns = ['actual_label', 'model_RF', 'model_LR']\n",
    "\n",
    "thresh = 0.5\n",
    "df['predicted_RF'] = (df.model_RF >= 0.5).astype('int')\n",
    "df['predicted_LR'] = (df.model_LR >= 0.5).astype('int')\n",
    "df.head()\n",
    "\n",
    "#from sklearn.metrics import confusion_matrix\n",
    "#print(confusion_matrix(df.actual_label.values, df.predicted_RF.values))\n",
    "\n",
    "from sklearn.metrics import roc_curve\n",
    "fpr_RF, tpr_RF, thresholds_RF = roc_curve(df.actual_label.values, df.model_RF.values)\n",
    "fpr_LR, tpr_LR, thresholds_LR = roc_curve(df.actual_label.values, df.model_LR.values)\n",
    "\n",
    "import matplotlib.pyplot as plt\n",
    "plt.plot(fpr_RF, tpr_RF,'r-',label = 'ROC RF')\n",
    "plt.plot(fpr_LR,tpr_LR,'b-', label= 'ROC LR')\n",
    "plt.plot([0,1],[0,1],'k--',label='random')\n",
    "plt.plot([0,0,1,1],[0,1,1,1],'g-',label='perfect')\n",
    "plt.legend()\n",
    "plt.xlabel('False Positive Rate')\n",
    "plt.ylabel('True Positive Rate')\n",
    "plt.show()\n"
   ]
  },
  {
   "cell_type": "markdown",
   "metadata": {},
   "source": [
    "----\n",
    "The more far away from the random line, the better, so RF looks better than LR.\n",
    "There both better than random guessing. \n",
    "\n",
    "----"
   ]
  },
  {
   "cell_type": "markdown",
   "metadata": {},
   "source": [
    "#### 3.3.4\n",
    "(0.5 pts) Compute the AUC scores (area under the curve) of both classifiers using the formula given above. **Write your own code for this calculation.** Do the AUC scores indicate that the classifiers are performing better than this baseline?\n",
    "\n",
    "\n",
    "\n",
    "\n",
    " "
   ]
  },
  {
   "cell_type": "code",
   "execution_count": 101,
   "metadata": {},
   "outputs": [
    {
     "name": "stdout",
     "output_type": "stream",
     "text": [
      "AUC score RF:  0.9556254367575122\n",
      "AUC score LR:  0.7613556953179594\n"
     ]
    }
   ],
   "source": [
    "class_0_RF = df[df['actual_label']==0]['model_RF'].reset_index(drop=True)\n",
    "class_1_RF = df[df['actual_label']==1]['model_RF'].reset_index(drop=True)\n",
    "class_0_LR = df[df['actual_label']==0]['model_LR'].reset_index(drop=True)\n",
    "class_1_LR = df[df['actual_label']==1]['model_LR'].reset_index(drop=True)\n",
    "\n",
    "count = 0\n",
    "for i in range(len(class_1_RF)):\n",
    "    for j in range(len(class_0_RF)):\n",
    "        if (class_1_RF[i] > class_0_RF[j]):\n",
    "            count=count+1\n",
    "\n",
    "AUC_RF = count/(len(class_0_RF)*len(class_1_RF))\n",
    "print('AUC score RF: ', AUC_RF)\n",
    "\n",
    "count = 0\n",
    "for i in range(len(class_1_LR)):\n",
    "    for j in range(len(class_0_LR)):\n",
    "        if (class_1_LR[i] > class_0_LR[j]):\n",
    "            count=count+1\n",
    "\n",
    "AUC_LR = count/(len(class_0_LR)*len(class_1_LR))\n",
    "print('AUC score LR: ', AUC_LR)"
   ]
  },
  {
   "cell_type": "markdown",
   "metadata": {},
   "source": [
    "----\n",
    "Both AUC scores are higher than 0.5, so better than the (random) baseline.\n",
    "\n",
    "----"
   ]
  },
  {
   "cell_type": "markdown",
   "metadata": {},
   "source": [
    "\n",
    "#### 3.3.5\n",
    "(0.25 pts) Using a threshold of 0.5, translate the probability scores to predicted class labels, and compute the accuracy for each of the classifiers.\n",
    "\n",
    "** hint: **\n",
    "\n",
    "*Take a look at https://scikit-learn.org/stable/modules/generated/sklearn.metrics.accuracy_score.html *"
   ]
  },
  {
   "cell_type": "code",
   "execution_count": 89,
   "metadata": {},
   "outputs": [
    {
     "name": "stdout",
     "output_type": "stream",
     "text": [
      "Accuracy score RF:  0.8598130841121495\n",
      "Accuracy score LR:  0.6915887850467289\n"
     ]
    }
   ],
   "source": [
    "from sklearn.metrics import accuracy_score\n",
    "print('Accuracy score RF: ', accuracy_score(df.actual_label.values, df.predicted_RF.values))\n",
    "print('Accuracy score LR: ', accuracy_score(df.actual_label.values, df.predicted_LR.values))"
   ]
  },
  {
   "cell_type": "markdown",
   "metadata": {},
   "source": [
    "#### 3.3.6\n",
    "(1 pts) Create the 2x2 table (or array, or list, or dataframe..) of wrong and correct classifications by the first and the second classifier, like in the lecture slides (lecture on model evaluation, part on the sign test). Perform a sign test to test whether the performance of the two classifiers is significantly different at a significance level of 0.05. **If you are not familiar with sign testing, you can read the example provided below.**\n",
    "\n",
    "\n",
    "** hints: **  \n",
    "*As explained in the lecture slides, the sign test is a binomial test on the lower-left ($N_{1<2}$) and upper-right ($N_{1>2}$) elements of the cross table. Unlike in the lecture slides, here you need to perform a two-sided test: $$\\textrm{p-value} = P(W \\leq \\min(N_{1<2},N_{1>2}) \\textrm{ or } W \\geq  \\max(N_{1<2},N_{1>2})$$\n",
    "The function `scipy.stats.binom.cdf` can be used to compute the cumulative density of the binomial distribution.\n",
    "For more information on the sign test, see the included paper by Salzberg (signtest.pdf, in particular section 3.1).*"
   ]
  },
  {
   "cell_type": "code",
   "execution_count": 121,
   "metadata": {},
   "outputs": [
    {
     "name": "stdout",
     "output_type": "stream",
     "text": [
      "Number where both machines are correct: 66\n",
      "Number where RF is correct and LR is wrong: 26\n",
      "Number where RF is wrong and LR is correct: 8\n",
      "Number where Both machines are wrong: 7\n",
      "Cumulative density of the binomial distribution RF higher then LR:  0.0014675278216600418\n",
      "Cumulative density of the binomial distribution RF smaller then LR:  0.9995893023442477\n"
     ]
    }
   ],
   "source": [
    "from scipy.stats import binom\n",
    "\n",
    "def find_CC(y_true, y_pred_RF, y_pred_LR):\n",
    "    return sum ( (((y_pred_RF == 1) & (y_pred_LR == 1)) & (y_true == 1)) |\n",
    "         (((y_pred_RF == 0) & (y_pred_LR == 0)) & (y_true == 0)) )\n",
    "\n",
    "def find_CW(y_true, y_pred_RF, y_pred_LR):\n",
    "    return sum ( (((y_pred_RF == 1) & (y_pred_LR == 0)) & (y_true == 1)) |\n",
    "         (((y_pred_RF == 0) & (y_pred_LR == 1)) & (y_true == 0)) )\n",
    "\n",
    "def find_WC(y_true, y_pred_RF, y_pred_LR):\n",
    "    return sum ( (((y_pred_RF == 0) & (y_pred_LR == 1)) & (y_true == 1)) |\n",
    "         (((y_pred_RF == 1) & (y_pred_LR == 0)) & (y_true == 0)) )\n",
    "\n",
    "def find_WW(y_true, y_pred_RF, y_pred_LR):\n",
    "    return sum ( (((y_pred_RF == 1) & (y_pred_LR == 1)) & (y_true == 0)) |\n",
    "         (((y_pred_RF == 0) & (y_pred_LR == 0)) & (y_true == 1)) )\n",
    "\n",
    "CC = find_CC(df.actual_label.values, df.predicted_RF.values, df.predicted_LR.values)\n",
    "CW = find_CW(df.actual_label.values, df.predicted_RF.values, df.predicted_LR.values)\n",
    "WC = find_WC(df.actual_label.values, df.predicted_RF.values, df.predicted_LR.values)\n",
    "WW = find_WW(df.actual_label.values, df.predicted_RF.values, df.predicted_LR.values)\n",
    "\n",
    "print('Number where both machines are correct:',CC)\n",
    "print('Number where RF is correct and LR is wrong:',CW)\n",
    "print('Number where RF is wrong and LR is correct:',WC)\n",
    "print('Number where Both machines are wrong:',WW)\n",
    "\n",
    "p = 0.5\n",
    "n = CW+WC\n",
    "k_RF = CW\n",
    "k_LR = WC\n",
    "\n",
    "print('Cumulative density of the binomial distribution RF higher then LR: ', 1-binom.cdf(k_RF-1, n, p))\n",
    "print('Cumulative density of the binomial distribution RF smaller then LR: ', binom.cdf(k_RF, n, p))"
   ]
  },
  {
   "cell_type": "markdown",
   "metadata": {},
   "source": [
    "----\n",
    "So RF is significant higher then LR (alpha = 0.05).\n",
    "\n",
    "----"
   ]
  },
  {
   "cell_type": "markdown",
   "metadata": {},
   "source": [
    "## Example two-sided sign test\n",
    "\n",
    "Imagine you have a lucky coin, that you are certain does not result in heads 50% of the times you flip it. However, you friend (lets call him *zero_hypothesis*) claims that your coin is just like his random coin. To verify whether this is true, you decide to compare the performance (you are a scientist after all) of your lucky coin resulting in heads to the performance of his random coin resulting in heads with a sign test. How do you do this?\n",
    "\n",
    "First, you collect data. Assume you place 23 bets. During those 23 bets, you both flip your respective coins. It was determined that if one of you flipped head while the other didn't, that person won the bet, and the other person lost. If you both got the same outcome, neither of you won. 1 stands for head, and 0 for tails. These were your results:"
   ]
  },
  {
   "cell_type": "code",
   "execution_count": 1,
   "metadata": {},
   "outputs": [
    {
     "name": "stdout",
     "output_type": "stream",
     "text": [
      "----------lucky | random \n",
      " bet 0      | 1 | 0\n",
      " bet 1      | 1 | 1\n",
      " bet 2      | 1 | 0\n",
      " bet 3      | 0 | 1\n",
      " bet 4      | 1 | 0\n",
      " bet 5      | 1 | 1\n",
      " bet 6      | 1 | 0\n",
      " bet 7      | 1 | 0\n",
      " bet 8      | 1 | 0\n",
      " bet 9      | 0 | 1\n",
      " bet 10     | 1 | 0\n",
      " bet 11     | 1 | 1\n",
      " bet 12     | 1 | 0\n",
      " bet 13     | 1 | 1\n",
      " bet 14     | 0 | 1\n",
      " bet 15     | 1 | 1\n",
      " bet 16     | 1 | 1\n",
      " bet 17     | 0 | 0\n",
      " bet 18     | 1 | 0\n",
      " bet 19     | 1 | 0\n",
      " bet 20     | 1 | 0\n",
      " bet 21     | 0 | 0\n",
      " bet 22     | 1 | 0\n",
      " -----\n",
      "\n"
     ]
    }
   ],
   "source": [
    "import numpy as np\n",
    "from scipy.stats import binom\n",
    "import matplotlib.pyplot as plt\n",
    "\n",
    "#results\n",
    "lucky_coin = np.array([1,1,1,0,1,1,1,1,1,0,1,1,1,1,0,1,1,0,1,1,1,0,1])\n",
    "random_coin= np.array([0,1,0,1,0,1,0,0,0,1,0,1,0,1,1,1,1,0,0,0,0,0,0])\n",
    "\n",
    "print('----------lucky | random \\n',*['bet {:<5}  | {} | {}\\n'.format(t[0],t[1],t[2]) for t in zip(range(0,len(lucky_coin)),lucky_coin,random_coin)],'-----\\n')"
   ]
  },
  {
   "cell_type": "markdown",
   "metadata": {},
   "source": [
    "Now you calculate how often in any pair of outcomes one coin *won*, i.e. one coin flipped to head while the other flipped to tails."
   ]
  },
  {
   "cell_type": "code",
   "execution_count": 2,
   "metadata": {},
   "outputs": [
    {
     "name": "stdout",
     "output_type": "stream",
     "text": [
      "The lucky coin won 12 times, while the random won 3 times.\n"
     ]
    }
   ],
   "source": [
    "N_l = sum((lucky_coin == 1) & (random_coin == 0)) #how often your lucky coin won\n",
    "N_r = sum((lucky_coin == 0) & (random_coin == 1)) #how often the random coin won\n",
    "N = N_l + N_r #how often one coin was a winner\n",
    "print('The lucky coin won {} times, while the random won {} times.'.format(N_l,N_r))"
   ]
  },
  {
   "cell_type": "markdown",
   "metadata": {},
   "source": [
    "You observed 15 times that one coin won. If both coins resulted in heads 50% of the time, like *zero_hypothesis* stated, you'd expect that both coins have 50% chance of being the winner. So the probability distributions for both N_l and N_r should look something like this, assuming that *zero_hypothesis* is right:"
   ]
  },
  {
   "cell_type": "code",
   "execution_count": 3,
   "metadata": {},
   "outputs": [
    {
     "data": {
      "image/png": "[encoded data removed]",
      "text/plain": [
       "<Figure size 432x288 with 1 Axes>"
      ]
     },
     "metadata": {},
     "output_type": "display_data"
    }
   ],
   "source": [
    "b = binom(N,0.5) #N=observations of inequality, p=prob of one coin being better, which is 0.5 according to your H0\n",
    "plt.plot(b.pmf(range(N+1)), '--o',label = 'Probability density')\n",
    "plt.plot(b.cdf(range(N+1)), '--o',label = 'Cumulative distribution')\n",
    "plt.legend()\n",
    "plt.xlabel('Number of times one coin is better than the other')\n",
    "plt.ylabel('Probability')\n",
    "plt.title('Distribution according to H0')\n",
    "plt.show()"
   ]
  },
  {
   "cell_type": "markdown",
   "metadata": {},
   "source": [
    "(Of course this is a discrete probability function, so you're not interested in values between integers.)\n",
    "\n",
    "As you can see, according to *zero_hypothesis*, 7 and 8 are the most likely values for both N_l and N_r. But this is not what you observed in your data. To conclude that *H0* is false, you need to show that your outcome is unlikely under the assumption that *H0* is true: the values you observed are so extreme that these values or more extreme values occur less than 5% of the time (*p-value < 0.05*). So how unlikely is it that one coin is better 12 times or more, and the other is better 3 times or less?\n",
    "\n",
    "It's the sum of the values of the probability density function (pdf or pmf in the python doc) at  0,1,2 and 3, plus the sum of the values of the pdf at 12,13,14 and 15. \n",
    "\n",
    "This is equal to the value of the cumulative distribution function (cdf) at 3, plus 1 minus the value of cdf at 11 (since `1-cdf(11)` represents the probability of observing 12 or bigger)."
   ]
  },
  {
   "cell_type": "code",
   "execution_count": 4,
   "metadata": {},
   "outputs": [
    {
     "name": "stdout",
     "output_type": "stream",
     "text": [
      "The p-value is 0.035\n"
     ]
    }
   ],
   "source": [
    "p_value = b.cdf(min(N_r,N_l)) + (1-b.cdf(max(N_r,N_l)-1))\n",
    "print('The p-value is {:.3f}'.format(p_value))"
   ]
  },
  {
   "cell_type": "markdown",
   "metadata": {},
   "source": [
    "So your observations are very unlikely if *zero_hypothesis* is right. By statistical theory, you can now say that you have significant reason to reject their opinion. Now the hardest part of statistics: convincing your non-scientist friends."
   ]
  }
 ],
 "metadata": {
  "anaconda-cloud": {},
  "kernelspec": {
   "display_name": "Python 3",
   "language": "python",
   "name": "python3"
  },
  "language_info": {
   "codemirror_mode": {
    "name": "ipython",
    "version": 3
   },
   "file_extension": ".py",
   "mimetype": "text/x-python",
   "name": "python",
   "nbconvert_exporter": "python",
   "pygments_lexer": "ipython3",
   "version": "3.7.4"
  }
 },
 "nbformat": 4,
 "nbformat_minor": 1
}
