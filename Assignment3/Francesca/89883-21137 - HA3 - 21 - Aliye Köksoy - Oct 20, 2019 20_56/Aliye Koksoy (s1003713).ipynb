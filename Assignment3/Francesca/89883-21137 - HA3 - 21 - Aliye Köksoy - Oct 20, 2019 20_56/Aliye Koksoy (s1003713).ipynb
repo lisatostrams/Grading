{
 "cells": [
  {
   "cell_type": "markdown",
   "metadata": {},
   "source": [
    "# Assignment 3\n",
    "\n",
    "## Objective of this assignment\n",
    "The objective of this exercise is to become familiar with fitting decision trees and\n",
    "making ROC curves in Python.\n",
    "\n",
    "\n",
    "## ** Important: ** When handing in your homework:\n",
    "+ Hand in the notebook **(and nothing else)** named as follows: StudentName1_snumber_StudentName2_snumber.ipynb\n",
    "+ Provide clear and complete answers to the questions below under a separate header (not hidden somewhere in your source code), and make sure to explain your answers / motivate your choices. Add Markdown cells where necessary.\n",
    "+ Source code, output graphs, derivations, etc., should be included in the notebook.\n",
    "+ Hand-in: upload to Brightspace.\n",
    "+ Include name, student number, assignment (especially in filenames)!\n",
    "+ When working in pairs only one of you should upload the assignment, and report the name of your partner in your filename.\n",
    "+ Use the Brightspace discussion board or email the student assistants for questions on how to complete the exercises.\n",
    "+ If you find mistakes/have suggestions/would like to complain about the assigment material itself, please email me [Lisa] at `l.tostrams@science.ru.nl`\n",
    "\n",
    "\n",
    "## Advised Reading and Exercise Material\n",
    "**The following reading material is recommended:**\n",
    "\n",
    "Pang-Ning Tan, Michael Steinbach, and Vipin Kumar, Introduction to Data Mining, section 4.1-4.6, as well as the included article on ROC curves.\n"
   ]
  },
  {
   "cell_type": "markdown",
   "metadata": {},
   "source": [
    "## 3.1 Decision trees\n",
    "\n",
    "In this part of the exercise we will fit decision trees using the scikitlearn classifier\n",
    "`sklearn.tree.DecisionTreeClassifier`. As a splitting criterion, the function uses\n",
    "one of the following two impurity measures:\n",
    "\n",
    "\\begin{equation} \\textrm{gdi}(t) = -\\sum_{i=1}^C p(i|t)^2 \\quad \\text{       equivalent to Gini(t)} \\end{equation}   \n",
    "\n",
    "\\begin{equation}\n",
    "\\textrm{deviance}(t) = -2\\sum_{i=1}^C p(i|t) \\log p(i|t) \\quad \\text{equivalent to Entropy(t)} \n",
    "\\end{equation}\n",
    "\n",
    "We will analyze the wine data we have used previously. The wine data set has the following attributes, all of which are continuous: \n",
    "\n",
    "\n",
    "| #             | Attribute     | Unit  |\n",
    "| ------------- |:-------------| -----:|\n",
    "|1 | Fixed acidity (tartaric) | g/dm$^3$ |\n",
    "|2 | Volatile acidity (acetic) | g/dm$^3$ |\n",
    "|3 | Citric acid | g/dm$^3$ |\n",
    "|4 | Residual sugar | g/dm$^3$ |\n",
    "|5 | Chlorides | g/dm$^3$ |\n",
    "|6 | Free sulfur dioxide | mg/dm$^3$ |\n",
    "|7 | Total sulfur dioxide | mg/dm$^3$ |\n",
    "|8 | Density | g/cm$^3$ |\n",
    "|9 | pH | pH |\n",
    "|10 | Sulphates | g/dm$^3$ |\n",
    "|11 | Alcohol | % vol. | \n",
    "\n",
    "\n",
    "#### 3.1.1\n",
    "(0.5 pts) Load the wine data set `Data/wine.mat` using the `scipy.io` `loadmat` function. This contains the same data as used in the earlier assignment, but with outliers and the 12th attribute already removed. Create data matrix $X$, class vector $y$, and the lists $attributeNames$ and $classNames$ with the data provided in the `wine.mat` file. Print out the  $attributeNames$ and $classNames$ to make sure it's a list of strings.\n",
    "\n",
    "   ** hints: **   \n",
    "*The object in wine.mat is a dictionary. The attributes are stored in matrix $X$, the class in vector $y$. $y$ is shaped as an array containing single element arrays. To flatten $y$, you can use `y.ravel()`, which unravels matrices into a 1d array. Attribute names and class names are stored in the attributeNames and classNames objects, which contain arrays, of which the first element contains the names. To get the names from those arrays, you can use list comprehension or for-loops. For more on list comprehension, check https://www.digitalocean.com/community/tutorials/understanding-list-comprehensions-in-python-3. For example, if you have an larger array containing nested arrays of which you want the first element, you can try `new_array = [nested_array[0] for nested_array in larger_array]`.*\n",
    "\n"
   ]
  },
  {
   "cell_type": "code",
   "execution_count": 2,
   "metadata": {},
   "outputs": [
    {
     "name": "stdout",
     "output_type": "stream",
     "text": [
      "['Fixed acidity', 'Volatile acidity', 'Citric acid', 'Residual sugar', 'Chlorides', 'Free sulfur dioxide', 'Total sulfur dioxide', 'Density', 'pH', 'Sulphates', 'Alcohol']\n",
      "['Red', 'White']\n"
     ]
    }
   ],
   "source": [
    "import matplotlib.pyplot as plt\n",
    "import scipy.io as sio\n",
    "from sklearn.tree import DecisionTreeClassifier\n",
    "\n",
    "my_data = sio.loadmat('C:/Users/User/Desktop/1st sem/dm/Assignment_3/Assignment_3/Data/wine.mat') \n",
    "\n",
    "X = my_data['X']\n",
    "y = my_data['y']\n",
    "y = y.ravel()\n",
    "\n",
    "attributeNames = my_data['attributeNames']\n",
    "classNames = my_data['classNames']\n",
    "\n",
    "new_attributeNames = []\n",
    "for i in range (attributeNames.shape[1]):\n",
    "       new_attributeNames.append(attributeNames[0][i][0])\n",
    "        \n",
    "new_classNames = []\n",
    "for i in range (classNames.shape[0]):\n",
    "        new_classNames.append(classNames[i][0][0])\n",
    "        \n",
    "print(new_attributeNames)\n",
    "print(new_classNames)"
   ]
  },
  {
   "cell_type": "markdown",
   "metadata": {},
   "source": [
    "#### 3.1.2\n",
    " (1.5 pts) Fit a decision tree to the wine data in order to estimate if the wine is red or white. Use the Gini (gdi) splitting criterion. Use `min_samples_split=100` for the stopping criterion. Explain what happens when you change the values of the parameter `min_samples_split`. After fitting the tree, visualize it with the tree_print function in `treeprint.py` in the Toolbox folder. \n",
    "\n",
    "** hints: **   \n",
    "*The `treeprint.py` file contains some documentation on how to use it. Helpfull documentation for the DecisionTreeClassifier function can be found at * http://scikit-learn.org/stable/modules/tree.html#classification  \n",
    "\n"
   ]
  },
  {
   "cell_type": "code",
   "execution_count": 7,
   "metadata": {
    "scrolled": false
   },
   "outputs": [
    {
     "name": "stdout",
     "output_type": "stream",
     "text": [
      "         |->3  White\n",
      "         |\n",
      "      |->2 then if Sulphates =< 0.56: go to 3, else go to 4\n",
      "      |  |\n",
      "      |  |->4  White\n",
      "      |\n",
      "   |->1 then if Chlorides =< 0.05: go to 2, else go to 5\n",
      "   |  |\n",
      "   |  |  |->6  White\n",
      "   |  |  |\n",
      "   |  |->5 else if Sulphates =< 0.37: go to 6, else go to 7\n",
      "   |     |\n",
      "   |     |  |->8  White\n",
      "   |     |  |\n",
      "   |     |->7 else if Density =< 0.99: go to 8, else go to 9\n",
      "   |        |\n",
      "   |        |     |->11  White\n",
      "   |        |     |\n",
      "   |        |  |->10 then if Residual sugar =< 1.10: go to 11, else go to 12\n",
      "   |        |  |  |\n",
      "   |        |  |  |  |->13  Red\n",
      "   |        |  |  |  |\n",
      "   |        |  |  |->12 else if Density =< 0.99: go to 13, else go to 14\n",
      "   |        |  |     |\n",
      "   |        |  |     |  |->15  Red\n",
      "   |        |  |     |  |\n",
      "   |        |  |     |->14 else if Chlorides =< 0.05: go to 15, else go to 16\n",
      "   |        |  |        |\n",
      "   |        |  |        |  |->17  Red\n",
      "   |        |  |        |  |\n",
      "   |        |  |        |->16 else if Sulphates =< 0.45: go to 17, else go to 18\n",
      "   |        |  |           |\n",
      "   |        |  |           |->18  Red\n",
      "   |        |  |\n",
      "   |        |->9 else if Residual sugar =< 10.70: go to 10, else go to 19\n",
      "   |           |\n",
      "   |           |->19  White\n",
      "   |\n",
      "if Total sulfur dioxide =< 66.50: go to 1, else go to 20\n",
      "   |\n",
      "   |                 |->26  Red\n",
      "   |                 |\n",
      "   |              |->25 then if Chlorides =< 0.01: go to 26, else go to 27\n",
      "   |              |  |\n",
      "   |              |  |        |->30  White\n",
      "   |              |  |        |\n",
      "   |              |  |     |->29 then if Citric acid =< 0.10: go to 30, else go to 31\n",
      "   |              |  |     |  |\n",
      "   |              |  |     |  |  |->32  White\n",
      "   |              |  |     |  |  |\n",
      "   |              |  |     |  |->31 else if Total sulfur dioxide =< 72.50: go to 32, else go to 33\n",
      "   |              |  |     |     |\n",
      "   |              |  |     |     |  |->34  White\n",
      "   |              |  |     |     |  |\n",
      "   |              |  |     |     |->33 else if Residual sugar =< 0.92: go to 34, else go to 35\n",
      "   |              |  |     |        |\n",
      "   |              |  |     |        |        |->38  White\n",
      "   |              |  |     |        |        |\n",
      "   |              |  |     |        |     |->37 then if Free sulfur dioxide =< 6.50: go to 38, else go to 39\n",
      "   |              |  |     |        |     |  |\n",
      "   |              |  |     |        |     |  |        |->42  White\n",
      "   |              |  |     |        |     |  |        |\n",
      "   |              |  |     |        |     |  |     |->41 then if pH =< 3.31: go to 42, else go to 43\n",
      "   |              |  |     |        |     |  |     |  |\n",
      "   |              |  |     |        |     |  |     |  |->43  White\n",
      "   |              |  |     |        |     |  |     |\n",
      "   |              |  |     |        |     |  |  |->40 then if Citric acid =< 0.23: go to 41, else go to 44\n",
      "   |              |  |     |        |     |  |  |  |\n",
      "   |              |  |     |        |     |  |  |  |->44  White\n",
      "   |              |  |     |        |     |  |  |\n",
      "   |              |  |     |        |     |  |->39 else if Sulphates =< 0.75: go to 40, else go to 45\n",
      "   |              |  |     |        |     |     |\n",
      "   |              |  |     |        |     |     |->45  White\n",
      "   |              |  |     |        |     |\n",
      "   |              |  |     |        |  |->36 then if Alcohol =< 13.58: go to 37, else go to 46\n",
      "   |              |  |     |        |  |  |\n",
      "   |              |  |     |        |  |  |->46  White\n",
      "   |              |  |     |        |  |\n",
      "   |              |  |     |        |->35 else if Sulphates =< 0.78: go to 36, else go to 47\n",
      "   |              |  |     |           |\n",
      "   |              |  |     |           |->47  White\n",
      "   |              |  |     |\n",
      "   |              |  |  |->28 then if Total sulfur dioxide =< 275.00: go to 29, else go to 48\n",
      "   |              |  |  |  |\n",
      "   |              |  |  |  |->48  White\n",
      "   |              |  |  |\n",
      "   |              |  |->27 else if Sulphates =< 0.81: go to 28, else go to 49\n",
      "   |              |     |\n",
      "   |              |     |->49  White\n",
      "   |              |\n",
      "   |           |->24 then if pH =< 3.83: go to 25, else go to 50\n",
      "   |           |  |\n",
      "   |           |  |->50  Red\n",
      "   |           |\n",
      "   |        |->23 then if Chlorides =< 0.07: go to 24, else go to 51\n",
      "   |        |  |\n",
      "   |        |  |->51  White\n",
      "   |        |\n",
      "   |     |->22 then if Sulphates =< 1.12: go to 23, else go to 52\n",
      "   |     |  |\n",
      "   |     |  |->52  Red\n",
      "   |     |\n",
      "   |  |->21 then if Volatile acidity =< 0.82: go to 22, else go to 53\n",
      "   |  |  |\n",
      "   |  |  |->53  Red\n",
      "   |  |\n",
      "   |->20 else if Chlorides =< 0.07: go to 21, else go to 54\n",
      "      |\n",
      "      |     |->56  Red\n",
      "      |     |\n",
      "      |  |->55 then if Citric acid =< 0.06: go to 56, else go to 57\n",
      "      |  |  |\n",
      "      |  |  |  |->58  Red\n",
      "      |  |  |  |\n",
      "      |  |  |->57 else if Chlorides =< 0.07: go to 58, else go to 59\n",
      "      |  |     |\n",
      "      |  |     |  |->60  Red\n",
      "      |  |     |  |\n",
      "      |  |     |->59 else if Total sulfur dioxide =< 68.50: go to 60, else go to 61\n",
      "      |  |        |\n",
      "      |  |        |  |->62  White\n",
      "      |  |        |  |\n",
      "      |  |        |->61 else if Fixed acidity =< 9.95: go to 62, else go to 63\n",
      "      |  |           |\n",
      "      |  |           |->63  Red\n",
      "      |  |\n",
      "      |->54 else if Density =< 1.00: go to 55, else go to 64\n",
      "         |\n",
      "         |        |->67  White\n",
      "         |        |\n",
      "         |     |->66 then if Volatile acidity =< 0.23: go to 67, else go to 68\n",
      "         |     |  |\n",
      "         |     |  |->68  Red\n",
      "         |     |\n",
      "         |  |->65 then if Total sulfur dioxide =< 157.50: go to 66, else go to 69\n",
      "         |  |  |\n",
      "         |  |  |->69  White\n",
      "         |  |\n",
      "         |->64 else if Residual sugar =< 6.25: go to 65, else go to 70\n",
      "            |\n",
      "            |->70  White\n",
      "<---------------------------------------------------------------------------------------->\n",
      "Tree Depth:  18\n"
     ]
    }
   ],
   "source": [
    "from sklearn.tree import DecisionTreeClassifier\n",
    "from Toolbox import treeprint\n",
    "\n",
    "dtc = DecisionTreeClassifier(min_samples_split = 100)\n",
    "#dtc = DecisionTreeClassifier(min_samples_split = 200)\n",
    "dtc = dtc.fit(X,y)\n",
    "treeprint.tree_print(dtc, new_attributeNames, new_classNames)"
   ]
  },
  {
   "cell_type": "markdown",
   "metadata": {},
   "source": [
    "When we change the value of the Min_samples_split, the minimum number of the samples required for splitting changes, thus the splitting and layout of the tree. "
   ]
  },
  {
   "cell_type": "markdown",
   "metadata": {},
   "source": [
    "#### 3.1.3\n",
    "\n",
    "(0.5 pts) Show that a wine with the following attribute values would be classified as white by the tree fitted in 3.1.2, by applying the `predict()` function from the DecisionTreeClassifier to this sample.  Have another look at the visualized tree. Which attributes are used to classify this wine? \n",
    "\n",
    "| #             | Attribute     | Value  |\n",
    "| ------------- |:-------------| -----:|\n",
    "|1 | Fixed acidity (tartaric) | 6.9 g/dm$^3$ |\n",
    "|2 | Volatile acidity (acetic) | 1.09 g/dm$^3$ |\n",
    "|3 | Citric acid | 0.06 g/dm$^3$ |\n",
    "|4 | Residual sugar | 2.1 g/dm$^3$ |\n",
    "|5 | Chlorides | 0.0061 g/dm$^3$ |\n",
    "|6 | Free sulfur dioxide | 12 mg/dm$^3$ |\n",
    "|7 | Total sulfur dioxide | 31 mg/dm$^3$ |\n",
    "|8 | Density | 0.99 g/cm$^3$ |\n",
    "|9 | pH | 3.5 |\n",
    "|10 | Sulphates | 0.64 g/dm$^3$ |\n",
    "|11 | Alcohol | 12 % vol. | \n",
    "\n",
    "** hints: **\n",
    "*If you don't know how to classify input values with a tree, see the help documentation for the DecisionTreeClassifier function on how to predict the label for a sample. *"
   ]
  },
  {
   "cell_type": "code",
   "execution_count": 8,
   "metadata": {},
   "outputs": [
    {
     "name": "stdout",
     "output_type": "stream",
     "text": [
      "White\n"
     ]
    }
   ],
   "source": [
    "wine_data = [[6.9,1.09,0.06,2.1,0.0061,12,31,0.99,3.5,0.64,12]]\n",
    "x  = new_classNames[dtc.predict(wine_data)[0]]\n",
    "print(x)"
   ]
  },
  {
   "cell_type": "markdown",
   "metadata": {},
   "source": [
    "Volatile acidity, chlorides, sulphates"
   ]
  },
  {
   "cell_type": "markdown",
   "metadata": {},
   "source": [
    "#### 3.1.4\n",
    "(1 pts) Classify all the wines in the wine data set. What percentage of the wine data is classified correctly by the tree?\n",
    "\n"
   ]
  },
  {
   "cell_type": "code",
   "execution_count": 11,
   "metadata": {},
   "outputs": [
    {
     "name": "stdout",
     "output_type": "stream",
     "text": [
      "98.68337563451777\n"
     ]
    }
   ],
   "source": [
    "a = 0\n",
    "classified = dtc.predict(X)\n",
    "for i in range(len(X)):\n",
    " if (classified[i] == y[i]) :\n",
    "    a += 1\n",
    "\n",
    "correctness = a/len(X) * 100\n",
    "print(correctness)"
   ]
  },
  {
   "cell_type": "markdown",
   "metadata": {},
   "source": [
    "98% is correctly classified by the tree."
   ]
  },
  {
   "cell_type": "markdown",
   "metadata": {},
   "source": [
    "## 3.2 Decision tree pruning using cross-validation\n",
    "\n",
    "In this exercise we will use cross-validation to prune a decision tree. When applying cross-validation the observed data is split into training and test sets, i.e., `X_train`, `y_train` and `X_test` and `y_test`. We train the model on the training data and evaluate the performance of the trained model on the test data.\n",
    "\n",
    "#### 3.2.1\n",
    "(2 pts) We are again using the wine data set `Data/wine.mat`. Divide the data into a training and a test data set (see hints!). Fit a decision tree to the training data using the Gini (`gdi`) splitting criterion.\n",
    "\n",
    "Now, we want to find an optimally pruned decision tree by *modifying its maximum depth*. For different values of the parameter `depth` (from 2 to 20), \n",
    "+ first fit the decision tree\n",
    "+ then compute the classification error on the training and test set (this is called holdout cross-validation)\n",
    "\n",
    "When you've done this for `depth` values 2,...,20, plot the training and test classification error as a function of the tree depth in the same figure. This will show us what the optimal pruning depth is for the training set, but also how well this generalizes to a test set. \n",
    "\n",
    "\n",
    "** hints: **  \n",
    "*Take a look at the module `sklearn.model_selection` and see how it can be used to partition the data into a training and a test set (holdout validation, `train_test_split()` function). Note that the package also contains functions to partition data for K-fold cross-validation. Some of the functions can ensure that both training and test sets have roughly the same class proportions. The error is 1-accuracy. The easiest way to compute the accuracy is by using the sklearn metrics module: \n",
    " https://scikit-learn.org/stable/modules/generated/sklearn.metrics.accuracy_score.html *\n",
    "\n",
    "What appears to be the optimal tree depth? Do you get the same result when you run your code again, generating a new random split between training and test data?\n"
   ]
  },
  {
   "cell_type": "code",
   "execution_count": 59,
   "metadata": {},
   "outputs": [
    {
     "name": "stdout",
     "output_type": "stream",
     "text": [
      "Depth: 2 of the tree has a accuracy of: 0.9572758037225042 for training set, and of: 0.9498730964467005 for test set.\n",
      "Depth: 3 of the tree has a accuracy of: 0.9769458544839256 for training set, and of: 0.9676395939086294 for test set.\n",
      "Depth: 4 of the tree has a accuracy of: 0.9868866328257191 for training set, and of: 0.9771573604060914 for test set.\n",
      "Depth: 5 of the tree has a accuracy of: 0.9923857868020305 for training set, and of: 0.9828680203045685 for test set.\n",
      "Depth: 6 of the tree has a accuracy of: 0.9949238578680203 for training set, and of: 0.983502538071066 for test set.\n",
      "Depth: 7 of the tree has a accuracy of: 0.9955583756345178 for training set, and of: 0.9841370558375635 for test set.\n",
      "Depth: 8 of the tree has a accuracy of: 0.9985194585448393 for training set, and of: 0.9854060913705583 for test set.\n",
      "Depth: 9 of the tree has a accuracy of: 0.9991539763113367 for training set, and of: 0.9847715736040609 for test set.\n",
      "Depth: 10 of the tree has a accuracy of: 0.9993654822335025 for training set, and of: 0.9822335025380711 for test set.\n",
      "Depth: 11 of the tree has a accuracy of: 0.9995769881556683 for training set, and of: 0.983502538071066 for test set.\n",
      "Depth: 12 of the tree has a accuracy of: 0.9995769881556683 for training set, and of: 0.9847715736040609 for test set.\n",
      "Depth: 13 of the tree has a accuracy of: 0.9997884940778342 for training set, and of: 0.9847715736040609 for test set.\n",
      "Depth: 14 of the tree has a accuracy of: 0.9997884940778342 for training set, and of: 0.9828680203045685 for test set.\n",
      "Depth: 15 of the tree has a accuracy of: 0.9997884940778342 for training set, and of: 0.9841370558375635 for test set.\n",
      "Depth: 16 of the tree has a accuracy of: 0.9997884940778342 for training set, and of: 0.9828680203045685 for test set.\n",
      "Depth: 17 of the tree has a accuracy of: 0.9997884940778342 for training set, and of: 0.9828680203045685 for test set.\n",
      "Depth: 18 of the tree has a accuracy of: 0.9997884940778342 for training set, and of: 0.9841370558375635 for test set.\n",
      "Depth: 19 of the tree has a accuracy of: 0.9997884940778342 for training set, and of: 0.9841370558375635 for test set.\n",
      "Depth: 20 of the tree has a accuracy of: 0.9997884940778342 for training set, and of: 0.983502538071066 for test set.\n"
     ]
    },
    {
     "data": {
      "image/png": "[encoded data removed]",
      "text/plain": [
       "<Figure size 432x288 with 1 Axes>"
      ]
     },
     "metadata": {
      "needs_background": "light"
     },
     "output_type": "display_data"
    }
   ],
   "source": [
    "from sklearn import model_selection, tree\n",
    "\n",
    "my_data = sio.loadmat('C:/Users/User/Desktop/1st sem/dm/Assignment_3/Assignment_3/Data/wine.mat') \n",
    "\n",
    "X = my_data['X']\n",
    "y = my_data['y']\n",
    "y = y.ravel()\n",
    "\n",
    "attributeNames = my_data['attributeNames']\n",
    "classNames = my_data['classNames']\n",
    "\n",
    "attributes = [attributeNames[0][i][0] for i in range (attributeNames.shape[1])]\n",
    "classes = [classNames[i][0][0] for i in range (classNames.shape[0])]\n",
    "\n",
    "X_train, X_test, y_train, y_test = model_selection.train_test_split(X, y, test_size=0.25, random_state=10)\n",
    "\n",
    "depths = list(range(2,21))\n",
    "trains = []\n",
    "tests = []\n",
    "for dep in range (2,21):\n",
    "    similarTrain = 0\n",
    "    similarTest = 0\n",
    "    dtc = tree.DecisionTreeClassifier(criterion = \"gini\", max_depth = dep)\n",
    "    myTree = dtc.fit(X_train,y_train)\n",
    "    predictionTrain = dtc.predict(X_train)\n",
    "    predictionTest = dtc.predict(X_test)\n",
    "    for x in range (len(X_train)):\n",
    "        if (predictionTrain[x] == y_train[x]):\n",
    "            similarTrain +=1\n",
    "    for y in range (len(X_test)):\n",
    "        if (predictionTest[y] == y_test[y]):\n",
    "            similarTest +=1\n",
    "    train_accuracy = similarTrain/len(X_train)\n",
    "    trains.append(1-train_accuracy) \n",
    "    test_accuracy = similarTest/len(X_test)\n",
    "    tests.append(1-test_accuracy) \n",
    "    print(\"Depth: \" + str(dep) + \" of the tree has a accuracy of: \" + str(train_accuracy) + \" for training set, and of: \" + str(test_accuracy) + \" for test set.\")\n",
    "\n",
    "plt.plot(depths,trains, 'r', label =\"Training\")\n",
    "plt.plot(depths,tests, 'b', label=\"Testing\")\n",
    "plt.xlabel(\"Depths\")\n",
    "plt.ylabel(\"% Error\")\n",
    "plt.legend()\n",
    "plt.show() "
   ]
  },
  {
   "cell_type": "markdown",
   "metadata": {},
   "source": [
    "As we train the model on the training data and evaluate the performance of the trained model on the test data, the optimal tree length seems to be around 18. This is because at that point of depth, the test set the minimum percentage of error. If we run the code again and again, we get different yet similar results. While the depth increases, the error generally decreases."
   ]
  },
  {
   "cell_type": "markdown",
   "metadata": {},
   "source": [
    "#### 3.2.2\n",
    "(1.5 pts) Repeat the exercise above, using 10-fold cross-validation. K-fold cross-validation works by splitting X into K partitions of equal length. Then in each fold, you choose K-1 partitions as the training set and the remaining partition as the test set. Every partition gets a turn being a test set. For a very nice simple explanation of how (and why) K-fold works, check out http://www.dummies.com/programming/big-data/data-science/resorting-cross-validation-machine-learning/\n",
    "\n",
    "\n",
    "For each fold, fit a decision tree on the training set and evaluate its performance on the test set. Finally, compute the average classification errors on the test- and training sets across the 10 cross-validation folds and plot them as a function of the tree depth.\n",
    "\n",
    "** hints: **\n",
    "*This time the `KFold()` function from the module `sklearn.model_selection` can be used to partition the data into the 10 training and test partitions. Check out http://scikit-learn.org/stable/modules/cross_validation.html#k-fold for an example of how to acces the indices for the training set and the test set in each fold. Those indices can then be used to create the training and test set, e.g. `X_train = X[train_indices]`*\n",
    "\n",
    "*If you are creating a for loop iterating over an object where you both need the index and the elements of the object, you can enumerate the object. For example:*\n",
    "\n",
    "`\n",
    "for index, (element) in enumerate(object):\n",
    "    array[index] = operation(element)\n",
    "`\n",
    " \n",
    "\n",
    "What appears to be the optimal tree depth? Do you get the same result when you run your code again, generating a new random split between training and test data? How about 100-fold cross-validation?\n"
   ]
  },
  {
   "cell_type": "code",
   "execution_count": 56,
   "metadata": {},
   "outputs": [
    {
     "name": "stdout",
     "output_type": "stream",
     "text": [
      "Figure 1: Plot of the depth vs the classification error on training data and the test data\n"
     ]
    },
    {
     "data": {
      "image/png": "[encoded data removed]",
      "text/plain": [
       "<Figure size 432x288 with 1 Axes>"
      ]
     },
     "metadata": {
      "needs_background": "light"
     },
     "output_type": "display_data"
    }
   ],
   "source": [
    "from sklearn import model_selection, tree\n",
    "from sklearn.model_selection import KFold\n",
    "import numpy as np\n",
    "import scipy.io as sio\n",
    "from scipy import stats\n",
    "import matplotlib.pyplot as plt\n",
    "%matplotlib inline\n",
    "\n",
    "my_data = sio.loadmat('C:/Users/User/Desktop/1st sem/dm/Assignment_3/Assignment_3/Data/wine.mat')\n",
    "X = my_data[\"X\"]\n",
    "y = my_data[\"y\"]\n",
    "\n",
    "X_train, X_test, y_train, y_test = model_selection.train_test_split(X,y)\n",
    "\n",
    "kf = KFold(n_splits=10)\n",
    "for train, test in kf.split(my_data):\n",
    "    depth = []\n",
    "    for i in range(2,21):\n",
    "        depth.append(i)\n",
    "\n",
    "    accurate_test = []\n",
    "    for i in range(2,21):\n",
    "        dtc = DecisionTreeClassifier(max_depth=i)\n",
    "        dtc = dtc.fit(X_test,y_test)\n",
    "        accurate_test.append(1-dtc.score(X_test, y_test))\n",
    "\n",
    "    accurate_train = []\n",
    "    for i in range(2,21):\n",
    "        dtc = DecisionTreeClassifier(max_depth=i)\n",
    "        dtc = dtc.fit(X_train,y_train)\n",
    "        accurate_train.append(1-dtc.score(X_train, y_train))\n",
    "\n",
    "plt.plot(depth, accurate_test, label = \"Test\")\n",
    "plt.plot(depth, accurate_train, label = \"Training\")\n",
    "plt.xlabel(\"Depth\")\n",
    "plt.ylabel(\"%Error\")\n",
    "plt.legend()\n",
    "print(\"Figure 1: Plot of the depth vs the classification error on training data and the test data\") "
   ]
  },
  {
   "cell_type": "markdown",
   "metadata": {},
   "source": [
    "The optimal tree length seems to be around 10. If we run the code again and again, we get different yet similar results. "
   ]
  },
  {
   "cell_type": "markdown",
   "metadata": {},
   "source": [
    " ## 3.3 ROC curves, AUC scores, and the sign test\n",
    "\n",
    "In this exercise we will use ROC curves and the sign test to compare classifiers. Study the lecture slides and the paper 'ROC Graphs: Notes and Practical Considerations for Researchers' by Tom Fawcett included with the homework assignment (ROC101.pdf). It describes all you need to know (and much, much more..) about ROC curves. The method explained for computing the area under the curve is unnecessarily complicated. A simpler formula is:\n",
    "$$\n",
    "    \\mbox{AUC} = {1 \\over m n} \\sum_{i=1}^m \\sum_{j=1}^n \\mathbf{\\large 1}_{p_i > p_j} \\: .\n",
    "   $$\n",
    "Here $i$ runs over all $m$ data points with true label 1, and $j$ runs over all $n$ data points with true label $0$; $p_i$ and $p_j$ denote the probability score assigned by the classifier to data point $i$ and $j$, respectively. $\\mathbf{\\large 1}$ is the indicator function: it outputs $1$ if the condition (here $p_i > p_j$) is satisfied and $0$ otherwise. *Simply put: this formula computes how often the probability of a data point with true label 1 is higher than the probability of data points with true label 0. This is then divided by the total number of comparisons between probabilities.*\n",
    "    \n",
    "\n",
    "#### 3.3.1\n",
    "(0.25 pts) To make sure you understand how ROC works, make an ROC curve and calculate the AUC (on paper) with the following data:\n",
    "\n",
    "`\n",
    "labels = [0,0,0,1,0,1,1,0,1,1]\n",
    "classifier_probs = [0.1,0.2,0.3,0.4,0.5,0.6,0.7,0.8,0.9,0.99]\n",
    "`\n",
    "    \n",
    "What's the AUC you calculated? Do you think this classifier works well?\n"
   ]
  },
  {
   "cell_type": "markdown",
   "metadata": {},
   "source": [
    "0-> 0.1 0-> 0.2 0-> 0.3 1-> 0.4 0-> 0.5 1-> 0.6 1-> 0.7 0-> 0.8 1-> 0.9 1-> 0.99\n",
    "(0.1 vs. 0.4 = 1) (0.1 vs 0.6 = 1) (0.1 vs 0.7 = 1) (0.1 vs 0.9 = 1) (0.1 vs 0.99 = 1) (0.2 vs. 0.4 = 1) (0.2 vs 0.6 = 1) (0.2 vs 0.7 = 1) (0.2 vs 0.9 = 1) (0.2 vs 0.99 = 1) (0.3 vs. 0.4 = 1) (0.3 vs 0.6 = 1) (0.3 vs 0.7 = 1) (0.3 vs 0.9 = 1) (0.3 vs 0.99 = 1) (0.5 vs. 0.4 = 0) (0.5 vs 0.6 = 1) (0.5 vs 0.7 = 1) (0.5 vs 0.9 = 1) (0.5 vs 0.99 = 0) (0.8 vs. 0.4 = 0) (0.8 vs 0.6 = 0) (0.8 vs 0.7 = 1) (0.8 vs 0.9 = 1) (0.8 vs 0.99 = 1)\n",
    "AUC= 21/25 because as we can see that the case of 1 is bigger than 0, 21 times out of all 25 cases."
   ]
  },
  {
   "cell_type": "markdown",
   "metadata": {},
   "source": [
    "#### 3.3.2\n",
    "  Load the file `Data/classprobs.xls` using the Pandas `read_excel` function. Inspect the data and cast it to an array with the `.values` attribute. The first column gives the true class label (either 0 or 1). The second and third column give the probabilistic scores for two different classifiers. The higher this probability, the more certain the classifier is that the example belongs to class 1 (instead of class 0).\n"
   ]
  },
  {
   "cell_type": "code",
   "execution_count": 64,
   "metadata": {},
   "outputs": [
    {
     "name": "stdout",
     "output_type": "stream",
     "text": [
      "[1. 0. 0. 0. 0. 1. 0. 1. 1. 0. 0. 1. 1. 0. 0. 1. 0. 1. 1. 0. 0. 0. 0. 1.\n",
      " 0. 0. 1. 1. 0. 1. 1. 0. 1. 0. 0. 1. 1. 0. 1. 1. 1. 1. 1. 1. 0. 0. 1. 0.\n",
      " 1. 0. 1. 1. 1. 0. 1. 0. 1. 0. 0. 1. 1. 1. 1. 0. 0. 1. 0. 0. 0. 1. 0. 1.\n",
      " 0. 0. 1. 0. 1. 0. 1. 1. 1. 0. 1. 1. 0. 0. 0. 0. 1. 1. 0. 0. 1. 1. 1. 0.\n",
      " 1. 0. 0. 0. 1. 0. 0. 0. 1. 1. 1. 0.]\n",
      "[0.887    0.13591  0.55549  0.23876  0.14542  0.81876  0.50594  0.93954\n",
      " 0.22339  0.31219  0.19486  0.61471  0.63854  0.29924  0.16546  0.72124\n",
      " 0.1088   0.48676  0.94156  0.2968   0.24267  0.17043  0.015464 0.30852\n",
      " 0.11212  0.29639  0.97275  0.58501  0.12244  0.87557  0.76142  0.14132\n",
      " 0.86004  0.13915  0.18889  0.96075  0.83076  0.089368 0.68199  0.85489\n",
      " 0.56139  0.93078  0.75955  0.61855  0.092059 0.67612  0.63252  0.31297\n",
      " 0.82238  0.51416  0.99809  0.72686  0.55046  0.25546  0.94669  0.27347\n",
      " 0.31107  0.24862  0.50734  0.43013  0.52135  0.85277  0.68814  0.034719\n",
      " 0.30511  0.84431  0.082462 0.018232 0.51123  0.36436  0.15529  0.74259\n",
      " 0.23423  0.5569   0.98439  0.66793  0.64618  0.33115  0.65452  0.74047\n",
      " 0.67109  0.47944  0.61722  0.58154  0.18569  0.42642  0.34196  0.19386\n",
      " 0.71375  0.70223  0.034833 0.28422  0.78385  0.93666  0.83752  0.11601\n",
      " 0.85762  0.3934   0.21118  0.60127  0.87517  0.27786  0.26974  0.014577\n",
      " 0.66804  0.83725  0.89512  0.18806 ]\n",
      "[0.79706  0.099401 0.65075  0.50857  0.23629  0.48949  0.038203 0.23982\n",
      " 0.62287  0.57823  0.61664  0.5013   0.75183  0.33768  0.44035  0.44813\n",
      " 0.37254  0.25349  0.64531  0.53258  0.26251  0.44888  0.5467   0.32406\n",
      " 0.28476  0.41658  0.79959  0.30657  0.43778  0.75815  0.32031  0.22986\n",
      " 0.35583  0.39455  0.49216  0.67214  0.77401  0.11584  0.61933  0.57659\n",
      " 0.63589  0.41764  0.54143  0.61504  0.10315  0.58934  0.43285  0.84436\n",
      " 0.41054  0.12823  0.3195   0.53859  0.8621   0.48115  0.73634  0.053111\n",
      " 0.45811  0.38683  0.61375  0.63192  0.52524  0.55801  0.71352  0.18274\n",
      " 0.75859  0.65031  0.26048  0.45213  0.54973  0.64985  0.44893  0.43821\n",
      " 0.47979  0.41085  0.6358   0.14227  0.72749  0.41956  0.65668  0.50759\n",
      " 0.48028  0.30758  0.68681  0.74264  0.62643  0.11776  0.27483  0.31169\n",
      " 0.49963  0.52853  0.55323  0.31598  0.29664  0.51497  0.49083  0.24568\n",
      " 0.52682  0.54303  0.26469  0.45642  0.73298  0.25315  0.35386  0.3425\n",
      " 0.33838  0.61015  0.79699  0.25373 ]\n"
     ]
    }
   ],
   "source": [
    "import numpy as np\n",
    "import pandas as pd\n",
    " \n",
    "file = pd.read_excel('Data/classprobs.xls', sheet_name='Sheet1', header = None)\n",
    "m = file.values\n",
    "\n",
    "trueClass = m[:,0]\n",
    "probs1 = m[:,1]\n",
    "probs2 = m[:,2]\n",
    "\n",
    "print(trueClass)\n",
    "print(probs1)\n",
    "print(probs2)"
   ]
  },
  {
   "cell_type": "markdown",
   "metadata": {},
   "source": [
    "#### 3.3.3\n",
    "(1 pts) Calculate the ROC curves for both of the classifiers by calculating the FP and TP rates and plot them in the same plot. Make the plot yourself as opposed to using a library! Also plot a dashed line on the diagonal to represent random guessing in the same figure. Interpret the obtained results. Do both classifiers perform better than random guessing?\n",
    "\n",
    "** hints: **  \n",
    "*The function `sklearn.metrics.roc_curve` can be used for computing the FP and TP rates. You can then plot them using the `matplotlib.pyplot` `plot` function. Check the documentation on how to plot a dashed line. Remember to include a legend!* \n",
    "\n",
    "**An extra tip: the sign test example below includes a figure with dashed lines and a legend...**\n",
    " "
   ]
  },
  {
   "cell_type": "code",
   "execution_count": 65,
   "metadata": {},
   "outputs": [
    {
     "data": {
      "image/png": "[encoded data removed]",
      "text/plain": [
       "<Figure size 432x288 with 1 Axes>"
      ]
     },
     "metadata": {
      "needs_background": "light"
     },
     "output_type": "display_data"
    }
   ],
   "source": [
    "from sklearn import metrics\n",
    "\n",
    "FP1, TP1, threshold1 = metrics.roc_curve(trueClass, probs1)\n",
    "FP2, TP2, threshold2 = metrics.roc_curve(trueClass, probs2)\n",
    "\n",
    "plt.plot(FP1, TP1, '--',label = 'threshold1')\n",
    "plt.plot(FP2, TP2,  '--',label = 'threshold2')\n",
    "plt.plot([0.0,1.0], \"--\", label = 'random line')\n",
    "plt.legend()\n",
    "plt.xlabel('False positive')\n",
    "plt.ylabel('True positive')\n",
    "plt.title('ROC curve')\n",
    "plt.show() "
   ]
  },
  {
   "cell_type": "markdown",
   "metadata": {},
   "source": [
    "They both perform better as both are above the random guessing line."
   ]
  },
  {
   "cell_type": "markdown",
   "metadata": {},
   "source": [
    "#### 3.3.4\n",
    "(0.5 pts) Compute the AUC scores (area under the curve) of both classifiers using the formula given above. **Write your own code for this calculation.** Do the AUC scores indicate that the classifiers are performing better than this baseline?\n",
    "\n",
    "\n",
    "\n",
    "\n",
    " "
   ]
  },
  {
   "cell_type": "code",
   "execution_count": 67,
   "metadata": {},
   "outputs": [
    {
     "name": "stdout",
     "output_type": "stream",
     "text": [
      "0.9564471879286693\n",
      "0.7654320987654321\n"
     ]
    }
   ],
   "source": [
    "probs10 = []\n",
    "probs11 = []\n",
    "probs20 = []\n",
    "probs21 = []\n",
    "i = 0 \n",
    "for x in trueClass:\n",
    "    if x == 0:\n",
    "        probs10.append(probs1[i])\n",
    "        probs20.append(probs2[i])\n",
    "    else:\n",
    "        probs11.append(pred1[i])\n",
    "        probs21.append(pred2[i])\n",
    "    i += 1\n",
    "\n",
    "values1 = []\n",
    "values2 = []\n",
    "for x in probs10:\n",
    "    for y in probs11:\n",
    "        if y>x:\n",
    "            values1.append(1)\n",
    "        else:\n",
    "            values1.append(0)\n",
    "\n",
    "for x in probs20:\n",
    "    for y in probs21:\n",
    "        if y>x:\n",
    "            values2.append(1)\n",
    "        else:\n",
    "            values2.append(0)\n",
    "\n",
    "AUC_1 = (1/(len(probs11)*len(probs10)))*sum(values1)\n",
    "AUC_2 = (1/(len(probs21)*len(probs20)))*sum(values2) \n",
    "print(AUC_1)\n",
    "print(AUC_2)"
   ]
  },
  {
   "cell_type": "markdown",
   "metadata": {},
   "source": [
    "They both perform better as both are higher than the baseline, which is 0.5."
   ]
  },
  {
   "cell_type": "markdown",
   "metadata": {},
   "source": [
    "\n",
    "#### 3.3.5\n",
    "(0.25 pts) Using a threshold of 0.5, translate the probability scores to predicted class labels, and compute the accuracy for each of the classifiers.\n",
    "\n",
    "** hint: **\n",
    "\n",
    "*Take a look at https://scikit-learn.org/stable/modules/generated/sklearn.metrics.accuracy_score.html *"
   ]
  },
  {
   "cell_type": "code",
   "execution_count": 69,
   "metadata": {},
   "outputs": [
    {
     "name": "stdout",
     "output_type": "stream",
     "text": [
      "Classifier1:  0.8611111111111112\n",
      "Classifier2:  0.6944444444444444\n"
     ]
    }
   ],
   "source": [
    "c2 = []\n",
    "for i in range (108): \n",
    "    if m[i][1] > 0.5: \n",
    "        c2.append(1)\n",
    "    else:\n",
    "        c2.append(0)\n",
    "        \n",
    "c3 = []\n",
    "for i in range (108):\n",
    "    if m[i][2] > 0.5: \n",
    "        c3.append(1)\n",
    "    else:\n",
    "        c3.append(0)\n",
    "        \n",
    "second = metrics.accuracy_score(trueClass, c2)\n",
    "third = metrics.accuracy_score(trueClass, c3)\n",
    "print(\"Classifier1: \", second)\n",
    "print(\"Classifier2: \", third)"
   ]
  },
  {
   "cell_type": "markdown",
   "metadata": {},
   "source": [
    "#### 3.3.6\n",
    "(1 pts) Create the 2x2 table (or array, or list, or dataframe..) of wrong and correct classifications by the first and the second classifier, like in the lecture slides (lecture on model evaluation, part on the sign test). Perform a sign test to test whether the performance of the two classifiers is significantly different at a significance level of 0.05. **If you are not familiar with sign testing, you can read the example provided below.**\n",
    "\n",
    "\n",
    "** hints: **  \n",
    "*As explained in the lecture slides, the sign test is a binomial test on the lower-left ($N_{1<2}$) and upper-right ($N_{1>2}$) elements of the cross table. Unlike in the lecture slides, here you need to perform a two-sided test: $$\\textrm{p-value} = P(W \\leq \\min(N_{1<2},N_{1>2}) \\textrm{ or } W \\geq  \\max(N_{1<2},N_{1>2})$$\n",
    "The function `scipy.stats.binom.cdf` can be used to compute the cumulative density of the binomial distribution.\n",
    "For more information on the sign test, see the included paper by Salzberg (signtest.pdf, in particular section 3.1).*"
   ]
  },
  {
   "cell_type": "code",
   "execution_count": 70,
   "metadata": {},
   "outputs": [
    {
     "name": "stdout",
     "output_type": "stream",
     "text": [
      "Both correct:  67\n",
      "One correct, Two wrong:  26\n",
      "One wrong, One correct:  8\n",
      "Both wrong:  7\n",
      "2x2 array:  [[67, 26], [8, 7]]\n",
      "One correct:  93\n",
      "One wrong:  15\n",
      "Two correct:  75\n",
      "One wrong:  33\n"
     ]
    },
    {
     "data": {
      "image/png": "[encoded data removed]",
      "text/plain": [
       "<Figure size 432x288 with 1 Axes>"
      ]
     },
     "metadata": {
      "needs_background": "light"
     },
     "output_type": "display_data"
    },
    {
     "name": "stdout",
     "output_type": "stream",
     "text": [
      "The p-value is 0.003\n"
     ]
    }
   ],
   "source": [
    "from scipy.stats import binom\n",
    "\n",
    "P1P2 = 0\n",
    "P1N2 = 0\n",
    "N1P2 = 0\n",
    "N1N2 = 0\n",
    "\n",
    "for i in range(108):\n",
    "    if c2[i]==trueClass[i] and c3[i]==trueClass[i]:\n",
    "        P1P2 += 1\n",
    "    if c2[i]==trueClass[i] and (not c3[i]==trueClass[i]):\n",
    "        P1N2 += 1\n",
    "    if (not c2[i]==trueClass[i]) and c3[i]==trueClass[i]:\n",
    "        N1P2 += 1\n",
    "    if (not c2[i]==trueClass[i]) and (not c3[i]==trueClass[i]):\n",
    "        N1N2 += 1\n",
    "\n",
    "print(\"Both correct: \", P1P2)\n",
    "print(\"One correct, Two wrong: \", P1N2)\n",
    "print(\"One wrong, One correct: \", N1P2)\n",
    "print(\"Both wrong: \", N1N2)\n",
    "print(\"2x2 array: \",[[P1P2, P1N2],[N1P2, N1N2]])\n",
    "print(\"One correct: \", P1P2 + P1N2)\n",
    "print(\"One wrong: \", N1N2 + N1P2)\n",
    "print(\"Two correct: \", P1P2 + N1P2)\n",
    "print(\"One wrong: \", N1N2 + P1N2)\n",
    "\n",
    "\n",
    "N = P1N2 + N1P2\n",
    "b = binom(N,0.5) \n",
    "plt.plot(b.pmf(range(N+1)), '--o',label = 'Probability density')\n",
    "plt.plot(b.cdf(range(N+1)), '--o',label = 'Cumulative distribution')\n",
    "plt.legend()\n",
    "plt.xlabel('Number of times one classifier is better than the other')\n",
    "plt.ylabel('Probability')\n",
    "plt.title('Performance of both classifiers')\n",
    "plt.show()\n",
    "\n",
    "p_value = b.cdf(min(N1P2,P1N2)) + (1-b.cdf(max(N1P2,P1N2)-1))\n",
    "print('The p-value is {:.3f}'.format(p_value))"
   ]
  },
  {
   "cell_type": "markdown",
   "metadata": {},
   "source": [
    "We reject the null hypothesis as the p-value(0.03) is smaller than 0.05, the significant difference exist. Classifier 1 is better than Classifier 2."
   ]
  },
  {
   "cell_type": "markdown",
   "metadata": {},
   "source": [
    "## Example two-sided sign test\n",
    "\n",
    "Imagine you have a lucky coin, that you are certain does not result in heads 50% of the times you flip it. However, you friend (lets call him *zero_hypothesis*) claims that your coin is just like his random coin. To verify whether this is true, you decide to compare the performance (you are a scientist after all) of your lucky coin resulting in heads to the performance of his random coin resulting in heads with a sign test. How do you do this?\n",
    "\n",
    "First, you collect data. Assume you place 23 bets. During those 23 bets, you both flip your respective coins. It was determined that if one of you flipped head while the other didn't, that person won the bet, and the other person lost. If you both got the same outcome, neither of you won. 1 stands for head, and 0 for tails. These were your results:"
   ]
  },
  {
   "cell_type": "code",
   "execution_count": 1,
   "metadata": {},
   "outputs": [
    {
     "name": "stdout",
     "output_type": "stream",
     "text": [
      "----------lucky | random \n",
      " bet 0      | 1 | 0\n",
      " bet 1      | 1 | 1\n",
      " bet 2      | 1 | 0\n",
      " bet 3      | 0 | 1\n",
      " bet 4      | 1 | 0\n",
      " bet 5      | 1 | 1\n",
      " bet 6      | 1 | 0\n",
      " bet 7      | 1 | 0\n",
      " bet 8      | 1 | 0\n",
      " bet 9      | 0 | 1\n",
      " bet 10     | 1 | 0\n",
      " bet 11     | 1 | 1\n",
      " bet 12     | 1 | 0\n",
      " bet 13     | 1 | 1\n",
      " bet 14     | 0 | 1\n",
      " bet 15     | 1 | 1\n",
      " bet 16     | 1 | 1\n",
      " bet 17     | 0 | 0\n",
      " bet 18     | 1 | 0\n",
      " bet 19     | 1 | 0\n",
      " bet 20     | 1 | 0\n",
      " bet 21     | 0 | 0\n",
      " bet 22     | 1 | 0\n",
      " -----\n",
      "\n"
     ]
    }
   ],
   "source": [
    "import numpy as np\n",
    "from scipy.stats import binom\n",
    "import matplotlib.pyplot as plt\n",
    "\n",
    "#results\n",
    "lucky_coin = np.array([1,1,1,0,1,1,1,1,1,0,1,1,1,1,0,1,1,0,1,1,1,0,1])\n",
    "random_coin= np.array([0,1,0,1,0,1,0,0,0,1,0,1,0,1,1,1,1,0,0,0,0,0,0])\n",
    "\n",
    "print('----------lucky | random \\n',*['bet {:<5}  | {} | {}\\n'.format(t[0],t[1],t[2]) for t in zip(range(0,len(lucky_coin)),lucky_coin,random_coin)],'-----\\n')"
   ]
  },
  {
   "cell_type": "markdown",
   "metadata": {},
   "source": [
    "Now you calculate how often in any pair of outcomes one coin *won*, i.e. one coin flipped to head while the other flipped to tails."
   ]
  },
  {
   "cell_type": "code",
   "execution_count": 2,
   "metadata": {},
   "outputs": [
    {
     "name": "stdout",
     "output_type": "stream",
     "text": [
      "The lucky coin won 12 times, while the random won 3 times.\n"
     ]
    }
   ],
   "source": [
    "N_l = sum((lucky_coin == 1) & (random_coin == 0)) #how often your lucky coin won\n",
    "N_r = sum((lucky_coin == 0) & (random_coin == 1)) #how often the random coin won\n",
    "N = N_l + N_r #how often one coin was a winner\n",
    "print('The lucky coin won {} times, while the random won {} times.'.format(N_l,N_r))"
   ]
  },
  {
   "cell_type": "markdown",
   "metadata": {},
   "source": [
    "You observed 15 times that one coin won. If both coins resulted in heads 50% of the time, like *zero_hypothesis* stated, you'd expect that both coins have 50% chance of being the winner. So the probability distributions for both N_l and N_r should look something like this, assuming that *zero_hypothesis* is right:"
   ]
  },
  {
   "cell_type": "code",
   "execution_count": 3,
   "metadata": {},
   "outputs": [
    {
     "data": {
      "image/png": "[encoded data removed]",
      "text/plain": [
       "<Figure size 432x288 with 1 Axes>"
      ]
     },
     "metadata": {},
     "output_type": "display_data"
    }
   ],
   "source": [
    "b = binom(N,0.5) #N=observations of inequality, p=prob of one coin being better, which is 0.5 according to your H0\n",
    "plt.plot(b.pmf(range(N+1)), '--o',label = 'Probability density')\n",
    "plt.plot(b.cdf(range(N+1)), '--o',label = 'Cumulative distribution')\n",
    "plt.legend()\n",
    "plt.xlabel('Number of times one coin is better than the other')\n",
    "plt.ylabel('Probability')\n",
    "plt.title('Distribution according to H0')\n",
    "plt.show()"
   ]
  },
  {
   "cell_type": "markdown",
   "metadata": {},
   "source": [
    "(Of course this is a discrete probability function, so you're not interested in values between integers.)\n",
    "\n",
    "As you can see, according to *zero_hypothesis*, 7 and 8 are the most likely values for both N_l and N_r. But this is not what you observed in your data. To conclude that *H0* is false, you need to show that your outcome is unlikely under the assumption that *H0* is true: the values you observed are so extreme that these values or more extreme values occur less than 5% of the time (*p-value < 0.05*). So how unlikely is it that one coin is better 12 times or more, and the other is better 3 times or less?\n",
    "\n",
    "It's the sum of the values of the probability density function (pdf or pmf in the python doc) at  0,1,2 and 3, plus the sum of the values of the pdf at 12,13,14 and 15. \n",
    "\n",
    "This is equal to the value of the cumulative distribution function (cdf) at 3, plus 1 minus the value of cdf at 11 (since `1-cdf(11)` represents the probability of observing 12 or bigger)."
   ]
  },
  {
   "cell_type": "code",
   "execution_count": 4,
   "metadata": {},
   "outputs": [
    {
     "name": "stdout",
     "output_type": "stream",
     "text": [
      "The p-value is 0.035\n"
     ]
    }
   ],
   "source": [
    "p_value = b.cdf(min(N_r,N_l)) + (1-b.cdf(max(N_r,N_l)-1))\n",
    "print('The p-value is {:.3f}'.format(p_value))"
   ]
  },
  {
   "cell_type": "markdown",
   "metadata": {},
   "source": [
    "So your observations are very unlikely if *zero_hypothesis* is right. By statistical theory, you can now say that you have significant reason to reject their opinion. Now the hardest part of statistics: convincing your non-scientist friends."
   ]
  }
 ],
 "metadata": {
  "anaconda-cloud": {},
  "kernelspec": {
   "display_name": "Python 3",
   "language": "python",
   "name": "python3"
  },
  "language_info": {
   "codemirror_mode": {
    "name": "ipython",
    "version": 3
   },
   "file_extension": ".py",
   "mimetype": "text/x-python",
   "name": "python",
   "nbconvert_exporter": "python",
   "pygments_lexer": "ipython3",
   "version": "3.7.3"
  }
 },
 "nbformat": 4,
 "nbformat_minor": 1
}
