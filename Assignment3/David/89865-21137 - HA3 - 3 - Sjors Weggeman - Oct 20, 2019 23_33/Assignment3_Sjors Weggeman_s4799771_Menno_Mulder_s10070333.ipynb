{
 "cells": [
  {
   "cell_type": "markdown",
   "metadata": {},
   "source": [
    "# Assignment 3\n",
    "\n",
    "## Objective of this assignment\n",
    "The objective of this exercise is to become familiar with fitting decision trees and\n",
    "making ROC curves in Python.\n",
    "\n",
    "\n",
    "## ** Important: ** When handing in your homework:\n",
    "+ Hand in the notebook **(and nothing else)** named as follows: StudentName1_snumber_StudentName2_snumber.ipynb\n",
    "+ Provide clear and complete answers to the questions below under a separate header (not hidden somewhere in your source code), and make sure to explain your answers / motivate your choices. Add Markdown cells where necessary.\n",
    "+ Source code, output graphs, derivations, etc., should be included in the notebook.\n",
    "+ Hand-in: upload to Brightspace.\n",
    "+ Include name, student number, assignment (especially in filenames)!\n",
    "+ When working in pairs only one of you should upload the assignment, and report the name of your partner in your filename.\n",
    "+ Use the Brightspace discussion board or email the student assistants for questions on how to complete the exercises.\n",
    "+ If you find mistakes/have suggestions/would like to complain about the assigment material itself, please email me [Lisa] at `l.tostrams@science.ru.nl`\n",
    "\n",
    "\n",
    "## Advised Reading and Exercise Material\n",
    "**The following reading material is recommended:**\n",
    "\n",
    "Pang-Ning Tan, Michael Steinbach, and Vipin Kumar, Introduction to Data Mining, section 4.1-4.6, as well as the included article on ROC curves.\n"
   ]
  },
  {
   "cell_type": "markdown",
   "metadata": {},
   "source": [
    "## 3.1 Decision trees\n",
    "\n",
    "In this part of the exercise we will fit decision trees using the scikitlearn classifier\n",
    "`sklearn.tree.DecisionTreeClassifier`. As a splitting criterion, the function uses\n",
    "one of the following two impurity measures:\n",
    "\n",
    "\\begin{equation} \\textrm{gdi}(t) = -\\sum_{i=1}^C p(i|t)^2 \\quad \\text{       equivalent to Gini(t)} \\end{equation}   \n",
    "\n",
    "\\begin{equation}\n",
    "\\textrm{deviance}(t) = -2\\sum_{i=1}^C p(i|t) \\log p(i|t) \\quad \\text{equivalent to Entropy(t)} \n",
    "\\end{equation}\n",
    "\n",
    "We will analyze the wine data we have used previously. The wine data set has the following attributes, all of which are continuous: \n",
    "\n",
    "\n",
    "| #             | Attribute     | Unit  |\n",
    "| ------------- |:-------------| -----:|\n",
    "|1 | Fixed acidity (tartaric) | g/dm$^3$ |\n",
    "|2 | Volatile acidity (acetic) | g/dm$^3$ |\n",
    "|3 | Citric acid | g/dm$^3$ |\n",
    "|4 | Residual sugar | g/dm$^3$ |\n",
    "|5 | Chlorides | g/dm$^3$ |\n",
    "|6 | Free sulfur dioxide | mg/dm$^3$ |\n",
    "|7 | Total sulfur dioxide | mg/dm$^3$ |\n",
    "|8 | Density | g/cm$^3$ |\n",
    "|9 | pH | pH |\n",
    "|10 | Sulphates | g/dm$^3$ |\n",
    "|11 | Alcohol | % vol. | \n",
    "\n",
    "\n",
    "#### 3.1.1\n",
    "(0.5 pts) Load the wine data set `Data/wine.mat` using the `scipy.io` `loadmat` function. This contains the same data as used in the earlier assignment, but with outliers and the 12th attribute already removed. Create data matrix $X$, class vector $y$, and the lists $attributeNames$ and $classNames$ with the data provided in the `wine.mat` file. Print out the  $attributeNames$ and $classNames$ to make sure it's a list of strings.\n",
    "\n",
    "   ** hints: **   \n",
    "*The object in wine.mat is a dictionary. The attributes are stored in matrix $X$, the class in vector $y$. $y$ is shaped as an array containing single element arrays. To flatten $y$, you can use `y.ravel()`, which unravels matrices into a 1d array. Attribute names and class names are stored in the attributeNames and classNames objects, which contain arrays, of which the first element contains the names. To get the names from those arrays, you can use list comprehension or for-loops. For more on list comprehension, check https://www.digitalocean.com/community/tutorials/understanding-list-comprehensions-in-python-3. For example, if you have an larger array containing nested arrays of which you want the first element, you can try `new_array = [nested_array[0] for nested_array in larger_array]`.*\n",
    "\n"
   ]
  },
  {
   "cell_type": "code",
   "execution_count": 66,
   "metadata": {},
   "outputs": [],
   "source": [
    "import scipy\n",
    "import numpy as np\n",
    "from scipy import io\n",
    "from scipy import stats\n",
    "import matplotlib.pyplot as plt"
   ]
  },
  {
   "cell_type": "code",
   "execution_count": 67,
   "metadata": {},
   "outputs": [
    {
     "name": "stdout",
     "output_type": "stream",
     "text": [
      "['Fixed acidity' 'Volatile acidity' 'Citric acid' 'Residual sugar'\n",
      " 'Chlorides' 'Free sulfur dioxide' 'Total sulfur dioxide' 'Density' 'pH'\n",
      " 'Sulphates' 'Alcohol']\n",
      "['Red' 'White']\n"
     ]
    }
   ],
   "source": [
    "#loading data\n",
    "data = scipy.io.loadmat('Data/wine.mat')\n",
    "X = data['X']\n",
    "y = data['y']\n",
    "attributeNames = np.empty(0)\n",
    "for i in range(11):\n",
    "    attributeNames = np.append(attributeNames, data['attributeNames'][0][i])\n",
    "classNames = np.empty(0)\n",
    "for i in range(2):\n",
    "    classNames = np.append(classNames, data['classNames'][:,0][i])\n",
    "print(attributeNames)\n",
    "print(classNames)"
   ]
  },
  {
   "cell_type": "markdown",
   "metadata": {},
   "source": [
    "#### 3.1.2\n",
    " (1.5 pts) Fit a decision tree to the wine data in order to estimate if the wine is red or white. Use the Gini (gdi) splitting criterion. Use `min_samples_split=100` for the stopping criterion. Explain what happens when you change the values of the parameter `min_samples_split`. After fitting the tree, visualize it with the tree_print function in `treeprint.py` in the Toolbox folder. \n",
    "\n",
    "** hints: **   \n",
    "*The `treeprint.py` file contains some documentation on how to use it. Helpfull documentation for the DecisionTreeClassifier function can be found at * http://scikit-learn.org/stable/modules/tree.html#classification  \n",
    "\n"
   ]
  },
  {
   "cell_type": "code",
   "execution_count": 68,
   "metadata": {
    "scrolled": true
   },
   "outputs": [
    {
     "name": "stdout",
     "output_type": "stream",
     "text": [
      "         |->3  White\n",
      "         |\n",
      "      |->2 then if Sulphates =< 0.56: go to 3, else go to 4\n",
      "      |  |\n",
      "      |  |->4  White\n",
      "      |\n",
      "   |->1 then if Chlorides =< 0.05: go to 2, else go to 5\n",
      "   |  |\n",
      "   |  |  |->6  White\n",
      "   |  |  |\n",
      "   |  |->5 else if Sulphates =< 0.37: go to 6, else go to 7\n",
      "   |     |\n",
      "   |     |  |->8  White\n",
      "   |     |  |\n",
      "   |     |->7 else if Density =< 0.99: go to 8, else go to 9\n",
      "   |        |\n",
      "   |        |     |->11  White\n",
      "   |        |     |\n",
      "   |        |  |->10 then if Residual sugar =< 1.10: go to 11, else go to 12\n",
      "   |        |  |  |\n",
      "   |        |  |  |  |->13  Red\n",
      "   |        |  |  |  |\n",
      "   |        |  |  |->12 else if Density =< 0.99: go to 13, else go to 14\n",
      "   |        |  |     |\n",
      "   |        |  |     |  |->15  Red\n",
      "   |        |  |     |  |\n",
      "   |        |  |     |->14 else if Chlorides =< 0.05: go to 15, else go to 16\n",
      "   |        |  |        |\n",
      "   |        |  |        |  |->17  Red\n",
      "   |        |  |        |  |\n",
      "   |        |  |        |->16 else if Sulphates =< 0.45: go to 17, else go to 18\n",
      "   |        |  |           |\n",
      "   |        |  |           |->18  Red\n",
      "   |        |  |\n",
      "   |        |->9 else if Residual sugar =< 10.70: go to 10, else go to 19\n",
      "   |           |\n",
      "   |           |->19  White\n",
      "   |\n",
      "if Total sulfur dioxide =< 66.50: go to 1, else go to 20\n",
      "   |\n",
      "   |                 |->26  Red\n",
      "   |                 |\n",
      "   |              |->25 then if Chlorides =< 0.01: go to 26, else go to 27\n",
      "   |              |  |\n",
      "   |              |  |        |->30  White\n",
      "   |              |  |        |\n",
      "   |              |  |     |->29 then if Citric acid =< 0.10: go to 30, else go to 31\n",
      "   |              |  |     |  |\n",
      "   |              |  |     |  |  |->32  White\n",
      "   |              |  |     |  |  |\n",
      "   |              |  |     |  |->31 else if Total sulfur dioxide =< 72.50: go to 32, else go to 33\n",
      "   |              |  |     |     |\n",
      "   |              |  |     |     |  |->34  White\n",
      "   |              |  |     |     |  |\n",
      "   |              |  |     |     |->33 else if Residual sugar =< 0.92: go to 34, else go to 35\n",
      "   |              |  |     |        |\n",
      "   |              |  |     |        |        |->38  White\n",
      "   |              |  |     |        |        |\n",
      "   |              |  |     |        |     |->37 then if Free sulfur dioxide =< 6.50: go to 38, else go to 39\n",
      "   |              |  |     |        |     |  |\n",
      "   |              |  |     |        |     |  |        |->42  White\n",
      "   |              |  |     |        |     |  |        |\n",
      "   |              |  |     |        |     |  |     |->41 then if pH =< 3.31: go to 42, else go to 43\n",
      "   |              |  |     |        |     |  |     |  |\n",
      "   |              |  |     |        |     |  |     |  |->43  White\n",
      "   |              |  |     |        |     |  |     |\n",
      "   |              |  |     |        |     |  |  |->40 then if Citric acid =< 0.23: go to 41, else go to 44\n",
      "   |              |  |     |        |     |  |  |  |\n",
      "   |              |  |     |        |     |  |  |  |->44  White\n",
      "   |              |  |     |        |     |  |  |\n",
      "   |              |  |     |        |     |  |->39 else if Sulphates =< 0.75: go to 40, else go to 45\n",
      "   |              |  |     |        |     |     |\n",
      "   |              |  |     |        |     |     |->45  White\n",
      "   |              |  |     |        |     |\n",
      "   |              |  |     |        |  |->36 then if Alcohol =< 13.58: go to 37, else go to 46\n",
      "   |              |  |     |        |  |  |\n",
      "   |              |  |     |        |  |  |->46  White\n",
      "   |              |  |     |        |  |\n",
      "   |              |  |     |        |->35 else if Sulphates =< 0.78: go to 36, else go to 47\n",
      "   |              |  |     |           |\n",
      "   |              |  |     |           |->47  White\n",
      "   |              |  |     |\n",
      "   |              |  |  |->28 then if Total sulfur dioxide =< 275.00: go to 29, else go to 48\n",
      "   |              |  |  |  |\n",
      "   |              |  |  |  |->48  White\n",
      "   |              |  |  |\n",
      "   |              |  |->27 else if Sulphates =< 0.81: go to 28, else go to 49\n",
      "   |              |     |\n",
      "   |              |     |->49  White\n",
      "   |              |\n",
      "   |           |->24 then if pH =< 3.83: go to 25, else go to 50\n",
      "   |           |  |\n",
      "   |           |  |->50  Red\n",
      "   |           |\n",
      "   |        |->23 then if Chlorides =< 0.07: go to 24, else go to 51\n",
      "   |        |  |\n",
      "   |        |  |->51  White\n",
      "   |        |\n",
      "   |     |->22 then if Sulphates =< 1.12: go to 23, else go to 52\n",
      "   |     |  |\n",
      "   |     |  |->52  Red\n",
      "   |     |\n",
      "   |  |->21 then if Volatile acidity =< 0.82: go to 22, else go to 53\n",
      "   |  |  |\n",
      "   |  |  |->53  Red\n",
      "   |  |\n",
      "   |->20 else if Chlorides =< 0.07: go to 21, else go to 54\n",
      "      |\n",
      "      |     |->56  Red\n",
      "      |     |\n",
      "      |  |->55 then if Citric acid =< 0.06: go to 56, else go to 57\n",
      "      |  |  |\n",
      "      |  |  |  |->58  Red\n",
      "      |  |  |  |\n",
      "      |  |  |->57 else if Chlorides =< 0.07: go to 58, else go to 59\n",
      "      |  |     |\n",
      "      |  |     |  |->60  Red\n",
      "      |  |     |  |\n",
      "      |  |     |->59 else if Total sulfur dioxide =< 68.50: go to 60, else go to 61\n",
      "      |  |        |\n",
      "      |  |        |  |->62  White\n",
      "      |  |        |  |\n",
      "      |  |        |->61 else if Fixed acidity =< 9.95: go to 62, else go to 63\n",
      "      |  |           |\n",
      "      |  |           |->63  Red\n",
      "      |  |\n",
      "      |->54 else if Density =< 1.00: go to 55, else go to 64\n",
      "         |\n",
      "         |        |->67  White\n",
      "         |        |\n",
      "         |     |->66 then if Volatile acidity =< 0.23: go to 67, else go to 68\n",
      "         |     |  |\n",
      "         |     |  |->68  Red\n",
      "         |     |\n",
      "         |  |->65 then if Total sulfur dioxide =< 157.50: go to 66, else go to 69\n",
      "         |  |  |\n",
      "         |  |  |->69  White\n",
      "         |  |\n",
      "         |->64 else if Residual sugar =< 6.25: go to 65, else go to 70\n",
      "            |\n",
      "            |->70  White\n",
      "<---------------------------------------------------------------------------------------->\n",
      "Tree Depth:  18\n"
     ]
    }
   ],
   "source": [
    "#min_samples_split = 100\n",
    "from sklearn import tree\n",
    "from Toolbox import treeprint\n",
    "clf100 = tree.DecisionTreeClassifier(criterion = 'gini', min_samples_split = 100)\n",
    "clf100 = clf100.fit(X, y)\n",
    "treeprint.tree_print(clf100, attributeNames, classNames)"
   ]
  },
  {
   "cell_type": "code",
   "execution_count": 69,
   "metadata": {
    "scrolled": true
   },
   "outputs": [
    {
     "name": "stdout",
     "output_type": "stream",
     "text": [
      "            |->4  White\n",
      "            |\n",
      "         |->3 then if Volatile acidity =< 0.66: go to 4, else go to 5\n",
      "         |  |\n",
      "         |  |->5  Red\n",
      "         |\n",
      "      |->2 then if Sulphates =< 0.56: go to 3, else go to 6\n",
      "      |  |\n",
      "      |  |     |->8  Red\n",
      "      |  |     |\n",
      "      |  |  |->7 then if Total sulfur dioxide =< 45.00: go to 8, else go to 9\n",
      "      |  |  |  |\n",
      "      |  |  |  |->9  White\n",
      "      |  |  |\n",
      "      |  |->6 else if Chlorides =< 0.04: go to 7, else go to 10\n",
      "      |     |\n",
      "      |     |  |->11  White\n",
      "      |     |  |\n",
      "      |     |->10 else if Alcohol =< 10.60: go to 11, else go to 12\n",
      "      |        |\n",
      "      |        |->12  Red\n",
      "      |\n",
      "   |->1 then if Chlorides =< 0.05: go to 2, else go to 13\n",
      "   |  |\n",
      "   |  |  |->14  White\n",
      "   |  |  |\n",
      "   |  |->13 else if Sulphates =< 0.37: go to 14, else go to 15\n",
      "   |     |\n",
      "   |     |  |->16  White\n",
      "   |     |  |\n",
      "   |     |->15 else if Density =< 0.99: go to 16, else go to 17\n",
      "   |        |\n",
      "   |        |     |->19  White\n",
      "   |        |     |\n",
      "   |        |  |->18 then if Residual sugar =< 1.10: go to 19, else go to 20\n",
      "   |        |  |  |\n",
      "   |        |  |  |     |->22  White\n",
      "   |        |  |  |     |\n",
      "   |        |  |  |  |->21 then if Volatile acidity =< 0.27: go to 22, else go to 23\n",
      "   |        |  |  |  |  |\n",
      "   |        |  |  |  |  |->23  Red\n",
      "   |        |  |  |  |\n",
      "   |        |  |  |->20 else if Density =< 0.99: go to 21, else go to 24\n",
      "   |        |  |     |\n",
      "   |        |  |     |        |->27  Red\n",
      "   |        |  |     |        |\n",
      "   |        |  |     |     |->26 then if Residual sugar =< 2.75: go to 27, else go to 28\n",
      "   |        |  |     |     |  |\n",
      "   |        |  |     |     |  |->28  Red\n",
      "   |        |  |     |     |\n",
      "   |        |  |     |  |->25 then if Total sulfur dioxide =< 64.50: go to 26, else go to 29\n",
      "   |        |  |     |  |  |\n",
      "   |        |  |     |  |  |->29  White\n",
      "   |        |  |     |  |\n",
      "   |        |  |     |->24 else if Chlorides =< 0.05: go to 25, else go to 30\n",
      "   |        |  |        |\n",
      "   |        |  |        |     |->32  White\n",
      "   |        |  |        |     |\n",
      "   |        |  |        |  |->31 then if Volatile acidity =< 0.29: go to 32, else go to 33\n",
      "   |        |  |        |  |  |\n",
      "   |        |  |        |  |  |->33  Red\n",
      "   |        |  |        |  |\n",
      "   |        |  |        |->30 else if Sulphates =< 0.45: go to 31, else go to 34\n",
      "   |        |  |           |\n",
      "   |        |  |           |->34  Red\n",
      "   |        |  |\n",
      "   |        |->17 else if Residual sugar =< 10.70: go to 18, else go to 35\n",
      "   |           |\n",
      "   |           |->35  White\n",
      "   |\n",
      "if Total sulfur dioxide =< 66.50: go to 1, else go to 36\n",
      "   |\n",
      "   |                 |->42  Red\n",
      "   |                 |\n",
      "   |              |->41 then if Chlorides =< 0.01: go to 42, else go to 43\n",
      "   |              |  |\n",
      "   |              |  |              |->48  White\n",
      "   |              |  |              |\n",
      "   |              |  |           |->47 then if Chlorides =< 0.05: go to 48, else go to 49\n",
      "   |              |  |           |  |\n",
      "   |              |  |           |  |  |->50  Red\n",
      "   |              |  |           |  |  |\n",
      "   |              |  |           |  |->49 else if Chlorides =< 0.05: go to 50, else go to 51\n",
      "   |              |  |           |     |\n",
      "   |              |  |           |     |  |->52  White\n",
      "   |              |  |           |     |  |\n",
      "   |              |  |           |     |->51 else if Alcohol =< 11.50: go to 52, else go to 53\n",
      "   |              |  |           |        |\n",
      "   |              |  |           |        |->53  Red\n",
      "   |              |  |           |\n",
      "   |              |  |        |->46 then if Alcohol =< 12.70: go to 47, else go to 54\n",
      "   |              |  |        |  |\n",
      "   |              |  |        |  |->54  Red\n",
      "   |              |  |        |\n",
      "   |              |  |     |->45 then if Citric acid =< 0.10: go to 46, else go to 55\n",
      "   |              |  |     |  |\n",
      "   |              |  |     |  |        |->58  White\n",
      "   |              |  |     |  |        |\n",
      "   |              |  |     |  |     |->57 then if Volatile acidity =< 0.56: go to 58, else go to 59\n",
      "   |              |  |     |  |     |  |\n",
      "   |              |  |     |  |     |  |->59  Red\n",
      "   |              |  |     |  |     |\n",
      "   |              |  |     |  |  |->56 then if Chlorides =< 0.06: go to 57, else go to 60\n",
      "   |              |  |     |  |  |  |\n",
      "   |              |  |     |  |  |  |->60  Red\n",
      "   |              |  |     |  |  |\n",
      "   |              |  |     |  |->55 else if Total sulfur dioxide =< 72.50: go to 56, else go to 61\n",
      "   |              |  |     |     |\n",
      "   |              |  |     |     |     |->63  White\n",
      "   |              |  |     |     |     |\n",
      "   |              |  |     |     |  |->62 then if Alcohol =< 12.60: go to 63, else go to 64\n",
      "   |              |  |     |     |  |  |\n",
      "   |              |  |     |     |  |  |->64  Red\n",
      "   |              |  |     |     |  |\n",
      "   |              |  |     |     |->61 else if Residual sugar =< 0.92: go to 62, else go to 65\n",
      "   |              |  |     |        |\n",
      "   |              |  |     |        |           |->69  White\n",
      "   |              |  |     |        |           |\n",
      "   |              |  |     |        |        |->68 then if Fixed acidity =< 6.10: go to 69, else go to 70\n",
      "   |              |  |     |        |        |  |\n",
      "   |              |  |     |        |        |  |->70  White\n",
      "   |              |  |     |        |        |\n",
      "   |              |  |     |        |     |->67 then if Free sulfur dioxide =< 6.50: go to 68, else go to 71\n",
      "   |              |  |     |        |     |  |\n",
      "   |              |  |     |        |     |  |        |->74  White\n",
      "   |              |  |     |        |     |  |        |\n",
      "   |              |  |     |        |     |  |     |->73 then if pH =< 3.31: go to 74, else go to 75\n",
      "   |              |  |     |        |     |  |     |  |\n",
      "   |              |  |     |        |     |  |     |  |     |->77  White\n",
      "   |              |  |     |        |     |  |     |  |     |\n",
      "   |              |  |     |        |     |  |     |  |  |->76 then if Fixed acidity =< 6.45: go to 77, else go to 78\n",
      "   |              |  |     |        |     |  |     |  |  |  |\n",
      "   |              |  |     |        |     |  |     |  |  |  |  |->79  Red\n",
      "   |              |  |     |        |     |  |     |  |  |  |  |\n",
      "   |              |  |     |        |     |  |     |  |  |  |->78 else if Fixed acidity =< 6.55: go to 79, else go to 80\n",
      "   |              |  |     |        |     |  |     |  |  |     |\n",
      "   |              |  |     |        |     |  |     |  |  |     |->80  White\n",
      "   |              |  |     |        |     |  |     |  |  |\n",
      "   |              |  |     |        |     |  |     |  |->75 else if Free sulfur dioxide =< 54.00: go to 76, else go to 81\n",
      "   |              |  |     |        |     |  |     |     |\n",
      "   |              |  |     |        |     |  |     |     |->81  White\n",
      "   |              |  |     |        |     |  |     |\n",
      "   |              |  |     |        |     |  |  |->72 then if Citric acid =< 0.23: go to 73, else go to 82\n",
      "   |              |  |     |        |     |  |  |  |\n",
      "   |              |  |     |        |     |  |  |  |->82  White\n",
      "   |              |  |     |        |     |  |  |\n",
      "   |              |  |     |        |     |  |->71 else if Sulphates =< 0.75: go to 72, else go to 83\n",
      "   |              |  |     |        |     |     |\n",
      "   |              |  |     |        |     |     |  |->84  White\n",
      "   |              |  |     |        |     |     |  |\n",
      "   |              |  |     |        |     |     |->83 else if Chlorides =< 0.06: go to 84, else go to 85\n",
      "   |              |  |     |        |     |        |\n",
      "   |              |  |     |        |     |        |->85  Red\n",
      "   |              |  |     |        |     |\n",
      "   |              |  |     |        |  |->66 then if Alcohol =< 13.58: go to 67, else go to 86\n",
      "   |              |  |     |        |  |  |\n",
      "   |              |  |     |        |  |  |  |->87  White\n",
      "   |              |  |     |        |  |  |  |\n",
      "   |              |  |     |        |  |  |->86 else if Volatile acidity =< 0.39: go to 87, else go to 88\n",
      "   |              |  |     |        |  |     |\n",
      "   |              |  |     |        |  |     |->88  Red\n",
      "   |              |  |     |        |  |\n",
      "   |              |  |     |        |->65 else if Sulphates =< 0.78: go to 66, else go to 89\n",
      "   |              |  |     |           |\n",
      "   |              |  |     |           |  |->90  Red\n",
      "   |              |  |     |           |  |\n",
      "   |              |  |     |           |->89 else if Total sulfur dioxide =< 82.50: go to 90, else go to 91\n",
      "   |              |  |     |              |\n",
      "   |              |  |     |              |->91  White\n",
      "   |              |  |     |\n",
      "   |              |  |  |->44 then if Total sulfur dioxide =< 275.00: go to 45, else go to 92\n",
      "   |              |  |  |  |\n",
      "   |              |  |  |  |->92  White\n",
      "   |              |  |  |\n",
      "   |              |  |->43 else if Sulphates =< 0.81: go to 44, else go to 93\n",
      "   |              |     |\n",
      "   |              |     |     |->95  White\n",
      "   |              |     |     |\n",
      "   |              |     |  |->94 then if Residual sugar =< 1.60: go to 95, else go to 96\n",
      "   |              |     |  |  |\n",
      "   |              |     |  |  |->96  Red\n",
      "   |              |     |  |\n",
      "   |              |     |->93 else if Total sulfur dioxide =< 89.50: go to 94, else go to 97\n",
      "   |              |        |\n",
      "   |              |        |  |->98  White\n",
      "   |              |        |  |\n",
      "   |              |        |->97 else if Volatile acidity =< 0.50: go to 98, else go to 99\n",
      "   |              |           |\n",
      "   |              |           |->99  White\n",
      "   |              |\n",
      "   |           |->40 then if pH =< 3.83: go to 41, else go to 100\n",
      "   |           |  |\n",
      "   |           |  |->100  Red\n",
      "   |           |\n",
      "   |        |->39 then if Chlorides =< 0.07: go to 40, else go to 101\n",
      "   |        |  |\n",
      "   |        |  |-  |->102  Red\n",
      "   |        |  |-  |\n",
      "   |        |  |->101 else if Total sulfur dioxide =< 81.50: go to 102, else go to 103\n",
      "   |        |  |   |\n",
      "   |        |  |   |-  |   |->105  White\n",
      "   |        |  |   |-  |   |\n",
      "   |        |  |   |-  |->104 then if Alcohol =< 10.25: go to 105, else go to 106\n",
      "   |        |  |   |-  |-  |\n",
      "   |        |  |   |-  |-  |->106  White\n",
      "   |        |  |   |-  |\n",
      "   |        |  |   |->103 else if Volatile acidity =< 0.55: go to 104, else go to 107\n",
      "   |        |  |   |   |\n",
      "   |        |  |   |   |->107  White\n",
      "   |        |\n",
      "   |     |->38 then if Sulphates =< 1.12: go to 39, else go to 108\n",
      "   |     |  |\n",
      "   |     |  |->108  Red\n",
      "   |     |\n",
      "   |  |->37 then if Volatile acidity =< 0.82: go to 38, else go to 109\n",
      "   |  |  |\n",
      "   |  |  |-  |->110  White\n",
      "   |  |  |-  |\n",
      "   |  |  |->109 else if pH =< 3.45: go to 110, else go to 111\n",
      "   |  |  |   |\n",
      "   |  |  |   |->111  Red\n",
      "   |  |\n",
      "   |->36 else if Chlorides =< 0.07: go to 37, else go to 112\n",
      "      |\n",
      "      |-  |   |->114  Red\n",
      "      |-  |   |\n",
      "      |-  |->113 then if Citric acid =< 0.06: go to 114, else go to 115\n",
      "      |-  |-  |\n",
      "      |-  |-  |-  |->116  Red\n",
      "      |-  |-  |-  |\n",
      "      |-  |-  |->115 else if Chlorides =< 0.07: go to 116, else go to 117\n",
      "      |-  |-  |   |\n",
      "      |-  |-  |   |-  |   |->119  Red\n",
      "      |-  |-  |   |-  |   |\n",
      "      |-  |-  |   |-  |->118 then if Total sulfur dioxide =< 68.50: go to 119, else go to 120\n",
      "      |-  |-  |   |-  |-  |\n",
      "      |-  |-  |   |-  |-  |->120  White\n",
      "      |-  |-  |   |-  |\n",
      "      |-  |-  |   |->117 else if Fixed acidity =< 9.95: go to 118, else go to 121\n",
      "      |-  |-  |   |   |\n",
      "      |-  |-  |   |   |->121  Red\n",
      "      |-  |\n",
      "      |->112 else if Density =< 1.00: go to 113, else go to 122\n",
      "      |   |\n",
      "      |   |-  |   |   |->125  White\n",
      "      |   |-  |   |   |\n",
      "      |   |-  |   |->124 then if Volatile acidity =< 0.23: go to 125, else go to 126\n",
      "      |   |-  |   |-  |\n",
      "      |   |-  |   |-  |->126  Red\n",
      "      |   |-  |   |\n",
      "      |   |-  |->123 then if Total sulfur dioxide =< 157.50: go to 124, else go to 127\n",
      "      |   |-  |-  |\n",
      "      |   |-  |-  |->127  White\n",
      "      |   |-  |\n",
      "      |   |->122 else if Residual sugar =< 6.25: go to 123, else go to 128\n",
      "      |   |   |\n",
      "      |   |   |-  |   |   |->131  White\n",
      "      |   |   |-  |   |   |\n",
      "      |   |   |-  |   |->130 then if Sulphates =< 0.66: go to 131, else go to 132\n",
      "      |   |   |-  |   |-  |\n",
      "      |   |   |-  |   |-  |->132  Red\n",
      "      |   |   |-  |   |\n",
      "      |   |   |-  |->129 then if pH =< 3.15: go to 130, else go to 133\n",
      "      |   |   |-  |-  |\n",
      "      |   |   |-  |-  |->133  Red\n",
      "      |   |   |-  |\n",
      "      |   |   |->128 else if Total sulfur dioxide =< 125.00: go to 129, else go to 134\n",
      "      |   |   |   |\n",
      "      |   |   |   |->134  White\n",
      "<------------------------------------------------------------------------------------------------------->\n",
      "Tree Depth:  21\n"
     ]
    }
   ],
   "source": [
    "#min_samples_split = 10\n",
    "clf10 = tree.DecisionTreeClassifier(criterion = 'gini', min_samples_split = 10)\n",
    "clf10 = clf10.fit(X, y)\n",
    "treeprint.tree_print(clf10, attributeNames, classNames)"
   ]
  },
  {
   "cell_type": "code",
   "execution_count": 70,
   "metadata": {
    "scrolled": true
   },
   "outputs": [
    {
     "name": "stdout",
     "output_type": "stream",
     "text": [
      "      |->2  White\n",
      "      |\n",
      "   |->1 then if Chlorides =< 0.05: go to 2, else go to 3\n",
      "   |  |\n",
      "   |  |  |->4  White\n",
      "   |  |  |\n",
      "   |  |->3 else if Sulphates =< 0.37: go to 4, else go to 5\n",
      "   |     |\n",
      "   |     |  |->6  White\n",
      "   |     |  |\n",
      "   |     |->5 else if Density =< 0.99: go to 6, else go to 7\n",
      "   |        |\n",
      "   |        |     |->9  White\n",
      "   |        |     |\n",
      "   |        |  |->8 then if Residual sugar =< 1.10: go to 9, else go to 10\n",
      "   |        |  |  |\n",
      "   |        |  |  |  |->11  Red\n",
      "   |        |  |  |  |\n",
      "   |        |  |  |->10 else if Density =< 0.99: go to 11, else go to 12\n",
      "   |        |  |     |\n",
      "   |        |  |     |  |->13  Red\n",
      "   |        |  |     |  |\n",
      "   |        |  |     |->12 else if Chlorides =< 0.05: go to 13, else go to 14\n",
      "   |        |  |        |\n",
      "   |        |  |        |  |->15  Red\n",
      "   |        |  |        |  |\n",
      "   |        |  |        |->14 else if Sulphates =< 0.45: go to 15, else go to 16\n",
      "   |        |  |           |\n",
      "   |        |  |           |->16  Red\n",
      "   |        |  |\n",
      "   |        |->7 else if Residual sugar =< 10.70: go to 8, else go to 17\n",
      "   |           |\n",
      "   |           |->17  White\n",
      "   |\n",
      "if Total sulfur dioxide =< 66.50: go to 1, else go to 18\n",
      "   |\n",
      "   |                 |->24  Red\n",
      "   |                 |\n",
      "   |              |->23 then if Chlorides =< 0.01: go to 24, else go to 25\n",
      "   |              |  |\n",
      "   |              |  |        |->28  White\n",
      "   |              |  |        |\n",
      "   |              |  |     |->27 then if Citric acid =< 0.10: go to 28, else go to 29\n",
      "   |              |  |     |  |\n",
      "   |              |  |     |  |  |->30  White\n",
      "   |              |  |     |  |  |\n",
      "   |              |  |     |  |->29 else if Total sulfur dioxide =< 72.50: go to 30, else go to 31\n",
      "   |              |  |     |     |\n",
      "   |              |  |     |     |  |->32  White\n",
      "   |              |  |     |     |  |\n",
      "   |              |  |     |     |->31 else if Residual sugar =< 0.92: go to 32, else go to 33\n",
      "   |              |  |     |        |\n",
      "   |              |  |     |        |        |->36  White\n",
      "   |              |  |     |        |        |\n",
      "   |              |  |     |        |     |->35 then if Free sulfur dioxide =< 6.50: go to 36, else go to 37\n",
      "   |              |  |     |        |     |  |\n",
      "   |              |  |     |        |     |  |     |->39  White\n",
      "   |              |  |     |        |     |  |     |\n",
      "   |              |  |     |        |     |  |  |->38 then if Citric acid =< 0.23: go to 39, else go to 40\n",
      "   |              |  |     |        |     |  |  |  |\n",
      "   |              |  |     |        |     |  |  |  |->40  White\n",
      "   |              |  |     |        |     |  |  |\n",
      "   |              |  |     |        |     |  |->37 else if Sulphates =< 0.75: go to 38, else go to 41\n",
      "   |              |  |     |        |     |     |\n",
      "   |              |  |     |        |     |     |->41  White\n",
      "   |              |  |     |        |     |\n",
      "   |              |  |     |        |  |->34 then if Alcohol =< 13.58: go to 35, else go to 42\n",
      "   |              |  |     |        |  |  |\n",
      "   |              |  |     |        |  |  |->42  White\n",
      "   |              |  |     |        |  |\n",
      "   |              |  |     |        |->33 else if Sulphates =< 0.78: go to 34, else go to 43\n",
      "   |              |  |     |           |\n",
      "   |              |  |     |           |->43  White\n",
      "   |              |  |     |\n",
      "   |              |  |  |->26 then if Total sulfur dioxide =< 275.00: go to 27, else go to 44\n",
      "   |              |  |  |  |\n",
      "   |              |  |  |  |->44  White\n",
      "   |              |  |  |\n",
      "   |              |  |->25 else if Sulphates =< 0.81: go to 26, else go to 45\n",
      "   |              |     |\n",
      "   |              |     |->45  White\n",
      "   |              |\n",
      "   |           |->22 then if pH =< 3.83: go to 23, else go to 46\n",
      "   |           |  |\n",
      "   |           |  |->46  Red\n",
      "   |           |\n",
      "   |        |->21 then if Chlorides =< 0.07: go to 22, else go to 47\n",
      "   |        |  |\n",
      "   |        |  |->47  White\n",
      "   |        |\n",
      "   |     |->20 then if Sulphates =< 1.12: go to 21, else go to 48\n",
      "   |     |  |\n",
      "   |     |  |->48  Red\n",
      "   |     |\n",
      "   |  |->19 then if Volatile acidity =< 0.82: go to 20, else go to 49\n",
      "   |  |  |\n",
      "   |  |  |->49  Red\n",
      "   |  |\n",
      "   |->18 else if Chlorides =< 0.07: go to 19, else go to 50\n",
      "      |\n",
      "      |->50  Red\n",
      "<----------------------------------------------------------------------------------->\n",
      "Tree Depth:  17\n"
     ]
    }
   ],
   "source": [
    "#min_samples_split = 1000\n",
    "clf1000 = tree.DecisionTreeClassifier(criterion = 'gini', min_samples_split = 1000)\n",
    "clf1000 = clf1000.fit(X, y)\n",
    "treeprint.tree_print(clf1000, attributeNames, classNames)"
   ]
  },
  {
   "cell_type": "markdown",
   "metadata": {},
   "source": [
    "----\n",
    "\n",
    "When we change the values of the parameter min_samples_split to be lower, the tree becomes deeper and wider.\n",
    "However, if we change the values of the parameter min_samples_split to be higher, the tree becomes shallower and smaller.\n",
    "This is because the min_samples_split sets the minimum number of samples necessary to split a node. If this number is higher than the amount of samples available, no split is made at that node.\n",
    "\n",
    "----"
   ]
  },
  {
   "cell_type": "markdown",
   "metadata": {},
   "source": [
    "#### 3.1.3\n",
    "\n",
    "(0.5 pts) Show that a wine with the following attribute values would be classified as white by the tree fitted in 3.1.2, by applying the `predict()` function from the DecisionTreeClassifier to this sample.  Have another look at the visualized tree. Which attributes are used to classify this wine? \n",
    "\n",
    "| #             | Attribute     | Value  |\n",
    "| ------------- |:-------------| -----:|\n",
    "|1 | Fixed acidity (tartaric) | 6.9 g/dm$^3$ |\n",
    "|2 | Volatile acidity (acetic) | 1.09 g/dm$^3$ |\n",
    "|3 | Citric acid | 0.06 g/dm$^3$ |\n",
    "|4 | Residual sugar | 2.1 g/dm$^3$ |\n",
    "|5 | Chlorides | 0.0061 g/dm$^3$ |\n",
    "|6 | Free sulfur dioxide | 12 mg/dm$^3$ |\n",
    "|7 | Total sulfur dioxide | 31 mg/dm$^3$ |\n",
    "|8 | Density | 0.99 g/cm$^3$ |\n",
    "|9 | pH | 3.5 |\n",
    "|10 | Sulphates | 0.64 g/dm$^3$ |\n",
    "|11 | Alcohol | 12 % vol. | \n",
    "\n",
    "** hints: **\n",
    "*If you don't know how to classify input values with a tree, see the help documentation for the DecisionTreeClassifier function on how to predict the label for a sample. *"
   ]
  },
  {
   "cell_type": "code",
   "execution_count": 71,
   "metadata": {},
   "outputs": [
    {
     "name": "stdout",
     "output_type": "stream",
     "text": [
      "The predicted class of this wine is: Red\n"
     ]
    }
   ],
   "source": [
    "print('The predicted class of this wine is: {}'.format(classNames[clf.predict([[6.9,1.09,0.06,2.1,0.0061,12,31,0.99,3.5,0.64,12]])[0]]))"
   ]
  },
  {
   "cell_type": "markdown",
   "metadata": {},
   "source": [
    "----\n",
    "The path through the decision tree that this wine takes is: Total sulfur dioxide < 66.50, Chlorides < 0.05, Sulphates > 0.56, =>white\n",
    "\n",
    "The important attributes in this case are thus: Total sulfur dioxide, Chlorides, Sulphates\n",
    "\n",
    "----"
   ]
  },
  {
   "cell_type": "markdown",
   "metadata": {},
   "source": [
    "#### 3.1.4\n",
    "(1 pts) Classify all the wines in the wine data set. What percentage of the wine data is classified correctly by the tree?\n",
    "\n"
   ]
  },
  {
   "cell_type": "code",
   "execution_count": 72,
   "metadata": {},
   "outputs": [
    {
     "name": "stdout",
     "output_type": "stream",
     "text": [
      "98.68 %\n"
     ]
    }
   ],
   "source": [
    "prediction = clf100.predict(X)\n",
    "matches = 0\n",
    "for i in range(len(y)):\n",
    "    if y[i] == prediction[i]:\n",
    "        matches = matches + 1\n",
    "percentage = matches/len(y)*100\n",
    "print(round(percentage, 2), '%')"
   ]
  },
  {
   "cell_type": "markdown",
   "metadata": {},
   "source": [
    "----\n",
    "\n",
    "98,68% of the wines is classified correctly by the tree, when the minimum samples used to split is set to 100.\n",
    "\n",
    "----"
   ]
  },
  {
   "cell_type": "markdown",
   "metadata": {},
   "source": [
    "## 3.2 Decision tree pruning using cross-validation\n",
    "\n",
    "In this exercise we will use cross-validation to prune a decision tree. When applying cross-validation the observed data is split into training and test sets, i.e., `X_train`, `y_train` and `X_test` and `y_test`. We train the model on the training data and evaluate the performance of the trained model on the test data.\n",
    "\n",
    "#### 3.2.1\n",
    "(2 pts) We are again using the wine data set `Data/wine.mat`. Divide the data into a training and a test data set (see hints!). Fit a decision tree to the training data using the Gini (`gdi`) splitting criterion.\n",
    "\n",
    "Now, we want to find an optimally pruned decision tree by *modifying its maximum depth*. For different values of the parameter `depth` (from 2 to 20), \n",
    "+ first fit the decision tree\n",
    "+ then compute the classification error on the training and test set (this is called holdout cross-validation)\n",
    "\n",
    "When you've done this for `depth` values 2,...,20, plot the training and test classification error as a function of the tree depth in the same figure. This will show us what the optimal pruning depth is for the training set, but also how well this generalizes to a test set. \n",
    "\n",
    "\n",
    "** hints: **  \n",
    "*Take a look at the module `sklearn.model_selection` and see how it can be used to partition the data into a training and a test set (holdout validation, `train_test_split()` function). Note that the package also contains functions to partition data for K-fold cross-validation. Some of the functions can ensure that both training and test sets have roughly the same class proportions. The error is 1-accuracy. The easiest way to compute the accuracy is by using the sklearn metrics module: \n",
    " https://scikit-learn.org/stable/modules/generated/sklearn.metrics.accuracy_score.html *\n",
    "\n",
    "What appears to be the optimal tree depth? Do you get the same result when you run your code again, generating a new random split between training and test data?\n"
   ]
  },
  {
   "cell_type": "code",
   "execution_count": 73,
   "metadata": {},
   "outputs": [
    {
     "data": {
      "image/png": "[encoded data removed]",
      "text/plain": [
       "<Figure size 432x288 with 1 Axes>"
      ]
     },
     "metadata": {
      "needs_background": "light"
     },
     "output_type": "display_data"
    },
    {
     "name": "stdout",
     "output_type": "stream",
     "text": [
      "^Graph of error of the decision versus the depth of a decision tree using one training and one test set.\n"
     ]
    }
   ],
   "source": [
    "import sklearn\n",
    "from sklearn.model_selection import train_test_split\n",
    "X_train, X_test, y_train, y_test = train_test_split(X, y)\n",
    "\n",
    "depths = np.arange(2, 21)\n",
    "testaccuracies = np.empty(len(depths))\n",
    "trainaccuracies = np.empty(len(depths))\n",
    "\n",
    "for i, depth in enumerate(depths):\n",
    "    clf = tree.DecisionTreeClassifier(criterion = 'gini', max_depth = depth)\n",
    "    clf = clf.fit(X_train, y_train)\n",
    "    testpredict = clf.predict(X_test)\n",
    "    trainpredict = clf.predict(X_train)\n",
    "    testaccuracies[i] = sklearn.metrics.accuracy_score(y_test, testpredict)\n",
    "    trainaccuracies[i] = sklearn.metrics.accuracy_score(y_train, trainpredict)\n",
    "    \n",
    "plt.figure()\n",
    "plt.plot(depths, (1-testaccuracies)*100, label = 'test')\n",
    "plt.plot(depths, (1-trainaccuracies)*100, label = 'train')\n",
    "plt.title('optimum depth')\n",
    "plt.xlabel('depth')\n",
    "plt.ylabel('error(%)')\n",
    "plt.legend()\n",
    "plt.show()\n",
    "print('^Graph of error of the decision versus the depth of a decision tree using one training and one test set.')\n",
    "\n"
   ]
  },
  {
   "cell_type": "markdown",
   "metadata": {},
   "source": [
    "----\n",
    "The optimal tree depth appears to be around 7. the training error does decrease after this, which makes sense because there are more parameters to fit the data. These extra parameters do not however explain anything about the general nature of red and white wine, as the error graph for the test set shows. More depth than 7 does not cause the error of the test set to decrease. For different runs the value of the optimal tree depth differs with a standard deviation of about +-1.5.\n",
    "\n",
    "----"
   ]
  },
  {
   "cell_type": "markdown",
   "metadata": {},
   "source": [
    "#### 3.2.2\n",
    "(1.5 pts) Repeat the exercise above, using 10-fold cross-validation. K-fold cross-validation works by splitting X into K partitions of equal length. Then in each fold, you choose K-1 partitions as the training set and the remaining partition as the test set. Every partition gets a turn being a test set. For a very nice simple explanation of how (and why) K-fold works, check out http://www.dummies.com/programming/big-data/data-science/resorting-cross-validation-machine-learning/\n",
    "\n",
    "\n",
    "For each fold, fit a decision tree on the training set and evaluate its performance on the test set. Finally, compute the average classification errors on the test- and training sets across the 10 cross-validation folds and plot them as a function of the tree depth.\n",
    "\n",
    "** hints: **\n",
    "*This time the `KFold()` function from the module `sklearn.model_selection` can be used to partition the data into the 10 training and test partitions. Check out http://scikit-learn.org/stable/modules/cross_validation.html#k-fold for an example of how to acces the indices for the training set and the test set in each fold. Those indices can then be used to create the training and test set, e.g. `X_train = X[train_indices]`*\n",
    "\n",
    "*If you are creating a for loop iterating over an object where you both need the index and the elements of the object, you can enumerate the object. For example:*\n",
    "\n",
    "`\n",
    "for index, (element) in enumerate(object):\n",
    "    array[index] = operation(element)\n",
    "`\n",
    " \n",
    "\n",
    "What appears to be the optimal tree depth? Do you get the same result when you run your code again, generating a new random split between training and test data? How about 100-fold cross-validation?\n"
   ]
  },
  {
   "cell_type": "code",
   "execution_count": 74,
   "metadata": {},
   "outputs": [
    {
     "data": {
      "image/png": "[encoded data removed]",
      "text/plain": [
       "<Figure size 432x288 with 1 Axes>"
      ]
     },
     "metadata": {
      "needs_background": "light"
     },
     "output_type": "display_data"
    },
    {
     "name": "stdout",
     "output_type": "stream",
     "text": [
      "^Graph of error of the decision versus the depth of a decision tree, using 10-fold cross-validation\n"
     ]
    },
    {
     "data": {
      "image/png": "[encoded data removed]",
      "text/plain": [
       "<Figure size 432x288 with 1 Axes>"
      ]
     },
     "metadata": {
      "needs_background": "light"
     },
     "output_type": "display_data"
    },
    {
     "name": "stdout",
     "output_type": "stream",
     "text": [
      "^Graph of error of the decision versus the depth of a decision tree, using 100-fold cross-validation\n"
     ]
    }
   ],
   "source": [
    "from sklearn.model_selection import KFold\n",
    "\n",
    "for k in [10,100]:\n",
    "    kf = KFold(n_splits=k)\n",
    "\n",
    "    depths = np.arange(2, 21)\n",
    "    testaccuracies = np.empty(len(depths))\n",
    "    trainaccuracies = np.empty(len(depths))\n",
    "    totaltestaccuracies = np.zeros(len(depths))\n",
    "    totaltrainaccuracies = np.zeros(len(depths))\n",
    "\n",
    "    for train, test in kf.split(X):\n",
    "        for i, depth in enumerate(depths):\n",
    "            clf = tree.DecisionTreeClassifier(criterion = 'gini', max_depth = depth)\n",
    "            clf = clf.fit(X_train, y_train)\n",
    "            testpredict = clf.predict(X_test)\n",
    "            trainpredict = clf.predict(X_train)\n",
    "            testaccuracies[i] = sklearn.metrics.accuracy_score(y_test, testpredict)\n",
    "            trainaccuracies[i] = sklearn.metrics.accuracy_score(y_train, trainpredict)\n",
    "        totaltestaccuracies = totaltestaccuracies+testaccuracies\n",
    "        totaltrainaccuracies = totaltrainaccuracies+trainaccuracies\n",
    "    avgtestaccuracies = totaltestaccuracies/k\n",
    "    avgtrainaccuracies = totaltrainaccuracies/k\n",
    "\n",
    "    plt.figure()\n",
    "    plt.plot(depths, (1-avgtestaccuracies)*100, label = 'test')\n",
    "    plt.plot(depths, (1-avgtrainaccuracies)*100, label = 'train')\n",
    "    plt.title('optimum depth')\n",
    "    plt.xlabel('depth')\n",
    "    plt.ylabel('error(%)')\n",
    "    plt.legend()\n",
    "    plt.show()\n",
    "    print('^Graph of error of the decision versus the depth of a decision tree, using {}-fold cross-validation'.format(k))\n",
    "\n"
   ]
  },
  {
   "cell_type": "markdown",
   "metadata": {},
   "source": [
    "----\n",
    "Now the optimum depth of the decision trees is roughly 7.5+-0.5 (determined from multiple runs of the code. The test set error graph is smoother the higher the fold of the cross-validation. This is caused by the averaging over all test sets, which causes the most outlying wines to cancel each other out. In a 2-fold split, there is a higher probablitity that the test set is not representative of the data.\n",
    "\n",
    "----"
   ]
  },
  {
   "cell_type": "markdown",
   "metadata": {},
   "source": [
    " ## 3.3 ROC curves, AUC scores, and the sign test\n",
    "\n",
    "In this exercise we will use ROC curves and the sign test to compare classifiers. Study the lecture slides and the paper 'ROC Graphs: Notes and Practical Considerations for Researchers' by Tom Fawcett included with the homework assignment (ROC101.pdf). It describes all you need to know (and much, much more..) about ROC curves. The method explained for computing the area under the curve is unnecessarily complicated. A simpler formula is:\n",
    "$$\n",
    "    \\mbox{AUC} = {1 \\over m n} \\sum_{i=1}^m \\sum_{j=1}^n \\mathbf{\\large 1}_{p_i > p_j} \\: .\n",
    "   $$\n",
    "Here $i$ runs over all $m$ data points with true label 1, and $j$ runs over all $n$ data points with true label $0$; $p_i$ and $p_j$ denote the probability score assigned by the classifier to data point $i$ and $j$, respectively. $\\mathbf{\\large 1}$ is the indicator function: it outputs $1$ if the condition (here $p_i > p_j$) is satisfied and $0$ otherwise. *Simply put: this formula computes how often the probability of a data point with true label 1 is higher than the probability of data points with true label 0. This is then divided by the total number of comparisons between probabilities.*\n",
    "    \n",
    "\n",
    "#### 3.3.1\n",
    "(0.25 pts) To make sure you understand how ROC works, make an ROC curve and calculate the AUC (on paper) with the following data:\n",
    "\n",
    "`\n",
    "labels = [0,0,0,1,0,1,1,0,1,1]\n",
    "classifier_probs = [0.1,0.2,0.3,0.4,0.5,0.6,0.7,0.8,0.9,0.99]\n",
    "`\n",
    "    \n",
    "What's the AUC you calculated? Do you think this classifier works well?\n"
   ]
  },
  {
   "cell_type": "markdown",
   "metadata": {},
   "source": [
    "----\n",
    "AUC = 21/25. The classifier works pretty well, 1's are generally more to the right and the AUC is quite high.\n",
    "\n",
    "----"
   ]
  },
  {
   "cell_type": "markdown",
   "metadata": {},
   "source": [
    "#### 3.3.2\n",
    "  Load the file `Data/classprobs.xls` using the Pandas `read_excel` function. Inspect the data and cast it to an array with the `.values` attribute. The first column gives the true class label (either 0 or 1). The second and third column give the probabilistic scores for two different classifiers. The higher this probability, the more certain the classifier is that the example belongs to class 1 (instead of class 0).\n"
   ]
  },
  {
   "cell_type": "code",
   "execution_count": 75,
   "metadata": {},
   "outputs": [
    {
     "name": "stdout",
     "output_type": "stream",
     "text": [
      "[[0.       0.13591  0.099401]\n",
      " [0.       0.55549  0.65075 ]\n",
      " [0.       0.23876  0.50857 ]\n",
      " [0.       0.14542  0.23629 ]\n",
      " [1.       0.81876  0.48949 ]\n",
      " [0.       0.50594  0.038203]\n",
      " [1.       0.93954  0.23982 ]\n",
      " [1.       0.22339  0.62287 ]\n",
      " [0.       0.31219  0.57823 ]\n",
      " [0.       0.19486  0.61664 ]\n",
      " [1.       0.61471  0.5013  ]\n",
      " [1.       0.63854  0.75183 ]\n",
      " [0.       0.29924  0.33768 ]\n",
      " [0.       0.16546  0.44035 ]\n",
      " [1.       0.72124  0.44813 ]\n",
      " [0.       0.1088   0.37254 ]\n",
      " [1.       0.48676  0.25349 ]\n",
      " [1.       0.94156  0.64531 ]\n",
      " [0.       0.2968   0.53258 ]\n",
      " [0.       0.24267  0.26251 ]\n",
      " [0.       0.17043  0.44888 ]\n",
      " [0.       0.015464 0.5467  ]\n",
      " [1.       0.30852  0.32406 ]\n",
      " [0.       0.11212  0.28476 ]\n",
      " [0.       0.29639  0.41658 ]\n",
      " [1.       0.97275  0.79959 ]\n",
      " [1.       0.58501  0.30657 ]\n",
      " [0.       0.12244  0.43778 ]\n",
      " [1.       0.87557  0.75815 ]\n",
      " [1.       0.76142  0.32031 ]\n",
      " [0.       0.14132  0.22986 ]\n",
      " [1.       0.86004  0.35583 ]\n",
      " [0.       0.13915  0.39455 ]\n",
      " [0.       0.18889  0.49216 ]\n",
      " [1.       0.96075  0.67214 ]\n",
      " [1.       0.83076  0.77401 ]\n",
      " [0.       0.089368 0.11584 ]\n",
      " [1.       0.68199  0.61933 ]\n",
      " [1.       0.85489  0.57659 ]\n",
      " [1.       0.56139  0.63589 ]\n",
      " [1.       0.93078  0.41764 ]\n",
      " [1.       0.75955  0.54143 ]\n",
      " [1.       0.61855  0.61504 ]\n",
      " [0.       0.092059 0.10315 ]\n",
      " [0.       0.67612  0.58934 ]\n",
      " [1.       0.63252  0.43285 ]\n",
      " [0.       0.31297  0.84436 ]\n",
      " [1.       0.82238  0.41054 ]\n",
      " [0.       0.51416  0.12823 ]\n",
      " [1.       0.99809  0.3195  ]\n",
      " [1.       0.72686  0.53859 ]\n",
      " [1.       0.55046  0.8621  ]\n",
      " [0.       0.25546  0.48115 ]\n",
      " [1.       0.94669  0.73634 ]\n",
      " [0.       0.27347  0.053111]\n",
      " [1.       0.31107  0.45811 ]\n",
      " [0.       0.24862  0.38683 ]\n",
      " [0.       0.50734  0.61375 ]\n",
      " [1.       0.43013  0.63192 ]\n",
      " [1.       0.52135  0.52524 ]\n",
      " [1.       0.85277  0.55801 ]\n",
      " [1.       0.68814  0.71352 ]\n",
      " [0.       0.034719 0.18274 ]\n",
      " [0.       0.30511  0.75859 ]\n",
      " [1.       0.84431  0.65031 ]\n",
      " [0.       0.082462 0.26048 ]\n",
      " [0.       0.018232 0.45213 ]\n",
      " [0.       0.51123  0.54973 ]\n",
      " [1.       0.36436  0.64985 ]\n",
      " [0.       0.15529  0.44893 ]\n",
      " [1.       0.74259  0.43821 ]\n",
      " [0.       0.23423  0.47979 ]\n",
      " [0.       0.5569   0.41085 ]\n",
      " [1.       0.98439  0.6358  ]\n",
      " [0.       0.66793  0.14227 ]\n",
      " [1.       0.64618  0.72749 ]\n",
      " [0.       0.33115  0.41956 ]\n",
      " [1.       0.65452  0.65668 ]\n",
      " [1.       0.74047  0.50759 ]\n",
      " [1.       0.67109  0.48028 ]\n",
      " [0.       0.47944  0.30758 ]\n",
      " [1.       0.61722  0.68681 ]\n",
      " [1.       0.58154  0.74264 ]\n",
      " [0.       0.18569  0.62643 ]\n",
      " [0.       0.42642  0.11776 ]\n",
      " [0.       0.34196  0.27483 ]\n",
      " [0.       0.19386  0.31169 ]\n",
      " [1.       0.71375  0.49963 ]\n",
      " [1.       0.70223  0.52853 ]\n",
      " [0.       0.034833 0.55323 ]\n",
      " [0.       0.28422  0.31598 ]\n",
      " [1.       0.78385  0.29664 ]\n",
      " [1.       0.93666  0.51497 ]\n",
      " [1.       0.83752  0.49083 ]\n",
      " [0.       0.11601  0.24568 ]\n",
      " [1.       0.85762  0.52682 ]\n",
      " [0.       0.3934   0.54303 ]\n",
      " [0.       0.21118  0.26469 ]\n",
      " [0.       0.60127  0.45642 ]\n",
      " [1.       0.87517  0.73298 ]\n",
      " [0.       0.27786  0.25315 ]\n",
      " [0.       0.26974  0.35386 ]\n",
      " [0.       0.014577 0.3425  ]\n",
      " [1.       0.66804  0.33838 ]\n",
      " [1.       0.83725  0.61015 ]\n",
      " [1.       0.89512  0.79699 ]\n",
      " [0.       0.18806  0.25373 ]]\n"
     ]
    }
   ],
   "source": [
    "import pandas\n",
    "\n",
    "data = pandas.read_excel('Data/classprobs.xls')\n",
    "X = data.values\n",
    "print(X)\n"
   ]
  },
  {
   "cell_type": "markdown",
   "metadata": {},
   "source": [
    "#### 3.3.3\n",
    "(1 pts) Calculate the ROC curves for both of the classifiers by calculating the FP and TP rates and plot them in the same plot. Make the plot yourself as opposed to using a library! Also plot a dashed line on the diagonal to represent random guessing in the same figure. Interpret the obtained results. Do both classifiers perform better than random guessing?\n",
    "\n",
    "** hints: **  \n",
    "*The function `sklearn.metrics.roc_curve` can be used for computing the FP and TP rates. You can then plot them using the `matplotlib.pyplot` `plot` function. Check the documentation on how to plot a dashed line. Remember to include a legend!* \n",
    "\n",
    "**An extra tip: the sign test example below includes a figure with dashed lines and a legend...**\n",
    " "
   ]
  },
  {
   "cell_type": "code",
   "execution_count": 76,
   "metadata": {},
   "outputs": [
    {
     "data": {
      "image/png": "[encoded data removed]",
      "text/plain": [
       "<Figure size 432x288 with 1 Axes>"
      ]
     },
     "metadata": {
      "needs_background": "light"
     },
     "output_type": "display_data"
    },
    {
     "name": "stdout",
     "output_type": "stream",
     "text": [
      "^Receiver operating characteristics of classifier 1 and 2.\n"
     ]
    }
   ],
   "source": [
    "fpr1, tpr1, thresholds1 = sklearn.metrics.roc_curve(X[:,0], X[:,1])\n",
    "fpr2, tpr2, thresholds2 = sklearn.metrics.roc_curve(X[:,0], X[:,2])\n",
    "\n",
    "plt.figure()\n",
    "plt.title('ROC-curve')\n",
    "plt.plot(fpr1, tpr1, label ='classifier 1')\n",
    "plt.plot(fpr2, tpr2, label ='classifier 2')\n",
    "plt.plot(fpr1, fpr1, '--', color = 'k')\n",
    "plt.xlabel('false positive rate')\n",
    "plt.ylabel('true positive rate')\n",
    "plt.legend()\n",
    "plt.show()\n",
    "print('^Receiver operating characteristics of classifier 1 and 2.')"
   ]
  },
  {
   "cell_type": "markdown",
   "metadata": {},
   "source": [
    "----\n",
    "Both classifiers perform better than random guessing, with classifier 1 having the best performance.\n",
    "\n",
    "----"
   ]
  },
  {
   "cell_type": "markdown",
   "metadata": {},
   "source": [
    "#### 3.3.4\n",
    "(0.5 pts) Compute the AUC scores (area under the curve) of both classifiers using the formula given above. **Write your own code for this calculation.** Do the AUC scores indicate that the classifiers are performing better than this baseline?\n",
    "\n",
    "\n",
    "\n",
    "\n",
    " "
   ]
  },
  {
   "cell_type": "code",
   "execution_count": 77,
   "metadata": {},
   "outputs": [
    {
     "name": "stdout",
     "output_type": "stream",
     "text": [
      "AUC1: 0.956\n",
      "AUC2: 0.761\n"
     ]
    }
   ],
   "source": [
    "ytrue = X[:,0]\n",
    "class1 = X[:,1]\n",
    "class2 = X[:,2]\n",
    "\n",
    "AUC1 = 0\n",
    "AUC2 = 0\n",
    "m = 0\n",
    "\n",
    "for i in range(ytrue.size):\n",
    "    if ytrue[i]==1:\n",
    "        m = m+1\n",
    "        for j in range(ytrue.size):\n",
    "            if ytrue[j] == 0:\n",
    "                if class1[i] > class1[j]:\n",
    "                    AUC1 = AUC1 + 1\n",
    "                if class2[i] > class2[j]:\n",
    "                    AUC2 = AUC2 + 1\n",
    "n = ytrue.size-m\n",
    "AUC1 = 1/(n*m)*AUC1\n",
    "AUC2 = 1/(n*m)*AUC2\n",
    "\n",
    "print('AUC1:', round(AUC1, 3))\n",
    "print('AUC2:', round(AUC2, 3))"
   ]
  },
  {
   "cell_type": "markdown",
   "metadata": {},
   "source": [
    "----\n",
    "The AUC's of both classifiers are both significantly higher than 0.5, so they perform better than random guessing. As expected from the curve, classifier 1 performs better than classifier 2.\n",
    "\n",
    "----"
   ]
  },
  {
   "cell_type": "markdown",
   "metadata": {},
   "source": [
    "\n",
    "#### 3.3.5\n",
    "(0.25 pts) Using a threshold of 0.5, translate the probability scores to predicted class labels, and compute the accuracy for each of the classifiers.\n",
    "\n",
    "** hint: **\n",
    "\n",
    "*Take a look at https://scikit-learn.org/stable/modules/generated/sklearn.metrics.accuracy_score.html *"
   ]
  },
  {
   "cell_type": "code",
   "execution_count": 78,
   "metadata": {},
   "outputs": [
    {
     "name": "stdout",
     "output_type": "stream",
     "text": [
      "acurracy classifier 1 for a threshold of 0.5: 0.8598\n",
      "acurracy classifier 2 for a threshold of 0.5: 0.6916\n"
     ]
    }
   ],
   "source": [
    "predict1 = np.empty(ytrue.size)\n",
    "predict2 = np.empty(ytrue.size)\n",
    "\n",
    "for i in range(ytrue.size):\n",
    "    if class1[i]>.5:\n",
    "        predict1[i] = 1\n",
    "    else:\n",
    "        predict1[i] = 0\n",
    "    if class2[i]>.5:\n",
    "        predict2[i] = 1\n",
    "    else:\n",
    "        predict2[i] = 0\n",
    "\n",
    "accuracy1 = sklearn.metrics.accuracy_score(ytrue, predict1)\n",
    "accuracy2 = sklearn.metrics.accuracy_score(ytrue, predict2)\n",
    "\n",
    "print('acurracy classifier 1 for a threshold of 0.5:', round(accuracy1, 4))\n",
    "print('acurracy classifier 2 for a threshold of 0.5:', round(accuracy2, 4))"
   ]
  },
  {
   "cell_type": "markdown",
   "metadata": {},
   "source": [
    "#### 3.3.6\n",
    "(1 pts) Create the 2x2 table (or array, or list, or dataframe..) of wrong and correct classifications by the first and the second classifier, like in the lecture slides (lecture on model evaluation, part on the sign test). Perform a sign test to test whether the performance of the two classifiers is significantly different at a significance level of 0.05. **If you are not familiar with sign testing, you can read the example provided below.**\n",
    "\n",
    "\n",
    "** hints: **  \n",
    "*As explained in the lecture slides, the sign test is a binomial test on the lower-left ($N_{1<2}$) and upper-right ($N_{1>2}$) elements of the cross table. Unlike in the lecture slides, here you need to perform a two-sided test: $$\\textrm{p-value} = P(W \\leq \\min(N_{1<2},N_{1>2}) \\textrm{ or } W \\geq  \\max(N_{1<2},N_{1>2})$$\n",
    "The function `scipy.stats.binom.cdf` can be used to compute the cumulative density of the binomial distribution.\n",
    "For more information on the sign test, see the included paper by Salzberg (signtest.pdf, in particular section 3.1).*"
   ]
  },
  {
   "cell_type": "code",
   "execution_count": 79,
   "metadata": {},
   "outputs": [
    {
     "name": "stdout",
     "output_type": "stream",
     "text": [
      "[['' '2 correct' '2 false']\n",
      " ['1 correct' '66' '26']\n",
      " ['1 false' '8' '7']]\n",
      "The p-value is 0.003\n"
     ]
    }
   ],
   "source": [
    "from scipy.stats import binom\n",
    "\n",
    "bothcorrect = ytrue[(ytrue==predict1) & (ytrue==predict2)].size\n",
    "bothfalse = ytrue[(ytrue!=predict1) & (ytrue!=predict2)].size\n",
    "class_1_correct = ytrue[(ytrue==predict1) & (ytrue!=predict2)].size\n",
    "class_2_correct = ytrue[(ytrue!=predict1) & (ytrue==predict2)].size\n",
    "\n",
    "table = np.array([['', '2 correct', '2 false'],['1 correct', bothcorrect, class_1_correct],['1 false', class_2_correct, bothfalse]])\n",
    "print(table)\n",
    "\n",
    "b = binom(class_1_correct+class_2_correct,0.5)\n",
    "p_value = b.cdf(min(class_2_correct,class_1_correct)) + (1-b.cdf(max(class_2_correct,class_1_correct)-1))\n",
    "print('The p-value is {:.3f}'.format(p_value))"
   ]
  },
  {
   "cell_type": "markdown",
   "metadata": {},
   "source": [
    "----\n",
    "Classifier 1 is significantly better at predicting the true outcome than clssifier 2 with a p-value of 0.003. \n",
    "\n",
    "----"
   ]
  },
  {
   "cell_type": "markdown",
   "metadata": {},
   "source": [
    "## Example two-sided sign test\n",
    "\n",
    "Imagine you have a lucky coin, that you are certain does not result in heads 50% of the times you flip it. However, you friend (lets call him *zero_hypothesis*) claims that your coin is just like his random coin. To verify whether this is true, you decide to compare the performance (you are a scientist after all) of your lucky coin resulting in heads to the performance of his random coin resulting in heads with a sign test. How do you do this?\n",
    "\n",
    "First, you collect data. Assume you place 23 bets. During those 23 bets, you both flip your respective coins. It was determined that if one of you flipped head while the other didn't, that person won the bet, and the other person lost. If you both got the same outcome, neither of you won. 1 stands for head, and 0 for tails. These were your results:"
   ]
  },
  {
   "cell_type": "code",
   "execution_count": 80,
   "metadata": {},
   "outputs": [
    {
     "name": "stdout",
     "output_type": "stream",
     "text": [
      "----------lucky | random \n",
      " bet 0      | 1 | 0\n",
      " bet 1      | 1 | 1\n",
      " bet 2      | 1 | 0\n",
      " bet 3      | 0 | 1\n",
      " bet 4      | 1 | 0\n",
      " bet 5      | 1 | 1\n",
      " bet 6      | 1 | 0\n",
      " bet 7      | 1 | 0\n",
      " bet 8      | 1 | 0\n",
      " bet 9      | 0 | 1\n",
      " bet 10     | 1 | 0\n",
      " bet 11     | 1 | 1\n",
      " bet 12     | 1 | 0\n",
      " bet 13     | 1 | 1\n",
      " bet 14     | 0 | 1\n",
      " bet 15     | 1 | 1\n",
      " bet 16     | 1 | 1\n",
      " bet 17     | 0 | 0\n",
      " bet 18     | 1 | 0\n",
      " bet 19     | 1 | 0\n",
      " bet 20     | 1 | 0\n",
      " bet 21     | 0 | 0\n",
      " bet 22     | 1 | 0\n",
      " -----\n",
      "\n"
     ]
    }
   ],
   "source": [
    "import numpy as np\n",
    "from scipy.stats import binom\n",
    "import matplotlib.pyplot as plt\n",
    "\n",
    "#results\n",
    "lucky_coin = np.array([1,1,1,0,1,1,1,1,1,0,1,1,1,1,0,1,1,0,1,1,1,0,1])\n",
    "random_coin= np.array([0,1,0,1,0,1,0,0,0,1,0,1,0,1,1,1,1,0,0,0,0,0,0])\n",
    "\n",
    "print('----------lucky | random \\n',*['bet {:<5}  | {} | {}\\n'.format(t[0],t[1],t[2]) for t in zip(range(0,len(lucky_coin)),lucky_coin,random_coin)],'-----\\n')"
   ]
  },
  {
   "cell_type": "markdown",
   "metadata": {},
   "source": [
    "Now you calculate how often in any pair of outcomes one coin *won*, i.e. one coin flipped to head while the other flipped to tails."
   ]
  },
  {
   "cell_type": "code",
   "execution_count": 81,
   "metadata": {},
   "outputs": [
    {
     "name": "stdout",
     "output_type": "stream",
     "text": [
      "The lucky coin won 12 times, while the random won 3 times.\n"
     ]
    }
   ],
   "source": [
    "N_l = sum((lucky_coin == 1) & (random_coin == 0)) #how often your lucky coin won\n",
    "N_r = sum((lucky_coin == 0) & (random_coin == 1)) #how often the random coin won\n",
    "N = N_l + N_r #how often one coin was a winner\n",
    "print('The lucky coin won {} times, while the random won {} times.'.format(N_l,N_r))"
   ]
  },
  {
   "cell_type": "markdown",
   "metadata": {},
   "source": [
    "You observed 15 times that one coin won. If both coins resulted in heads 50% of the time, like *zero_hypothesis* stated, you'd expect that both coins have 50% chance of being the winner. So the probability distributions for both N_l and N_r should look something like this, assuming that *zero_hypothesis* is right:"
   ]
  },
  {
   "cell_type": "code",
   "execution_count": 82,
   "metadata": {},
   "outputs": [
    {
     "data": {
      "image/png": "[encoded data removed]",
      "text/plain": [
       "<Figure size 432x288 with 1 Axes>"
      ]
     },
     "metadata": {
      "needs_background": "light"
     },
     "output_type": "display_data"
    }
   ],
   "source": [
    "b = binom(N,0.5) #N=observations of inequality, p=prob of one coin being better, which is 0.5 according to your H0\n",
    "plt.plot(b.pmf(range(N+1)), '--o',label = 'Probability density')\n",
    "plt.plot(b.cdf(range(N+1)), '--o',label = 'Cumulative distribution')\n",
    "plt.legend()\n",
    "plt.xlabel('Number of times one coin is better than the other')\n",
    "plt.ylabel('Probability')\n",
    "plt.title('Distribution according to H0')\n",
    "plt.show()"
   ]
  },
  {
   "cell_type": "markdown",
   "metadata": {},
   "source": [
    "(Of course this is a discrete probability function, so you're not interested in values between integers.)\n",
    "\n",
    "As you can see, according to *zero_hypothesis*, 7 and 8 are the most likely values for both N_l and N_r. But this is not what you observed in your data. To conclude that *H0* is false, you need to show that your outcome is unlikely under the assumption that *H0* is true: the values you observed are so extreme that these values or more extreme values occur less than 5% of the time (*p-value < 0.05*). So how unlikely is it that one coin is better 12 times or more, and the other is better 3 times or less?\n",
    "\n",
    "It's the sum of the values of the probability density function (pdf or pmf in the python doc) at  0,1,2 and 3, plus the sum of the values of the pdf at 12,13,14 and 15. \n",
    "\n",
    "This is equal to the value of the cumulative distribution function (cdf) at 3, plus 1 minus the value of cdf at 11 (since `1-cdf(11)` represents the probability of observing 12 or bigger)."
   ]
  },
  {
   "cell_type": "code",
   "execution_count": 83,
   "metadata": {},
   "outputs": [
    {
     "name": "stdout",
     "output_type": "stream",
     "text": [
      "The p-value is 0.035\n"
     ]
    }
   ],
   "source": [
    "p_value = b.cdf(min(N_r,N_l)) + (1-b.cdf(max(N_r,N_l)-1))\n",
    "print('The p-value is {:.3f}'.format(p_value))"
   ]
  },
  {
   "cell_type": "markdown",
   "metadata": {},
   "source": [
    "So your observations are very unlikely if *zero_hypothesis* is right. By statistical theory, you can now say that you have significant reason to reject their opinion. Now the hardest part of statistics: convincing your non-scientist friends."
   ]
  }
 ],
 "metadata": {
  "anaconda-cloud": {},
  "kernelspec": {
   "display_name": "Python 3",
   "language": "python",
   "name": "python3"
  },
  "language_info": {
   "codemirror_mode": {
    "name": "ipython",
    "version": 3
   },
   "file_extension": ".py",
   "mimetype": "text/x-python",
   "name": "python",
   "nbconvert_exporter": "python",
   "pygments_lexer": "ipython3",
   "version": "3.7.3"
  }
 },
 "nbformat": 4,
 "nbformat_minor": 1
}
