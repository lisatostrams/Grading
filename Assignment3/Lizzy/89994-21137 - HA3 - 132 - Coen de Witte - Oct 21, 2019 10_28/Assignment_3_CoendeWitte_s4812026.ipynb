{
 "cells": [
  {
   "cell_type": "markdown",
   "metadata": {},
   "source": [
    "# Assignment 3\n",
    "\n",
    "## Objective of this assignment\n",
    "The objective of this exercise is to become familiar with fitting decision trees and\n",
    "making ROC curves in Python.\n",
    "\n",
    "\n",
    "## ** Important: ** When handing in your homework:\n",
    "+ Hand in the notebook **(and nothing else)** named as follows: StudentName1_snumber_StudentName2_snumber.ipynb\n",
    "+ Provide clear and complete answers to the questions below under a separate header (not hidden somewhere in your source code), and make sure to explain your answers / motivate your choices. Add Markdown cells where necessary.\n",
    "+ Source code, output graphs, derivations, etc., should be included in the notebook.\n",
    "+ Hand-in: upload to Brightspace.\n",
    "+ Include name, student number, assignment (especially in filenames)!\n",
    "+ When working in pairs only one of you should upload the assignment, and report the name of your partner in your filename.\n",
    "+ Use the Brightspace discussion board or email the student assistants for questions on how to complete the exercises.\n",
    "+ If you find mistakes/have suggestions/would like to complain about the assigment material itself, please email me [Lisa] at `l.tostrams@science.ru.nl`\n",
    "\n",
    "\n",
    "## Advised Reading and Exercise Material\n",
    "**The following reading material is recommended:**\n",
    "\n",
    "Pang-Ning Tan, Michael Steinbach, and Vipin Kumar, Introduction to Data Mining, section 4.1-4.6, as well as the included article on ROC curves.\n"
   ]
  },
  {
   "cell_type": "markdown",
   "metadata": {},
   "source": [
    "## 3.1 Decision trees\n",
    "\n",
    "In this part of the exercise we will fit decision trees using the scikitlearn classifier\n",
    "`sklearn.tree.DecisionTreeClassifier`. As a splitting criterion, the function uses\n",
    "one of the following two impurity measures:\n",
    "\n",
    "\\begin{equation} \\textrm{gdi}(t) = -\\sum_{i=1}^C p(i|t)^2 \\quad \\text{       equivalent to Gini(t)} \\end{equation}   \n",
    "\n",
    "\\begin{equation}\n",
    "\\textrm{deviance}(t) = -2\\sum_{i=1}^C p(i|t) \\log p(i|t) \\quad \\text{equivalent to Entropy(t)} \n",
    "\\end{equation}\n",
    "\n",
    "We will analyze the wine data we have used previously. The wine data set has the following attributes, all of which are continuous: \n",
    "\n",
    "\n",
    "| #             | Attribute     | Unit  |\n",
    "| ------------- |:-------------| -----:|\n",
    "|1 | Fixed acidity (tartaric) | g/dm$^3$ |\n",
    "|2 | Volatile acidity (acetic) | g/dm$^3$ |\n",
    "|3 | Citric acid | g/dm$^3$ |\n",
    "|4 | Residual sugar | g/dm$^3$ |\n",
    "|5 | Chlorides | g/dm$^3$ |\n",
    "|6 | Free sulfur dioxide | mg/dm$^3$ |\n",
    "|7 | Total sulfur dioxide | mg/dm$^3$ |\n",
    "|8 | Density | g/cm$^3$ |\n",
    "|9 | pH | pH |\n",
    "|10 | Sulphates | g/dm$^3$ |\n",
    "|11 | Alcohol | % vol. | \n",
    "\n",
    "\n",
    "#### 3.1.1\n",
    "(0.5 pts) Load the wine data set `Data/wine.mat` using the `scipy.io` `loadmat` function. This contains the same data as used in the earlier assignment, but with outliers and the 12th attribute already removed. Create data matrix $X$, class vector $y$, and the lists $attributeNames$ and $classNames$ with the data provided in the `wine.mat` file. Print out the  $attributeNames$ and $classNames$ to make sure it's a list of strings.\n",
    "\n",
    "   ** hints: **   \n",
    "*The object in wine.mat is a dictionary. The attributes are stored in matrix $X$, the class in vector $y$. $y$ is shaped as an array containing single element arrays. To flatten $y$, you can use `y.ravel()`, which unravels matrices into a 1d array. Attribute names and class names are stored in the attributeNames and classNames objects, which contain arrays, of which the first element contains the names. To get the names from those arrays, you can use list comprehension or for-loops. For more on list comprehension, check https://www.digitalocean.com/community/tutorials/understanding-list-comprehensions-in-python-3. For example, if you have an larger array containing nested arrays of which you want the first element, you can try `new_array = [nested_array[0] for nested_array in larger_array]`.*\n",
    "\n"
   ]
  },
  {
   "cell_type": "code",
   "execution_count": 8,
   "metadata": {},
   "outputs": [
    {
     "name": "stdout",
     "output_type": "stream",
     "text": [
      "['Fixed acidity', 'Volatile acidity', 'Citric acid', 'Residual sugar', 'Chlorides', 'Free sulfur dioxide', 'Total sulfur dioxide', 'Density', 'pH', 'Sulphates', 'Alcohol']\n",
      "['Red', 'White']\n"
     ]
    }
   ],
   "source": [
    "import numpy as np\n",
    "from scipy.io import loadmat\n",
    "\n",
    "wine_data = loadmat('Data/wine.mat')\n",
    "Y = wine_data[\"y\"]\n",
    "Y = Y.ravel()\n",
    "X = wine_data[\"X\"]\n",
    "\n",
    "attributeNames = [i[0] for i in wine_data['attributeNames'][0]]\n",
    "classNames = [i[0][0] for i in wine_data['classNames']]\n",
    "\n",
    "print(attributeNames)\n",
    "print(classNames)"
   ]
  },
  {
   "cell_type": "markdown",
   "metadata": {},
   "source": [
    "#### 3.1.2\n",
    " (1.5 pts) Fit a decision tree to the wine data in order to estimate if the wine is red or white. Use the Gini (gdi) splitting criterion. Use `min_samples_split=100` for the stopping criterion. Explain what happens when you change the values of the parameter `min_samples_split`. After fitting the tree, visualize it with the tree_print function in `treeprint.py` in the Toolbox folder. \n",
    "\n",
    "** hints: **   \n",
    "*The `treeprint.py` file contains some documentation on how to use it. Helpfull documentation for the DecisionTreeClassifier function can be found at * http://scikit-learn.org/stable/modules/tree.html#classification  \n",
    "\n"
   ]
  },
  {
   "cell_type": "code",
   "execution_count": 15,
   "metadata": {
    "scrolled": false
   },
   "outputs": [
    {
     "name": "stdout",
     "output_type": "stream",
     "text": [
      "            |->4  White\n",
      "            |\n",
      "         |->3 then if Volatile acidity =< 0.66: go to 4, else go to 5\n",
      "         |  |\n",
      "         |  |  |->6  Red\n",
      "         |  |  |\n",
      "         |  |->5 else if Citric acid =< 0.09: go to 6, else go to 7\n",
      "         |     |\n",
      "         |     |->7  White\n",
      "         |\n",
      "      |->2 then if Sulphates =< 0.56: go to 3, else go to 8\n",
      "      |  |\n",
      "      |  |     |->10  Red\n",
      "      |  |     |\n",
      "      |  |  |->9 then if Total sulfur dioxide =< 45.00: go to 10, else go to 11\n",
      "      |  |  |  |\n",
      "      |  |  |  |->11  White\n",
      "      |  |  |\n",
      "      |  |->8 else if Chlorides =< 0.04: go to 9, else go to 12\n",
      "      |     |\n",
      "      |     |  |->13  White\n",
      "      |     |  |\n",
      "      |     |->12 else if Alcohol =< 10.60: go to 13, else go to 14\n",
      "      |        |\n",
      "      |        |->14  Red\n",
      "      |\n",
      "   |->1 then if Chlorides =< 0.05: go to 2, else go to 15\n",
      "   |  |\n",
      "   |  |     |->17  Red\n",
      "   |  |     |\n",
      "   |  |  |->16 then if Free sulfur dioxide =< 4.50: go to 17, else go to 18\n",
      "   |  |  |  |\n",
      "   |  |  |  |->18  White\n",
      "   |  |  |\n",
      "   |  |->15 else if Sulphates =< 0.37: go to 16, else go to 19\n",
      "   |     |\n",
      "   |     |  |->20  White\n",
      "   |     |  |\n",
      "   |     |->19 else if Density =< 0.99: go to 20, else go to 21\n",
      "   |        |\n",
      "   |        |     |->23  White\n",
      "   |        |     |\n",
      "   |        |  |->22 then if Residual sugar =< 1.10: go to 23, else go to 24\n",
      "   |        |  |  |\n",
      "   |        |  |  |     |->26  White\n",
      "   |        |  |  |     |\n",
      "   |        |  |  |  |->25 then if Volatile acidity =< 0.27: go to 26, else go to 27\n",
      "   |        |  |  |  |  |\n",
      "   |        |  |  |  |  |->27  Red\n",
      "   |        |  |  |  |\n",
      "   |        |  |  |->24 else if Density =< 0.99: go to 25, else go to 28\n",
      "   |        |  |     |\n",
      "   |        |  |     |        |->31  Red\n",
      "   |        |  |     |        |\n",
      "   |        |  |     |     |->30 then if Residual sugar =< 2.75: go to 31, else go to 32\n",
      "   |        |  |     |     |  |\n",
      "   |        |  |     |     |  |  |->33  Red\n",
      "   |        |  |     |     |  |  |\n",
      "   |        |  |     |     |  |->32 else if Density =< 1.00: go to 33, else go to 34\n",
      "   |        |  |     |     |     |\n",
      "   |        |  |     |     |     |->34  White\n",
      "   |        |  |     |     |\n",
      "   |        |  |     |  |->29 then if Total sulfur dioxide =< 64.50: go to 30, else go to 35\n",
      "   |        |  |     |  |  |\n",
      "   |        |  |     |  |  |->35  White\n",
      "   |        |  |     |  |\n",
      "   |        |  |     |->28 else if Chlorides =< 0.05: go to 29, else go to 36\n",
      "   |        |  |        |\n",
      "   |        |  |        |     |->38  White\n",
      "   |        |  |        |     |\n",
      "   |        |  |        |  |->37 then if Volatile acidity =< 0.29: go to 38, else go to 39\n",
      "   |        |  |        |  |  |\n",
      "   |        |  |        |  |  |->39  Red\n",
      "   |        |  |        |  |\n",
      "   |        |  |        |->36 else if Sulphates =< 0.45: go to 37, else go to 40\n",
      "   |        |  |           |\n",
      "   |        |  |           |->40  Red\n",
      "   |        |  |\n",
      "   |        |->21 else if Residual sugar =< 10.70: go to 22, else go to 41\n",
      "   |           |\n",
      "   |           |->41  White\n",
      "   |\n",
      "if Total sulfur dioxide =< 66.50: go to 1, else go to 42\n",
      "   |\n",
      "   |                    |->49  White\n",
      "   |                    |\n",
      "   |                 |->48 then if Chlorides =< 0.01: go to 49, else go to 50\n",
      "   |                 |  |\n",
      "   |                 |  |->50  Red\n",
      "   |                 |\n",
      "   |              |->47 then if Chlorides =< 0.01: go to 48, else go to 51\n",
      "   |              |  |\n",
      "   |              |  |              |->56  White\n",
      "   |              |  |              |\n",
      "   |              |  |           |->55 then if Chlorides =< 0.05: go to 56, else go to 57\n",
      "   |              |  |           |  |\n",
      "   |              |  |           |  |     |->59  White\n",
      "   |              |  |           |  |     |\n",
      "   |              |  |           |  |  |->58 then if Alcohol =< 11.50: go to 59, else go to 60\n",
      "   |              |  |           |  |  |  |\n",
      "   |              |  |           |  |  |  |->60  Red\n",
      "   |              |  |           |  |  |\n",
      "   |              |  |           |  |->57 else if Free sulfur dioxide =< 37.50: go to 58, else go to 61\n",
      "   |              |  |           |     |\n",
      "   |              |  |           |     |->61  Red\n",
      "   |              |  |           |\n",
      "   |              |  |        |->54 then if Alcohol =< 12.70: go to 55, else go to 62\n",
      "   |              |  |        |  |\n",
      "   |              |  |        |  |  |->63  Red\n",
      "   |              |  |        |  |  |\n",
      "   |              |  |        |  |->62 else if Alcohol =< 13.83: go to 63, else go to 64\n",
      "   |              |  |        |     |\n",
      "   |              |  |        |     |->64  White\n",
      "   |              |  |        |\n",
      "   |              |  |     |->53 then if Citric acid =< 0.09: go to 54, else go to 65\n",
      "   |              |  |     |  |\n",
      "   |              |  |     |  |        |->68  White\n",
      "   |              |  |     |  |        |\n",
      "   |              |  |     |  |     |->67 then if Volatile acidity =< 0.56: go to 68, else go to 69\n",
      "   |              |  |     |  |     |  |\n",
      "   |              |  |     |  |     |  |->69  Red\n",
      "   |              |  |     |  |     |\n",
      "   |              |  |     |  |  |->66 then if Chlorides =< 0.06: go to 67, else go to 70\n",
      "   |              |  |     |  |  |  |\n",
      "   |              |  |     |  |  |  |->70  Red\n",
      "   |              |  |     |  |  |\n",
      "   |              |  |     |  |->65 else if Total sulfur dioxide =< 72.50: go to 66, else go to 71\n",
      "   |              |  |     |     |\n",
      "   |              |  |     |     |     |->73  White\n",
      "   |              |  |     |     |     |\n",
      "   |              |  |     |     |  |->72 then if Alcohol =< 12.60: go to 73, else go to 74\n",
      "   |              |  |     |     |  |  |\n",
      "   |              |  |     |     |  |  |->74  Red\n",
      "   |              |  |     |     |  |\n",
      "   |              |  |     |     |->71 else if Residual sugar =< 0.92: go to 72, else go to 75\n",
      "   |              |  |     |        |\n",
      "   |              |  |     |        |           |->79  White\n",
      "   |              |  |     |        |           |\n",
      "   |              |  |     |        |        |->78 then if Residual sugar =< 11.95: go to 79, else go to 80\n",
      "   |              |  |     |        |        |  |\n",
      "   |              |  |     |        |        |  |  |->81  White\n",
      "   |              |  |     |        |        |  |  |\n",
      "   |              |  |     |        |        |  |->80 else if Volatile acidity =< 0.32: go to 81, else go to 82\n",
      "   |              |  |     |        |        |     |\n",
      "   |              |  |     |        |        |     |->82  Red\n",
      "   |              |  |     |        |        |\n",
      "   |              |  |     |        |     |->77 then if Free sulfur dioxide =< 6.50: go to 78, else go to 83\n",
      "   |              |  |     |        |     |  |\n",
      "   |              |  |     |        |     |  |        |->86  White\n",
      "   |              |  |     |        |     |  |        |\n",
      "   |              |  |     |        |     |  |     |->85 then if pH =< 3.32: go to 86, else go to 87\n",
      "   |              |  |     |        |     |  |     |  |\n",
      "   |              |  |     |        |     |  |     |  |     |->89  White\n",
      "   |              |  |     |        |     |  |     |  |     |\n",
      "   |              |  |     |        |     |  |     |  |  |->88 then if Fixed acidity =< 6.45: go to 89, else go to 90\n",
      "   |              |  |     |        |     |  |     |  |  |  |\n",
      "   |              |  |     |        |     |  |     |  |  |  |  |->91  White\n",
      "   |              |  |     |        |     |  |     |  |  |  |  |\n",
      "   |              |  |     |        |     |  |     |  |  |  |->90 else if Alcohol =< 11.40: go to 91, else go to 92\n",
      "   |              |  |     |        |     |  |     |  |  |     |\n",
      "   |              |  |     |        |     |  |     |  |  |     |->92  Red\n",
      "   |              |  |     |        |     |  |     |  |  |\n",
      "   |              |  |     |        |     |  |     |  |->87 else if Free sulfur dioxide =< 54.00: go to 88, else go to 93\n",
      "   |              |  |     |        |     |  |     |     |\n",
      "   |              |  |     |        |     |  |     |     |  |->94  Red\n",
      "   |              |  |     |        |     |  |     |     |  |\n",
      "   |              |  |     |        |     |  |     |     |->93 else if Total sulfur dioxide =< 146.00: go to 94, else go to 95\n",
      "   |              |  |     |        |     |  |     |        |\n",
      "   |              |  |     |        |     |  |     |        |->95  White\n",
      "   |              |  |     |        |     |  |     |\n",
      "   |              |  |     |        |     |  |  |->84 then if Citric acid =< 0.23: go to 85, else go to 96\n",
      "   |              |  |     |        |     |  |  |  |\n",
      "   |              |  |     |        |     |  |  |  |->96  White\n",
      "   |              |  |     |        |     |  |  |\n",
      "   |              |  |     |        |     |  |->83 else if Sulphates =< 0.75: go to 84, else go to 97\n",
      "   |              |  |     |        |     |     |\n",
      "   |              |  |     |        |     |     |  |->98  White\n",
      "   |              |  |     |        |     |     |  |\n",
      "   |              |  |     |        |     |     |->97 else if Chlorides =< 0.06: go to 98, else go to 99\n",
      "   |              |  |     |        |     |        |\n",
      "   |              |  |     |        |     |        |->99  Red\n",
      "   |              |  |     |        |     |\n",
      "   |              |  |     |        |  |->76 then if Alcohol =< 13.58: go to 77, else go to 100\n",
      "   |              |  |     |        |  |  |\n",
      "   |              |  |     |        |  |  |-  |->101  White\n",
      "   |              |  |     |        |  |  |-  |\n",
      "   |              |  |     |        |  |  |->100 else if Citric acid =< 0.49: go to 101, else go to 102\n",
      "   |              |  |     |        |  |  |   |\n",
      "   |              |  |     |        |  |  |   |->102  Red\n",
      "   |              |  |     |        |  |\n",
      "   |              |  |     |        |->75 else if Sulphates =< 0.78: go to 76, else go to 103\n",
      "   |              |  |     |           |\n",
      "   |              |  |     |           |-  |->104  Red\n",
      "   |              |  |     |           |-  |\n",
      "   |              |  |     |           |->103 else if Total sulfur dioxide =< 82.50: go to 104, else go to 105\n",
      "   |              |  |     |           |   |\n",
      "   |              |  |     |           |   |->105  White\n",
      "   |              |  |     |\n",
      "   |              |  |  |->52 then if Total sulfur dioxide =< 275.00: go to 53, else go to 106\n",
      "   |              |  |  |  |\n",
      "   |              |  |  |  |-  |->107  White\n",
      "   |              |  |  |  |-  |\n",
      "   |              |  |  |  |->106 else if Residual sugar =< 7.05: go to 107, else go to 108\n",
      "   |              |  |  |  |   |\n",
      "   |              |  |  |  |   |->108  Red\n",
      "   |              |  |  |\n",
      "   |              |  |->51 else if Sulphates =< 0.81: go to 52, else go to 109\n",
      "   |              |     |\n",
      "   |              |     |-  |   |->111  White\n",
      "   |              |     |-  |   |\n",
      "   |              |     |-  |->110 then if Residual sugar =< 1.60: go to 111, else go to 112\n",
      "   |              |     |-  |-  |\n",
      "   |              |     |-  |-  |-  |->113  Red\n",
      "   |              |     |-  |-  |-  |\n",
      "   |              |     |-  |-  |->112 else if Residual sugar =< 4.90: go to 113, else go to 114\n",
      "   |              |     |-  |-  |   |\n",
      "   |              |     |-  |-  |   |->114  White\n",
      "   |              |     |-  |\n",
      "   |              |     |->109 else if Total sulfur dioxide =< 89.50: go to 110, else go to 115\n",
      "   |              |     |   |\n",
      "   |              |     |   |-  |->116  White\n",
      "   |              |     |   |-  |\n",
      "   |              |     |   |->115 else if Volatile acidity =< 0.50: go to 116, else go to 117\n",
      "   |              |     |   |   |\n",
      "   |              |     |   |   |-  |->118  Red\n",
      "   |              |     |   |   |-  |\n",
      "   |              |     |   |   |->117 else if Free sulfur dioxide =< 17.00: go to 118, else go to 119\n",
      "   |              |     |   |   |   |\n",
      "   |              |     |   |   |   |->119  White\n",
      "   |              |\n",
      "   |           |->46 then if pH =< 3.84: go to 47, else go to 120\n",
      "   |           |  |\n",
      "   |           |  |->120  Red\n",
      "   |           |\n",
      "   |        |->45 then if Chlorides =< 0.07: go to 46, else go to 121\n",
      "   |        |  |\n",
      "   |        |  |-  |->122  Red\n",
      "   |        |  |-  |\n",
      "   |        |  |->121 else if Total sulfur dioxide =< 81.50: go to 122, else go to 123\n",
      "   |        |  |   |\n",
      "   |        |  |   |-  |   |->125  White\n",
      "   |        |  |   |-  |   |\n",
      "   |        |  |   |-  |->124 then if Volatile acidity =< 0.54: go to 125, else go to 126\n",
      "   |        |  |   |-  |-  |\n",
      "   |        |  |   |-  |-  |-  |->127  Red\n",
      "   |        |  |   |-  |-  |-  |\n",
      "   |        |  |   |-  |-  |->126 else if Total sulfur dioxide =< 125.50: go to 127, else go to 128\n",
      "   |        |  |   |-  |-  |   |\n",
      "   |        |  |   |-  |-  |   |->128  White\n",
      "   |        |  |   |-  |\n",
      "   |        |  |   |->123 else if Alcohol =< 10.25: go to 124, else go to 129\n",
      "   |        |  |   |   |\n",
      "   |        |  |   |   |-  |   |->131  Red\n",
      "   |        |  |   |   |-  |   |\n",
      "   |        |  |   |   |-  |->130 then if Fixed acidity =< 6.35: go to 131, else go to 132\n",
      "   |        |  |   |   |-  |-  |\n",
      "   |        |  |   |   |-  |-  |->132  White\n",
      "   |        |  |   |   |-  |\n",
      "   |        |  |   |   |->129 else if Density =< 0.99: go to 130, else go to 133\n",
      "   |        |  |   |   |   |\n",
      "   |        |  |   |   |   |->133  Red\n",
      "   |        |\n",
      "   |     |->44 then if Sulphates =< 1.12: go to 45, else go to 134\n",
      "   |     |  |\n",
      "   |     |  |->134  Red\n",
      "   |     |\n",
      "   |  |->43 then if Volatile acidity =< 0.82: go to 44, else go to 135\n",
      "   |  |  |\n",
      "   |  |  |-  |->136  White\n",
      "   |  |  |-  |\n",
      "   |  |  |->135 else if pH =< 3.45: go to 136, else go to 137\n",
      "   |  |  |   |\n",
      "   |  |  |   |->137  Red\n",
      "   |  |\n",
      "   |->42 else if Chlorides =< 0.07: go to 43, else go to 138\n",
      "      |\n",
      "      |-  |   |->140  Red\n",
      "      |-  |   |\n",
      "      |-  |->139 then if Citric acid =< 0.06: go to 140, else go to 141\n",
      "      |-  |-  |\n",
      "      |-  |-  |-  |->142  Red\n",
      "      |-  |-  |-  |\n",
      "      |-  |-  |->141 else if Chlorides =< 0.07: go to 142, else go to 143\n",
      "      |-  |-  |   |\n",
      "      |-  |-  |   |-  |->144  Red\n",
      "      |-  |-  |   |-  |\n",
      "      |-  |-  |   |->143 else if Total sulfur dioxide =< 68.50: go to 144, else go to 145\n",
      "      |-  |-  |   |   |\n",
      "      |-  |-  |   |   |-  |->146  White\n",
      "      |-  |-  |   |   |-  |\n",
      "      |-  |-  |   |   |->145 else if Fixed acidity =< 9.95: go to 146, else go to 147\n",
      "      |-  |-  |   |   |   |\n",
      "      |-  |-  |   |   |   |->147  Red\n",
      "      |-  |\n",
      "      |->138 else if Density =< 1.00: go to 139, else go to 148\n",
      "      |   |\n",
      "      |   |-  |   |   |   |->152  White\n",
      "      |   |-  |   |   |   |\n",
      "      |   |-  |   |   |->151 then if Citric acid =< 0.38: go to 152, else go to 153\n",
      "      |   |-  |   |   |-  |\n",
      "      |   |-  |   |   |-  |->153  Red\n",
      "      |   |-  |   |   |\n",
      "      |   |-  |   |->150 then if Volatile acidity =< 0.22: go to 151, else go to 154\n",
      "      |   |-  |   |-  |\n",
      "      |   |-  |   |-  |->154  Red\n",
      "      |   |-  |   |\n",
      "      |   |-  |->149 then if Total sulfur dioxide =< 157.50: go to 150, else go to 155\n",
      "      |   |-  |-  |\n",
      "      |   |-  |-  |->155  White\n",
      "      |   |-  |\n",
      "      |   |->148 else if Residual sugar =< 6.25: go to 149, else go to 156\n",
      "      |   |   |\n",
      "      |   |   |-  |   |   |->159  White\n",
      "      |   |   |-  |   |   |\n",
      "      |   |   |-  |   |->158 then if Sulphates =< 0.66: go to 159, else go to 160\n",
      "      |   |   |-  |   |-  |\n",
      "      |   |   |-  |   |-  |->160  Red\n",
      "      |   |   |-  |   |\n",
      "      |   |   |-  |->157 then if pH =< 3.15: go to 158, else go to 161\n",
      "      |   |   |-  |-  |\n",
      "      |   |   |-  |-  |->161  Red\n",
      "      |   |   |-  |\n",
      "      |   |   |->156 else if Total sulfur dioxide =< 125.00: go to 157, else go to 162\n",
      "      |   |   |   |\n",
      "      |   |   |   |->162  White\n",
      "<------------------------------------------------------------------------------------------------------->\n",
      "Tree Depth:  21\n"
     ]
    }
   ],
   "source": [
    "from sklearn import tree\n",
    "import Toolbox.treeprint as treeprint\n",
    "from sklearn.tree import DecisionTreeClassifier\n",
    "# Fit tree classifier, Gini split criterion, pruning enabled\n",
    "clf =  tree.DecisionTreeClassifier()\n",
    "clf = clf.fit(X,Y)\n",
    "\n",
    "#stopping criterion\n",
    "min_samples_split = 100\n",
    "dtc = tree.DecisionTreeClassifier()   #create tree\n",
    "dtc = dtc.fit(X,Y)    #fit on data\n",
    "\n",
    "treeprint.tree_print(dtc, attributeNames, classNames)"
   ]
  },
  {
   "cell_type": "markdown",
   "metadata": {},
   "source": [
    "----\n",
    "I don't see any difference when changing the value of min_sample_split.\n",
    "\n",
    "\n",
    "----"
   ]
  },
  {
   "cell_type": "markdown",
   "metadata": {},
   "source": [
    "#### 3.1.3\n",
    "\n",
    "(0.5 pts) Show that a wine with the following attribute values would be classified as white by the tree fitted in 3.1.2, by applying the `predict()` function from the DecisionTreeClassifier to this sample.  Have another look at the visualized tree. Which attributes are used to classify this wine? \n",
    "\n",
    "| #             | Attribute     | Value  |\n",
    "| ------------- |:-------------| -----:|\n",
    "|1 | Fixed acidity (tartaric) | 6.9 g/dm$^3$ |\n",
    "|2 | Volatile acidity (acetic) | 1.09 g/dm$^3$ |\n",
    "|3 | Citric acid | 0.06 g/dm$^3$ |\n",
    "|4 | Residual sugar | 2.1 g/dm$^3$ |\n",
    "|5 | Chlorides | 0.0061 g/dm$^3$ |\n",
    "|6 | Free sulfur dioxide | 12 mg/dm$^3$ |\n",
    "|7 | Total sulfur dioxide | 31 mg/dm$^3$ |\n",
    "|8 | Density | 0.99 g/cm$^3$ |\n",
    "|9 | pH | 3.5 |\n",
    "|10 | Sulphates | 0.64 g/dm$^3$ |\n",
    "|11 | Alcohol | 12 % vol. | \n",
    "\n",
    "** hints: **\n",
    "*If you don't know how to classify input values with a tree, see the help documentation for the DecisionTreeClassifier function on how to predict the label for a sample. *"
   ]
  },
  {
   "cell_type": "code",
   "execution_count": 32,
   "metadata": {},
   "outputs": [
    {
     "name": "stdout",
     "output_type": "stream",
     "text": [
      "[1]\n",
      "White\n"
     ]
    }
   ],
   "source": [
    "#x = ...\n",
    "#x_class = ...  # 'white'\n",
    "x = [6.9, 1.09, 0.06, 2.1, 0.0061, 12, 31, 0.99, 3.5, 0.64, 12]\n",
    "x = np.reshape(x, (1, -1))\n",
    "x_class = clf.predict(x)\n",
    "print(x_class)\n",
    "print(classNames[x_class[0]])\n",
    "#White\n"
   ]
  },
  {
   "cell_type": "markdown",
   "metadata": {},
   "source": [
    "----\n",
    "Total sulfur dioxide, Chlorides and Sulphates are used to classify this wine.\n",
    "\n",
    "----"
   ]
  },
  {
   "cell_type": "markdown",
   "metadata": {},
   "source": [
    "#### 3.1.4\n",
    "(1 pts) Classify all the wines in the wine data set. What percentage of the wine data is classified correctly by the tree?\n",
    "\n"
   ]
  },
  {
   "cell_type": "code",
   "execution_count": 33,
   "metadata": {},
   "outputs": [
    {
     "name": "stdout",
     "output_type": "stream",
     "text": [
      "[0 0 0 ... 1 1 1]\n"
     ]
    },
    {
     "data": {
      "text/plain": [
       "0.9996827411167513"
      ]
     },
     "execution_count": 33,
     "metadata": {},
     "output_type": "execute_result"
    }
   ],
   "source": [
    "#accuracy = 0.99968274111675126\n",
    "predictions = clf.predict(X)\n",
    "print(predictions)\n",
    "\n",
    "#write your code here\n",
    "import sklearn\n",
    "clf.score(X, Y, sample_weight=None)"
   ]
  },
  {
   "cell_type": "markdown",
   "metadata": {},
   "source": [
    "----\n",
    "99% of the wine data is classified correctly by the tree.\n",
    "\n",
    "----"
   ]
  },
  {
   "cell_type": "markdown",
   "metadata": {},
   "source": [
    "## 3.2 Decision tree pruning using cross-validation\n",
    "\n",
    "In this exercise we will use cross-validation to prune a decision tree. When applying cross-validation the observed data is split into training and test sets, i.e., `X_train`, `y_train` and `X_test` and `y_test`. We train the model on the training data and evaluate the performance of the trained model on the test data.\n",
    "\n",
    "#### 3.2.1\n",
    "(2 pts) We are again using the wine data set `Data/wine.mat`. Divide the data into a training and a test data set (see hints!). Fit a decision tree to the training data using the Gini (`gdi`) splitting criterion.\n",
    "\n",
    "Now, we want to find an optimally pruned decision tree by *modifying its maximum depth*. For different values of the parameter `depth` (from 2 to 20), \n",
    "+ first fit the decision tree\n",
    "+ then compute the classification error on the training and test set (this is called holdout cross-validation)\n",
    "\n",
    "When you've done this for `depth` values 2,...,20, plot the training and test classification error as a function of the tree depth in the same figure. This will show us what the optimal pruning depth is for the training set, but also how well this generalizes to a test set. \n",
    "\n",
    "\n",
    "** hints: **  \n",
    "*Take a look at the module `sklearn.model_selection` and see how it can be used to partition the data into a training and a test set (holdout validation, `train_test_split()` function). Note that the package also contains functions to partition data for K-fold cross-validation. Some of the functions can ensure that both training and test sets have roughly the same class proportions. The error is 1-accuracy. The easiest way to compute the accuracy is by using the sklearn metrics module: \n",
    " https://scikit-learn.org/stable/modules/generated/sklearn.metrics.accuracy_score.html *\n",
    "\n",
    "What appears to be the optimal tree depth? Do you get the same result when you run your code again, generating a new random split between training and test data?\n"
   ]
  },
  {
   "cell_type": "code",
   "execution_count": 43,
   "metadata": {},
   "outputs": [
    {
     "name": "stdout",
     "output_type": "stream",
     "text": [
      "dict_keys(['__header__', '__version__', '__globals__', 'X', 'attributeNames', 'y', 'classNames', 'N', 'M', 'C'])\n",
      "[[0]\n",
      " [0]\n",
      " [0]\n",
      " ...\n",
      " [1]\n",
      " [1]\n",
      " [1]]\n",
      "(6304, 1)\n",
      "(6304, 11)\n",
      "(5043, 11) (5043, 1)\n",
      "(1261, 11) (1261, 1)\n",
      "0.9559785841760856 - 0.9532117367168914\n",
      "0.9764029347610549 - 0.9682791435368755\n",
      "0.9873091413840968 - 0.979381443298969\n",
      "0.991076740035693 - 0.9817605075337034\n",
      "0.9928613920285544 - 0.9817605075337034\n",
      "0.9944477493555424 - 0.9817605075337034\n",
      "0.9958358120166567 - 0.9825535289452815\n",
      "0.9970255800118977 - 0.9817605075337034\n",
      "0.9974221693436447 - 0.9833465503568596\n",
      "0.9976204640095181 - 0.9825535289452815\n",
      "0.9980170533412651 - 0.9833465503568596\n",
      "0.9984136426730121 - 0.9841395717684377\n",
      "0.998810232004759 - 0.9841395717684377\n",
      "0.998810232004759 - 0.9849325931800159\n",
      "0.9992068213365061 - 0.9841395717684377\n",
      "0.9994051160023796 - 0.985725614591594\n",
      "0.999603410668253 - 0.9841395717684377\n",
      "0.999603410668253 - 0.9825535289452815\n",
      "0.999603410668253 - 0.9841395717684377\n"
     ]
    },
    {
     "data": {
      "image/png": "[encoded data removed]",
      "text/plain": [
       "<Figure size 432x288 with 1 Axes>"
      ]
     },
     "metadata": {
      "needs_background": "light"
     },
     "output_type": "display_data"
    }
   ],
   "source": [
    "import numpy as np\n",
    "from scipy.io import loadmat\n",
    "from sklearn import model_selection, tree\n",
    "from sklearn.model_selection import train_test_split\n",
    "from sklearn.tree import DecisionTreeClassifier\n",
    "import matplotlib.pyplot as plt\n",
    "\n",
    "# Load Matlab data file and extract variables of interest\n",
    "wine_data = loadmat('Data/wine.mat')\n",
    "#print(wine_data.items())\n",
    "\n",
    "print(wine_data.keys())\n",
    "X = wine_data['X']\n",
    "y = wine_data['y']\n",
    "print(y)\n",
    "print(y.shape)\n",
    "print(X.shape)\n",
    "\n",
    "attributeNames = wine_data['attributeNames']\n",
    "classNames = wine_data['classNames']\n",
    "\n",
    "# Simple holdout-set crossvalidation\n",
    "X_train, X_test, y_train, y_test = train_test_split(X, y, test_size=0.2)\n",
    "print (X_train.shape, y_train.shape)\n",
    "print (X_test.shape, y_test.shape)\n",
    "#clf_gini = DecisionTreeClassifier(criterion = \"gini\", random_state = 100,\n",
    "                               #max_depth=20, min_samples_leaf=5)\n",
    "#clf_gini.fit(X_train, y_train)\n",
    "train_error = []\n",
    "test_error = []\n",
    "for i in range(2, 21):\n",
    "    clf = tree.DecisionTreeClassifier(criterion = \"gini\", max_depth = i)\n",
    "    clf = clf.fit(X_train,y_train)\n",
    "    predictions = clf.predict(X_test)\n",
    "    x = clf.score(X_train, y_train)\n",
    "    y = clf.score(X_test, y_test)\n",
    "    train_error.append(x)\n",
    "    test_error.append(y)\n",
    "    print(str(x) + ' - ' + str(y))\n",
    "    \n",
    "    \n",
    "plt.scatter(range(2,21), train_error, c = 'red', marker = 'o', label=\"train_error\")\n",
    "plt.scatter(range(2,21), test_error, c = 'purple', marker = 'o', label=\"test_error\")\n",
    "plt.xlabel(\"Tree depth\")\n",
    "plt.ylabel(\"Percentage of correct classification\")\n",
    "plt.legend(loc=\"lower right\")\n",
    "plt.show()"
   ]
  },
  {
   "cell_type": "markdown",
   "metadata": {},
   "source": [
    "----\n",
    "5, you do not get the same exact results as the new split is random.\n",
    "\n",
    "----"
   ]
  },
  {
   "cell_type": "markdown",
   "metadata": {},
   "source": [
    "#### 3.2.2\n",
    "(1.5 pts) Repeat the exercise above, using 10-fold cross-validation. K-fold cross-validation works by splitting X into K partitions of equal length. Then in each fold, you choose K-1 partitions as the training set and the remaining partition as the test set. Every partition gets a turn being a test set. For a very nice simple explanation of how (and why) K-fold works, check out http://www.dummies.com/programming/big-data/data-science/resorting-cross-validation-machine-learning/\n",
    "\n",
    "\n",
    "For each fold, fit a decision tree on the training set and evaluate its performance on the test set. Finally, compute the average classification errors on the test- and training sets across the 10 cross-validation folds and plot them as a function of the tree depth.\n",
    "\n",
    "** hints: **\n",
    "*This time the `KFold()` function from the module `sklearn.model_selection` can be used to partition the data into the 10 training and test partitions. Check out http://scikit-learn.org/stable/modules/cross_validation.html#k-fold for an example of how to acces the indices for the training set and the test set in each fold. Those indices can then be used to create the training and test set, e.g. `X_train = X[train_indices]`*\n",
    "\n",
    "*If you are creating a for loop iterating over an object where you both need the index and the elements of the object, you can enumerate the object. For example:*\n",
    "\n",
    "`\n",
    "for index, (element) in enumerate(object):\n",
    "    array[index] = operation(element)\n",
    "`\n",
    " \n",
    "\n",
    "What appears to be the optimal tree depth? Do you get the same result when you run your code again, generating a new random split between training and test data? How about 100-fold cross-validation?\n"
   ]
  },
  {
   "cell_type": "code",
   "execution_count": null,
   "metadata": {},
   "outputs": [],
   "source": [
    "\n"
   ]
  },
  {
   "cell_type": "markdown",
   "metadata": {},
   "source": [
    "----\n",
    "write your answer here\n",
    "\n",
    "----"
   ]
  },
  {
   "cell_type": "markdown",
   "metadata": {},
   "source": [
    " ## 3.3 ROC curves, AUC scores, and the sign test\n",
    "\n",
    "In this exercise we will use ROC curves and the sign test to compare classifiers. Study the lecture slides and the paper 'ROC Graphs: Notes and Practical Considerations for Researchers' by Tom Fawcett included with the homework assignment (ROC101.pdf). It describes all you need to know (and much, much more..) about ROC curves. The method explained for computing the area under the curve is unnecessarily complicated. A simpler formula is:\n",
    "$$\n",
    "    \\mbox{AUC} = {1 \\over m n} \\sum_{i=1}^m \\sum_{j=1}^n \\mathbf{\\large 1}_{p_i > p_j} \\: .\n",
    "   $$\n",
    "Here $i$ runs over all $m$ data points with true label 1, and $j$ runs over all $n$ data points with true label $0$; $p_i$ and $p_j$ denote the probability score assigned by the classifier to data point $i$ and $j$, respectively. $\\mathbf{\\large 1}$ is the indicator function: it outputs $1$ if the condition (here $p_i > p_j$) is satisfied and $0$ otherwise. *Simply put: this formula computes how often the probability of a data point with true label 1 is higher than the probability of data points with true label 0. This is then divided by the total number of comparisons between probabilities.*\n",
    "    \n",
    "\n",
    "#### 3.3.1\n",
    "(0.25 pts) To make sure you understand how ROC works, make an ROC curve and calculate the AUC (on paper) with the following data:\n",
    "\n",
    "`\n",
    "labels = [0,0,0,1,0,1,1,0,1,1]\n",
    "classifier_probs = [0.1,0.2,0.3,0.4,0.5,0.6,0.7,0.8,0.9,0.99]\n",
    "`\n",
    "    \n",
    "What's the AUC you calculated? Do you think this classifier works well?\n"
   ]
  },
  {
   "cell_type": "markdown",
   "metadata": {},
   "source": [
    "----\n",
    "write your answer here\n",
    "\n",
    "----"
   ]
  },
  {
   "cell_type": "markdown",
   "metadata": {},
   "source": [
    "#### 3.3.2\n",
    "  Load the file `Data/classprobs.xls` using the Pandas `read_excel` function. Inspect the data and cast it to an array with the `.values` attribute. The first column gives the true class label (either 0 or 1). The second and third column give the probabilistic scores for two different classifiers. The higher this probability, the more certain the classifier is that the example belongs to class 1 (instead of class 0).\n"
   ]
  },
  {
   "cell_type": "code",
   "execution_count": 44,
   "metadata": {},
   "outputs": [
    {
     "name": "stdout",
     "output_type": "stream",
     "text": [
      "[1.0, 0.0, 0.0, 0.0, 0.0, 1.0, 0.0, 1.0, 1.0, 0.0, 0.0, 1.0, 1.0, 0.0, 0.0, 1.0, 0.0, 1.0, 1.0, 0.0, 0.0, 0.0, 0.0, 1.0, 0.0, 0.0, 1.0, 1.0, 0.0, 1.0, 1.0, 0.0, 1.0, 0.0, 0.0, 1.0, 1.0, 0.0, 1.0, 1.0, 1.0, 1.0, 1.0, 1.0, 0.0, 0.0, 1.0, 0.0, 1.0, 0.0, 1.0, 1.0, 1.0, 0.0, 1.0, 0.0, 1.0, 0.0, 0.0, 1.0, 1.0, 1.0, 1.0, 0.0, 0.0, 1.0, 0.0, 0.0, 0.0, 1.0, 0.0, 1.0, 0.0, 0.0, 1.0, 0.0, 1.0, 0.0, 1.0, 1.0, 1.0, 0.0, 1.0, 1.0, 0.0, 0.0, 0.0, 0.0, 1.0, 1.0, 0.0, 0.0, 1.0, 1.0, 1.0, 0.0, 1.0, 0.0, 0.0, 0.0, 1.0, 0.0, 0.0, 0.0, 1.0, 1.0, 1.0, 0.0] [0.887, 0.13591, 0.55549, 0.23876, 0.14542, 0.81876, 0.50594, 0.93954, 0.22339, 0.31219, 0.19486, 0.61471, 0.63854, 0.29924, 0.16546, 0.72124, 0.1088, 0.48676, 0.94156, 0.2968, 0.24267, 0.17043, 0.015464, 0.30852, 0.11212, 0.29639, 0.97275, 0.58501, 0.12244, 0.87557, 0.76142, 0.14132, 0.86004, 0.13915, 0.18889, 0.96075, 0.83076, 0.089368, 0.68199, 0.85489, 0.56139, 0.93078, 0.75955, 0.61855, 0.092059, 0.67612, 0.63252, 0.31297, 0.82238, 0.51416, 0.99809, 0.72686, 0.55046, 0.25546, 0.94669, 0.27347, 0.31107, 0.24862, 0.50734, 0.43013, 0.52135, 0.85277, 0.68814, 0.034719, 0.30511, 0.84431, 0.082462, 0.018232, 0.51123, 0.36436, 0.15529, 0.74259, 0.23423, 0.5569, 0.98439, 0.66793, 0.64618, 0.33115, 0.65452, 0.74047, 0.67109, 0.47944, 0.61722, 0.58154, 0.18569, 0.42642, 0.34196, 0.19386, 0.71375, 0.70223, 0.034833, 0.28422, 0.78385, 0.93666, 0.83752, 0.11601, 0.85762, 0.3934, 0.21118, 0.60127, 0.87517, 0.27786, 0.26974, 0.014577, 0.66804, 0.83725, 0.89512, 0.18806] [0.79706, 0.099401, 0.65075, 0.50857, 0.23629, 0.48949, 0.038203, 0.23982, 0.62287, 0.57823, 0.61664, 0.5013, 0.75183, 0.33768, 0.44035, 0.44813, 0.37254, 0.25349, 0.64531, 0.53258, 0.26251, 0.44888, 0.5467, 0.32406, 0.28476, 0.41658, 0.79959, 0.30657, 0.43778, 0.75815, 0.32031, 0.22986, 0.35583, 0.39455, 0.49216, 0.67214, 0.77401, 0.11584, 0.61933, 0.57659, 0.63589, 0.41764, 0.54143, 0.61504, 0.10315, 0.58934, 0.43285, 0.84436, 0.41054, 0.12823, 0.3195, 0.53859, 0.8621, 0.48115, 0.73634, 0.053111, 0.45811, 0.38683, 0.61375, 0.63192, 0.52524, 0.55801, 0.71352, 0.18274, 0.75859, 0.65031, 0.26048, 0.45213, 0.54973, 0.64985, 0.44893, 0.43821, 0.47979, 0.41085, 0.6358, 0.14227, 0.72749, 0.41956, 0.65668, 0.50759, 0.48028, 0.30758, 0.68681, 0.74264, 0.62643, 0.11776, 0.27483, 0.31169, 0.49963, 0.52853, 0.55323, 0.31598, 0.29664, 0.51497, 0.49083, 0.24568, 0.52682, 0.54303, 0.26469, 0.45642, 0.73298, 0.25315, 0.35386, 0.3425, 0.33838, 0.61015, 0.79699, 0.25373]\n"
     ]
    }
   ],
   "source": [
    "import numpy as np\n",
    "import xlrd\n",
    "\n",
    "doc = xlrd.open_workbook('Data/classprobs.xls').sheet_by_index(0)\n",
    "true_class = doc.col_values(0)\n",
    "pred1 = doc.col_values(1)\n",
    "pred2 = doc.col_values(2)\n",
    "\n",
    "print(true_class, pred1, pred2)"
   ]
  },
  {
   "cell_type": "markdown",
   "metadata": {},
   "source": [
    "#### 3.3.3\n",
    "(1 pts) Calculate the ROC curves for both of the classifiers by calculating the FP and TP rates and plot them in the same plot. Make the plot yourself as opposed to using a library! Also plot a dashed line on the diagonal to represent random guessing in the same figure. Interpret the obtained results. Do both classifiers perform better than random guessing?\n",
    "\n",
    "** hints: **  \n",
    "*The function `sklearn.metrics.roc_curve` can be used for computing the FP and TP rates. You can then plot them using the `matplotlib.pyplot` `plot` function. Check the documentation on how to plot a dashed line. Remember to include a legend!* \n",
    "\n",
    "**An extra tip: the sign test example below includes a figure with dashed lines and a legend...**\n",
    " "
   ]
  },
  {
   "cell_type": "code",
   "execution_count": 46,
   "metadata": {},
   "outputs": [
    {
     "data": {
      "image/png": "[encoded data removed]",
      "text/plain": [
       "<Figure size 432x288 with 1 Axes>"
      ]
     },
     "metadata": {
      "needs_background": "light"
     },
     "output_type": "display_data"
    }
   ],
   "source": [
    "\n",
    "from sklearn.metrics import roc_curve\n",
    "from sklearn.metrics import auc\n",
    "import sklearn as sklearn\n",
    "import matplotlib.pyplot as plt\n",
    "\n",
    "fp1, tp1, thresholds = sklearn.metrics.roc_curve(true_class, pred1)\n",
    "fp2, tp2, thresholds2 = sklearn.metrics.roc_curve(true_class, pred2)\n",
    "plt.figure()\n",
    "linewidth = 2 #linewidth\n",
    "plt.plot(fp1, tp1, color='red', lw=linewidth)\n",
    "plt.plot(fp2, tp2, color='purple', lw=linewidth)\n",
    "plt.plot([0, 1], [0, 1], color='blue', lw=linewidth, linestyle='--', label = 'random')\n",
    "plt.xlabel('False Positive Rate')\n",
    "plt.ylabel('True Positive Rate')\n",
    "plt.xlim([0.0, 1.0])\n",
    "plt.ylim([0.0, 1.1])\n",
    "plt.title('ROC')\n",
    "plt.legend(loc=\"lower right\")\n",
    "plt.show()"
   ]
  },
  {
   "cell_type": "markdown",
   "metadata": {},
   "source": [
    "----\n",
    "write your answer here\n",
    "\n",
    "----"
   ]
  },
  {
   "cell_type": "markdown",
   "metadata": {},
   "source": [
    "#### 3.3.4\n",
    "(0.5 pts) Compute the AUC scores (area under the curve) of both classifiers using the formula given above. **Write your own code for this calculation.** Do the AUC scores indicate that the classifiers are performing better than this baseline?\n",
    "\n",
    "\n",
    "\n",
    "\n",
    " "
   ]
  },
  {
   "cell_type": "code",
   "execution_count": 47,
   "metadata": {},
   "outputs": [
    {
     "name": "stdout",
     "output_type": "stream",
     "text": [
      "54\n",
      "2789\n",
      "0.9564471879286693\n",
      "54\n",
      "2232\n",
      "0.7654320987654321\n"
     ]
    }
   ],
   "source": [
    "i1 = 0\n",
    "j1 = 0\n",
    "for i in range (len(true_class)):\n",
    "    if true_class[i] == 1:\n",
    "        i1 = i1 +1\n",
    "        for j in range (len(true_class)):\n",
    "            if true_class[j] == 0:\n",
    "                if pred1[i] > pred1[j]:\n",
    "                    j1 = j1 +1\n",
    "                    \n",
    "n = float(len(true_class) - (i1))\n",
    "mn = float(np.multiply(i1, n))\n",
    "x = float(np.divide(1, mn))\n",
    "auc = float(np.multiply(x, j1))\n",
    "print(i1)\n",
    "print(j1)\n",
    "print(auc)\n",
    "\n",
    "i2 = 0\n",
    "j2 = 0\n",
    "for i in range (len(true_class)):\n",
    "    if true_class[i] == 1:\n",
    "        i2 = i2 +1\n",
    "        for j in range (len(true_class)):\n",
    "            if true_class[j] == 0:\n",
    "                if pred2[i] > pred2[j]:\n",
    "                    j2 = j2 +1\n",
    "                    \n",
    "n2 = float(len(true_class) - (i2))\n",
    "mn2 = float(np.multiply(i2, n2))\n",
    "x2 = float(np.divide(1, mn2))\n",
    "auc2 = float(np.multiply(x2, j2))\n",
    "print(i2)\n",
    "print(j2)\n",
    "print(auc2)"
   ]
  },
  {
   "cell_type": "markdown",
   "metadata": {},
   "source": [
    "----\n",
    "The AUC scores indicate the classifiers perform better than the baseline.\n",
    "\n",
    "----"
   ]
  },
  {
   "cell_type": "markdown",
   "metadata": {},
   "source": [
    "\n",
    "#### 3.3.5\n",
    "(0.25 pts) Using a threshold of 0.5, translate the probability scores to predicted class labels, and compute the accuracy for each of the classifiers.\n",
    "\n",
    "** hint: **\n",
    "\n",
    "*Take a look at https://scikit-learn.org/stable/modules/generated/sklearn.metrics.accuracy_score.html *"
   ]
  },
  {
   "cell_type": "code",
   "execution_count": 48,
   "metadata": {},
   "outputs": [
    {
     "name": "stdout",
     "output_type": "stream",
     "text": [
      "0.8611111111111112\n",
      "0.6944444444444444\n"
     ]
    }
   ],
   "source": [
    "list1 = []\n",
    "list2 = []\n",
    "\n",
    "for i in pred1:\n",
    "    if i >= 0.5:\n",
    "        list1.append(1)\n",
    "    if i < 0.5:\n",
    "        list1.append(0)\n",
    "for j in pred2:\n",
    "    if j >= 0.5:\n",
    "        list2.append(1)\n",
    "    if j < 0.5:\n",
    "        list2.append(0)\n",
    "    \n",
    "count1 = 0.0\n",
    "for i in range(len(list1)):\n",
    "    if list1[i] == true_class[i]:\n",
    "        count1 = count1 +1\n",
    "\n",
    "accuracy = float(np.divide(count1, len(list1)))\n",
    "print(accuracy) #pred1\n",
    "\n",
    "\n",
    "count2 = 0.0\n",
    "for i in range(len(list2)):\n",
    "    if list2[i] == true_class[i]:\n",
    "        count2 = count2 + 1.0\n",
    "\n",
    "accuracy = float(np.divide(count2, len(list2)))\n",
    "print(accuracy) #pred2"
   ]
  },
  {
   "cell_type": "markdown",
   "metadata": {},
   "source": [
    "#### 3.3.6\n",
    "(1 pts) Create the 2x2 table (or array, or list, or dataframe..) of wrong and correct classifications by the first and the second classifier, like in the lecture slides (lecture on model evaluation, part on the sign test). Perform a sign test to test whether the performance of the two classifiers is significantly different at a significance level of 0.05. **If you are not familiar with sign testing, you can read the example provided below.**\n",
    "\n",
    "\n",
    "** hints: **  \n",
    "*As explained in the lecture slides, the sign test is a binomial test on the lower-left ($N_{1<2}$) and upper-right ($N_{1>2}$) elements of the cross table. Unlike in the lecture slides, here you need to perform a two-sided test: $$\\textrm{p-value} = P(W \\leq \\min(N_{1<2},N_{1>2}) \\textrm{ or } W \\geq  \\max(N_{1<2},N_{1>2})$$\n",
    "The function `scipy.stats.binom.cdf` can be used to compute the cumulative density of the binomial distribution.\n",
    "For more information on the sign test, see the included paper by Salzberg (signtest.pdf, in particular section 3.1).*"
   ]
  },
  {
   "cell_type": "code",
   "execution_count": null,
   "metadata": {},
   "outputs": [],
   "source": []
  },
  {
   "cell_type": "markdown",
   "metadata": {},
   "source": [
    "----\n",
    "write your answer here\n",
    "\n",
    "----"
   ]
  },
  {
   "cell_type": "markdown",
   "metadata": {},
   "source": [
    "## Example two-sided sign test\n",
    "\n",
    "Imagine you have a lucky coin, that you are certain does not result in heads 50% of the times you flip it. However, you friend (lets call him *zero_hypothesis*) claims that your coin is just like his random coin. To verify whether this is true, you decide to compare the performance (you are a scientist after all) of your lucky coin resulting in heads to the performance of his random coin resulting in heads with a sign test. How do you do this?\n",
    "\n",
    "First, you collect data. Assume you place 23 bets. During those 23 bets, you both flip your respective coins. It was determined that if one of you flipped head while the other didn't, that person won the bet, and the other person lost. If you both got the same outcome, neither of you won. 1 stands for head, and 0 for tails. These were your results:"
   ]
  },
  {
   "cell_type": "code",
   "execution_count": 49,
   "metadata": {},
   "outputs": [
    {
     "name": "stdout",
     "output_type": "stream",
     "text": [
      "----------lucky | random \n",
      " bet 0      | 1 | 0\n",
      " bet 1      | 1 | 1\n",
      " bet 2      | 1 | 0\n",
      " bet 3      | 0 | 1\n",
      " bet 4      | 1 | 0\n",
      " bet 5      | 1 | 1\n",
      " bet 6      | 1 | 0\n",
      " bet 7      | 1 | 0\n",
      " bet 8      | 1 | 0\n",
      " bet 9      | 0 | 1\n",
      " bet 10     | 1 | 0\n",
      " bet 11     | 1 | 1\n",
      " bet 12     | 1 | 0\n",
      " bet 13     | 1 | 1\n",
      " bet 14     | 0 | 1\n",
      " bet 15     | 1 | 1\n",
      " bet 16     | 1 | 1\n",
      " bet 17     | 0 | 0\n",
      " bet 18     | 1 | 0\n",
      " bet 19     | 1 | 0\n",
      " bet 20     | 1 | 0\n",
      " bet 21     | 0 | 0\n",
      " bet 22     | 1 | 0\n",
      " -----\n",
      "\n"
     ]
    }
   ],
   "source": [
    "import numpy as np\n",
    "from scipy.stats import binom\n",
    "import matplotlib.pyplot as plt\n",
    "\n",
    "#results\n",
    "lucky_coin = np.array([1,1,1,0,1,1,1,1,1,0,1,1,1,1,0,1,1,0,1,1,1,0,1])\n",
    "random_coin= np.array([0,1,0,1,0,1,0,0,0,1,0,1,0,1,1,1,1,0,0,0,0,0,0])\n",
    "\n",
    "print('----------lucky | random \\n',*['bet {:<5}  | {} | {}\\n'.format(t[0],t[1],t[2]) for t in zip(range(0,len(lucky_coin)),lucky_coin,random_coin)],'-----\\n')"
   ]
  },
  {
   "cell_type": "markdown",
   "metadata": {},
   "source": [
    "Now you calculate how often in any pair of outcomes one coin *won*, i.e. one coin flipped to head while the other flipped to tails."
   ]
  },
  {
   "cell_type": "code",
   "execution_count": 50,
   "metadata": {},
   "outputs": [
    {
     "name": "stdout",
     "output_type": "stream",
     "text": [
      "The lucky coin won 12 times, while the random won 3 times.\n"
     ]
    }
   ],
   "source": [
    "N_l = sum((lucky_coin == 1) & (random_coin == 0)) #how often your lucky coin won\n",
    "N_r = sum((lucky_coin == 0) & (random_coin == 1)) #how often the random coin won\n",
    "N = N_l + N_r #how often one coin was a winner\n",
    "print('The lucky coin won {} times, while the random won {} times.'.format(N_l,N_r))"
   ]
  },
  {
   "cell_type": "markdown",
   "metadata": {},
   "source": [
    "You observed 15 times that one coin won. If both coins resulted in heads 50% of the time, like *zero_hypothesis* stated, you'd expect that both coins have 50% chance of being the winner. So the probability distributions for both N_l and N_r should look something like this, assuming that *zero_hypothesis* is right:"
   ]
  },
  {
   "cell_type": "code",
   "execution_count": 51,
   "metadata": {},
   "outputs": [
    {
     "data": {
      "image/png": "[encoded data removed]",
      "text/plain": [
       "<Figure size 432x288 with 1 Axes>"
      ]
     },
     "metadata": {
      "needs_background": "light"
     },
     "output_type": "display_data"
    }
   ],
   "source": [
    "b = binom(N,0.5) #N=observations of inequality, p=prob of one coin being better, which is 0.5 according to your H0\n",
    "plt.plot(b.pmf(range(N+1)), '--o',label = 'Probability density')\n",
    "plt.plot(b.cdf(range(N+1)), '--o',label = 'Cumulative distribution')\n",
    "plt.legend()\n",
    "plt.xlabel('Number of times one coin is better than the other')\n",
    "plt.ylabel('Probability')\n",
    "plt.title('Distribution according to H0')\n",
    "plt.show()"
   ]
  },
  {
   "cell_type": "markdown",
   "metadata": {},
   "source": [
    "(Of course this is a discrete probability function, so you're not interested in values between integers.)\n",
    "\n",
    "As you can see, according to *zero_hypothesis*, 7 and 8 are the most likely values for both N_l and N_r. But this is not what you observed in your data. To conclude that *H0* is false, you need to show that your outcome is unlikely under the assumption that *H0* is true: the values you observed are so extreme that these values or more extreme values occur less than 5% of the time (*p-value < 0.05*). So how unlikely is it that one coin is better 12 times or more, and the other is better 3 times or less?\n",
    "\n",
    "It's the sum of the values of the probability density function (pdf or pmf in the python doc) at  0,1,2 and 3, plus the sum of the values of the pdf at 12,13,14 and 15. \n",
    "\n",
    "This is equal to the value of the cumulative distribution function (cdf) at 3, plus 1 minus the value of cdf at 11 (since `1-cdf(11)` represents the probability of observing 12 or bigger)."
   ]
  },
  {
   "cell_type": "code",
   "execution_count": 52,
   "metadata": {},
   "outputs": [
    {
     "name": "stdout",
     "output_type": "stream",
     "text": [
      "The p-value is 0.035\n"
     ]
    }
   ],
   "source": [
    "p_value = b.cdf(min(N_r,N_l)) + (1-b.cdf(max(N_r,N_l)-1))\n",
    "print('The p-value is {:.3f}'.format(p_value))"
   ]
  },
  {
   "cell_type": "markdown",
   "metadata": {},
   "source": [
    "So your observations are very unlikely if *zero_hypothesis* is right. By statistical theory, you can now say that you have significant reason to reject their opinion. Now the hardest part of statistics: convincing your non-scientist friends."
   ]
  }
 ],
 "metadata": {
  "anaconda-cloud": {},
  "kernelspec": {
   "display_name": "Python 3",
   "language": "python",
   "name": "python3"
  },
  "language_info": {
   "codemirror_mode": {
    "name": "ipython",
    "version": 3
   },
   "file_extension": ".py",
   "mimetype": "text/x-python",
   "name": "python",
   "nbconvert_exporter": "python",
   "pygments_lexer": "ipython3",
   "version": "3.7.0"
  }
 },
 "nbformat": 4,
 "nbformat_minor": 1
}
