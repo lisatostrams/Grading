{
 "cells": [
  {
   "cell_type": "markdown",
   "metadata": {},
   "source": [
    "# Assignment 3\n",
    "\n",
    "## Objective of this assignment\n",
    "The objective of this exercise is to become familiar with fitting decision trees and\n",
    "making ROC curves in Python.\n",
    "\n",
    "\n",
    "## ** Important: ** When handing in your homework:\n",
    "+ Hand in the notebook **(and nothing else)** named as follows: StudentName1_snumber_StudentName2_snumber.ipynb\n",
    "+ Provide clear and complete answers to the questions below under a separate header (not hidden somewhere in your source code), and make sure to explain your answers / motivate your choices. Add Markdown cells where necessary.\n",
    "+ Source code, output graphs, derivations, etc., should be included in the notebook.\n",
    "+ Hand-in: upload to Brightspace.\n",
    "+ Include name, student number, assignment (especially in filenames)!\n",
    "+ When working in pairs only one of you should upload the assignment, and report the name of your partner in your filename.\n",
    "+ Use the Brightspace discussion board or email the student assistants for questions on how to complete the exercises.\n",
    "+ If you find mistakes/have suggestions/would like to complain about the assigment material itself, please email me [Lisa] at `l.tostrams@science.ru.nl`\n",
    "\n",
    "\n",
    "## Advised Reading and Exercise Material\n",
    "**The following reading material is recommended:**\n",
    "\n",
    "Pang-Ning Tan, Michael Steinbach, and Vipin Kumar, Introduction to Data Mining, section 4.1-4.6, as well as the included article on ROC curves.\n"
   ]
  },
  {
   "cell_type": "markdown",
   "metadata": {},
   "source": [
    "## 3.1 Decision trees\n",
    "\n",
    "In this part of the exercise we will fit decision trees using the scikitlearn classifier\n",
    "`sklearn.tree.DecisionTreeClassifier`. As a splitting criterion, the function uses\n",
    "one of the following two impurity measures:\n",
    "\n",
    "\\begin{equation} \\textrm{gdi}(t) = -\\sum_{i=1}^C p(i|t)^2 \\quad \\text{       equivalent to Gini(t)} \\end{equation}   \n",
    "\n",
    "\\begin{equation}\n",
    "\\textrm{deviance}(t) = -2\\sum_{i=1}^C p(i|t) \\log p(i|t) \\quad \\text{equivalent to Entropy(t)} \n",
    "\\end{equation}\n",
    "\n",
    "We will analyze the wine data we have used previously. The wine data set has the following attributes, all of which are continuous: \n",
    "\n",
    "\n",
    "| #             | Attribute     | Unit  |\n",
    "| ------------- |:-------------| -----:|\n",
    "|1 | Fixed acidity (tartaric) | g/dm$^3$ |\n",
    "|2 | Volatile acidity (acetic) | g/dm$^3$ |\n",
    "|3 | Citric acid | g/dm$^3$ |\n",
    "|4 | Residual sugar | g/dm$^3$ |\n",
    "|5 | Chlorides | g/dm$^3$ |\n",
    "|6 | Free sulfur dioxide | mg/dm$^3$ |\n",
    "|7 | Total sulfur dioxide | mg/dm$^3$ |\n",
    "|8 | Density | g/cm$^3$ |\n",
    "|9 | pH | pH |\n",
    "|10 | Sulphates | g/dm$^3$ |\n",
    "|11 | Alcohol | % vol. | \n",
    "\n",
    "\n",
    "#### 3.1.1\n",
    "(0.5 pts) Load the wine data set `Data/wine.mat` using the `scipy.io` `loadmat` function. This contains the same data as used in the earlier assignment, but with outliers and the 12th attribute already removed. Create data matrix $X$, class vector $y$, and the lists $attributeNames$ and $classNames$ with the data provided in the `wine.mat` file. Print out the  $attributeNames$ and $classNames$ to make sure it's a list of strings.\n",
    "\n",
    "   ** hints: **   \n",
    "*The object in wine.mat is a dictionary. The attributes are stored in matrix $X$, the class in vector $y$. $y$ is shaped as an array containing single element arrays. To flatten $y$, you can use `y.ravel()`, which unravels matrices into a 1d array. Attribute names and class names are stored in the attributeNames and classNames objects, which contain arrays, of which the first element contains the names. To get the names from those arrays, you can use list comprehension or for-loops. For more on list comprehension, check https://www.digitalocean.com/community/tutorials/understanding-list-comprehensions-in-python-3. For example, if you have an larger array containing nested arrays of which you want the first element, you can try `new_array = [nested_array[0] for nested_array in larger_array]`.*\n",
    "\n"
   ]
  },
  {
   "cell_type": "code",
   "execution_count": 2,
   "metadata": {},
   "outputs": [
    {
     "name": "stdout",
     "output_type": "stream",
     "text": [
      "[array(['Fixed acidity'], dtype='<U13')\n",
      " array(['Volatile acidity'], dtype='<U16')\n",
      " array(['Citric acid'], dtype='<U11')\n",
      " array(['Residual sugar'], dtype='<U14') array(['Chlorides'], dtype='<U9')\n",
      " array(['Free sulfur dioxide'], dtype='<U19')\n",
      " array(['Total sulfur dioxide'], dtype='<U20')\n",
      " array(['Density'], dtype='<U7') array(['pH'], dtype='<U2')\n",
      " array(['Sulphates'], dtype='<U9') array(['Alcohol'], dtype='<U7')]\n",
      "[[array(['Red'], dtype='<U3')]\n",
      " [array(['White'], dtype='<U5')]]\n"
     ]
    }
   ],
   "source": [
    "import scipy.io as sio \n",
    "import scipy as sc\n",
    "import numpy as np\n",
    "import pandas as pd\n",
    "import sklearn as sk\n",
    "\n",
    "#Load the data and assign it to a variable:\n",
    "WineData = sio.loadmat('wine.mat')\n",
    "\n",
    "X = pd.DataFrame.from_dict(WineData['X'])\n",
    "Y = WineData['y'].ravel()\n",
    "attributeNames = WineData['attributeNames'][0]\n",
    "classNames = WineData['classNames']\n",
    "\n",
    "print(attributeNames)\n",
    "print(classNames)"
   ]
  },
  {
   "cell_type": "code",
   "execution_count": 8,
   "metadata": {},
   "outputs": [
    {
     "data": {
      "text/plain": [
       "array([0, 0, 0, ..., 1, 1, 1], dtype=uint8)"
      ]
     },
     "execution_count": 8,
     "metadata": {},
     "output_type": "execute_result"
    }
   ],
   "source": [
    "Y"
   ]
  },
  {
   "cell_type": "markdown",
   "metadata": {},
   "source": [
    "#### 3.1.2\n",
    " (1.5 pts) Fit a decision tree to the wine data in order to estimate if the wine is red or white. Use the Gini (gdi) splitting criterion. Use `min_samples_split=100` for the stopping criterion. Explain what happens when you change the values of the parameter `min_samples_split`. After fitting the tree, visualize it with the tree_print function in `treeprint.py` in the Toolbox folder. \n",
    "\n",
    "** hints: **   \n",
    "*The `treeprint.py` file contains some documentation on how to use it. Helpfull documentation for the DecisionTreeClassifier function can be found at * http://scikit-learn.org/stable/modules/tree.html#classification  \n",
    "\n"
   ]
  },
  {
   "cell_type": "code",
   "execution_count": 3,
   "metadata": {
    "scrolled": false
   },
   "outputs": [
    {
     "data": {
      "text/plain": [
       "DecisionTreeClassifier(class_weight=None, criterion='gini', max_depth=None,\n",
       "                       max_features=None, max_leaf_nodes=None,\n",
       "                       min_impurity_decrease=0.0, min_impurity_split=None,\n",
       "                       min_samples_leaf=1, min_samples_split=100,\n",
       "                       min_weight_fraction_leaf=0.0, presort=False,\n",
       "                       random_state=None, splitter='best')"
      ]
     },
     "execution_count": 3,
     "metadata": {},
     "output_type": "execute_result"
    }
   ],
   "source": [
    "from sklearn import tree\n",
    "\n",
    "dtree = tree.DecisionTreeClassifier(criterion='gini', min_samples_split = 100)\n",
    "dtree.fit(X, Y)"
   ]
  },
  {
   "cell_type": "code",
   "execution_count": 29,
   "metadata": {},
   "outputs": [
    {
     "name": "stdout",
     "output_type": "stream",
     "text": [
      "         |->3  [array(['White'], dtype='<U5')]\n",
      "         |\n",
      "      |->2 then if ['Sulphates'] =< 0.56: go to 3, else go to 4\n",
      "      |  |\n",
      "      |  |->4  [array(['White'], dtype='<U5')]\n",
      "      |\n",
      "   |->1 then if ['Chlorides'] =< 0.05: go to 2, else go to 5\n",
      "   |  |\n",
      "   |  |  |->6  [array(['White'], dtype='<U5')]\n",
      "   |  |  |\n",
      "   |  |->5 else if ['Sulphates'] =< 0.37: go to 6, else go to 7\n",
      "   |     |\n",
      "   |     |  |->8  [array(['White'], dtype='<U5')]\n",
      "   |     |  |\n",
      "   |     |->7 else if ['Density'] =< 0.99: go to 8, else go to 9\n",
      "   |        |\n",
      "   |        |     |->11  [array(['White'], dtype='<U5')]\n",
      "   |        |     |\n",
      "   |        |  |->10 then if ['Residual sugar'] =< 1.10: go to 11, else go to 12\n",
      "   |        |  |  |\n",
      "   |        |  |  |  |->13  [array(['Red'], dtype='<U3')]\n",
      "   |        |  |  |  |\n",
      "   |        |  |  |->12 else if ['Density'] =< 0.99: go to 13, else go to 14\n",
      "   |        |  |     |\n",
      "   |        |  |     |  |->15  [array(['Red'], dtype='<U3')]\n",
      "   |        |  |     |  |\n",
      "   |        |  |     |->14 else if ['Chlorides'] =< 0.05: go to 15, else go to 16\n",
      "   |        |  |        |\n",
      "   |        |  |        |  |->17  [array(['Red'], dtype='<U3')]\n",
      "   |        |  |        |  |\n",
      "   |        |  |        |->16 else if ['Sulphates'] =< 0.45: go to 17, else go to 18\n",
      "   |        |  |           |\n",
      "   |        |  |           |->18  [array(['Red'], dtype='<U3')]\n",
      "   |        |  |\n",
      "   |        |->9 else if ['Residual sugar'] =< 10.70: go to 10, else go to 19\n",
      "   |           |\n",
      "   |           |->19  [array(['White'], dtype='<U5')]\n",
      "   |\n",
      "if ['Total sulfur dioxide'] =< 66.50: go to 1, else go to 20\n",
      "   |\n",
      "   |                 |->26  [array(['Red'], dtype='<U3')]\n",
      "   |                 |\n",
      "   |              |->25 then if ['Chlorides'] =< 0.01: go to 26, else go to 27\n",
      "   |              |  |\n",
      "   |              |  |        |->30  [array(['White'], dtype='<U5')]\n",
      "   |              |  |        |\n",
      "   |              |  |     |->29 then if ['Citric acid'] =< 0.10: go to 30, else go to 31\n",
      "   |              |  |     |  |\n",
      "   |              |  |     |  |  |->32  [array(['White'], dtype='<U5')]\n",
      "   |              |  |     |  |  |\n",
      "   |              |  |     |  |->31 else if ['Total sulfur dioxide'] =< 72.50: go to 32, else go to 33\n",
      "   |              |  |     |     |\n",
      "   |              |  |     |     |  |->34  [array(['White'], dtype='<U5')]\n",
      "   |              |  |     |     |  |\n",
      "   |              |  |     |     |->33 else if ['Residual sugar'] =< 0.92: go to 34, else go to 35\n",
      "   |              |  |     |        |\n",
      "   |              |  |     |        |        |->38  [array(['White'], dtype='<U5')]\n",
      "   |              |  |     |        |        |\n",
      "   |              |  |     |        |     |->37 then if ['Free sulfur dioxide'] =< 6.50: go to 38, else go to 39\n",
      "   |              |  |     |        |     |  |\n",
      "   |              |  |     |        |     |  |        |->42  [array(['White'], dtype='<U5')]\n",
      "   |              |  |     |        |     |  |        |\n",
      "   |              |  |     |        |     |  |     |->41 then if ['pH'] =< 3.31: go to 42, else go to 43\n",
      "   |              |  |     |        |     |  |     |  |\n",
      "   |              |  |     |        |     |  |     |  |->43  [array(['White'], dtype='<U5')]\n",
      "   |              |  |     |        |     |  |     |\n",
      "   |              |  |     |        |     |  |  |->40 then if ['Citric acid'] =< 0.23: go to 41, else go to 44\n",
      "   |              |  |     |        |     |  |  |  |\n",
      "   |              |  |     |        |     |  |  |  |->44  [array(['White'], dtype='<U5')]\n",
      "   |              |  |     |        |     |  |  |\n",
      "   |              |  |     |        |     |  |->39 else if ['Sulphates'] =< 0.75: go to 40, else go to 45\n",
      "   |              |  |     |        |     |     |\n",
      "   |              |  |     |        |     |     |->45  [array(['White'], dtype='<U5')]\n",
      "   |              |  |     |        |     |\n",
      "   |              |  |     |        |  |->36 then if ['Alcohol'] =< 13.58: go to 37, else go to 46\n",
      "   |              |  |     |        |  |  |\n",
      "   |              |  |     |        |  |  |->46  [array(['White'], dtype='<U5')]\n",
      "   |              |  |     |        |  |\n",
      "   |              |  |     |        |->35 else if ['Sulphates'] =< 0.78: go to 36, else go to 47\n",
      "   |              |  |     |           |\n",
      "   |              |  |     |           |->47  [array(['White'], dtype='<U5')]\n",
      "   |              |  |     |\n",
      "   |              |  |  |->28 then if ['Total sulfur dioxide'] =< 275.00: go to 29, else go to 48\n",
      "   |              |  |  |  |\n",
      "   |              |  |  |  |->48  [array(['White'], dtype='<U5')]\n",
      "   |              |  |  |\n",
      "   |              |  |->27 else if ['Sulphates'] =< 0.81: go to 28, else go to 49\n",
      "   |              |     |\n",
      "   |              |     |->49  [array(['White'], dtype='<U5')]\n",
      "   |              |\n",
      "   |           |->24 then if ['pH'] =< 3.83: go to 25, else go to 50\n",
      "   |           |  |\n",
      "   |           |  |->50  [array(['Red'], dtype='<U3')]\n",
      "   |           |\n",
      "   |        |->23 then if ['Chlorides'] =< 0.07: go to 24, else go to 51\n",
      "   |        |  |\n",
      "   |        |  |->51  [array(['White'], dtype='<U5')]\n",
      "   |        |\n",
      "   |     |->22 then if ['Sulphates'] =< 1.12: go to 23, else go to 52\n",
      "   |     |  |\n",
      "   |     |  |->52  [array(['Red'], dtype='<U3')]\n",
      "   |     |\n",
      "   |  |->21 then if ['Volatile acidity'] =< 0.82: go to 22, else go to 53\n",
      "   |  |  |\n",
      "   |  |  |->53  [array(['Red'], dtype='<U3')]\n",
      "   |  |\n",
      "   |->20 else if ['Chlorides'] =< 0.07: go to 21, else go to 54\n",
      "      |\n",
      "      |     |->56  [array(['Red'], dtype='<U3')]\n",
      "      |     |\n",
      "      |  |->55 then if ['Citric acid'] =< 0.06: go to 56, else go to 57\n",
      "      |  |  |\n",
      "      |  |  |  |->58  [array(['Red'], dtype='<U3')]\n",
      "      |  |  |  |\n",
      "      |  |  |->57 else if ['Chlorides'] =< 0.07: go to 58, else go to 59\n",
      "      |  |     |\n",
      "      |  |     |     |->61  [array(['Red'], dtype='<U3')]\n",
      "      |  |     |     |\n",
      "      |  |     |  |->60 then if ['Total sulfur dioxide'] =< 68.50: go to 61, else go to 62\n",
      "      |  |     |  |  |\n",
      "      |  |     |  |  |->62  [array(['White'], dtype='<U5')]\n",
      "      |  |     |  |\n",
      "      |  |     |->59 else if ['Fixed acidity'] =< 9.95: go to 60, else go to 63\n",
      "      |  |        |\n",
      "      |  |        |->63  [array(['Red'], dtype='<U3')]\n",
      "      |  |\n",
      "      |->54 else if ['Density'] =< 1.00: go to 55, else go to 64\n",
      "         |\n",
      "         |        |->67  [array(['White'], dtype='<U5')]\n",
      "         |        |\n",
      "         |     |->66 then if ['Volatile acidity'] =< 0.23: go to 67, else go to 68\n",
      "         |     |  |\n",
      "         |     |  |->68  [array(['Red'], dtype='<U3')]\n",
      "         |     |\n",
      "         |  |->65 then if ['Total sulfur dioxide'] =< 157.50: go to 66, else go to 69\n",
      "         |  |  |\n",
      "         |  |  |->69  [array(['White'], dtype='<U5')]\n",
      "         |  |\n",
      "         |->64 else if ['Residual sugar'] =< 6.25: go to 65, else go to 70\n",
      "            |\n",
      "            |->70  [array(['White'], dtype='<U5')]\n",
      "<---------------------------------------------------------------------------------------->\n",
      "Tree Depth:  18\n"
     ]
    }
   ],
   "source": [
    "import treeprint as tp \n",
    "\n",
    "tp.tree_print(dtree, attributeNames, classNames)"
   ]
  },
  {
   "cell_type": "markdown",
   "metadata": {},
   "source": [
    "If we change the values of the parameter min_samples_split we can see below that the tree gets bigger (deepter), so the tree now has more nodes. "
   ]
  },
  {
   "cell_type": "code",
   "execution_count": 33,
   "metadata": {},
   "outputs": [
    {
     "name": "stdout",
     "output_type": "stream",
     "text": [
      "            |->4  [array(['White'], dtype='<U5')]\n",
      "            |\n",
      "         |->3 then if ['Volatile acidity'] =< 0.66: go to 4, else go to 5\n",
      "         |  |\n",
      "         |  |  |->6  [array(['White'], dtype='<U5')]\n",
      "         |  |  |\n",
      "         |  |->5 else if ['Chlorides'] =< 0.04: go to 6, else go to 7\n",
      "         |     |\n",
      "         |     |->7  [array(['Red'], dtype='<U3')]\n",
      "         |\n",
      "      |->2 then if ['Sulphates'] =< 0.56: go to 3, else go to 8\n",
      "      |  |\n",
      "      |  |     |->10  [array(['White'], dtype='<U5')]\n",
      "      |  |     |\n",
      "      |  |  |->9 then if ['Volatile acidity'] =< 0.44: go to 10, else go to 11\n",
      "      |  |  |  |\n",
      "      |  |  |  |->11  [array(['Red'], dtype='<U3')]\n",
      "      |  |  |\n",
      "      |  |->8 else if ['Chlorides'] =< 0.04: go to 9, else go to 12\n",
      "      |     |\n",
      "      |     |  |->13  [array(['White'], dtype='<U5')]\n",
      "      |     |  |\n",
      "      |     |->12 else if ['Alcohol'] =< 10.60: go to 13, else go to 14\n",
      "      |        |\n",
      "      |        |->14  [array(['Red'], dtype='<U3')]\n",
      "      |\n",
      "   |->1 then if ['Chlorides'] =< 0.05: go to 2, else go to 15\n",
      "   |  |\n",
      "   |  |     |->17  [array(['Red'], dtype='<U3')]\n",
      "   |  |     |\n",
      "   |  |  |->16 then if ['Citric acid'] =< 0.10: go to 17, else go to 18\n",
      "   |  |  |  |\n",
      "   |  |  |  |->18  [array(['White'], dtype='<U5')]\n",
      "   |  |  |\n",
      "   |  |->15 else if ['Sulphates'] =< 0.37: go to 16, else go to 19\n",
      "   |     |\n",
      "   |     |  |->20  [array(['White'], dtype='<U5')]\n",
      "   |     |  |\n",
      "   |     |->19 else if ['Density'] =< 0.99: go to 20, else go to 21\n",
      "   |        |\n",
      "   |        |     |->23  [array(['White'], dtype='<U5')]\n",
      "   |        |     |\n",
      "   |        |  |->22 then if ['Residual sugar'] =< 1.10: go to 23, else go to 24\n",
      "   |        |  |  |\n",
      "   |        |  |  |     |->26  [array(['White'], dtype='<U5')]\n",
      "   |        |  |  |     |\n",
      "   |        |  |  |  |->25 then if ['pH'] =< 3.16: go to 26, else go to 27\n",
      "   |        |  |  |  |  |\n",
      "   |        |  |  |  |  |->27  [array(['Red'], dtype='<U3')]\n",
      "   |        |  |  |  |\n",
      "   |        |  |  |->24 else if ['Density'] =< 0.99: go to 25, else go to 28\n",
      "   |        |  |     |\n",
      "   |        |  |     |        |->31  [array(['Red'], dtype='<U3')]\n",
      "   |        |  |     |        |\n",
      "   |        |  |     |     |->30 then if ['Residual sugar'] =< 2.75: go to 31, else go to 32\n",
      "   |        |  |     |     |  |\n",
      "   |        |  |     |     |  |  |->33  [array(['Red'], dtype='<U3')]\n",
      "   |        |  |     |     |  |  |\n",
      "   |        |  |     |     |  |->32 else if ['Free sulfur dioxide'] =< 6.50: go to 33, else go to 34\n",
      "   |        |  |     |     |     |\n",
      "   |        |  |     |     |     |->34  [array(['White'], dtype='<U5')]\n",
      "   |        |  |     |     |\n",
      "   |        |  |     |  |->29 then if ['Total sulfur dioxide'] =< 64.50: go to 30, else go to 35\n",
      "   |        |  |     |  |  |\n",
      "   |        |  |     |  |  |->35  [array(['White'], dtype='<U5')]\n",
      "   |        |  |     |  |\n",
      "   |        |  |     |->28 else if ['Chlorides'] =< 0.05: go to 29, else go to 36\n",
      "   |        |  |        |\n",
      "   |        |  |        |     |->38  [array(['White'], dtype='<U5')]\n",
      "   |        |  |        |     |\n",
      "   |        |  |        |  |->37 then if ['Volatile acidity'] =< 0.29: go to 38, else go to 39\n",
      "   |        |  |        |  |  |\n",
      "   |        |  |        |  |  |->39  [array(['Red'], dtype='<U3')]\n",
      "   |        |  |        |  |\n",
      "   |        |  |        |->36 else if ['Sulphates'] =< 0.45: go to 37, else go to 40\n",
      "   |        |  |           |\n",
      "   |        |  |           |->40  [array(['Red'], dtype='<U3')]\n",
      "   |        |  |\n",
      "   |        |->21 else if ['Residual sugar'] =< 10.70: go to 22, else go to 41\n",
      "   |           |\n",
      "   |           |->41  [array(['White'], dtype='<U5')]\n",
      "   |\n",
      "if ['Total sulfur dioxide'] =< 66.50: go to 1, else go to 42\n",
      "   |\n",
      "   |                    |->49  [array(['White'], dtype='<U5')]\n",
      "   |                    |\n",
      "   |                 |->48 then if ['Sulphates'] =< 0.38: go to 49, else go to 50\n",
      "   |                 |  |\n",
      "   |                 |  |->50  [array(['Red'], dtype='<U3')]\n",
      "   |                 |\n",
      "   |              |->47 then if ['Chlorides'] =< 0.01: go to 48, else go to 51\n",
      "   |              |  |\n",
      "   |              |  |              |->56  [array(['White'], dtype='<U5')]\n",
      "   |              |  |              |\n",
      "   |              |  |           |->55 then if ['Chlorides'] =< 0.05: go to 56, else go to 57\n",
      "   |              |  |           |  |\n",
      "   |              |  |           |  |     |->59  [array(['White'], dtype='<U5')]\n",
      "   |              |  |           |  |     |\n",
      "   |              |  |           |  |  |->58 then if ['Alcohol'] =< 11.50: go to 59, else go to 60\n",
      "   |              |  |           |  |  |  |\n",
      "   |              |  |           |  |  |  |->60  [array(['Red'], dtype='<U3')]\n",
      "   |              |  |           |  |  |\n",
      "   |              |  |           |  |->57 else if ['Free sulfur dioxide'] =< 37.50: go to 58, else go to 61\n",
      "   |              |  |           |     |\n",
      "   |              |  |           |     |->61  [array(['Red'], dtype='<U3')]\n",
      "   |              |  |           |\n",
      "   |              |  |        |->54 then if ['Alcohol'] =< 12.70: go to 55, else go to 62\n",
      "   |              |  |        |  |\n",
      "   |              |  |        |  |  |->63  [array(['Red'], dtype='<U3')]\n",
      "   |              |  |        |  |  |\n",
      "   |              |  |        |  |->62 else if ['Total sulfur dioxide'] =< 101.50: go to 63, else go to 64\n",
      "   |              |  |        |     |\n",
      "   |              |  |        |     |->64  [array(['White'], dtype='<U5')]\n",
      "   |              |  |        |\n",
      "   |              |  |     |->53 then if ['Citric acid'] =< 0.10: go to 54, else go to 65\n",
      "   |              |  |     |  |\n",
      "   |              |  |     |  |        |->68  [array(['White'], dtype='<U5')]\n",
      "   |              |  |     |  |        |\n",
      "   |              |  |     |  |     |->67 then if ['Volatile acidity'] =< 0.56: go to 68, else go to 69\n",
      "   |              |  |     |  |     |  |\n",
      "   |              |  |     |  |     |  |->69  [array(['Red'], dtype='<U3')]\n",
      "   |              |  |     |  |     |\n",
      "   |              |  |     |  |  |->66 then if ['Chlorides'] =< 0.06: go to 67, else go to 70\n",
      "   |              |  |     |  |  |  |\n",
      "   |              |  |     |  |  |  |->70  [array(['Red'], dtype='<U3')]\n",
      "   |              |  |     |  |  |\n",
      "   |              |  |     |  |->65 else if ['Total sulfur dioxide'] =< 72.50: go to 66, else go to 71\n",
      "   |              |  |     |     |\n",
      "   |              |  |     |     |     |->73  [array(['White'], dtype='<U5')]\n",
      "   |              |  |     |     |     |\n",
      "   |              |  |     |     |  |->72 then if ['Alcohol'] =< 12.60: go to 73, else go to 74\n",
      "   |              |  |     |     |  |  |\n",
      "   |              |  |     |     |  |  |->74  [array(['Red'], dtype='<U3')]\n",
      "   |              |  |     |     |  |\n",
      "   |              |  |     |     |->71 else if ['Residual sugar'] =< 0.92: go to 72, else go to 75\n",
      "   |              |  |     |        |\n",
      "   |              |  |     |        |              |->80  [array(['White'], dtype='<U5')]\n",
      "   |              |  |     |        |              |\n",
      "   |              |  |     |        |           |->79 then if ['Free sulfur dioxide'] =< 5.50: go to 80, else go to 81\n",
      "   |              |  |     |        |           |  |\n",
      "   |              |  |     |        |           |  |->81  [array(['Red'], dtype='<U3')]\n",
      "   |              |  |     |        |           |\n",
      "   |              |  |     |        |        |->78 then if ['Fixed acidity'] =< 6.10: go to 79, else go to 82\n",
      "   |              |  |     |        |        |  |\n",
      "   |              |  |     |        |        |  |->82  [array(['White'], dtype='<U5')]\n",
      "   |              |  |     |        |        |\n",
      "   |              |  |     |        |     |->77 then if ['Free sulfur dioxide'] =< 6.50: go to 78, else go to 83\n",
      "   |              |  |     |        |     |  |\n",
      "   |              |  |     |        |     |  |        |->86  [array(['White'], dtype='<U5')]\n",
      "   |              |  |     |        |     |  |        |\n",
      "   |              |  |     |        |     |  |     |->85 then if ['pH'] =< 3.31: go to 86, else go to 87\n",
      "   |              |  |     |        |     |  |     |  |\n",
      "   |              |  |     |        |     |  |     |  |     |->89  [array(['White'], dtype='<U5')]\n",
      "   |              |  |     |        |     |  |     |  |     |\n",
      "   |              |  |     |        |     |  |     |  |  |->88 then if ['Fixed acidity'] =< 6.45: go to 89, else go to 90\n",
      "   |              |  |     |        |     |  |     |  |  |  |\n",
      "   |              |  |     |        |     |  |     |  |  |  |  |->91  [array(['Red'], dtype='<U3')]\n",
      "   |              |  |     |        |     |  |     |  |  |  |  |\n",
      "   |              |  |     |        |     |  |     |  |  |  |->90 else if ['Total sulfur dioxide'] =< 96.00: go to 91, else go to 92\n",
      "   |              |  |     |        |     |  |     |  |  |     |\n",
      "   |              |  |     |        |     |  |     |  |  |     |->92  [array(['White'], dtype='<U5')]\n",
      "   |              |  |     |        |     |  |     |  |  |\n",
      "   |              |  |     |        |     |  |     |  |->87 else if ['Free sulfur dioxide'] =< 54.00: go to 88, else go to 93\n",
      "   |              |  |     |        |     |  |     |     |\n",
      "   |              |  |     |        |     |  |     |     |  |->94  [array(['Red'], dtype='<U3')]\n",
      "   |              |  |     |        |     |  |     |     |  |\n",
      "   |              |  |     |        |     |  |     |     |->93 else if ['Total sulfur dioxide'] =< 146.00: go to 94, else go to 95\n",
      "   |              |  |     |        |     |  |     |        |\n",
      "   |              |  |     |        |     |  |     |        |->95  [array(['White'], dtype='<U5')]\n",
      "   |              |  |     |        |     |  |     |\n",
      "   |              |  |     |        |     |  |  |->84 then if ['Citric acid'] =< 0.23: go to 85, else go to 96\n",
      "   |              |  |     |        |     |  |  |  |\n",
      "   |              |  |     |        |     |  |  |  |->96  [array(['White'], dtype='<U5')]\n",
      "   |              |  |     |        |     |  |  |\n",
      "   |              |  |     |        |     |  |->83 else if ['Sulphates'] =< 0.75: go to 84, else go to 97\n",
      "   |              |  |     |        |     |     |\n",
      "   |              |  |     |        |     |     |  |->98  [array(['White'], dtype='<U5')]\n",
      "   |              |  |     |        |     |     |  |\n",
      "   |              |  |     |        |     |     |->97 else if ['Chlorides'] =< 0.06: go to 98, else go to 99\n",
      "   |              |  |     |        |     |        |\n",
      "   |              |  |     |        |     |        |->99  [array(['Red'], dtype='<U3')]\n",
      "   |              |  |     |        |     |\n",
      "   |              |  |     |        |  |->76 then if ['Alcohol'] =< 13.58: go to 77, else go to 100\n",
      "   |              |  |     |        |  |  |\n",
      "   |              |  |     |        |  |  |-  |->101  [array(['White'], dtype='<U5')]\n",
      "   |              |  |     |        |  |  |-  |\n",
      "   |              |  |     |        |  |  |->100 else if ['Citric acid'] =< 0.48: go to 101, else go to 102\n",
      "   |              |  |     |        |  |  |   |\n",
      "   |              |  |     |        |  |  |   |->102  [array(['Red'], dtype='<U3')]\n",
      "   |              |  |     |        |  |\n",
      "   |              |  |     |        |->75 else if ['Sulphates'] =< 0.78: go to 76, else go to 103\n",
      "   |              |  |     |           |\n",
      "   |              |  |     |           |-  |->104  [array(['Red'], dtype='<U3')]\n",
      "   |              |  |     |           |-  |\n",
      "   |              |  |     |           |->103 else if ['Total sulfur dioxide'] =< 82.50: go to 104, else go to 105\n",
      "   |              |  |     |           |   |\n",
      "   |              |  |     |           |   |->105  [array(['White'], dtype='<U5')]\n",
      "   |              |  |     |\n",
      "   |              |  |  |->52 then if ['Total sulfur dioxide'] =< 275.00: go to 53, else go to 106\n",
      "   |              |  |  |  |\n",
      "   |              |  |  |  |-  |->107  [array(['Red'], dtype='<U3')]\n",
      "   |              |  |  |  |-  |\n",
      "   |              |  |  |  |->106 else if ['Total sulfur dioxide'] =< 291.50: go to 107, else go to 108\n",
      "   |              |  |  |  |   |\n",
      "   |              |  |  |  |   |->108  [array(['White'], dtype='<U5')]\n",
      "   |              |  |  |\n",
      "   |              |  |->51 else if ['Sulphates'] =< 0.81: go to 52, else go to 109\n",
      "   |              |     |\n",
      "   |              |     |-  |   |->111  [array(['White'], dtype='<U5')]\n",
      "   |              |     |-  |   |\n",
      "   |              |     |-  |->110 then if ['pH'] =< 3.21: go to 111, else go to 112\n",
      "   |              |     |-  |-  |\n",
      "   |              |     |-  |-  |-  |->113  [array(['White'], dtype='<U5')]\n",
      "   |              |     |-  |-  |-  |\n",
      "   |              |     |-  |-  |->112 else if ['Volatile acidity'] =< 0.18: go to 113, else go to 114\n",
      "   |              |     |-  |-  |   |\n",
      "   |              |     |-  |-  |   |->114  [array(['Red'], dtype='<U3')]\n",
      "   |              |     |-  |\n",
      "   |              |     |->109 else if ['Total sulfur dioxide'] =< 89.50: go to 110, else go to 115\n",
      "   |              |     |   |\n",
      "   |              |     |   |-  |->116  [array(['White'], dtype='<U5')]\n",
      "   |              |     |   |-  |\n",
      "   |              |     |   |->115 else if ['Volatile acidity'] =< 0.50: go to 116, else go to 117\n",
      "   |              |     |   |   |\n",
      "   |              |     |   |   |-  |->118  [array(['Red'], dtype='<U3')]\n",
      "   |              |     |   |   |-  |\n",
      "   |              |     |   |   |->117 else if ['Free sulfur dioxide'] =< 17.00: go to 118, else go to 119\n",
      "   |              |     |   |   |   |\n",
      "   |              |     |   |   |   |->119  [array(['White'], dtype='<U5')]\n",
      "   |              |\n",
      "   |           |->46 then if ['pH'] =< 3.83: go to 47, else go to 120\n",
      "   |           |  |\n",
      "   |           |  |->120  [array(['Red'], dtype='<U3')]\n",
      "   |           |\n",
      "   |        |->45 then if ['Chlorides'] =< 0.07: go to 46, else go to 121\n",
      "   |        |  |\n",
      "   |        |  |-  |->122  [array(['Red'], dtype='<U3')]\n",
      "   |        |  |-  |\n",
      "   |        |  |->121 else if ['Total sulfur dioxide'] =< 81.50: go to 122, else go to 123\n",
      "   |        |  |   |\n",
      "   |        |  |   |-  |   |->125  [array(['White'], dtype='<U5')]\n",
      "   |        |  |   |-  |   |\n",
      "   |        |  |   |-  |->124 then if ['Alcohol'] =< 10.25: go to 125, else go to 126\n",
      "   |        |  |   |-  |-  |\n",
      "   |        |  |   |-  |-  |-  |->127  [array(['White'], dtype='<U5')]\n",
      "   |        |  |   |-  |-  |-  |\n",
      "   |        |  |   |-  |-  |->126 else if ['Total sulfur dioxide'] =< 140.50: go to 127, else go to 128\n",
      "   |        |  |   |-  |-  |   |\n",
      "   |        |  |   |-  |-  |   |-  |->129  [array(['White'], dtype='<U5')]\n",
      "   |        |  |   |-  |-  |   |-  |\n",
      "   |        |  |   |-  |-  |   |->128 else if ['Residual sugar'] =< 1.30: go to 129, else go to 130\n",
      "   |        |  |   |-  |-  |   |   |\n",
      "   |        |  |   |-  |-  |   |   |->130  [array(['Red'], dtype='<U3')]\n",
      "   |        |  |   |-  |\n",
      "   |        |  |   |->123 else if ['Volatile acidity'] =< 0.55: go to 124, else go to 131\n",
      "   |        |  |   |   |\n",
      "   |        |  |   |   |-  |->132  [array(['White'], dtype='<U5')]\n",
      "   |        |  |   |   |-  |\n",
      "   |        |  |   |   |->131 else if ['Sulphates'] =< 0.49: go to 132, else go to 133\n",
      "   |        |  |   |   |   |\n",
      "   |        |  |   |   |   |->133  [array(['Red'], dtype='<U3')]\n",
      "   |        |\n",
      "   |     |->44 then if ['Sulphates'] =< 1.12: go to 45, else go to 134\n",
      "   |     |  |\n",
      "   |     |  |->134  [array(['Red'], dtype='<U3')]\n",
      "   |     |\n",
      "   |  |->43 then if ['Volatile acidity'] =< 0.82: go to 44, else go to 135\n",
      "   |  |  |\n",
      "   |  |  |-  |->136  [array(['White'], dtype='<U5')]\n",
      "   |  |  |-  |\n",
      "   |  |  |->135 else if ['pH'] =< 3.45: go to 136, else go to 137\n",
      "   |  |  |   |\n",
      "   |  |  |   |->137  [array(['Red'], dtype='<U3')]\n",
      "   |  |\n",
      "   |->42 else if ['Chlorides'] =< 0.07: go to 43, else go to 138\n",
      "      |\n",
      "      |-  |   |->140  [array(['Red'], dtype='<U3')]\n",
      "      |-  |   |\n",
      "      |-  |->139 then if ['Citric acid'] =< 0.06: go to 140, else go to 141\n",
      "      |-  |-  |\n",
      "      |-  |-  |-  |->142  [array(['Red'], dtype='<U3')]\n",
      "      |-  |-  |-  |\n",
      "      |-  |-  |->141 else if ['Chlorides'] =< 0.07: go to 142, else go to 143\n",
      "      |-  |-  |   |\n",
      "      |-  |-  |   |-  |   |->145  [array(['Red'], dtype='<U3')]\n",
      "      |-  |-  |   |-  |   |\n",
      "      |-  |-  |   |-  |->144 then if ['Total sulfur dioxide'] =< 68.50: go to 145, else go to 146\n",
      "      |-  |-  |   |-  |-  |\n",
      "      |-  |-  |   |-  |-  |->146  [array(['White'], dtype='<U5')]\n",
      "      |-  |-  |   |-  |\n",
      "      |-  |-  |   |->143 else if ['Fixed acidity'] =< 9.95: go to 144, else go to 147\n",
      "      |-  |-  |   |   |\n",
      "      |-  |-  |   |   |->147  [array(['Red'], dtype='<U3')]\n",
      "      |-  |\n",
      "      |->138 else if ['Density'] =< 1.00: go to 139, else go to 148\n",
      "      |   |\n",
      "      |   |-  |   |   |   |->152  [array(['White'], dtype='<U5')]\n",
      "      |   |-  |   |   |   |\n",
      "      |   |-  |   |   |->151 then if ['pH'] =< 3.24: go to 152, else go to 153\n",
      "      |   |-  |   |   |-  |\n",
      "      |   |-  |   |   |-  |->153  [array(['Red'], dtype='<U3')]\n",
      "      |   |-  |   |   |\n",
      "      |   |-  |   |->150 then if ['Volatile acidity'] =< 0.23: go to 151, else go to 154\n",
      "      |   |-  |   |-  |\n",
      "      |   |-  |   |-  |->154  [array(['Red'], dtype='<U3')]\n",
      "      |   |-  |   |\n",
      "      |   |-  |->149 then if ['Total sulfur dioxide'] =< 157.50: go to 150, else go to 155\n",
      "      |   |-  |-  |\n",
      "      |   |-  |-  |->155  [array(['White'], dtype='<U5')]\n",
      "      |   |-  |\n",
      "      |   |->148 else if ['Residual sugar'] =< 6.25: go to 149, else go to 156\n",
      "      |   |   |\n",
      "      |   |   |-  |   |   |->159  [array(['White'], dtype='<U5')]\n",
      "      |   |   |-  |   |   |\n",
      "      |   |   |-  |   |->158 then if ['Sulphates'] =< 0.66: go to 159, else go to 160\n",
      "      |   |   |-  |   |-  |\n",
      "      |   |   |-  |   |-  |->160  [array(['Red'], dtype='<U3')]\n",
      "      |   |   |-  |   |\n",
      "      |   |   |-  |->157 then if ['pH'] =< 3.15: go to 158, else go to 161\n",
      "      |   |   |-  |-  |\n",
      "      |   |   |-  |-  |->161  [array(['Red'], dtype='<U3')]\n",
      "      |   |   |-  |\n",
      "      |   |   |->156 else if ['Total sulfur dioxide'] =< 125.00: go to 157, else go to 162\n",
      "      |   |   |   |\n",
      "      |   |   |   |->162  [array(['White'], dtype='<U5')]\n",
      "<------------------------------------------------------------------------------------------------------->\n",
      "Tree Depth:  21\n"
     ]
    }
   ],
   "source": [
    "dtree2 = tree.DecisionTreeClassifier(criterion='gini', min_samples_split = 2)\n",
    "dtree2.fit(X, Y)\n",
    "tp.tree_print(dtree2, attributeNames, classNames)"
   ]
  },
  {
   "cell_type": "markdown",
   "metadata": {},
   "source": [
    "This is a expected result. The value of min_samples_split set the minimum amount of samples required to split an internal node. So if we lower this number, we want our tree to be more specific."
   ]
  },
  {
   "cell_type": "markdown",
   "metadata": {},
   "source": [
    "#### 3.1.3\n",
    "\n",
    "(0.5 pts) Show that a wine with the following attribute values would be classified as white by the tree fitted in 3.1.2, by applying the `predict()` function from the DecisionTreeClassifier to this sample.  Have another look at the visualized tree. Which attributes are used to classify this wine? \n",
    "\n",
    "| #             | Attribute     | Value  |\n",
    "| ------------- |:-------------| -----:|\n",
    "|1 | Fixed acidity (tartaric) | 6.9 g/dm$^3$ |\n",
    "|2 | Volatile acidity (acetic) | 1.09 g/dm$^3$ |\n",
    "|3 | Citric acid | 0.06 g/dm$^3$ |\n",
    "|4 | Residual sugar | 2.1 g/dm$^3$ |\n",
    "|5 | Chlorides | 0.0061 g/dm$^3$ |\n",
    "|6 | Free sulfur dioxide | 12 mg/dm$^3$ |\n",
    "|7 | Total sulfur dioxide | 31 mg/dm$^3$ |\n",
    "|8 | Density | 0.99 g/cm$^3$ |\n",
    "|9 | pH | 3.5 |\n",
    "|10 | Sulphates | 0.64 g/dm$^3$ |\n",
    "|11 | Alcohol | 12 % vol. | \n",
    "\n",
    "** hints: **\n",
    "*If you don't know how to classify input values with a tree, see the help documentation for the DecisionTreeClassifier function on how to predict the label for a sample. *"
   ]
  },
  {
   "cell_type": "code",
   "execution_count": 38,
   "metadata": {},
   "outputs": [
    {
     "data": {
      "text/plain": [
       "array([1], dtype=uint8)"
      ]
     },
     "execution_count": 38,
     "metadata": {},
     "output_type": "execute_result"
    }
   ],
   "source": [
    "#So put the sample above in a array\n",
    "winesample = np.array([6.9,1.09,0.06,2.1,0.0061,12,31,0.99,3.5,0.64,12])\n",
    "#We just need to reshape for the tree to accept our sample\n",
    "winesample = winesample.reshape(1, -1)\n",
    "#We can see that the d-tree indeed classifies as a white wine because the returned value is a 1. (0 would be red.)\n",
    "dtree.predict(winesample)"
   ]
  },
  {
   "cell_type": "code",
   "execution_count": 39,
   "metadata": {},
   "outputs": [
    {
     "name": "stdout",
     "output_type": "stream",
     "text": [
      "         |->3  [array(['White'], dtype='<U5')]\n",
      "         |\n",
      "      |->2 then if ['Sulphates'] =< 0.56: go to 3, else go to 4\n",
      "      |  |\n",
      "      |  |->4  [array(['White'], dtype='<U5')]\n",
      "      |\n",
      "   |->1 then if ['Chlorides'] =< 0.05: go to 2, else go to 5\n",
      "   |  |\n",
      "   |  |  |->6  [array(['White'], dtype='<U5')]\n",
      "   |  |  |\n",
      "   |  |->5 else if ['Sulphates'] =< 0.37: go to 6, else go to 7\n",
      "   |     |\n",
      "   |     |  |->8  [array(['White'], dtype='<U5')]\n",
      "   |     |  |\n",
      "   |     |->7 else if ['Density'] =< 0.99: go to 8, else go to 9\n",
      "   |        |\n",
      "   |        |     |->11  [array(['White'], dtype='<U5')]\n",
      "   |        |     |\n",
      "   |        |  |->10 then if ['Residual sugar'] =< 1.10: go to 11, else go to 12\n",
      "   |        |  |  |\n",
      "   |        |  |  |  |->13  [array(['Red'], dtype='<U3')]\n",
      "   |        |  |  |  |\n",
      "   |        |  |  |->12 else if ['Density'] =< 0.99: go to 13, else go to 14\n",
      "   |        |  |     |\n",
      "   |        |  |     |  |->15  [array(['Red'], dtype='<U3')]\n",
      "   |        |  |     |  |\n",
      "   |        |  |     |->14 else if ['Chlorides'] =< 0.05: go to 15, else go to 16\n",
      "   |        |  |        |\n",
      "   |        |  |        |  |->17  [array(['Red'], dtype='<U3')]\n",
      "   |        |  |        |  |\n",
      "   |        |  |        |->16 else if ['Sulphates'] =< 0.45: go to 17, else go to 18\n",
      "   |        |  |           |\n",
      "   |        |  |           |->18  [array(['Red'], dtype='<U3')]\n",
      "   |        |  |\n",
      "   |        |->9 else if ['Residual sugar'] =< 10.70: go to 10, else go to 19\n",
      "   |           |\n",
      "   |           |->19  [array(['White'], dtype='<U5')]\n",
      "   |\n",
      "if ['Total sulfur dioxide'] =< 66.50: go to 1, else go to 20\n",
      "   |\n",
      "   |                 |->26  [array(['Red'], dtype='<U3')]\n",
      "   |                 |\n",
      "   |              |->25 then if ['Chlorides'] =< 0.01: go to 26, else go to 27\n",
      "   |              |  |\n",
      "   |              |  |        |->30  [array(['White'], dtype='<U5')]\n",
      "   |              |  |        |\n",
      "   |              |  |     |->29 then if ['Citric acid'] =< 0.10: go to 30, else go to 31\n",
      "   |              |  |     |  |\n",
      "   |              |  |     |  |  |->32  [array(['White'], dtype='<U5')]\n",
      "   |              |  |     |  |  |\n",
      "   |              |  |     |  |->31 else if ['Total sulfur dioxide'] =< 72.50: go to 32, else go to 33\n",
      "   |              |  |     |     |\n",
      "   |              |  |     |     |  |->34  [array(['White'], dtype='<U5')]\n",
      "   |              |  |     |     |  |\n",
      "   |              |  |     |     |->33 else if ['Residual sugar'] =< 0.92: go to 34, else go to 35\n",
      "   |              |  |     |        |\n",
      "   |              |  |     |        |        |->38  [array(['White'], dtype='<U5')]\n",
      "   |              |  |     |        |        |\n",
      "   |              |  |     |        |     |->37 then if ['Free sulfur dioxide'] =< 6.50: go to 38, else go to 39\n",
      "   |              |  |     |        |     |  |\n",
      "   |              |  |     |        |     |  |        |->42  [array(['White'], dtype='<U5')]\n",
      "   |              |  |     |        |     |  |        |\n",
      "   |              |  |     |        |     |  |     |->41 then if ['pH'] =< 3.31: go to 42, else go to 43\n",
      "   |              |  |     |        |     |  |     |  |\n",
      "   |              |  |     |        |     |  |     |  |->43  [array(['White'], dtype='<U5')]\n",
      "   |              |  |     |        |     |  |     |\n",
      "   |              |  |     |        |     |  |  |->40 then if ['Citric acid'] =< 0.23: go to 41, else go to 44\n",
      "   |              |  |     |        |     |  |  |  |\n",
      "   |              |  |     |        |     |  |  |  |->44  [array(['White'], dtype='<U5')]\n",
      "   |              |  |     |        |     |  |  |\n",
      "   |              |  |     |        |     |  |->39 else if ['Sulphates'] =< 0.75: go to 40, else go to 45\n",
      "   |              |  |     |        |     |     |\n",
      "   |              |  |     |        |     |     |->45  [array(['White'], dtype='<U5')]\n",
      "   |              |  |     |        |     |\n",
      "   |              |  |     |        |  |->36 then if ['Alcohol'] =< 13.58: go to 37, else go to 46\n",
      "   |              |  |     |        |  |  |\n",
      "   |              |  |     |        |  |  |->46  [array(['White'], dtype='<U5')]\n",
      "   |              |  |     |        |  |\n",
      "   |              |  |     |        |->35 else if ['Sulphates'] =< 0.78: go to 36, else go to 47\n",
      "   |              |  |     |           |\n",
      "   |              |  |     |           |->47  [array(['White'], dtype='<U5')]\n",
      "   |              |  |     |\n",
      "   |              |  |  |->28 then if ['Total sulfur dioxide'] =< 275.00: go to 29, else go to 48\n",
      "   |              |  |  |  |\n",
      "   |              |  |  |  |->48  [array(['White'], dtype='<U5')]\n",
      "   |              |  |  |\n",
      "   |              |  |->27 else if ['Sulphates'] =< 0.81: go to 28, else go to 49\n",
      "   |              |     |\n",
      "   |              |     |->49  [array(['White'], dtype='<U5')]\n",
      "   |              |\n",
      "   |           |->24 then if ['pH'] =< 3.83: go to 25, else go to 50\n",
      "   |           |  |\n",
      "   |           |  |->50  [array(['Red'], dtype='<U3')]\n",
      "   |           |\n",
      "   |        |->23 then if ['Chlorides'] =< 0.07: go to 24, else go to 51\n",
      "   |        |  |\n",
      "   |        |  |->51  [array(['White'], dtype='<U5')]\n",
      "   |        |\n",
      "   |     |->22 then if ['Sulphates'] =< 1.12: go to 23, else go to 52\n",
      "   |     |  |\n",
      "   |     |  |->52  [array(['Red'], dtype='<U3')]\n",
      "   |     |\n",
      "   |  |->21 then if ['Volatile acidity'] =< 0.82: go to 22, else go to 53\n",
      "   |  |  |\n",
      "   |  |  |->53  [array(['Red'], dtype='<U3')]\n",
      "   |  |\n",
      "   |->20 else if ['Chlorides'] =< 0.07: go to 21, else go to 54\n",
      "      |\n",
      "      |     |->56  [array(['Red'], dtype='<U3')]\n",
      "      |     |\n",
      "      |  |->55 then if ['Citric acid'] =< 0.06: go to 56, else go to 57\n",
      "      |  |  |\n",
      "      |  |  |  |->58  [array(['Red'], dtype='<U3')]\n",
      "      |  |  |  |\n",
      "      |  |  |->57 else if ['Chlorides'] =< 0.07: go to 58, else go to 59\n",
      "      |  |     |\n",
      "      |  |     |     |->61  [array(['Red'], dtype='<U3')]\n",
      "      |  |     |     |\n",
      "      |  |     |  |->60 then if ['Total sulfur dioxide'] =< 68.50: go to 61, else go to 62\n",
      "      |  |     |  |  |\n",
      "      |  |     |  |  |->62  [array(['White'], dtype='<U5')]\n",
      "      |  |     |  |\n",
      "      |  |     |->59 else if ['Fixed acidity'] =< 9.95: go to 60, else go to 63\n",
      "      |  |        |\n",
      "      |  |        |->63  [array(['Red'], dtype='<U3')]\n",
      "      |  |\n",
      "      |->54 else if ['Density'] =< 1.00: go to 55, else go to 64\n",
      "         |\n",
      "         |        |->67  [array(['White'], dtype='<U5')]\n",
      "         |        |\n",
      "         |     |->66 then if ['Volatile acidity'] =< 0.23: go to 67, else go to 68\n",
      "         |     |  |\n",
      "         |     |  |->68  [array(['Red'], dtype='<U3')]\n",
      "         |     |\n",
      "         |  |->65 then if ['Total sulfur dioxide'] =< 157.50: go to 66, else go to 69\n",
      "         |  |  |\n",
      "         |  |  |->69  [array(['White'], dtype='<U5')]\n",
      "         |  |\n",
      "         |->64 else if ['Residual sugar'] =< 6.25: go to 65, else go to 70\n",
      "            |\n",
      "            |->70  [array(['White'], dtype='<U5')]\n",
      "<---------------------------------------------------------------------------------------->\n",
      "Tree Depth:  18\n"
     ]
    }
   ],
   "source": [
    "tp.tree_print(dtree, attributeNames, classNames)"
   ]
  },
  {
   "cell_type": "markdown",
   "metadata": {},
   "source": [
    "If we look at the visualised tree again we can see that the attributes it uses to identify the wine are the following:\n",
    "\n",
    "The sample is first split on Total Sulfur Dioxide, The sample is lower than 66.50 so we go to 1.\n",
    "\n",
    "Secondly the sample is split on the attribute Chlorides. Our sample contains less than 0.05 so we continue to two.\n",
    "\n",
    "Lastly our sample is split on the attribute Sulphates.  Our sample contains more than 0.56 so we continue to leaf 4. \n",
    "\n",
    "Which classifies the wine as a white wine. "
   ]
  },
  {
   "cell_type": "markdown",
   "metadata": {},
   "source": [
    "#### 3.1.4\n",
    "(1 pts) Classify all the wines in the wine data set. What percentage of the wine data is classified correctly by the tree?\n",
    "\n"
   ]
  },
  {
   "cell_type": "code",
   "execution_count": 6,
   "metadata": {},
   "outputs": [],
   "source": [
    "from sklearn.metrics import confusion_matrix"
   ]
  },
  {
   "cell_type": "code",
   "execution_count": 9,
   "metadata": {},
   "outputs": [
    {
     "data": {
      "text/plain": [
       "array([[1447,   70],\n",
       "       [  13, 4774]], dtype=int64)"
      ]
     },
     "execution_count": 9,
     "metadata": {},
     "output_type": "execute_result"
    }
   ],
   "source": [
    "Prediction = dtree.predict(X)\n",
    "\n",
    "confusion_matrix(Y, Prediction)\n",
    "\n"
   ]
  },
  {
   "cell_type": "code",
   "execution_count": 14,
   "metadata": {},
   "outputs": [
    {
     "name": "stdout",
     "output_type": "stream",
     "text": [
      "              precision    recall  f1-score   support\n",
      "\n",
      "           0       0.99      0.95      0.97      1517\n",
      "           1       0.99      1.00      0.99      4787\n",
      "\n",
      "    accuracy                           0.99      6304\n",
      "   macro avg       0.99      0.98      0.98      6304\n",
      "weighted avg       0.99      0.99      0.99      6304\n",
      "\n",
      "0.9868337563451777\n"
     ]
    }
   ],
   "source": [
    "print(sk.metrics.classification_report(Y, Prediction))\n",
    "print(sk.metrics.accuracy_score(Y, Prediction))"
   ]
  },
  {
   "cell_type": "markdown",
   "metadata": {},
   "source": [
    "In the confusion matrix, and with the classification report we can see that our model classifies (roughly) 99% accurate. This is a clear case of overfitting. Which is off course explained when we think about the data we used to train our tree. We used ALL of the available data, so our decision tree has seen all test data before, there is no real validation whatsoever.   "
   ]
  },
  {
   "cell_type": "markdown",
   "metadata": {},
   "source": [
    "## 3.2 Decision tree pruning using cross-validation\n",
    "\n",
    "In this exercise we will use cross-validation to prune a decision tree. When applying cross-validation the observed data is split into training and test sets, i.e., `X_train`, `y_train` and `X_test` and `y_test`. We train the model on the training data and evaluate the performance of the trained model on the test data.\n",
    "\n",
    "#### 3.2.1\n",
    "(2 pts) We are again using the wine data set `Data/wine.mat`. Divide the data into a training and a test data set (see hints!). Fit a decision tree to the training data using the Gini (`gdi`) splitting criterion.\n",
    "\n",
    "Now, we want to find an optimally pruned decision tree by *modifying its maximum depth*. For different values of the parameter `depth` (from 2 to 20), \n",
    "+ first fit the decision tree\n",
    "+ then compute the classification error on the training and test set (this is called holdout cross-validation)\n",
    "\n",
    "When you've done this for `depth` values 2,...,20, plot the training and test classification error as a function of the tree depth in the same figure. This will show us what the optimal pruning depth is for the training set, but also how well this generalizes to a test set. \n",
    "\n",
    "\n",
    "** hints: **  \n",
    "*Take a look at the module `sklearn.model_selection` and see how it can be used to partition the data into a training and a test set (holdout validation, `train_test_split()` function). Note that the package also contains functions to partition data for K-fold cross-validation. Some of the functions can ensure that both training and test sets have roughly the same class proportions. The error is 1-accuracy. The easiest way to compute the accuracy is by using the sklearn metrics module: \n",
    " https://scikit-learn.org/stable/modules/generated/sklearn.metrics.accuracy_score.html *\n",
    "\n",
    "What appears to be the optimal tree depth? Do you get the same result when you run your code again, generating a new random split between training and test data?\n"
   ]
  },
  {
   "cell_type": "code",
   "execution_count": 1,
   "metadata": {},
   "outputs": [],
   "source": [
    "import scipy.io as sio \n",
    "import scipy as sc\n",
    "import numpy as np\n",
    "import pandas as pd\n",
    "import sklearn as sk\n",
    "from sklearn import model_selection , tree\n",
    "\n",
    "#Load the data and assign it to a variable:\n",
    "WineData = sio.loadmat('wine.mat')\n",
    "\n",
    "X = pd.DataFrame.from_dict(WineData['X'])\n",
    "Y = WineData['y'].ravel()\n",
    "\n",
    "#We split the training and test set \n",
    "X_Train, Y_Train, X_Test, Y_Test = sk.model_selection.train_test_split(X,Y,test_size=0.25)\n",
    "\n"
   ]
  },
  {
   "cell_type": "code",
   "execution_count": 105,
   "metadata": {},
   "outputs": [],
   "source": [
    "#For training the d-tree classifiers we can use a loop\n",
    "#We will use a array to store accuracy, and append the values of the accuracy to this array\n",
    "trainaccuracy = np.array([])\n",
    "testaccuracy = np.array([])\n",
    "\n",
    "for i in range(2,20):\n",
    "    dtree=sk.tree.DecisionTreeClassifier(criterion='gini', max_depth=i)\n",
    "    dtree=dtree.fit(X_Train,X_Test)\n",
    "    #Predict the model\n",
    "    X_TrainPred = dtree.predict(X_Train)\n",
    "    Y_TrainPred = dtree.predict(Y_Train)\n",
    "    trainaccuracy = np.append(trainaccuracy,sk.metrics.accuracy_score(X_Test,X_TrainPred))\n",
    "    testaccuracy=np.append(testaccuracy, sk.metrics.accuracy_score(Y_Test,Y_TrainPred))\n",
    "    \n"
   ]
  },
  {
   "cell_type": "code",
   "execution_count": 108,
   "metadata": {},
   "outputs": [
    {
     "data": {
      "image/png": "[encoded data removed]",
      "text/plain": [
       "<Figure size 432x288 with 1 Axes>"
      ]
     },
     "metadata": {
      "needs_background": "light"
     },
     "output_type": "display_data"
    }
   ],
   "source": [
    "import matplotlib.pyplot as plt\n",
    "\n",
    "plt.plot(range(2,20),trainaccuracy, label='accuracy train set')\n",
    "plt.plot(range(2,20),testaccuracy, label='accuracy test set')\n",
    "plt.legend()\n",
    "plt.xlabel('tree depth')\n",
    "plt.ylabel('prediction accuracy')\n",
    "plt.show()"
   ]
  },
  {
   "cell_type": "markdown",
   "metadata": {},
   "source": [
    "The optimal tree depth seems to be around 5.0 because that depth has the highest accuracy. However the highest accuracy is sometimes not the best model. Since it get a score of near 99% accuracy this reeks of overfitting. \n",
    "\n",
    "I have tried re-running the model, with different radom training and validation sets, however, the model still didn't really impove, in the sense that, the model still overfitted every time I ran a new run with other training and validation sets. So re-running this model with this data doens't really affect the accuracy"
   ]
  },
  {
   "cell_type": "markdown",
   "metadata": {},
   "source": [
    "#### 3.2.2\n",
    "(1.5 pts) Repeat the exercise above, using 10-fold cross-validation. K-fold cross-validation works by splitting X into K partitions of equal length. Then in each fold, you choose K-1 partitions as the training set and the remaining partition as the test set. Every partition gets a turn being a test set. For a very nice simple explanation of how (and why) K-fold works, check out http://www.dummies.com/programming/big-data/data-science/resorting-cross-validation-machine-learning/\n",
    "\n",
    "\n",
    "For each fold, fit a decision tree on the training set and evaluate its performance on the test set. Finally, compute the average classification errors on the test- and training sets across the 10 cross-validation folds and plot them as a function of the tree depth.\n",
    "\n",
    "** hints: **\n",
    "*This time the `KFold()` function from the module `sklearn.model_selection` can be used to partition the data into the 10 training and test partitions. Check out http://scikit-learn.org/stable/modules/cross_validation.html#k-fold for an example of how to acces the indices for the training set and the test set in each fold. Those indices can then be used to create the training and test set, e.g. `X_train = X[train_indices]`*\n",
    "\n",
    "*If you are creating a for loop iterating over an object where you both need the index and the elements of the object, you can enumerate the object. For example:*\n",
    "\n",
    "`\n",
    "for index, (element) in enumerate(object):\n",
    "    array[index] = operation(element)\n",
    "`\n",
    " \n",
    "\n",
    "What appears to be the optimal tree depth? Do you get the same result when you run your code again, generating a new random split between training and test data? How about 100-fold cross-validation?\n"
   ]
  },
  {
   "cell_type": "code",
   "execution_count": 3,
   "metadata": {},
   "outputs": [],
   "source": [
    "#We will be using the function KFold() and Split() to partition the data\n",
    "Folds = sk.model_selection.KFold(n_splits=10, shuffle=False, random_state=None)\n"
   ]
  },
  {
   "cell_type": "code",
   "execution_count": 37,
   "metadata": {},
   "outputs": [
    {
     "name": "stdout",
     "output_type": "stream",
     "text": [
      "0.9934776265420494\n",
      "0.9707049083647077\n"
     ]
    }
   ],
   "source": [
    "train_accuracy = np.array([])\n",
    "test_accuracy = np.array([])\n",
    "\n",
    "for i in range(2,20):\n",
    "    for j, fold in enumerate(Folds.split(X)):\n",
    "        dtree=sk.tree.DecisionTreeClassifier(criterion='gini',max_depth=i)\n",
    "        XTrainfolded = X.iloc[fold[0]]\n",
    "        yTrainfolded = Y[fold[0]]\n",
    "        XTestfolded = X.iloc[fold[1]]\n",
    "        yTestfolded = Y[fold[1]]\n",
    "        dtree=dtree.fit(XTrainfolded,yTrainfolded)\n",
    "        PredTrain = dtree.predict(XTrainfolded)\n",
    "        PredTest = dtree.predict(XTestfolded)\n",
    "        train_accuracy = np.append(train_accuracy,sk.metrics.accuracy_score(PredTrain, yTrainfolded))\n",
    "        test_accuracy = np.append(test_accuracy,sk.metrics.accuracy_score(PredTest, yTestfolded))\n",
    "\n",
    "        \n",
    "print(np.mean(train_accuracy))\n",
    "print(np.mean(test_accuracy))"
   ]
  },
  {
   "cell_type": "code",
   "execution_count": 83,
   "metadata": {},
   "outputs": [],
   "source": [
    "#Since we appended the d-tree score to a array, the array contains all of the scores in a one-dimensional array. \n",
    "#This means we have 180 different accuracies for the different models, trained with different folds \n",
    "#However, we would need the data with just 18 accuracies, one for every tree depth.\n",
    "#We will reshape the data and take the mean. \n",
    "test_accuracyRESHAPED =  np.reshape(test_accuracy, (-1, 10))\n",
    "train_accuracyRESHAPED =  np.reshape(train_accuracy, (-1, 10))"
   ]
  },
  {
   "cell_type": "code",
   "execution_count": 91,
   "metadata": {},
   "outputs": [
    {
     "name": "stdout",
     "output_type": "stream",
     "text": [
      "Averages for tree depth 2\n",
      "0.9194636882750988\n",
      "0.959126556661268\n",
      "Averages for tree depth 3\n",
      "0.9548169949437779\n",
      "0.9775629025454414\n",
      "Averages for tree depth 4\n",
      "0.9709893592936382\n",
      "0.9870453460513755\n",
      "Averages for tree depth 5\n",
      "0.9708293713681988\n",
      "0.990658593995477\n",
      "Averages for tree depth 6\n",
      "0.9722574396900864\n",
      "0.9928969732826545\n",
      "Averages for tree depth 7\n",
      "0.9773292581691948\n",
      "0.994430379424369\n",
      "Averages for tree depth 8\n",
      "0.9762201594848188\n",
      "0.9955584215804091\n",
      "Averages for tree depth 9\n",
      "0.9759016929539909\n",
      "0.9965454355551074\n",
      "Averages for tree depth 10\n",
      "0.9763778834301814\n",
      "0.997144706688411\n",
      "Averages for tree depth 11\n",
      "0.9749503182149775\n",
      "0.9977792138968944\n",
      "Averages for tree depth 12\n",
      "0.9747903302895379\n",
      "0.9983608483524696\n",
      "Averages for tree depth 13\n",
      "0.9755839810831887\n",
      "0.9988014794802209\n",
      "Averages for tree depth 14\n",
      "0.9765348527155183\n",
      "0.9991363526753971\n",
      "Averages for tree depth 15\n",
      "0.9763748647900787\n",
      "0.9992597317522518\n",
      "Averages for tree depth 16\n",
      "0.9758999320805977\n",
      "0.9994888594416123\n",
      "Averages for tree depth 17\n",
      "0.9744731215254194\n",
      "0.999559365765559\n",
      "Averages for tree depth 18\n",
      "0.9741544034412497\n",
      "0.9995946173741874\n",
      "Averages for tree depth 19\n",
      "0.9757406988151839\n",
      "0.9996474932337852\n"
     ]
    }
   ],
   "source": [
    "for i in range(18):\n",
    "    print('Averages for tree depth ' + str(i+2))\n",
    "    print(np.mean(test_accuracyRESHAPED[i]))\n",
    "    print(np.mean(train_accuracyRESHAPED[i]))\n"
   ]
  },
  {
   "cell_type": "code",
   "execution_count": 6,
   "metadata": {},
   "outputs": [],
   "source": [
    "import matplotlib.pyplot as plt\n"
   ]
  },
  {
   "cell_type": "code",
   "execution_count": 107,
   "metadata": {},
   "outputs": [
    {
     "data": {
      "image/png": "[encoded data removed]",
      "text/plain": [
       "<Figure size 432x288 with 1 Axes>"
      ]
     },
     "metadata": {
      "needs_background": "light"
     },
     "output_type": "display_data"
    }
   ],
   "source": [
    "plt.plot(range(2,20),meanedTrainAccuracy, label='accuracy train set')\n",
    "plt.plot(range(2,20),meanedTestAccuracy, label='accuracy test set')\n",
    "plt.legend()\n",
    "plt.xlabel('tree depth')\n",
    "plt.ylabel('prediction accuracy')\n",
    "plt.show()\n"
   ]
  },
  {
   "cell_type": "markdown",
   "metadata": {},
   "source": [
    "As we can see in the plot above, I would argue that using K-Fold cross validation is way more consistent (more a round function, not sharp) than not using K-Fold cross validation. This can be explained because every data points is at least ones used for training, and for validation. Because of this property K-Fold is very usefull when your data set is small. \n",
    "\n",
    "The above graph was 10 folds over the dataset (for every tree depth). The 100 Fold model was even more consistent, with the accuracy of the testset almost as a straight line. I notices however that the accuracy for every fold could greatly vary. I saw values ranging between 65% and 100% accuracy depending on the validation and test set. So this is a argument why you should always try and re-run training a model. Sometimes the accuracy can be improved just because the selection of training and validation sets are in perfect 'balance'.\n"
   ]
  },
  {
   "cell_type": "markdown",
   "metadata": {},
   "source": [
    " ## 3.3 ROC curves, AUC scores, and the sign test\n",
    "\n",
    "In this exercise we will use ROC curves and the sign test to compare classifiers. Study the lecture slides and the paper 'ROC Graphs: Notes and Practical Considerations for Researchers' by Tom Fawcett included with the homework assignment (ROC101.pdf). It describes all you need to know (and much, much more..) about ROC curves. The method explained for computing the area under the curve is unnecessarily complicated. A simpler formula is:\n",
    "$$\n",
    "    \\mbox{AUC} = {1 \\over m n} \\sum_{i=1}^m \\sum_{j=1}^n \\mathbf{\\large 1}_{p_i > p_j} \\: .\n",
    "   $$\n",
    "Here $i$ runs over all $m$ data points with true label 1, and $j$ runs over all $n$ data points with true label $0$; $p_i$ and $p_j$ denote the probability score assigned by the classifier to data point $i$ and $j$, respectively. $\\mathbf{\\large 1}$ is the indicator function: it outputs $1$ if the condition (here $p_i > p_j$) is satisfied and $0$ otherwise. *Simply put: this formula computes how often the probability of a data point with true label 1 is higher than the probability of data points with true label 0. This is then divided by the total number of comparisons between probabilities.*\n",
    "    \n",
    "\n",
    "#### 3.3.1\n",
    "(0.25 pts) To make sure you understand how ROC works, make an ROC curve and calculate the AUC (on paper) with the following data:\n",
    "\n",
    "`\n",
    "labels = [0,0,0,1,0,1,1,0,1,1]\n",
    "classifier_probs = [0.1,0.2,0.3,0.4,0.5,0.6,0.7,0.8,0.9,0.99]\n",
    "`\n",
    "    \n",
    "What's the AUC you calculated? Do you think this classifier works well?\n"
   ]
  },
  {
   "cell_type": "markdown",
   "metadata": {},
   "source": [
    "The AUC I calculated is: 0.84. This accuracy is quite high but not too high to be considered overfitting. Thus, I would argue this is a very decent model and the classifier works well."
   ]
  },
  {
   "cell_type": "markdown",
   "metadata": {},
   "source": [
    "#### 3.3.2\n",
    "  Load the file `Data/classprobs.xls` using the Pandas `read_excel` function. Inspect the data and cast it to an array with the `.values` attribute. The first column gives the true class label (either 0 or 1). The second and third column give the probabilistic scores for two different classifiers. The higher this probability, the more certain the classifier is that the example belongs to class 1 (instead of class 0).\n"
   ]
  },
  {
   "cell_type": "code",
   "execution_count": 43,
   "metadata": {},
   "outputs": [
    {
     "name": "stdout",
     "output_type": "stream",
     "text": [
      "[[0.       0.13591  0.099401]\n",
      " [0.       0.55549  0.65075 ]\n",
      " [0.       0.23876  0.50857 ]\n",
      " [0.       0.14542  0.23629 ]\n",
      " [1.       0.81876  0.48949 ]\n",
      " [0.       0.50594  0.038203]\n",
      " [1.       0.93954  0.23982 ]\n",
      " [1.       0.22339  0.62287 ]\n",
      " [0.       0.31219  0.57823 ]\n",
      " [0.       0.19486  0.61664 ]]\n"
     ]
    }
   ],
   "source": [
    "classprobs=pd.read_excel('classprobs.xls')\n",
    "classprobs=classprobs.values()\n",
    "\n",
    "\n",
    "ClassLabel = classprobs[:,0]\n",
    "probscore1 = classprobs[:,1]\n",
    "probscore2 = classprobs[:,2]\n",
    "\n",
    "print(classprobs[0:10])"
   ]
  },
  {
   "cell_type": "markdown",
   "metadata": {},
   "source": [
    "#### 3.3.3\n",
    "(1 pts) Calculate the ROC curves for both of the classifiers by calculating the FP and TP rates and plot them in the same plot. Make the plot yourself as opposed to using a library! Also plot a dashed line on the diagonal to represent random guessing in the same figure. Interpret the obtained results. Do both classifiers perform better than random guessing?\n",
    "\n",
    "** hints: **  \n",
    "*The function `sklearn.metrics.roc_curve` can be used for computing the FP and TP rates. You can then plot them using the `matplotlib.pyplot` `plot` function. Check the documentation on how to plot a dashed line. Remember to include a legend!* \n",
    "\n",
    "**An extra tip: the sign test example below includes a figure with dashed lines and a legend...**\n",
    " "
   ]
  },
  {
   "cell_type": "code",
   "execution_count": 55,
   "metadata": {},
   "outputs": [
    {
     "data": {
      "image/png": "[encoded data removed]",
      "text/plain": [
       "<Figure size 432x288 with 1 Axes>"
      ]
     },
     "metadata": {
      "needs_background": "light"
     },
     "output_type": "display_data"
    }
   ],
   "source": [
    "#The functione roc_curve() gives us the false positives (falsely identified as positive), \n",
    "#he true positive (correctly identified) and a treshold. \n",
    "falsepositive1, truepositive1, treshold1 = sk.metrics.roc_curve(classprobs[:,0],classprobs[:,1])\n",
    "falsepositive2, truepositive2, treshold2 = sk.metrics.roc_curve(classprobs[:,0],classprobs[:,2])\n",
    "\n",
    "plt.plot(falsepositive1,truepositive1, label='classifier one')\n",
    "plt.plot(falsepositive2,truepositive2, label='classifier two')\n",
    "plt.plot(np.linspace(0,1,len(treshold1)),\n",
    "         np.linspace(0,1,len(treshold1)),\n",
    "         '--', label='random guessing')\n",
    "plt.xlim(0,1)\n",
    "plt.ylim(0,1)\n",
    "plt.ylabel('True positive rate')\n",
    "plt.xlabel('False positive rate')\n",
    "plt.legend(loc=4)\n",
    "plt.show()\n",
    "\n"
   ]
  },
  {
   "cell_type": "markdown",
   "metadata": {},
   "source": [
    "So as we can see in the plot above, we can clearly state that both classifiers are better than random guessing. "
   ]
  },
  {
   "cell_type": "markdown",
   "metadata": {},
   "source": [
    "#### 3.3.4\n",
    "(0.5 pts) Compute the AUC scores (area under the curve) of both classifiers using the formula given above. **Write your own code for this calculation.** Do the AUC scores indicate that the classifiers are performing better than this baseline?\n",
    "\n",
    "\n",
    "\n",
    "\n",
    " "
   ]
  },
  {
   "cell_type": "code",
   "execution_count": null,
   "metadata": {},
   "outputs": [],
   "source": []
  },
  {
   "cell_type": "code",
   "execution_count": null,
   "metadata": {},
   "outputs": [],
   "source": []
  },
  {
   "cell_type": "markdown",
   "metadata": {},
   "source": [
    "----\n",
    "write your answer here\n",
    "\n",
    "----"
   ]
  },
  {
   "cell_type": "markdown",
   "metadata": {},
   "source": [
    "\n",
    "#### 3.3.5\n",
    "(0.25 pts) Using a threshold of 0.5, translate the probability scores to predicted class labels, and compute the accuracy for each of the classifiers.\n",
    "\n",
    "** hint: **\n",
    "\n",
    "*Take a look at https://scikit-learn.org/stable/modules/generated/sklearn.metrics.accuracy_score.html *"
   ]
  },
  {
   "cell_type": "code",
   "execution_count": null,
   "metadata": {},
   "outputs": [],
   "source": []
  },
  {
   "cell_type": "markdown",
   "metadata": {},
   "source": [
    "#### 3.3.6\n",
    "(1 pts) Create the 2x2 table (or array, or list, or dataframe..) of wrong and correct classifications by the first and the second classifier, like in the lecture slides (lecture on model evaluation, part on the sign test). Perform a sign test to test whether the performance of the two classifiers is significantly different at a significance level of 0.05. **If you are not familiar with sign testing, you can read the example provided below.**\n",
    "\n",
    "\n",
    "** hints: **  \n",
    "*As explained in the lecture slides, the sign test is a binomial test on the lower-left ($N_{1<2}$) and upper-right ($N_{1>2}$) elements of the cross table. Unlike in the lecture slides, here you need to perform a two-sided test: $$\\textrm{p-value} = P(W \\leq \\min(N_{1<2},N_{1>2}) \\textrm{ or } W \\geq  \\max(N_{1<2},N_{1>2})$$\n",
    "The function `scipy.stats.binom.cdf` can be used to compute the cumulative density of the binomial distribution.\n",
    "For more information on the sign test, see the included paper by Salzberg (signtest.pdf, in particular section 3.1).*"
   ]
  },
  {
   "cell_type": "code",
   "execution_count": null,
   "metadata": {},
   "outputs": [],
   "source": []
  },
  {
   "cell_type": "markdown",
   "metadata": {},
   "source": [
    "----\n",
    "write your answer here\n",
    "\n",
    "----"
   ]
  },
  {
   "cell_type": "markdown",
   "metadata": {},
   "source": [
    "## Example two-sided sign test\n",
    "\n",
    "Imagine you have a lucky coin, that you are certain does not result in heads 50% of the times you flip it. However, you friend (lets call him *zero_hypothesis*) claims that your coin is just like his random coin. To verify whether this is true, you decide to compare the performance (you are a scientist after all) of your lucky coin resulting in heads to the performance of his random coin resulting in heads with a sign test. How do you do this?\n",
    "\n",
    "First, you collect data. Assume you place 23 bets. During those 23 bets, you both flip your respective coins. It was determined that if one of you flipped head while the other didn't, that person won the bet, and the other person lost. If you both got the same outcome, neither of you won. 1 stands for head, and 0 for tails. These were your results:"
   ]
  },
  {
   "cell_type": "code",
   "execution_count": 1,
   "metadata": {},
   "outputs": [
    {
     "name": "stdout",
     "output_type": "stream",
     "text": [
      "----------lucky | random \n",
      " bet 0      | 1 | 0\n",
      " bet 1      | 1 | 1\n",
      " bet 2      | 1 | 0\n",
      " bet 3      | 0 | 1\n",
      " bet 4      | 1 | 0\n",
      " bet 5      | 1 | 1\n",
      " bet 6      | 1 | 0\n",
      " bet 7      | 1 | 0\n",
      " bet 8      | 1 | 0\n",
      " bet 9      | 0 | 1\n",
      " bet 10     | 1 | 0\n",
      " bet 11     | 1 | 1\n",
      " bet 12     | 1 | 0\n",
      " bet 13     | 1 | 1\n",
      " bet 14     | 0 | 1\n",
      " bet 15     | 1 | 1\n",
      " bet 16     | 1 | 1\n",
      " bet 17     | 0 | 0\n",
      " bet 18     | 1 | 0\n",
      " bet 19     | 1 | 0\n",
      " bet 20     | 1 | 0\n",
      " bet 21     | 0 | 0\n",
      " bet 22     | 1 | 0\n",
      " -----\n",
      "\n"
     ]
    }
   ],
   "source": [
    "import numpy as np\n",
    "from scipy.stats import binom\n",
    "import matplotlib.pyplot as plt\n",
    "\n",
    "#results\n",
    "lucky_coin = np.array([1,1,1,0,1,1,1,1,1,0,1,1,1,1,0,1,1,0,1,1,1,0,1])\n",
    "random_coin= np.array([0,1,0,1,0,1,0,0,0,1,0,1,0,1,1,1,1,0,0,0,0,0,0])\n",
    "\n",
    "print('----------lucky | random \\n',*['bet {:<5}  | {} | {}\\n'.format(t[0],t[1],t[2]) for t in zip(range(0,len(lucky_coin)),lucky_coin,random_coin)],'-----\\n')"
   ]
  },
  {
   "cell_type": "markdown",
   "metadata": {},
   "source": [
    "Now you calculate how often in any pair of outcomes one coin *won*, i.e. one coin flipped to head while the other flipped to tails."
   ]
  },
  {
   "cell_type": "code",
   "execution_count": 2,
   "metadata": {},
   "outputs": [
    {
     "name": "stdout",
     "output_type": "stream",
     "text": [
      "The lucky coin won 12 times, while the random won 3 times.\n"
     ]
    }
   ],
   "source": [
    "N_l = sum((lucky_coin == 1) & (random_coin == 0)) #how often your lucky coin won\n",
    "N_r = sum((lucky_coin == 0) & (random_coin == 1)) #how often the random coin won\n",
    "N = N_l + N_r #how often one coin was a winner\n",
    "print('The lucky coin won {} times, while the random won {} times.'.format(N_l,N_r))"
   ]
  },
  {
   "cell_type": "markdown",
   "metadata": {},
   "source": [
    "You observed 15 times that one coin won. If both coins resulted in heads 50% of the time, like *zero_hypothesis* stated, you'd expect that both coins have 50% chance of being the winner. So the probability distributions for both N_l and N_r should look something like this, assuming that *zero_hypothesis* is right:"
   ]
  },
  {
   "cell_type": "code",
   "execution_count": 3,
   "metadata": {},
   "outputs": [
    {
     "data": {
      "image/png": "[encoded data removed]",
      "text/plain": [
       "<Figure size 432x288 with 1 Axes>"
      ]
     },
     "metadata": {},
     "output_type": "display_data"
    }
   ],
   "source": [
    "b = binom(N,0.5) #N=observations of inequality, p=prob of one coin being better, which is 0.5 according to your H0\n",
    "plt.plot(b.pmf(range(N+1)), '--o',label = 'Probability density')\n",
    "plt.plot(b.cdf(range(N+1)), '--o',label = 'Cumulative distribution')\n",
    "plt.legend()\n",
    "plt.xlabel('Number of times one coin is better than the other')\n",
    "plt.ylabel('Probability')\n",
    "plt.title('Distribution according to H0')\n",
    "plt.show()"
   ]
  },
  {
   "cell_type": "markdown",
   "metadata": {},
   "source": [
    "(Of course this is a discrete probability function, so you're not interested in values between integers.)\n",
    "\n",
    "As you can see, according to *zero_hypothesis*, 7 and 8 are the most likely values for both N_l and N_r. But this is not what you observed in your data. To conclude that *H0* is false, you need to show that your outcome is unlikely under the assumption that *H0* is true: the values you observed are so extreme that these values or more extreme values occur less than 5% of the time (*p-value < 0.05*). So how unlikely is it that one coin is better 12 times or more, and the other is better 3 times or less?\n",
    "\n",
    "It's the sum of the values of the probability density function (pdf or pmf in the python doc) at  0,1,2 and 3, plus the sum of the values of the pdf at 12,13,14 and 15. \n",
    "\n",
    "This is equal to the value of the cumulative distribution function (cdf) at 3, plus 1 minus the value of cdf at 11 (since `1-cdf(11)` represents the probability of observing 12 or bigger)."
   ]
  },
  {
   "cell_type": "code",
   "execution_count": 4,
   "metadata": {},
   "outputs": [
    {
     "name": "stdout",
     "output_type": "stream",
     "text": [
      "The p-value is 0.035\n"
     ]
    }
   ],
   "source": [
    "p_value = b.cdf(min(N_r,N_l)) + (1-b.cdf(max(N_r,N_l)-1))\n",
    "print('The p-value is {:.3f}'.format(p_value))"
   ]
  },
  {
   "cell_type": "markdown",
   "metadata": {},
   "source": [
    "So your observations are very unlikely if *zero_hypothesis* is right. By statistical theory, you can now say that you have significant reason to reject their opinion. Now the hardest part of statistics: convincing your non-scientist friends."
   ]
  }
 ],
 "metadata": {
  "anaconda-cloud": {},
  "kernelspec": {
   "display_name": "Python 3",
   "language": "python",
   "name": "python3"
  },
  "language_info": {
   "codemirror_mode": {
    "name": "ipython",
    "version": 3
   },
   "file_extension": ".py",
   "mimetype": "text/x-python",
   "name": "python",
   "nbconvert_exporter": "python",
   "pygments_lexer": "ipython3",
   "version": "3.7.3"
  }
 },
 "nbformat": 4,
 "nbformat_minor": 1
}
